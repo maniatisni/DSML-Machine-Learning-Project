{
 "cells": [
  {
   "cell_type": "code",
   "execution_count": 14,
   "metadata": {
    "execution": {
     "iopub.execute_input": "2021-03-15T11:23:24.214040Z",
     "iopub.status.busy": "2021-03-15T11:23:24.214040Z",
     "iopub.status.idle": "2021-03-15T11:23:24.225188Z",
     "shell.execute_reply": "2021-03-15T11:23:24.224218Z",
     "shell.execute_reply.started": "2021-03-15T11:23:24.214040Z"
    }
   },
   "outputs": [],
   "source": [
    "import pandas as pd\n",
    "import numpy as np\n",
    "import matplotlib.pyplot as plt\n",
    "import seaborn as sns\n",
    "from sklearn import preprocessing\n",
    "from sklearn.model_selection import train_test_split\n",
    "from sklearn.model_selection import cross_val_score,KFold\n",
    "from sklearn.ensemble import RandomForestRegressor\n",
    "from sklearn.linear_model import LinearRegression,Ridge,Lasso,ElasticNet\n",
    "from sklearn.neighbors import KNeighborsRegressor\n",
    "from sklearn.tree import DecisionTreeRegressor\n",
    "from sklearn.neural_network import MLPRegressor\n",
    "from sklearn.ensemble import ExtraTreesRegressor\n",
    "import xgboost as xgb\n",
    "from xgboost import XGBRegressor\n",
    "from sklearn.kernel_ridge import KernelRidge\n",
    "from sklearn.multioutput import MultiOutputRegressor\n",
    "from sklearn.model_selection import GridSearchCV\n",
    "from sklearn.model_selection import RandomizedSearchCV"
   ]
  },
  {
   "cell_type": "markdown",
   "metadata": {},
   "source": [
    "### Data Set Information:\n",
    "\n",
    "The experiments have been carried out by means of a numerical simulator of a naval vessel (Frigate) characterized by a Gas Turbine (GT) propulsion plant. The different blocks forming the complete simulator (Propeller, Hull, GT, Gear Box and Controller) have been developed and fine tuned over the year on several similar real propulsion plants. In view of these observations the available data are in agreement with a possible real vessel.\n",
    "In this release of the simulator it is also possible to take into account the performance decay over time of the GT components such as GT compressor and turbines.\n",
    "The propulsion system behaviour has been described with this parameters:\n",
    "- Ship speed (linear function of the lever position lp).\n",
    "- Compressor degradation coefficient kMc.\n",
    "- Turbine degradation coefficient kMt.\n",
    "so that each possible degradation state can be described by a combination of this triple (lp,kMt,kMc).\n",
    "The range of decay of compressor and turbine has been sampled with an uniform grid of precision 0.001 so to have a good granularity of representation.\n",
    "In particular for the compressor decay state discretization the kMc coefficient has been investigated in the domain [1; 0.95], and the turbine coefficient in the domain [1; 0.975].\n",
    "Ship speed has been investigated sampling the range of feasible speed from 3 knots to 27 knots with a granularity of representation equal to tree knots.\n",
    "A series of measures (16 features) which indirectly represents of the state of the system subject to performance decay has been acquired and stored in the dataset over the parameter's space.\n"
   ]
  },
  {
   "cell_type": "markdown",
   "metadata": {},
   "source": [
    "### Attribute Information:\n",
    "\n",
    "- A 16-feature vector containing the GT measures at steady state of the physical asset:\n",
    "- Lever position (lp) [ ]\n",
    "- Ship speed (v) [knots]\n",
    "- Gas Turbine (GT) shaft torque (GTT) [kN m]\n",
    "- GT rate of revolutions (GTn) [rpm]\n",
    "- Gas Generator rate of revolutions (GGn) [rpm]\n",
    "- Starboard Propeller Torque (Ts) [kN]\n",
    "- Port Propeller Torque (Tp) [kN]\n",
    "- Hight Pressure (HP) Turbine exit temperature (T48) [C]\n",
    "- GT Compressor inlet air temperature (T1) [C]\n",
    "- GT Compressor outlet air temperature (T2) [C]\n",
    "- HP Turbine exit pressure (P48) [bar]\n",
    "- GT Compressor inlet air pressure (P1) [bar]\n",
    "- GT Compressor outlet air pressure (P2) [bar]\n",
    "- GT exhaust gas pressure (Pexh) [bar]\n",
    "- Turbine Injecton Control (TIC) [%]\n",
    "- Fuel flow (mf) [kg/s]\n",
    "-----------------------------\n",
    "Want we want to predict is:\n",
    "- GT Compressor decay state coefficient\n",
    "- GT Turbine decay state coefficient"
   ]
  },
  {
   "cell_type": "code",
   "execution_count": 2,
   "metadata": {
    "execution": {
     "iopub.execute_input": "2021-03-15T11:14:18.972908Z",
     "iopub.status.busy": "2021-03-15T11:14:18.971917Z",
     "iopub.status.idle": "2021-03-15T11:14:19.128910Z",
     "shell.execute_reply": "2021-03-15T11:14:19.128910Z",
     "shell.execute_reply.started": "2021-03-15T11:14:18.972908Z"
    }
   },
   "outputs": [],
   "source": [
    "columns = ['lever_position', 'ship_speed', 'gt_shaft', 'gt_rate', 'gg_rate', 'sp_torque', 'pp_torque', \\\n",
    "                    'hpt_temp', 'gt_c_i_temp', 'gt_c_o_temp', 'hpt_pressure', 'gt_c_i_pressure', 'gt_c_o_pressure', \\\n",
    "                    'gt_exhaust_pressure', 'turbine_inj_control', 'fuel_flow', 'gt_c_decay',  'gt_t_decay']\n",
    "\n",
    "df = pd.read_table('./datasets/data.txt',delim_whitespace=True,names=columns)"
   ]
  },
  {
   "cell_type": "code",
   "execution_count": 3,
   "metadata": {
    "execution": {
     "iopub.execute_input": "2021-03-15T11:18:06.969577Z",
     "iopub.status.busy": "2021-03-15T11:18:06.968546Z",
     "iopub.status.idle": "2021-03-15T11:18:07.001555Z",
     "shell.execute_reply": "2021-03-15T11:18:07.000575Z",
     "shell.execute_reply.started": "2021-03-15T11:18:06.969577Z"
    }
   },
   "outputs": [
    {
     "data": {
      "text/html": [
       "<div>\n",
       "<style scoped>\n",
       "    .dataframe tbody tr th:only-of-type {\n",
       "        vertical-align: middle;\n",
       "    }\n",
       "\n",
       "    .dataframe tbody tr th {\n",
       "        vertical-align: top;\n",
       "    }\n",
       "\n",
       "    .dataframe thead th {\n",
       "        text-align: right;\n",
       "    }\n",
       "</style>\n",
       "<table border=\"1\" class=\"dataframe\">\n",
       "  <thead>\n",
       "    <tr style=\"text-align: right;\">\n",
       "      <th></th>\n",
       "      <th>lever_position</th>\n",
       "      <th>ship_speed</th>\n",
       "      <th>gt_shaft</th>\n",
       "      <th>gt_rate</th>\n",
       "      <th>gg_rate</th>\n",
       "      <th>sp_torque</th>\n",
       "      <th>pp_torque</th>\n",
       "      <th>hpt_temp</th>\n",
       "      <th>gt_c_i_temp</th>\n",
       "      <th>gt_c_o_temp</th>\n",
       "      <th>hpt_pressure</th>\n",
       "      <th>gt_c_i_pressure</th>\n",
       "      <th>gt_c_o_pressure</th>\n",
       "      <th>gt_exhaust_pressure</th>\n",
       "      <th>turbine_inj_control</th>\n",
       "      <th>fuel_flow</th>\n",
       "      <th>gt_c_decay</th>\n",
       "      <th>gt_t_decay</th>\n",
       "    </tr>\n",
       "  </thead>\n",
       "  <tbody>\n",
       "    <tr>\n",
       "      <th>0</th>\n",
       "      <td>1.138</td>\n",
       "      <td>3.0</td>\n",
       "      <td>289.964</td>\n",
       "      <td>1349.489</td>\n",
       "      <td>6677.380</td>\n",
       "      <td>7.584</td>\n",
       "      <td>7.584</td>\n",
       "      <td>464.006</td>\n",
       "      <td>288.0</td>\n",
       "      <td>550.563</td>\n",
       "      <td>1.096</td>\n",
       "      <td>0.998</td>\n",
       "      <td>5.947</td>\n",
       "      <td>1.019</td>\n",
       "      <td>7.137</td>\n",
       "      <td>0.082</td>\n",
       "      <td>0.95</td>\n",
       "      <td>0.975</td>\n",
       "    </tr>\n",
       "    <tr>\n",
       "      <th>1</th>\n",
       "      <td>2.088</td>\n",
       "      <td>6.0</td>\n",
       "      <td>6960.180</td>\n",
       "      <td>1376.166</td>\n",
       "      <td>6828.469</td>\n",
       "      <td>28.204</td>\n",
       "      <td>28.204</td>\n",
       "      <td>635.401</td>\n",
       "      <td>288.0</td>\n",
       "      <td>581.658</td>\n",
       "      <td>1.331</td>\n",
       "      <td>0.998</td>\n",
       "      <td>7.282</td>\n",
       "      <td>1.019</td>\n",
       "      <td>10.655</td>\n",
       "      <td>0.287</td>\n",
       "      <td>0.95</td>\n",
       "      <td>0.975</td>\n",
       "    </tr>\n",
       "    <tr>\n",
       "      <th>2</th>\n",
       "      <td>3.144</td>\n",
       "      <td>9.0</td>\n",
       "      <td>8379.229</td>\n",
       "      <td>1386.757</td>\n",
       "      <td>7111.811</td>\n",
       "      <td>60.358</td>\n",
       "      <td>60.358</td>\n",
       "      <td>606.002</td>\n",
       "      <td>288.0</td>\n",
       "      <td>587.587</td>\n",
       "      <td>1.389</td>\n",
       "      <td>0.998</td>\n",
       "      <td>7.574</td>\n",
       "      <td>1.020</td>\n",
       "      <td>13.086</td>\n",
       "      <td>0.259</td>\n",
       "      <td>0.95</td>\n",
       "      <td>0.975</td>\n",
       "    </tr>\n",
       "    <tr>\n",
       "      <th>3</th>\n",
       "      <td>4.161</td>\n",
       "      <td>12.0</td>\n",
       "      <td>14724.395</td>\n",
       "      <td>1547.465</td>\n",
       "      <td>7792.630</td>\n",
       "      <td>113.774</td>\n",
       "      <td>113.774</td>\n",
       "      <td>661.471</td>\n",
       "      <td>288.0</td>\n",
       "      <td>613.851</td>\n",
       "      <td>1.658</td>\n",
       "      <td>0.998</td>\n",
       "      <td>9.007</td>\n",
       "      <td>1.022</td>\n",
       "      <td>18.109</td>\n",
       "      <td>0.358</td>\n",
       "      <td>0.95</td>\n",
       "      <td>0.975</td>\n",
       "    </tr>\n",
       "    <tr>\n",
       "      <th>4</th>\n",
       "      <td>5.140</td>\n",
       "      <td>15.0</td>\n",
       "      <td>21636.432</td>\n",
       "      <td>1924.313</td>\n",
       "      <td>8494.777</td>\n",
       "      <td>175.306</td>\n",
       "      <td>175.306</td>\n",
       "      <td>731.494</td>\n",
       "      <td>288.0</td>\n",
       "      <td>645.642</td>\n",
       "      <td>2.078</td>\n",
       "      <td>0.998</td>\n",
       "      <td>11.197</td>\n",
       "      <td>1.026</td>\n",
       "      <td>26.373</td>\n",
       "      <td>0.522</td>\n",
       "      <td>0.95</td>\n",
       "      <td>0.975</td>\n",
       "    </tr>\n",
       "  </tbody>\n",
       "</table>\n",
       "</div>"
      ],
      "text/plain": [
       "   lever_position  ship_speed   gt_shaft   gt_rate   gg_rate  sp_torque  \\\n",
       "0           1.138         3.0    289.964  1349.489  6677.380      7.584   \n",
       "1           2.088         6.0   6960.180  1376.166  6828.469     28.204   \n",
       "2           3.144         9.0   8379.229  1386.757  7111.811     60.358   \n",
       "3           4.161        12.0  14724.395  1547.465  7792.630    113.774   \n",
       "4           5.140        15.0  21636.432  1924.313  8494.777    175.306   \n",
       "\n",
       "   pp_torque  hpt_temp  gt_c_i_temp  gt_c_o_temp  hpt_pressure  \\\n",
       "0      7.584   464.006        288.0      550.563         1.096   \n",
       "1     28.204   635.401        288.0      581.658         1.331   \n",
       "2     60.358   606.002        288.0      587.587         1.389   \n",
       "3    113.774   661.471        288.0      613.851         1.658   \n",
       "4    175.306   731.494        288.0      645.642         2.078   \n",
       "\n",
       "   gt_c_i_pressure  gt_c_o_pressure  gt_exhaust_pressure  turbine_inj_control  \\\n",
       "0            0.998            5.947                1.019                7.137   \n",
       "1            0.998            7.282                1.019               10.655   \n",
       "2            0.998            7.574                1.020               13.086   \n",
       "3            0.998            9.007                1.022               18.109   \n",
       "4            0.998           11.197                1.026               26.373   \n",
       "\n",
       "   fuel_flow  gt_c_decay  gt_t_decay  \n",
       "0      0.082        0.95       0.975  \n",
       "1      0.287        0.95       0.975  \n",
       "2      0.259        0.95       0.975  \n",
       "3      0.358        0.95       0.975  \n",
       "4      0.522        0.95       0.975  "
      ]
     },
     "execution_count": 3,
     "metadata": {},
     "output_type": "execute_result"
    }
   ],
   "source": [
    "df.head()"
   ]
  },
  {
   "cell_type": "markdown",
   "metadata": {},
   "source": [
    "Παρατηρούμε ότι δεν έχουμε missing values."
   ]
  },
  {
   "cell_type": "code",
   "execution_count": 4,
   "metadata": {
    "execution": {
     "iopub.execute_input": "2021-03-15T11:18:12.290732Z",
     "iopub.status.busy": "2021-03-15T11:18:12.289723Z",
     "iopub.status.idle": "2021-03-15T11:18:12.301806Z",
     "shell.execute_reply": "2021-03-15T11:18:12.300782Z",
     "shell.execute_reply.started": "2021-03-15T11:18:12.290732Z"
    }
   },
   "outputs": [
    {
     "data": {
      "text/plain": [
       "lever_position         0\n",
       "ship_speed             0\n",
       "gt_shaft               0\n",
       "gt_rate                0\n",
       "gg_rate                0\n",
       "sp_torque              0\n",
       "pp_torque              0\n",
       "hpt_temp               0\n",
       "gt_c_i_temp            0\n",
       "gt_c_o_temp            0\n",
       "hpt_pressure           0\n",
       "gt_c_i_pressure        0\n",
       "gt_c_o_pressure        0\n",
       "gt_exhaust_pressure    0\n",
       "turbine_inj_control    0\n",
       "fuel_flow              0\n",
       "gt_c_decay             0\n",
       "gt_t_decay             0\n",
       "dtype: int64"
      ]
     },
     "execution_count": 4,
     "metadata": {},
     "output_type": "execute_result"
    }
   ],
   "source": [
    "df.isna().sum()"
   ]
  },
  {
   "cell_type": "code",
   "execution_count": 5,
   "metadata": {
    "execution": {
     "iopub.execute_input": "2021-03-13T20:02:12.288908Z",
     "iopub.status.busy": "2021-03-13T20:02:12.288908Z",
     "iopub.status.idle": "2021-03-13T20:02:12.315907Z",
     "shell.execute_reply": "2021-03-13T20:02:12.315907Z",
     "shell.execute_reply.started": "2021-03-13T20:02:12.288908Z"
    }
   },
   "outputs": [
    {
     "data": {
      "text/plain": [
       "lever_position             9\n",
       "ship_speed                 9\n",
       "gt_shaft               11430\n",
       "gt_rate                 3888\n",
       "gg_rate                11834\n",
       "sp_torque               4286\n",
       "pp_torque               4286\n",
       "hpt_temp               11772\n",
       "gt_c_i_temp                1\n",
       "gt_c_o_temp            11506\n",
       "hpt_pressure             524\n",
       "gt_c_i_pressure            1\n",
       "gt_c_o_pressure         4209\n",
       "gt_exhaust_pressure       19\n",
       "turbine_inj_control     8496\n",
       "fuel_flow                696\n",
       "gt_c_decay                51\n",
       "gt_t_decay                26\n",
       "dtype: int64"
      ]
     },
     "execution_count": 5,
     "metadata": {},
     "output_type": "execute_result"
    }
   ],
   "source": [
    "df.nunique()"
   ]
  },
  {
   "cell_type": "markdown",
   "metadata": {},
   "source": [
    "Βλέπουμε εδώ ότι οι στήλες `gt_c_i_temp` και `gt_c_i_pressure` έχουν μόνο μια μοναδική τιμή οπότε τις αφήνουμε."
   ]
  },
  {
   "cell_type": "code",
   "execution_count": 5,
   "metadata": {
    "execution": {
     "iopub.execute_input": "2021-03-15T11:18:59.567865Z",
     "iopub.status.busy": "2021-03-15T11:18:59.566835Z",
     "iopub.status.idle": "2021-03-15T11:18:59.582891Z",
     "shell.execute_reply": "2021-03-15T11:18:59.582891Z",
     "shell.execute_reply.started": "2021-03-15T11:18:59.567865Z"
    }
   },
   "outputs": [],
   "source": [
    "df = df.drop(columns=['gt_c_i_temp','gt_c_i_pressure'])"
   ]
  },
  {
   "cell_type": "code",
   "execution_count": 6,
   "metadata": {
    "execution": {
     "iopub.execute_input": "2021-03-15T11:19:01.962921Z",
     "iopub.status.busy": "2021-03-15T11:19:01.961922Z",
     "iopub.status.idle": "2021-03-15T11:19:01.992921Z",
     "shell.execute_reply": "2021-03-15T11:19:01.991920Z",
     "shell.execute_reply.started": "2021-03-15T11:19:01.961922Z"
    }
   },
   "outputs": [
    {
     "data": {
      "text/html": [
       "<div>\n",
       "<style scoped>\n",
       "    .dataframe tbody tr th:only-of-type {\n",
       "        vertical-align: middle;\n",
       "    }\n",
       "\n",
       "    .dataframe tbody tr th {\n",
       "        vertical-align: top;\n",
       "    }\n",
       "\n",
       "    .dataframe thead th {\n",
       "        text-align: right;\n",
       "    }\n",
       "</style>\n",
       "<table border=\"1\" class=\"dataframe\">\n",
       "  <thead>\n",
       "    <tr style=\"text-align: right;\">\n",
       "      <th></th>\n",
       "      <th>lever_position</th>\n",
       "      <th>ship_speed</th>\n",
       "      <th>gt_shaft</th>\n",
       "      <th>gt_rate</th>\n",
       "      <th>gg_rate</th>\n",
       "      <th>sp_torque</th>\n",
       "      <th>pp_torque</th>\n",
       "      <th>hpt_temp</th>\n",
       "      <th>gt_c_o_temp</th>\n",
       "      <th>hpt_pressure</th>\n",
       "      <th>gt_c_o_pressure</th>\n",
       "      <th>gt_exhaust_pressure</th>\n",
       "      <th>turbine_inj_control</th>\n",
       "      <th>fuel_flow</th>\n",
       "      <th>gt_c_decay</th>\n",
       "      <th>gt_t_decay</th>\n",
       "    </tr>\n",
       "  </thead>\n",
       "  <tbody>\n",
       "    <tr>\n",
       "      <th>0</th>\n",
       "      <td>1.138</td>\n",
       "      <td>3.0</td>\n",
       "      <td>289.964</td>\n",
       "      <td>1349.489</td>\n",
       "      <td>6677.380</td>\n",
       "      <td>7.584</td>\n",
       "      <td>7.584</td>\n",
       "      <td>464.006</td>\n",
       "      <td>550.563</td>\n",
       "      <td>1.096</td>\n",
       "      <td>5.947</td>\n",
       "      <td>1.019</td>\n",
       "      <td>7.137</td>\n",
       "      <td>0.082</td>\n",
       "      <td>0.95</td>\n",
       "      <td>0.975</td>\n",
       "    </tr>\n",
       "    <tr>\n",
       "      <th>1</th>\n",
       "      <td>2.088</td>\n",
       "      <td>6.0</td>\n",
       "      <td>6960.180</td>\n",
       "      <td>1376.166</td>\n",
       "      <td>6828.469</td>\n",
       "      <td>28.204</td>\n",
       "      <td>28.204</td>\n",
       "      <td>635.401</td>\n",
       "      <td>581.658</td>\n",
       "      <td>1.331</td>\n",
       "      <td>7.282</td>\n",
       "      <td>1.019</td>\n",
       "      <td>10.655</td>\n",
       "      <td>0.287</td>\n",
       "      <td>0.95</td>\n",
       "      <td>0.975</td>\n",
       "    </tr>\n",
       "    <tr>\n",
       "      <th>2</th>\n",
       "      <td>3.144</td>\n",
       "      <td>9.0</td>\n",
       "      <td>8379.229</td>\n",
       "      <td>1386.757</td>\n",
       "      <td>7111.811</td>\n",
       "      <td>60.358</td>\n",
       "      <td>60.358</td>\n",
       "      <td>606.002</td>\n",
       "      <td>587.587</td>\n",
       "      <td>1.389</td>\n",
       "      <td>7.574</td>\n",
       "      <td>1.020</td>\n",
       "      <td>13.086</td>\n",
       "      <td>0.259</td>\n",
       "      <td>0.95</td>\n",
       "      <td>0.975</td>\n",
       "    </tr>\n",
       "    <tr>\n",
       "      <th>3</th>\n",
       "      <td>4.161</td>\n",
       "      <td>12.0</td>\n",
       "      <td>14724.395</td>\n",
       "      <td>1547.465</td>\n",
       "      <td>7792.630</td>\n",
       "      <td>113.774</td>\n",
       "      <td>113.774</td>\n",
       "      <td>661.471</td>\n",
       "      <td>613.851</td>\n",
       "      <td>1.658</td>\n",
       "      <td>9.007</td>\n",
       "      <td>1.022</td>\n",
       "      <td>18.109</td>\n",
       "      <td>0.358</td>\n",
       "      <td>0.95</td>\n",
       "      <td>0.975</td>\n",
       "    </tr>\n",
       "    <tr>\n",
       "      <th>4</th>\n",
       "      <td>5.140</td>\n",
       "      <td>15.0</td>\n",
       "      <td>21636.432</td>\n",
       "      <td>1924.313</td>\n",
       "      <td>8494.777</td>\n",
       "      <td>175.306</td>\n",
       "      <td>175.306</td>\n",
       "      <td>731.494</td>\n",
       "      <td>645.642</td>\n",
       "      <td>2.078</td>\n",
       "      <td>11.197</td>\n",
       "      <td>1.026</td>\n",
       "      <td>26.373</td>\n",
       "      <td>0.522</td>\n",
       "      <td>0.95</td>\n",
       "      <td>0.975</td>\n",
       "    </tr>\n",
       "  </tbody>\n",
       "</table>\n",
       "</div>"
      ],
      "text/plain": [
       "   lever_position  ship_speed   gt_shaft   gt_rate   gg_rate  sp_torque  \\\n",
       "0           1.138         3.0    289.964  1349.489  6677.380      7.584   \n",
       "1           2.088         6.0   6960.180  1376.166  6828.469     28.204   \n",
       "2           3.144         9.0   8379.229  1386.757  7111.811     60.358   \n",
       "3           4.161        12.0  14724.395  1547.465  7792.630    113.774   \n",
       "4           5.140        15.0  21636.432  1924.313  8494.777    175.306   \n",
       "\n",
       "   pp_torque  hpt_temp  gt_c_o_temp  hpt_pressure  gt_c_o_pressure  \\\n",
       "0      7.584   464.006      550.563         1.096            5.947   \n",
       "1     28.204   635.401      581.658         1.331            7.282   \n",
       "2     60.358   606.002      587.587         1.389            7.574   \n",
       "3    113.774   661.471      613.851         1.658            9.007   \n",
       "4    175.306   731.494      645.642         2.078           11.197   \n",
       "\n",
       "   gt_exhaust_pressure  turbine_inj_control  fuel_flow  gt_c_decay  gt_t_decay  \n",
       "0                1.019                7.137      0.082        0.95       0.975  \n",
       "1                1.019               10.655      0.287        0.95       0.975  \n",
       "2                1.020               13.086      0.259        0.95       0.975  \n",
       "3                1.022               18.109      0.358        0.95       0.975  \n",
       "4                1.026               26.373      0.522        0.95       0.975  "
      ]
     },
     "execution_count": 6,
     "metadata": {},
     "output_type": "execute_result"
    }
   ],
   "source": [
    "df.head()"
   ]
  },
  {
   "cell_type": "markdown",
   "metadata": {},
   "source": [
    "Correlation Matrix"
   ]
  },
  {
   "cell_type": "code",
   "execution_count": 7,
   "metadata": {
    "execution": {
     "iopub.execute_input": "2021-03-15T11:19:05.004116Z",
     "iopub.status.busy": "2021-03-15T11:19:05.004116Z",
     "iopub.status.idle": "2021-03-15T11:19:06.300281Z",
     "shell.execute_reply": "2021-03-15T11:19:06.299280Z",
     "shell.execute_reply.started": "2021-03-15T11:19:05.004116Z"
    }
   },
   "outputs": [
    {
     "data": {
      "text/plain": [
       "<AxesSubplot:>"
      ]
     },
     "execution_count": 7,
     "metadata": {},
     "output_type": "execute_result"
    },
    {
     "data": {
      "image/png": "[encoded data removed]",
      "text/plain": [
       "<Figure size 792x648 with 2 Axes>"
      ]
     },
     "metadata": {
      "needs_background": "light"
     },
     "output_type": "display_data"
    }
   ],
   "source": [
    "# Compute the correlation matrix\n",
    "corr = df.corr()\n",
    "\n",
    "# Generate a mask for the upper triangle\n",
    "mask = np.triu(np.ones_like(corr, dtype=bool))\n",
    "\n",
    "# Set up the matplotlib figure\n",
    "f, ax = plt.subplots(figsize=(11, 9))\n",
    "\n",
    "# Generate a custom diverging colormap\n",
    "cmap = sns.diverging_palette(230, 20, as_cmap=True)\n",
    "\n",
    "# Draw the heatmap with the mask and correct aspect ratio\n",
    "sns.heatmap(corr, mask=mask,\n",
    "            square=True, linewidths=.5, cbar_kws={\"shrink\": .5},annot=True,yticklabels = df.columns.values, xticklabels=df.columns.values)"
   ]
  },
  {
   "cell_type": "markdown",
   "metadata": {},
   "source": [
    "### Train-Test-Split (80\\% Train - 20\\% Test) and Min-Max Scaling"
   ]
  },
  {
   "cell_type": "markdown",
   "metadata": {},
   "source": [
    "Πρώτα εκτελούμε το διαχωρισμό test-train και μετά το min-max scaling ώστε να μην έχουμε διαρροή πληροφορίας από το test set μέσα στο train set (π.χ. πληροφορία από το μέσο όρο)."
   ]
  },
  {
   "cell_type": "code",
   "execution_count": 33,
   "metadata": {
    "execution": {
     "iopub.execute_input": "2021-03-15T11:32:32.596593Z",
     "iopub.status.busy": "2021-03-15T11:32:32.595592Z",
     "iopub.status.idle": "2021-03-15T11:32:32.604128Z",
     "shell.execute_reply": "2021-03-15T11:32:32.603110Z",
     "shell.execute_reply.started": "2021-03-15T11:32:32.596593Z"
    }
   },
   "outputs": [
    {
     "data": {
      "text/plain": [
       "(11934, 16)"
      ]
     },
     "execution_count": 33,
     "metadata": {},
     "output_type": "execute_result"
    }
   ],
   "source": [
    "df.shape"
   ]
  },
  {
   "cell_type": "code",
   "execution_count": 57,
   "metadata": {
    "execution": {
     "iopub.execute_input": "2021-03-15T11:50:02.255199Z",
     "iopub.status.busy": "2021-03-15T11:50:02.255199Z",
     "iopub.status.idle": "2021-03-15T11:50:02.268267Z",
     "shell.execute_reply": "2021-03-15T11:50:02.268267Z",
     "shell.execute_reply.started": "2021-03-15T11:50:02.255199Z"
    }
   },
   "outputs": [
    {
     "name": "stdout",
     "output_type": "stream",
     "text": [
      "(11934, 14)\n",
      "(11934, 2)\n"
     ]
    }
   ],
   "source": [
    "X = df.drop(columns=['gt_c_decay','gt_t_decay'])\n",
    "y = df[['gt_c_decay','gt_t_decay']]\n",
    "print(X.shape)\n",
    "print(y.shape)"
   ]
  },
  {
   "cell_type": "code",
   "execution_count": 58,
   "metadata": {
    "execution": {
     "iopub.execute_input": "2021-03-15T11:50:03.591290Z",
     "iopub.status.busy": "2021-03-15T11:50:03.590257Z",
     "iopub.status.idle": "2021-03-15T11:50:03.609522Z",
     "shell.execute_reply": "2021-03-15T11:50:03.609522Z",
     "shell.execute_reply.started": "2021-03-15T11:50:03.591290Z"
    }
   },
   "outputs": [],
   "source": [
    "X_train_unsc, X_test_unsc, y_train_unsc, y_test_unsc = train_test_split(X,y, test_size=0.3, random_state=75)"
   ]
  },
  {
   "cell_type": "code",
   "execution_count": 59,
   "metadata": {
    "execution": {
     "iopub.execute_input": "2021-03-15T11:50:06.802456Z",
     "iopub.status.busy": "2021-03-15T11:50:06.802456Z",
     "iopub.status.idle": "2021-03-15T11:50:06.811651Z",
     "shell.execute_reply": "2021-03-15T11:50:06.810706Z",
     "shell.execute_reply.started": "2021-03-15T11:50:06.802456Z"
    }
   },
   "outputs": [],
   "source": [
    "X_train, X_test, y_train, y_test = train_test_split(\n",
    "    X, y, test_size=0.2, random_state=75)"
   ]
  },
  {
   "cell_type": "code",
   "execution_count": 72,
   "metadata": {
    "execution": {
     "iopub.execute_input": "2021-03-15T11:53:00.696653Z",
     "iopub.status.busy": "2021-03-15T11:53:00.696653Z",
     "iopub.status.idle": "2021-03-15T11:53:00.725669Z",
     "shell.execute_reply": "2021-03-15T11:53:00.724700Z",
     "shell.execute_reply.started": "2021-03-15T11:53:00.696653Z"
    }
   },
   "outputs": [],
   "source": [
    "scaler_x = preprocessing.MinMaxScaler()\n",
    "scaler_y = preprocessing.MinMaxScaler()\n",
    "\n",
    "X_train = pd.DataFrame(scaler_x.fit_transform(X_train_unsc))\n",
    "X_test = pd.DataFrame(scaler_x.fit_transform(X_test_unsc))\n",
    "y_train = pd.DataFrame(scaler_y.fit_transform(y_train_unsc))\n",
    "y_test = pd.DataFrame(scaler_y.fit_transform(y_test_unsc))"
   ]
  },
  {
   "cell_type": "code",
   "execution_count": 73,
   "metadata": {
    "execution": {
     "iopub.execute_input": "2021-03-15T11:53:01.603816Z",
     "iopub.status.busy": "2021-03-15T11:53:01.603816Z",
     "iopub.status.idle": "2021-03-15T11:53:01.611854Z",
     "shell.execute_reply": "2021-03-15T11:53:01.611854Z",
     "shell.execute_reply.started": "2021-03-15T11:53:01.603816Z"
    }
   },
   "outputs": [
    {
     "name": "stdout",
     "output_type": "stream",
     "text": [
      "X train shape: (8353, 14)\n",
      "X test shape: (3581, 14)\n",
      "y train shape: (8353, 2)\n",
      "y test shape: (3581, 2)\n"
     ]
    }
   ],
   "source": [
    "print('X train shape:',X_train.shape)\n",
    "print('X test shape:',X_test.shape)\n",
    "print('y train shape:',y_train.shape)\n",
    "print('y test shape:',y_test.shape)"
   ]
  },
  {
   "cell_type": "markdown",
   "metadata": {},
   "source": [
    "### Help function to compare models"
   ]
  },
  {
   "cell_type": "code",
   "execution_count": 19,
   "metadata": {
    "execution": {
     "iopub.execute_input": "2021-03-15T11:24:51.965456Z",
     "iopub.status.busy": "2021-03-15T11:24:51.964425Z",
     "iopub.status.idle": "2021-03-15T11:24:51.978439Z",
     "shell.execute_reply": "2021-03-15T11:24:51.977426Z",
     "shell.execute_reply.started": "2021-03-15T11:24:51.965456Z"
    }
   },
   "outputs": [],
   "source": [
    "#helper function to plot models in train and test sets for easier comparison\n",
    "def compare_models(trainX,trainY,testX,testY,models):\n",
    "    print('\\nCompare Multiple Regressors:')\n",
    "    print('\\nK-Fold Cross-Validation Accuracy:\\n')\n",
    "    \n",
    "    names = []\n",
    "    tempdf = pd.DataFrame(columns=['Name','Dataset','Score','St.Dev'])\n",
    "    for name, model in models:\n",
    "        model.fit(trainX,trainY)\n",
    "        kfold = KFold(n_splits=2,shuffle=True,random_state = 75)\n",
    "        train_accuracy_results = cross_val_score(model, trainX,trainY, cv=kfold)\n",
    "        test_accuracy_results = cross_val_score(model,testX,testY,cv=kfold)\n",
    "        tempdf = tempdf.append({'Name':name,'Dataset':'Train','Score':train_accuracy_results.mean(),\n",
    "                               'St.Dev':train_accuracy_results.std()},ignore_index=True)\n",
    "        tempdf = tempdf.append({'Name':name,'Dataset':'Test','Score':test_accuracy_results.mean(),\n",
    "                               'St.Dev':test_accuracy_results.std()},ignore_index=True)\n",
    "    g = sns.catplot(x = 'Name', y='Score',hue = 'Dataset',data=tempdf, kind='bar',height=7.5, aspect=11.7/7.5)\n",
    "    g.set_xticklabels(rotation=30)\n",
    "    return tempdf,plt.show()"
   ]
  },
  {
   "cell_type": "markdown",
   "metadata": {},
   "source": [
    "## Run Regressors with Default Hyperparameters"
   ]
  },
  {
   "cell_type": "markdown",
   "metadata": {},
   "source": [
    "Καθώς το πρόβλημά μας έχει δύο μεταβλητές που πρέπει να προβλέψουμε, χρησιμοποιούμε από το scikit learn τον `Multi Output Regressor`, σαν wrapper για τους γνωστούς regressors."
   ]
  },
  {
   "cell_type": "code",
   "execution_count": 74,
   "metadata": {
    "execution": {
     "iopub.execute_input": "2021-03-15T11:53:04.693591Z",
     "iopub.status.busy": "2021-03-15T11:53:04.693591Z",
     "iopub.status.idle": "2021-03-15T11:53:04.712007Z",
     "shell.execute_reply": "2021-03-15T11:53:04.710981Z",
     "shell.execute_reply.started": "2021-03-15T11:53:04.693591Z"
    }
   },
   "outputs": [],
   "source": [
    "models = []"
   ]
  },
  {
   "cell_type": "markdown",
   "metadata": {},
   "source": [
    "Βάζουμε Random_Seed = 75 (team name) ώστε να αποτελέσματα να είναι reproducible. "
   ]
  },
  {
   "cell_type": "code",
   "execution_count": 75,
   "metadata": {
    "execution": {
     "iopub.execute_input": "2021-03-15T11:53:05.078992Z",
     "iopub.status.busy": "2021-03-15T11:53:05.078992Z",
     "iopub.status.idle": "2021-03-15T11:53:05.087526Z",
     "shell.execute_reply": "2021-03-15T11:53:05.086561Z",
     "shell.execute_reply.started": "2021-03-15T11:53:05.078992Z"
    }
   },
   "outputs": [],
   "source": [
    "models.append(('MR-LR', MultiOutputRegressor(LinearRegression())))\n",
    "models.append(('MR-RD', MultiOutputRegressor(Ridge())))\n",
    "models.append(('MR-ELAS', MultiOutputRegressor(ElasticNet())))\n",
    "models.append(('MR-DT', MultiOutputRegressor(DecisionTreeRegressor(random_state=75))))\n",
    "models.append(('MR-KRI', MultiOutputRegressor(KernelRidge()) ))\n",
    "models.append(('MR-kNN',MultiOutputRegressor(KNeighborsRegressor())))\n",
    "models.append(('MR-ET',MultiOutputRegressor(ExtraTreesRegressor(random_state=75))))\n",
    "models.append(('MR-RF',MultiOutputRegressor(RandomForestRegressor(random_state=75))))\n",
    "models.append(('MR-XGB', MultiOutputRegressor(XGBRegressor(random_state=75))))"
   ]
  },
  {
   "cell_type": "code",
   "execution_count": 76,
   "metadata": {
    "execution": {
     "iopub.execute_input": "2021-03-15T11:53:05.439800Z",
     "iopub.status.busy": "2021-03-15T11:53:05.439800Z",
     "iopub.status.idle": "2021-03-15T11:53:51.386688Z",
     "shell.execute_reply": "2021-03-15T11:53:51.385688Z",
     "shell.execute_reply.started": "2021-03-15T11:53:05.439800Z"
    }
   },
   "outputs": [
    {
     "name": "stdout",
     "output_type": "stream",
     "text": [
      "\n",
      "Compare Multiple Regressors:\n",
      "\n",
      "K-Fold Cross-Validation Accuracy:\n",
      "\n"
     ]
    },
    {
     "data": {
      "image/png": "[encoded data removed]",
      "text/plain": [
       "<Figure size 902.4x540 with 1 Axes>"
      ]
     },
     "metadata": {
      "needs_background": "light"
     },
     "output_type": "display_data"
    },
    {
     "name": "stdout",
     "output_type": "stream",
     "text": [
      "Wall time: 45.9 s\n"
     ]
    },
    {
     "data": {
      "text/html": [
       "<div>\n",
       "<style scoped>\n",
       "    .dataframe tbody tr th:only-of-type {\n",
       "        vertical-align: middle;\n",
       "    }\n",
       "\n",
       "    .dataframe tbody tr th {\n",
       "        vertical-align: top;\n",
       "    }\n",
       "\n",
       "    .dataframe thead th {\n",
       "        text-align: right;\n",
       "    }\n",
       "</style>\n",
       "<table border=\"1\" class=\"dataframe\">\n",
       "  <thead>\n",
       "    <tr style=\"text-align: right;\">\n",
       "      <th></th>\n",
       "      <th>Name</th>\n",
       "      <th>Dataset</th>\n",
       "      <th>Score</th>\n",
       "      <th>St.Dev</th>\n",
       "    </tr>\n",
       "  </thead>\n",
       "  <tbody>\n",
       "    <tr>\n",
       "      <th>0</th>\n",
       "      <td>MR-LR</td>\n",
       "      <td>Train</td>\n",
       "      <td>0.875159</td>\n",
       "      <td>0.001638</td>\n",
       "    </tr>\n",
       "    <tr>\n",
       "      <th>1</th>\n",
       "      <td>MR-LR</td>\n",
       "      <td>Test</td>\n",
       "      <td>0.877114</td>\n",
       "      <td>0.000861</td>\n",
       "    </tr>\n",
       "    <tr>\n",
       "      <th>2</th>\n",
       "      <td>MR-RD</td>\n",
       "      <td>Train</td>\n",
       "      <td>0.397622</td>\n",
       "      <td>0.004964</td>\n",
       "    </tr>\n",
       "    <tr>\n",
       "      <th>3</th>\n",
       "      <td>MR-RD</td>\n",
       "      <td>Test</td>\n",
       "      <td>0.278085</td>\n",
       "      <td>0.007683</td>\n",
       "    </tr>\n",
       "    <tr>\n",
       "      <th>4</th>\n",
       "      <td>MR-ELAS</td>\n",
       "      <td>Train</td>\n",
       "      <td>-0.000578</td>\n",
       "      <td>0.000006</td>\n",
       "    </tr>\n",
       "    <tr>\n",
       "      <th>5</th>\n",
       "      <td>MR-ELAS</td>\n",
       "      <td>Test</td>\n",
       "      <td>-0.000089</td>\n",
       "      <td>0.000002</td>\n",
       "    </tr>\n",
       "    <tr>\n",
       "      <th>6</th>\n",
       "      <td>MR-DT</td>\n",
       "      <td>Train</td>\n",
       "      <td>0.958434</td>\n",
       "      <td>0.003312</td>\n",
       "    </tr>\n",
       "    <tr>\n",
       "      <th>7</th>\n",
       "      <td>MR-DT</td>\n",
       "      <td>Test</td>\n",
       "      <td>0.911051</td>\n",
       "      <td>0.006145</td>\n",
       "    </tr>\n",
       "    <tr>\n",
       "      <th>8</th>\n",
       "      <td>MR-KRI</td>\n",
       "      <td>Train</td>\n",
       "      <td>0.073432</td>\n",
       "      <td>0.000652</td>\n",
       "    </tr>\n",
       "    <tr>\n",
       "      <th>9</th>\n",
       "      <td>MR-KRI</td>\n",
       "      <td>Test</td>\n",
       "      <td>-0.123784</td>\n",
       "      <td>0.010111</td>\n",
       "    </tr>\n",
       "    <tr>\n",
       "      <th>10</th>\n",
       "      <td>MR-kNN</td>\n",
       "      <td>Train</td>\n",
       "      <td>0.955424</td>\n",
       "      <td>0.004057</td>\n",
       "    </tr>\n",
       "    <tr>\n",
       "      <th>11</th>\n",
       "      <td>MR-kNN</td>\n",
       "      <td>Test</td>\n",
       "      <td>0.911940</td>\n",
       "      <td>0.003589</td>\n",
       "    </tr>\n",
       "    <tr>\n",
       "      <th>12</th>\n",
       "      <td>MR-ET</td>\n",
       "      <td>Train</td>\n",
       "      <td>0.991892</td>\n",
       "      <td>0.000468</td>\n",
       "    </tr>\n",
       "    <tr>\n",
       "      <th>13</th>\n",
       "      <td>MR-ET</td>\n",
       "      <td>Test</td>\n",
       "      <td>0.975010</td>\n",
       "      <td>0.002030</td>\n",
       "    </tr>\n",
       "    <tr>\n",
       "      <th>14</th>\n",
       "      <td>MR-RF</td>\n",
       "      <td>Train</td>\n",
       "      <td>0.984209</td>\n",
       "      <td>0.001075</td>\n",
       "    </tr>\n",
       "    <tr>\n",
       "      <th>15</th>\n",
       "      <td>MR-RF</td>\n",
       "      <td>Test</td>\n",
       "      <td>0.958034</td>\n",
       "      <td>0.000232</td>\n",
       "    </tr>\n",
       "    <tr>\n",
       "      <th>16</th>\n",
       "      <td>MR-XGB</td>\n",
       "      <td>Train</td>\n",
       "      <td>0.984264</td>\n",
       "      <td>0.001391</td>\n",
       "    </tr>\n",
       "    <tr>\n",
       "      <th>17</th>\n",
       "      <td>MR-XGB</td>\n",
       "      <td>Test</td>\n",
       "      <td>0.961410</td>\n",
       "      <td>0.003149</td>\n",
       "    </tr>\n",
       "  </tbody>\n",
       "</table>\n",
       "</div>"
      ],
      "text/plain": [
       "       Name Dataset     Score    St.Dev\n",
       "0     MR-LR   Train  0.875159  0.001638\n",
       "1     MR-LR    Test  0.877114  0.000861\n",
       "2     MR-RD   Train  0.397622  0.004964\n",
       "3     MR-RD    Test  0.278085  0.007683\n",
       "4   MR-ELAS   Train -0.000578  0.000006\n",
       "5   MR-ELAS    Test -0.000089  0.000002\n",
       "6     MR-DT   Train  0.958434  0.003312\n",
       "7     MR-DT    Test  0.911051  0.006145\n",
       "8    MR-KRI   Train  0.073432  0.000652\n",
       "9    MR-KRI    Test -0.123784  0.010111\n",
       "10   MR-kNN   Train  0.955424  0.004057\n",
       "11   MR-kNN    Test  0.911940  0.003589\n",
       "12    MR-ET   Train  0.991892  0.000468\n",
       "13    MR-ET    Test  0.975010  0.002030\n",
       "14    MR-RF   Train  0.984209  0.001075\n",
       "15    MR-RF    Test  0.958034  0.000232\n",
       "16   MR-XGB   Train  0.984264  0.001391\n",
       "17   MR-XGB    Test  0.961410  0.003149"
      ]
     },
     "execution_count": 76,
     "metadata": {},
     "output_type": "execute_result"
    }
   ],
   "source": [
    "%%time\n",
    "models_df,_ = compare_models(X_train,y_train,X_test,y_test, models)\n",
    "models_df"
   ]
  },
  {
   "cell_type": "markdown",
   "metadata": {},
   "source": [
    "## Optimization For Each Regressor Individually"
   ]
  },
  {
   "cell_type": "code",
   "execution_count": 85,
   "metadata": {
    "execution": {
     "iopub.execute_input": "2021-03-15T11:58:23.118256Z",
     "iopub.status.busy": "2021-03-15T11:58:23.118256Z",
     "iopub.status.idle": "2021-03-15T11:58:23.130031Z",
     "shell.execute_reply": "2021-03-15T11:58:23.130031Z",
     "shell.execute_reply.started": "2021-03-15T11:58:23.118256Z"
    }
   },
   "outputs": [],
   "source": [
    "models_opt = []"
   ]
  },
  {
   "cell_type": "markdown",
   "metadata": {},
   "source": [
    "#### 1. Linear Regression"
   ]
  },
  {
   "cell_type": "code",
   "execution_count": 86,
   "metadata": {
    "execution": {
     "iopub.execute_input": "2021-03-15T11:58:24.600870Z",
     "iopub.status.busy": "2021-03-15T11:58:24.600870Z",
     "iopub.status.idle": "2021-03-15T11:58:24.610419Z",
     "shell.execute_reply": "2021-03-15T11:58:24.609418Z",
     "shell.execute_reply.started": "2021-03-15T11:58:24.600870Z"
    }
   },
   "outputs": [
    {
     "name": "stdout",
     "output_type": "stream",
     "text": [
      "Wall time: 0 ns\n"
     ]
    }
   ],
   "source": [
    "%%time\n",
    "LR = LinearRegression()\n",
    "LR_opt = LinearRegression()\n",
    "models_opt.append(('LR*',LR_opt))"
   ]
  },
  {
   "cell_type": "markdown",
   "metadata": {},
   "source": [
    "Ο Ordinary Least Squares Regressor δεν έχει υπερπαραμέτρους προς βελτιστοποίηση."
   ]
  },
  {
   "cell_type": "markdown",
   "metadata": {},
   "source": [
    "**2. Ridge Regressor**"
   ]
  },
  {
   "cell_type": "code",
   "execution_count": 42,
   "metadata": {
    "execution": {
     "iopub.execute_input": "2021-03-13T17:55:37.421498Z",
     "iopub.status.busy": "2021-03-13T17:55:37.421498Z",
     "iopub.status.idle": "2021-03-13T17:55:41.517987Z",
     "shell.execute_reply": "2021-03-13T17:55:41.517987Z",
     "shell.execute_reply.started": "2021-03-13T17:55:37.421498Z"
    },
    "scrolled": true
   },
   "outputs": [
    {
     "name": "stdout",
     "output_type": "stream",
     "text": [
      "Fitting 5 folds for each of 45 candidates, totalling 225 fits\n"
     ]
    },
    {
     "name": "stderr",
     "output_type": "stream",
     "text": [
      "[Parallel(n_jobs=-1)]: Using backend LokyBackend with 12 concurrent workers.\n",
      "[Parallel(n_jobs=-1)]: Done  17 tasks      | elapsed:    3.2s\n"
     ]
    },
    {
     "name": "stdout",
     "output_type": "stream",
     "text": [
      "Wall time: 4.09 s\n"
     ]
    },
    {
     "name": "stderr",
     "output_type": "stream",
     "text": [
      "[Parallel(n_jobs=-1)]: Done 225 out of 225 | elapsed:    3.9s finished\n"
     ]
    },
    {
     "data": {
      "text/plain": [
       "GridSearchCV(cv=KFold(n_splits=5, random_state=75, shuffle=True),\n",
       "             estimator=MultiOutputRegressor(estimator=Ridge()), n_jobs=-1,\n",
       "             param_grid={'estimator__alpha': [0.0, 0.01, 0.05, 0.1, 0.5],\n",
       "                         'estimator__max_iter': [1000, 2000, 5000],\n",
       "                         'estimator__solver': ('svd', 'cholesky', 'lsqr')},\n",
       "             verbose=2)"
      ]
     },
     "execution_count": 42,
     "metadata": {},
     "output_type": "execute_result"
    }
   ],
   "source": [
    "%%time\n",
    "Ridge_ = GridSearchCV(MultiOutputRegressor(Ridge()),param_grid = {'estimator__alpha':[0.0,0.01,0.05,0.1,0.5],\\\n",
    "                                                'estimator__solver':('svd', 'cholesky', 'lsqr'),\n",
    "                                                'estimator__max_iter':[1000,2000,5000]},\n",
    "                                                  cv=KFold(n_splits=5,shuffle=True,random_state = 75),n_jobs=-1,verbose=2)\n",
    "\n",
    "\n",
    "Ridge_.fit(X_train,y_train)"
   ]
  },
  {
   "cell_type": "code",
   "execution_count": 43,
   "metadata": {
    "execution": {
     "iopub.execute_input": "2021-03-13T17:55:41.518986Z",
     "iopub.status.busy": "2021-03-13T17:55:41.518986Z",
     "iopub.status.idle": "2021-03-13T17:55:41.534005Z",
     "shell.execute_reply": "2021-03-13T17:55:41.533005Z",
     "shell.execute_reply.started": "2021-03-13T17:55:41.518986Z"
    }
   },
   "outputs": [
    {
     "data": {
      "text/plain": [
       "MultiOutputRegressor(estimator=Ridge(alpha=0.01, max_iter=1000,\n",
       "                                     solver='cholesky'))"
      ]
     },
     "execution_count": 43,
     "metadata": {},
     "output_type": "execute_result"
    }
   ],
   "source": [
    "Ridge_.best_estimator_"
   ]
  },
  {
   "cell_type": "code",
   "execution_count": 87,
   "metadata": {
    "execution": {
     "iopub.execute_input": "2021-03-15T11:58:27.491549Z",
     "iopub.status.busy": "2021-03-15T11:58:27.491549Z",
     "iopub.status.idle": "2021-03-15T11:58:27.512560Z",
     "shell.execute_reply": "2021-03-15T11:58:27.511559Z",
     "shell.execute_reply.started": "2021-03-15T11:58:27.491549Z"
    }
   },
   "outputs": [
    {
     "name": "stdout",
     "output_type": "stream",
     "text": [
      "Wall time: 7.01 ms\n"
     ]
    },
    {
     "data": {
      "text/plain": [
       "MultiOutputRegressor(estimator=Ridge(alpha=0.01, max_iter=1000,\n",
       "                                     solver='cholesky'))"
      ]
     },
     "execution_count": 87,
     "metadata": {},
     "output_type": "execute_result"
    }
   ],
   "source": [
    "%%time\n",
    "Ridge_opt = MultiOutputRegressor(estimator=Ridge(alpha=0.01, max_iter=1000, solver='cholesky'))\n",
    "Ridge_opt.fit(X_train,y_train)"
   ]
  },
  {
   "cell_type": "code",
   "execution_count": 88,
   "metadata": {
    "execution": {
     "iopub.execute_input": "2021-03-15T11:58:31.693202Z",
     "iopub.status.busy": "2021-03-15T11:58:31.692187Z",
     "iopub.status.idle": "2021-03-15T11:58:31.704188Z",
     "shell.execute_reply": "2021-03-15T11:58:31.703201Z",
     "shell.execute_reply.started": "2021-03-15T11:58:31.693202Z"
    }
   },
   "outputs": [],
   "source": [
    "models_opt.append((\"RD*\",Ridge_opt))"
   ]
  },
  {
   "cell_type": "markdown",
   "metadata": {},
   "source": [
    "Σημαντικότερη παράμετρος: $\\alpha$ καθώς είναι το μέτρο της ποινής που εφαρμόζει στο regression."
   ]
  },
  {
   "cell_type": "markdown",
   "metadata": {},
   "source": [
    "#### 3. Elastic Net"
   ]
  },
  {
   "cell_type": "code",
   "execution_count": 46,
   "metadata": {
    "execution": {
     "iopub.execute_input": "2021-03-13T17:56:34.673784Z",
     "iopub.status.busy": "2021-03-13T17:56:34.673784Z",
     "iopub.status.idle": "2021-03-13T17:58:07.489912Z",
     "shell.execute_reply": "2021-03-13T17:58:07.488911Z",
     "shell.execute_reply.started": "2021-03-13T17:56:34.673784Z"
    }
   },
   "outputs": [
    {
     "name": "stdout",
     "output_type": "stream",
     "text": [
      "Fitting 5 folds for each of 360 candidates, totalling 1800 fits\n"
     ]
    },
    {
     "name": "stderr",
     "output_type": "stream",
     "text": [
      "[Parallel(n_jobs=-1)]: Using backend LokyBackend with 12 concurrent workers.\n",
      "[Parallel(n_jobs=-1)]: Done  17 tasks      | elapsed:    0.5s\n",
      "[Parallel(n_jobs=-1)]: Done 138 tasks      | elapsed:   17.3s\n",
      "[Parallel(n_jobs=-1)]: Done 341 tasks      | elapsed:   49.1s\n",
      "[Parallel(n_jobs=-1)]: Done 624 tasks      | elapsed:  1.4min\n",
      "[Parallel(n_jobs=-1)]: Done 1516 tasks      | elapsed:  1.5min\n",
      "[Parallel(n_jobs=-1)]: Done 1800 out of 1800 | elapsed:  1.5min finished\n",
      "C:\\Users\\nikos\\anaconda3\\lib\\site-packages\\sklearn\\linear_model\\_coordinate_descent.py:529: ConvergenceWarning: Objective did not converge. You might want to increase the number of iterations. Duality gap: 0.34092283518657657, tolerance: 0.020672121520896654\n",
      "  model = cd_fast.enet_coordinate_descent(\n"
     ]
    },
    {
     "name": "stdout",
     "output_type": "stream",
     "text": [
      "Wall time: 1min 32s\n"
     ]
    },
    {
     "name": "stderr",
     "output_type": "stream",
     "text": [
      "C:\\Users\\nikos\\anaconda3\\lib\\site-packages\\sklearn\\linear_model\\_coordinate_descent.py:529: ConvergenceWarning: Objective did not converge. You might want to increase the number of iterations. Duality gap: 0.1463155692245393, tolerance: 0.005340422629098156\n",
      "  model = cd_fast.enet_coordinate_descent(\n"
     ]
    }
   ],
   "source": [
    "%%time\n",
    "EL_ = GridSearchCV(MultiOutputRegressor(ElasticNet()),param_grid = {\n",
    "                      \"estimator__alpha\": [0.001,0.01,0.1,1,2,5],\n",
    "                      \"estimator__l1_ratio\": [0.3,0.4,0.5,0.6,0.7],\n",
    "                        \"estimator__max_iter\":[1000,5000,10000],\n",
    "                        'estimator__tol':[1e-2,1e-3,1e-4,1e-5]},n_jobs=-1,verbose=2,cv=KFold(n_splits=5,shuffle=True,random_state = 75))\n",
    "EL_.fit(X_train,y_train)\n",
    "import warnings\n",
    "warnings.filterwarnings('ignore')"
   ]
  },
  {
   "cell_type": "code",
   "execution_count": 47,
   "metadata": {
    "execution": {
     "iopub.execute_input": "2021-03-13T17:58:30.170413Z",
     "iopub.status.busy": "2021-03-13T17:58:30.170413Z",
     "iopub.status.idle": "2021-03-13T17:58:30.179410Z",
     "shell.execute_reply": "2021-03-13T17:58:30.178444Z",
     "shell.execute_reply.started": "2021-03-13T17:58:30.170413Z"
    }
   },
   "outputs": [
    {
     "data": {
      "text/plain": [
       "MultiOutputRegressor(estimator=ElasticNet(alpha=0.001, l1_ratio=0.3,\n",
       "                                          max_iter=10000, tol=0.01))"
      ]
     },
     "execution_count": 47,
     "metadata": {},
     "output_type": "execute_result"
    }
   ],
   "source": [
    "EL_.best_estimator_"
   ]
  },
  {
   "cell_type": "markdown",
   "metadata": {},
   "source": [
    "Σημαντικότεροι παράμετροι: alpha και l1_ratio."
   ]
  },
  {
   "cell_type": "markdown",
   "metadata": {},
   "source": [
    "**Σημείωση:** Από εδώ και πέρα θα ορίζουμε ξανά τον best estimator, χρησιμοποιώντας τις βέλτιστες υπερπαραμέτρους. Έτσι, όταν θέλουμε να ξαναδουλέψουμε στο πρόβλημα, να έχουμε ήδη ορατή την πληροφορία για το σύνολο τον βέλτιστων υπερπαραμέτρων και να μην χρειάζεται να ξανατρέξουμε το grid search που πολλές φορές παίρνει αρκετή ώρα."
   ]
  },
  {
   "cell_type": "code",
   "execution_count": 89,
   "metadata": {
    "execution": {
     "iopub.execute_input": "2021-03-15T11:58:36.039941Z",
     "iopub.status.busy": "2021-03-15T11:58:36.039941Z",
     "iopub.status.idle": "2021-03-15T11:58:36.202939Z",
     "shell.execute_reply": "2021-03-15T11:58:36.201938Z",
     "shell.execute_reply.started": "2021-03-15T11:58:36.039941Z"
    }
   },
   "outputs": [
    {
     "name": "stdout",
     "output_type": "stream",
     "text": [
      "Wall time: 143 ms\n"
     ]
    },
    {
     "data": {
      "text/plain": [
       "MultiOutputRegressor(estimator=ElasticNet(alpha=0.001, l1_ratio=0.3,\n",
       "                                          max_iter=10000, tol=0.01))"
      ]
     },
     "execution_count": 89,
     "metadata": {},
     "output_type": "execute_result"
    }
   ],
   "source": [
    "%%time\n",
    "EL_opt = MultiOutputRegressor(estimator=ElasticNet(alpha=0.001, l1_ratio=0.3, max_iter=10000,tol=0.01))\n",
    "EL_opt.fit(X_train,y_train)"
   ]
  },
  {
   "cell_type": "code",
   "execution_count": 90,
   "metadata": {
    "execution": {
     "iopub.execute_input": "2021-03-15T11:58:38.086988Z",
     "iopub.status.busy": "2021-03-15T11:58:38.086988Z",
     "iopub.status.idle": "2021-03-15T11:58:38.091996Z",
     "shell.execute_reply": "2021-03-15T11:58:38.090987Z",
     "shell.execute_reply.started": "2021-03-15T11:58:38.086988Z"
    }
   },
   "outputs": [],
   "source": [
    "models_opt.append(('EL*', EL_opt))"
   ]
  },
  {
   "cell_type": "markdown",
   "metadata": {},
   "source": [
    "**Σημείωση 2:** Ο Elastic Net μας βγάζει warning να αυξήσουμε τον αριθμό των επαναλήψεων καθώς δεν συγκλίνει. Όμως όσο και να τον αυξήσουμε, αυτός συνεχίζει να μην συγκλίνει και μας βγάζει συνεχώς το ίδιο warning. "
   ]
  },
  {
   "cell_type": "markdown",
   "metadata": {},
   "source": [
    "**4. Decision Trees** "
   ]
  },
  {
   "cell_type": "code",
   "execution_count": 50,
   "metadata": {
    "execution": {
     "iopub.execute_input": "2021-03-13T18:00:05.976749Z",
     "iopub.status.busy": "2021-03-13T18:00:05.976749Z",
     "iopub.status.idle": "2021-03-13T18:02:15.201900Z",
     "shell.execute_reply": "2021-03-13T18:02:15.200934Z",
     "shell.execute_reply.started": "2021-03-13T18:00:05.976749Z"
    }
   },
   "outputs": [
    {
     "name": "stdout",
     "output_type": "stream",
     "text": [
      "Fitting 2 folds for each of 280 candidates, totalling 560 fits\n"
     ]
    },
    {
     "name": "stderr",
     "output_type": "stream",
     "text": [
      "[Parallel(n_jobs=-1)]: Using backend LokyBackend with 12 concurrent workers.\n",
      "[Parallel(n_jobs=-1)]: Done  17 tasks      | elapsed:    0.3s\n",
      "[Parallel(n_jobs=-1)]: Done 288 tasks      | elapsed:    8.3s\n",
      "[Parallel(n_jobs=-1)]: Done 560 out of 560 | elapsed:  2.1min finished\n"
     ]
    },
    {
     "name": "stdout",
     "output_type": "stream",
     "text": [
      "Wall time: 2min 9s\n"
     ]
    },
    {
     "data": {
      "text/plain": [
       "GridSearchCV(cv=KFold(n_splits=2, random_state=75, shuffle=True),\n",
       "             estimator=MultiOutputRegressor(estimator=DecisionTreeRegressor()),\n",
       "             n_jobs=-1,\n",
       "             param_grid={'estimator__criterion': ['mse', 'mae'],\n",
       "                         'estimator__max_depth': [None, 1, 2, 3, 4, 5, 8],\n",
       "                         'estimator__min_samples_leaf': range(1, 5),\n",
       "                         'estimator__min_samples_split': [2, 3, 5, 8, 10]},\n",
       "             verbose=2)"
      ]
     },
     "execution_count": 50,
     "metadata": {},
     "output_type": "execute_result"
    }
   ],
   "source": [
    "%%time\n",
    "DT_ = GridSearchCV(MultiOutputRegressor(DecisionTreeRegressor()), param_grid = {'estimator__criterion': ['mse', 'mae'],\n",
    "                                                          'estimator__max_depth': [None,1,2,3,4,5,8],\n",
    "                                                         \"estimator__min_samples_split\":[2,3,5,8,10],\n",
    "                                                         \"estimator__min_samples_leaf\":range(1,5)}\n",
    "                                                          ,n_jobs = -1,cv=KFold(n_splits=2,shuffle=True,random_state = 75),verbose=2)\n",
    "DT_.fit(X_train, y_train)"
   ]
  },
  {
   "cell_type": "code",
   "execution_count": 52,
   "metadata": {
    "execution": {
     "iopub.execute_input": "2021-03-13T18:02:26.320734Z",
     "iopub.status.busy": "2021-03-13T18:02:26.320734Z",
     "iopub.status.idle": "2021-03-13T18:02:26.332743Z",
     "shell.execute_reply": "2021-03-13T18:02:26.331732Z",
     "shell.execute_reply.started": "2021-03-13T18:02:26.320734Z"
    }
   },
   "outputs": [
    {
     "data": {
      "text/plain": [
       "MultiOutputRegressor(estimator=DecisionTreeRegressor(min_samples_split=3))"
      ]
     },
     "execution_count": 52,
     "metadata": {},
     "output_type": "execute_result"
    }
   ],
   "source": [
    "DT_.best_estimator_"
   ]
  },
  {
   "cell_type": "markdown",
   "metadata": {},
   "source": [
    "Σημαντικότεροι παράμετροι: το min_samples_split, το max_depth και το κριτήριο mse ή mae."
   ]
  },
  {
   "cell_type": "code",
   "execution_count": 92,
   "metadata": {
    "execution": {
     "iopub.execute_input": "2021-03-15T11:59:05.864186Z",
     "iopub.status.busy": "2021-03-15T11:59:05.863163Z",
     "iopub.status.idle": "2021-03-15T11:59:06.046409Z",
     "shell.execute_reply": "2021-03-15T11:59:06.046409Z",
     "shell.execute_reply.started": "2021-03-15T11:59:05.864186Z"
    }
   },
   "outputs": [
    {
     "name": "stdout",
     "output_type": "stream",
     "text": [
      "Wall time: 169 ms\n"
     ]
    }
   ],
   "source": [
    "%%time\n",
    "DT_opt = MultiOutputRegressor(DecisionTreeRegressor(min_samples_split=3))\n",
    "DT_opt.fit(X_train, y_train)\n",
    "models_opt.append(('DT*',DT_opt))"
   ]
  },
  {
   "cell_type": "markdown",
   "metadata": {},
   "source": [
    "**5. Kernel Ridge Regression**"
   ]
  },
  {
   "cell_type": "code",
   "execution_count": 56,
   "metadata": {
    "execution": {
     "iopub.execute_input": "2021-03-13T18:06:20.238353Z",
     "iopub.status.busy": "2021-03-13T18:06:20.238353Z",
     "iopub.status.idle": "2021-03-13T18:07:13.609934Z",
     "shell.execute_reply": "2021-03-13T18:07:13.608931Z",
     "shell.execute_reply.started": "2021-03-13T18:06:20.238353Z"
    }
   },
   "outputs": [
    {
     "name": "stdout",
     "output_type": "stream",
     "text": [
      "Fitting 2 folds for each of 18 candidates, totalling 36 fits\n"
     ]
    },
    {
     "name": "stderr",
     "output_type": "stream",
     "text": [
      "[Parallel(n_jobs=-1)]: Using backend LokyBackend with 12 concurrent workers.\n",
      "[Parallel(n_jobs=-1)]: Done  32 out of  36 | elapsed:   42.0s remaining:    5.2s\n",
      "[Parallel(n_jobs=-1)]: Done  36 out of  36 | elapsed:   43.8s finished\n"
     ]
    },
    {
     "name": "stdout",
     "output_type": "stream",
     "text": [
      "Wall time: 53.3 s\n"
     ]
    },
    {
     "data": {
      "text/plain": [
       "GridSearchCV(cv=KFold(n_splits=2, random_state=75, shuffle=True),\n",
       "             estimator=MultiOutputRegressor(estimator=KernelRidge()), n_jobs=-1,\n",
       "             param_grid={'estimator__alpha': [1, 0.1, 2],\n",
       "                         'estimator__gamma': [None, 0.1, 0.5],\n",
       "                         'estimator__kernel': ['rbf', 'linear']},\n",
       "             verbose=2)"
      ]
     },
     "execution_count": 56,
     "metadata": {},
     "output_type": "execute_result"
    }
   ],
   "source": [
    "%%time\n",
    "KR_ = GridSearchCV(MultiOutputRegressor(KernelRidge()),\n",
    "                  param_grid={\"estimator__alpha\": [1, 0.1,2],\n",
    "                              \"estimator__gamma\": [None,0.1,0.5],\n",
    "                              \"estimator__kernel\":['rbf','linear']},n_jobs=-1,verbose=2,cv=KFold(n_splits=2,shuffle=True,random_state = 75))\n",
    "KR_.fit(X_train,y_train)"
   ]
  },
  {
   "cell_type": "code",
   "execution_count": 57,
   "metadata": {
    "execution": {
     "iopub.execute_input": "2021-03-13T18:07:13.610931Z",
     "iopub.status.busy": "2021-03-13T18:07:13.610931Z",
     "iopub.status.idle": "2021-03-13T18:07:13.624934Z",
     "shell.execute_reply": "2021-03-13T18:07:13.623930Z",
     "shell.execute_reply.started": "2021-03-13T18:07:13.610931Z"
    }
   },
   "outputs": [
    {
     "data": {
      "text/plain": [
       "MultiOutputRegressor(estimator=KernelRidge(alpha=0.1))"
      ]
     },
     "execution_count": 57,
     "metadata": {},
     "output_type": "execute_result"
    }
   ],
   "source": [
    "KR_.best_estimator_"
   ]
  },
  {
   "cell_type": "markdown",
   "metadata": {},
   "source": [
    "Σημαντικότεροι παράμετροι είναι η μορφή του πυρήνα καθώς και η ποινή της L2 κανονικοποίησης."
   ]
  },
  {
   "cell_type": "code",
   "execution_count": 93,
   "metadata": {
    "execution": {
     "iopub.execute_input": "2021-03-15T11:59:16.791401Z",
     "iopub.status.busy": "2021-03-15T11:59:16.791401Z",
     "iopub.status.idle": "2021-03-15T11:59:23.697630Z",
     "shell.execute_reply": "2021-03-15T11:59:23.696615Z",
     "shell.execute_reply.started": "2021-03-15T11:59:16.791401Z"
    }
   },
   "outputs": [
    {
     "name": "stdout",
     "output_type": "stream",
     "text": [
      "Wall time: 6.89 s\n"
     ]
    },
    {
     "data": {
      "text/plain": [
       "MultiOutputRegressor(estimator=KernelRidge(alpha=0.1))"
      ]
     },
     "execution_count": 93,
     "metadata": {},
     "output_type": "execute_result"
    }
   ],
   "source": [
    "%%time\n",
    "KR_opt = MultiOutputRegressor(KernelRidge(alpha=0.1))\n",
    "KR_opt.fit(X_train,y_train)"
   ]
  },
  {
   "cell_type": "code",
   "execution_count": 94,
   "metadata": {
    "execution": {
     "iopub.execute_input": "2021-03-15T11:59:23.698615Z",
     "iopub.status.busy": "2021-03-15T11:59:23.698615Z",
     "iopub.status.idle": "2021-03-15T11:59:23.712614Z",
     "shell.execute_reply": "2021-03-15T11:59:23.712614Z",
     "shell.execute_reply.started": "2021-03-15T11:59:23.698615Z"
    }
   },
   "outputs": [],
   "source": [
    "models_opt.append(('KR*',KR_opt))"
   ]
  },
  {
   "cell_type": "markdown",
   "metadata": {},
   "source": [
    "**6. Nearest Neighbors Regressor**"
   ]
  },
  {
   "cell_type": "code",
   "execution_count": 61,
   "metadata": {
    "execution": {
     "iopub.execute_input": "2021-03-13T18:08:00.165044Z",
     "iopub.status.busy": "2021-03-13T18:08:00.164038Z",
     "iopub.status.idle": "2021-03-13T18:08:12.536744Z",
     "shell.execute_reply": "2021-03-13T18:08:12.535765Z",
     "shell.execute_reply.started": "2021-03-13T18:08:00.165044Z"
    }
   },
   "outputs": [
    {
     "name": "stdout",
     "output_type": "stream",
     "text": [
      "Fitting 5 folds for each of 216 candidates, totalling 1080 fits\n"
     ]
    },
    {
     "name": "stderr",
     "output_type": "stream",
     "text": [
      "[Parallel(n_jobs=-1)]: Using backend LokyBackend with 12 concurrent workers.\n",
      "[Parallel(n_jobs=-1)]: Done  17 tasks      | elapsed:    0.3s\n",
      "[Parallel(n_jobs=-1)]: Done 138 tasks      | elapsed:    1.8s\n",
      "[Parallel(n_jobs=-1)]: Done 341 tasks      | elapsed:    4.1s\n",
      "[Parallel(n_jobs=-1)]: Done 624 tasks      | elapsed:    7.4s\n",
      "[Parallel(n_jobs=-1)]: Done 989 tasks      | elapsed:   11.1s\n"
     ]
    },
    {
     "name": "stdout",
     "output_type": "stream",
     "text": [
      "Wall time: 12.4 s\n"
     ]
    },
    {
     "name": "stderr",
     "output_type": "stream",
     "text": [
      "[Parallel(n_jobs=-1)]: Done 1080 out of 1080 | elapsed:   12.1s finished\n"
     ]
    },
    {
     "data": {
      "text/plain": [
       "GridSearchCV(cv=KFold(n_splits=5, random_state=75, shuffle=True),\n",
       "             estimator=MultiOutputRegressor(estimator=KNeighborsRegressor()),\n",
       "             n_jobs=-1,\n",
       "             param_grid={'estimator__algorithm': ['auto', 'kd_tree',\n",
       "                                                  'ball_tree'],\n",
       "                         'estimator__leaf_size': [25, 30, 35],\n",
       "                         'estimator__n_neighbors': [1, 2, 3, 4, 5, 6, 7, 8, 9,\n",
       "                                                    10, 11, 12],\n",
       "                         'estimator__weights': ['uniform', 'distance']},\n",
       "             verbose=2)"
      ]
     },
     "execution_count": 61,
     "metadata": {},
     "output_type": "execute_result"
    }
   ],
   "source": [
    "%%time\n",
    "kNR_ = GridSearchCV(MultiOutputRegressor(KNeighborsRegressor()),\n",
    "                    param_grid = {'estimator__n_neighbors':list(range(1,13)),\n",
    "                    'estimator__weights':['uniform','distance'],\n",
    "                    'estimator__algorithm':['auto','kd_tree','ball_tree'],\n",
    "                     'estimator__leaf_size':[25,30,35]},\n",
    "                     n_jobs=-1,verbose=2,cv=KFold(n_splits=5,shuffle=True,random_state = 75))\n",
    "kNR_.fit(X_train,y_train)"
   ]
  },
  {
   "cell_type": "code",
   "execution_count": 62,
   "metadata": {
    "execution": {
     "iopub.execute_input": "2021-03-13T18:08:16.230168Z",
     "iopub.status.busy": "2021-03-13T18:08:16.230168Z",
     "iopub.status.idle": "2021-03-13T18:08:16.247167Z",
     "shell.execute_reply": "2021-03-13T18:08:16.246167Z",
     "shell.execute_reply.started": "2021-03-13T18:08:16.230168Z"
    }
   },
   "outputs": [
    {
     "data": {
      "text/plain": [
       "MultiOutputRegressor(estimator=KNeighborsRegressor(leaf_size=25, n_neighbors=3,\n",
       "                                                   weights='distance'))"
      ]
     },
     "execution_count": 62,
     "metadata": {},
     "output_type": "execute_result"
    }
   ],
   "source": [
    "kNR_.best_estimator_"
   ]
  },
  {
   "cell_type": "markdown",
   "metadata": {},
   "source": [
    "Εδώ η σημαντικότερη παράμετρος είναι ο αριθμός των κοντινότερων γειτόνων."
   ]
  },
  {
   "cell_type": "code",
   "execution_count": 95,
   "metadata": {
    "execution": {
     "iopub.execute_input": "2021-03-15T11:59:31.372960Z",
     "iopub.status.busy": "2021-03-15T11:59:31.372960Z",
     "iopub.status.idle": "2021-03-15T11:59:31.449958Z",
     "shell.execute_reply": "2021-03-15T11:59:31.449958Z",
     "shell.execute_reply.started": "2021-03-15T11:59:31.372960Z"
    }
   },
   "outputs": [
    {
     "name": "stdout",
     "output_type": "stream",
     "text": [
      "Wall time: 62 ms\n"
     ]
    },
    {
     "data": {
      "text/plain": [
       "MultiOutputRegressor(estimator=KNeighborsRegressor(leaf_size=25, n_neighbors=3,\n",
       "                                                   weights='distance'))"
      ]
     },
     "execution_count": 95,
     "metadata": {},
     "output_type": "execute_result"
    }
   ],
   "source": [
    "%%time\n",
    "kNR_opt = MultiOutputRegressor(KNeighborsRegressor(n_neighbors=3,weights='distance',leaf_size=25))\n",
    "kNR_opt.fit(X_train,y_train)"
   ]
  },
  {
   "cell_type": "code",
   "execution_count": 96,
   "metadata": {
    "execution": {
     "iopub.execute_input": "2021-03-15T11:59:31.937037Z",
     "iopub.status.busy": "2021-03-15T11:59:31.936035Z",
     "iopub.status.idle": "2021-03-15T11:59:31.951600Z",
     "shell.execute_reply": "2021-03-15T11:59:31.950600Z",
     "shell.execute_reply.started": "2021-03-15T11:59:31.937037Z"
    }
   },
   "outputs": [],
   "source": [
    "models_opt.append(('kNR*',kNR_opt))"
   ]
  },
  {
   "cell_type": "markdown",
   "metadata": {},
   "source": [
    "**7. Extra Trees Regressor**"
   ]
  },
  {
   "cell_type": "code",
   "execution_count": 67,
   "metadata": {
    "execution": {
     "iopub.execute_input": "2021-03-13T18:09:15.226867Z",
     "iopub.status.busy": "2021-03-13T18:09:15.226867Z",
     "iopub.status.idle": "2021-03-13T18:15:35.031810Z",
     "shell.execute_reply": "2021-03-13T18:15:35.031810Z",
     "shell.execute_reply.started": "2021-03-13T18:09:15.226867Z"
    }
   },
   "outputs": [
    {
     "name": "stdout",
     "output_type": "stream",
     "text": [
      "Fitting 2 folds for each of 54 candidates, totalling 108 fits\n"
     ]
    },
    {
     "name": "stderr",
     "output_type": "stream",
     "text": [
      "[Parallel(n_jobs=-1)]: Using backend LokyBackend with 12 concurrent workers.\n",
      "[Parallel(n_jobs=-1)]: Done  18 tasks      | elapsed:    3.2s\n",
      "[Parallel(n_jobs=-1)]: Done  85 out of 108 | elapsed:  3.5min remaining:   56.0s\n",
      "[Parallel(n_jobs=-1)]: Done 108 out of 108 | elapsed:  6.3min finished\n"
     ]
    },
    {
     "name": "stdout",
     "output_type": "stream",
     "text": [
      "Wall time: 6min 19s\n"
     ]
    },
    {
     "data": {
      "text/plain": [
       "GridSearchCV(cv=KFold(n_splits=2, random_state=75, shuffle=True),\n",
       "             estimator=MultiOutputRegressor(estimator=ExtraTreesRegressor(random_state=75)),\n",
       "             n_jobs=-1,\n",
       "             param_grid={'estimator__criterion': ['mse', 'mae'],\n",
       "                         'estimator__max_depth': [None, 1, 2],\n",
       "                         'estimator__min_samples_leaf': [1, 2, 3],\n",
       "                         'estimator__min_samples_split': [1, 2, 3]},\n",
       "             verbose=2)"
      ]
     },
     "execution_count": 67,
     "metadata": {},
     "output_type": "execute_result"
    }
   ],
   "source": [
    "%%time\n",
    "ET_ = GridSearchCV(MultiOutputRegressor(ExtraTreesRegressor(random_state=75)),\n",
    "                   param_grid = {'estimator__criterion': ['gini', 'entropy'],\n",
    "                                  'estimator__max_depth': [None,1,2],\n",
    "                                 \"estimator__min_samples_split\":[1,2,3],\n",
    "                                 \"estimator__min_samples_leaf\":[1,2,3]},\n",
    "                                   cv=KFold(n_splits=2,shuffle=True,random_state = 75),n_jobs=-1,verbose=2)\n",
    "ET_.fit(X_train,y_train)"
   ]
  },
  {
   "cell_type": "code",
   "execution_count": 69,
   "metadata": {
    "execution": {
     "iopub.execute_input": "2021-03-13T18:16:16.383711Z",
     "iopub.status.busy": "2021-03-13T18:16:16.383711Z",
     "iopub.status.idle": "2021-03-13T18:16:16.403896Z",
     "shell.execute_reply": "2021-03-13T18:16:16.402896Z",
     "shell.execute_reply.started": "2021-03-13T18:16:16.383711Z"
    }
   },
   "outputs": [
    {
     "data": {
      "text/plain": [
       "MultiOutputRegressor(estimator=ExtraTreesRegressor(random_state=75))"
      ]
     },
     "execution_count": 69,
     "metadata": {},
     "output_type": "execute_result"
    }
   ],
   "source": [
    "ET_.best_estimator_"
   ]
  },
  {
   "cell_type": "markdown",
   "metadata": {},
   "source": [
    "Ομοίως με τα Decision Trees μεγάλο ρόλο παίζει η παράμετρος με την οποία γίνεται η απόφαση (gini ή entropy) καθώς και min_samples_split και το max_depth."
   ]
  },
  {
   "cell_type": "code",
   "execution_count": 97,
   "metadata": {
    "execution": {
     "iopub.execute_input": "2021-03-15T11:59:49.943872Z",
     "iopub.status.busy": "2021-03-15T11:59:49.943872Z",
     "iopub.status.idle": "2021-03-15T11:59:53.441178Z",
     "shell.execute_reply": "2021-03-15T11:59:53.441178Z",
     "shell.execute_reply.started": "2021-03-15T11:59:49.943872Z"
    }
   },
   "outputs": [
    {
     "name": "stdout",
     "output_type": "stream",
     "text": [
      "Wall time: 3.48 s\n"
     ]
    },
    {
     "data": {
      "text/plain": [
       "MultiOutputRegressor(estimator=ExtraTreesRegressor(random_state=75))"
      ]
     },
     "execution_count": 97,
     "metadata": {},
     "output_type": "execute_result"
    }
   ],
   "source": [
    "%%time\n",
    "ET_opt = MultiOutputRegressor(ExtraTreesRegressor(random_state=75))\n",
    "ET_opt.fit(X_train,y_train)"
   ]
  },
  {
   "cell_type": "code",
   "execution_count": 98,
   "metadata": {
    "execution": {
     "iopub.execute_input": "2021-03-15T11:59:55.147363Z",
     "iopub.status.busy": "2021-03-15T11:59:55.147363Z",
     "iopub.status.idle": "2021-03-15T11:59:55.162374Z",
     "shell.execute_reply": "2021-03-15T11:59:55.161379Z",
     "shell.execute_reply.started": "2021-03-15T11:59:55.147363Z"
    }
   },
   "outputs": [],
   "source": [
    "models_opt.append(('ET*',ET_opt))"
   ]
  },
  {
   "cell_type": "markdown",
   "metadata": {},
   "source": [
    "#### 8. Random Forest Regressor"
   ]
  },
  {
   "cell_type": "code",
   "execution_count": null,
   "metadata": {
    "execution": {
     "iopub.execute_input": "2021-03-13T19:05:27.111206Z",
     "iopub.status.busy": "2021-03-13T19:05:27.110214Z"
    }
   },
   "outputs": [
    {
     "name": "stdout",
     "output_type": "stream",
     "text": [
      "Fitting 2 folds for each of 270 candidates, totalling 540 fits\n"
     ]
    },
    {
     "name": "stderr",
     "output_type": "stream",
     "text": [
      "[Parallel(n_jobs=-1)]: Using backend LokyBackend with 12 concurrent workers.\n",
      "[Parallel(n_jobs=-1)]: Done  17 tasks      | elapsed: 26.6min\n"
     ]
    }
   ],
   "source": [
    "%%time\n",
    "RF_ = GridSearchCV(MultiOutputRegressor(RandomForestRegressor(random_state=75)),\n",
    "                                        param_grid = {'estimator__n_estimators':[100,200,500],\n",
    "                                                      'estimator__criterion':['mae','mse'],\n",
    "                                                      'estimator__max_depth':[None,3,4,5,6],\n",
    "                                                      'estimator__min_samples_split':[2,3,4],\n",
    "                                                      'estimator__min_samples_leaf':[1,2,3]},n_jobs=-1,verbose=2,cv=KFold(n_splits=2,shuffle=True,random_state = 75))\n",
    "RF_.fit(X_train,y_train)"
   ]
  },
  {
   "cell_type": "code",
   "execution_count": 118,
   "metadata": {
    "execution": {
     "iopub.execute_input": "2021-03-15T13:15:59.403275Z",
     "iopub.status.busy": "2021-03-15T13:15:59.403275Z",
     "iopub.status.idle": "2021-03-15T13:15:59.416274Z",
     "shell.execute_reply": "2021-03-15T13:15:59.415275Z",
     "shell.execute_reply.started": "2021-03-15T13:15:59.403275Z"
    }
   },
   "outputs": [
    {
     "data": {
      "text/plain": [
       "MultiOutputRegressor(estimator=RandomForestRegressor(random_state=75))"
      ]
     },
     "execution_count": 118,
     "metadata": {},
     "output_type": "execute_result"
    }
   ],
   "source": [
    "RF_.best_estimator_"
   ]
  },
  {
   "cell_type": "code",
   "execution_count": 101,
   "metadata": {
    "execution": {
     "iopub.execute_input": "2021-03-15T12:00:48.703977Z",
     "iopub.status.busy": "2021-03-15T12:00:48.703977Z",
     "iopub.status.idle": "2021-03-15T12:00:58.462853Z",
     "shell.execute_reply": "2021-03-15T12:00:58.461853Z",
     "shell.execute_reply.started": "2021-03-15T12:00:48.703977Z"
    }
   },
   "outputs": [
    {
     "name": "stdout",
     "output_type": "stream",
     "text": [
      "Wall time: 9.74 s\n"
     ]
    },
    {
     "data": {
      "text/plain": [
       "MultiOutputRegressor(estimator=RandomForestRegressor(random_state=75))"
      ]
     },
     "execution_count": 101,
     "metadata": {},
     "output_type": "execute_result"
    }
   ],
   "source": [
    "%%time\n",
    "RF_opt = \n",
    "RF_opt.fit(X_train,y_train)"
   ]
  },
  {
   "cell_type": "code",
   "execution_count": 102,
   "metadata": {
    "execution": {
     "iopub.execute_input": "2021-03-15T12:00:58.463853Z",
     "iopub.status.busy": "2021-03-15T12:00:58.463853Z",
     "iopub.status.idle": "2021-03-15T12:00:58.477891Z",
     "shell.execute_reply": "2021-03-15T12:00:58.476910Z",
     "shell.execute_reply.started": "2021-03-15T12:00:58.463853Z"
    }
   },
   "outputs": [],
   "source": [
    "models_opt.append(('RF*',RF_opt))"
   ]
  },
  {
   "cell_type": "markdown",
   "metadata": {},
   "source": [
    "**9. XGBoost Regressor**"
   ]
  },
  {
   "cell_type": "code",
   "execution_count": 31,
   "metadata": {
    "execution": {
     "iopub.execute_input": "2021-03-13T20:03:40.824497Z",
     "iopub.status.busy": "2021-03-13T20:03:40.824034Z",
     "iopub.status.idle": "2021-03-13T20:33:14.862739Z",
     "shell.execute_reply": "2021-03-13T20:33:14.862739Z",
     "shell.execute_reply.started": "2021-03-13T20:03:40.824497Z"
    }
   },
   "outputs": [
    {
     "name": "stdout",
     "output_type": "stream",
     "text": [
      "Fitting 2 folds for each of 360 candidates, totalling 720 fits\n"
     ]
    },
    {
     "name": "stderr",
     "output_type": "stream",
     "text": [
      "[Parallel(n_jobs=-1)]: Using backend LokyBackend with 12 concurrent workers.\n",
      "[Parallel(n_jobs=-1)]: Done  17 tasks      | elapsed:   15.1s\n",
      "[Parallel(n_jobs=-1)]: Done 138 tasks      | elapsed:  2.7min\n",
      "[Parallel(n_jobs=-1)]: Done 341 tasks      | elapsed:  8.3min\n",
      "[Parallel(n_jobs=-1)]: Done 624 tasks      | elapsed: 24.5min\n",
      "[Parallel(n_jobs=-1)]: Done 720 out of 720 | elapsed: 29.5min finished\n"
     ]
    },
    {
     "data": {
      "text/plain": [
       "GridSearchCV(cv=KFold(n_splits=2, random_state=75, shuffle=True),\n",
       "             estimator=MultiOutputRegressor(estimator=XGBRegressor(base_score=None,\n",
       "                                                                   booster=None,\n",
       "                                                                   colsample_bylevel=None,\n",
       "                                                                   colsample_bynode=None,\n",
       "                                                                   colsample_bytree=None,\n",
       "                                                                   gamma=None,\n",
       "                                                                   gpu_id=None,\n",
       "                                                                   importance_type='gain',\n",
       "                                                                   interaction_constraints=None,\n",
       "                                                                   learning_rate=None,\n",
       "                                                                   max_delta_step=None,\n",
       "                                                                   max_depth=None,\n",
       "                                                                   min_chil...\n",
       "                                                                   reg_lambda=None,\n",
       "                                                                   scale_pos_weight=None,\n",
       "                                                                   subsample=None,\n",
       "                                                                   tree_method=None,\n",
       "                                                                   validate_parameters=None,\n",
       "                                                                   verbosity=None)),\n",
       "             n_jobs=-1,\n",
       "             param_grid={'estimator__booster': ['gbtree', 'dart'],\n",
       "                         'estimator__gamma': [0, 1, 2, 3, 4],\n",
       "                         'estimator__max_depth': [5, 6, 7],\n",
       "                         'estimator__min_child_weight': [1, 5],\n",
       "                         'estimator__n_estimators': [100, 500, 1000],\n",
       "                         'estimator__subsample': [0.5, 1]},\n",
       "             verbose=2)"
      ]
     },
     "execution_count": 31,
     "metadata": {},
     "output_type": "execute_result"
    }
   ],
   "source": [
    "XG_ = GridSearchCV(MultiOutputRegressor(XGBRegressor(random_state=75)),param_grid  = {'estimator__booster':['gbtree','dart'],\n",
    "                                                            'estimator__min_child_weight':[1,5], \n",
    "                                                            'estimator__gamma':[0,1,2,3,4],  \n",
    "                                                            'estimator__subsample':[0.5,1],\n",
    "                                                            'estimator__max_depth': [5,6,7],\n",
    "                                                             'estimator__n_estimators':[100,500,1000]},\n",
    "                                                            cv=KFold(n_splits=2,shuffle=True,random_state = 75),n_jobs=-1,verbose=2)\n",
    "XG_.fit(X_train,y_train)"
   ]
  },
  {
   "cell_type": "code",
   "execution_count": 33,
   "metadata": {
    "execution": {
     "iopub.execute_input": "2021-03-13T21:55:43.957347Z",
     "iopub.status.busy": "2021-03-13T21:55:43.957347Z",
     "iopub.status.idle": "2021-03-13T21:55:43.967701Z",
     "shell.execute_reply": "2021-03-13T21:55:43.966496Z",
     "shell.execute_reply.started": "2021-03-13T21:55:43.957347Z"
    }
   },
   "outputs": [
    {
     "data": {
      "text/plain": [
       "MultiOutputRegressor(estimator=XGBRegressor(base_score=None, booster='gbtree',\n",
       "                                            colsample_bylevel=None,\n",
       "                                            colsample_bynode=None,\n",
       "                                            colsample_bytree=None, gamma=0,\n",
       "                                            gpu_id=None, importance_type='gain',\n",
       "                                            interaction_constraints=None,\n",
       "                                            learning_rate=None,\n",
       "                                            max_delta_step=None, max_depth=7,\n",
       "                                            min_child_weight=5, missing=nan,\n",
       "                                            monotone_constraints=None,\n",
       "                                            n_estimators=1000, n_jobs=None,\n",
       "                                            num_parallel_tree=None,\n",
       "                                            random_state=75, reg_alpha=None,\n",
       "                                            reg_lambda=None,\n",
       "                                            scale_pos_weight=None,\n",
       "                                            subsample=0.5, tree_method=None,\n",
       "                                            validate_parameters=None,\n",
       "                                            verbosity=None))"
      ]
     },
     "execution_count": 33,
     "metadata": {},
     "output_type": "execute_result"
    }
   ],
   "source": [
    "XG_.best_estimator_"
   ]
  },
  {
   "cell_type": "code",
   "execution_count": 103,
   "metadata": {
    "execution": {
     "iopub.execute_input": "2021-03-15T12:01:22.237785Z",
     "iopub.status.busy": "2021-03-15T12:01:22.236754Z",
     "iopub.status.idle": "2021-03-15T12:01:32.601614Z",
     "shell.execute_reply": "2021-03-15T12:01:32.600613Z",
     "shell.execute_reply.started": "2021-03-15T12:01:22.236754Z"
    }
   },
   "outputs": [
    {
     "name": "stdout",
     "output_type": "stream",
     "text": [
      "Wall time: 10.3 s\n"
     ]
    },
    {
     "data": {
      "text/plain": [
       "MultiOutputRegressor(estimator=XGBRegressor(base_score=None, booster='gbtree',\n",
       "                                            colsample_bylevel=None,\n",
       "                                            colsample_bynode=None,\n",
       "                                            colsample_bytree=None, gamma=0,\n",
       "                                            gpu_id=None, importance_type='gain',\n",
       "                                            interaction_constraints=None,\n",
       "                                            learning_rate=None,\n",
       "                                            max_delta_step=None, max_depth=7,\n",
       "                                            min_child_weight=5, missing=nan,\n",
       "                                            monotone_constraints=None,\n",
       "                                            n_estimators=1000, n_jobs=None,\n",
       "                                            num_parallel_tree=None,\n",
       "                                            random_state=75, reg_alpha=None,\n",
       "                                            reg_lambda=None,\n",
       "                                            scale_pos_weight=None,\n",
       "                                            subsample=0.5, tree_method=None,\n",
       "                                            validate_parameters=None,\n",
       "                                            verbosity=None))"
      ]
     },
     "execution_count": 103,
     "metadata": {},
     "output_type": "execute_result"
    }
   ],
   "source": [
    "%%time\n",
    "XG_opt = MultiOutputRegressor(estimator=XGBRegressor(base_score=None, booster='gbtree',\n",
    "                                            colsample_bylevel=None,\n",
    "                                            colsample_bynode=None,\n",
    "                                            colsample_bytree=None, gamma=0,\n",
    "                                            gpu_id=None, importance_type='gain',\n",
    "                                            interaction_constraints=None,\n",
    "                                            learning_rate=None,\n",
    "                                            max_delta_step=None, max_depth=7,\n",
    "                                            min_child_weight=5, \n",
    "                                            monotone_constraints=None,\n",
    "                                            n_estimators=1000, n_jobs=None,\n",
    "                                            num_parallel_tree=None,\n",
    "                                            random_state=75, reg_alpha=None,\n",
    "                                            reg_lambda=None,\n",
    "                                            scale_pos_weight=None,\n",
    "                                            subsample=0.5, tree_method=None,\n",
    "                                            validate_parameters=None,\n",
    "                                            verbosity=None))\n",
    "XG_opt.fit(X_train,y_train)"
   ]
  },
  {
   "cell_type": "markdown",
   "metadata": {},
   "source": [
    "O XGBoost καθώς είναι επικίνδυνος στο overfitting, μεγάλη σημασία έχουν οι παράμετροι max_depth, min_child_weight και gamma διότι ελέγχουν την πολυπλοκότητα του μοντέλου."
   ]
  },
  {
   "cell_type": "code",
   "execution_count": 104,
   "metadata": {
    "execution": {
     "iopub.execute_input": "2021-03-15T12:01:32.602615Z",
     "iopub.status.busy": "2021-03-15T12:01:32.602615Z",
     "iopub.status.idle": "2021-03-15T12:01:32.616895Z",
     "shell.execute_reply": "2021-03-15T12:01:32.615901Z",
     "shell.execute_reply.started": "2021-03-15T12:01:32.602615Z"
    }
   },
   "outputs": [],
   "source": [
    "models_opt.append(('XGB*',XG_opt))"
   ]
  },
  {
   "cell_type": "markdown",
   "metadata": {},
   "source": [
    "## Comparison"
   ]
  },
  {
   "cell_type": "code",
   "execution_count": 113,
   "metadata": {
    "execution": {
     "iopub.execute_input": "2021-03-15T12:08:51.080810Z",
     "iopub.status.busy": "2021-03-15T12:08:51.080810Z",
     "iopub.status.idle": "2021-03-15T12:08:51.090406Z",
     "shell.execute_reply": "2021-03-15T12:08:51.089842Z",
     "shell.execute_reply.started": "2021-03-15T12:08:51.080810Z"
    }
   },
   "outputs": [],
   "source": [
    "def compare_models_final(trainX,trainY,testX,testY,models,modelsopt,tempdf):\n",
    "    print('\\nCompare Multiple Regressors:')\n",
    "    print('\\nK-Fold Cross-Validation Accuracy:\\n')\n",
    "    \n",
    "#     tempdf = pd.DataFrame(columns=['Name','Dataset','Score','St.Dev'])\n",
    "    for model, modelopt in zip(models,modelsopt):\n",
    "        modelopt[1].fit(trainX,trainY)\n",
    "        kfold = KFold(n_splits=2,shuffle=True,random_state = 75)\n",
    "        train_accuracy_results = cross_val_score(modelopt[1], trainX,trainY, cv=kfold)\n",
    "        test_accuracy_results = cross_val_score(modelopt[1],testX,testY,cv=kfold)\n",
    "        tempdf = tempdf.append({'Name':model[0],'Dataset':'Train-opt','Score':train_accuracy_results.mean(),\n",
    "                               'St.Dev':train_accuracy_results.std()},ignore_index=True)\n",
    "        tempdf = tempdf.append({'Name':model[0],'Dataset':'Test-opt','Score':test_accuracy_results.mean(),\n",
    "                               'St.Dev':test_accuracy_results.std()},ignore_index=True)\n",
    "    tempdf['Percent Score(%)'] = 100*tempdf['Score']\n",
    "    print('Models with default hyperparameters:')\n",
    "    print(tempdf.loc[:17,:])\n",
    "    print('Models after hyperparameter optimization:')\n",
    "    print(tempdf.loc[18:,:])\n",
    "    g = sns.catplot(x = 'Name', y='Percent Score(%)',hue = 'Dataset',data=tempdf, kind='bar',height=8.27, aspect=11.7/8.27)\n",
    "    g.set_xticklabels(rotation=30)\n",
    "    g.set(yticks=np.arange(-10,110,10))\n",
    "    return tempdf,plt.show()"
   ]
  },
  {
   "cell_type": "code",
   "execution_count": 114,
   "metadata": {
    "execution": {
     "iopub.execute_input": "2021-03-15T12:08:53.417874Z",
     "iopub.status.busy": "2021-03-15T12:08:53.417874Z",
     "iopub.status.idle": "2021-03-15T12:10:01.848988Z",
     "shell.execute_reply": "2021-03-15T12:10:01.847988Z",
     "shell.execute_reply.started": "2021-03-15T12:08:53.417874Z"
    }
   },
   "outputs": [
    {
     "name": "stdout",
     "output_type": "stream",
     "text": [
      "\n",
      "Compare Multiple Regressors:\n",
      "\n",
      "K-Fold Cross-Validation Accuracy:\n",
      "\n",
      "Models with default hyperparameters:\n",
      "       Name Dataset     Score    St.Dev  Percent Score(%)\n",
      "0     MR-LR   Train  0.875159  0.001638         87.515939\n",
      "1     MR-LR    Test  0.877114  0.000861         87.711376\n",
      "2     MR-RD   Train  0.397622  0.004964         39.762179\n",
      "3     MR-RD    Test  0.278085  0.007683         27.808488\n",
      "4   MR-ELAS   Train -0.000578  0.000006         -0.057779\n",
      "5   MR-ELAS    Test -0.000089  0.000002         -0.008910\n",
      "6     MR-DT   Train  0.958434  0.003312         95.843420\n",
      "7     MR-DT    Test  0.911051  0.006145         91.105095\n",
      "8    MR-KRI   Train  0.073432  0.000652          7.343161\n",
      "9    MR-KRI    Test -0.123784  0.010111        -12.378425\n",
      "10   MR-kNN   Train  0.955424  0.004057         95.542422\n",
      "11   MR-kNN    Test  0.911940  0.003589         91.193968\n",
      "12    MR-ET   Train  0.991892  0.000468         99.189216\n",
      "13    MR-ET    Test  0.975010  0.002030         97.501030\n",
      "14    MR-RF   Train  0.984209  0.001075         98.420945\n",
      "15    MR-RF    Test  0.958034  0.000232         95.803351\n",
      "16   MR-XGB   Train  0.984264  0.001391         98.426354\n",
      "17   MR-XGB    Test  0.961410  0.003149         96.141036\n",
      "Models after hyperparameter optimization:\n",
      "       Name    Dataset     Score    St.Dev  Percent Score(%)\n",
      "18    MR-LR  Train-opt  0.875159  0.001638         87.515939\n",
      "19    MR-LR   Test-opt  0.877114  0.000861         87.711376\n",
      "20    MR-RD  Train-opt  0.854823  0.001867         85.482280\n",
      "21    MR-RD   Test-opt  0.828176  0.002056         82.817586\n",
      "22  MR-ELAS  Train-opt  0.224388  0.003021         22.438790\n",
      "23  MR-ELAS   Test-opt  0.214873  0.007526         21.487265\n",
      "24    MR-DT  Train-opt  0.957319  0.004486         95.731919\n",
      "25    MR-DT   Test-opt  0.921869  0.007628         92.186947\n",
      "26   MR-KRI  Train-opt  0.455007  0.000578         45.500724\n",
      "27   MR-KRI   Test-opt  0.302850  0.011247         30.285020\n",
      "28   MR-kNN  Train-opt  0.967981  0.003395         96.798142\n",
      "29   MR-kNN   Test-opt  0.935476  0.002380         93.547602\n",
      "30    MR-ET  Train-opt  0.991892  0.000468         99.189216\n",
      "31    MR-ET   Test-opt  0.975010  0.002030         97.501030\n",
      "32    MR-RF  Train-opt  0.984209  0.001075         98.420945\n",
      "33    MR-RF   Test-opt  0.958034  0.000232         95.803351\n",
      "34   MR-XGB  Train-opt  0.987622  0.000682         98.762208\n",
      "35   MR-XGB   Test-opt  0.969580  0.001621         96.957953\n"
     ]
    },
    {
     "data": {
      "image/png": "[encoded data removed]",
      "text/plain": [
       "<Figure size 922.275x595.44 with 1 Axes>"
      ]
     },
     "metadata": {
      "needs_background": "light"
     },
     "output_type": "display_data"
    },
    {
     "name": "stdout",
     "output_type": "stream",
     "text": [
      "Wall time: 1min 8s\n"
     ]
    }
   ],
   "source": [
    "%%time\n",
    "final_df,_ = compare_models_final(X_train,y_train,X_test,y_test,models,models_opt,models_df)"
   ]
  },
  {
   "cell_type": "code",
   "execution_count": 115,
   "metadata": {
    "execution": {
     "iopub.execute_input": "2021-03-15T12:11:04.805995Z",
     "iopub.status.busy": "2021-03-15T12:11:04.805995Z",
     "iopub.status.idle": "2021-03-15T12:11:04.875014Z",
     "shell.execute_reply": "2021-03-15T12:11:04.874006Z",
     "shell.execute_reply.started": "2021-03-15T12:11:04.805995Z"
    }
   },
   "outputs": [
    {
     "data": {
      "text/html": [
       "<div>\n",
       "<style scoped>\n",
       "    .dataframe tbody tr th:only-of-type {\n",
       "        vertical-align: middle;\n",
       "    }\n",
       "\n",
       "    .dataframe tbody tr th {\n",
       "        vertical-align: top;\n",
       "    }\n",
       "\n",
       "    .dataframe thead th {\n",
       "        text-align: right;\n",
       "    }\n",
       "</style>\n",
       "<table border=\"1\" class=\"dataframe\">\n",
       "  <thead>\n",
       "    <tr style=\"text-align: right;\">\n",
       "      <th></th>\n",
       "      <th>Name</th>\n",
       "      <th>Dataset</th>\n",
       "      <th>ScoreChange</th>\n",
       "      <th>Per</th>\n",
       "    </tr>\n",
       "  </thead>\n",
       "  <tbody>\n",
       "    <tr>\n",
       "      <th>0</th>\n",
       "      <td>MR-LR</td>\n",
       "      <td>Train</td>\n",
       "      <td>0.00</td>\n",
       "      <td>0.0</td>\n",
       "    </tr>\n",
       "    <tr>\n",
       "      <th>1</th>\n",
       "      <td>MR-LR</td>\n",
       "      <td>Test</td>\n",
       "      <td>-0.00</td>\n",
       "      <td>-0.0</td>\n",
       "    </tr>\n",
       "    <tr>\n",
       "      <th>2</th>\n",
       "      <td>MR-RD</td>\n",
       "      <td>Train</td>\n",
       "      <td>0.46</td>\n",
       "      <td>46.0</td>\n",
       "    </tr>\n",
       "    <tr>\n",
       "      <th>3</th>\n",
       "      <td>MR-RD</td>\n",
       "      <td>Test</td>\n",
       "      <td>0.55</td>\n",
       "      <td>55.0</td>\n",
       "    </tr>\n",
       "    <tr>\n",
       "      <th>4</th>\n",
       "      <td>MR-ELAS</td>\n",
       "      <td>Train</td>\n",
       "      <td>0.22</td>\n",
       "      <td>22.0</td>\n",
       "    </tr>\n",
       "    <tr>\n",
       "      <th>5</th>\n",
       "      <td>MR-ELAS</td>\n",
       "      <td>Test</td>\n",
       "      <td>0.21</td>\n",
       "      <td>21.0</td>\n",
       "    </tr>\n",
       "    <tr>\n",
       "      <th>6</th>\n",
       "      <td>MR-DT</td>\n",
       "      <td>Train</td>\n",
       "      <td>-0.00</td>\n",
       "      <td>-0.0</td>\n",
       "    </tr>\n",
       "    <tr>\n",
       "      <th>7</th>\n",
       "      <td>MR-DT</td>\n",
       "      <td>Test</td>\n",
       "      <td>0.01</td>\n",
       "      <td>1.0</td>\n",
       "    </tr>\n",
       "    <tr>\n",
       "      <th>8</th>\n",
       "      <td>MR-KRI</td>\n",
       "      <td>Train</td>\n",
       "      <td>0.38</td>\n",
       "      <td>38.0</td>\n",
       "    </tr>\n",
       "    <tr>\n",
       "      <th>9</th>\n",
       "      <td>MR-KRI</td>\n",
       "      <td>Test</td>\n",
       "      <td>0.43</td>\n",
       "      <td>43.0</td>\n",
       "    </tr>\n",
       "    <tr>\n",
       "      <th>10</th>\n",
       "      <td>MR-kNN</td>\n",
       "      <td>Train</td>\n",
       "      <td>0.01</td>\n",
       "      <td>1.0</td>\n",
       "    </tr>\n",
       "    <tr>\n",
       "      <th>11</th>\n",
       "      <td>MR-kNN</td>\n",
       "      <td>Test</td>\n",
       "      <td>0.02</td>\n",
       "      <td>2.0</td>\n",
       "    </tr>\n",
       "    <tr>\n",
       "      <th>12</th>\n",
       "      <td>MR-ET</td>\n",
       "      <td>Train</td>\n",
       "      <td>0.00</td>\n",
       "      <td>0.0</td>\n",
       "    </tr>\n",
       "    <tr>\n",
       "      <th>13</th>\n",
       "      <td>MR-ET</td>\n",
       "      <td>Test</td>\n",
       "      <td>0.00</td>\n",
       "      <td>0.0</td>\n",
       "    </tr>\n",
       "    <tr>\n",
       "      <th>14</th>\n",
       "      <td>MR-RF</td>\n",
       "      <td>Train</td>\n",
       "      <td>0.00</td>\n",
       "      <td>0.0</td>\n",
       "    </tr>\n",
       "    <tr>\n",
       "      <th>15</th>\n",
       "      <td>MR-RF</td>\n",
       "      <td>Test</td>\n",
       "      <td>0.00</td>\n",
       "      <td>0.0</td>\n",
       "    </tr>\n",
       "    <tr>\n",
       "      <th>16</th>\n",
       "      <td>MR-XGB</td>\n",
       "      <td>Train</td>\n",
       "      <td>0.00</td>\n",
       "      <td>0.0</td>\n",
       "    </tr>\n",
       "    <tr>\n",
       "      <th>17</th>\n",
       "      <td>MR-XGB</td>\n",
       "      <td>Test</td>\n",
       "      <td>0.01</td>\n",
       "      <td>1.0</td>\n",
       "    </tr>\n",
       "  </tbody>\n",
       "</table>\n",
       "</div>"
      ],
      "text/plain": [
       "       Name Dataset  ScoreChange   Per\n",
       "0     MR-LR   Train         0.00   0.0\n",
       "1     MR-LR    Test        -0.00  -0.0\n",
       "2     MR-RD   Train         0.46  46.0\n",
       "3     MR-RD    Test         0.55  55.0\n",
       "4   MR-ELAS   Train         0.22  22.0\n",
       "5   MR-ELAS    Test         0.21  21.0\n",
       "6     MR-DT   Train        -0.00  -0.0\n",
       "7     MR-DT    Test         0.01   1.0\n",
       "8    MR-KRI   Train         0.38  38.0\n",
       "9    MR-KRI    Test         0.43  43.0\n",
       "10   MR-kNN   Train         0.01   1.0\n",
       "11   MR-kNN    Test         0.02   2.0\n",
       "12    MR-ET   Train         0.00   0.0\n",
       "13    MR-ET    Test         0.00   0.0\n",
       "14    MR-RF   Train         0.00   0.0\n",
       "15    MR-RF    Test         0.00   0.0\n",
       "16   MR-XGB   Train         0.00   0.0\n",
       "17   MR-XGB    Test         0.01   1.0"
      ]
     },
     "execution_count": 115,
     "metadata": {},
     "output_type": "execute_result"
    }
   ],
   "source": [
    "change = pd.DataFrame(columns=['Name','Dataset','ScoreChange'])\n",
    "for i in range(0,18):\n",
    "    change = change.append({'Name':final_df.Name[i],'Dataset':final_df.Dataset[i],'ScoreChange':round(final_df.Score[i+18]-final_df.Score[i],2)},ignore_index=True)\n",
    "change['Per'] = 100*change['ScoreChange']\n",
    "change"
   ]
  },
  {
   "cell_type": "markdown",
   "metadata": {},
   "source": [
    "### Πίνακας μεταβολής επίδοσης των αλγορίθμων μετά τη βελτιστοποίησή τους"
   ]
  },
  {
   "cell_type": "code",
   "execution_count": 117,
   "metadata": {
    "execution": {
     "iopub.execute_input": "2021-03-15T12:11:25.386656Z",
     "iopub.status.busy": "2021-03-15T12:11:25.386656Z",
     "iopub.status.idle": "2021-03-15T12:11:25.776803Z",
     "shell.execute_reply": "2021-03-15T12:11:25.776803Z",
     "shell.execute_reply.started": "2021-03-15T12:11:25.386656Z"
    }
   },
   "outputs": [
    {
     "data": {
      "text/plain": [
       "Text(0.5, 0.98, 'Score Change after hyperparameter optimization for each Regressor')"
      ]
     },
     "execution_count": 117,
     "metadata": {},
     "output_type": "execute_result"
    },
    {
     "data": {
      "image/png": "[encoded data removed]",
      "text/plain": [
       "<Figure size 600x360 with 1 Axes>"
      ]
     },
     "metadata": {
      "needs_background": "light"
     },
     "output_type": "display_data"
    }
   ],
   "source": [
    "g = sns.catplot(x = 'Name', y='Per',hue = 'Dataset',data=change, kind='bar',height=5,aspect=1.5, palette='dark')\n",
    "g.set_xticklabels(rotation=30)\n",
    "g.set(yticks=np.arange(0,60,5))\n",
    "g.fig.suptitle('Score Change after hyperparameter optimization for each Regressor')"
   ]
  },
  {
   "cell_type": "markdown",
   "metadata": {},
   "source": [
    "# Σχόλια:"
   ]
  },
  {
   "cell_type": "markdown",
   "metadata": {},
   "source": [
    "- Αρχικά έχει νόημα να αναρωτηθούμε ποια είναι η έννοια του Score ($R^2$) σε ένα πρόβλεψης δύο μεταβλητών, οπότε ανατρέξαμε στο documentation του scikit learn για τον multi output regressor: The coefficient  is defined as $(1-\\frac{u}{v})$ , where $u$  is the residual sum of squares `((y_true - y_pred) ** 2).sum()` and $v$ is the total sum of squares `((y_true - y_true.mean()) ** 2).sum()`. Δηλαδή υπολογίζονται τα squared errors για κάθε πρόβλεψη και γίνεται uniform averaging.\n",
    "- Όσον αφορά τους γραμμικούς regressors, παρατηρούμε ότι ο Ridge τείνει προς τον γραμμικό, χωρίς να συγκλίνει απόλυτα προς αυτόν, και ο Elastic Net όσες επαναλήψεις και να του προσθέσουμε αποτυγχάνει στη σύγκλιση, λόγω της φύσης του προβλήματος. \n",
    "- Ο Decision Trees Regressor μετά τη βελτιστοποίηση δείχνει μια μικρή αύξηση ακρίβειας της τάξης του 1\\% στο test set.\n",
    "- Ο Kernel Ridge Regressor μετά από την αρνητική επίδοσή του με τους default parameters δείχνει αύξηση μετά την βελτιστοποίηση, χωρίς να καταφέρνει βέβαια να πιάνει υψηλό score.\n",
    "- Ο Nearest Neighbors Regressor μετά τη βελτιστοποίηση εμφανίζει 1\\% αύξηση στο score για το train test και 2\\% για το test set.\n",
    "- Οι Regressors Extra Trees και Random Forest μετά από Grid Search δείχνουν ότι προτιμούν τις defaults υπερπαραμέτρους τους, οπότε δεν εμφανίζουν κάποια μεταβολή στα ήδη υψηλά scores τους.\n",
    "- Τέλος, ο XGB μετά από τη βελτιστοποίηση εμφανίζει 1\\% αύξηση score στο test set.\n",
    "- Στα περισσότερα κελιά που υπάρχει ενδιαφέρον για το χρόνο εκτέλεσης έχει προστεθεί η built-in magic command `%%time` ώστε να φαίνεται ο χρόνος εκτέλεσης. Για όλους τους υπολογισμούς χρησιμοποιήθηκαν jupyter notebooks σε local runtime με επεξεργαστή i7-9th gen. Στις πιο απαιτητικές εργασίες, δηλαδή στα Grid Search, προστέθηκε η εντολή `n_jobs=-1` ώστε να εκτελούνται υπολογισμοί εν παραλλήλω, αξιοποιώντας και τα 12 threads του επεξεργαστή. "
   ]
  }
 ],
 "metadata": {
  "kernelspec": {
   "display_name": "Python 3",
   "language": "python",
   "name": "python3"
  },
  "language_info": {
   "codemirror_mode": {
    "name": "ipython",
    "version": 3
   },
   "file_extension": ".py",
   "mimetype": "text/x-python",
   "name": "python",
   "nbconvert_exporter": "python",
   "pygments_lexer": "ipython3",
   "version": "3.8.5"
  }
 },
 "nbformat": 4,
 "nbformat_minor": 4
}
