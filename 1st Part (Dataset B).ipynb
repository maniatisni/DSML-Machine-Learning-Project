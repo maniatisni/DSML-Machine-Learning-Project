{
 "cells": [
  {
   "cell_type": "code",
   "execution_count": 103,
   "metadata": {},
   "outputs": [],
   "source": [
    "import pandas as pd\n",
    "import numpy as np\n",
    "import matplotlib.pyplot as plt\n",
    "import seaborn as sns\n",
    "from statsmodels.stats.outliers_influence import variance_inflation_factor\n",
    "from sklearn.model_selection import train_test_split\n",
    "from sklearn.model_selection import cross_val_score,KFold\n",
    "from sklearn.ensemble import RandomForestRegressor\n",
    "from matplotlib.lines import Line2D\n",
    "from sklearn.linear_model import LinearRegression,Ridge,Lasso,ElasticNet\n",
    "from sklearn.neighbors import KNeighborsRegressor\n",
    "from sklearn.tree import DecisionTreeRegressor\n",
    "from sklearn.neural_network import MLPRegressor\n",
    "from sklearn.ensemble import ExtraTreesRegressor\n",
    "import xgboost as xgb\n",
    "from xgboost import XGBRegressor\n",
    "from sklearn.kernel_ridge import KernelRidge\n",
    "from sklearn.multioutput import MultiOutputRegressor\n",
    "from sklearn.model_selection import GridSearchCV\n",
    "from sklearn.model_selection import RandomizedSearchCV"
   ]
  },
  {
   "cell_type": "markdown",
   "metadata": {},
   "source": [
    "### Data Set Information:\n",
    "\n",
    "The experiments have been carried out by means of a numerical simulator of a naval vessel (Frigate) characterized by a Gas Turbine (GT) propulsion plant. The different blocks forming the complete simulator (Propeller, Hull, GT, Gear Box and Controller) have been developed and fine tuned over the year on several similar real propulsion plants. In view of these observations the available data are in agreement with a possible real vessel.\n",
    "In this release of the simulator it is also possible to take into account the performance decay over time of the GT components such as GT compressor and turbines.\n",
    "The propulsion system behaviour has been described with this parameters:\n",
    "- Ship speed (linear function of the lever position lp).\n",
    "- Compressor degradation coefficient kMc.\n",
    "- Turbine degradation coefficient kMt.\n",
    "so that each possible degradation state can be described by a combination of this triple (lp,kMt,kMc).\n",
    "The range of decay of compressor and turbine has been sampled with an uniform grid of precision 0.001 so to have a good granularity of representation.\n",
    "In particular for the compressor decay state discretization the kMc coefficient has been investigated in the domain [1; 0.95], and the turbine coefficient in the domain [1; 0.975].\n",
    "Ship speed has been investigated sampling the range of feasible speed from 3 knots to 27 knots with a granularity of representation equal to tree knots.\n",
    "A series of measures (16 features) which indirectly represents of the state of the system subject to performance decay has been acquired and stored in the dataset over the parameter's space.\n"
   ]
  },
  {
   "cell_type": "markdown",
   "metadata": {},
   "source": [
    "### Attribute Information:\n",
    "\n",
    "- A 16-feature vector containing the GT measures at steady state of the physical asset:\n",
    "Lever position (lp) [ ]\n",
    "Ship speed (v) [knots]\n",
    "Gas Turbine (GT) shaft torque (GTT) [kN m]\n",
    "GT rate of revolutions (GTn) [rpm]\n",
    "Gas Generator rate of revolutions (GGn) [rpm]\n",
    "Starboard Propeller Torque (Ts) [kN]\n",
    "Port Propeller Torque (Tp) [kN]\n",
    "Hight Pressure (HP) Turbine exit temperature (T48) [C]\n",
    "GT Compressor inlet air temperature (T1) [C]\n",
    "GT Compressor outlet air temperature (T2) [C]\n",
    "HP Turbine exit pressure (P48) [bar]\n",
    "GT Compressor inlet air pressure (P1) [bar]\n",
    "GT Compressor outlet air pressure (P2) [bar]\n",
    "GT exhaust gas pressure (Pexh) [bar]\n",
    "Turbine Injecton Control (TIC) [%]\n",
    "Fuel flow (mf) [kg/s]\n",
    "- GT Compressor decay state coefficient\n",
    "- GT Turbine decay state coefficient"
   ]
  },
  {
   "cell_type": "code",
   "execution_count": 84,
   "metadata": {},
   "outputs": [],
   "source": [
    "columns = ['lever_position', 'ship_speed', 'gt_shaft', 'gt_rate', 'gg_rate', 'sp_torque', 'pp_torque', \\\n",
    "                    'hpt_temp', 'gt_c_i_temp', 'gt_c_o_temp', 'hpt_pressure', 'gt_c_i_pressure', 'gt_c_o_pressure', \\\n",
    "                    'gt_exhaust_pressure', 'turbine_inj_control', 'fuel_flow', 'gt_c_decay',  'gt_t_decay']\n",
    "\n",
    "df = pd.read_table('./datasets/data.txt',delim_whitespace=True,names=columns)"
   ]
  },
  {
   "cell_type": "code",
   "execution_count": 85,
   "metadata": {},
   "outputs": [
    {
     "data": {
      "text/html": [
       "<div>\n",
       "<style scoped>\n",
       "    .dataframe tbody tr th:only-of-type {\n",
       "        vertical-align: middle;\n",
       "    }\n",
       "\n",
       "    .dataframe tbody tr th {\n",
       "        vertical-align: top;\n",
       "    }\n",
       "\n",
       "    .dataframe thead th {\n",
       "        text-align: right;\n",
       "    }\n",
       "</style>\n",
       "<table border=\"1\" class=\"dataframe\">\n",
       "  <thead>\n",
       "    <tr style=\"text-align: right;\">\n",
       "      <th></th>\n",
       "      <th>lever_position</th>\n",
       "      <th>ship_speed</th>\n",
       "      <th>gt_shaft</th>\n",
       "      <th>gt_rate</th>\n",
       "      <th>gg_rate</th>\n",
       "      <th>sp_torque</th>\n",
       "      <th>pp_torque</th>\n",
       "      <th>hpt_temp</th>\n",
       "      <th>gt_c_i_temp</th>\n",
       "      <th>gt_c_o_temp</th>\n",
       "      <th>hpt_pressure</th>\n",
       "      <th>gt_c_i_pressure</th>\n",
       "      <th>gt_c_o_pressure</th>\n",
       "      <th>gt_exhaust_pressure</th>\n",
       "      <th>turbine_inj_control</th>\n",
       "      <th>fuel_flow</th>\n",
       "      <th>gt_c_decay</th>\n",
       "      <th>gt_t_decay</th>\n",
       "    </tr>\n",
       "  </thead>\n",
       "  <tbody>\n",
       "    <tr>\n",
       "      <th>0</th>\n",
       "      <td>1.138</td>\n",
       "      <td>3.0</td>\n",
       "      <td>289.964</td>\n",
       "      <td>1349.489</td>\n",
       "      <td>6677.380</td>\n",
       "      <td>7.584</td>\n",
       "      <td>7.584</td>\n",
       "      <td>464.006</td>\n",
       "      <td>288.0</td>\n",
       "      <td>550.563</td>\n",
       "      <td>1.096</td>\n",
       "      <td>0.998</td>\n",
       "      <td>5.947</td>\n",
       "      <td>1.019</td>\n",
       "      <td>7.137</td>\n",
       "      <td>0.082</td>\n",
       "      <td>0.95</td>\n",
       "      <td>0.975</td>\n",
       "    </tr>\n",
       "    <tr>\n",
       "      <th>1</th>\n",
       "      <td>2.088</td>\n",
       "      <td>6.0</td>\n",
       "      <td>6960.180</td>\n",
       "      <td>1376.166</td>\n",
       "      <td>6828.469</td>\n",
       "      <td>28.204</td>\n",
       "      <td>28.204</td>\n",
       "      <td>635.401</td>\n",
       "      <td>288.0</td>\n",
       "      <td>581.658</td>\n",
       "      <td>1.331</td>\n",
       "      <td>0.998</td>\n",
       "      <td>7.282</td>\n",
       "      <td>1.019</td>\n",
       "      <td>10.655</td>\n",
       "      <td>0.287</td>\n",
       "      <td>0.95</td>\n",
       "      <td>0.975</td>\n",
       "    </tr>\n",
       "    <tr>\n",
       "      <th>2</th>\n",
       "      <td>3.144</td>\n",
       "      <td>9.0</td>\n",
       "      <td>8379.229</td>\n",
       "      <td>1386.757</td>\n",
       "      <td>7111.811</td>\n",
       "      <td>60.358</td>\n",
       "      <td>60.358</td>\n",
       "      <td>606.002</td>\n",
       "      <td>288.0</td>\n",
       "      <td>587.587</td>\n",
       "      <td>1.389</td>\n",
       "      <td>0.998</td>\n",
       "      <td>7.574</td>\n",
       "      <td>1.020</td>\n",
       "      <td>13.086</td>\n",
       "      <td>0.259</td>\n",
       "      <td>0.95</td>\n",
       "      <td>0.975</td>\n",
       "    </tr>\n",
       "    <tr>\n",
       "      <th>3</th>\n",
       "      <td>4.161</td>\n",
       "      <td>12.0</td>\n",
       "      <td>14724.395</td>\n",
       "      <td>1547.465</td>\n",
       "      <td>7792.630</td>\n",
       "      <td>113.774</td>\n",
       "      <td>113.774</td>\n",
       "      <td>661.471</td>\n",
       "      <td>288.0</td>\n",
       "      <td>613.851</td>\n",
       "      <td>1.658</td>\n",
       "      <td>0.998</td>\n",
       "      <td>9.007</td>\n",
       "      <td>1.022</td>\n",
       "      <td>18.109</td>\n",
       "      <td>0.358</td>\n",
       "      <td>0.95</td>\n",
       "      <td>0.975</td>\n",
       "    </tr>\n",
       "    <tr>\n",
       "      <th>4</th>\n",
       "      <td>5.140</td>\n",
       "      <td>15.0</td>\n",
       "      <td>21636.432</td>\n",
       "      <td>1924.313</td>\n",
       "      <td>8494.777</td>\n",
       "      <td>175.306</td>\n",
       "      <td>175.306</td>\n",
       "      <td>731.494</td>\n",
       "      <td>288.0</td>\n",
       "      <td>645.642</td>\n",
       "      <td>2.078</td>\n",
       "      <td>0.998</td>\n",
       "      <td>11.197</td>\n",
       "      <td>1.026</td>\n",
       "      <td>26.373</td>\n",
       "      <td>0.522</td>\n",
       "      <td>0.95</td>\n",
       "      <td>0.975</td>\n",
       "    </tr>\n",
       "    <tr>\n",
       "      <th>...</th>\n",
       "      <td>...</td>\n",
       "      <td>...</td>\n",
       "      <td>...</td>\n",
       "      <td>...</td>\n",
       "      <td>...</td>\n",
       "      <td>...</td>\n",
       "      <td>...</td>\n",
       "      <td>...</td>\n",
       "      <td>...</td>\n",
       "      <td>...</td>\n",
       "      <td>...</td>\n",
       "      <td>...</td>\n",
       "      <td>...</td>\n",
       "      <td>...</td>\n",
       "      <td>...</td>\n",
       "      <td>...</td>\n",
       "      <td>...</td>\n",
       "      <td>...</td>\n",
       "    </tr>\n",
       "    <tr>\n",
       "      <th>11929</th>\n",
       "      <td>5.140</td>\n",
       "      <td>15.0</td>\n",
       "      <td>21624.934</td>\n",
       "      <td>1924.342</td>\n",
       "      <td>8470.013</td>\n",
       "      <td>175.239</td>\n",
       "      <td>175.239</td>\n",
       "      <td>681.658</td>\n",
       "      <td>288.0</td>\n",
       "      <td>628.950</td>\n",
       "      <td>2.087</td>\n",
       "      <td>0.998</td>\n",
       "      <td>10.990</td>\n",
       "      <td>1.027</td>\n",
       "      <td>23.803</td>\n",
       "      <td>0.471</td>\n",
       "      <td>1.00</td>\n",
       "      <td>1.000</td>\n",
       "    </tr>\n",
       "    <tr>\n",
       "      <th>11930</th>\n",
       "      <td>6.175</td>\n",
       "      <td>18.0</td>\n",
       "      <td>29763.213</td>\n",
       "      <td>2306.745</td>\n",
       "      <td>8800.352</td>\n",
       "      <td>245.954</td>\n",
       "      <td>245.954</td>\n",
       "      <td>747.405</td>\n",
       "      <td>288.0</td>\n",
       "      <td>658.853</td>\n",
       "      <td>2.512</td>\n",
       "      <td>0.998</td>\n",
       "      <td>13.109</td>\n",
       "      <td>1.031</td>\n",
       "      <td>32.671</td>\n",
       "      <td>0.647</td>\n",
       "      <td>1.00</td>\n",
       "      <td>1.000</td>\n",
       "    </tr>\n",
       "    <tr>\n",
       "      <th>11931</th>\n",
       "      <td>7.148</td>\n",
       "      <td>21.0</td>\n",
       "      <td>39003.867</td>\n",
       "      <td>2678.052</td>\n",
       "      <td>9120.889</td>\n",
       "      <td>332.389</td>\n",
       "      <td>332.389</td>\n",
       "      <td>796.457</td>\n",
       "      <td>288.0</td>\n",
       "      <td>680.393</td>\n",
       "      <td>2.982</td>\n",
       "      <td>0.998</td>\n",
       "      <td>15.420</td>\n",
       "      <td>1.036</td>\n",
       "      <td>42.104</td>\n",
       "      <td>0.834</td>\n",
       "      <td>1.00</td>\n",
       "      <td>1.000</td>\n",
       "    </tr>\n",
       "    <tr>\n",
       "      <th>11932</th>\n",
       "      <td>8.206</td>\n",
       "      <td>24.0</td>\n",
       "      <td>50992.579</td>\n",
       "      <td>3087.434</td>\n",
       "      <td>9300.274</td>\n",
       "      <td>438.024</td>\n",
       "      <td>438.024</td>\n",
       "      <td>892.945</td>\n",
       "      <td>288.0</td>\n",
       "      <td>722.029</td>\n",
       "      <td>3.594</td>\n",
       "      <td>0.998</td>\n",
       "      <td>18.293</td>\n",
       "      <td>1.043</td>\n",
       "      <td>58.064</td>\n",
       "      <td>1.149</td>\n",
       "      <td>1.00</td>\n",
       "      <td>1.000</td>\n",
       "    </tr>\n",
       "    <tr>\n",
       "      <th>11933</th>\n",
       "      <td>9.300</td>\n",
       "      <td>27.0</td>\n",
       "      <td>72775.130</td>\n",
       "      <td>3560.400</td>\n",
       "      <td>9742.950</td>\n",
       "      <td>644.880</td>\n",
       "      <td>644.880</td>\n",
       "      <td>1038.411</td>\n",
       "      <td>288.0</td>\n",
       "      <td>767.595</td>\n",
       "      <td>4.531</td>\n",
       "      <td>0.998</td>\n",
       "      <td>22.464</td>\n",
       "      <td>1.052</td>\n",
       "      <td>86.067</td>\n",
       "      <td>1.704</td>\n",
       "      <td>1.00</td>\n",
       "      <td>1.000</td>\n",
       "    </tr>\n",
       "  </tbody>\n",
       "</table>\n",
       "<p>11934 rows × 18 columns</p>\n",
       "</div>"
      ],
      "text/plain": [
       "       lever_position  ship_speed   gt_shaft   gt_rate   gg_rate  sp_torque  \\\n",
       "0               1.138         3.0    289.964  1349.489  6677.380      7.584   \n",
       "1               2.088         6.0   6960.180  1376.166  6828.469     28.204   \n",
       "2               3.144         9.0   8379.229  1386.757  7111.811     60.358   \n",
       "3               4.161        12.0  14724.395  1547.465  7792.630    113.774   \n",
       "4               5.140        15.0  21636.432  1924.313  8494.777    175.306   \n",
       "...               ...         ...        ...       ...       ...        ...   \n",
       "11929           5.140        15.0  21624.934  1924.342  8470.013    175.239   \n",
       "11930           6.175        18.0  29763.213  2306.745  8800.352    245.954   \n",
       "11931           7.148        21.0  39003.867  2678.052  9120.889    332.389   \n",
       "11932           8.206        24.0  50992.579  3087.434  9300.274    438.024   \n",
       "11933           9.300        27.0  72775.130  3560.400  9742.950    644.880   \n",
       "\n",
       "       pp_torque  hpt_temp  gt_c_i_temp  gt_c_o_temp  hpt_pressure  \\\n",
       "0          7.584   464.006        288.0      550.563         1.096   \n",
       "1         28.204   635.401        288.0      581.658         1.331   \n",
       "2         60.358   606.002        288.0      587.587         1.389   \n",
       "3        113.774   661.471        288.0      613.851         1.658   \n",
       "4        175.306   731.494        288.0      645.642         2.078   \n",
       "...          ...       ...          ...          ...           ...   \n",
       "11929    175.239   681.658        288.0      628.950         2.087   \n",
       "11930    245.954   747.405        288.0      658.853         2.512   \n",
       "11931    332.389   796.457        288.0      680.393         2.982   \n",
       "11932    438.024   892.945        288.0      722.029         3.594   \n",
       "11933    644.880  1038.411        288.0      767.595         4.531   \n",
       "\n",
       "       gt_c_i_pressure  gt_c_o_pressure  gt_exhaust_pressure  \\\n",
       "0                0.998            5.947                1.019   \n",
       "1                0.998            7.282                1.019   \n",
       "2                0.998            7.574                1.020   \n",
       "3                0.998            9.007                1.022   \n",
       "4                0.998           11.197                1.026   \n",
       "...                ...              ...                  ...   \n",
       "11929            0.998           10.990                1.027   \n",
       "11930            0.998           13.109                1.031   \n",
       "11931            0.998           15.420                1.036   \n",
       "11932            0.998           18.293                1.043   \n",
       "11933            0.998           22.464                1.052   \n",
       "\n",
       "       turbine_inj_control  fuel_flow  gt_c_decay  gt_t_decay  \n",
       "0                    7.137      0.082        0.95       0.975  \n",
       "1                   10.655      0.287        0.95       0.975  \n",
       "2                   13.086      0.259        0.95       0.975  \n",
       "3                   18.109      0.358        0.95       0.975  \n",
       "4                   26.373      0.522        0.95       0.975  \n",
       "...                    ...        ...         ...         ...  \n",
       "11929               23.803      0.471        1.00       1.000  \n",
       "11930               32.671      0.647        1.00       1.000  \n",
       "11931               42.104      0.834        1.00       1.000  \n",
       "11932               58.064      1.149        1.00       1.000  \n",
       "11933               86.067      1.704        1.00       1.000  \n",
       "\n",
       "[11934 rows x 18 columns]"
      ]
     },
     "execution_count": 85,
     "metadata": {},
     "output_type": "execute_result"
    }
   ],
   "source": [
    "df"
   ]
  },
  {
   "cell_type": "code",
   "execution_count": 86,
   "metadata": {},
   "outputs": [
    {
     "data": {
      "text/plain": [
       "lever_position         0\n",
       "ship_speed             0\n",
       "gt_shaft               0\n",
       "gt_rate                0\n",
       "gg_rate                0\n",
       "sp_torque              0\n",
       "pp_torque              0\n",
       "hpt_temp               0\n",
       "gt_c_i_temp            0\n",
       "gt_c_o_temp            0\n",
       "hpt_pressure           0\n",
       "gt_c_i_pressure        0\n",
       "gt_c_o_pressure        0\n",
       "gt_exhaust_pressure    0\n",
       "turbine_inj_control    0\n",
       "fuel_flow              0\n",
       "gt_c_decay             0\n",
       "gt_t_decay             0\n",
       "dtype: int64"
      ]
     },
     "execution_count": 86,
     "metadata": {},
     "output_type": "execute_result"
    }
   ],
   "source": [
    "df.isna().sum()"
   ]
  },
  {
   "cell_type": "code",
   "execution_count": 87,
   "metadata": {},
   "outputs": [
    {
     "data": {
      "text/plain": [
       "lever_position             9\n",
       "ship_speed                 9\n",
       "gt_shaft               11430\n",
       "gt_rate                 3888\n",
       "gg_rate                11834\n",
       "sp_torque               4286\n",
       "pp_torque               4286\n",
       "hpt_temp               11772\n",
       "gt_c_i_temp                1\n",
       "gt_c_o_temp            11506\n",
       "hpt_pressure             524\n",
       "gt_c_i_pressure            1\n",
       "gt_c_o_pressure         4209\n",
       "gt_exhaust_pressure       19\n",
       "turbine_inj_control     8496\n",
       "fuel_flow                696\n",
       "gt_c_decay                51\n",
       "gt_t_decay                26\n",
       "dtype: int64"
      ]
     },
     "execution_count": 87,
     "metadata": {},
     "output_type": "execute_result"
    }
   ],
   "source": [
    "df.nunique()"
   ]
  },
  {
   "cell_type": "markdown",
   "metadata": {},
   "source": [
    "Βλέπουμε εδώ bro μου ότι κάποιες στήλες έχουν μόνο μια μοναδική τιμή οπότε άντε λα μαγκέτε βοτανίκ"
   ]
  },
  {
   "cell_type": "code",
   "execution_count": 88,
   "metadata": {},
   "outputs": [],
   "source": [
    "df = df.drop(columns=['gt_c_i_temp','gt_c_i_pressure'],axis=1)"
   ]
  },
  {
   "cell_type": "code",
   "execution_count": 89,
   "metadata": {},
   "outputs": [
    {
     "data": {
      "text/html": [
       "<div>\n",
       "<style scoped>\n",
       "    .dataframe tbody tr th:only-of-type {\n",
       "        vertical-align: middle;\n",
       "    }\n",
       "\n",
       "    .dataframe tbody tr th {\n",
       "        vertical-align: top;\n",
       "    }\n",
       "\n",
       "    .dataframe thead th {\n",
       "        text-align: right;\n",
       "    }\n",
       "</style>\n",
       "<table border=\"1\" class=\"dataframe\">\n",
       "  <thead>\n",
       "    <tr style=\"text-align: right;\">\n",
       "      <th></th>\n",
       "      <th>lever_position</th>\n",
       "      <th>ship_speed</th>\n",
       "      <th>gt_shaft</th>\n",
       "      <th>gt_rate</th>\n",
       "      <th>gg_rate</th>\n",
       "      <th>sp_torque</th>\n",
       "      <th>pp_torque</th>\n",
       "      <th>hpt_temp</th>\n",
       "      <th>gt_c_o_temp</th>\n",
       "      <th>hpt_pressure</th>\n",
       "      <th>gt_c_o_pressure</th>\n",
       "      <th>gt_exhaust_pressure</th>\n",
       "      <th>turbine_inj_control</th>\n",
       "      <th>fuel_flow</th>\n",
       "      <th>gt_c_decay</th>\n",
       "      <th>gt_t_decay</th>\n",
       "    </tr>\n",
       "  </thead>\n",
       "  <tbody>\n",
       "    <tr>\n",
       "      <th>0</th>\n",
       "      <td>1.138</td>\n",
       "      <td>3.0</td>\n",
       "      <td>289.964</td>\n",
       "      <td>1349.489</td>\n",
       "      <td>6677.380</td>\n",
       "      <td>7.584</td>\n",
       "      <td>7.584</td>\n",
       "      <td>464.006</td>\n",
       "      <td>550.563</td>\n",
       "      <td>1.096</td>\n",
       "      <td>5.947</td>\n",
       "      <td>1.019</td>\n",
       "      <td>7.137</td>\n",
       "      <td>0.082</td>\n",
       "      <td>0.95</td>\n",
       "      <td>0.975</td>\n",
       "    </tr>\n",
       "    <tr>\n",
       "      <th>1</th>\n",
       "      <td>2.088</td>\n",
       "      <td>6.0</td>\n",
       "      <td>6960.180</td>\n",
       "      <td>1376.166</td>\n",
       "      <td>6828.469</td>\n",
       "      <td>28.204</td>\n",
       "      <td>28.204</td>\n",
       "      <td>635.401</td>\n",
       "      <td>581.658</td>\n",
       "      <td>1.331</td>\n",
       "      <td>7.282</td>\n",
       "      <td>1.019</td>\n",
       "      <td>10.655</td>\n",
       "      <td>0.287</td>\n",
       "      <td>0.95</td>\n",
       "      <td>0.975</td>\n",
       "    </tr>\n",
       "    <tr>\n",
       "      <th>2</th>\n",
       "      <td>3.144</td>\n",
       "      <td>9.0</td>\n",
       "      <td>8379.229</td>\n",
       "      <td>1386.757</td>\n",
       "      <td>7111.811</td>\n",
       "      <td>60.358</td>\n",
       "      <td>60.358</td>\n",
       "      <td>606.002</td>\n",
       "      <td>587.587</td>\n",
       "      <td>1.389</td>\n",
       "      <td>7.574</td>\n",
       "      <td>1.020</td>\n",
       "      <td>13.086</td>\n",
       "      <td>0.259</td>\n",
       "      <td>0.95</td>\n",
       "      <td>0.975</td>\n",
       "    </tr>\n",
       "    <tr>\n",
       "      <th>3</th>\n",
       "      <td>4.161</td>\n",
       "      <td>12.0</td>\n",
       "      <td>14724.395</td>\n",
       "      <td>1547.465</td>\n",
       "      <td>7792.630</td>\n",
       "      <td>113.774</td>\n",
       "      <td>113.774</td>\n",
       "      <td>661.471</td>\n",
       "      <td>613.851</td>\n",
       "      <td>1.658</td>\n",
       "      <td>9.007</td>\n",
       "      <td>1.022</td>\n",
       "      <td>18.109</td>\n",
       "      <td>0.358</td>\n",
       "      <td>0.95</td>\n",
       "      <td>0.975</td>\n",
       "    </tr>\n",
       "    <tr>\n",
       "      <th>4</th>\n",
       "      <td>5.140</td>\n",
       "      <td>15.0</td>\n",
       "      <td>21636.432</td>\n",
       "      <td>1924.313</td>\n",
       "      <td>8494.777</td>\n",
       "      <td>175.306</td>\n",
       "      <td>175.306</td>\n",
       "      <td>731.494</td>\n",
       "      <td>645.642</td>\n",
       "      <td>2.078</td>\n",
       "      <td>11.197</td>\n",
       "      <td>1.026</td>\n",
       "      <td>26.373</td>\n",
       "      <td>0.522</td>\n",
       "      <td>0.95</td>\n",
       "      <td>0.975</td>\n",
       "    </tr>\n",
       "  </tbody>\n",
       "</table>\n",
       "</div>"
      ],
      "text/plain": [
       "   lever_position  ship_speed   gt_shaft   gt_rate   gg_rate  sp_torque  \\\n",
       "0           1.138         3.0    289.964  1349.489  6677.380      7.584   \n",
       "1           2.088         6.0   6960.180  1376.166  6828.469     28.204   \n",
       "2           3.144         9.0   8379.229  1386.757  7111.811     60.358   \n",
       "3           4.161        12.0  14724.395  1547.465  7792.630    113.774   \n",
       "4           5.140        15.0  21636.432  1924.313  8494.777    175.306   \n",
       "\n",
       "   pp_torque  hpt_temp  gt_c_o_temp  hpt_pressure  gt_c_o_pressure  \\\n",
       "0      7.584   464.006      550.563         1.096            5.947   \n",
       "1     28.204   635.401      581.658         1.331            7.282   \n",
       "2     60.358   606.002      587.587         1.389            7.574   \n",
       "3    113.774   661.471      613.851         1.658            9.007   \n",
       "4    175.306   731.494      645.642         2.078           11.197   \n",
       "\n",
       "   gt_exhaust_pressure  turbine_inj_control  fuel_flow  gt_c_decay  gt_t_decay  \n",
       "0                1.019                7.137      0.082        0.95       0.975  \n",
       "1                1.019               10.655      0.287        0.95       0.975  \n",
       "2                1.020               13.086      0.259        0.95       0.975  \n",
       "3                1.022               18.109      0.358        0.95       0.975  \n",
       "4                1.026               26.373      0.522        0.95       0.975  "
      ]
     },
     "execution_count": 89,
     "metadata": {},
     "output_type": "execute_result"
    }
   ],
   "source": [
    "df.head()"
   ]
  },
  {
   "cell_type": "code",
   "execution_count": 90,
   "metadata": {},
   "outputs": [
    {
     "data": {
      "text/plain": [
       "<AxesSubplot:>"
      ]
     },
     "execution_count": 90,
     "metadata": {},
     "output_type": "execute_result"
    },
    {
     "data": {
      "image/png": "[encoded data removed]",
      "text/plain": [
       "<Figure size 792x648 with 2 Axes>"
      ]
     },
     "metadata": {
      "needs_background": "light"
     },
     "output_type": "display_data"
    }
   ],
   "source": [
    "# Compute the correlation matrix\n",
    "corr = df.corr()\n",
    "\n",
    "# Generate a mask for the upper triangle\n",
    "mask = np.triu(np.ones_like(corr, dtype=bool))\n",
    "\n",
    "# Set up the matplotlib figure\n",
    "f, ax = plt.subplots(figsize=(11, 9))\n",
    "\n",
    "# Generate a custom diverging colormap\n",
    "cmap = sns.diverging_palette(230, 20, as_cmap=True)\n",
    "\n",
    "# Draw the heatmap with the mask and correct aspect ratio\n",
    "sns.heatmap(corr, mask=mask,\n",
    "            square=True, linewidths=.5, cbar_kws={\"shrink\": .5},annot=True,yticklabels = df.columns.values, xticklabels=df.columns.values)"
   ]
  },
  {
   "cell_type": "code",
   "execution_count": 91,
   "metadata": {},
   "outputs": [],
   "source": [
    "df1 = df.drop(columns=['gt_t_decay'])\n",
    "df2 = df.drop(columns=['gt_c_decay'])"
   ]
  },
  {
   "cell_type": "code",
   "execution_count": 14,
   "metadata": {},
   "outputs": [
    {
     "data": {
      "text/html": [
       "<style  type=\"text/css\" >\n",
       "#T_f64a8d03_831c_11eb_a288_380025ac0edfrow16_col1,#T_f64a8d03_831c_11eb_a288_380025ac0edfrow17_col1,#T_f64a8d03_831c_11eb_a288_380025ac0edfrow27_col1,#T_f64a8d03_831c_11eb_a288_380025ac0edfrow29_col1{\n",
       "            background-color:  lightgreen;\n",
       "        }</style><table id=\"T_f64a8d03_831c_11eb_a288_380025ac0edf\" ><thead>    <tr>        <th class=\"blank level0\" ></th>        <th class=\"col_heading level0 col0\" >Description</th>        <th class=\"col_heading level0 col1\" >Value</th>    </tr></thead><tbody>\n",
       "                <tr>\n",
       "                        <th id=\"T_f64a8d03_831c_11eb_a288_380025ac0edflevel0_row0\" class=\"row_heading level0 row0\" >0</th>\n",
       "                        <td id=\"T_f64a8d03_831c_11eb_a288_380025ac0edfrow0_col0\" class=\"data row0 col0\" >session_id</td>\n",
       "                        <td id=\"T_f64a8d03_831c_11eb_a288_380025ac0edfrow0_col1\" class=\"data row0 col1\" >123</td>\n",
       "            </tr>\n",
       "            <tr>\n",
       "                        <th id=\"T_f64a8d03_831c_11eb_a288_380025ac0edflevel0_row1\" class=\"row_heading level0 row1\" >1</th>\n",
       "                        <td id=\"T_f64a8d03_831c_11eb_a288_380025ac0edfrow1_col0\" class=\"data row1 col0\" >Target</td>\n",
       "                        <td id=\"T_f64a8d03_831c_11eb_a288_380025ac0edfrow1_col1\" class=\"data row1 col1\" >gt_c_decay</td>\n",
       "            </tr>\n",
       "            <tr>\n",
       "                        <th id=\"T_f64a8d03_831c_11eb_a288_380025ac0edflevel0_row2\" class=\"row_heading level0 row2\" >2</th>\n",
       "                        <td id=\"T_f64a8d03_831c_11eb_a288_380025ac0edfrow2_col0\" class=\"data row2 col0\" >Original Data</td>\n",
       "                        <td id=\"T_f64a8d03_831c_11eb_a288_380025ac0edfrow2_col1\" class=\"data row2 col1\" >(11934, 15)</td>\n",
       "            </tr>\n",
       "            <tr>\n",
       "                        <th id=\"T_f64a8d03_831c_11eb_a288_380025ac0edflevel0_row3\" class=\"row_heading level0 row3\" >3</th>\n",
       "                        <td id=\"T_f64a8d03_831c_11eb_a288_380025ac0edfrow3_col0\" class=\"data row3 col0\" >Missing Values</td>\n",
       "                        <td id=\"T_f64a8d03_831c_11eb_a288_380025ac0edfrow3_col1\" class=\"data row3 col1\" >False</td>\n",
       "            </tr>\n",
       "            <tr>\n",
       "                        <th id=\"T_f64a8d03_831c_11eb_a288_380025ac0edflevel0_row4\" class=\"row_heading level0 row4\" >4</th>\n",
       "                        <td id=\"T_f64a8d03_831c_11eb_a288_380025ac0edfrow4_col0\" class=\"data row4 col0\" >Numeric Features</td>\n",
       "                        <td id=\"T_f64a8d03_831c_11eb_a288_380025ac0edfrow4_col1\" class=\"data row4 col1\" >14</td>\n",
       "            </tr>\n",
       "            <tr>\n",
       "                        <th id=\"T_f64a8d03_831c_11eb_a288_380025ac0edflevel0_row5\" class=\"row_heading level0 row5\" >5</th>\n",
       "                        <td id=\"T_f64a8d03_831c_11eb_a288_380025ac0edfrow5_col0\" class=\"data row5 col0\" >Categorical Features</td>\n",
       "                        <td id=\"T_f64a8d03_831c_11eb_a288_380025ac0edfrow5_col1\" class=\"data row5 col1\" >0</td>\n",
       "            </tr>\n",
       "            <tr>\n",
       "                        <th id=\"T_f64a8d03_831c_11eb_a288_380025ac0edflevel0_row6\" class=\"row_heading level0 row6\" >6</th>\n",
       "                        <td id=\"T_f64a8d03_831c_11eb_a288_380025ac0edfrow6_col0\" class=\"data row6 col0\" >Ordinal Features</td>\n",
       "                        <td id=\"T_f64a8d03_831c_11eb_a288_380025ac0edfrow6_col1\" class=\"data row6 col1\" >False</td>\n",
       "            </tr>\n",
       "            <tr>\n",
       "                        <th id=\"T_f64a8d03_831c_11eb_a288_380025ac0edflevel0_row7\" class=\"row_heading level0 row7\" >7</th>\n",
       "                        <td id=\"T_f64a8d03_831c_11eb_a288_380025ac0edfrow7_col0\" class=\"data row7 col0\" >High Cardinality Features</td>\n",
       "                        <td id=\"T_f64a8d03_831c_11eb_a288_380025ac0edfrow7_col1\" class=\"data row7 col1\" >False</td>\n",
       "            </tr>\n",
       "            <tr>\n",
       "                        <th id=\"T_f64a8d03_831c_11eb_a288_380025ac0edflevel0_row8\" class=\"row_heading level0 row8\" >8</th>\n",
       "                        <td id=\"T_f64a8d03_831c_11eb_a288_380025ac0edfrow8_col0\" class=\"data row8 col0\" >High Cardinality Method</td>\n",
       "                        <td id=\"T_f64a8d03_831c_11eb_a288_380025ac0edfrow8_col1\" class=\"data row8 col1\" >None</td>\n",
       "            </tr>\n",
       "            <tr>\n",
       "                        <th id=\"T_f64a8d03_831c_11eb_a288_380025ac0edflevel0_row9\" class=\"row_heading level0 row9\" >9</th>\n",
       "                        <td id=\"T_f64a8d03_831c_11eb_a288_380025ac0edfrow9_col0\" class=\"data row9 col0\" >Transformed Train Set</td>\n",
       "                        <td id=\"T_f64a8d03_831c_11eb_a288_380025ac0edfrow9_col1\" class=\"data row9 col1\" >(8353, 6)</td>\n",
       "            </tr>\n",
       "            <tr>\n",
       "                        <th id=\"T_f64a8d03_831c_11eb_a288_380025ac0edflevel0_row10\" class=\"row_heading level0 row10\" >10</th>\n",
       "                        <td id=\"T_f64a8d03_831c_11eb_a288_380025ac0edfrow10_col0\" class=\"data row10 col0\" >Transformed Test Set</td>\n",
       "                        <td id=\"T_f64a8d03_831c_11eb_a288_380025ac0edfrow10_col1\" class=\"data row10 col1\" >(3581, 6)</td>\n",
       "            </tr>\n",
       "            <tr>\n",
       "                        <th id=\"T_f64a8d03_831c_11eb_a288_380025ac0edflevel0_row11\" class=\"row_heading level0 row11\" >11</th>\n",
       "                        <td id=\"T_f64a8d03_831c_11eb_a288_380025ac0edfrow11_col0\" class=\"data row11 col0\" >Shuffle Train-Test</td>\n",
       "                        <td id=\"T_f64a8d03_831c_11eb_a288_380025ac0edfrow11_col1\" class=\"data row11 col1\" >True</td>\n",
       "            </tr>\n",
       "            <tr>\n",
       "                        <th id=\"T_f64a8d03_831c_11eb_a288_380025ac0edflevel0_row12\" class=\"row_heading level0 row12\" >12</th>\n",
       "                        <td id=\"T_f64a8d03_831c_11eb_a288_380025ac0edfrow12_col0\" class=\"data row12 col0\" >Stratify Train-Test</td>\n",
       "                        <td id=\"T_f64a8d03_831c_11eb_a288_380025ac0edfrow12_col1\" class=\"data row12 col1\" >False</td>\n",
       "            </tr>\n",
       "            <tr>\n",
       "                        <th id=\"T_f64a8d03_831c_11eb_a288_380025ac0edflevel0_row13\" class=\"row_heading level0 row13\" >13</th>\n",
       "                        <td id=\"T_f64a8d03_831c_11eb_a288_380025ac0edfrow13_col0\" class=\"data row13 col0\" >Fold Generator</td>\n",
       "                        <td id=\"T_f64a8d03_831c_11eb_a288_380025ac0edfrow13_col1\" class=\"data row13 col1\" >KFold</td>\n",
       "            </tr>\n",
       "            <tr>\n",
       "                        <th id=\"T_f64a8d03_831c_11eb_a288_380025ac0edflevel0_row14\" class=\"row_heading level0 row14\" >14</th>\n",
       "                        <td id=\"T_f64a8d03_831c_11eb_a288_380025ac0edfrow14_col0\" class=\"data row14 col0\" >Fold Number</td>\n",
       "                        <td id=\"T_f64a8d03_831c_11eb_a288_380025ac0edfrow14_col1\" class=\"data row14 col1\" >10</td>\n",
       "            </tr>\n",
       "            <tr>\n",
       "                        <th id=\"T_f64a8d03_831c_11eb_a288_380025ac0edflevel0_row15\" class=\"row_heading level0 row15\" >15</th>\n",
       "                        <td id=\"T_f64a8d03_831c_11eb_a288_380025ac0edfrow15_col0\" class=\"data row15 col0\" >CPU Jobs</td>\n",
       "                        <td id=\"T_f64a8d03_831c_11eb_a288_380025ac0edfrow15_col1\" class=\"data row15 col1\" >-1</td>\n",
       "            </tr>\n",
       "            <tr>\n",
       "                        <th id=\"T_f64a8d03_831c_11eb_a288_380025ac0edflevel0_row16\" class=\"row_heading level0 row16\" >16</th>\n",
       "                        <td id=\"T_f64a8d03_831c_11eb_a288_380025ac0edfrow16_col0\" class=\"data row16 col0\" >Use GPU</td>\n",
       "                        <td id=\"T_f64a8d03_831c_11eb_a288_380025ac0edfrow16_col1\" class=\"data row16 col1\" >True</td>\n",
       "            </tr>\n",
       "            <tr>\n",
       "                        <th id=\"T_f64a8d03_831c_11eb_a288_380025ac0edflevel0_row17\" class=\"row_heading level0 row17\" >17</th>\n",
       "                        <td id=\"T_f64a8d03_831c_11eb_a288_380025ac0edfrow17_col0\" class=\"data row17 col0\" >Log Experiment</td>\n",
       "                        <td id=\"T_f64a8d03_831c_11eb_a288_380025ac0edfrow17_col1\" class=\"data row17 col1\" >True</td>\n",
       "            </tr>\n",
       "            <tr>\n",
       "                        <th id=\"T_f64a8d03_831c_11eb_a288_380025ac0edflevel0_row18\" class=\"row_heading level0 row18\" >18</th>\n",
       "                        <td id=\"T_f64a8d03_831c_11eb_a288_380025ac0edfrow18_col0\" class=\"data row18 col0\" >Experiment Name</td>\n",
       "                        <td id=\"T_f64a8d03_831c_11eb_a288_380025ac0edfrow18_col1\" class=\"data row18 col1\" >Naval</td>\n",
       "            </tr>\n",
       "            <tr>\n",
       "                        <th id=\"T_f64a8d03_831c_11eb_a288_380025ac0edflevel0_row19\" class=\"row_heading level0 row19\" >19</th>\n",
       "                        <td id=\"T_f64a8d03_831c_11eb_a288_380025ac0edfrow19_col0\" class=\"data row19 col0\" >USI</td>\n",
       "                        <td id=\"T_f64a8d03_831c_11eb_a288_380025ac0edfrow19_col1\" class=\"data row19 col1\" >0b71</td>\n",
       "            </tr>\n",
       "            <tr>\n",
       "                        <th id=\"T_f64a8d03_831c_11eb_a288_380025ac0edflevel0_row20\" class=\"row_heading level0 row20\" >20</th>\n",
       "                        <td id=\"T_f64a8d03_831c_11eb_a288_380025ac0edfrow20_col0\" class=\"data row20 col0\" >Imputation Type</td>\n",
       "                        <td id=\"T_f64a8d03_831c_11eb_a288_380025ac0edfrow20_col1\" class=\"data row20 col1\" >simple</td>\n",
       "            </tr>\n",
       "            <tr>\n",
       "                        <th id=\"T_f64a8d03_831c_11eb_a288_380025ac0edflevel0_row21\" class=\"row_heading level0 row21\" >21</th>\n",
       "                        <td id=\"T_f64a8d03_831c_11eb_a288_380025ac0edfrow21_col0\" class=\"data row21 col0\" >Iterative Imputation Iteration</td>\n",
       "                        <td id=\"T_f64a8d03_831c_11eb_a288_380025ac0edfrow21_col1\" class=\"data row21 col1\" >None</td>\n",
       "            </tr>\n",
       "            <tr>\n",
       "                        <th id=\"T_f64a8d03_831c_11eb_a288_380025ac0edflevel0_row22\" class=\"row_heading level0 row22\" >22</th>\n",
       "                        <td id=\"T_f64a8d03_831c_11eb_a288_380025ac0edfrow22_col0\" class=\"data row22 col0\" >Numeric Imputer</td>\n",
       "                        <td id=\"T_f64a8d03_831c_11eb_a288_380025ac0edfrow22_col1\" class=\"data row22 col1\" >mean</td>\n",
       "            </tr>\n",
       "            <tr>\n",
       "                        <th id=\"T_f64a8d03_831c_11eb_a288_380025ac0edflevel0_row23\" class=\"row_heading level0 row23\" >23</th>\n",
       "                        <td id=\"T_f64a8d03_831c_11eb_a288_380025ac0edfrow23_col0\" class=\"data row23 col0\" >Iterative Imputation Numeric Model</td>\n",
       "                        <td id=\"T_f64a8d03_831c_11eb_a288_380025ac0edfrow23_col1\" class=\"data row23 col1\" >None</td>\n",
       "            </tr>\n",
       "            <tr>\n",
       "                        <th id=\"T_f64a8d03_831c_11eb_a288_380025ac0edflevel0_row24\" class=\"row_heading level0 row24\" >24</th>\n",
       "                        <td id=\"T_f64a8d03_831c_11eb_a288_380025ac0edfrow24_col0\" class=\"data row24 col0\" >Categorical Imputer</td>\n",
       "                        <td id=\"T_f64a8d03_831c_11eb_a288_380025ac0edfrow24_col1\" class=\"data row24 col1\" >constant</td>\n",
       "            </tr>\n",
       "            <tr>\n",
       "                        <th id=\"T_f64a8d03_831c_11eb_a288_380025ac0edflevel0_row25\" class=\"row_heading level0 row25\" >25</th>\n",
       "                        <td id=\"T_f64a8d03_831c_11eb_a288_380025ac0edfrow25_col0\" class=\"data row25 col0\" >Iterative Imputation Categorical Model</td>\n",
       "                        <td id=\"T_f64a8d03_831c_11eb_a288_380025ac0edfrow25_col1\" class=\"data row25 col1\" >None</td>\n",
       "            </tr>\n",
       "            <tr>\n",
       "                        <th id=\"T_f64a8d03_831c_11eb_a288_380025ac0edflevel0_row26\" class=\"row_heading level0 row26\" >26</th>\n",
       "                        <td id=\"T_f64a8d03_831c_11eb_a288_380025ac0edfrow26_col0\" class=\"data row26 col0\" >Unknown Categoricals Handling</td>\n",
       "                        <td id=\"T_f64a8d03_831c_11eb_a288_380025ac0edfrow26_col1\" class=\"data row26 col1\" >least_frequent</td>\n",
       "            </tr>\n",
       "            <tr>\n",
       "                        <th id=\"T_f64a8d03_831c_11eb_a288_380025ac0edflevel0_row27\" class=\"row_heading level0 row27\" >27</th>\n",
       "                        <td id=\"T_f64a8d03_831c_11eb_a288_380025ac0edfrow27_col0\" class=\"data row27 col0\" >Normalize</td>\n",
       "                        <td id=\"T_f64a8d03_831c_11eb_a288_380025ac0edfrow27_col1\" class=\"data row27 col1\" >True</td>\n",
       "            </tr>\n",
       "            <tr>\n",
       "                        <th id=\"T_f64a8d03_831c_11eb_a288_380025ac0edflevel0_row28\" class=\"row_heading level0 row28\" >28</th>\n",
       "                        <td id=\"T_f64a8d03_831c_11eb_a288_380025ac0edfrow28_col0\" class=\"data row28 col0\" >Normalize Method</td>\n",
       "                        <td id=\"T_f64a8d03_831c_11eb_a288_380025ac0edfrow28_col1\" class=\"data row28 col1\" >zscore</td>\n",
       "            </tr>\n",
       "            <tr>\n",
       "                        <th id=\"T_f64a8d03_831c_11eb_a288_380025ac0edflevel0_row29\" class=\"row_heading level0 row29\" >29</th>\n",
       "                        <td id=\"T_f64a8d03_831c_11eb_a288_380025ac0edfrow29_col0\" class=\"data row29 col0\" >Transformation</td>\n",
       "                        <td id=\"T_f64a8d03_831c_11eb_a288_380025ac0edfrow29_col1\" class=\"data row29 col1\" >True</td>\n",
       "            </tr>\n",
       "            <tr>\n",
       "                        <th id=\"T_f64a8d03_831c_11eb_a288_380025ac0edflevel0_row30\" class=\"row_heading level0 row30\" >30</th>\n",
       "                        <td id=\"T_f64a8d03_831c_11eb_a288_380025ac0edfrow30_col0\" class=\"data row30 col0\" >Transformation Method</td>\n",
       "                        <td id=\"T_f64a8d03_831c_11eb_a288_380025ac0edfrow30_col1\" class=\"data row30 col1\" >yeo-johnson</td>\n",
       "            </tr>\n",
       "            <tr>\n",
       "                        <th id=\"T_f64a8d03_831c_11eb_a288_380025ac0edflevel0_row31\" class=\"row_heading level0 row31\" >31</th>\n",
       "                        <td id=\"T_f64a8d03_831c_11eb_a288_380025ac0edfrow31_col0\" class=\"data row31 col0\" >PCA</td>\n",
       "                        <td id=\"T_f64a8d03_831c_11eb_a288_380025ac0edfrow31_col1\" class=\"data row31 col1\" >False</td>\n",
       "            </tr>\n",
       "            <tr>\n",
       "                        <th id=\"T_f64a8d03_831c_11eb_a288_380025ac0edflevel0_row32\" class=\"row_heading level0 row32\" >32</th>\n",
       "                        <td id=\"T_f64a8d03_831c_11eb_a288_380025ac0edfrow32_col0\" class=\"data row32 col0\" >PCA Method</td>\n",
       "                        <td id=\"T_f64a8d03_831c_11eb_a288_380025ac0edfrow32_col1\" class=\"data row32 col1\" >None</td>\n",
       "            </tr>\n",
       "            <tr>\n",
       "                        <th id=\"T_f64a8d03_831c_11eb_a288_380025ac0edflevel0_row33\" class=\"row_heading level0 row33\" >33</th>\n",
       "                        <td id=\"T_f64a8d03_831c_11eb_a288_380025ac0edfrow33_col0\" class=\"data row33 col0\" >PCA Components</td>\n",
       "                        <td id=\"T_f64a8d03_831c_11eb_a288_380025ac0edfrow33_col1\" class=\"data row33 col1\" >None</td>\n",
       "            </tr>\n",
       "            <tr>\n",
       "                        <th id=\"T_f64a8d03_831c_11eb_a288_380025ac0edflevel0_row34\" class=\"row_heading level0 row34\" >34</th>\n",
       "                        <td id=\"T_f64a8d03_831c_11eb_a288_380025ac0edfrow34_col0\" class=\"data row34 col0\" >Ignore Low Variance</td>\n",
       "                        <td id=\"T_f64a8d03_831c_11eb_a288_380025ac0edfrow34_col1\" class=\"data row34 col1\" >False</td>\n",
       "            </tr>\n",
       "            <tr>\n",
       "                        <th id=\"T_f64a8d03_831c_11eb_a288_380025ac0edflevel0_row35\" class=\"row_heading level0 row35\" >35</th>\n",
       "                        <td id=\"T_f64a8d03_831c_11eb_a288_380025ac0edfrow35_col0\" class=\"data row35 col0\" >Combine Rare Levels</td>\n",
       "                        <td id=\"T_f64a8d03_831c_11eb_a288_380025ac0edfrow35_col1\" class=\"data row35 col1\" >False</td>\n",
       "            </tr>\n",
       "            <tr>\n",
       "                        <th id=\"T_f64a8d03_831c_11eb_a288_380025ac0edflevel0_row36\" class=\"row_heading level0 row36\" >36</th>\n",
       "                        <td id=\"T_f64a8d03_831c_11eb_a288_380025ac0edfrow36_col0\" class=\"data row36 col0\" >Rare Level Threshold</td>\n",
       "                        <td id=\"T_f64a8d03_831c_11eb_a288_380025ac0edfrow36_col1\" class=\"data row36 col1\" >None</td>\n",
       "            </tr>\n",
       "            <tr>\n",
       "                        <th id=\"T_f64a8d03_831c_11eb_a288_380025ac0edflevel0_row37\" class=\"row_heading level0 row37\" >37</th>\n",
       "                        <td id=\"T_f64a8d03_831c_11eb_a288_380025ac0edfrow37_col0\" class=\"data row37 col0\" >Numeric Binning</td>\n",
       "                        <td id=\"T_f64a8d03_831c_11eb_a288_380025ac0edfrow37_col1\" class=\"data row37 col1\" >False</td>\n",
       "            </tr>\n",
       "            <tr>\n",
       "                        <th id=\"T_f64a8d03_831c_11eb_a288_380025ac0edflevel0_row38\" class=\"row_heading level0 row38\" >38</th>\n",
       "                        <td id=\"T_f64a8d03_831c_11eb_a288_380025ac0edfrow38_col0\" class=\"data row38 col0\" >Remove Outliers</td>\n",
       "                        <td id=\"T_f64a8d03_831c_11eb_a288_380025ac0edfrow38_col1\" class=\"data row38 col1\" >False</td>\n",
       "            </tr>\n",
       "            <tr>\n",
       "                        <th id=\"T_f64a8d03_831c_11eb_a288_380025ac0edflevel0_row39\" class=\"row_heading level0 row39\" >39</th>\n",
       "                        <td id=\"T_f64a8d03_831c_11eb_a288_380025ac0edfrow39_col0\" class=\"data row39 col0\" >Outliers Threshold</td>\n",
       "                        <td id=\"T_f64a8d03_831c_11eb_a288_380025ac0edfrow39_col1\" class=\"data row39 col1\" >None</td>\n",
       "            </tr>\n",
       "            <tr>\n",
       "                        <th id=\"T_f64a8d03_831c_11eb_a288_380025ac0edflevel0_row40\" class=\"row_heading level0 row40\" >40</th>\n",
       "                        <td id=\"T_f64a8d03_831c_11eb_a288_380025ac0edfrow40_col0\" class=\"data row40 col0\" >Remove Multicollinearity</td>\n",
       "                        <td id=\"T_f64a8d03_831c_11eb_a288_380025ac0edfrow40_col1\" class=\"data row40 col1\" >False</td>\n",
       "            </tr>\n",
       "            <tr>\n",
       "                        <th id=\"T_f64a8d03_831c_11eb_a288_380025ac0edflevel0_row41\" class=\"row_heading level0 row41\" >41</th>\n",
       "                        <td id=\"T_f64a8d03_831c_11eb_a288_380025ac0edfrow41_col0\" class=\"data row41 col0\" >Multicollinearity Threshold</td>\n",
       "                        <td id=\"T_f64a8d03_831c_11eb_a288_380025ac0edfrow41_col1\" class=\"data row41 col1\" >None</td>\n",
       "            </tr>\n",
       "            <tr>\n",
       "                        <th id=\"T_f64a8d03_831c_11eb_a288_380025ac0edflevel0_row42\" class=\"row_heading level0 row42\" >42</th>\n",
       "                        <td id=\"T_f64a8d03_831c_11eb_a288_380025ac0edfrow42_col0\" class=\"data row42 col0\" >Clustering</td>\n",
       "                        <td id=\"T_f64a8d03_831c_11eb_a288_380025ac0edfrow42_col1\" class=\"data row42 col1\" >False</td>\n",
       "            </tr>\n",
       "            <tr>\n",
       "                        <th id=\"T_f64a8d03_831c_11eb_a288_380025ac0edflevel0_row43\" class=\"row_heading level0 row43\" >43</th>\n",
       "                        <td id=\"T_f64a8d03_831c_11eb_a288_380025ac0edfrow43_col0\" class=\"data row43 col0\" >Clustering Iteration</td>\n",
       "                        <td id=\"T_f64a8d03_831c_11eb_a288_380025ac0edfrow43_col1\" class=\"data row43 col1\" >None</td>\n",
       "            </tr>\n",
       "            <tr>\n",
       "                        <th id=\"T_f64a8d03_831c_11eb_a288_380025ac0edflevel0_row44\" class=\"row_heading level0 row44\" >44</th>\n",
       "                        <td id=\"T_f64a8d03_831c_11eb_a288_380025ac0edfrow44_col0\" class=\"data row44 col0\" >Polynomial Features</td>\n",
       "                        <td id=\"T_f64a8d03_831c_11eb_a288_380025ac0edfrow44_col1\" class=\"data row44 col1\" >False</td>\n",
       "            </tr>\n",
       "            <tr>\n",
       "                        <th id=\"T_f64a8d03_831c_11eb_a288_380025ac0edflevel0_row45\" class=\"row_heading level0 row45\" >45</th>\n",
       "                        <td id=\"T_f64a8d03_831c_11eb_a288_380025ac0edfrow45_col0\" class=\"data row45 col0\" >Polynomial Degree</td>\n",
       "                        <td id=\"T_f64a8d03_831c_11eb_a288_380025ac0edfrow45_col1\" class=\"data row45 col1\" >None</td>\n",
       "            </tr>\n",
       "            <tr>\n",
       "                        <th id=\"T_f64a8d03_831c_11eb_a288_380025ac0edflevel0_row46\" class=\"row_heading level0 row46\" >46</th>\n",
       "                        <td id=\"T_f64a8d03_831c_11eb_a288_380025ac0edfrow46_col0\" class=\"data row46 col0\" >Trignometry Features</td>\n",
       "                        <td id=\"T_f64a8d03_831c_11eb_a288_380025ac0edfrow46_col1\" class=\"data row46 col1\" >False</td>\n",
       "            </tr>\n",
       "            <tr>\n",
       "                        <th id=\"T_f64a8d03_831c_11eb_a288_380025ac0edflevel0_row47\" class=\"row_heading level0 row47\" >47</th>\n",
       "                        <td id=\"T_f64a8d03_831c_11eb_a288_380025ac0edfrow47_col0\" class=\"data row47 col0\" >Polynomial Threshold</td>\n",
       "                        <td id=\"T_f64a8d03_831c_11eb_a288_380025ac0edfrow47_col1\" class=\"data row47 col1\" >None</td>\n",
       "            </tr>\n",
       "            <tr>\n",
       "                        <th id=\"T_f64a8d03_831c_11eb_a288_380025ac0edflevel0_row48\" class=\"row_heading level0 row48\" >48</th>\n",
       "                        <td id=\"T_f64a8d03_831c_11eb_a288_380025ac0edfrow48_col0\" class=\"data row48 col0\" >Group Features</td>\n",
       "                        <td id=\"T_f64a8d03_831c_11eb_a288_380025ac0edfrow48_col1\" class=\"data row48 col1\" >False</td>\n",
       "            </tr>\n",
       "            <tr>\n",
       "                        <th id=\"T_f64a8d03_831c_11eb_a288_380025ac0edflevel0_row49\" class=\"row_heading level0 row49\" >49</th>\n",
       "                        <td id=\"T_f64a8d03_831c_11eb_a288_380025ac0edfrow49_col0\" class=\"data row49 col0\" >Feature Selection</td>\n",
       "                        <td id=\"T_f64a8d03_831c_11eb_a288_380025ac0edfrow49_col1\" class=\"data row49 col1\" >False</td>\n",
       "            </tr>\n",
       "            <tr>\n",
       "                        <th id=\"T_f64a8d03_831c_11eb_a288_380025ac0edflevel0_row50\" class=\"row_heading level0 row50\" >50</th>\n",
       "                        <td id=\"T_f64a8d03_831c_11eb_a288_380025ac0edfrow50_col0\" class=\"data row50 col0\" >Feature Selection Method</td>\n",
       "                        <td id=\"T_f64a8d03_831c_11eb_a288_380025ac0edfrow50_col1\" class=\"data row50 col1\" >classic</td>\n",
       "            </tr>\n",
       "            <tr>\n",
       "                        <th id=\"T_f64a8d03_831c_11eb_a288_380025ac0edflevel0_row51\" class=\"row_heading level0 row51\" >51</th>\n",
       "                        <td id=\"T_f64a8d03_831c_11eb_a288_380025ac0edfrow51_col0\" class=\"data row51 col0\" >Features Selection Threshold</td>\n",
       "                        <td id=\"T_f64a8d03_831c_11eb_a288_380025ac0edfrow51_col1\" class=\"data row51 col1\" >None</td>\n",
       "            </tr>\n",
       "            <tr>\n",
       "                        <th id=\"T_f64a8d03_831c_11eb_a288_380025ac0edflevel0_row52\" class=\"row_heading level0 row52\" >52</th>\n",
       "                        <td id=\"T_f64a8d03_831c_11eb_a288_380025ac0edfrow52_col0\" class=\"data row52 col0\" >Feature Interaction</td>\n",
       "                        <td id=\"T_f64a8d03_831c_11eb_a288_380025ac0edfrow52_col1\" class=\"data row52 col1\" >False</td>\n",
       "            </tr>\n",
       "            <tr>\n",
       "                        <th id=\"T_f64a8d03_831c_11eb_a288_380025ac0edflevel0_row53\" class=\"row_heading level0 row53\" >53</th>\n",
       "                        <td id=\"T_f64a8d03_831c_11eb_a288_380025ac0edfrow53_col0\" class=\"data row53 col0\" >Feature Ratio</td>\n",
       "                        <td id=\"T_f64a8d03_831c_11eb_a288_380025ac0edfrow53_col1\" class=\"data row53 col1\" >False</td>\n",
       "            </tr>\n",
       "            <tr>\n",
       "                        <th id=\"T_f64a8d03_831c_11eb_a288_380025ac0edflevel0_row54\" class=\"row_heading level0 row54\" >54</th>\n",
       "                        <td id=\"T_f64a8d03_831c_11eb_a288_380025ac0edfrow54_col0\" class=\"data row54 col0\" >Interaction Threshold</td>\n",
       "                        <td id=\"T_f64a8d03_831c_11eb_a288_380025ac0edfrow54_col1\" class=\"data row54 col1\" >None</td>\n",
       "            </tr>\n",
       "            <tr>\n",
       "                        <th id=\"T_f64a8d03_831c_11eb_a288_380025ac0edflevel0_row55\" class=\"row_heading level0 row55\" >55</th>\n",
       "                        <td id=\"T_f64a8d03_831c_11eb_a288_380025ac0edfrow55_col0\" class=\"data row55 col0\" >Transform Target</td>\n",
       "                        <td id=\"T_f64a8d03_831c_11eb_a288_380025ac0edfrow55_col1\" class=\"data row55 col1\" >False</td>\n",
       "            </tr>\n",
       "            <tr>\n",
       "                        <th id=\"T_f64a8d03_831c_11eb_a288_380025ac0edflevel0_row56\" class=\"row_heading level0 row56\" >56</th>\n",
       "                        <td id=\"T_f64a8d03_831c_11eb_a288_380025ac0edfrow56_col0\" class=\"data row56 col0\" >Transform Target Method</td>\n",
       "                        <td id=\"T_f64a8d03_831c_11eb_a288_380025ac0edfrow56_col1\" class=\"data row56 col1\" >box-cox</td>\n",
       "            </tr>\n",
       "    </tbody></table>"
      ],
      "text/plain": [
       "<pandas.io.formats.style.Styler at 0x215ff4df880>"
      ]
     },
     "metadata": {},
     "output_type": "display_data"
    }
   ],
   "source": [
    "from pycaret.regression import *\n",
    "\n",
    "exp_reg102 = setup(data = df1, target = 'gt_c_decay', session_id=123,\n",
    "                  normalize = True, transformation = True, \n",
    "                  combine_rare_levels = False, rare_level_threshold = 0.05,\n",
    "                  remove_multicollinearity = False,\n",
    "                  log_experiment = True, experiment_name = 'Naval',use_gpu=True)"
   ]
  },
  {
   "cell_type": "code",
   "execution_count": 52,
   "metadata": {},
   "outputs": [
    {
     "ename": "TypeError",
     "evalue": "compare_models() got an unexpected keyword argument 'exclude'",
     "output_type": "error",
     "traceback": [
      "\u001b[1;31m---------------------------------------------------------------------------\u001b[0m",
      "\u001b[1;31mTypeError\u001b[0m                                 Traceback (most recent call last)",
      "\u001b[1;32m<ipython-input-52-80ede416c6dd>\u001b[0m in \u001b[0;36m<module>\u001b[1;34m\u001b[0m\n\u001b[1;32m----> 1\u001b[1;33m \u001b[0mtop3\u001b[0m \u001b[1;33m=\u001b[0m \u001b[0mcompare_models\u001b[0m\u001b[1;33m(\u001b[0m\u001b[0mexclude\u001b[0m \u001b[1;33m=\u001b[0m \u001b[1;33m[\u001b[0m\u001b[1;34m'ransac'\u001b[0m\u001b[1;33m]\u001b[0m\u001b[1;33m,\u001b[0m \u001b[0mn_select\u001b[0m \u001b[1;33m=\u001b[0m \u001b[1;36m3\u001b[0m\u001b[1;33m)\u001b[0m\u001b[1;33m\u001b[0m\u001b[1;33m\u001b[0m\u001b[0m\n\u001b[0m",
      "\u001b[1;31mTypeError\u001b[0m: compare_models() got an unexpected keyword argument 'exclude'"
     ]
    }
   ],
   "source": [
    "top3 = compare_models(exclude = ['ransac'], n_select = 3)"
   ]
  },
  {
   "cell_type": "markdown",
   "metadata": {},
   "source": [
    "### Help function to compare models"
   ]
  },
  {
   "cell_type": "code",
   "execution_count": 171,
   "metadata": {},
   "outputs": [],
   "source": [
    "def compare_models(trainX,trainY,testX,testY,models):\n",
    "    print('\\nCompare Multiple Classifiers:')\n",
    "    print('\\nK-Fold Cross-Validation Accuracy:\\n')\n",
    "    \n",
    "    names = []\n",
    "    tempdf = pd.DataFrame(columns=['Name','Dataset','Score','St.Dev'])\n",
    "    for name, model in models:\n",
    "        model.fit(trainX,trainY)\n",
    "        kfold = KFold(n_splits=2,shuffle=True,random_state = 75)\n",
    "        train_accuracy_results = cross_val_score(model, trainX,trainY, cv=kfold)\n",
    "        test_accuracy_results = cross_val_score(model,testX,testY,cv=kfold)\n",
    "        tempdf = tempdf.append({'Name':name,'Dataset':'Train','Score':train_accuracy_results.mean(),\n",
    "                               'St.Dev':train_accuracy_results.std()},ignore_index=True)\n",
    "        tempdf = tempdf.append({'Name':name,'Dataset':'Test','Score':test_accuracy_results.mean(),\n",
    "                               'St.Dev':test_accuracy_results.std()},ignore_index=True)\n",
    "        \n",
    "#         accuracyMessage1 = \"Train set: %s: %f (%f)\" % (name, train_accuracy_results.mean(), train_accuracy_results.std())\n",
    "#         accuracyMessage2 = \"Test set: %s: %f (%f)\" % (name, test_accuracy_results.mean(), test_accuracy_results.std())\n",
    "#         print(accuracyMessage1)\n",
    "#         print(accuracyMessage2)\n",
    "    print(tempdf) \n",
    "    g = sns.catplot(x = 'Name', y='Score',hue = 'Dataset',data=tempdf, kind='bar')\n",
    "    g.set_xticklabels(rotation=30)\n",
    "    plt.show()    \n",
    "    return"
   ]
  },
  {
   "cell_type": "markdown",
   "metadata": {},
   "source": [
    "## Train Test Split"
   ]
  },
  {
   "cell_type": "code",
   "execution_count": 93,
   "metadata": {},
   "outputs": [
    {
     "name": "stdout",
     "output_type": "stream",
     "text": [
      "(11934, 14)\n",
      "(11934, 2)\n"
     ]
    }
   ],
   "source": [
    "X = df.drop(columns=['gt_c_decay','gt_t_decay'])\n",
    "y = df[['gt_c_decay','gt_t_decay']]\n",
    "print(X.shape)\n",
    "print(y.shape)"
   ]
  },
  {
   "cell_type": "code",
   "execution_count": 94,
   "metadata": {},
   "outputs": [],
   "source": [
    "X_train, X_test, y_train, y_test = train_test_split(\n",
    "    X, y, test_size=0.2, random_state=75)"
   ]
  },
  {
   "cell_type": "markdown",
   "metadata": {},
   "source": [
    "## Run Regressors with Default Hyperparameters"
   ]
  },
  {
   "cell_type": "code",
   "execution_count": 95,
   "metadata": {},
   "outputs": [],
   "source": [
    "models = []"
   ]
  },
  {
   "cell_type": "code",
   "execution_count": 96,
   "metadata": {},
   "outputs": [],
   "source": [
    "models.append(('MR-LR', MultiOutputRegressor(LinearRegression())))\n",
    "models.append(('MR-RD', MultiOutputRegressor(Ridge())))\n",
    "models.append(('MR-ELAS', MultiOutputRegressor(ElasticNet())))\n",
    "models.append(('MR-DT', MultiOutputRegressor(DecisionTreeRegressor(random_state=75))))\n",
    "models.append(('MR-KRI', MultiOutputRegressor(KernelRidge()) ))\n",
    "models.append(('MR-kNN',MultiOutputRegressor(KNeighborsRegressor())))\n",
    "models.append(('MR-ET',MultiOutputRegressor(ExtraTreesRegressor(random_state=75))))\n",
    "models.append(('MR-RF',MultiOutputRegressor(RandomForestRegressor(random_state=75))))\n",
    "models.append(('MR-XGB', MultiOutputRegressor(XGBRegressor(random_state=75))))"
   ]
  },
  {
   "cell_type": "code",
   "execution_count": 97,
   "metadata": {},
   "outputs": [
    {
     "name": "stdout",
     "output_type": "stream",
     "text": [
      "\n",
      "Compare Multiple Classifiers:\n",
      "\n",
      "K-Fold Cross-Validation Accuracy:\n",
      "\n",
      "Train set: MR-LR: 0.875916 (0.000716)\n",
      "Test set: MR-LR: 0.877547 (0.005398)\n",
      "Train set: MR-RD: 0.825535 (0.000183)\n",
      "Test set: MR-RD: 0.803207 (0.001918)\n",
      "Train set: MR-ELAS: -0.000366 (0.000039)\n",
      "Test set: MR-ELAS: -0.000537 (0.000441)\n",
      "Train set: MR-DT: 0.970095 (0.001993)\n",
      "Test set: MR-DT: 0.891383 (0.002784)\n",
      "Train set: MR-KRI: 0.323133 (0.008263)\n",
      "Test set: MR-KRI: 0.067700 (0.018121)\n",
      "Train set: MR-kNN: 0.863505 (0.001088)\n",
      "Test set: MR-kNN: 0.776412 (0.025883)\n",
      "Train set: MR-ET: 0.992052 (0.000502)\n",
      "Test set: MR-ET: 0.969236 (0.007193)\n",
      "Train set: MR-RF: 0.986095 (0.000051)\n",
      "Test set: MR-RF: 0.949214 (0.009050)\n",
      "Train set: MR-XGB: 0.979793 (0.000666)\n",
      "Test set: MR-XGB: 0.945822 (0.009442)\n",
      "       Name Dataset     Score    St.Dev\n",
      "0     MR-LR   Train  0.875916  0.000716\n",
      "1     MR-LR    Test  0.877547  0.005398\n",
      "2     MR-RD   Train  0.825535  0.000183\n",
      "3     MR-RD    Test  0.803207  0.001918\n",
      "4   MR-ELAS   Train -0.000366  0.000039\n",
      "5   MR-ELAS    Test -0.000537  0.000441\n",
      "6     MR-DT   Train  0.970095  0.001993\n",
      "7     MR-DT    Test  0.891383  0.002784\n",
      "8    MR-KRI   Train  0.323133  0.008263\n",
      "9    MR-KRI    Test  0.067700  0.018121\n",
      "10   MR-kNN   Train  0.863505  0.001088\n",
      "11   MR-kNN    Test  0.776412  0.025883\n",
      "12    MR-ET   Train  0.992052  0.000502\n",
      "13    MR-ET    Test  0.969236  0.007193\n",
      "14    MR-RF   Train  0.986095  0.000051\n",
      "15    MR-RF    Test  0.949214  0.009050\n",
      "16   MR-XGB   Train  0.979793  0.000666\n",
      "17   MR-XGB    Test  0.945822  0.009442\n"
     ]
    },
    {
     "data": {
      "image/png": "[encoded data removed]",
      "text/plain": [
       "<Figure size 420x360 with 1 Axes>"
      ]
     },
     "metadata": {
      "needs_background": "light"
     },
     "output_type": "display_data"
    }
   ],
   "source": [
    "compare_models(X_train,y_train,X_test,y_test, models)"
   ]
  },
  {
   "cell_type": "markdown",
   "metadata": {},
   "source": [
    "Οι classifiers Lasso, MLP και SVR εμφάνισαν αρνητικό score, επομένως δεν τους βάλαμε στο διάγραμμα. Θα τους ξαναεπισκεφτούμε μετά το optiization. "
   ]
  },
  {
   "cell_type": "markdown",
   "metadata": {},
   "source": [
    "## Optimization For Each Regressor Individually"
   ]
  },
  {
   "cell_type": "code",
   "execution_count": null,
   "metadata": {},
   "outputs": [],
   "source": [
    "models_opt = []"
   ]
  },
  {
   "cell_type": "markdown",
   "metadata": {},
   "source": [
    "#### 1. Linear Regression"
   ]
  },
  {
   "cell_type": "markdown",
   "metadata": {},
   "source": [
    "Ο Ordinary Least Squares Regressor δεν έχει υπερπαραμέτρους προς βελτιστοποίηση."
   ]
  },
  {
   "cell_type": "markdown",
   "metadata": {},
   "source": [
    "**2. Ridge Regressor**"
   ]
  },
  {
   "cell_type": "code",
   "execution_count": 145,
   "metadata": {
    "scrolled": true
   },
   "outputs": [
    {
     "name": "stdout",
     "output_type": "stream",
     "text": [
      "Wall time: 4.13 s\n"
     ]
    },
    {
     "data": {
      "text/plain": [
       "GridSearchCV(estimator=MultiOutputRegressor(estimator=Ridge()), n_jobs=-1,\n",
       "             param_grid={'estimator__alpha': [0.0, 0.01, 0.05, 0.1, 0.5],\n",
       "                         'estimator__max_iter': [1000, 2000, 5000],\n",
       "                         'estimator__solver': ('svd', 'cholesky', 'lsqr')})"
      ]
     },
     "execution_count": 145,
     "metadata": {},
     "output_type": "execute_result"
    }
   ],
   "source": [
    "%%time\n",
    "Ridge_ = GridSearchCV(MultiOutputRegressor(Ridge()),param_grid = {'estimator__alpha':[0.0,0.01,0.05,0.1,0.5],\\\n",
    "                                                'estimator__solver':('svd', 'cholesky', 'lsqr'),\n",
    "                                                'estimator__max_iter':[1000,2000,5000]},n_jobs=-1)\n",
    "\n",
    "\n",
    "Ridge_.fit(X_train,y_train)"
   ]
  },
  {
   "cell_type": "code",
   "execution_count": 146,
   "metadata": {},
   "outputs": [
    {
     "data": {
      "text/plain": [
       "MultiOutputRegressor(estimator=Ridge(alpha=0.01, max_iter=1000,\n",
       "                                     solver='cholesky'))"
      ]
     },
     "execution_count": 146,
     "metadata": {},
     "output_type": "execute_result"
    }
   ],
   "source": [
    "Ridge_.best_estimator_"
   ]
  },
  {
   "cell_type": "code",
   "execution_count": null,
   "metadata": {},
   "outputs": [],
   "source": [
    "Ridge_opt = MultiOutputRegressor(estimator=Ridge(alpha=0.01, max_iter=1000, solver='cholesky'))\n",
    "Ridge_opt.fit(X_train,y_train)"
   ]
  },
  {
   "cell_type": "code",
   "execution_count": 138,
   "metadata": {},
   "outputs": [],
   "source": [
    "models_opt.append((\"RD*\",Ridge_opt))"
   ]
  },
  {
   "cell_type": "markdown",
   "metadata": {},
   "source": [
    "#### 3. Elastic Net"
   ]
  },
  {
   "cell_type": "code",
   "execution_count": 148,
   "metadata": {},
   "outputs": [
    {
     "name": "stderr",
     "output_type": "stream",
     "text": [
      "C:\\Users\\nikos\\anaconda3\\lib\\site-packages\\sklearn\\linear_model\\_coordinate_descent.py:529: ConvergenceWarning: Objective did not converge. You might want to increase the number of iterations. Duality gap: 0.20288620123124498, tolerance: 0.00020672121520896655\n",
      "  model = cd_fast.enet_coordinate_descent(\n"
     ]
    },
    {
     "name": "stdout",
     "output_type": "stream",
     "text": [
      "Wall time: 30.9 s\n"
     ]
    },
    {
     "name": "stderr",
     "output_type": "stream",
     "text": [
      "C:\\Users\\nikos\\anaconda3\\lib\\site-packages\\sklearn\\linear_model\\_coordinate_descent.py:529: ConvergenceWarning: Objective did not converge. You might want to increase the number of iterations. Duality gap: 0.03009888210086814, tolerance: 5.3404226290981564e-05\n",
      "  model = cd_fast.enet_coordinate_descent(\n"
     ]
    }
   ],
   "source": [
    "%%time\n",
    "EL_ = GridSearchCV(MultiOutputRegressor(ElasticNet()),param_grid = {\"estimator__max_iter\": [1, 5, 10],\n",
    "                      \"estimator__alpha\": [0.00001,0.0001,0.0005, 0.001, 0.01],\n",
    "                      \"estimator__l1_ratio\": np.arange(0.0, 0.1),\n",
    "                        \"estimator__max_iter\":[5000,10000,15000]},n_jobs=-1)\n",
    "EL_.fit(X_train,y_train)\n",
    "import warnings\n",
    "warnings.filterwarnings('ignore')"
   ]
  },
  {
   "cell_type": "code",
   "execution_count": 132,
   "metadata": {},
   "outputs": [
    {
     "data": {
      "text/plain": [
       "MultiOutputRegressor(estimator=ElasticNet(alpha=1e-05, l1_ratio=0.0,\n",
       "                                          max_iter=50000))"
      ]
     },
     "execution_count": 132,
     "metadata": {},
     "output_type": "execute_result"
    }
   ],
   "source": [
    "EL_.best_estimator_"
   ]
  },
  {
   "cell_type": "code",
   "execution_count": null,
   "metadata": {},
   "outputs": [],
   "source": [
    "EL_opt = MultiOutputRegressor(estimator=ElasticNet(alpha=1e-05, l1_ratio=0.0, max_iter=50000))\n",
    "EL_opt.fit(X_train,y_train)"
   ]
  },
  {
   "cell_type": "code",
   "execution_count": 122,
   "metadata": {},
   "outputs": [],
   "source": [
    "models_opt.append(('EL*', EL_opt))"
   ]
  },
  {
   "cell_type": "markdown",
   "metadata": {},
   "source": [
    "**Σημείωση:** Από εδώ και πέρα θα ορίζουμε ξανά τον best estimator, ώστε όταν θέλουμε να ξαναδουλέψουμε στο πρόβλημα, να έχουμε ήδη ορατή την πληροφορία για το σύνολο τον βέλτιστων υπερπαραμέτρων. Έτσι όταν θέλουμε να το ξανατρέξουμε όλο το Notebook να αρκεί να γίνει μόνο ένα Fit και όχι ολόκληρο το Grid Search."
   ]
  },
  {
   "cell_type": "markdown",
   "metadata": {},
   "source": [
    "**Σημείωση 2:** Ο Elastic Net μας βγάζει warning να αυξήσουμε τον αριθμό των επαναλήψεων καθώς δεν συγκλίνει. Όμως όσο και να τον αυξήσουμε, αυτός συνεχίζει να μην συγκλίνει και μας βγάζει συνεχώς το ίδιο warning. "
   ]
  },
  {
   "cell_type": "markdown",
   "metadata": {},
   "source": [
    "**4. Decision Trees** "
   ]
  },
  {
   "cell_type": "code",
   "execution_count": 150,
   "metadata": {},
   "outputs": [
    {
     "ename": "KeyboardInterrupt",
     "evalue": "",
     "output_type": "error",
     "traceback": [
      "\u001b[1;31m---------------------------------------------------------------------------\u001b[0m",
      "\u001b[1;31mKeyboardInterrupt\u001b[0m                         Traceback (most recent call last)",
      "\u001b[1;32m<timed exec>\u001b[0m in \u001b[0;36m<module>\u001b[1;34m\u001b[0m\n",
      "\u001b[1;32m~\\anaconda3\\lib\\site-packages\\sklearn\\utils\\validation.py\u001b[0m in \u001b[0;36minner_f\u001b[1;34m(*args, **kwargs)\u001b[0m\n\u001b[0;32m     70\u001b[0m                           FutureWarning)\n\u001b[0;32m     71\u001b[0m         \u001b[0mkwargs\u001b[0m\u001b[1;33m.\u001b[0m\u001b[0mupdate\u001b[0m\u001b[1;33m(\u001b[0m\u001b[1;33m{\u001b[0m\u001b[0mk\u001b[0m\u001b[1;33m:\u001b[0m \u001b[0marg\u001b[0m \u001b[1;32mfor\u001b[0m \u001b[0mk\u001b[0m\u001b[1;33m,\u001b[0m \u001b[0marg\u001b[0m \u001b[1;32min\u001b[0m \u001b[0mzip\u001b[0m\u001b[1;33m(\u001b[0m\u001b[0msig\u001b[0m\u001b[1;33m.\u001b[0m\u001b[0mparameters\u001b[0m\u001b[1;33m,\u001b[0m \u001b[0margs\u001b[0m\u001b[1;33m)\u001b[0m\u001b[1;33m}\u001b[0m\u001b[1;33m)\u001b[0m\u001b[1;33m\u001b[0m\u001b[1;33m\u001b[0m\u001b[0m\n\u001b[1;32m---> 72\u001b[1;33m         \u001b[1;32mreturn\u001b[0m \u001b[0mf\u001b[0m\u001b[1;33m(\u001b[0m\u001b[1;33m**\u001b[0m\u001b[0mkwargs\u001b[0m\u001b[1;33m)\u001b[0m\u001b[1;33m\u001b[0m\u001b[1;33m\u001b[0m\u001b[0m\n\u001b[0m\u001b[0;32m     73\u001b[0m     \u001b[1;32mreturn\u001b[0m \u001b[0minner_f\u001b[0m\u001b[1;33m\u001b[0m\u001b[1;33m\u001b[0m\u001b[0m\n\u001b[0;32m     74\u001b[0m \u001b[1;33m\u001b[0m\u001b[0m\n",
      "\u001b[1;32m~\\anaconda3\\lib\\site-packages\\sklearn\\model_selection\\_search.py\u001b[0m in \u001b[0;36mfit\u001b[1;34m(self, X, y, groups, **fit_params)\u001b[0m\n\u001b[0;32m    734\u001b[0m                 \u001b[1;32mreturn\u001b[0m \u001b[0mresults\u001b[0m\u001b[1;33m\u001b[0m\u001b[1;33m\u001b[0m\u001b[0m\n\u001b[0;32m    735\u001b[0m \u001b[1;33m\u001b[0m\u001b[0m\n\u001b[1;32m--> 736\u001b[1;33m             \u001b[0mself\u001b[0m\u001b[1;33m.\u001b[0m\u001b[0m_run_search\u001b[0m\u001b[1;33m(\u001b[0m\u001b[0mevaluate_candidates\u001b[0m\u001b[1;33m)\u001b[0m\u001b[1;33m\u001b[0m\u001b[1;33m\u001b[0m\u001b[0m\n\u001b[0m\u001b[0;32m    737\u001b[0m \u001b[1;33m\u001b[0m\u001b[0m\n\u001b[0;32m    738\u001b[0m         \u001b[1;31m# For multi-metric evaluation, store the best_index_, best_params_ and\u001b[0m\u001b[1;33m\u001b[0m\u001b[1;33m\u001b[0m\u001b[1;33m\u001b[0m\u001b[0m\n",
      "\u001b[1;32m~\\anaconda3\\lib\\site-packages\\sklearn\\model_selection\\_search.py\u001b[0m in \u001b[0;36m_run_search\u001b[1;34m(self, evaluate_candidates)\u001b[0m\n\u001b[0;32m   1186\u001b[0m     \u001b[1;32mdef\u001b[0m \u001b[0m_run_search\u001b[0m\u001b[1;33m(\u001b[0m\u001b[0mself\u001b[0m\u001b[1;33m,\u001b[0m \u001b[0mevaluate_candidates\u001b[0m\u001b[1;33m)\u001b[0m\u001b[1;33m:\u001b[0m\u001b[1;33m\u001b[0m\u001b[1;33m\u001b[0m\u001b[0m\n\u001b[0;32m   1187\u001b[0m         \u001b[1;34m\"\"\"Search all candidates in param_grid\"\"\"\u001b[0m\u001b[1;33m\u001b[0m\u001b[1;33m\u001b[0m\u001b[0m\n\u001b[1;32m-> 1188\u001b[1;33m         \u001b[0mevaluate_candidates\u001b[0m\u001b[1;33m(\u001b[0m\u001b[0mParameterGrid\u001b[0m\u001b[1;33m(\u001b[0m\u001b[0mself\u001b[0m\u001b[1;33m.\u001b[0m\u001b[0mparam_grid\u001b[0m\u001b[1;33m)\u001b[0m\u001b[1;33m)\u001b[0m\u001b[1;33m\u001b[0m\u001b[1;33m\u001b[0m\u001b[0m\n\u001b[0m\u001b[0;32m   1189\u001b[0m \u001b[1;33m\u001b[0m\u001b[0m\n\u001b[0;32m   1190\u001b[0m \u001b[1;33m\u001b[0m\u001b[0m\n",
      "\u001b[1;32m~\\anaconda3\\lib\\site-packages\\sklearn\\model_selection\\_search.py\u001b[0m in \u001b[0;36mevaluate_candidates\u001b[1;34m(candidate_params)\u001b[0m\n\u001b[0;32m    706\u001b[0m                               n_splits, n_candidates, n_candidates * n_splits))\n\u001b[0;32m    707\u001b[0m \u001b[1;33m\u001b[0m\u001b[0m\n\u001b[1;32m--> 708\u001b[1;33m                 out = parallel(delayed(_fit_and_score)(clone(base_estimator),\n\u001b[0m\u001b[0;32m    709\u001b[0m                                                        \u001b[0mX\u001b[0m\u001b[1;33m,\u001b[0m \u001b[0my\u001b[0m\u001b[1;33m,\u001b[0m\u001b[1;33m\u001b[0m\u001b[1;33m\u001b[0m\u001b[0m\n\u001b[0;32m    710\u001b[0m                                                        \u001b[0mtrain\u001b[0m\u001b[1;33m=\u001b[0m\u001b[0mtrain\u001b[0m\u001b[1;33m,\u001b[0m \u001b[0mtest\u001b[0m\u001b[1;33m=\u001b[0m\u001b[0mtest\u001b[0m\u001b[1;33m,\u001b[0m\u001b[1;33m\u001b[0m\u001b[1;33m\u001b[0m\u001b[0m\n",
      "\u001b[1;32m~\\anaconda3\\lib\\site-packages\\joblib\\parallel.py\u001b[0m in \u001b[0;36m__call__\u001b[1;34m(self, iterable)\u001b[0m\n\u001b[0;32m   1059\u001b[0m \u001b[1;33m\u001b[0m\u001b[0m\n\u001b[0;32m   1060\u001b[0m             \u001b[1;32mwith\u001b[0m \u001b[0mself\u001b[0m\u001b[1;33m.\u001b[0m\u001b[0m_backend\u001b[0m\u001b[1;33m.\u001b[0m\u001b[0mretrieval_context\u001b[0m\u001b[1;33m(\u001b[0m\u001b[1;33m)\u001b[0m\u001b[1;33m:\u001b[0m\u001b[1;33m\u001b[0m\u001b[1;33m\u001b[0m\u001b[0m\n\u001b[1;32m-> 1061\u001b[1;33m                 \u001b[0mself\u001b[0m\u001b[1;33m.\u001b[0m\u001b[0mretrieve\u001b[0m\u001b[1;33m(\u001b[0m\u001b[1;33m)\u001b[0m\u001b[1;33m\u001b[0m\u001b[1;33m\u001b[0m\u001b[0m\n\u001b[0m\u001b[0;32m   1062\u001b[0m             \u001b[1;31m# Make sure that we get a last message telling us we are done\u001b[0m\u001b[1;33m\u001b[0m\u001b[1;33m\u001b[0m\u001b[1;33m\u001b[0m\u001b[0m\n\u001b[0;32m   1063\u001b[0m             \u001b[0melapsed_time\u001b[0m \u001b[1;33m=\u001b[0m \u001b[0mtime\u001b[0m\u001b[1;33m.\u001b[0m\u001b[0mtime\u001b[0m\u001b[1;33m(\u001b[0m\u001b[1;33m)\u001b[0m \u001b[1;33m-\u001b[0m \u001b[0mself\u001b[0m\u001b[1;33m.\u001b[0m\u001b[0m_start_time\u001b[0m\u001b[1;33m\u001b[0m\u001b[1;33m\u001b[0m\u001b[0m\n",
      "\u001b[1;32m~\\anaconda3\\lib\\site-packages\\joblib\\parallel.py\u001b[0m in \u001b[0;36mretrieve\u001b[1;34m(self)\u001b[0m\n\u001b[0;32m    938\u001b[0m             \u001b[1;32mtry\u001b[0m\u001b[1;33m:\u001b[0m\u001b[1;33m\u001b[0m\u001b[1;33m\u001b[0m\u001b[0m\n\u001b[0;32m    939\u001b[0m                 \u001b[1;32mif\u001b[0m \u001b[0mgetattr\u001b[0m\u001b[1;33m(\u001b[0m\u001b[0mself\u001b[0m\u001b[1;33m.\u001b[0m\u001b[0m_backend\u001b[0m\u001b[1;33m,\u001b[0m \u001b[1;34m'supports_timeout'\u001b[0m\u001b[1;33m,\u001b[0m \u001b[1;32mFalse\u001b[0m\u001b[1;33m)\u001b[0m\u001b[1;33m:\u001b[0m\u001b[1;33m\u001b[0m\u001b[1;33m\u001b[0m\u001b[0m\n\u001b[1;32m--> 940\u001b[1;33m                     \u001b[0mself\u001b[0m\u001b[1;33m.\u001b[0m\u001b[0m_output\u001b[0m\u001b[1;33m.\u001b[0m\u001b[0mextend\u001b[0m\u001b[1;33m(\u001b[0m\u001b[0mjob\u001b[0m\u001b[1;33m.\u001b[0m\u001b[0mget\u001b[0m\u001b[1;33m(\u001b[0m\u001b[0mtimeout\u001b[0m\u001b[1;33m=\u001b[0m\u001b[0mself\u001b[0m\u001b[1;33m.\u001b[0m\u001b[0mtimeout\u001b[0m\u001b[1;33m)\u001b[0m\u001b[1;33m)\u001b[0m\u001b[1;33m\u001b[0m\u001b[1;33m\u001b[0m\u001b[0m\n\u001b[0m\u001b[0;32m    941\u001b[0m                 \u001b[1;32melse\u001b[0m\u001b[1;33m:\u001b[0m\u001b[1;33m\u001b[0m\u001b[1;33m\u001b[0m\u001b[0m\n\u001b[0;32m    942\u001b[0m                     \u001b[0mself\u001b[0m\u001b[1;33m.\u001b[0m\u001b[0m_output\u001b[0m\u001b[1;33m.\u001b[0m\u001b[0mextend\u001b[0m\u001b[1;33m(\u001b[0m\u001b[0mjob\u001b[0m\u001b[1;33m.\u001b[0m\u001b[0mget\u001b[0m\u001b[1;33m(\u001b[0m\u001b[1;33m)\u001b[0m\u001b[1;33m)\u001b[0m\u001b[1;33m\u001b[0m\u001b[1;33m\u001b[0m\u001b[0m\n",
      "\u001b[1;32m~\\anaconda3\\lib\\site-packages\\joblib\\_parallel_backends.py\u001b[0m in \u001b[0;36mwrap_future_result\u001b[1;34m(future, timeout)\u001b[0m\n\u001b[0;32m    540\u001b[0m         AsyncResults.get from multiprocessing.\"\"\"\n\u001b[0;32m    541\u001b[0m         \u001b[1;32mtry\u001b[0m\u001b[1;33m:\u001b[0m\u001b[1;33m\u001b[0m\u001b[1;33m\u001b[0m\u001b[0m\n\u001b[1;32m--> 542\u001b[1;33m             \u001b[1;32mreturn\u001b[0m \u001b[0mfuture\u001b[0m\u001b[1;33m.\u001b[0m\u001b[0mresult\u001b[0m\u001b[1;33m(\u001b[0m\u001b[0mtimeout\u001b[0m\u001b[1;33m=\u001b[0m\u001b[0mtimeout\u001b[0m\u001b[1;33m)\u001b[0m\u001b[1;33m\u001b[0m\u001b[1;33m\u001b[0m\u001b[0m\n\u001b[0m\u001b[0;32m    543\u001b[0m         \u001b[1;32mexcept\u001b[0m \u001b[0mCfTimeoutError\u001b[0m \u001b[1;32mas\u001b[0m \u001b[0me\u001b[0m\u001b[1;33m:\u001b[0m\u001b[1;33m\u001b[0m\u001b[1;33m\u001b[0m\u001b[0m\n\u001b[0;32m    544\u001b[0m             \u001b[1;32mraise\u001b[0m \u001b[0mTimeoutError\u001b[0m \u001b[1;32mfrom\u001b[0m \u001b[0me\u001b[0m\u001b[1;33m\u001b[0m\u001b[1;33m\u001b[0m\u001b[0m\n",
      "\u001b[1;32m~\\anaconda3\\lib\\concurrent\\futures\\_base.py\u001b[0m in \u001b[0;36mresult\u001b[1;34m(self, timeout)\u001b[0m\n\u001b[0;32m    432\u001b[0m                 \u001b[1;32mreturn\u001b[0m \u001b[0mself\u001b[0m\u001b[1;33m.\u001b[0m\u001b[0m__get_result\u001b[0m\u001b[1;33m(\u001b[0m\u001b[1;33m)\u001b[0m\u001b[1;33m\u001b[0m\u001b[1;33m\u001b[0m\u001b[0m\n\u001b[0;32m    433\u001b[0m \u001b[1;33m\u001b[0m\u001b[0m\n\u001b[1;32m--> 434\u001b[1;33m             \u001b[0mself\u001b[0m\u001b[1;33m.\u001b[0m\u001b[0m_condition\u001b[0m\u001b[1;33m.\u001b[0m\u001b[0mwait\u001b[0m\u001b[1;33m(\u001b[0m\u001b[0mtimeout\u001b[0m\u001b[1;33m)\u001b[0m\u001b[1;33m\u001b[0m\u001b[1;33m\u001b[0m\u001b[0m\n\u001b[0m\u001b[0;32m    435\u001b[0m \u001b[1;33m\u001b[0m\u001b[0m\n\u001b[0;32m    436\u001b[0m             \u001b[1;32mif\u001b[0m \u001b[0mself\u001b[0m\u001b[1;33m.\u001b[0m\u001b[0m_state\u001b[0m \u001b[1;32min\u001b[0m \u001b[1;33m[\u001b[0m\u001b[0mCANCELLED\u001b[0m\u001b[1;33m,\u001b[0m \u001b[0mCANCELLED_AND_NOTIFIED\u001b[0m\u001b[1;33m]\u001b[0m\u001b[1;33m:\u001b[0m\u001b[1;33m\u001b[0m\u001b[1;33m\u001b[0m\u001b[0m\n",
      "\u001b[1;32m~\\anaconda3\\lib\\threading.py\u001b[0m in \u001b[0;36mwait\u001b[1;34m(self, timeout)\u001b[0m\n\u001b[0;32m    300\u001b[0m         \u001b[1;32mtry\u001b[0m\u001b[1;33m:\u001b[0m    \u001b[1;31m# restore state no matter what (e.g., KeyboardInterrupt)\u001b[0m\u001b[1;33m\u001b[0m\u001b[1;33m\u001b[0m\u001b[0m\n\u001b[0;32m    301\u001b[0m             \u001b[1;32mif\u001b[0m \u001b[0mtimeout\u001b[0m \u001b[1;32mis\u001b[0m \u001b[1;32mNone\u001b[0m\u001b[1;33m:\u001b[0m\u001b[1;33m\u001b[0m\u001b[1;33m\u001b[0m\u001b[0m\n\u001b[1;32m--> 302\u001b[1;33m                 \u001b[0mwaiter\u001b[0m\u001b[1;33m.\u001b[0m\u001b[0macquire\u001b[0m\u001b[1;33m(\u001b[0m\u001b[1;33m)\u001b[0m\u001b[1;33m\u001b[0m\u001b[1;33m\u001b[0m\u001b[0m\n\u001b[0m\u001b[0;32m    303\u001b[0m                 \u001b[0mgotit\u001b[0m \u001b[1;33m=\u001b[0m \u001b[1;32mTrue\u001b[0m\u001b[1;33m\u001b[0m\u001b[1;33m\u001b[0m\u001b[0m\n\u001b[0;32m    304\u001b[0m             \u001b[1;32melse\u001b[0m\u001b[1;33m:\u001b[0m\u001b[1;33m\u001b[0m\u001b[1;33m\u001b[0m\u001b[0m\n",
      "\u001b[1;31mKeyboardInterrupt\u001b[0m: "
     ]
    }
   ],
   "source": [
    "%%time\n",
    "DT_ = GridSearchCV(MultiOutputRegressor(DecisionTreeRegressor()), param_grid = {'estimator__criterion': ['mse', 'mae'],\n",
    "                                                          'estimator__max_depth': range(1,15),\n",
    "                                                         \"estimator__min_samples_split\":range(2,10),\n",
    "                                                         \"estimator__min_samples_leaf\":range(1,5)}\n",
    "                                                          ,n_jobs = -1)\n",
    "DT_.fit(X_train, y_train)"
   ]
  },
  {
   "cell_type": "code",
   "execution_count": null,
   "metadata": {},
   "outputs": [],
   "source": [
    "DT_.best_estimator_"
   ]
  },
  {
   "cell_type": "code",
   "execution_count": null,
   "metadata": {},
   "outputs": [],
   "source": [
    "DT_opt = MultiOutputRegressor(DecisionTreeRegressor())\n",
    "models_opt.append(('DT*',DT_opt))"
   ]
  },
  {
   "cell_type": "markdown",
   "metadata": {},
   "source": [
    "**5. Kernel Ridge Regression**"
   ]
  },
  {
   "cell_type": "code",
   "execution_count": 154,
   "metadata": {},
   "outputs": [
    {
     "name": "stdout",
     "output_type": "stream",
     "text": [
      "Wall time: 2min 33s\n"
     ]
    },
    {
     "data": {
      "text/plain": [
       "RandomizedSearchCV(estimator=MultiOutputRegressor(estimator=KernelRidge()),\n",
       "                   n_iter=2,\n",
       "                   param_distributions={'estimator__alpha': [1.0, 0.1, 0.01,\n",
       "                                                             0.001],\n",
       "                                        'estimator__gamma': array([1.e-02, 1.e-01, 1.e+00, 1.e+01, 1.e+02]),\n",
       "                                        'estimator__kernel': ['rbf', 'linear']})"
      ]
     },
     "execution_count": 154,
     "metadata": {},
     "output_type": "execute_result"
    }
   ],
   "source": [
    "%%time\n",
    "KR_ = RandomizedSearchCV(MultiOutputRegressor(KernelRidge()),\n",
    "                  param_distributions={\"estimator__alpha\": [1e0, 0.1, 1e-2, 1e-3],\n",
    "                              \"estimator__gamma\": np.logspace(-2, 2, 5),\n",
    "                              \"estimator__kernel\":['rbf','linear']},n_iter=2)\n",
    "KR_.fit(X_train,y_train)"
   ]
  },
  {
   "cell_type": "code",
   "execution_count": 155,
   "metadata": {},
   "outputs": [
    {
     "data": {
      "text/plain": [
       "MultiOutputRegressor(estimator=KernelRidge(alpha=0.1, gamma=0.01, kernel='rbf'))"
      ]
     },
     "execution_count": 155,
     "metadata": {},
     "output_type": "execute_result"
    }
   ],
   "source": [
    "KR_.best_estimator_"
   ]
  },
  {
   "cell_type": "code",
   "execution_count": 156,
   "metadata": {},
   "outputs": [
    {
     "data": {
      "text/plain": [
       "MultiOutputRegressor(estimator=KernelRidge(alpha=0.1, gamma=0.01, kernel='rbf'))"
      ]
     },
     "execution_count": 156,
     "metadata": {},
     "output_type": "execute_result"
    }
   ],
   "source": [
    "KR_opt = MultiOutputRegressor(KernelRidge(alpha=0.1,gamma=0.01,kernel='rbf'))\n",
    "KR_opt.fit(X_train,y_train)"
   ]
  },
  {
   "cell_type": "code",
   "execution_count": 161,
   "metadata": {},
   "outputs": [],
   "source": [
    "models_opt.append(('KR*',KR_opt))"
   ]
  },
  {
   "cell_type": "code",
   "execution_count": 160,
   "metadata": {},
   "outputs": [
    {
     "data": {
      "text/plain": [
       "[('RF*',\n",
       "  MultiOutputRegressor(estimator=RandomForestRegressor(max_depth=100,\n",
       "                                                       n_estimators=1000,\n",
       "                                                       n_jobs=-1,\n",
       "                                                       random_state=75))),\n",
       " ('EL*',\n",
       "  MultiOutputRegressor(estimator=ElasticNet(alpha=0.0001, l1_ratio=0.0,\n",
       "                                            max_iter=10))),\n",
       " ('RD*', MultiOutputRegressor(estimator=Ridge(alpha=0.01, solver='cholesky')))]"
      ]
     },
     "execution_count": 160,
     "metadata": {},
     "output_type": "execute_result"
    }
   ],
   "source": [
    "models_opt"
   ]
  },
  {
   "cell_type": "markdown",
   "metadata": {},
   "source": [
    "**6. Nearest Neighbors Regressor**"
   ]
  },
  {
   "cell_type": "code",
   "execution_count": 166,
   "metadata": {},
   "outputs": [
    {
     "name": "stdout",
     "output_type": "stream",
     "text": [
      "Wall time: 14.1 s\n"
     ]
    },
    {
     "data": {
      "text/plain": [
       "GridSearchCV(estimator=MultiOutputRegressor(estimator=KNeighborsRegressor()),\n",
       "             n_jobs=2,\n",
       "             param_grid={'estimator__algorithm': ['auto', 'kd_tree',\n",
       "                                                  'ball_tree'],\n",
       "                         'estimator__n_neighbors': [1, 2, 3, 4, 5, 6, 7, 8, 9,\n",
       "                                                    10, 11, 12],\n",
       "                         'estimator__weights': ['uniform', 'distance']})"
      ]
     },
     "execution_count": 166,
     "metadata": {},
     "output_type": "execute_result"
    }
   ],
   "source": [
    "%%time\n",
    "kNR_ = GridSearchCV(MultiOutputRegressor(KNeighborsRegressor()),\n",
    "                    param_grid = {'estimator__n_neighbors':list(range(1,13)),\n",
    "                    'estimator__weights':['uniform','distance'],\n",
    "                    'estimator__algorithm':['auto','kd_tree','ball_tree']},\n",
    "                     n_jobs=2)\n",
    "kNR_.fit(X_train,y_train)"
   ]
  },
  {
   "cell_type": "code",
   "execution_count": 168,
   "metadata": {},
   "outputs": [
    {
     "data": {
      "text/plain": [
       "MultiOutputRegressor(estimator=KNeighborsRegressor(n_neighbors=3,\n",
       "                                                   weights='distance'))"
      ]
     },
     "execution_count": 168,
     "metadata": {},
     "output_type": "execute_result"
    }
   ],
   "source": [
    "kNR_.best_estimator_"
   ]
  },
  {
   "cell_type": "code",
   "execution_count": 170,
   "metadata": {},
   "outputs": [],
   "source": [
    "kNR_opt = MultiOutputRegressor(KNeighborsRegressor(n_neighbors=3,weights='distance'))\n",
    "kNR_opt.fit(X_train,y_train)\n",
    "models_opt.append(('kNR*',kNR_opt))"
   ]
  },
  {
   "cell_type": "code",
   "execution_count": 172,
   "metadata": {},
   "outputs": [
    {
     "name": "stdout",
     "output_type": "stream",
     "text": [
      "\n",
      "Compare Multiple Classifiers:\n",
      "\n",
      "K-Fold Cross-Validation Accuracy:\n",
      "\n",
      "   Name Dataset        Score      St.Dev\n",
      "0   RF*   Train     0.986468    0.000227\n",
      "1   RF*    Test     0.950484    0.008657\n",
      "2   EL*   Train     0.043804    0.000197\n",
      "3   EL*    Test     0.041941    0.000482\n",
      "4   RD*   Train     0.875209    0.000638\n",
      "5   RD*    Test     0.875580    0.005372\n",
      "6   KR*   Train -1973.711532    3.093235\n",
      "7   KR*    Test -2280.644353  146.584125\n",
      "8  kNR*   Train     0.892557    0.001470\n",
      "9  kNR*    Test     0.794252    0.031642\n"
     ]
    },
    {
     "data": {
      "image/png": "[encoded data removed]",
      "text/plain": [
       "<Figure size 420x360 with 1 Axes>"
      ]
     },
     "metadata": {
      "needs_background": "light"
     },
     "output_type": "display_data"
    }
   ],
   "source": [
    "compare_models(X_train,y_train,X_test,y_test, models_opt)"
   ]
  },
  {
   "cell_type": "markdown",
   "metadata": {},
   "source": [
    "**7. Extra Trees Regressor**"
   ]
  },
  {
   "cell_type": "code",
   "execution_count": null,
   "metadata": {},
   "outputs": [],
   "source": [
    "%%time\n",
    "ET_ = GridSearchCV(MultiOutputRegressor(ExtraTreesRegressor(random_seed=75)),\n",
    "                   param_grid = {'estimator__criterion': ['mse', 'mae'],\n",
    "                   'estimator__max_depth': range(1,15),\n",
    "                   \"estimator__min_samples_split\":range(2,10),\n",
    "                   \"estimator__min_samples_leaf\":range(1,5)},\n",
    "                   n_jobs=2)\n",
    "ET_.fit(X_train,y_train)"
   ]
  },
  {
   "cell_type": "code",
   "execution_count": null,
   "metadata": {},
   "outputs": [],
   "source": [
    "ET_.best_estimator_"
   ]
  },
  {
   "cell_type": "code",
   "execution_count": null,
   "metadata": {},
   "outputs": [],
   "source": [
    "ET_opt = MultiOutputRegressor(ExtraTreesRegressor('best params here'))\n",
    "models_opt.append(('ET*',ET_opt))"
   ]
  },
  {
   "cell_type": "markdown",
   "metadata": {},
   "source": [
    "#### 8. Random Forest Regressor"
   ]
  },
  {
   "cell_type": "code",
   "execution_count": 116,
   "metadata": {},
   "outputs": [
    {
     "name": "stdout",
     "output_type": "stream",
     "text": [
      "Wall time: 18.1 s\n"
     ]
    },
    {
     "data": {
      "text/plain": [
       "MultiOutputRegressor(estimator=RandomForestRegressor(max_depth=100,\n",
       "                                                     n_estimators=1000,\n",
       "                                                     n_jobs=-1,\n",
       "                                                     random_state=75))"
      ]
     },
     "execution_count": 116,
     "metadata": {},
     "output_type": "execute_result"
    }
   ],
   "source": [
    "%%time\n",
    "#this is too good to run a gridsearch.\n",
    "RF_ = MultiOutputRegressor(RandomForestRegressor(random_state=75,max_depth=100,n_estimators=1000,n_jobs=-1))\n",
    "RF_.fit(X_train,y_train)"
   ]
  },
  {
   "cell_type": "code",
   "execution_count": null,
   "metadata": {},
   "outputs": [],
   "source": [
    "RF_.best_estimator_"
   ]
  },
  {
   "cell_type": "code",
   "execution_count": null,
   "metadata": {},
   "outputs": [],
   "source": [
    "RF_opt = MultiOutputRegressor(RandomForestRegressor(random_state=75))"
   ]
  },
  {
   "cell_type": "code",
   "execution_count": 117,
   "metadata": {},
   "outputs": [
    {
     "name": "stdout",
     "output_type": "stream",
     "text": [
      "\n",
      "Compare Multiple Classifiers:\n",
      "\n",
      "K-Fold Cross-Validation Accuracy:\n",
      "\n",
      "Train set: RF*: 0.986468 (0.000227)\n",
      "Test set: RF*: 0.950484 (0.008657)\n",
      "  Name Dataset     Score    St.Dev\n",
      "0  RF*   Train  0.986468  0.000227\n",
      "1  RF*    Test  0.950484  0.008657\n"
     ]
    },
    {
     "data": {
      "image/png": "[encoded data removed]",
      "text/plain": [
       "<Figure size 420x360 with 1 Axes>"
      ]
     },
     "metadata": {
      "needs_background": "light"
     },
     "output_type": "display_data"
    }
   ],
   "source": [
    "models_opt.append(('RF*',RF_opt))"
   ]
  },
  {
   "cell_type": "markdown",
   "metadata": {},
   "source": [
    "**9. XGBoost Regressor**"
   ]
  }
 ],
 "metadata": {
  "kernelspec": {
   "display_name": "Python 3",
   "language": "python",
   "name": "python3"
  },
  "language_info": {
   "codemirror_mode": {
    "name": "ipython",
    "version": 3
   },
   "file_extension": ".py",
   "mimetype": "text/x-python",
   "name": "python",
   "nbconvert_exporter": "python",
   "pygments_lexer": "ipython3",
   "version": "3.8.5"
  }
 },
 "nbformat": 4,
 "nbformat_minor": 4
}
