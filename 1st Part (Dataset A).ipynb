{
 "cells": [
  {
   "cell_type": "markdown",
   "metadata": {},
   "source": [
    "## Ομάδα #75 \n",
    "### Νικόλαος Μανιάτης - Φίλιππος Μαυρεπής\n",
    "\n",
    "##### Datasets: S12,\tB04,\t119"
   ]
  },
  {
   "cell_type": "code",
   "execution_count": 35,
   "metadata": {},
   "outputs": [],
   "source": [
    "import pandas as pd\n",
    "import numpy as np\n",
    "import matplotlib.pyplot as plt\n",
    "from statsmodels.stats.outliers_influence import variance_inflation_factor\n",
    "from sklearn.model_selection import train_test_split\n",
    "from sklearn.linear_model import LinearRegression,Ridge,Lasso\n",
    "from sklearn.svm import SVR\n",
    "from sklearn.tree import DecisionTreeRegressor\n",
    "from sklearn.neural_network import MLPRegressor\n",
    "from sklearn.ensemble import ExtraTreesRegressor\n",
    "import xgboost as xgb\n",
    "from xgboost import XGBRegressor\n",
    "from sklearn.model_selection import cross_val_score,KFold\n",
    "from sklearn.model_selection import GridSearchCV\n",
    "from matplotlib.lines import Line2D"
   ]
  },
  {
   "cell_type": "markdown",
   "metadata": {},
   "source": [
    "**Dataset Abstract**\n",
    "NASA data set, obtained from a series of aerodynamic and acoustic tests of two and three-dimensional airfoil blade sections conducted in an anechoic wind tunnel."
   ]
  },
  {
   "cell_type": "markdown",
   "metadata": {},
   "source": [
    "**Attribute Information:**\n",
    "\n",
    "This problem has the following inputs:\n",
    "1. Frequency, in Hertzs.\n",
    "2. Angle of attack, in degrees.\n",
    "3. Chord length, in meters.\n",
    "4. Free-stream velocity, in meters per second.\n",
    "5. Suction side displacement thickness, in meters.\n",
    "\n",
    "The only output is:\n",
    "6. Scaled sound pressure level, in decibels."
   ]
  },
  {
   "cell_type": "code",
   "execution_count": 2,
   "metadata": {},
   "outputs": [
    {
     "name": "stdout",
     "output_type": "stream",
     "text": [
      "(1503, 6)\n"
     ]
    },
    {
     "data": {
      "text/html": [
       "<div>\n",
       "<style scoped>\n",
       "    .dataframe tbody tr th:only-of-type {\n",
       "        vertical-align: middle;\n",
       "    }\n",
       "\n",
       "    .dataframe tbody tr th {\n",
       "        vertical-align: top;\n",
       "    }\n",
       "\n",
       "    .dataframe thead th {\n",
       "        text-align: right;\n",
       "    }\n",
       "</style>\n",
       "<table border=\"1\" class=\"dataframe\">\n",
       "  <thead>\n",
       "    <tr style=\"text-align: right;\">\n",
       "      <th></th>\n",
       "      <th>freq</th>\n",
       "      <th>angle</th>\n",
       "      <th>length</th>\n",
       "      <th>velocity</th>\n",
       "      <th>thickness</th>\n",
       "      <th>pressure</th>\n",
       "    </tr>\n",
       "  </thead>\n",
       "  <tbody>\n",
       "    <tr>\n",
       "      <th>0</th>\n",
       "      <td>800</td>\n",
       "      <td>0.0</td>\n",
       "      <td>0.3048</td>\n",
       "      <td>71.3</td>\n",
       "      <td>0.002663</td>\n",
       "      <td>126.201</td>\n",
       "    </tr>\n",
       "    <tr>\n",
       "      <th>1</th>\n",
       "      <td>1000</td>\n",
       "      <td>0.0</td>\n",
       "      <td>0.3048</td>\n",
       "      <td>71.3</td>\n",
       "      <td>0.002663</td>\n",
       "      <td>125.201</td>\n",
       "    </tr>\n",
       "    <tr>\n",
       "      <th>2</th>\n",
       "      <td>1250</td>\n",
       "      <td>0.0</td>\n",
       "      <td>0.3048</td>\n",
       "      <td>71.3</td>\n",
       "      <td>0.002663</td>\n",
       "      <td>125.951</td>\n",
       "    </tr>\n",
       "    <tr>\n",
       "      <th>3</th>\n",
       "      <td>1600</td>\n",
       "      <td>0.0</td>\n",
       "      <td>0.3048</td>\n",
       "      <td>71.3</td>\n",
       "      <td>0.002663</td>\n",
       "      <td>127.591</td>\n",
       "    </tr>\n",
       "    <tr>\n",
       "      <th>4</th>\n",
       "      <td>2000</td>\n",
       "      <td>0.0</td>\n",
       "      <td>0.3048</td>\n",
       "      <td>71.3</td>\n",
       "      <td>0.002663</td>\n",
       "      <td>127.461</td>\n",
       "    </tr>\n",
       "  </tbody>\n",
       "</table>\n",
       "</div>"
      ],
      "text/plain": [
       "   freq  angle  length  velocity  thickness  pressure\n",
       "0   800    0.0  0.3048      71.3   0.002663   126.201\n",
       "1  1000    0.0  0.3048      71.3   0.002663   125.201\n",
       "2  1250    0.0  0.3048      71.3   0.002663   125.951\n",
       "3  1600    0.0  0.3048      71.3   0.002663   127.591\n",
       "4  2000    0.0  0.3048      71.3   0.002663   127.461"
      ]
     },
     "execution_count": 2,
     "metadata": {},
     "output_type": "execute_result"
    }
   ],
   "source": [
    "features = ['freq','angle','length','velocity','thickness','pressure']\n",
    "df = pd.read_table('./datasets/airfoil_self_noise.dat',names = features )\n",
    "print(df.shape)\n",
    "df.head()"
   ]
  },
  {
   "cell_type": "code",
   "execution_count": 3,
   "metadata": {},
   "outputs": [
    {
     "data": {
      "text/plain": [
       "freq         0\n",
       "angle        0\n",
       "length       0\n",
       "velocity     0\n",
       "thickness    0\n",
       "pressure     0\n",
       "dtype: int64"
      ]
     },
     "execution_count": 3,
     "metadata": {},
     "output_type": "execute_result"
    }
   ],
   "source": [
    "df.isna().sum()"
   ]
  },
  {
   "cell_type": "code",
   "execution_count": 4,
   "metadata": {},
   "outputs": [
    {
     "data": {
      "text/html": [
       "<div>\n",
       "<style scoped>\n",
       "    .dataframe tbody tr th:only-of-type {\n",
       "        vertical-align: middle;\n",
       "    }\n",
       "\n",
       "    .dataframe tbody tr th {\n",
       "        vertical-align: top;\n",
       "    }\n",
       "\n",
       "    .dataframe thead th {\n",
       "        text-align: right;\n",
       "    }\n",
       "</style>\n",
       "<table border=\"1\" class=\"dataframe\">\n",
       "  <thead>\n",
       "    <tr style=\"text-align: right;\">\n",
       "      <th></th>\n",
       "      <th>freq</th>\n",
       "      <th>angle</th>\n",
       "      <th>length</th>\n",
       "      <th>velocity</th>\n",
       "      <th>thickness</th>\n",
       "      <th>pressure</th>\n",
       "    </tr>\n",
       "  </thead>\n",
       "  <tbody>\n",
       "    <tr>\n",
       "      <th>freq</th>\n",
       "      <td>1.000000</td>\n",
       "      <td>-0.272765</td>\n",
       "      <td>-0.003661</td>\n",
       "      <td>0.133664</td>\n",
       "      <td>-0.230107</td>\n",
       "      <td>-0.390711</td>\n",
       "    </tr>\n",
       "    <tr>\n",
       "      <th>angle</th>\n",
       "      <td>-0.272765</td>\n",
       "      <td>1.000000</td>\n",
       "      <td>-0.504868</td>\n",
       "      <td>0.058760</td>\n",
       "      <td>0.753394</td>\n",
       "      <td>-0.156108</td>\n",
       "    </tr>\n",
       "    <tr>\n",
       "      <th>length</th>\n",
       "      <td>-0.003661</td>\n",
       "      <td>-0.504868</td>\n",
       "      <td>1.000000</td>\n",
       "      <td>0.003787</td>\n",
       "      <td>-0.220842</td>\n",
       "      <td>-0.236162</td>\n",
       "    </tr>\n",
       "    <tr>\n",
       "      <th>velocity</th>\n",
       "      <td>0.133664</td>\n",
       "      <td>0.058760</td>\n",
       "      <td>0.003787</td>\n",
       "      <td>1.000000</td>\n",
       "      <td>-0.003974</td>\n",
       "      <td>0.125103</td>\n",
       "    </tr>\n",
       "    <tr>\n",
       "      <th>thickness</th>\n",
       "      <td>-0.230107</td>\n",
       "      <td>0.753394</td>\n",
       "      <td>-0.220842</td>\n",
       "      <td>-0.003974</td>\n",
       "      <td>1.000000</td>\n",
       "      <td>-0.312670</td>\n",
       "    </tr>\n",
       "    <tr>\n",
       "      <th>pressure</th>\n",
       "      <td>-0.390711</td>\n",
       "      <td>-0.156108</td>\n",
       "      <td>-0.236162</td>\n",
       "      <td>0.125103</td>\n",
       "      <td>-0.312670</td>\n",
       "      <td>1.000000</td>\n",
       "    </tr>\n",
       "  </tbody>\n",
       "</table>\n",
       "</div>"
      ],
      "text/plain": [
       "               freq     angle    length  velocity  thickness  pressure\n",
       "freq       1.000000 -0.272765 -0.003661  0.133664  -0.230107 -0.390711\n",
       "angle     -0.272765  1.000000 -0.504868  0.058760   0.753394 -0.156108\n",
       "length    -0.003661 -0.504868  1.000000  0.003787  -0.220842 -0.236162\n",
       "velocity   0.133664  0.058760  0.003787  1.000000  -0.003974  0.125103\n",
       "thickness -0.230107  0.753394 -0.220842 -0.003974   1.000000 -0.312670\n",
       "pressure  -0.390711 -0.156108 -0.236162  0.125103  -0.312670  1.000000"
      ]
     },
     "execution_count": 4,
     "metadata": {},
     "output_type": "execute_result"
    }
   ],
   "source": [
    "df.corr()"
   ]
  },
  {
   "cell_type": "code",
   "execution_count": 5,
   "metadata": {},
   "outputs": [
    {
     "data": {
      "text/plain": [
       "Index(['freq', 'angle', 'length', 'velocity', 'thickness', 'pressure'], dtype='object')"
      ]
     },
     "execution_count": 5,
     "metadata": {},
     "output_type": "execute_result"
    }
   ],
   "source": [
    "df.columns"
   ]
  },
  {
   "cell_type": "markdown",
   "metadata": {},
   "source": [
    "### Variance Inflation Factor"
   ]
  },
  {
   "cell_type": "code",
   "execution_count": 6,
   "metadata": {},
   "outputs": [
    {
     "data": {
      "text/plain": [
       "[1.942626754570521,\n",
       " 6.557489390964023,\n",
       " 3.2544472087129463,\n",
       " 7.148723394340731,\n",
       " 4.299617241817294]"
      ]
     },
     "execution_count": 6,
     "metadata": {},
     "output_type": "execute_result"
    }
   ],
   "source": [
    "# VIF dataframe \n",
    "vif_data = df.copy()\n",
    "vif_data = vif_data.drop(['pressure'],axis=1)\n",
    "# calculating VIF for each feature \n",
    "x = [variance_inflation_factor(vif_data.values, i) \n",
    "                          for i in range(len(vif_data.columns))] \n",
    "  \n",
    "x"
   ]
  },
  {
   "cell_type": "markdown",
   "metadata": {},
   "source": [
    "### Train-Test-Split our Dataset"
   ]
  },
  {
   "cell_type": "code",
   "execution_count": 7,
   "metadata": {},
   "outputs": [],
   "source": [
    "from sklearn.model_selection import train_test_split"
   ]
  },
  {
   "cell_type": "code",
   "execution_count": 8,
   "metadata": {},
   "outputs": [],
   "source": [
    "X = df.copy()\n",
    "X = X.drop(['pressure'],axis=1)\n",
    "y = df[['pressure']]"
   ]
  },
  {
   "cell_type": "code",
   "execution_count": 9,
   "metadata": {},
   "outputs": [
    {
     "name": "stdout",
     "output_type": "stream",
     "text": [
      "X train shape: (1052, 5)\n",
      "X test shape: (451, 5)\n",
      "y train shape: (1052, 1)\n",
      "y test shape: (451, 1)\n"
     ]
    }
   ],
   "source": [
    "X_train, X_test, y_train, y_test = train_test_split(X, y, test_size=0.3, random_state=75)\n",
    "print('X train shape:',X_train.shape)\n",
    "print('X test shape:',X_test.shape)\n",
    "print('y train shape:',y_train.shape)\n",
    "print('y test shape:',y_test.shape)"
   ]
  },
  {
   "cell_type": "markdown",
   "metadata": {},
   "source": [
    "## Ordinary Least Squares"
   ]
  },
  {
   "cell_type": "code",
   "execution_count": 10,
   "metadata": {},
   "outputs": [],
   "source": [
    "from sklearn.linear_model import LinearRegression"
   ]
  },
  {
   "cell_type": "code",
   "execution_count": 11,
   "metadata": {},
   "outputs": [],
   "source": [
    "reg = LinearRegression().fit(X_train, y_train)"
   ]
  },
  {
   "cell_type": "code",
   "execution_count": 12,
   "metadata": {},
   "outputs": [
    {
     "data": {
      "text/plain": [
       "0.48701529018157896"
      ]
     },
     "execution_count": 12,
     "metadata": {},
     "output_type": "execute_result"
    }
   ],
   "source": [
    "reg.score(X_test, y_test)"
   ]
  },
  {
   "cell_type": "markdown",
   "metadata": {},
   "source": [
    "#### Recursive Feature Elimination"
   ]
  },
  {
   "cell_type": "code",
   "execution_count": 13,
   "metadata": {},
   "outputs": [],
   "source": [
    "from sklearn.feature_selection import RFE"
   ]
  },
  {
   "cell_type": "code",
   "execution_count": 14,
   "metadata": {},
   "outputs": [
    {
     "name": "stdout",
     "output_type": "stream",
     "text": [
      "Fitting estimator with 5 features.\n",
      "[False  True  True  True  True]\n",
      "[2 1 1 1 1]\n"
     ]
    }
   ],
   "source": [
    "selector = RFE(reg, n_features_to_select=4, step=1,verbose=2)\n",
    "selector = selector.fit(X_train, y_train)\n",
    "print(selector.support_)\n",
    "print(selector.ranking_)"
   ]
  },
  {
   "cell_type": "markdown",
   "metadata": {},
   "source": [
    "## Polynomial Regression"
   ]
  },
  {
   "cell_type": "code",
   "execution_count": 15,
   "metadata": {},
   "outputs": [],
   "source": [
    "from sklearn.pipeline import Pipeline\n",
    "from sklearn.preprocessing import PolynomialFeatures"
   ]
  },
  {
   "cell_type": "code",
   "execution_count": 16,
   "metadata": {},
   "outputs": [
    {
     "data": {
      "text/plain": [
       "array([[1.00000000e+00, 8.00000000e+02, 0.00000000e+00, ...,\n",
       "        5.08369000e+03, 1.89898281e-01, 7.09353976e-06],\n",
       "       [1.00000000e+00, 1.00000000e+03, 0.00000000e+00, ...,\n",
       "        5.08369000e+03, 1.89898281e-01, 7.09353976e-06],\n",
       "       [1.00000000e+00, 1.25000000e+03, 0.00000000e+00, ...,\n",
       "        5.08369000e+03, 1.89898281e-01, 7.09353976e-06],\n",
       "       ...,\n",
       "       [1.00000000e+00, 4.00000000e+03, 1.56000000e+01, ...,\n",
       "        1.56816000e+03, 2.09280852e+00, 2.79298509e-03],\n",
       "       [1.00000000e+00, 5.00000000e+03, 1.56000000e+01, ...,\n",
       "        1.56816000e+03, 2.09280852e+00, 2.79298509e-03],\n",
       "       [1.00000000e+00, 6.30000000e+03, 1.56000000e+01, ...,\n",
       "        1.56816000e+03, 2.09280852e+00, 2.79298509e-03]])"
      ]
     },
     "execution_count": 16,
     "metadata": {},
     "output_type": "execute_result"
    }
   ],
   "source": [
    "poly = PolynomialFeatures(degree=2)\n",
    "poly.fit_transform(X)"
   ]
  },
  {
   "cell_type": "code",
   "execution_count": 17,
   "metadata": {},
   "outputs": [
    {
     "data": {
      "text/plain": [
       "0.6223336446282257"
      ]
     },
     "execution_count": 17,
     "metadata": {},
     "output_type": "execute_result"
    }
   ],
   "source": [
    "model = Pipeline([('poly', PolynomialFeatures(degree=2)),\n",
    "...                   ('linear', LinearRegression(fit_intercept=False))])\n",
    "# fit to an order-3 polynomial data\n",
    "model = model.fit(X_train,y_train)\n",
    "model.named_steps['linear'].coef_\n",
    "model.score(X_test, y_test)"
   ]
  },
  {
   "cell_type": "code",
   "execution_count": 18,
   "metadata": {},
   "outputs": [
    {
     "name": "stdout",
     "output_type": "stream",
     "text": [
      "degree of polynomial = 1 and score is 0.48701529018065426\n",
      "degree of polynomial = 2 and score is 0.6223336446282257\n",
      "degree of polynomial = 3 and score is 0.7209720262016102\n"
     ]
    }
   ],
   "source": [
    "for i in range(1,4):\n",
    "    model = Pipeline([('poly', PolynomialFeatures(degree=i)),\n",
    "    ('linear', LinearRegression(fit_intercept=False))])\n",
    "    # fit to an order-3 polynomial data\n",
    "    model = model.fit(X_train,y_train)\n",
    "    model.named_steps['linear'].coef_\n",
    "    print('degree of polynomial = {} and score is {}'.format(i,model.score(X_test, y_test)))"
   ]
  },
  {
   "cell_type": "markdown",
   "metadata": {},
   "source": [
    "### Pycaret"
   ]
  },
  {
   "cell_type": "code",
   "execution_count": 19,
   "metadata": {
    "scrolled": true
   },
   "outputs": [
    {
     "data": {
      "text/html": [
       "<style  type=\"text/css\" >\n",
       "#T_021d992c_801b_11eb_9100_380025ac0edfrow16_col1,#T_021d992c_801b_11eb_9100_380025ac0edfrow17_col1,#T_021d992c_801b_11eb_9100_380025ac0edfrow27_col1,#T_021d992c_801b_11eb_9100_380025ac0edfrow29_col1,#T_021d992c_801b_11eb_9100_380025ac0edfrow35_col1,#T_021d992c_801b_11eb_9100_380025ac0edfrow40_col1,#T_021d992c_801b_11eb_9100_380025ac0edfrow44_col1,#T_021d992c_801b_11eb_9100_380025ac0edfrow55_col1{\n",
       "            background-color:  lightgreen;\n",
       "        }</style><table id=\"T_021d992c_801b_11eb_9100_380025ac0edf\" ><thead>    <tr>        <th class=\"blank level0\" ></th>        <th class=\"col_heading level0 col0\" >Description</th>        <th class=\"col_heading level0 col1\" >Value</th>    </tr></thead><tbody>\n",
       "                <tr>\n",
       "                        <th id=\"T_021d992c_801b_11eb_9100_380025ac0edflevel0_row0\" class=\"row_heading level0 row0\" >0</th>\n",
       "                        <td id=\"T_021d992c_801b_11eb_9100_380025ac0edfrow0_col0\" class=\"data row0 col0\" >session_id</td>\n",
       "                        <td id=\"T_021d992c_801b_11eb_9100_380025ac0edfrow0_col1\" class=\"data row0 col1\" >123</td>\n",
       "            </tr>\n",
       "            <tr>\n",
       "                        <th id=\"T_021d992c_801b_11eb_9100_380025ac0edflevel0_row1\" class=\"row_heading level0 row1\" >1</th>\n",
       "                        <td id=\"T_021d992c_801b_11eb_9100_380025ac0edfrow1_col0\" class=\"data row1 col0\" >Target</td>\n",
       "                        <td id=\"T_021d992c_801b_11eb_9100_380025ac0edfrow1_col1\" class=\"data row1 col1\" >pressure</td>\n",
       "            </tr>\n",
       "            <tr>\n",
       "                        <th id=\"T_021d992c_801b_11eb_9100_380025ac0edflevel0_row2\" class=\"row_heading level0 row2\" >2</th>\n",
       "                        <td id=\"T_021d992c_801b_11eb_9100_380025ac0edfrow2_col0\" class=\"data row2 col0\" >Original Data</td>\n",
       "                        <td id=\"T_021d992c_801b_11eb_9100_380025ac0edfrow2_col1\" class=\"data row2 col1\" >(1503, 6)</td>\n",
       "            </tr>\n",
       "            <tr>\n",
       "                        <th id=\"T_021d992c_801b_11eb_9100_380025ac0edflevel0_row3\" class=\"row_heading level0 row3\" >3</th>\n",
       "                        <td id=\"T_021d992c_801b_11eb_9100_380025ac0edfrow3_col0\" class=\"data row3 col0\" >Missing Values</td>\n",
       "                        <td id=\"T_021d992c_801b_11eb_9100_380025ac0edfrow3_col1\" class=\"data row3 col1\" >False</td>\n",
       "            </tr>\n",
       "            <tr>\n",
       "                        <th id=\"T_021d992c_801b_11eb_9100_380025ac0edflevel0_row4\" class=\"row_heading level0 row4\" >4</th>\n",
       "                        <td id=\"T_021d992c_801b_11eb_9100_380025ac0edfrow4_col0\" class=\"data row4 col0\" >Numeric Features</td>\n",
       "                        <td id=\"T_021d992c_801b_11eb_9100_380025ac0edfrow4_col1\" class=\"data row4 col1\" >5</td>\n",
       "            </tr>\n",
       "            <tr>\n",
       "                        <th id=\"T_021d992c_801b_11eb_9100_380025ac0edflevel0_row5\" class=\"row_heading level0 row5\" >5</th>\n",
       "                        <td id=\"T_021d992c_801b_11eb_9100_380025ac0edfrow5_col0\" class=\"data row5 col0\" >Categorical Features</td>\n",
       "                        <td id=\"T_021d992c_801b_11eb_9100_380025ac0edfrow5_col1\" class=\"data row5 col1\" >0</td>\n",
       "            </tr>\n",
       "            <tr>\n",
       "                        <th id=\"T_021d992c_801b_11eb_9100_380025ac0edflevel0_row6\" class=\"row_heading level0 row6\" >6</th>\n",
       "                        <td id=\"T_021d992c_801b_11eb_9100_380025ac0edfrow6_col0\" class=\"data row6 col0\" >Ordinal Features</td>\n",
       "                        <td id=\"T_021d992c_801b_11eb_9100_380025ac0edfrow6_col1\" class=\"data row6 col1\" >False</td>\n",
       "            </tr>\n",
       "            <tr>\n",
       "                        <th id=\"T_021d992c_801b_11eb_9100_380025ac0edflevel0_row7\" class=\"row_heading level0 row7\" >7</th>\n",
       "                        <td id=\"T_021d992c_801b_11eb_9100_380025ac0edfrow7_col0\" class=\"data row7 col0\" >High Cardinality Features</td>\n",
       "                        <td id=\"T_021d992c_801b_11eb_9100_380025ac0edfrow7_col1\" class=\"data row7 col1\" >False</td>\n",
       "            </tr>\n",
       "            <tr>\n",
       "                        <th id=\"T_021d992c_801b_11eb_9100_380025ac0edflevel0_row8\" class=\"row_heading level0 row8\" >8</th>\n",
       "                        <td id=\"T_021d992c_801b_11eb_9100_380025ac0edfrow8_col0\" class=\"data row8 col0\" >High Cardinality Method</td>\n",
       "                        <td id=\"T_021d992c_801b_11eb_9100_380025ac0edfrow8_col1\" class=\"data row8 col1\" >None</td>\n",
       "            </tr>\n",
       "            <tr>\n",
       "                        <th id=\"T_021d992c_801b_11eb_9100_380025ac0edflevel0_row9\" class=\"row_heading level0 row9\" >9</th>\n",
       "                        <td id=\"T_021d992c_801b_11eb_9100_380025ac0edfrow9_col0\" class=\"data row9 col0\" >Transformed Train Set</td>\n",
       "                        <td id=\"T_021d992c_801b_11eb_9100_380025ac0edfrow9_col1\" class=\"data row9 col1\" >(1052, 7)</td>\n",
       "            </tr>\n",
       "            <tr>\n",
       "                        <th id=\"T_021d992c_801b_11eb_9100_380025ac0edflevel0_row10\" class=\"row_heading level0 row10\" >10</th>\n",
       "                        <td id=\"T_021d992c_801b_11eb_9100_380025ac0edfrow10_col0\" class=\"data row10 col0\" >Transformed Test Set</td>\n",
       "                        <td id=\"T_021d992c_801b_11eb_9100_380025ac0edfrow10_col1\" class=\"data row10 col1\" >(451, 7)</td>\n",
       "            </tr>\n",
       "            <tr>\n",
       "                        <th id=\"T_021d992c_801b_11eb_9100_380025ac0edflevel0_row11\" class=\"row_heading level0 row11\" >11</th>\n",
       "                        <td id=\"T_021d992c_801b_11eb_9100_380025ac0edfrow11_col0\" class=\"data row11 col0\" >Shuffle Train-Test</td>\n",
       "                        <td id=\"T_021d992c_801b_11eb_9100_380025ac0edfrow11_col1\" class=\"data row11 col1\" >True</td>\n",
       "            </tr>\n",
       "            <tr>\n",
       "                        <th id=\"T_021d992c_801b_11eb_9100_380025ac0edflevel0_row12\" class=\"row_heading level0 row12\" >12</th>\n",
       "                        <td id=\"T_021d992c_801b_11eb_9100_380025ac0edfrow12_col0\" class=\"data row12 col0\" >Stratify Train-Test</td>\n",
       "                        <td id=\"T_021d992c_801b_11eb_9100_380025ac0edfrow12_col1\" class=\"data row12 col1\" >False</td>\n",
       "            </tr>\n",
       "            <tr>\n",
       "                        <th id=\"T_021d992c_801b_11eb_9100_380025ac0edflevel0_row13\" class=\"row_heading level0 row13\" >13</th>\n",
       "                        <td id=\"T_021d992c_801b_11eb_9100_380025ac0edfrow13_col0\" class=\"data row13 col0\" >Fold Generator</td>\n",
       "                        <td id=\"T_021d992c_801b_11eb_9100_380025ac0edfrow13_col1\" class=\"data row13 col1\" >KFold</td>\n",
       "            </tr>\n",
       "            <tr>\n",
       "                        <th id=\"T_021d992c_801b_11eb_9100_380025ac0edflevel0_row14\" class=\"row_heading level0 row14\" >14</th>\n",
       "                        <td id=\"T_021d992c_801b_11eb_9100_380025ac0edfrow14_col0\" class=\"data row14 col0\" >Fold Number</td>\n",
       "                        <td id=\"T_021d992c_801b_11eb_9100_380025ac0edfrow14_col1\" class=\"data row14 col1\" >10</td>\n",
       "            </tr>\n",
       "            <tr>\n",
       "                        <th id=\"T_021d992c_801b_11eb_9100_380025ac0edflevel0_row15\" class=\"row_heading level0 row15\" >15</th>\n",
       "                        <td id=\"T_021d992c_801b_11eb_9100_380025ac0edfrow15_col0\" class=\"data row15 col0\" >CPU Jobs</td>\n",
       "                        <td id=\"T_021d992c_801b_11eb_9100_380025ac0edfrow15_col1\" class=\"data row15 col1\" >-1</td>\n",
       "            </tr>\n",
       "            <tr>\n",
       "                        <th id=\"T_021d992c_801b_11eb_9100_380025ac0edflevel0_row16\" class=\"row_heading level0 row16\" >16</th>\n",
       "                        <td id=\"T_021d992c_801b_11eb_9100_380025ac0edfrow16_col0\" class=\"data row16 col0\" >Use GPU</td>\n",
       "                        <td id=\"T_021d992c_801b_11eb_9100_380025ac0edfrow16_col1\" class=\"data row16 col1\" >True</td>\n",
       "            </tr>\n",
       "            <tr>\n",
       "                        <th id=\"T_021d992c_801b_11eb_9100_380025ac0edflevel0_row17\" class=\"row_heading level0 row17\" >17</th>\n",
       "                        <td id=\"T_021d992c_801b_11eb_9100_380025ac0edfrow17_col0\" class=\"data row17 col0\" >Log Experiment</td>\n",
       "                        <td id=\"T_021d992c_801b_11eb_9100_380025ac0edfrow17_col1\" class=\"data row17 col1\" >True</td>\n",
       "            </tr>\n",
       "            <tr>\n",
       "                        <th id=\"T_021d992c_801b_11eb_9100_380025ac0edflevel0_row18\" class=\"row_heading level0 row18\" >18</th>\n",
       "                        <td id=\"T_021d992c_801b_11eb_9100_380025ac0edfrow18_col0\" class=\"data row18 col0\" >Experiment Name</td>\n",
       "                        <td id=\"T_021d992c_801b_11eb_9100_380025ac0edfrow18_col1\" class=\"data row18 col1\" >NASA</td>\n",
       "            </tr>\n",
       "            <tr>\n",
       "                        <th id=\"T_021d992c_801b_11eb_9100_380025ac0edflevel0_row19\" class=\"row_heading level0 row19\" >19</th>\n",
       "                        <td id=\"T_021d992c_801b_11eb_9100_380025ac0edfrow19_col0\" class=\"data row19 col0\" >USI</td>\n",
       "                        <td id=\"T_021d992c_801b_11eb_9100_380025ac0edfrow19_col1\" class=\"data row19 col1\" >fc61</td>\n",
       "            </tr>\n",
       "            <tr>\n",
       "                        <th id=\"T_021d992c_801b_11eb_9100_380025ac0edflevel0_row20\" class=\"row_heading level0 row20\" >20</th>\n",
       "                        <td id=\"T_021d992c_801b_11eb_9100_380025ac0edfrow20_col0\" class=\"data row20 col0\" >Imputation Type</td>\n",
       "                        <td id=\"T_021d992c_801b_11eb_9100_380025ac0edfrow20_col1\" class=\"data row20 col1\" >simple</td>\n",
       "            </tr>\n",
       "            <tr>\n",
       "                        <th id=\"T_021d992c_801b_11eb_9100_380025ac0edflevel0_row21\" class=\"row_heading level0 row21\" >21</th>\n",
       "                        <td id=\"T_021d992c_801b_11eb_9100_380025ac0edfrow21_col0\" class=\"data row21 col0\" >Iterative Imputation Iteration</td>\n",
       "                        <td id=\"T_021d992c_801b_11eb_9100_380025ac0edfrow21_col1\" class=\"data row21 col1\" >None</td>\n",
       "            </tr>\n",
       "            <tr>\n",
       "                        <th id=\"T_021d992c_801b_11eb_9100_380025ac0edflevel0_row22\" class=\"row_heading level0 row22\" >22</th>\n",
       "                        <td id=\"T_021d992c_801b_11eb_9100_380025ac0edfrow22_col0\" class=\"data row22 col0\" >Numeric Imputer</td>\n",
       "                        <td id=\"T_021d992c_801b_11eb_9100_380025ac0edfrow22_col1\" class=\"data row22 col1\" >mean</td>\n",
       "            </tr>\n",
       "            <tr>\n",
       "                        <th id=\"T_021d992c_801b_11eb_9100_380025ac0edflevel0_row23\" class=\"row_heading level0 row23\" >23</th>\n",
       "                        <td id=\"T_021d992c_801b_11eb_9100_380025ac0edfrow23_col0\" class=\"data row23 col0\" >Iterative Imputation Numeric Model</td>\n",
       "                        <td id=\"T_021d992c_801b_11eb_9100_380025ac0edfrow23_col1\" class=\"data row23 col1\" >None</td>\n",
       "            </tr>\n",
       "            <tr>\n",
       "                        <th id=\"T_021d992c_801b_11eb_9100_380025ac0edflevel0_row24\" class=\"row_heading level0 row24\" >24</th>\n",
       "                        <td id=\"T_021d992c_801b_11eb_9100_380025ac0edfrow24_col0\" class=\"data row24 col0\" >Categorical Imputer</td>\n",
       "                        <td id=\"T_021d992c_801b_11eb_9100_380025ac0edfrow24_col1\" class=\"data row24 col1\" >constant</td>\n",
       "            </tr>\n",
       "            <tr>\n",
       "                        <th id=\"T_021d992c_801b_11eb_9100_380025ac0edflevel0_row25\" class=\"row_heading level0 row25\" >25</th>\n",
       "                        <td id=\"T_021d992c_801b_11eb_9100_380025ac0edfrow25_col0\" class=\"data row25 col0\" >Iterative Imputation Categorical Model</td>\n",
       "                        <td id=\"T_021d992c_801b_11eb_9100_380025ac0edfrow25_col1\" class=\"data row25 col1\" >None</td>\n",
       "            </tr>\n",
       "            <tr>\n",
       "                        <th id=\"T_021d992c_801b_11eb_9100_380025ac0edflevel0_row26\" class=\"row_heading level0 row26\" >26</th>\n",
       "                        <td id=\"T_021d992c_801b_11eb_9100_380025ac0edfrow26_col0\" class=\"data row26 col0\" >Unknown Categoricals Handling</td>\n",
       "                        <td id=\"T_021d992c_801b_11eb_9100_380025ac0edfrow26_col1\" class=\"data row26 col1\" >least_frequent</td>\n",
       "            </tr>\n",
       "            <tr>\n",
       "                        <th id=\"T_021d992c_801b_11eb_9100_380025ac0edflevel0_row27\" class=\"row_heading level0 row27\" >27</th>\n",
       "                        <td id=\"T_021d992c_801b_11eb_9100_380025ac0edfrow27_col0\" class=\"data row27 col0\" >Normalize</td>\n",
       "                        <td id=\"T_021d992c_801b_11eb_9100_380025ac0edfrow27_col1\" class=\"data row27 col1\" >True</td>\n",
       "            </tr>\n",
       "            <tr>\n",
       "                        <th id=\"T_021d992c_801b_11eb_9100_380025ac0edflevel0_row28\" class=\"row_heading level0 row28\" >28</th>\n",
       "                        <td id=\"T_021d992c_801b_11eb_9100_380025ac0edfrow28_col0\" class=\"data row28 col0\" >Normalize Method</td>\n",
       "                        <td id=\"T_021d992c_801b_11eb_9100_380025ac0edfrow28_col1\" class=\"data row28 col1\" >zscore</td>\n",
       "            </tr>\n",
       "            <tr>\n",
       "                        <th id=\"T_021d992c_801b_11eb_9100_380025ac0edflevel0_row29\" class=\"row_heading level0 row29\" >29</th>\n",
       "                        <td id=\"T_021d992c_801b_11eb_9100_380025ac0edfrow29_col0\" class=\"data row29 col0\" >Transformation</td>\n",
       "                        <td id=\"T_021d992c_801b_11eb_9100_380025ac0edfrow29_col1\" class=\"data row29 col1\" >True</td>\n",
       "            </tr>\n",
       "            <tr>\n",
       "                        <th id=\"T_021d992c_801b_11eb_9100_380025ac0edflevel0_row30\" class=\"row_heading level0 row30\" >30</th>\n",
       "                        <td id=\"T_021d992c_801b_11eb_9100_380025ac0edfrow30_col0\" class=\"data row30 col0\" >Transformation Method</td>\n",
       "                        <td id=\"T_021d992c_801b_11eb_9100_380025ac0edfrow30_col1\" class=\"data row30 col1\" >yeo-johnson</td>\n",
       "            </tr>\n",
       "            <tr>\n",
       "                        <th id=\"T_021d992c_801b_11eb_9100_380025ac0edflevel0_row31\" class=\"row_heading level0 row31\" >31</th>\n",
       "                        <td id=\"T_021d992c_801b_11eb_9100_380025ac0edfrow31_col0\" class=\"data row31 col0\" >PCA</td>\n",
       "                        <td id=\"T_021d992c_801b_11eb_9100_380025ac0edfrow31_col1\" class=\"data row31 col1\" >False</td>\n",
       "            </tr>\n",
       "            <tr>\n",
       "                        <th id=\"T_021d992c_801b_11eb_9100_380025ac0edflevel0_row32\" class=\"row_heading level0 row32\" >32</th>\n",
       "                        <td id=\"T_021d992c_801b_11eb_9100_380025ac0edfrow32_col0\" class=\"data row32 col0\" >PCA Method</td>\n",
       "                        <td id=\"T_021d992c_801b_11eb_9100_380025ac0edfrow32_col1\" class=\"data row32 col1\" >None</td>\n",
       "            </tr>\n",
       "            <tr>\n",
       "                        <th id=\"T_021d992c_801b_11eb_9100_380025ac0edflevel0_row33\" class=\"row_heading level0 row33\" >33</th>\n",
       "                        <td id=\"T_021d992c_801b_11eb_9100_380025ac0edfrow33_col0\" class=\"data row33 col0\" >PCA Components</td>\n",
       "                        <td id=\"T_021d992c_801b_11eb_9100_380025ac0edfrow33_col1\" class=\"data row33 col1\" >None</td>\n",
       "            </tr>\n",
       "            <tr>\n",
       "                        <th id=\"T_021d992c_801b_11eb_9100_380025ac0edflevel0_row34\" class=\"row_heading level0 row34\" >34</th>\n",
       "                        <td id=\"T_021d992c_801b_11eb_9100_380025ac0edfrow34_col0\" class=\"data row34 col0\" >Ignore Low Variance</td>\n",
       "                        <td id=\"T_021d992c_801b_11eb_9100_380025ac0edfrow34_col1\" class=\"data row34 col1\" >False</td>\n",
       "            </tr>\n",
       "            <tr>\n",
       "                        <th id=\"T_021d992c_801b_11eb_9100_380025ac0edflevel0_row35\" class=\"row_heading level0 row35\" >35</th>\n",
       "                        <td id=\"T_021d992c_801b_11eb_9100_380025ac0edfrow35_col0\" class=\"data row35 col0\" >Combine Rare Levels</td>\n",
       "                        <td id=\"T_021d992c_801b_11eb_9100_380025ac0edfrow35_col1\" class=\"data row35 col1\" >True</td>\n",
       "            </tr>\n",
       "            <tr>\n",
       "                        <th id=\"T_021d992c_801b_11eb_9100_380025ac0edflevel0_row36\" class=\"row_heading level0 row36\" >36</th>\n",
       "                        <td id=\"T_021d992c_801b_11eb_9100_380025ac0edfrow36_col0\" class=\"data row36 col0\" >Rare Level Threshold</td>\n",
       "                        <td id=\"T_021d992c_801b_11eb_9100_380025ac0edfrow36_col1\" class=\"data row36 col1\" >0.050000</td>\n",
       "            </tr>\n",
       "            <tr>\n",
       "                        <th id=\"T_021d992c_801b_11eb_9100_380025ac0edflevel0_row37\" class=\"row_heading level0 row37\" >37</th>\n",
       "                        <td id=\"T_021d992c_801b_11eb_9100_380025ac0edfrow37_col0\" class=\"data row37 col0\" >Numeric Binning</td>\n",
       "                        <td id=\"T_021d992c_801b_11eb_9100_380025ac0edfrow37_col1\" class=\"data row37 col1\" >False</td>\n",
       "            </tr>\n",
       "            <tr>\n",
       "                        <th id=\"T_021d992c_801b_11eb_9100_380025ac0edflevel0_row38\" class=\"row_heading level0 row38\" >38</th>\n",
       "                        <td id=\"T_021d992c_801b_11eb_9100_380025ac0edfrow38_col0\" class=\"data row38 col0\" >Remove Outliers</td>\n",
       "                        <td id=\"T_021d992c_801b_11eb_9100_380025ac0edfrow38_col1\" class=\"data row38 col1\" >False</td>\n",
       "            </tr>\n",
       "            <tr>\n",
       "                        <th id=\"T_021d992c_801b_11eb_9100_380025ac0edflevel0_row39\" class=\"row_heading level0 row39\" >39</th>\n",
       "                        <td id=\"T_021d992c_801b_11eb_9100_380025ac0edfrow39_col0\" class=\"data row39 col0\" >Outliers Threshold</td>\n",
       "                        <td id=\"T_021d992c_801b_11eb_9100_380025ac0edfrow39_col1\" class=\"data row39 col1\" >None</td>\n",
       "            </tr>\n",
       "            <tr>\n",
       "                        <th id=\"T_021d992c_801b_11eb_9100_380025ac0edflevel0_row40\" class=\"row_heading level0 row40\" >40</th>\n",
       "                        <td id=\"T_021d992c_801b_11eb_9100_380025ac0edfrow40_col0\" class=\"data row40 col0\" >Remove Multicollinearity</td>\n",
       "                        <td id=\"T_021d992c_801b_11eb_9100_380025ac0edfrow40_col1\" class=\"data row40 col1\" >True</td>\n",
       "            </tr>\n",
       "            <tr>\n",
       "                        <th id=\"T_021d992c_801b_11eb_9100_380025ac0edflevel0_row41\" class=\"row_heading level0 row41\" >41</th>\n",
       "                        <td id=\"T_021d992c_801b_11eb_9100_380025ac0edfrow41_col0\" class=\"data row41 col0\" >Multicollinearity Threshold</td>\n",
       "                        <td id=\"T_021d992c_801b_11eb_9100_380025ac0edfrow41_col1\" class=\"data row41 col1\" >0.950000</td>\n",
       "            </tr>\n",
       "            <tr>\n",
       "                        <th id=\"T_021d992c_801b_11eb_9100_380025ac0edflevel0_row42\" class=\"row_heading level0 row42\" >42</th>\n",
       "                        <td id=\"T_021d992c_801b_11eb_9100_380025ac0edfrow42_col0\" class=\"data row42 col0\" >Clustering</td>\n",
       "                        <td id=\"T_021d992c_801b_11eb_9100_380025ac0edfrow42_col1\" class=\"data row42 col1\" >False</td>\n",
       "            </tr>\n",
       "            <tr>\n",
       "                        <th id=\"T_021d992c_801b_11eb_9100_380025ac0edflevel0_row43\" class=\"row_heading level0 row43\" >43</th>\n",
       "                        <td id=\"T_021d992c_801b_11eb_9100_380025ac0edfrow43_col0\" class=\"data row43 col0\" >Clustering Iteration</td>\n",
       "                        <td id=\"T_021d992c_801b_11eb_9100_380025ac0edfrow43_col1\" class=\"data row43 col1\" >None</td>\n",
       "            </tr>\n",
       "            <tr>\n",
       "                        <th id=\"T_021d992c_801b_11eb_9100_380025ac0edflevel0_row44\" class=\"row_heading level0 row44\" >44</th>\n",
       "                        <td id=\"T_021d992c_801b_11eb_9100_380025ac0edfrow44_col0\" class=\"data row44 col0\" >Polynomial Features</td>\n",
       "                        <td id=\"T_021d992c_801b_11eb_9100_380025ac0edfrow44_col1\" class=\"data row44 col1\" >True</td>\n",
       "            </tr>\n",
       "            <tr>\n",
       "                        <th id=\"T_021d992c_801b_11eb_9100_380025ac0edflevel0_row45\" class=\"row_heading level0 row45\" >45</th>\n",
       "                        <td id=\"T_021d992c_801b_11eb_9100_380025ac0edfrow45_col0\" class=\"data row45 col0\" >Polynomial Degree</td>\n",
       "                        <td id=\"T_021d992c_801b_11eb_9100_380025ac0edfrow45_col1\" class=\"data row45 col1\" >3</td>\n",
       "            </tr>\n",
       "            <tr>\n",
       "                        <th id=\"T_021d992c_801b_11eb_9100_380025ac0edflevel0_row46\" class=\"row_heading level0 row46\" >46</th>\n",
       "                        <td id=\"T_021d992c_801b_11eb_9100_380025ac0edfrow46_col0\" class=\"data row46 col0\" >Trignometry Features</td>\n",
       "                        <td id=\"T_021d992c_801b_11eb_9100_380025ac0edfrow46_col1\" class=\"data row46 col1\" >False</td>\n",
       "            </tr>\n",
       "            <tr>\n",
       "                        <th id=\"T_021d992c_801b_11eb_9100_380025ac0edflevel0_row47\" class=\"row_heading level0 row47\" >47</th>\n",
       "                        <td id=\"T_021d992c_801b_11eb_9100_380025ac0edfrow47_col0\" class=\"data row47 col0\" >Polynomial Threshold</td>\n",
       "                        <td id=\"T_021d992c_801b_11eb_9100_380025ac0edfrow47_col1\" class=\"data row47 col1\" >0.100000</td>\n",
       "            </tr>\n",
       "            <tr>\n",
       "                        <th id=\"T_021d992c_801b_11eb_9100_380025ac0edflevel0_row48\" class=\"row_heading level0 row48\" >48</th>\n",
       "                        <td id=\"T_021d992c_801b_11eb_9100_380025ac0edfrow48_col0\" class=\"data row48 col0\" >Group Features</td>\n",
       "                        <td id=\"T_021d992c_801b_11eb_9100_380025ac0edfrow48_col1\" class=\"data row48 col1\" >False</td>\n",
       "            </tr>\n",
       "            <tr>\n",
       "                        <th id=\"T_021d992c_801b_11eb_9100_380025ac0edflevel0_row49\" class=\"row_heading level0 row49\" >49</th>\n",
       "                        <td id=\"T_021d992c_801b_11eb_9100_380025ac0edfrow49_col0\" class=\"data row49 col0\" >Feature Selection</td>\n",
       "                        <td id=\"T_021d992c_801b_11eb_9100_380025ac0edfrow49_col1\" class=\"data row49 col1\" >False</td>\n",
       "            </tr>\n",
       "            <tr>\n",
       "                        <th id=\"T_021d992c_801b_11eb_9100_380025ac0edflevel0_row50\" class=\"row_heading level0 row50\" >50</th>\n",
       "                        <td id=\"T_021d992c_801b_11eb_9100_380025ac0edfrow50_col0\" class=\"data row50 col0\" >Feature Selection Method</td>\n",
       "                        <td id=\"T_021d992c_801b_11eb_9100_380025ac0edfrow50_col1\" class=\"data row50 col1\" >classic</td>\n",
       "            </tr>\n",
       "            <tr>\n",
       "                        <th id=\"T_021d992c_801b_11eb_9100_380025ac0edflevel0_row51\" class=\"row_heading level0 row51\" >51</th>\n",
       "                        <td id=\"T_021d992c_801b_11eb_9100_380025ac0edfrow51_col0\" class=\"data row51 col0\" >Features Selection Threshold</td>\n",
       "                        <td id=\"T_021d992c_801b_11eb_9100_380025ac0edfrow51_col1\" class=\"data row51 col1\" >None</td>\n",
       "            </tr>\n",
       "            <tr>\n",
       "                        <th id=\"T_021d992c_801b_11eb_9100_380025ac0edflevel0_row52\" class=\"row_heading level0 row52\" >52</th>\n",
       "                        <td id=\"T_021d992c_801b_11eb_9100_380025ac0edfrow52_col0\" class=\"data row52 col0\" >Feature Interaction</td>\n",
       "                        <td id=\"T_021d992c_801b_11eb_9100_380025ac0edfrow52_col1\" class=\"data row52 col1\" >False</td>\n",
       "            </tr>\n",
       "            <tr>\n",
       "                        <th id=\"T_021d992c_801b_11eb_9100_380025ac0edflevel0_row53\" class=\"row_heading level0 row53\" >53</th>\n",
       "                        <td id=\"T_021d992c_801b_11eb_9100_380025ac0edfrow53_col0\" class=\"data row53 col0\" >Feature Ratio</td>\n",
       "                        <td id=\"T_021d992c_801b_11eb_9100_380025ac0edfrow53_col1\" class=\"data row53 col1\" >False</td>\n",
       "            </tr>\n",
       "            <tr>\n",
       "                        <th id=\"T_021d992c_801b_11eb_9100_380025ac0edflevel0_row54\" class=\"row_heading level0 row54\" >54</th>\n",
       "                        <td id=\"T_021d992c_801b_11eb_9100_380025ac0edfrow54_col0\" class=\"data row54 col0\" >Interaction Threshold</td>\n",
       "                        <td id=\"T_021d992c_801b_11eb_9100_380025ac0edfrow54_col1\" class=\"data row54 col1\" >None</td>\n",
       "            </tr>\n",
       "            <tr>\n",
       "                        <th id=\"T_021d992c_801b_11eb_9100_380025ac0edflevel0_row55\" class=\"row_heading level0 row55\" >55</th>\n",
       "                        <td id=\"T_021d992c_801b_11eb_9100_380025ac0edfrow55_col0\" class=\"data row55 col0\" >Transform Target</td>\n",
       "                        <td id=\"T_021d992c_801b_11eb_9100_380025ac0edfrow55_col1\" class=\"data row55 col1\" >True</td>\n",
       "            </tr>\n",
       "            <tr>\n",
       "                        <th id=\"T_021d992c_801b_11eb_9100_380025ac0edflevel0_row56\" class=\"row_heading level0 row56\" >56</th>\n",
       "                        <td id=\"T_021d992c_801b_11eb_9100_380025ac0edfrow56_col0\" class=\"data row56 col0\" >Transform Target Method</td>\n",
       "                        <td id=\"T_021d992c_801b_11eb_9100_380025ac0edfrow56_col1\" class=\"data row56 col1\" >box-cox</td>\n",
       "            </tr>\n",
       "    </tbody></table>"
      ],
      "text/plain": [
       "<pandas.io.formats.style.Styler at 0x22dca9edbe0>"
      ]
     },
     "metadata": {},
     "output_type": "display_data"
    }
   ],
   "source": [
    "from pycaret.regression import *\n",
    "\n",
    "exp_reg102 = setup(data = df, target = 'pressure', session_id=123,\n",
    "                  normalize = True, transformation = True, transform_target = True, \n",
    "                  combine_rare_levels = True, rare_level_threshold = 0.05,\n",
    "                  remove_multicollinearity = True, multicollinearity_threshold = 0.95,\n",
    "                  log_experim\n",
    "                   ent = True, experiment_name = 'NASA',polynomial_features=True,use_gpu=True,\n",
    "                  polynomial_degree=3)\n",
    "\n",
    "\n"
   ]
  },
  {
   "cell_type": "code",
   "execution_count": 20,
   "metadata": {},
   "outputs": [
    {
     "data": {
      "text/html": [
       "<style  type=\"text/css\" >\n",
       "    #T_1575fc33_801b_11eb_be0e_380025ac0edf th {\n",
       "          text-align: left;\n",
       "    }#T_1575fc33_801b_11eb_be0e_380025ac0edfrow0_col0,#T_1575fc33_801b_11eb_be0e_380025ac0edfrow1_col0,#T_1575fc33_801b_11eb_be0e_380025ac0edfrow1_col1,#T_1575fc33_801b_11eb_be0e_380025ac0edfrow1_col2,#T_1575fc33_801b_11eb_be0e_380025ac0edfrow1_col3,#T_1575fc33_801b_11eb_be0e_380025ac0edfrow1_col4,#T_1575fc33_801b_11eb_be0e_380025ac0edfrow1_col5,#T_1575fc33_801b_11eb_be0e_380025ac0edfrow1_col6,#T_1575fc33_801b_11eb_be0e_380025ac0edfrow2_col0,#T_1575fc33_801b_11eb_be0e_380025ac0edfrow2_col1,#T_1575fc33_801b_11eb_be0e_380025ac0edfrow2_col2,#T_1575fc33_801b_11eb_be0e_380025ac0edfrow2_col3,#T_1575fc33_801b_11eb_be0e_380025ac0edfrow2_col4,#T_1575fc33_801b_11eb_be0e_380025ac0edfrow2_col5,#T_1575fc33_801b_11eb_be0e_380025ac0edfrow2_col6,#T_1575fc33_801b_11eb_be0e_380025ac0edfrow3_col0,#T_1575fc33_801b_11eb_be0e_380025ac0edfrow3_col1,#T_1575fc33_801b_11eb_be0e_380025ac0edfrow3_col2,#T_1575fc33_801b_11eb_be0e_380025ac0edfrow3_col3,#T_1575fc33_801b_11eb_be0e_380025ac0edfrow3_col4,#T_1575fc33_801b_11eb_be0e_380025ac0edfrow3_col5,#T_1575fc33_801b_11eb_be0e_380025ac0edfrow3_col6,#T_1575fc33_801b_11eb_be0e_380025ac0edfrow4_col0,#T_1575fc33_801b_11eb_be0e_380025ac0edfrow4_col1,#T_1575fc33_801b_11eb_be0e_380025ac0edfrow4_col2,#T_1575fc33_801b_11eb_be0e_380025ac0edfrow4_col3,#T_1575fc33_801b_11eb_be0e_380025ac0edfrow4_col4,#T_1575fc33_801b_11eb_be0e_380025ac0edfrow4_col5,#T_1575fc33_801b_11eb_be0e_380025ac0edfrow4_col6,#T_1575fc33_801b_11eb_be0e_380025ac0edfrow5_col0,#T_1575fc33_801b_11eb_be0e_380025ac0edfrow5_col1,#T_1575fc33_801b_11eb_be0e_380025ac0edfrow5_col2,#T_1575fc33_801b_11eb_be0e_380025ac0edfrow5_col3,#T_1575fc33_801b_11eb_be0e_380025ac0edfrow5_col4,#T_1575fc33_801b_11eb_be0e_380025ac0edfrow5_col5,#T_1575fc33_801b_11eb_be0e_380025ac0edfrow5_col6,#T_1575fc33_801b_11eb_be0e_380025ac0edfrow6_col0,#T_1575fc33_801b_11eb_be0e_380025ac0edfrow6_col1,#T_1575fc33_801b_11eb_be0e_380025ac0edfrow6_col2,#T_1575fc33_801b_11eb_be0e_380025ac0edfrow6_col3,#T_1575fc33_801b_11eb_be0e_380025ac0edfrow6_col4,#T_1575fc33_801b_11eb_be0e_380025ac0edfrow6_col5,#T_1575fc33_801b_11eb_be0e_380025ac0edfrow6_col6,#T_1575fc33_801b_11eb_be0e_380025ac0edfrow7_col0,#T_1575fc33_801b_11eb_be0e_380025ac0edfrow7_col1,#T_1575fc33_801b_11eb_be0e_380025ac0edfrow7_col2,#T_1575fc33_801b_11eb_be0e_380025ac0edfrow7_col3,#T_1575fc33_801b_11eb_be0e_380025ac0edfrow7_col4,#T_1575fc33_801b_11eb_be0e_380025ac0edfrow7_col5,#T_1575fc33_801b_11eb_be0e_380025ac0edfrow7_col6,#T_1575fc33_801b_11eb_be0e_380025ac0edfrow8_col0,#T_1575fc33_801b_11eb_be0e_380025ac0edfrow8_col1,#T_1575fc33_801b_11eb_be0e_380025ac0edfrow8_col2,#T_1575fc33_801b_11eb_be0e_380025ac0edfrow8_col3,#T_1575fc33_801b_11eb_be0e_380025ac0edfrow8_col4,#T_1575fc33_801b_11eb_be0e_380025ac0edfrow8_col5,#T_1575fc33_801b_11eb_be0e_380025ac0edfrow8_col6,#T_1575fc33_801b_11eb_be0e_380025ac0edfrow9_col0,#T_1575fc33_801b_11eb_be0e_380025ac0edfrow9_col1,#T_1575fc33_801b_11eb_be0e_380025ac0edfrow9_col2,#T_1575fc33_801b_11eb_be0e_380025ac0edfrow9_col3,#T_1575fc33_801b_11eb_be0e_380025ac0edfrow9_col4,#T_1575fc33_801b_11eb_be0e_380025ac0edfrow9_col5,#T_1575fc33_801b_11eb_be0e_380025ac0edfrow9_col6,#T_1575fc33_801b_11eb_be0e_380025ac0edfrow10_col0,#T_1575fc33_801b_11eb_be0e_380025ac0edfrow10_col1,#T_1575fc33_801b_11eb_be0e_380025ac0edfrow10_col2,#T_1575fc33_801b_11eb_be0e_380025ac0edfrow10_col3,#T_1575fc33_801b_11eb_be0e_380025ac0edfrow10_col4,#T_1575fc33_801b_11eb_be0e_380025ac0edfrow10_col5,#T_1575fc33_801b_11eb_be0e_380025ac0edfrow10_col6,#T_1575fc33_801b_11eb_be0e_380025ac0edfrow11_col0,#T_1575fc33_801b_11eb_be0e_380025ac0edfrow11_col1,#T_1575fc33_801b_11eb_be0e_380025ac0edfrow11_col2,#T_1575fc33_801b_11eb_be0e_380025ac0edfrow11_col3,#T_1575fc33_801b_11eb_be0e_380025ac0edfrow11_col4,#T_1575fc33_801b_11eb_be0e_380025ac0edfrow11_col5,#T_1575fc33_801b_11eb_be0e_380025ac0edfrow11_col6,#T_1575fc33_801b_11eb_be0e_380025ac0edfrow12_col0,#T_1575fc33_801b_11eb_be0e_380025ac0edfrow12_col1,#T_1575fc33_801b_11eb_be0e_380025ac0edfrow12_col2,#T_1575fc33_801b_11eb_be0e_380025ac0edfrow12_col3,#T_1575fc33_801b_11eb_be0e_380025ac0edfrow12_col4,#T_1575fc33_801b_11eb_be0e_380025ac0edfrow12_col5,#T_1575fc33_801b_11eb_be0e_380025ac0edfrow12_col6,#T_1575fc33_801b_11eb_be0e_380025ac0edfrow13_col0,#T_1575fc33_801b_11eb_be0e_380025ac0edfrow13_col1,#T_1575fc33_801b_11eb_be0e_380025ac0edfrow13_col2,#T_1575fc33_801b_11eb_be0e_380025ac0edfrow13_col3,#T_1575fc33_801b_11eb_be0e_380025ac0edfrow13_col4,#T_1575fc33_801b_11eb_be0e_380025ac0edfrow13_col5,#T_1575fc33_801b_11eb_be0e_380025ac0edfrow13_col6,#T_1575fc33_801b_11eb_be0e_380025ac0edfrow14_col0,#T_1575fc33_801b_11eb_be0e_380025ac0edfrow14_col1,#T_1575fc33_801b_11eb_be0e_380025ac0edfrow14_col2,#T_1575fc33_801b_11eb_be0e_380025ac0edfrow14_col3,#T_1575fc33_801b_11eb_be0e_380025ac0edfrow14_col4,#T_1575fc33_801b_11eb_be0e_380025ac0edfrow14_col5,#T_1575fc33_801b_11eb_be0e_380025ac0edfrow14_col6,#T_1575fc33_801b_11eb_be0e_380025ac0edfrow15_col0,#T_1575fc33_801b_11eb_be0e_380025ac0edfrow15_col1,#T_1575fc33_801b_11eb_be0e_380025ac0edfrow15_col2,#T_1575fc33_801b_11eb_be0e_380025ac0edfrow15_col3,#T_1575fc33_801b_11eb_be0e_380025ac0edfrow15_col4,#T_1575fc33_801b_11eb_be0e_380025ac0edfrow15_col5,#T_1575fc33_801b_11eb_be0e_380025ac0edfrow15_col6,#T_1575fc33_801b_11eb_be0e_380025ac0edfrow16_col0,#T_1575fc33_801b_11eb_be0e_380025ac0edfrow16_col1,#T_1575fc33_801b_11eb_be0e_380025ac0edfrow16_col2,#T_1575fc33_801b_11eb_be0e_380025ac0edfrow16_col3,#T_1575fc33_801b_11eb_be0e_380025ac0edfrow16_col4,#T_1575fc33_801b_11eb_be0e_380025ac0edfrow16_col5,#T_1575fc33_801b_11eb_be0e_380025ac0edfrow16_col6,#T_1575fc33_801b_11eb_be0e_380025ac0edfrow17_col0,#T_1575fc33_801b_11eb_be0e_380025ac0edfrow17_col1,#T_1575fc33_801b_11eb_be0e_380025ac0edfrow17_col2,#T_1575fc33_801b_11eb_be0e_380025ac0edfrow17_col3,#T_1575fc33_801b_11eb_be0e_380025ac0edfrow17_col4,#T_1575fc33_801b_11eb_be0e_380025ac0edfrow17_col5,#T_1575fc33_801b_11eb_be0e_380025ac0edfrow17_col6{\n",
       "            text-align:  left;\n",
       "            text-align:  left;\n",
       "        }#T_1575fc33_801b_11eb_be0e_380025ac0edfrow0_col1,#T_1575fc33_801b_11eb_be0e_380025ac0edfrow0_col2,#T_1575fc33_801b_11eb_be0e_380025ac0edfrow0_col3,#T_1575fc33_801b_11eb_be0e_380025ac0edfrow0_col4,#T_1575fc33_801b_11eb_be0e_380025ac0edfrow0_col5,#T_1575fc33_801b_11eb_be0e_380025ac0edfrow0_col6{\n",
       "            text-align:  left;\n",
       "            text-align:  left;\n",
       "            background-color:  yellow;\n",
       "        }#T_1575fc33_801b_11eb_be0e_380025ac0edfrow0_col7,#T_1575fc33_801b_11eb_be0e_380025ac0edfrow1_col7,#T_1575fc33_801b_11eb_be0e_380025ac0edfrow2_col7,#T_1575fc33_801b_11eb_be0e_380025ac0edfrow3_col7,#T_1575fc33_801b_11eb_be0e_380025ac0edfrow4_col7,#T_1575fc33_801b_11eb_be0e_380025ac0edfrow5_col7,#T_1575fc33_801b_11eb_be0e_380025ac0edfrow6_col7,#T_1575fc33_801b_11eb_be0e_380025ac0edfrow7_col7,#T_1575fc33_801b_11eb_be0e_380025ac0edfrow8_col7,#T_1575fc33_801b_11eb_be0e_380025ac0edfrow9_col7,#T_1575fc33_801b_11eb_be0e_380025ac0edfrow10_col7,#T_1575fc33_801b_11eb_be0e_380025ac0edfrow11_col7,#T_1575fc33_801b_11eb_be0e_380025ac0edfrow12_col7,#T_1575fc33_801b_11eb_be0e_380025ac0edfrow14_col7,#T_1575fc33_801b_11eb_be0e_380025ac0edfrow15_col7,#T_1575fc33_801b_11eb_be0e_380025ac0edfrow16_col7,#T_1575fc33_801b_11eb_be0e_380025ac0edfrow17_col7{\n",
       "            text-align:  left;\n",
       "            text-align:  left;\n",
       "            background-color:  lightgrey;\n",
       "        }#T_1575fc33_801b_11eb_be0e_380025ac0edfrow13_col7{\n",
       "            text-align:  left;\n",
       "            text-align:  left;\n",
       "            background-color:  yellow;\n",
       "            background-color:  lightgrey;\n",
       "        }</style><table id=\"T_1575fc33_801b_11eb_be0e_380025ac0edf\" ><thead>    <tr>        <th class=\"blank level0\" ></th>        <th class=\"col_heading level0 col0\" >Model</th>        <th class=\"col_heading level0 col1\" >MAE</th>        <th class=\"col_heading level0 col2\" >MSE</th>        <th class=\"col_heading level0 col3\" >RMSE</th>        <th class=\"col_heading level0 col4\" >R2</th>        <th class=\"col_heading level0 col5\" >RMSLE</th>        <th class=\"col_heading level0 col6\" >MAPE</th>        <th class=\"col_heading level0 col7\" >TT (Sec)</th>    </tr></thead><tbody>\n",
       "                <tr>\n",
       "                        <th id=\"T_1575fc33_801b_11eb_be0e_380025ac0edflevel0_row0\" class=\"row_heading level0 row0\" >xgboost</th>\n",
       "                        <td id=\"T_1575fc33_801b_11eb_be0e_380025ac0edfrow0_col0\" class=\"data row0 col0\" >Extreme Gradient Boosting</td>\n",
       "                        <td id=\"T_1575fc33_801b_11eb_be0e_380025ac0edfrow0_col1\" class=\"data row0 col1\" >1.1890</td>\n",
       "                        <td id=\"T_1575fc33_801b_11eb_be0e_380025ac0edfrow0_col2\" class=\"data row0 col2\" >3.0512</td>\n",
       "                        <td id=\"T_1575fc33_801b_11eb_be0e_380025ac0edfrow0_col3\" class=\"data row0 col3\" >1.7227</td>\n",
       "                        <td id=\"T_1575fc33_801b_11eb_be0e_380025ac0edfrow0_col4\" class=\"data row0 col4\" >0.9330</td>\n",
       "                        <td id=\"T_1575fc33_801b_11eb_be0e_380025ac0edfrow0_col5\" class=\"data row0 col5\" >0.0137</td>\n",
       "                        <td id=\"T_1575fc33_801b_11eb_be0e_380025ac0edfrow0_col6\" class=\"data row0 col6\" >0.0096</td>\n",
       "                        <td id=\"T_1575fc33_801b_11eb_be0e_380025ac0edfrow0_col7\" class=\"data row0 col7\" >0.7600</td>\n",
       "            </tr>\n",
       "            <tr>\n",
       "                        <th id=\"T_1575fc33_801b_11eb_be0e_380025ac0edflevel0_row1\" class=\"row_heading level0 row1\" >et</th>\n",
       "                        <td id=\"T_1575fc33_801b_11eb_be0e_380025ac0edfrow1_col0\" class=\"data row1 col0\" >Extra Trees Regressor</td>\n",
       "                        <td id=\"T_1575fc33_801b_11eb_be0e_380025ac0edfrow1_col1\" class=\"data row1 col1\" >1.2093</td>\n",
       "                        <td id=\"T_1575fc33_801b_11eb_be0e_380025ac0edfrow1_col2\" class=\"data row1 col2\" >3.1266</td>\n",
       "                        <td id=\"T_1575fc33_801b_11eb_be0e_380025ac0edfrow1_col3\" class=\"data row1 col3\" >1.7402</td>\n",
       "                        <td id=\"T_1575fc33_801b_11eb_be0e_380025ac0edfrow1_col4\" class=\"data row1 col4\" >0.9314</td>\n",
       "                        <td id=\"T_1575fc33_801b_11eb_be0e_380025ac0edfrow1_col5\" class=\"data row1 col5\" >0.0139</td>\n",
       "                        <td id=\"T_1575fc33_801b_11eb_be0e_380025ac0edfrow1_col6\" class=\"data row1 col6\" >0.0098</td>\n",
       "                        <td id=\"T_1575fc33_801b_11eb_be0e_380025ac0edfrow1_col7\" class=\"data row1 col7\" >0.4490</td>\n",
       "            </tr>\n",
       "            <tr>\n",
       "                        <th id=\"T_1575fc33_801b_11eb_be0e_380025ac0edflevel0_row2\" class=\"row_heading level0 row2\" >lightgbm</th>\n",
       "                        <td id=\"T_1575fc33_801b_11eb_be0e_380025ac0edfrow2_col0\" class=\"data row2 col0\" >Light Gradient Boosting Machine</td>\n",
       "                        <td id=\"T_1575fc33_801b_11eb_be0e_380025ac0edfrow2_col1\" class=\"data row2 col1\" >1.3872</td>\n",
       "                        <td id=\"T_1575fc33_801b_11eb_be0e_380025ac0edfrow2_col2\" class=\"data row2 col2\" >3.9240</td>\n",
       "                        <td id=\"T_1575fc33_801b_11eb_be0e_380025ac0edfrow2_col3\" class=\"data row2 col3\" >1.9607</td>\n",
       "                        <td id=\"T_1575fc33_801b_11eb_be0e_380025ac0edfrow2_col4\" class=\"data row2 col4\" >0.9145</td>\n",
       "                        <td id=\"T_1575fc33_801b_11eb_be0e_380025ac0edfrow2_col5\" class=\"data row2 col5\" >0.0156</td>\n",
       "                        <td id=\"T_1575fc33_801b_11eb_be0e_380025ac0edfrow2_col6\" class=\"data row2 col6\" >0.0112</td>\n",
       "                        <td id=\"T_1575fc33_801b_11eb_be0e_380025ac0edfrow2_col7\" class=\"data row2 col7\" >0.1000</td>\n",
       "            </tr>\n",
       "            <tr>\n",
       "                        <th id=\"T_1575fc33_801b_11eb_be0e_380025ac0edflevel0_row3\" class=\"row_heading level0 row3\" >rf</th>\n",
       "                        <td id=\"T_1575fc33_801b_11eb_be0e_380025ac0edfrow3_col0\" class=\"data row3 col0\" >Random Forest Regressor</td>\n",
       "                        <td id=\"T_1575fc33_801b_11eb_be0e_380025ac0edfrow3_col1\" class=\"data row3 col1\" >1.4532</td>\n",
       "                        <td id=\"T_1575fc33_801b_11eb_be0e_380025ac0edfrow3_col2\" class=\"data row3 col2\" >4.1399</td>\n",
       "                        <td id=\"T_1575fc33_801b_11eb_be0e_380025ac0edfrow3_col3\" class=\"data row3 col3\" >2.0081</td>\n",
       "                        <td id=\"T_1575fc33_801b_11eb_be0e_380025ac0edfrow3_col4\" class=\"data row3 col4\" >0.9102</td>\n",
       "                        <td id=\"T_1575fc33_801b_11eb_be0e_380025ac0edfrow3_col5\" class=\"data row3 col5\" >0.0159</td>\n",
       "                        <td id=\"T_1575fc33_801b_11eb_be0e_380025ac0edfrow3_col6\" class=\"data row3 col6\" >0.0117</td>\n",
       "                        <td id=\"T_1575fc33_801b_11eb_be0e_380025ac0edfrow3_col7\" class=\"data row3 col7\" >0.3780</td>\n",
       "            </tr>\n",
       "            <tr>\n",
       "                        <th id=\"T_1575fc33_801b_11eb_be0e_380025ac0edflevel0_row4\" class=\"row_heading level0 row4\" >gbr</th>\n",
       "                        <td id=\"T_1575fc33_801b_11eb_be0e_380025ac0edfrow4_col0\" class=\"data row4 col0\" >Gradient Boosting Regressor</td>\n",
       "                        <td id=\"T_1575fc33_801b_11eb_be0e_380025ac0edfrow4_col1\" class=\"data row4 col1\" >2.1083</td>\n",
       "                        <td id=\"T_1575fc33_801b_11eb_be0e_380025ac0edfrow4_col2\" class=\"data row4 col2\" >7.7385</td>\n",
       "                        <td id=\"T_1575fc33_801b_11eb_be0e_380025ac0edfrow4_col3\" class=\"data row4 col3\" >2.7691</td>\n",
       "                        <td id=\"T_1575fc33_801b_11eb_be0e_380025ac0edfrow4_col4\" class=\"data row4 col4\" >0.8277</td>\n",
       "                        <td id=\"T_1575fc33_801b_11eb_be0e_380025ac0edfrow4_col5\" class=\"data row4 col5\" >0.0218</td>\n",
       "                        <td id=\"T_1575fc33_801b_11eb_be0e_380025ac0edfrow4_col6\" class=\"data row4 col6\" >0.0169</td>\n",
       "                        <td id=\"T_1575fc33_801b_11eb_be0e_380025ac0edfrow4_col7\" class=\"data row4 col7\" >0.0770</td>\n",
       "            </tr>\n",
       "            <tr>\n",
       "                        <th id=\"T_1575fc33_801b_11eb_be0e_380025ac0edflevel0_row5\" class=\"row_heading level0 row5\" >dt</th>\n",
       "                        <td id=\"T_1575fc33_801b_11eb_be0e_380025ac0edfrow5_col0\" class=\"data row5 col0\" >Decision Tree Regressor</td>\n",
       "                        <td id=\"T_1575fc33_801b_11eb_be0e_380025ac0edfrow5_col1\" class=\"data row5 col1\" >2.0402</td>\n",
       "                        <td id=\"T_1575fc33_801b_11eb_be0e_380025ac0edfrow5_col2\" class=\"data row5 col2\" >8.3121</td>\n",
       "                        <td id=\"T_1575fc33_801b_11eb_be0e_380025ac0edfrow5_col3\" class=\"data row5 col3\" >2.8661</td>\n",
       "                        <td id=\"T_1575fc33_801b_11eb_be0e_380025ac0edfrow5_col4\" class=\"data row5 col4\" >0.8150</td>\n",
       "                        <td id=\"T_1575fc33_801b_11eb_be0e_380025ac0edfrow5_col5\" class=\"data row5 col5\" >0.0228</td>\n",
       "                        <td id=\"T_1575fc33_801b_11eb_be0e_380025ac0edfrow5_col6\" class=\"data row5 col6\" >0.0164</td>\n",
       "                        <td id=\"T_1575fc33_801b_11eb_be0e_380025ac0edfrow5_col7\" class=\"data row5 col7\" >0.0100</td>\n",
       "            </tr>\n",
       "            <tr>\n",
       "                        <th id=\"T_1575fc33_801b_11eb_be0e_380025ac0edflevel0_row6\" class=\"row_heading level0 row6\" >knn</th>\n",
       "                        <td id=\"T_1575fc33_801b_11eb_be0e_380025ac0edfrow6_col0\" class=\"data row6 col0\" >K Neighbors Regressor</td>\n",
       "                        <td id=\"T_1575fc33_801b_11eb_be0e_380025ac0edfrow6_col1\" class=\"data row6 col1\" >2.3466</td>\n",
       "                        <td id=\"T_1575fc33_801b_11eb_be0e_380025ac0edfrow6_col2\" class=\"data row6 col2\" >10.5500</td>\n",
       "                        <td id=\"T_1575fc33_801b_11eb_be0e_380025ac0edfrow6_col3\" class=\"data row6 col3\" >3.2191</td>\n",
       "                        <td id=\"T_1575fc33_801b_11eb_be0e_380025ac0edfrow6_col4\" class=\"data row6 col4\" >0.7665</td>\n",
       "                        <td id=\"T_1575fc33_801b_11eb_be0e_380025ac0edfrow6_col5\" class=\"data row6 col5\" >0.0257</td>\n",
       "                        <td id=\"T_1575fc33_801b_11eb_be0e_380025ac0edfrow6_col6\" class=\"data row6 col6\" >0.0190</td>\n",
       "                        <td id=\"T_1575fc33_801b_11eb_be0e_380025ac0edfrow6_col7\" class=\"data row6 col7\" >0.3070</td>\n",
       "            </tr>\n",
       "            <tr>\n",
       "                        <th id=\"T_1575fc33_801b_11eb_be0e_380025ac0edflevel0_row7\" class=\"row_heading level0 row7\" >ada</th>\n",
       "                        <td id=\"T_1575fc33_801b_11eb_be0e_380025ac0edfrow7_col0\" class=\"data row7 col0\" >AdaBoost Regressor</td>\n",
       "                        <td id=\"T_1575fc33_801b_11eb_be0e_380025ac0edfrow7_col1\" class=\"data row7 col1\" >3.3517</td>\n",
       "                        <td id=\"T_1575fc33_801b_11eb_be0e_380025ac0edfrow7_col2\" class=\"data row7 col2\" >17.3746</td>\n",
       "                        <td id=\"T_1575fc33_801b_11eb_be0e_380025ac0edfrow7_col3\" class=\"data row7 col3\" >4.1459</td>\n",
       "                        <td id=\"T_1575fc33_801b_11eb_be0e_380025ac0edfrow7_col4\" class=\"data row7 col4\" >0.6187</td>\n",
       "                        <td id=\"T_1575fc33_801b_11eb_be0e_380025ac0edfrow7_col5\" class=\"data row7 col5\" >0.0334</td>\n",
       "                        <td id=\"T_1575fc33_801b_11eb_be0e_380025ac0edfrow7_col6\" class=\"data row7 col6\" >0.0273</td>\n",
       "                        <td id=\"T_1575fc33_801b_11eb_be0e_380025ac0edfrow7_col7\" class=\"data row7 col7\" >0.0780</td>\n",
       "            </tr>\n",
       "            <tr>\n",
       "                        <th id=\"T_1575fc33_801b_11eb_be0e_380025ac0edflevel0_row8\" class=\"row_heading level0 row8\" >lr</th>\n",
       "                        <td id=\"T_1575fc33_801b_11eb_be0e_380025ac0edfrow8_col0\" class=\"data row8 col0\" >Linear Regression</td>\n",
       "                        <td id=\"T_1575fc33_801b_11eb_be0e_380025ac0edfrow8_col1\" class=\"data row8 col1\" >3.4970</td>\n",
       "                        <td id=\"T_1575fc33_801b_11eb_be0e_380025ac0edfrow8_col2\" class=\"data row8 col2\" >21.8829</td>\n",
       "                        <td id=\"T_1575fc33_801b_11eb_be0e_380025ac0edfrow8_col3\" class=\"data row8 col3\" >4.6535</td>\n",
       "                        <td id=\"T_1575fc33_801b_11eb_be0e_380025ac0edfrow8_col4\" class=\"data row8 col4\" >0.5153</td>\n",
       "                        <td id=\"T_1575fc33_801b_11eb_be0e_380025ac0edfrow8_col5\" class=\"data row8 col5\" >0.0369</td>\n",
       "                        <td id=\"T_1575fc33_801b_11eb_be0e_380025ac0edfrow8_col6\" class=\"data row8 col6\" >0.0281</td>\n",
       "                        <td id=\"T_1575fc33_801b_11eb_be0e_380025ac0edfrow8_col7\" class=\"data row8 col7\" >0.0120</td>\n",
       "            </tr>\n",
       "            <tr>\n",
       "                        <th id=\"T_1575fc33_801b_11eb_be0e_380025ac0edflevel0_row9\" class=\"row_heading level0 row9\" >ridge</th>\n",
       "                        <td id=\"T_1575fc33_801b_11eb_be0e_380025ac0edfrow9_col0\" class=\"data row9 col0\" >Ridge Regression</td>\n",
       "                        <td id=\"T_1575fc33_801b_11eb_be0e_380025ac0edfrow9_col1\" class=\"data row9 col1\" >3.4980</td>\n",
       "                        <td id=\"T_1575fc33_801b_11eb_be0e_380025ac0edfrow9_col2\" class=\"data row9 col2\" >21.8841</td>\n",
       "                        <td id=\"T_1575fc33_801b_11eb_be0e_380025ac0edfrow9_col3\" class=\"data row9 col3\" >4.6537</td>\n",
       "                        <td id=\"T_1575fc33_801b_11eb_be0e_380025ac0edfrow9_col4\" class=\"data row9 col4\" >0.5153</td>\n",
       "                        <td id=\"T_1575fc33_801b_11eb_be0e_380025ac0edfrow9_col5\" class=\"data row9 col5\" >0.0369</td>\n",
       "                        <td id=\"T_1575fc33_801b_11eb_be0e_380025ac0edfrow9_col6\" class=\"data row9 col6\" >0.0281</td>\n",
       "                        <td id=\"T_1575fc33_801b_11eb_be0e_380025ac0edfrow9_col7\" class=\"data row9 col7\" >0.0100</td>\n",
       "            </tr>\n",
       "            <tr>\n",
       "                        <th id=\"T_1575fc33_801b_11eb_be0e_380025ac0edflevel0_row10\" class=\"row_heading level0 row10\" >lar</th>\n",
       "                        <td id=\"T_1575fc33_801b_11eb_be0e_380025ac0edfrow10_col0\" class=\"data row10 col0\" >Least Angle Regression</td>\n",
       "                        <td id=\"T_1575fc33_801b_11eb_be0e_380025ac0edfrow10_col1\" class=\"data row10 col1\" >3.4970</td>\n",
       "                        <td id=\"T_1575fc33_801b_11eb_be0e_380025ac0edfrow10_col2\" class=\"data row10 col2\" >21.8829</td>\n",
       "                        <td id=\"T_1575fc33_801b_11eb_be0e_380025ac0edfrow10_col3\" class=\"data row10 col3\" >4.6535</td>\n",
       "                        <td id=\"T_1575fc33_801b_11eb_be0e_380025ac0edfrow10_col4\" class=\"data row10 col4\" >0.5153</td>\n",
       "                        <td id=\"T_1575fc33_801b_11eb_be0e_380025ac0edfrow10_col5\" class=\"data row10 col5\" >0.0369</td>\n",
       "                        <td id=\"T_1575fc33_801b_11eb_be0e_380025ac0edfrow10_col6\" class=\"data row10 col6\" >0.0281</td>\n",
       "                        <td id=\"T_1575fc33_801b_11eb_be0e_380025ac0edfrow10_col7\" class=\"data row10 col7\" >0.0090</td>\n",
       "            </tr>\n",
       "            <tr>\n",
       "                        <th id=\"T_1575fc33_801b_11eb_be0e_380025ac0edflevel0_row11\" class=\"row_heading level0 row11\" >br</th>\n",
       "                        <td id=\"T_1575fc33_801b_11eb_be0e_380025ac0edfrow11_col0\" class=\"data row11 col0\" >Bayesian Ridge</td>\n",
       "                        <td id=\"T_1575fc33_801b_11eb_be0e_380025ac0edfrow11_col1\" class=\"data row11 col1\" >3.5037</td>\n",
       "                        <td id=\"T_1575fc33_801b_11eb_be0e_380025ac0edfrow11_col2\" class=\"data row11 col2\" >21.8984</td>\n",
       "                        <td id=\"T_1575fc33_801b_11eb_be0e_380025ac0edfrow11_col3\" class=\"data row11 col3\" >4.6552</td>\n",
       "                        <td id=\"T_1575fc33_801b_11eb_be0e_380025ac0edfrow11_col4\" class=\"data row11 col4\" >0.5151</td>\n",
       "                        <td id=\"T_1575fc33_801b_11eb_be0e_380025ac0edfrow11_col5\" class=\"data row11 col5\" >0.0369</td>\n",
       "                        <td id=\"T_1575fc33_801b_11eb_be0e_380025ac0edfrow11_col6\" class=\"data row11 col6\" >0.0282</td>\n",
       "                        <td id=\"T_1575fc33_801b_11eb_be0e_380025ac0edfrow11_col7\" class=\"data row11 col7\" >0.0110</td>\n",
       "            </tr>\n",
       "            <tr>\n",
       "                        <th id=\"T_1575fc33_801b_11eb_be0e_380025ac0edflevel0_row12\" class=\"row_heading level0 row12\" >huber</th>\n",
       "                        <td id=\"T_1575fc33_801b_11eb_be0e_380025ac0edfrow12_col0\" class=\"data row12 col0\" >Huber Regressor</td>\n",
       "                        <td id=\"T_1575fc33_801b_11eb_be0e_380025ac0edfrow12_col1\" class=\"data row12 col1\" >3.3583</td>\n",
       "                        <td id=\"T_1575fc33_801b_11eb_be0e_380025ac0edfrow12_col2\" class=\"data row12 col2\" >21.9272</td>\n",
       "                        <td id=\"T_1575fc33_801b_11eb_be0e_380025ac0edfrow12_col3\" class=\"data row12 col3\" >4.6531</td>\n",
       "                        <td id=\"T_1575fc33_801b_11eb_be0e_380025ac0edfrow12_col4\" class=\"data row12 col4\" >0.5095</td>\n",
       "                        <td id=\"T_1575fc33_801b_11eb_be0e_380025ac0edfrow12_col5\" class=\"data row12 col5\" >0.0367</td>\n",
       "                        <td id=\"T_1575fc33_801b_11eb_be0e_380025ac0edfrow12_col6\" class=\"data row12 col6\" >0.0269</td>\n",
       "                        <td id=\"T_1575fc33_801b_11eb_be0e_380025ac0edfrow12_col7\" class=\"data row12 col7\" >0.0150</td>\n",
       "            </tr>\n",
       "            <tr>\n",
       "                        <th id=\"T_1575fc33_801b_11eb_be0e_380025ac0edflevel0_row13\" class=\"row_heading level0 row13\" >omp</th>\n",
       "                        <td id=\"T_1575fc33_801b_11eb_be0e_380025ac0edfrow13_col0\" class=\"data row13 col0\" >Orthogonal Matching Pursuit</td>\n",
       "                        <td id=\"T_1575fc33_801b_11eb_be0e_380025ac0edfrow13_col1\" class=\"data row13 col1\" >4.9020</td>\n",
       "                        <td id=\"T_1575fc33_801b_11eb_be0e_380025ac0edfrow13_col2\" class=\"data row13 col2\" >38.3864</td>\n",
       "                        <td id=\"T_1575fc33_801b_11eb_be0e_380025ac0edfrow13_col3\" class=\"data row13 col3\" >6.1692</td>\n",
       "                        <td id=\"T_1575fc33_801b_11eb_be0e_380025ac0edfrow13_col4\" class=\"data row13 col4\" >0.1606</td>\n",
       "                        <td id=\"T_1575fc33_801b_11eb_be0e_380025ac0edfrow13_col5\" class=\"data row13 col5\" >0.0496</td>\n",
       "                        <td id=\"T_1575fc33_801b_11eb_be0e_380025ac0edfrow13_col6\" class=\"data row13 col6\" >0.0398</td>\n",
       "                        <td id=\"T_1575fc33_801b_11eb_be0e_380025ac0edfrow13_col7\" class=\"data row13 col7\" >0.0080</td>\n",
       "            </tr>\n",
       "            <tr>\n",
       "                        <th id=\"T_1575fc33_801b_11eb_be0e_380025ac0edflevel0_row14\" class=\"row_heading level0 row14\" >lasso</th>\n",
       "                        <td id=\"T_1575fc33_801b_11eb_be0e_380025ac0edfrow14_col0\" class=\"data row14 col0\" >Lasso Regression</td>\n",
       "                        <td id=\"T_1575fc33_801b_11eb_be0e_380025ac0edfrow14_col1\" class=\"data row14 col1\" >5.5243</td>\n",
       "                        <td id=\"T_1575fc33_801b_11eb_be0e_380025ac0edfrow14_col2\" class=\"data row14 col2\" >46.5918</td>\n",
       "                        <td id=\"T_1575fc33_801b_11eb_be0e_380025ac0edfrow14_col3\" class=\"data row14 col3\" >6.7952</td>\n",
       "                        <td id=\"T_1575fc33_801b_11eb_be0e_380025ac0edfrow14_col4\" class=\"data row14 col4\" >-0.0151</td>\n",
       "                        <td id=\"T_1575fc33_801b_11eb_be0e_380025ac0edfrow14_col5\" class=\"data row14 col5\" >0.0549</td>\n",
       "                        <td id=\"T_1575fc33_801b_11eb_be0e_380025ac0edfrow14_col6\" class=\"data row14 col6\" >0.0451</td>\n",
       "                        <td id=\"T_1575fc33_801b_11eb_be0e_380025ac0edfrow14_col7\" class=\"data row14 col7\" >0.0110</td>\n",
       "            </tr>\n",
       "            <tr>\n",
       "                        <th id=\"T_1575fc33_801b_11eb_be0e_380025ac0edflevel0_row15\" class=\"row_heading level0 row15\" >en</th>\n",
       "                        <td id=\"T_1575fc33_801b_11eb_be0e_380025ac0edfrow15_col0\" class=\"data row15 col0\" >Elastic Net</td>\n",
       "                        <td id=\"T_1575fc33_801b_11eb_be0e_380025ac0edfrow15_col1\" class=\"data row15 col1\" >5.5243</td>\n",
       "                        <td id=\"T_1575fc33_801b_11eb_be0e_380025ac0edfrow15_col2\" class=\"data row15 col2\" >46.5918</td>\n",
       "                        <td id=\"T_1575fc33_801b_11eb_be0e_380025ac0edfrow15_col3\" class=\"data row15 col3\" >6.7952</td>\n",
       "                        <td id=\"T_1575fc33_801b_11eb_be0e_380025ac0edfrow15_col4\" class=\"data row15 col4\" >-0.0151</td>\n",
       "                        <td id=\"T_1575fc33_801b_11eb_be0e_380025ac0edfrow15_col5\" class=\"data row15 col5\" >0.0549</td>\n",
       "                        <td id=\"T_1575fc33_801b_11eb_be0e_380025ac0edfrow15_col6\" class=\"data row15 col6\" >0.0451</td>\n",
       "                        <td id=\"T_1575fc33_801b_11eb_be0e_380025ac0edfrow15_col7\" class=\"data row15 col7\" >0.0090</td>\n",
       "            </tr>\n",
       "            <tr>\n",
       "                        <th id=\"T_1575fc33_801b_11eb_be0e_380025ac0edflevel0_row16\" class=\"row_heading level0 row16\" >llar</th>\n",
       "                        <td id=\"T_1575fc33_801b_11eb_be0e_380025ac0edfrow16_col0\" class=\"data row16 col0\" >Lasso Least Angle Regression</td>\n",
       "                        <td id=\"T_1575fc33_801b_11eb_be0e_380025ac0edfrow16_col1\" class=\"data row16 col1\" >5.5243</td>\n",
       "                        <td id=\"T_1575fc33_801b_11eb_be0e_380025ac0edfrow16_col2\" class=\"data row16 col2\" >46.5918</td>\n",
       "                        <td id=\"T_1575fc33_801b_11eb_be0e_380025ac0edfrow16_col3\" class=\"data row16 col3\" >6.7952</td>\n",
       "                        <td id=\"T_1575fc33_801b_11eb_be0e_380025ac0edfrow16_col4\" class=\"data row16 col4\" >-0.0151</td>\n",
       "                        <td id=\"T_1575fc33_801b_11eb_be0e_380025ac0edfrow16_col5\" class=\"data row16 col5\" >0.0549</td>\n",
       "                        <td id=\"T_1575fc33_801b_11eb_be0e_380025ac0edfrow16_col6\" class=\"data row16 col6\" >0.0451</td>\n",
       "                        <td id=\"T_1575fc33_801b_11eb_be0e_380025ac0edfrow16_col7\" class=\"data row16 col7\" >0.0100</td>\n",
       "            </tr>\n",
       "            <tr>\n",
       "                        <th id=\"T_1575fc33_801b_11eb_be0e_380025ac0edflevel0_row17\" class=\"row_heading level0 row17\" >par</th>\n",
       "                        <td id=\"T_1575fc33_801b_11eb_be0e_380025ac0edfrow17_col0\" class=\"data row17 col0\" >Passive Aggressive Regressor</td>\n",
       "                        <td id=\"T_1575fc33_801b_11eb_be0e_380025ac0edfrow17_col1\" class=\"data row17 col1\" >6.0441</td>\n",
       "                        <td id=\"T_1575fc33_801b_11eb_be0e_380025ac0edfrow17_col2\" class=\"data row17 col2\" >62.1808</td>\n",
       "                        <td id=\"T_1575fc33_801b_11eb_be0e_380025ac0edfrow17_col3\" class=\"data row17 col3\" >7.6655</td>\n",
       "                        <td id=\"T_1575fc33_801b_11eb_be0e_380025ac0edfrow17_col4\" class=\"data row17 col4\" >-0.3968</td>\n",
       "                        <td id=\"T_1575fc33_801b_11eb_be0e_380025ac0edfrow17_col5\" class=\"data row17 col5\" >0.0622</td>\n",
       "                        <td id=\"T_1575fc33_801b_11eb_be0e_380025ac0edfrow17_col6\" class=\"data row17 col6\" >0.0486</td>\n",
       "                        <td id=\"T_1575fc33_801b_11eb_be0e_380025ac0edfrow17_col7\" class=\"data row17 col7\" >0.0100</td>\n",
       "            </tr>\n",
       "    </tbody></table>"
      ],
      "text/plain": [
       "<pandas.io.formats.style.Styler at 0x22dcad23610>"
      ]
     },
     "metadata": {},
     "output_type": "display_data"
    }
   ],
   "source": [
    "top3 = compare_models(exclude = ['ransac'], n_select = 3)"
   ]
  },
  {
   "cell_type": "code",
   "execution_count": 21,
   "metadata": {},
   "outputs": [
    {
     "data": {
      "text/html": [
       "<style  type=\"text/css\" >\n",
       "#T_18412f44_801b_11eb_9d36_380025ac0edfrow10_col0,#T_18412f44_801b_11eb_9d36_380025ac0edfrow10_col1,#T_18412f44_801b_11eb_9d36_380025ac0edfrow10_col2,#T_18412f44_801b_11eb_9d36_380025ac0edfrow10_col3,#T_18412f44_801b_11eb_9d36_380025ac0edfrow10_col4,#T_18412f44_801b_11eb_9d36_380025ac0edfrow10_col5{\n",
       "            background:  yellow;\n",
       "        }</style><table id=\"T_18412f44_801b_11eb_9d36_380025ac0edf\" ><thead>    <tr>        <th class=\"blank level0\" ></th>        <th class=\"col_heading level0 col0\" >MAE</th>        <th class=\"col_heading level0 col1\" >MSE</th>        <th class=\"col_heading level0 col2\" >RMSE</th>        <th class=\"col_heading level0 col3\" >R2</th>        <th class=\"col_heading level0 col4\" >RMSLE</th>        <th class=\"col_heading level0 col5\" >MAPE</th>    </tr></thead><tbody>\n",
       "                <tr>\n",
       "                        <th id=\"T_18412f44_801b_11eb_9d36_380025ac0edflevel0_row0\" class=\"row_heading level0 row0\" >0</th>\n",
       "                        <td id=\"T_18412f44_801b_11eb_9d36_380025ac0edfrow0_col0\" class=\"data row0 col0\" >1.1506</td>\n",
       "                        <td id=\"T_18412f44_801b_11eb_9d36_380025ac0edfrow0_col1\" class=\"data row0 col1\" >2.5712</td>\n",
       "                        <td id=\"T_18412f44_801b_11eb_9d36_380025ac0edfrow0_col2\" class=\"data row0 col2\" >1.6035</td>\n",
       "                        <td id=\"T_18412f44_801b_11eb_9d36_380025ac0edfrow0_col3\" class=\"data row0 col3\" >0.9481</td>\n",
       "                        <td id=\"T_18412f44_801b_11eb_9d36_380025ac0edfrow0_col4\" class=\"data row0 col4\" >0.0127</td>\n",
       "                        <td id=\"T_18412f44_801b_11eb_9d36_380025ac0edfrow0_col5\" class=\"data row0 col5\" >0.0092</td>\n",
       "            </tr>\n",
       "            <tr>\n",
       "                        <th id=\"T_18412f44_801b_11eb_9d36_380025ac0edflevel0_row1\" class=\"row_heading level0 row1\" >1</th>\n",
       "                        <td id=\"T_18412f44_801b_11eb_9d36_380025ac0edfrow1_col0\" class=\"data row1 col0\" >1.2169</td>\n",
       "                        <td id=\"T_18412f44_801b_11eb_9d36_380025ac0edfrow1_col1\" class=\"data row1 col1\" >3.1186</td>\n",
       "                        <td id=\"T_18412f44_801b_11eb_9d36_380025ac0edfrow1_col2\" class=\"data row1 col2\" >1.7660</td>\n",
       "                        <td id=\"T_18412f44_801b_11eb_9d36_380025ac0edfrow1_col3\" class=\"data row1 col3\" >0.9314</td>\n",
       "                        <td id=\"T_18412f44_801b_11eb_9d36_380025ac0edfrow1_col4\" class=\"data row1 col4\" >0.0144</td>\n",
       "                        <td id=\"T_18412f44_801b_11eb_9d36_380025ac0edfrow1_col5\" class=\"data row1 col5\" >0.0100</td>\n",
       "            </tr>\n",
       "            <tr>\n",
       "                        <th id=\"T_18412f44_801b_11eb_9d36_380025ac0edflevel0_row2\" class=\"row_heading level0 row2\" >2</th>\n",
       "                        <td id=\"T_18412f44_801b_11eb_9d36_380025ac0edfrow2_col0\" class=\"data row2 col0\" >1.4044</td>\n",
       "                        <td id=\"T_18412f44_801b_11eb_9d36_380025ac0edfrow2_col1\" class=\"data row2 col1\" >3.9301</td>\n",
       "                        <td id=\"T_18412f44_801b_11eb_9d36_380025ac0edfrow2_col2\" class=\"data row2 col2\" >1.9825</td>\n",
       "                        <td id=\"T_18412f44_801b_11eb_9d36_380025ac0edfrow2_col3\" class=\"data row2 col3\" >0.9274</td>\n",
       "                        <td id=\"T_18412f44_801b_11eb_9d36_380025ac0edfrow2_col4\" class=\"data row2 col4\" >0.0162</td>\n",
       "                        <td id=\"T_18412f44_801b_11eb_9d36_380025ac0edfrow2_col5\" class=\"data row2 col5\" >0.0115</td>\n",
       "            </tr>\n",
       "            <tr>\n",
       "                        <th id=\"T_18412f44_801b_11eb_9d36_380025ac0edflevel0_row3\" class=\"row_heading level0 row3\" >3</th>\n",
       "                        <td id=\"T_18412f44_801b_11eb_9d36_380025ac0edfrow3_col0\" class=\"data row3 col0\" >1.1593</td>\n",
       "                        <td id=\"T_18412f44_801b_11eb_9d36_380025ac0edfrow3_col1\" class=\"data row3 col1\" >2.5727</td>\n",
       "                        <td id=\"T_18412f44_801b_11eb_9d36_380025ac0edfrow3_col2\" class=\"data row3 col2\" >1.6040</td>\n",
       "                        <td id=\"T_18412f44_801b_11eb_9d36_380025ac0edfrow3_col3\" class=\"data row3 col3\" >0.9292</td>\n",
       "                        <td id=\"T_18412f44_801b_11eb_9d36_380025ac0edfrow3_col4\" class=\"data row3 col4\" >0.0128</td>\n",
       "                        <td id=\"T_18412f44_801b_11eb_9d36_380025ac0edfrow3_col5\" class=\"data row3 col5\" >0.0093</td>\n",
       "            </tr>\n",
       "            <tr>\n",
       "                        <th id=\"T_18412f44_801b_11eb_9d36_380025ac0edflevel0_row4\" class=\"row_heading level0 row4\" >4</th>\n",
       "                        <td id=\"T_18412f44_801b_11eb_9d36_380025ac0edfrow4_col0\" class=\"data row4 col0\" >1.0393</td>\n",
       "                        <td id=\"T_18412f44_801b_11eb_9d36_380025ac0edfrow4_col1\" class=\"data row4 col1\" >2.1874</td>\n",
       "                        <td id=\"T_18412f44_801b_11eb_9d36_380025ac0edfrow4_col2\" class=\"data row4 col2\" >1.4790</td>\n",
       "                        <td id=\"T_18412f44_801b_11eb_9d36_380025ac0edfrow4_col3\" class=\"data row4 col3\" >0.9515</td>\n",
       "                        <td id=\"T_18412f44_801b_11eb_9d36_380025ac0edfrow4_col4\" class=\"data row4 col4\" >0.0117</td>\n",
       "                        <td id=\"T_18412f44_801b_11eb_9d36_380025ac0edfrow4_col5\" class=\"data row4 col5\" >0.0084</td>\n",
       "            </tr>\n",
       "            <tr>\n",
       "                        <th id=\"T_18412f44_801b_11eb_9d36_380025ac0edflevel0_row5\" class=\"row_heading level0 row5\" >5</th>\n",
       "                        <td id=\"T_18412f44_801b_11eb_9d36_380025ac0edfrow5_col0\" class=\"data row5 col0\" >1.0126</td>\n",
       "                        <td id=\"T_18412f44_801b_11eb_9d36_380025ac0edfrow5_col1\" class=\"data row5 col1\" >2.0227</td>\n",
       "                        <td id=\"T_18412f44_801b_11eb_9d36_380025ac0edfrow5_col2\" class=\"data row5 col2\" >1.4222</td>\n",
       "                        <td id=\"T_18412f44_801b_11eb_9d36_380025ac0edfrow5_col3\" class=\"data row5 col3\" >0.9438</td>\n",
       "                        <td id=\"T_18412f44_801b_11eb_9d36_380025ac0edfrow5_col4\" class=\"data row5 col4\" >0.0115</td>\n",
       "                        <td id=\"T_18412f44_801b_11eb_9d36_380025ac0edfrow5_col5\" class=\"data row5 col5\" >0.0082</td>\n",
       "            </tr>\n",
       "            <tr>\n",
       "                        <th id=\"T_18412f44_801b_11eb_9d36_380025ac0edflevel0_row6\" class=\"row_heading level0 row6\" >6</th>\n",
       "                        <td id=\"T_18412f44_801b_11eb_9d36_380025ac0edfrow6_col0\" class=\"data row6 col0\" >1.4227</td>\n",
       "                        <td id=\"T_18412f44_801b_11eb_9d36_380025ac0edfrow6_col1\" class=\"data row6 col1\" >6.0967</td>\n",
       "                        <td id=\"T_18412f44_801b_11eb_9d36_380025ac0edfrow6_col2\" class=\"data row6 col2\" >2.4692</td>\n",
       "                        <td id=\"T_18412f44_801b_11eb_9d36_380025ac0edfrow6_col3\" class=\"data row6 col3\" >0.8669</td>\n",
       "                        <td id=\"T_18412f44_801b_11eb_9d36_380025ac0edfrow6_col4\" class=\"data row6 col4\" >0.0193</td>\n",
       "                        <td id=\"T_18412f44_801b_11eb_9d36_380025ac0edfrow6_col5\" class=\"data row6 col5\" >0.0114</td>\n",
       "            </tr>\n",
       "            <tr>\n",
       "                        <th id=\"T_18412f44_801b_11eb_9d36_380025ac0edflevel0_row7\" class=\"row_heading level0 row7\" >7</th>\n",
       "                        <td id=\"T_18412f44_801b_11eb_9d36_380025ac0edfrow7_col0\" class=\"data row7 col0\" >1.0289</td>\n",
       "                        <td id=\"T_18412f44_801b_11eb_9d36_380025ac0edfrow7_col1\" class=\"data row7 col1\" >1.9852</td>\n",
       "                        <td id=\"T_18412f44_801b_11eb_9d36_380025ac0edfrow7_col2\" class=\"data row7 col2\" >1.4090</td>\n",
       "                        <td id=\"T_18412f44_801b_11eb_9d36_380025ac0edfrow7_col3\" class=\"data row7 col3\" >0.9413</td>\n",
       "                        <td id=\"T_18412f44_801b_11eb_9d36_380025ac0edfrow7_col4\" class=\"data row7 col4\" >0.0113</td>\n",
       "                        <td id=\"T_18412f44_801b_11eb_9d36_380025ac0edfrow7_col5\" class=\"data row7 col5\" >0.0083</td>\n",
       "            </tr>\n",
       "            <tr>\n",
       "                        <th id=\"T_18412f44_801b_11eb_9d36_380025ac0edflevel0_row8\" class=\"row_heading level0 row8\" >8</th>\n",
       "                        <td id=\"T_18412f44_801b_11eb_9d36_380025ac0edfrow8_col0\" class=\"data row8 col0\" >1.4021</td>\n",
       "                        <td id=\"T_18412f44_801b_11eb_9d36_380025ac0edfrow8_col1\" class=\"data row8 col1\" >4.0095</td>\n",
       "                        <td id=\"T_18412f44_801b_11eb_9d36_380025ac0edfrow8_col2\" class=\"data row8 col2\" >2.0024</td>\n",
       "                        <td id=\"T_18412f44_801b_11eb_9d36_380025ac0edfrow8_col3\" class=\"data row8 col3\" >0.9183</td>\n",
       "                        <td id=\"T_18412f44_801b_11eb_9d36_380025ac0edfrow8_col4\" class=\"data row8 col4\" >0.0155</td>\n",
       "                        <td id=\"T_18412f44_801b_11eb_9d36_380025ac0edfrow8_col5\" class=\"data row8 col5\" >0.0112</td>\n",
       "            </tr>\n",
       "            <tr>\n",
       "                        <th id=\"T_18412f44_801b_11eb_9d36_380025ac0edflevel0_row9\" class=\"row_heading level0 row9\" >9</th>\n",
       "                        <td id=\"T_18412f44_801b_11eb_9d36_380025ac0edfrow9_col0\" class=\"data row9 col0\" >1.2559</td>\n",
       "                        <td id=\"T_18412f44_801b_11eb_9d36_380025ac0edfrow9_col1\" class=\"data row9 col1\" >2.7719</td>\n",
       "                        <td id=\"T_18412f44_801b_11eb_9d36_380025ac0edfrow9_col2\" class=\"data row9 col2\" >1.6649</td>\n",
       "                        <td id=\"T_18412f44_801b_11eb_9d36_380025ac0edfrow9_col3\" class=\"data row9 col3\" >0.9562</td>\n",
       "                        <td id=\"T_18412f44_801b_11eb_9d36_380025ac0edfrow9_col4\" class=\"data row9 col4\" >0.0133</td>\n",
       "                        <td id=\"T_18412f44_801b_11eb_9d36_380025ac0edfrow9_col5\" class=\"data row9 col5\" >0.0102</td>\n",
       "            </tr>\n",
       "            <tr>\n",
       "                        <th id=\"T_18412f44_801b_11eb_9d36_380025ac0edflevel0_row10\" class=\"row_heading level0 row10\" >Mean</th>\n",
       "                        <td id=\"T_18412f44_801b_11eb_9d36_380025ac0edfrow10_col0\" class=\"data row10 col0\" >1.2093</td>\n",
       "                        <td id=\"T_18412f44_801b_11eb_9d36_380025ac0edfrow10_col1\" class=\"data row10 col1\" >3.1266</td>\n",
       "                        <td id=\"T_18412f44_801b_11eb_9d36_380025ac0edfrow10_col2\" class=\"data row10 col2\" >1.7402</td>\n",
       "                        <td id=\"T_18412f44_801b_11eb_9d36_380025ac0edfrow10_col3\" class=\"data row10 col3\" >0.9314</td>\n",
       "                        <td id=\"T_18412f44_801b_11eb_9d36_380025ac0edfrow10_col4\" class=\"data row10 col4\" >0.0139</td>\n",
       "                        <td id=\"T_18412f44_801b_11eb_9d36_380025ac0edfrow10_col5\" class=\"data row10 col5\" >0.0098</td>\n",
       "            </tr>\n",
       "            <tr>\n",
       "                        <th id=\"T_18412f44_801b_11eb_9d36_380025ac0edflevel0_row11\" class=\"row_heading level0 row11\" >SD</th>\n",
       "                        <td id=\"T_18412f44_801b_11eb_9d36_380025ac0edfrow11_col0\" class=\"data row11 col0\" >0.1514</td>\n",
       "                        <td id=\"T_18412f44_801b_11eb_9d36_380025ac0edfrow11_col1\" class=\"data row11 col1\" >1.1996</td>\n",
       "                        <td id=\"T_18412f44_801b_11eb_9d36_380025ac0edfrow11_col2\" class=\"data row11 col2\" >0.3133</td>\n",
       "                        <td id=\"T_18412f44_801b_11eb_9d36_380025ac0edfrow11_col3\" class=\"data row11 col3\" >0.0243</td>\n",
       "                        <td id=\"T_18412f44_801b_11eb_9d36_380025ac0edfrow11_col4\" class=\"data row11 col4\" >0.0024</td>\n",
       "                        <td id=\"T_18412f44_801b_11eb_9d36_380025ac0edfrow11_col5\" class=\"data row11 col5\" >0.0012</td>\n",
       "            </tr>\n",
       "    </tbody></table>"
      ],
      "text/plain": [
       "<pandas.io.formats.style.Styler at 0x22dc667d580>"
      ]
     },
     "metadata": {},
     "output_type": "display_data"
    }
   ],
   "source": [
    "dt = create_model('et')"
   ]
  },
  {
   "cell_type": "code",
   "execution_count": 22,
   "metadata": {},
   "outputs": [
    {
     "data": {
      "text/html": [
       "<style  type=\"text/css\" >\n",
       "#T_24cb6c0e_801b_11eb_855c_380025ac0edfrow10_col0,#T_24cb6c0e_801b_11eb_855c_380025ac0edfrow10_col1,#T_24cb6c0e_801b_11eb_855c_380025ac0edfrow10_col2,#T_24cb6c0e_801b_11eb_855c_380025ac0edfrow10_col3,#T_24cb6c0e_801b_11eb_855c_380025ac0edfrow10_col4,#T_24cb6c0e_801b_11eb_855c_380025ac0edfrow10_col5{\n",
       "            background:  yellow;\n",
       "        }</style><table id=\"T_24cb6c0e_801b_11eb_855c_380025ac0edf\" ><thead>    <tr>        <th class=\"blank level0\" ></th>        <th class=\"col_heading level0 col0\" >MAE</th>        <th class=\"col_heading level0 col1\" >MSE</th>        <th class=\"col_heading level0 col2\" >RMSE</th>        <th class=\"col_heading level0 col3\" >R2</th>        <th class=\"col_heading level0 col4\" >RMSLE</th>        <th class=\"col_heading level0 col5\" >MAPE</th>    </tr></thead><tbody>\n",
       "                <tr>\n",
       "                        <th id=\"T_24cb6c0e_801b_11eb_855c_380025ac0edflevel0_row0\" class=\"row_heading level0 row0\" >0</th>\n",
       "                        <td id=\"T_24cb6c0e_801b_11eb_855c_380025ac0edfrow0_col0\" class=\"data row0 col0\" >1.2848</td>\n",
       "                        <td id=\"T_24cb6c0e_801b_11eb_855c_380025ac0edfrow0_col1\" class=\"data row0 col1\" >2.9640</td>\n",
       "                        <td id=\"T_24cb6c0e_801b_11eb_855c_380025ac0edfrow0_col2\" class=\"data row0 col2\" >1.7216</td>\n",
       "                        <td id=\"T_24cb6c0e_801b_11eb_855c_380025ac0edfrow0_col3\" class=\"data row0 col3\" >0.9401</td>\n",
       "                        <td id=\"T_24cb6c0e_801b_11eb_855c_380025ac0edfrow0_col4\" class=\"data row0 col4\" >0.0138</td>\n",
       "                        <td id=\"T_24cb6c0e_801b_11eb_855c_380025ac0edfrow0_col5\" class=\"data row0 col5\" >0.0104</td>\n",
       "            </tr>\n",
       "            <tr>\n",
       "                        <th id=\"T_24cb6c0e_801b_11eb_855c_380025ac0edflevel0_row1\" class=\"row_heading level0 row1\" >1</th>\n",
       "                        <td id=\"T_24cb6c0e_801b_11eb_855c_380025ac0edfrow1_col0\" class=\"data row1 col0\" >1.4439</td>\n",
       "                        <td id=\"T_24cb6c0e_801b_11eb_855c_380025ac0edfrow1_col1\" class=\"data row1 col1\" >3.9961</td>\n",
       "                        <td id=\"T_24cb6c0e_801b_11eb_855c_380025ac0edfrow1_col2\" class=\"data row1 col2\" >1.9990</td>\n",
       "                        <td id=\"T_24cb6c0e_801b_11eb_855c_380025ac0edfrow1_col3\" class=\"data row1 col3\" >0.9121</td>\n",
       "                        <td id=\"T_24cb6c0e_801b_11eb_855c_380025ac0edfrow1_col4\" class=\"data row1 col4\" >0.0162</td>\n",
       "                        <td id=\"T_24cb6c0e_801b_11eb_855c_380025ac0edfrow1_col5\" class=\"data row1 col5\" >0.0118</td>\n",
       "            </tr>\n",
       "            <tr>\n",
       "                        <th id=\"T_24cb6c0e_801b_11eb_855c_380025ac0edflevel0_row2\" class=\"row_heading level0 row2\" >2</th>\n",
       "                        <td id=\"T_24cb6c0e_801b_11eb_855c_380025ac0edfrow2_col0\" class=\"data row2 col0\" >1.6028</td>\n",
       "                        <td id=\"T_24cb6c0e_801b_11eb_855c_380025ac0edfrow2_col1\" class=\"data row2 col1\" >4.6672</td>\n",
       "                        <td id=\"T_24cb6c0e_801b_11eb_855c_380025ac0edfrow2_col2\" class=\"data row2 col2\" >2.1604</td>\n",
       "                        <td id=\"T_24cb6c0e_801b_11eb_855c_380025ac0edfrow2_col3\" class=\"data row2 col3\" >0.9137</td>\n",
       "                        <td id=\"T_24cb6c0e_801b_11eb_855c_380025ac0edfrow2_col4\" class=\"data row2 col4\" >0.0175</td>\n",
       "                        <td id=\"T_24cb6c0e_801b_11eb_855c_380025ac0edfrow2_col5\" class=\"data row2 col5\" >0.0131</td>\n",
       "            </tr>\n",
       "            <tr>\n",
       "                        <th id=\"T_24cb6c0e_801b_11eb_855c_380025ac0edflevel0_row3\" class=\"row_heading level0 row3\" >3</th>\n",
       "                        <td id=\"T_24cb6c0e_801b_11eb_855c_380025ac0edfrow3_col0\" class=\"data row3 col0\" >1.3251</td>\n",
       "                        <td id=\"T_24cb6c0e_801b_11eb_855c_380025ac0edfrow3_col1\" class=\"data row3 col1\" >3.3204</td>\n",
       "                        <td id=\"T_24cb6c0e_801b_11eb_855c_380025ac0edfrow3_col2\" class=\"data row3 col2\" >1.8222</td>\n",
       "                        <td id=\"T_24cb6c0e_801b_11eb_855c_380025ac0edfrow3_col3\" class=\"data row3 col3\" >0.9087</td>\n",
       "                        <td id=\"T_24cb6c0e_801b_11eb_855c_380025ac0edfrow3_col4\" class=\"data row3 col4\" >0.0145</td>\n",
       "                        <td id=\"T_24cb6c0e_801b_11eb_855c_380025ac0edfrow3_col5\" class=\"data row3 col5\" >0.0106</td>\n",
       "            </tr>\n",
       "            <tr>\n",
       "                        <th id=\"T_24cb6c0e_801b_11eb_855c_380025ac0edflevel0_row4\" class=\"row_heading level0 row4\" >4</th>\n",
       "                        <td id=\"T_24cb6c0e_801b_11eb_855c_380025ac0edfrow4_col0\" class=\"data row4 col0\" >1.3018</td>\n",
       "                        <td id=\"T_24cb6c0e_801b_11eb_855c_380025ac0edfrow4_col1\" class=\"data row4 col1\" >3.0298</td>\n",
       "                        <td id=\"T_24cb6c0e_801b_11eb_855c_380025ac0edfrow4_col2\" class=\"data row4 col2\" >1.7406</td>\n",
       "                        <td id=\"T_24cb6c0e_801b_11eb_855c_380025ac0edfrow4_col3\" class=\"data row4 col3\" >0.9329</td>\n",
       "                        <td id=\"T_24cb6c0e_801b_11eb_855c_380025ac0edfrow4_col4\" class=\"data row4 col4\" >0.0138</td>\n",
       "                        <td id=\"T_24cb6c0e_801b_11eb_855c_380025ac0edfrow4_col5\" class=\"data row4 col5\" >0.0105</td>\n",
       "            </tr>\n",
       "            <tr>\n",
       "                        <th id=\"T_24cb6c0e_801b_11eb_855c_380025ac0edflevel0_row5\" class=\"row_heading level0 row5\" >5</th>\n",
       "                        <td id=\"T_24cb6c0e_801b_11eb_855c_380025ac0edfrow5_col0\" class=\"data row5 col0\" >1.2319</td>\n",
       "                        <td id=\"T_24cb6c0e_801b_11eb_855c_380025ac0edfrow5_col1\" class=\"data row5 col1\" >3.0413</td>\n",
       "                        <td id=\"T_24cb6c0e_801b_11eb_855c_380025ac0edfrow5_col2\" class=\"data row5 col2\" >1.7439</td>\n",
       "                        <td id=\"T_24cb6c0e_801b_11eb_855c_380025ac0edfrow5_col3\" class=\"data row5 col3\" >0.9155</td>\n",
       "                        <td id=\"T_24cb6c0e_801b_11eb_855c_380025ac0edfrow5_col4\" class=\"data row5 col4\" >0.0139</td>\n",
       "                        <td id=\"T_24cb6c0e_801b_11eb_855c_380025ac0edfrow5_col5\" class=\"data row5 col5\" >0.0099</td>\n",
       "            </tr>\n",
       "            <tr>\n",
       "                        <th id=\"T_24cb6c0e_801b_11eb_855c_380025ac0edflevel0_row6\" class=\"row_heading level0 row6\" >6</th>\n",
       "                        <td id=\"T_24cb6c0e_801b_11eb_855c_380025ac0edfrow6_col0\" class=\"data row6 col0\" >1.6579</td>\n",
       "                        <td id=\"T_24cb6c0e_801b_11eb_855c_380025ac0edfrow6_col1\" class=\"data row6 col1\" >7.5620</td>\n",
       "                        <td id=\"T_24cb6c0e_801b_11eb_855c_380025ac0edfrow6_col2\" class=\"data row6 col2\" >2.7499</td>\n",
       "                        <td id=\"T_24cb6c0e_801b_11eb_855c_380025ac0edfrow6_col3\" class=\"data row6 col3\" >0.8349</td>\n",
       "                        <td id=\"T_24cb6c0e_801b_11eb_855c_380025ac0edfrow6_col4\" class=\"data row6 col4\" >0.0216</td>\n",
       "                        <td id=\"T_24cb6c0e_801b_11eb_855c_380025ac0edfrow6_col5\" class=\"data row6 col5\" >0.0133</td>\n",
       "            </tr>\n",
       "            <tr>\n",
       "                        <th id=\"T_24cb6c0e_801b_11eb_855c_380025ac0edflevel0_row7\" class=\"row_heading level0 row7\" >7</th>\n",
       "                        <td id=\"T_24cb6c0e_801b_11eb_855c_380025ac0edfrow7_col0\" class=\"data row7 col0\" >1.2048</td>\n",
       "                        <td id=\"T_24cb6c0e_801b_11eb_855c_380025ac0edfrow7_col1\" class=\"data row7 col1\" >2.6626</td>\n",
       "                        <td id=\"T_24cb6c0e_801b_11eb_855c_380025ac0edfrow7_col2\" class=\"data row7 col2\" >1.6318</td>\n",
       "                        <td id=\"T_24cb6c0e_801b_11eb_855c_380025ac0edfrow7_col3\" class=\"data row7 col3\" >0.9213</td>\n",
       "                        <td id=\"T_24cb6c0e_801b_11eb_855c_380025ac0edfrow7_col4\" class=\"data row7 col4\" >0.0131</td>\n",
       "                        <td id=\"T_24cb6c0e_801b_11eb_855c_380025ac0edfrow7_col5\" class=\"data row7 col5\" >0.0097</td>\n",
       "            </tr>\n",
       "            <tr>\n",
       "                        <th id=\"T_24cb6c0e_801b_11eb_855c_380025ac0edflevel0_row8\" class=\"row_heading level0 row8\" >8</th>\n",
       "                        <td id=\"T_24cb6c0e_801b_11eb_855c_380025ac0edfrow8_col0\" class=\"data row8 col0\" >1.4899</td>\n",
       "                        <td id=\"T_24cb6c0e_801b_11eb_855c_380025ac0edfrow8_col1\" class=\"data row8 col1\" >4.8324</td>\n",
       "                        <td id=\"T_24cb6c0e_801b_11eb_855c_380025ac0edfrow8_col2\" class=\"data row8 col2\" >2.1983</td>\n",
       "                        <td id=\"T_24cb6c0e_801b_11eb_855c_380025ac0edfrow8_col3\" class=\"data row8 col3\" >0.9015</td>\n",
       "                        <td id=\"T_24cb6c0e_801b_11eb_855c_380025ac0edfrow8_col4\" class=\"data row8 col4\" >0.0169</td>\n",
       "                        <td id=\"T_24cb6c0e_801b_11eb_855c_380025ac0edfrow8_col5\" class=\"data row8 col5\" >0.0118</td>\n",
       "            </tr>\n",
       "            <tr>\n",
       "                        <th id=\"T_24cb6c0e_801b_11eb_855c_380025ac0edflevel0_row9\" class=\"row_heading level0 row9\" >9</th>\n",
       "                        <td id=\"T_24cb6c0e_801b_11eb_855c_380025ac0edfrow9_col0\" class=\"data row9 col0\" >1.5110</td>\n",
       "                        <td id=\"T_24cb6c0e_801b_11eb_855c_380025ac0edfrow9_col1\" class=\"data row9 col1\" >3.7838</td>\n",
       "                        <td id=\"T_24cb6c0e_801b_11eb_855c_380025ac0edfrow9_col2\" class=\"data row9 col2\" >1.9452</td>\n",
       "                        <td id=\"T_24cb6c0e_801b_11eb_855c_380025ac0edfrow9_col3\" class=\"data row9 col3\" >0.9403</td>\n",
       "                        <td id=\"T_24cb6c0e_801b_11eb_855c_380025ac0edfrow9_col4\" class=\"data row9 col4\" >0.0157</td>\n",
       "                        <td id=\"T_24cb6c0e_801b_11eb_855c_380025ac0edfrow9_col5\" class=\"data row9 col5\" >0.0123</td>\n",
       "            </tr>\n",
       "            <tr>\n",
       "                        <th id=\"T_24cb6c0e_801b_11eb_855c_380025ac0edflevel0_row10\" class=\"row_heading level0 row10\" >Mean</th>\n",
       "                        <td id=\"T_24cb6c0e_801b_11eb_855c_380025ac0edfrow10_col0\" class=\"data row10 col0\" >1.4054</td>\n",
       "                        <td id=\"T_24cb6c0e_801b_11eb_855c_380025ac0edfrow10_col1\" class=\"data row10 col1\" >3.9859</td>\n",
       "                        <td id=\"T_24cb6c0e_801b_11eb_855c_380025ac0edfrow10_col2\" class=\"data row10 col2\" >1.9713</td>\n",
       "                        <td id=\"T_24cb6c0e_801b_11eb_855c_380025ac0edfrow10_col3\" class=\"data row10 col3\" >0.9121</td>\n",
       "                        <td id=\"T_24cb6c0e_801b_11eb_855c_380025ac0edfrow10_col4\" class=\"data row10 col4\" >0.0157</td>\n",
       "                        <td id=\"T_24cb6c0e_801b_11eb_855c_380025ac0edfrow10_col5\" class=\"data row10 col5\" >0.0113</td>\n",
       "            </tr>\n",
       "            <tr>\n",
       "                        <th id=\"T_24cb6c0e_801b_11eb_855c_380025ac0edflevel0_row11\" class=\"row_heading level0 row11\" >SD</th>\n",
       "                        <td id=\"T_24cb6c0e_801b_11eb_855c_380025ac0edfrow11_col0\" class=\"data row11 col0\" >0.1499</td>\n",
       "                        <td id=\"T_24cb6c0e_801b_11eb_855c_380025ac0edfrow11_col1\" class=\"data row11 col1\" >1.3804</td>\n",
       "                        <td id=\"T_24cb6c0e_801b_11eb_855c_380025ac0edfrow11_col2\" class=\"data row11 col2\" >0.3162</td>\n",
       "                        <td id=\"T_24cb6c0e_801b_11eb_855c_380025ac0edfrow11_col3\" class=\"data row11 col3\" >0.0286</td>\n",
       "                        <td id=\"T_24cb6c0e_801b_11eb_855c_380025ac0edfrow11_col4\" class=\"data row11 col4\" >0.0024</td>\n",
       "                        <td id=\"T_24cb6c0e_801b_11eb_855c_380025ac0edfrow11_col5\" class=\"data row11 col5\" >0.0012</td>\n",
       "            </tr>\n",
       "    </tbody></table>"
      ],
      "text/plain": [
       "<pandas.io.formats.style.Styler at 0x22dca755550>"
      ]
     },
     "metadata": {},
     "output_type": "display_data"
    }
   ],
   "source": [
    "bagged_dt = ensemble_model(dt)"
   ]
  },
  {
   "cell_type": "code",
   "execution_count": 23,
   "metadata": {},
   "outputs": [
    {
     "data": {
      "text/html": [
       "<style  type=\"text/css\" >\n",
       "#T_5eda520c_801b_11eb_ab6c_380025ac0edfrow10_col0,#T_5eda520c_801b_11eb_ab6c_380025ac0edfrow10_col1,#T_5eda520c_801b_11eb_ab6c_380025ac0edfrow10_col2,#T_5eda520c_801b_11eb_ab6c_380025ac0edfrow10_col3,#T_5eda520c_801b_11eb_ab6c_380025ac0edfrow10_col4,#T_5eda520c_801b_11eb_ab6c_380025ac0edfrow10_col5{\n",
       "            background:  yellow;\n",
       "        }</style><table id=\"T_5eda520c_801b_11eb_ab6c_380025ac0edf\" ><thead>    <tr>        <th class=\"blank level0\" ></th>        <th class=\"col_heading level0 col0\" >MAE</th>        <th class=\"col_heading level0 col1\" >MSE</th>        <th class=\"col_heading level0 col2\" >RMSE</th>        <th class=\"col_heading level0 col3\" >R2</th>        <th class=\"col_heading level0 col4\" >RMSLE</th>        <th class=\"col_heading level0 col5\" >MAPE</th>    </tr></thead><tbody>\n",
       "                <tr>\n",
       "                        <th id=\"T_5eda520c_801b_11eb_ab6c_380025ac0edflevel0_row0\" class=\"row_heading level0 row0\" >0</th>\n",
       "                        <td id=\"T_5eda520c_801b_11eb_ab6c_380025ac0edfrow0_col0\" class=\"data row0 col0\" >1.0098</td>\n",
       "                        <td id=\"T_5eda520c_801b_11eb_ab6c_380025ac0edfrow0_col1\" class=\"data row0 col1\" >2.0492</td>\n",
       "                        <td id=\"T_5eda520c_801b_11eb_ab6c_380025ac0edfrow0_col2\" class=\"data row0 col2\" >1.4315</td>\n",
       "                        <td id=\"T_5eda520c_801b_11eb_ab6c_380025ac0edfrow0_col3\" class=\"data row0 col3\" >0.9586</td>\n",
       "                        <td id=\"T_5eda520c_801b_11eb_ab6c_380025ac0edfrow0_col4\" class=\"data row0 col4\" >0.0113</td>\n",
       "                        <td id=\"T_5eda520c_801b_11eb_ab6c_380025ac0edfrow0_col5\" class=\"data row0 col5\" >0.0081</td>\n",
       "            </tr>\n",
       "            <tr>\n",
       "                        <th id=\"T_5eda520c_801b_11eb_ab6c_380025ac0edflevel0_row1\" class=\"row_heading level0 row1\" >1</th>\n",
       "                        <td id=\"T_5eda520c_801b_11eb_ab6c_380025ac0edfrow1_col0\" class=\"data row1 col0\" >1.0711</td>\n",
       "                        <td id=\"T_5eda520c_801b_11eb_ab6c_380025ac0edfrow1_col1\" class=\"data row1 col1\" >3.2926</td>\n",
       "                        <td id=\"T_5eda520c_801b_11eb_ab6c_380025ac0edfrow1_col2\" class=\"data row1 col2\" >1.8146</td>\n",
       "                        <td id=\"T_5eda520c_801b_11eb_ab6c_380025ac0edfrow1_col3\" class=\"data row1 col3\" >0.9276</td>\n",
       "                        <td id=\"T_5eda520c_801b_11eb_ab6c_380025ac0edfrow1_col4\" class=\"data row1 col4\" >0.0147</td>\n",
       "                        <td id=\"T_5eda520c_801b_11eb_ab6c_380025ac0edfrow1_col5\" class=\"data row1 col5\" >0.0088</td>\n",
       "            </tr>\n",
       "            <tr>\n",
       "                        <th id=\"T_5eda520c_801b_11eb_ab6c_380025ac0edflevel0_row2\" class=\"row_heading level0 row2\" >2</th>\n",
       "                        <td id=\"T_5eda520c_801b_11eb_ab6c_380025ac0edfrow2_col0\" class=\"data row2 col0\" >1.2510</td>\n",
       "                        <td id=\"T_5eda520c_801b_11eb_ab6c_380025ac0edfrow2_col1\" class=\"data row2 col1\" >3.1951</td>\n",
       "                        <td id=\"T_5eda520c_801b_11eb_ab6c_380025ac0edfrow2_col2\" class=\"data row2 col2\" >1.7875</td>\n",
       "                        <td id=\"T_5eda520c_801b_11eb_ab6c_380025ac0edfrow2_col3\" class=\"data row2 col3\" >0.9410</td>\n",
       "                        <td id=\"T_5eda520c_801b_11eb_ab6c_380025ac0edfrow2_col4\" class=\"data row2 col4\" >0.0145</td>\n",
       "                        <td id=\"T_5eda520c_801b_11eb_ab6c_380025ac0edfrow2_col5\" class=\"data row2 col5\" >0.0102</td>\n",
       "            </tr>\n",
       "            <tr>\n",
       "                        <th id=\"T_5eda520c_801b_11eb_ab6c_380025ac0edflevel0_row3\" class=\"row_heading level0 row3\" >3</th>\n",
       "                        <td id=\"T_5eda520c_801b_11eb_ab6c_380025ac0edfrow3_col0\" class=\"data row3 col0\" >1.0414</td>\n",
       "                        <td id=\"T_5eda520c_801b_11eb_ab6c_380025ac0edfrow3_col1\" class=\"data row3 col1\" >2.0489</td>\n",
       "                        <td id=\"T_5eda520c_801b_11eb_ab6c_380025ac0edfrow3_col2\" class=\"data row3 col2\" >1.4314</td>\n",
       "                        <td id=\"T_5eda520c_801b_11eb_ab6c_380025ac0edfrow3_col3\" class=\"data row3 col3\" >0.9436</td>\n",
       "                        <td id=\"T_5eda520c_801b_11eb_ab6c_380025ac0edfrow3_col4\" class=\"data row3 col4\" >0.0114</td>\n",
       "                        <td id=\"T_5eda520c_801b_11eb_ab6c_380025ac0edfrow3_col5\" class=\"data row3 col5\" >0.0083</td>\n",
       "            </tr>\n",
       "            <tr>\n",
       "                        <th id=\"T_5eda520c_801b_11eb_ab6c_380025ac0edflevel0_row4\" class=\"row_heading level0 row4\" >4</th>\n",
       "                        <td id=\"T_5eda520c_801b_11eb_ab6c_380025ac0edfrow4_col0\" class=\"data row4 col0\" >1.1167</td>\n",
       "                        <td id=\"T_5eda520c_801b_11eb_ab6c_380025ac0edfrow4_col1\" class=\"data row4 col1\" >2.4289</td>\n",
       "                        <td id=\"T_5eda520c_801b_11eb_ab6c_380025ac0edfrow4_col2\" class=\"data row4 col2\" >1.5585</td>\n",
       "                        <td id=\"T_5eda520c_801b_11eb_ab6c_380025ac0edfrow4_col3\" class=\"data row4 col3\" >0.9462</td>\n",
       "                        <td id=\"T_5eda520c_801b_11eb_ab6c_380025ac0edfrow4_col4\" class=\"data row4 col4\" >0.0124</td>\n",
       "                        <td id=\"T_5eda520c_801b_11eb_ab6c_380025ac0edfrow4_col5\" class=\"data row4 col5\" >0.0090</td>\n",
       "            </tr>\n",
       "            <tr>\n",
       "                        <th id=\"T_5eda520c_801b_11eb_ab6c_380025ac0edflevel0_row5\" class=\"row_heading level0 row5\" >5</th>\n",
       "                        <td id=\"T_5eda520c_801b_11eb_ab6c_380025ac0edfrow5_col0\" class=\"data row5 col0\" >0.9496</td>\n",
       "                        <td id=\"T_5eda520c_801b_11eb_ab6c_380025ac0edfrow5_col1\" class=\"data row5 col1\" >1.5572</td>\n",
       "                        <td id=\"T_5eda520c_801b_11eb_ab6c_380025ac0edfrow5_col2\" class=\"data row5 col2\" >1.2479</td>\n",
       "                        <td id=\"T_5eda520c_801b_11eb_ab6c_380025ac0edfrow5_col3\" class=\"data row5 col3\" >0.9567</td>\n",
       "                        <td id=\"T_5eda520c_801b_11eb_ab6c_380025ac0edfrow5_col4\" class=\"data row5 col4\" >0.0101</td>\n",
       "                        <td id=\"T_5eda520c_801b_11eb_ab6c_380025ac0edfrow5_col5\" class=\"data row5 col5\" >0.0076</td>\n",
       "            </tr>\n",
       "            <tr>\n",
       "                        <th id=\"T_5eda520c_801b_11eb_ab6c_380025ac0edflevel0_row6\" class=\"row_heading level0 row6\" >6</th>\n",
       "                        <td id=\"T_5eda520c_801b_11eb_ab6c_380025ac0edfrow6_col0\" class=\"data row6 col0\" >1.3207</td>\n",
       "                        <td id=\"T_5eda520c_801b_11eb_ab6c_380025ac0edfrow6_col1\" class=\"data row6 col1\" >5.1653</td>\n",
       "                        <td id=\"T_5eda520c_801b_11eb_ab6c_380025ac0edfrow6_col2\" class=\"data row6 col2\" >2.2727</td>\n",
       "                        <td id=\"T_5eda520c_801b_11eb_ab6c_380025ac0edfrow6_col3\" class=\"data row6 col3\" >0.8873</td>\n",
       "                        <td id=\"T_5eda520c_801b_11eb_ab6c_380025ac0edfrow6_col4\" class=\"data row6 col4\" >0.0177</td>\n",
       "                        <td id=\"T_5eda520c_801b_11eb_ab6c_380025ac0edfrow6_col5\" class=\"data row6 col5\" >0.0106</td>\n",
       "            </tr>\n",
       "            <tr>\n",
       "                        <th id=\"T_5eda520c_801b_11eb_ab6c_380025ac0edflevel0_row7\" class=\"row_heading level0 row7\" >7</th>\n",
       "                        <td id=\"T_5eda520c_801b_11eb_ab6c_380025ac0edfrow7_col0\" class=\"data row7 col0\" >0.9169</td>\n",
       "                        <td id=\"T_5eda520c_801b_11eb_ab6c_380025ac0edfrow7_col1\" class=\"data row7 col1\" >1.6628</td>\n",
       "                        <td id=\"T_5eda520c_801b_11eb_ab6c_380025ac0edfrow7_col2\" class=\"data row7 col2\" >1.2895</td>\n",
       "                        <td id=\"T_5eda520c_801b_11eb_ab6c_380025ac0edfrow7_col3\" class=\"data row7 col3\" >0.9508</td>\n",
       "                        <td id=\"T_5eda520c_801b_11eb_ab6c_380025ac0edfrow7_col4\" class=\"data row7 col4\" >0.0104</td>\n",
       "                        <td id=\"T_5eda520c_801b_11eb_ab6c_380025ac0edfrow7_col5\" class=\"data row7 col5\" >0.0074</td>\n",
       "            </tr>\n",
       "            <tr>\n",
       "                        <th id=\"T_5eda520c_801b_11eb_ab6c_380025ac0edflevel0_row8\" class=\"row_heading level0 row8\" >8</th>\n",
       "                        <td id=\"T_5eda520c_801b_11eb_ab6c_380025ac0edfrow8_col0\" class=\"data row8 col0\" >1.2469</td>\n",
       "                        <td id=\"T_5eda520c_801b_11eb_ab6c_380025ac0edfrow8_col1\" class=\"data row8 col1\" >3.3501</td>\n",
       "                        <td id=\"T_5eda520c_801b_11eb_ab6c_380025ac0edfrow8_col2\" class=\"data row8 col2\" >1.8303</td>\n",
       "                        <td id=\"T_5eda520c_801b_11eb_ab6c_380025ac0edfrow8_col3\" class=\"data row8 col3\" >0.9317</td>\n",
       "                        <td id=\"T_5eda520c_801b_11eb_ab6c_380025ac0edfrow8_col4\" class=\"data row8 col4\" >0.0142</td>\n",
       "                        <td id=\"T_5eda520c_801b_11eb_ab6c_380025ac0edfrow8_col5\" class=\"data row8 col5\" >0.0099</td>\n",
       "            </tr>\n",
       "            <tr>\n",
       "                        <th id=\"T_5eda520c_801b_11eb_ab6c_380025ac0edflevel0_row9\" class=\"row_heading level0 row9\" >9</th>\n",
       "                        <td id=\"T_5eda520c_801b_11eb_ab6c_380025ac0edfrow9_col0\" class=\"data row9 col0\" >1.0771</td>\n",
       "                        <td id=\"T_5eda520c_801b_11eb_ab6c_380025ac0edfrow9_col1\" class=\"data row9 col1\" >2.2834</td>\n",
       "                        <td id=\"T_5eda520c_801b_11eb_ab6c_380025ac0edfrow9_col2\" class=\"data row9 col2\" >1.5111</td>\n",
       "                        <td id=\"T_5eda520c_801b_11eb_ab6c_380025ac0edfrow9_col3\" class=\"data row9 col3\" >0.9640</td>\n",
       "                        <td id=\"T_5eda520c_801b_11eb_ab6c_380025ac0edfrow9_col4\" class=\"data row9 col4\" >0.0119</td>\n",
       "                        <td id=\"T_5eda520c_801b_11eb_ab6c_380025ac0edfrow9_col5\" class=\"data row9 col5\" >0.0087</td>\n",
       "            </tr>\n",
       "            <tr>\n",
       "                        <th id=\"T_5eda520c_801b_11eb_ab6c_380025ac0edflevel0_row10\" class=\"row_heading level0 row10\" >Mean</th>\n",
       "                        <td id=\"T_5eda520c_801b_11eb_ab6c_380025ac0edfrow10_col0\" class=\"data row10 col0\" >1.1001</td>\n",
       "                        <td id=\"T_5eda520c_801b_11eb_ab6c_380025ac0edfrow10_col1\" class=\"data row10 col1\" >2.7034</td>\n",
       "                        <td id=\"T_5eda520c_801b_11eb_ab6c_380025ac0edfrow10_col2\" class=\"data row10 col2\" >1.6175</td>\n",
       "                        <td id=\"T_5eda520c_801b_11eb_ab6c_380025ac0edfrow10_col3\" class=\"data row10 col3\" >0.9408</td>\n",
       "                        <td id=\"T_5eda520c_801b_11eb_ab6c_380025ac0edfrow10_col4\" class=\"data row10 col4\" >0.0128</td>\n",
       "                        <td id=\"T_5eda520c_801b_11eb_ab6c_380025ac0edfrow10_col5\" class=\"data row10 col5\" >0.0089</td>\n",
       "            </tr>\n",
       "            <tr>\n",
       "                        <th id=\"T_5eda520c_801b_11eb_ab6c_380025ac0edflevel0_row11\" class=\"row_heading level0 row11\" >SD</th>\n",
       "                        <td id=\"T_5eda520c_801b_11eb_ab6c_380025ac0edfrow11_col0\" class=\"data row11 col0\" >0.1275</td>\n",
       "                        <td id=\"T_5eda520c_801b_11eb_ab6c_380025ac0edfrow11_col1\" class=\"data row11 col1\" >1.0282</td>\n",
       "                        <td id=\"T_5eda520c_801b_11eb_ab6c_380025ac0edfrow11_col2\" class=\"data row11 col2\" >0.2951</td>\n",
       "                        <td id=\"T_5eda520c_801b_11eb_ab6c_380025ac0edfrow11_col3\" class=\"data row11 col3\" >0.0209</td>\n",
       "                        <td id=\"T_5eda520c_801b_11eb_ab6c_380025ac0edfrow11_col4\" class=\"data row11 col4\" >0.0023</td>\n",
       "                        <td id=\"T_5eda520c_801b_11eb_ab6c_380025ac0edfrow11_col5\" class=\"data row11 col5\" >0.0010</td>\n",
       "            </tr>\n",
       "    </tbody></table>"
      ],
      "text/plain": [
       "<pandas.io.formats.style.Styler at 0x22dddf80580>"
      ]
     },
     "metadata": {},
     "output_type": "display_data"
    }
   ],
   "source": [
    "stacker = stack_models(top3)"
   ]
  },
  {
   "cell_type": "code",
   "execution_count": 24,
   "metadata": {},
   "outputs": [
    {
     "data": {
      "text/html": [
       "<style  type=\"text/css\" >\n",
       "#T_6018f223_801b_11eb_b70f_380025ac0edfrow10_col0,#T_6018f223_801b_11eb_b70f_380025ac0edfrow10_col1,#T_6018f223_801b_11eb_b70f_380025ac0edfrow10_col2,#T_6018f223_801b_11eb_b70f_380025ac0edfrow10_col3,#T_6018f223_801b_11eb_b70f_380025ac0edfrow10_col4,#T_6018f223_801b_11eb_b70f_380025ac0edfrow10_col5{\n",
       "            background:  yellow;\n",
       "        }</style><table id=\"T_6018f223_801b_11eb_b70f_380025ac0edf\" ><thead>    <tr>        <th class=\"blank level0\" ></th>        <th class=\"col_heading level0 col0\" >MAE</th>        <th class=\"col_heading level0 col1\" >MSE</th>        <th class=\"col_heading level0 col2\" >RMSE</th>        <th class=\"col_heading level0 col3\" >R2</th>        <th class=\"col_heading level0 col4\" >RMSLE</th>        <th class=\"col_heading level0 col5\" >MAPE</th>    </tr></thead><tbody>\n",
       "                <tr>\n",
       "                        <th id=\"T_6018f223_801b_11eb_b70f_380025ac0edflevel0_row0\" class=\"row_heading level0 row0\" >0</th>\n",
       "                        <td id=\"T_6018f223_801b_11eb_b70f_380025ac0edfrow0_col0\" class=\"data row0 col0\" >1.4058</td>\n",
       "                        <td id=\"T_6018f223_801b_11eb_b70f_380025ac0edfrow0_col1\" class=\"data row0 col1\" >3.6041</td>\n",
       "                        <td id=\"T_6018f223_801b_11eb_b70f_380025ac0edfrow0_col2\" class=\"data row0 col2\" >1.8984</td>\n",
       "                        <td id=\"T_6018f223_801b_11eb_b70f_380025ac0edfrow0_col3\" class=\"data row0 col3\" >0.9272</td>\n",
       "                        <td id=\"T_6018f223_801b_11eb_b70f_380025ac0edfrow0_col4\" class=\"data row0 col4\" >0.0151</td>\n",
       "                        <td id=\"T_6018f223_801b_11eb_b70f_380025ac0edfrow0_col5\" class=\"data row0 col5\" >0.0113</td>\n",
       "            </tr>\n",
       "            <tr>\n",
       "                        <th id=\"T_6018f223_801b_11eb_b70f_380025ac0edflevel0_row1\" class=\"row_heading level0 row1\" >1</th>\n",
       "                        <td id=\"T_6018f223_801b_11eb_b70f_380025ac0edfrow1_col0\" class=\"data row1 col0\" >1.2870</td>\n",
       "                        <td id=\"T_6018f223_801b_11eb_b70f_380025ac0edfrow1_col1\" class=\"data row1 col1\" >3.9689</td>\n",
       "                        <td id=\"T_6018f223_801b_11eb_b70f_380025ac0edfrow1_col2\" class=\"data row1 col2\" >1.9922</td>\n",
       "                        <td id=\"T_6018f223_801b_11eb_b70f_380025ac0edfrow1_col3\" class=\"data row1 col3\" >0.9127</td>\n",
       "                        <td id=\"T_6018f223_801b_11eb_b70f_380025ac0edfrow1_col4\" class=\"data row1 col4\" >0.0160</td>\n",
       "                        <td id=\"T_6018f223_801b_11eb_b70f_380025ac0edfrow1_col5\" class=\"data row1 col5\" >0.0105</td>\n",
       "            </tr>\n",
       "            <tr>\n",
       "                        <th id=\"T_6018f223_801b_11eb_b70f_380025ac0edflevel0_row2\" class=\"row_heading level0 row2\" >2</th>\n",
       "                        <td id=\"T_6018f223_801b_11eb_b70f_380025ac0edfrow2_col0\" class=\"data row2 col0\" >1.6121</td>\n",
       "                        <td id=\"T_6018f223_801b_11eb_b70f_380025ac0edfrow2_col1\" class=\"data row2 col1\" >4.7895</td>\n",
       "                        <td id=\"T_6018f223_801b_11eb_b70f_380025ac0edfrow2_col2\" class=\"data row2 col2\" >2.1885</td>\n",
       "                        <td id=\"T_6018f223_801b_11eb_b70f_380025ac0edfrow2_col3\" class=\"data row2 col3\" >0.9115</td>\n",
       "                        <td id=\"T_6018f223_801b_11eb_b70f_380025ac0edfrow2_col4\" class=\"data row2 col4\" >0.0176</td>\n",
       "                        <td id=\"T_6018f223_801b_11eb_b70f_380025ac0edfrow2_col5\" class=\"data row2 col5\" >0.0131</td>\n",
       "            </tr>\n",
       "            <tr>\n",
       "                        <th id=\"T_6018f223_801b_11eb_b70f_380025ac0edflevel0_row3\" class=\"row_heading level0 row3\" >3</th>\n",
       "                        <td id=\"T_6018f223_801b_11eb_b70f_380025ac0edfrow3_col0\" class=\"data row3 col0\" >1.2783</td>\n",
       "                        <td id=\"T_6018f223_801b_11eb_b70f_380025ac0edfrow3_col1\" class=\"data row3 col1\" >2.9126</td>\n",
       "                        <td id=\"T_6018f223_801b_11eb_b70f_380025ac0edfrow3_col2\" class=\"data row3 col2\" >1.7066</td>\n",
       "                        <td id=\"T_6018f223_801b_11eb_b70f_380025ac0edfrow3_col3\" class=\"data row3 col3\" >0.9199</td>\n",
       "                        <td id=\"T_6018f223_801b_11eb_b70f_380025ac0edfrow3_col4\" class=\"data row3 col4\" >0.0135</td>\n",
       "                        <td id=\"T_6018f223_801b_11eb_b70f_380025ac0edfrow3_col5\" class=\"data row3 col5\" >0.0102</td>\n",
       "            </tr>\n",
       "            <tr>\n",
       "                        <th id=\"T_6018f223_801b_11eb_b70f_380025ac0edflevel0_row4\" class=\"row_heading level0 row4\" >4</th>\n",
       "                        <td id=\"T_6018f223_801b_11eb_b70f_380025ac0edfrow4_col0\" class=\"data row4 col0\" >1.4416</td>\n",
       "                        <td id=\"T_6018f223_801b_11eb_b70f_380025ac0edfrow4_col1\" class=\"data row4 col1\" >4.1593</td>\n",
       "                        <td id=\"T_6018f223_801b_11eb_b70f_380025ac0edfrow4_col2\" class=\"data row4 col2\" >2.0394</td>\n",
       "                        <td id=\"T_6018f223_801b_11eb_b70f_380025ac0edfrow4_col3\" class=\"data row4 col3\" >0.9079</td>\n",
       "                        <td id=\"T_6018f223_801b_11eb_b70f_380025ac0edfrow4_col4\" class=\"data row4 col4\" >0.0163</td>\n",
       "                        <td id=\"T_6018f223_801b_11eb_b70f_380025ac0edfrow4_col5\" class=\"data row4 col5\" >0.0117</td>\n",
       "            </tr>\n",
       "            <tr>\n",
       "                        <th id=\"T_6018f223_801b_11eb_b70f_380025ac0edflevel0_row5\" class=\"row_heading level0 row5\" >5</th>\n",
       "                        <td id=\"T_6018f223_801b_11eb_b70f_380025ac0edfrow5_col0\" class=\"data row5 col0\" >1.1838</td>\n",
       "                        <td id=\"T_6018f223_801b_11eb_b70f_380025ac0edfrow5_col1\" class=\"data row5 col1\" >2.2528</td>\n",
       "                        <td id=\"T_6018f223_801b_11eb_b70f_380025ac0edfrow5_col2\" class=\"data row5 col2\" >1.5009</td>\n",
       "                        <td id=\"T_6018f223_801b_11eb_b70f_380025ac0edfrow5_col3\" class=\"data row5 col3\" >0.9374</td>\n",
       "                        <td id=\"T_6018f223_801b_11eb_b70f_380025ac0edfrow5_col4\" class=\"data row5 col4\" >0.0118</td>\n",
       "                        <td id=\"T_6018f223_801b_11eb_b70f_380025ac0edfrow5_col5\" class=\"data row5 col5\" >0.0094</td>\n",
       "            </tr>\n",
       "            <tr>\n",
       "                        <th id=\"T_6018f223_801b_11eb_b70f_380025ac0edflevel0_row6\" class=\"row_heading level0 row6\" >6</th>\n",
       "                        <td id=\"T_6018f223_801b_11eb_b70f_380025ac0edfrow6_col0\" class=\"data row6 col0\" >1.6457</td>\n",
       "                        <td id=\"T_6018f223_801b_11eb_b70f_380025ac0edfrow6_col1\" class=\"data row6 col1\" >6.4614</td>\n",
       "                        <td id=\"T_6018f223_801b_11eb_b70f_380025ac0edfrow6_col2\" class=\"data row6 col2\" >2.5419</td>\n",
       "                        <td id=\"T_6018f223_801b_11eb_b70f_380025ac0edfrow6_col3\" class=\"data row6 col3\" >0.8590</td>\n",
       "                        <td id=\"T_6018f223_801b_11eb_b70f_380025ac0edfrow6_col4\" class=\"data row6 col4\" >0.0200</td>\n",
       "                        <td id=\"T_6018f223_801b_11eb_b70f_380025ac0edfrow6_col5\" class=\"data row6 col5\" >0.0132</td>\n",
       "            </tr>\n",
       "            <tr>\n",
       "                        <th id=\"T_6018f223_801b_11eb_b70f_380025ac0edflevel0_row7\" class=\"row_heading level0 row7\" >7</th>\n",
       "                        <td id=\"T_6018f223_801b_11eb_b70f_380025ac0edfrow7_col0\" class=\"data row7 col0\" >1.1930</td>\n",
       "                        <td id=\"T_6018f223_801b_11eb_b70f_380025ac0edfrow7_col1\" class=\"data row7 col1\" >2.7053</td>\n",
       "                        <td id=\"T_6018f223_801b_11eb_b70f_380025ac0edfrow7_col2\" class=\"data row7 col2\" >1.6448</td>\n",
       "                        <td id=\"T_6018f223_801b_11eb_b70f_380025ac0edfrow7_col3\" class=\"data row7 col3\" >0.9200</td>\n",
       "                        <td id=\"T_6018f223_801b_11eb_b70f_380025ac0edfrow7_col4\" class=\"data row7 col4\" >0.0132</td>\n",
       "                        <td id=\"T_6018f223_801b_11eb_b70f_380025ac0edfrow7_col5\" class=\"data row7 col5\" >0.0096</td>\n",
       "            </tr>\n",
       "            <tr>\n",
       "                        <th id=\"T_6018f223_801b_11eb_b70f_380025ac0edflevel0_row8\" class=\"row_heading level0 row8\" >8</th>\n",
       "                        <td id=\"T_6018f223_801b_11eb_b70f_380025ac0edfrow8_col0\" class=\"data row8 col0\" >1.2694</td>\n",
       "                        <td id=\"T_6018f223_801b_11eb_b70f_380025ac0edfrow8_col1\" class=\"data row8 col1\" >4.0107</td>\n",
       "                        <td id=\"T_6018f223_801b_11eb_b70f_380025ac0edfrow8_col2\" class=\"data row8 col2\" >2.0027</td>\n",
       "                        <td id=\"T_6018f223_801b_11eb_b70f_380025ac0edfrow8_col3\" class=\"data row8 col3\" >0.9183</td>\n",
       "                        <td id=\"T_6018f223_801b_11eb_b70f_380025ac0edfrow8_col4\" class=\"data row8 col4\" >0.0155</td>\n",
       "                        <td id=\"T_6018f223_801b_11eb_b70f_380025ac0edfrow8_col5\" class=\"data row8 col5\" >0.0101</td>\n",
       "            </tr>\n",
       "            <tr>\n",
       "                        <th id=\"T_6018f223_801b_11eb_b70f_380025ac0edflevel0_row9\" class=\"row_heading level0 row9\" >9</th>\n",
       "                        <td id=\"T_6018f223_801b_11eb_b70f_380025ac0edfrow9_col0\" class=\"data row9 col0\" >1.5555</td>\n",
       "                        <td id=\"T_6018f223_801b_11eb_b70f_380025ac0edfrow9_col1\" class=\"data row9 col1\" >4.3754</td>\n",
       "                        <td id=\"T_6018f223_801b_11eb_b70f_380025ac0edfrow9_col2\" class=\"data row9 col2\" >2.0917</td>\n",
       "                        <td id=\"T_6018f223_801b_11eb_b70f_380025ac0edfrow9_col3\" class=\"data row9 col3\" >0.9309</td>\n",
       "                        <td id=\"T_6018f223_801b_11eb_b70f_380025ac0edfrow9_col4\" class=\"data row9 col4\" >0.0167</td>\n",
       "                        <td id=\"T_6018f223_801b_11eb_b70f_380025ac0edfrow9_col5\" class=\"data row9 col5\" >0.0125</td>\n",
       "            </tr>\n",
       "            <tr>\n",
       "                        <th id=\"T_6018f223_801b_11eb_b70f_380025ac0edflevel0_row10\" class=\"row_heading level0 row10\" >Mean</th>\n",
       "                        <td id=\"T_6018f223_801b_11eb_b70f_380025ac0edfrow10_col0\" class=\"data row10 col0\" >1.3872</td>\n",
       "                        <td id=\"T_6018f223_801b_11eb_b70f_380025ac0edfrow10_col1\" class=\"data row10 col1\" >3.9240</td>\n",
       "                        <td id=\"T_6018f223_801b_11eb_b70f_380025ac0edfrow10_col2\" class=\"data row10 col2\" >1.9607</td>\n",
       "                        <td id=\"T_6018f223_801b_11eb_b70f_380025ac0edfrow10_col3\" class=\"data row10 col3\" >0.9145</td>\n",
       "                        <td id=\"T_6018f223_801b_11eb_b70f_380025ac0edfrow10_col4\" class=\"data row10 col4\" >0.0156</td>\n",
       "                        <td id=\"T_6018f223_801b_11eb_b70f_380025ac0edfrow10_col5\" class=\"data row10 col5\" >0.0112</td>\n",
       "            </tr>\n",
       "            <tr>\n",
       "                        <th id=\"T_6018f223_801b_11eb_b70f_380025ac0edflevel0_row11\" class=\"row_heading level0 row11\" >SD</th>\n",
       "                        <td id=\"T_6018f223_801b_11eb_b70f_380025ac0edfrow11_col0\" class=\"data row11 col0\" >0.1624</td>\n",
       "                        <td id=\"T_6018f223_801b_11eb_b70f_380025ac0edfrow11_col1\" class=\"data row11 col1\" >1.1340</td>\n",
       "                        <td id=\"T_6018f223_801b_11eb_b70f_380025ac0edfrow11_col2\" class=\"data row11 col2\" >0.2820</td>\n",
       "                        <td id=\"T_6018f223_801b_11eb_b70f_380025ac0edfrow11_col3\" class=\"data row11 col3\" >0.0204</td>\n",
       "                        <td id=\"T_6018f223_801b_11eb_b70f_380025ac0edfrow11_col4\" class=\"data row11 col4\" >0.0022</td>\n",
       "                        <td id=\"T_6018f223_801b_11eb_b70f_380025ac0edfrow11_col5\" class=\"data row11 col5\" >0.0013</td>\n",
       "            </tr>\n",
       "    </tbody></table>"
      ],
      "text/plain": [
       "<pandas.io.formats.style.Styler at 0x22ddde6f6a0>"
      ]
     },
     "metadata": {},
     "output_type": "display_data"
    },
    {
     "data": {
      "application/vnd.jupyter.widget-view+json": {
       "model_id": "f838253c4a8e4a91933ba93a99dae843",
       "version_major": 2,
       "version_minor": 0
      },
      "text/plain": [
       "IntProgress(value=0, description='Processing: ', max=6)"
      ]
     },
     "metadata": {},
     "output_type": "display_data"
    },
    {
     "data": {
      "text/html": [
       "<div>\n",
       "<style scoped>\n",
       "    .dataframe tbody tr th:only-of-type {\n",
       "        vertical-align: middle;\n",
       "    }\n",
       "\n",
       "    .dataframe tbody tr th {\n",
       "        vertical-align: top;\n",
       "    }\n",
       "\n",
       "    .dataframe thead th {\n",
       "        text-align: right;\n",
       "    }\n",
       "</style>\n",
       "<table border=\"1\" class=\"dataframe\">\n",
       "  <thead>\n",
       "    <tr style=\"text-align: right;\">\n",
       "      <th></th>\n",
       "      <th></th>\n",
       "      <th></th>\n",
       "    </tr>\n",
       "    <tr>\n",
       "      <th></th>\n",
       "      <th></th>\n",
       "      <th></th>\n",
       "    </tr>\n",
       "  </thead>\n",
       "  <tbody>\n",
       "    <tr>\n",
       "      <th>Initiated</th>\n",
       "      <td>. . . . . . . . . . . . . . . . . .</td>\n",
       "      <td>16:34:23</td>\n",
       "    </tr>\n",
       "    <tr>\n",
       "      <th>Status</th>\n",
       "      <td>. . . . . . . . . . . . . . . . . .</td>\n",
       "      <td>Fitting 10 Folds</td>\n",
       "    </tr>\n",
       "    <tr>\n",
       "      <th>Estimator</th>\n",
       "      <td>. . . . . . . . . . . . . . . . . .</td>\n",
       "      <td>Stacking Regressor</td>\n",
       "    </tr>\n",
       "  </tbody>\n",
       "</table>\n",
       "</div>"
      ],
      "text/plain": [
       "                                                                  \n",
       "                                                                  \n",
       "Initiated  . . . . . . . . . . . . . . . . . .            16:34:23\n",
       "Status     . . . . . . . . . . . . . . . . . .    Fitting 10 Folds\n",
       "Estimator  . . . . . . . . . . . . . . . . . .  Stacking Regressor"
      ]
     },
     "metadata": {},
     "output_type": "display_data"
    },
    {
     "data": {
      "text/html": [
       "<div>\n",
       "<style scoped>\n",
       "    .dataframe tbody tr th:only-of-type {\n",
       "        vertical-align: middle;\n",
       "    }\n",
       "\n",
       "    .dataframe tbody tr th {\n",
       "        vertical-align: top;\n",
       "    }\n",
       "\n",
       "    .dataframe thead th {\n",
       "        text-align: right;\n",
       "    }\n",
       "</style>\n",
       "<table border=\"1\" class=\"dataframe\">\n",
       "  <thead>\n",
       "    <tr style=\"text-align: right;\">\n",
       "      <th></th>\n",
       "      <th>MAE</th>\n",
       "      <th>MSE</th>\n",
       "      <th>RMSE</th>\n",
       "      <th>R2</th>\n",
       "      <th>RMSLE</th>\n",
       "      <th>MAPE</th>\n",
       "    </tr>\n",
       "  </thead>\n",
       "  <tbody>\n",
       "  </tbody>\n",
       "</table>\n",
       "</div>"
      ],
      "text/plain": [
       "Empty DataFrame\n",
       "Columns: [MAE, MSE, RMSE, R2, RMSLE, MAPE]\n",
       "Index: []"
      ]
     },
     "metadata": {},
     "output_type": "display_data"
    },
    {
     "ename": "KeyboardInterrupt",
     "evalue": "",
     "output_type": "error",
     "traceback": [
      "\u001b[1;31m---------------------------------------------------------------------------\u001b[0m",
      "\u001b[1;31mKeyboardInterrupt\u001b[0m                         Traceback (most recent call last)",
      "\u001b[1;32m<ipython-input-24-4eeb917a3394>\u001b[0m in \u001b[0;36m<module>\u001b[1;34m\u001b[0m\n\u001b[0;32m      1\u001b[0m \u001b[0mxgboost\u001b[0m \u001b[1;33m=\u001b[0m \u001b[0mcreate_model\u001b[0m\u001b[1;33m(\u001b[0m\u001b[1;34m'lightgbm'\u001b[0m\u001b[1;33m)\u001b[0m\u001b[1;33m\u001b[0m\u001b[1;33m\u001b[0m\u001b[0m\n\u001b[1;32m----> 2\u001b[1;33m \u001b[0mstacker2\u001b[0m \u001b[1;33m=\u001b[0m \u001b[0mstack_models\u001b[0m\u001b[1;33m(\u001b[0m\u001b[0mtop3\u001b[0m\u001b[1;33m,\u001b[0m \u001b[0mmeta_model\u001b[0m \u001b[1;33m=\u001b[0m \u001b[0mxgboost\u001b[0m\u001b[1;33m)\u001b[0m\u001b[1;33m\u001b[0m\u001b[1;33m\u001b[0m\u001b[0m\n\u001b[0m",
      "\u001b[1;32m~\\AppData\\Roaming\\Python\\Python38\\site-packages\\pycaret\\regression.py\u001b[0m in \u001b[0;36mstack_models\u001b[1;34m(estimator_list, meta_model, fold, round, restack, choose_better, optimize, fit_kwargs, groups, verbose)\u001b[0m\n\u001b[0;32m   1381\u001b[0m     \"\"\"\n\u001b[0;32m   1382\u001b[0m \u001b[1;33m\u001b[0m\u001b[0m\n\u001b[1;32m-> 1383\u001b[1;33m     return pycaret.internal.tabular.stack_models(\n\u001b[0m\u001b[0;32m   1384\u001b[0m         \u001b[0mestimator_list\u001b[0m\u001b[1;33m=\u001b[0m\u001b[0mestimator_list\u001b[0m\u001b[1;33m,\u001b[0m\u001b[1;33m\u001b[0m\u001b[1;33m\u001b[0m\u001b[0m\n\u001b[0;32m   1385\u001b[0m         \u001b[0mmeta_model\u001b[0m\u001b[1;33m=\u001b[0m\u001b[0mmeta_model\u001b[0m\u001b[1;33m,\u001b[0m\u001b[1;33m\u001b[0m\u001b[1;33m\u001b[0m\u001b[0m\n",
      "\u001b[1;32m~\\AppData\\Roaming\\Python\\Python38\\site-packages\\pycaret\\internal\\tabular.py\u001b[0m in \u001b[0;36mstack_models\u001b[1;34m(estimator_list, meta_model, fold, round, method, restack, choose_better, optimize, fit_kwargs, groups, verbose, display)\u001b[0m\n\u001b[0;32m   5558\u001b[0m \u001b[1;33m\u001b[0m\u001b[0m\n\u001b[0;32m   5559\u001b[0m     \u001b[0mlogger\u001b[0m\u001b[1;33m.\u001b[0m\u001b[0minfo\u001b[0m\u001b[1;33m(\u001b[0m\u001b[1;34m\"SubProcess create_model() called ==================================\"\u001b[0m\u001b[1;33m)\u001b[0m\u001b[1;33m\u001b[0m\u001b[1;33m\u001b[0m\u001b[0m\n\u001b[1;32m-> 5560\u001b[1;33m     model, model_fit_time = create_model_supervised(\n\u001b[0m\u001b[0;32m   5561\u001b[0m         \u001b[0mestimator\u001b[0m\u001b[1;33m=\u001b[0m\u001b[0mmodel\u001b[0m\u001b[1;33m,\u001b[0m\u001b[1;33m\u001b[0m\u001b[1;33m\u001b[0m\u001b[0m\n\u001b[0;32m   5562\u001b[0m         \u001b[0msystem\u001b[0m\u001b[1;33m=\u001b[0m\u001b[1;32mFalse\u001b[0m\u001b[1;33m,\u001b[0m\u001b[1;33m\u001b[0m\u001b[1;33m\u001b[0m\u001b[0m\n",
      "\u001b[1;32m~\\AppData\\Roaming\\Python\\Python38\\site-packages\\pycaret\\internal\\tabular.py\u001b[0m in \u001b[0;36mcreate_model_supervised\u001b[1;34m(estimator, fold, round, cross_validation, predict, fit_kwargs, groups, refit, verbose, system, X_train_data, y_train_data, metrics, display, **kwargs)\u001b[0m\n\u001b[0;32m   3110\u001b[0m \u001b[1;33m\u001b[0m\u001b[0m\n\u001b[0;32m   3111\u001b[0m         \u001b[0mmodel_fit_start\u001b[0m \u001b[1;33m=\u001b[0m \u001b[0mtime\u001b[0m\u001b[1;33m.\u001b[0m\u001b[0mtime\u001b[0m\u001b[1;33m(\u001b[0m\u001b[1;33m)\u001b[0m\u001b[1;33m\u001b[0m\u001b[1;33m\u001b[0m\u001b[0m\n\u001b[1;32m-> 3112\u001b[1;33m         scores = cross_validate(\n\u001b[0m\u001b[0;32m   3113\u001b[0m             \u001b[0mpipeline_with_model\u001b[0m\u001b[1;33m,\u001b[0m\u001b[1;33m\u001b[0m\u001b[1;33m\u001b[0m\u001b[0m\n\u001b[0;32m   3114\u001b[0m             \u001b[0mdata_X\u001b[0m\u001b[1;33m,\u001b[0m\u001b[1;33m\u001b[0m\u001b[1;33m\u001b[0m\u001b[0m\n",
      "\u001b[1;32m~\\anaconda3\\lib\\site-packages\\sklearn\\utils\\validation.py\u001b[0m in \u001b[0;36minner_f\u001b[1;34m(*args, **kwargs)\u001b[0m\n\u001b[0;32m     70\u001b[0m                           FutureWarning)\n\u001b[0;32m     71\u001b[0m         \u001b[0mkwargs\u001b[0m\u001b[1;33m.\u001b[0m\u001b[0mupdate\u001b[0m\u001b[1;33m(\u001b[0m\u001b[1;33m{\u001b[0m\u001b[0mk\u001b[0m\u001b[1;33m:\u001b[0m \u001b[0marg\u001b[0m \u001b[1;32mfor\u001b[0m \u001b[0mk\u001b[0m\u001b[1;33m,\u001b[0m \u001b[0marg\u001b[0m \u001b[1;32min\u001b[0m \u001b[0mzip\u001b[0m\u001b[1;33m(\u001b[0m\u001b[0msig\u001b[0m\u001b[1;33m.\u001b[0m\u001b[0mparameters\u001b[0m\u001b[1;33m,\u001b[0m \u001b[0margs\u001b[0m\u001b[1;33m)\u001b[0m\u001b[1;33m}\u001b[0m\u001b[1;33m)\u001b[0m\u001b[1;33m\u001b[0m\u001b[1;33m\u001b[0m\u001b[0m\n\u001b[1;32m---> 72\u001b[1;33m         \u001b[1;32mreturn\u001b[0m \u001b[0mf\u001b[0m\u001b[1;33m(\u001b[0m\u001b[1;33m**\u001b[0m\u001b[0mkwargs\u001b[0m\u001b[1;33m)\u001b[0m\u001b[1;33m\u001b[0m\u001b[1;33m\u001b[0m\u001b[0m\n\u001b[0m\u001b[0;32m     73\u001b[0m     \u001b[1;32mreturn\u001b[0m \u001b[0minner_f\u001b[0m\u001b[1;33m\u001b[0m\u001b[1;33m\u001b[0m\u001b[0m\n\u001b[0;32m     74\u001b[0m \u001b[1;33m\u001b[0m\u001b[0m\n",
      "\u001b[1;32m~\\anaconda3\\lib\\site-packages\\sklearn\\model_selection\\_validation.py\u001b[0m in \u001b[0;36mcross_validate\u001b[1;34m(estimator, X, y, groups, scoring, cv, n_jobs, verbose, fit_params, pre_dispatch, return_train_score, return_estimator, error_score)\u001b[0m\n\u001b[0;32m    240\u001b[0m     parallel = Parallel(n_jobs=n_jobs, verbose=verbose,\n\u001b[0;32m    241\u001b[0m                         pre_dispatch=pre_dispatch)\n\u001b[1;32m--> 242\u001b[1;33m     scores = parallel(\n\u001b[0m\u001b[0;32m    243\u001b[0m         delayed(_fit_and_score)(\n\u001b[0;32m    244\u001b[0m             \u001b[0mclone\u001b[0m\u001b[1;33m(\u001b[0m\u001b[0mestimator\u001b[0m\u001b[1;33m)\u001b[0m\u001b[1;33m,\u001b[0m \u001b[0mX\u001b[0m\u001b[1;33m,\u001b[0m \u001b[0my\u001b[0m\u001b[1;33m,\u001b[0m \u001b[0mscorers\u001b[0m\u001b[1;33m,\u001b[0m \u001b[0mtrain\u001b[0m\u001b[1;33m,\u001b[0m \u001b[0mtest\u001b[0m\u001b[1;33m,\u001b[0m \u001b[0mverbose\u001b[0m\u001b[1;33m,\u001b[0m \u001b[1;32mNone\u001b[0m\u001b[1;33m,\u001b[0m\u001b[1;33m\u001b[0m\u001b[1;33m\u001b[0m\u001b[0m\n",
      "\u001b[1;32m~\\anaconda3\\lib\\site-packages\\joblib\\parallel.py\u001b[0m in \u001b[0;36m__call__\u001b[1;34m(self, iterable)\u001b[0m\n\u001b[0;32m   1049\u001b[0m                 \u001b[0mself\u001b[0m\u001b[1;33m.\u001b[0m\u001b[0m_iterating\u001b[0m \u001b[1;33m=\u001b[0m \u001b[0mself\u001b[0m\u001b[1;33m.\u001b[0m\u001b[0m_original_iterator\u001b[0m \u001b[1;32mis\u001b[0m \u001b[1;32mnot\u001b[0m \u001b[1;32mNone\u001b[0m\u001b[1;33m\u001b[0m\u001b[1;33m\u001b[0m\u001b[0m\n\u001b[0;32m   1050\u001b[0m \u001b[1;33m\u001b[0m\u001b[0m\n\u001b[1;32m-> 1051\u001b[1;33m             \u001b[1;32mwhile\u001b[0m \u001b[0mself\u001b[0m\u001b[1;33m.\u001b[0m\u001b[0mdispatch_one_batch\u001b[0m\u001b[1;33m(\u001b[0m\u001b[0miterator\u001b[0m\u001b[1;33m)\u001b[0m\u001b[1;33m:\u001b[0m\u001b[1;33m\u001b[0m\u001b[1;33m\u001b[0m\u001b[0m\n\u001b[0m\u001b[0;32m   1052\u001b[0m                 \u001b[1;32mpass\u001b[0m\u001b[1;33m\u001b[0m\u001b[1;33m\u001b[0m\u001b[0m\n\u001b[0;32m   1053\u001b[0m \u001b[1;33m\u001b[0m\u001b[0m\n",
      "\u001b[1;32m~\\anaconda3\\lib\\site-packages\\joblib\\parallel.py\u001b[0m in \u001b[0;36mdispatch_one_batch\u001b[1;34m(self, iterator)\u001b[0m\n\u001b[0;32m    864\u001b[0m                 \u001b[1;32mreturn\u001b[0m \u001b[1;32mFalse\u001b[0m\u001b[1;33m\u001b[0m\u001b[1;33m\u001b[0m\u001b[0m\n\u001b[0;32m    865\u001b[0m             \u001b[1;32melse\u001b[0m\u001b[1;33m:\u001b[0m\u001b[1;33m\u001b[0m\u001b[1;33m\u001b[0m\u001b[0m\n\u001b[1;32m--> 866\u001b[1;33m                 \u001b[0mself\u001b[0m\u001b[1;33m.\u001b[0m\u001b[0m_dispatch\u001b[0m\u001b[1;33m(\u001b[0m\u001b[0mtasks\u001b[0m\u001b[1;33m)\u001b[0m\u001b[1;33m\u001b[0m\u001b[1;33m\u001b[0m\u001b[0m\n\u001b[0m\u001b[0;32m    867\u001b[0m                 \u001b[1;32mreturn\u001b[0m \u001b[1;32mTrue\u001b[0m\u001b[1;33m\u001b[0m\u001b[1;33m\u001b[0m\u001b[0m\n\u001b[0;32m    868\u001b[0m \u001b[1;33m\u001b[0m\u001b[0m\n",
      "\u001b[1;32m~\\anaconda3\\lib\\site-packages\\joblib\\parallel.py\u001b[0m in \u001b[0;36m_dispatch\u001b[1;34m(self, batch)\u001b[0m\n\u001b[0;32m    782\u001b[0m         \u001b[1;32mwith\u001b[0m \u001b[0mself\u001b[0m\u001b[1;33m.\u001b[0m\u001b[0m_lock\u001b[0m\u001b[1;33m:\u001b[0m\u001b[1;33m\u001b[0m\u001b[1;33m\u001b[0m\u001b[0m\n\u001b[0;32m    783\u001b[0m             \u001b[0mjob_idx\u001b[0m \u001b[1;33m=\u001b[0m \u001b[0mlen\u001b[0m\u001b[1;33m(\u001b[0m\u001b[0mself\u001b[0m\u001b[1;33m.\u001b[0m\u001b[0m_jobs\u001b[0m\u001b[1;33m)\u001b[0m\u001b[1;33m\u001b[0m\u001b[1;33m\u001b[0m\u001b[0m\n\u001b[1;32m--> 784\u001b[1;33m             \u001b[0mjob\u001b[0m \u001b[1;33m=\u001b[0m \u001b[0mself\u001b[0m\u001b[1;33m.\u001b[0m\u001b[0m_backend\u001b[0m\u001b[1;33m.\u001b[0m\u001b[0mapply_async\u001b[0m\u001b[1;33m(\u001b[0m\u001b[0mbatch\u001b[0m\u001b[1;33m,\u001b[0m \u001b[0mcallback\u001b[0m\u001b[1;33m=\u001b[0m\u001b[0mcb\u001b[0m\u001b[1;33m)\u001b[0m\u001b[1;33m\u001b[0m\u001b[1;33m\u001b[0m\u001b[0m\n\u001b[0m\u001b[0;32m    785\u001b[0m             \u001b[1;31m# A job can complete so quickly than its callback is\u001b[0m\u001b[1;33m\u001b[0m\u001b[1;33m\u001b[0m\u001b[1;33m\u001b[0m\u001b[0m\n\u001b[0;32m    786\u001b[0m             \u001b[1;31m# called before we get here, causing self._jobs to\u001b[0m\u001b[1;33m\u001b[0m\u001b[1;33m\u001b[0m\u001b[1;33m\u001b[0m\u001b[0m\n",
      "\u001b[1;32m~\\anaconda3\\lib\\site-packages\\joblib\\_parallel_backends.py\u001b[0m in \u001b[0;36mapply_async\u001b[1;34m(self, func, callback)\u001b[0m\n\u001b[0;32m    206\u001b[0m     \u001b[1;32mdef\u001b[0m \u001b[0mapply_async\u001b[0m\u001b[1;33m(\u001b[0m\u001b[0mself\u001b[0m\u001b[1;33m,\u001b[0m \u001b[0mfunc\u001b[0m\u001b[1;33m,\u001b[0m \u001b[0mcallback\u001b[0m\u001b[1;33m=\u001b[0m\u001b[1;32mNone\u001b[0m\u001b[1;33m)\u001b[0m\u001b[1;33m:\u001b[0m\u001b[1;33m\u001b[0m\u001b[1;33m\u001b[0m\u001b[0m\n\u001b[0;32m    207\u001b[0m         \u001b[1;34m\"\"\"Schedule a func to be run\"\"\"\u001b[0m\u001b[1;33m\u001b[0m\u001b[1;33m\u001b[0m\u001b[0m\n\u001b[1;32m--> 208\u001b[1;33m         \u001b[0mresult\u001b[0m \u001b[1;33m=\u001b[0m \u001b[0mImmediateResult\u001b[0m\u001b[1;33m(\u001b[0m\u001b[0mfunc\u001b[0m\u001b[1;33m)\u001b[0m\u001b[1;33m\u001b[0m\u001b[1;33m\u001b[0m\u001b[0m\n\u001b[0m\u001b[0;32m    209\u001b[0m         \u001b[1;32mif\u001b[0m \u001b[0mcallback\u001b[0m\u001b[1;33m:\u001b[0m\u001b[1;33m\u001b[0m\u001b[1;33m\u001b[0m\u001b[0m\n\u001b[0;32m    210\u001b[0m             \u001b[0mcallback\u001b[0m\u001b[1;33m(\u001b[0m\u001b[0mresult\u001b[0m\u001b[1;33m)\u001b[0m\u001b[1;33m\u001b[0m\u001b[1;33m\u001b[0m\u001b[0m\n",
      "\u001b[1;32m~\\anaconda3\\lib\\site-packages\\joblib\\_parallel_backends.py\u001b[0m in \u001b[0;36m__init__\u001b[1;34m(self, batch)\u001b[0m\n\u001b[0;32m    570\u001b[0m         \u001b[1;31m# Don't delay the application, to avoid keeping the input\u001b[0m\u001b[1;33m\u001b[0m\u001b[1;33m\u001b[0m\u001b[1;33m\u001b[0m\u001b[0m\n\u001b[0;32m    571\u001b[0m         \u001b[1;31m# arguments in memory\u001b[0m\u001b[1;33m\u001b[0m\u001b[1;33m\u001b[0m\u001b[1;33m\u001b[0m\u001b[0m\n\u001b[1;32m--> 572\u001b[1;33m         \u001b[0mself\u001b[0m\u001b[1;33m.\u001b[0m\u001b[0mresults\u001b[0m \u001b[1;33m=\u001b[0m \u001b[0mbatch\u001b[0m\u001b[1;33m(\u001b[0m\u001b[1;33m)\u001b[0m\u001b[1;33m\u001b[0m\u001b[1;33m\u001b[0m\u001b[0m\n\u001b[0m\u001b[0;32m    573\u001b[0m \u001b[1;33m\u001b[0m\u001b[0m\n\u001b[0;32m    574\u001b[0m     \u001b[1;32mdef\u001b[0m \u001b[0mget\u001b[0m\u001b[1;33m(\u001b[0m\u001b[0mself\u001b[0m\u001b[1;33m)\u001b[0m\u001b[1;33m:\u001b[0m\u001b[1;33m\u001b[0m\u001b[1;33m\u001b[0m\u001b[0m\n",
      "\u001b[1;32m~\\anaconda3\\lib\\site-packages\\joblib\\parallel.py\u001b[0m in \u001b[0;36m__call__\u001b[1;34m(self)\u001b[0m\n\u001b[0;32m    260\u001b[0m         \u001b[1;31m# change the default number of processes to -1\u001b[0m\u001b[1;33m\u001b[0m\u001b[1;33m\u001b[0m\u001b[1;33m\u001b[0m\u001b[0m\n\u001b[0;32m    261\u001b[0m         \u001b[1;32mwith\u001b[0m \u001b[0mparallel_backend\u001b[0m\u001b[1;33m(\u001b[0m\u001b[0mself\u001b[0m\u001b[1;33m.\u001b[0m\u001b[0m_backend\u001b[0m\u001b[1;33m,\u001b[0m \u001b[0mn_jobs\u001b[0m\u001b[1;33m=\u001b[0m\u001b[0mself\u001b[0m\u001b[1;33m.\u001b[0m\u001b[0m_n_jobs\u001b[0m\u001b[1;33m)\u001b[0m\u001b[1;33m:\u001b[0m\u001b[1;33m\u001b[0m\u001b[1;33m\u001b[0m\u001b[0m\n\u001b[1;32m--> 262\u001b[1;33m             return [func(*args, **kwargs)\n\u001b[0m\u001b[0;32m    263\u001b[0m                     for func, args, kwargs in self.items]\n\u001b[0;32m    264\u001b[0m \u001b[1;33m\u001b[0m\u001b[0m\n",
      "\u001b[1;32m~\\anaconda3\\lib\\site-packages\\joblib\\parallel.py\u001b[0m in \u001b[0;36m<listcomp>\u001b[1;34m(.0)\u001b[0m\n\u001b[0;32m    260\u001b[0m         \u001b[1;31m# change the default number of processes to -1\u001b[0m\u001b[1;33m\u001b[0m\u001b[1;33m\u001b[0m\u001b[1;33m\u001b[0m\u001b[0m\n\u001b[0;32m    261\u001b[0m         \u001b[1;32mwith\u001b[0m \u001b[0mparallel_backend\u001b[0m\u001b[1;33m(\u001b[0m\u001b[0mself\u001b[0m\u001b[1;33m.\u001b[0m\u001b[0m_backend\u001b[0m\u001b[1;33m,\u001b[0m \u001b[0mn_jobs\u001b[0m\u001b[1;33m=\u001b[0m\u001b[0mself\u001b[0m\u001b[1;33m.\u001b[0m\u001b[0m_n_jobs\u001b[0m\u001b[1;33m)\u001b[0m\u001b[1;33m:\u001b[0m\u001b[1;33m\u001b[0m\u001b[1;33m\u001b[0m\u001b[0m\n\u001b[1;32m--> 262\u001b[1;33m             return [func(*args, **kwargs)\n\u001b[0m\u001b[0;32m    263\u001b[0m                     for func, args, kwargs in self.items]\n\u001b[0;32m    264\u001b[0m \u001b[1;33m\u001b[0m\u001b[0m\n",
      "\u001b[1;32m~\\anaconda3\\lib\\site-packages\\sklearn\\model_selection\\_validation.py\u001b[0m in \u001b[0;36m_fit_and_score\u001b[1;34m(estimator, X, y, scorer, train, test, verbose, parameters, fit_params, return_train_score, return_parameters, return_n_test_samples, return_times, return_estimator, error_score)\u001b[0m\n\u001b[0;32m    529\u001b[0m             \u001b[0mestimator\u001b[0m\u001b[1;33m.\u001b[0m\u001b[0mfit\u001b[0m\u001b[1;33m(\u001b[0m\u001b[0mX_train\u001b[0m\u001b[1;33m,\u001b[0m \u001b[1;33m**\u001b[0m\u001b[0mfit_params\u001b[0m\u001b[1;33m)\u001b[0m\u001b[1;33m\u001b[0m\u001b[1;33m\u001b[0m\u001b[0m\n\u001b[0;32m    530\u001b[0m         \u001b[1;32melse\u001b[0m\u001b[1;33m:\u001b[0m\u001b[1;33m\u001b[0m\u001b[1;33m\u001b[0m\u001b[0m\n\u001b[1;32m--> 531\u001b[1;33m             \u001b[0mestimator\u001b[0m\u001b[1;33m.\u001b[0m\u001b[0mfit\u001b[0m\u001b[1;33m(\u001b[0m\u001b[0mX_train\u001b[0m\u001b[1;33m,\u001b[0m \u001b[0my_train\u001b[0m\u001b[1;33m,\u001b[0m \u001b[1;33m**\u001b[0m\u001b[0mfit_params\u001b[0m\u001b[1;33m)\u001b[0m\u001b[1;33m\u001b[0m\u001b[1;33m\u001b[0m\u001b[0m\n\u001b[0m\u001b[0;32m    532\u001b[0m \u001b[1;33m\u001b[0m\u001b[0m\n\u001b[0;32m    533\u001b[0m     \u001b[1;32mexcept\u001b[0m \u001b[0mException\u001b[0m \u001b[1;32mas\u001b[0m \u001b[0me\u001b[0m\u001b[1;33m:\u001b[0m\u001b[1;33m\u001b[0m\u001b[1;33m\u001b[0m\u001b[0m\n",
      "\u001b[1;32m~\\AppData\\Roaming\\Python\\Python38\\site-packages\\pycaret\\internal\\pipeline.py\u001b[0m in \u001b[0;36mfit\u001b[1;34m(self, X, y, **fit_kwargs)\u001b[0m\n\u001b[0;32m    116\u001b[0m \u001b[1;33m\u001b[0m\u001b[0m\n\u001b[0;32m    117\u001b[0m     \u001b[1;32mdef\u001b[0m \u001b[0mfit\u001b[0m\u001b[1;33m(\u001b[0m\u001b[0mself\u001b[0m\u001b[1;33m,\u001b[0m \u001b[0mX\u001b[0m\u001b[1;33m,\u001b[0m \u001b[0my\u001b[0m\u001b[1;33m=\u001b[0m\u001b[1;32mNone\u001b[0m\u001b[1;33m,\u001b[0m \u001b[1;33m**\u001b[0m\u001b[0mfit_kwargs\u001b[0m\u001b[1;33m)\u001b[0m\u001b[1;33m:\u001b[0m\u001b[1;33m\u001b[0m\u001b[1;33m\u001b[0m\u001b[0m\n\u001b[1;32m--> 118\u001b[1;33m         \u001b[0mresult\u001b[0m \u001b[1;33m=\u001b[0m \u001b[0msuper\u001b[0m\u001b[1;33m(\u001b[0m\u001b[1;33m)\u001b[0m\u001b[1;33m.\u001b[0m\u001b[0mfit\u001b[0m\u001b[1;33m(\u001b[0m\u001b[0mX\u001b[0m\u001b[1;33m,\u001b[0m \u001b[0my\u001b[0m\u001b[1;33m=\u001b[0m\u001b[0my\u001b[0m\u001b[1;33m,\u001b[0m \u001b[1;33m**\u001b[0m\u001b[0mfit_kwargs\u001b[0m\u001b[1;33m)\u001b[0m\u001b[1;33m\u001b[0m\u001b[1;33m\u001b[0m\u001b[0m\n\u001b[0m\u001b[0;32m    119\u001b[0m \u001b[1;33m\u001b[0m\u001b[0m\n\u001b[0;32m    120\u001b[0m         \u001b[0mself\u001b[0m\u001b[1;33m.\u001b[0m\u001b[0m_carry_over_final_estimator_fit_vars\u001b[0m\u001b[1;33m(\u001b[0m\u001b[1;33m)\u001b[0m\u001b[1;33m\u001b[0m\u001b[1;33m\u001b[0m\u001b[0m\n",
      "\u001b[1;32m~\\AppData\\Roaming\\Python\\Python38\\site-packages\\imblearn\\pipeline.py\u001b[0m in \u001b[0;36mfit\u001b[1;34m(self, X, y, **fit_params)\u001b[0m\n\u001b[0;32m    264\u001b[0m             \u001b[1;32mif\u001b[0m \u001b[0mself\u001b[0m\u001b[1;33m.\u001b[0m\u001b[0m_final_estimator\u001b[0m \u001b[1;33m!=\u001b[0m \u001b[1;34m\"passthrough\"\u001b[0m\u001b[1;33m:\u001b[0m\u001b[1;33m\u001b[0m\u001b[1;33m\u001b[0m\u001b[0m\n\u001b[0;32m    265\u001b[0m                 \u001b[0mfit_params_last_step\u001b[0m \u001b[1;33m=\u001b[0m \u001b[0mfit_params_steps\u001b[0m\u001b[1;33m[\u001b[0m\u001b[0mself\u001b[0m\u001b[1;33m.\u001b[0m\u001b[0msteps\u001b[0m\u001b[1;33m[\u001b[0m\u001b[1;33m-\u001b[0m\u001b[1;36m1\u001b[0m\u001b[1;33m]\u001b[0m\u001b[1;33m[\u001b[0m\u001b[1;36m0\u001b[0m\u001b[1;33m]\u001b[0m\u001b[1;33m]\u001b[0m\u001b[1;33m\u001b[0m\u001b[1;33m\u001b[0m\u001b[0m\n\u001b[1;32m--> 266\u001b[1;33m                 \u001b[0mself\u001b[0m\u001b[1;33m.\u001b[0m\u001b[0m_final_estimator\u001b[0m\u001b[1;33m.\u001b[0m\u001b[0mfit\u001b[0m\u001b[1;33m(\u001b[0m\u001b[0mXt\u001b[0m\u001b[1;33m,\u001b[0m \u001b[0myt\u001b[0m\u001b[1;33m,\u001b[0m \u001b[1;33m**\u001b[0m\u001b[0mfit_params_last_step\u001b[0m\u001b[1;33m)\u001b[0m\u001b[1;33m\u001b[0m\u001b[1;33m\u001b[0m\u001b[0m\n\u001b[0m\u001b[0;32m    267\u001b[0m         \u001b[1;32mreturn\u001b[0m \u001b[0mself\u001b[0m\u001b[1;33m\u001b[0m\u001b[1;33m\u001b[0m\u001b[0m\n\u001b[0;32m    268\u001b[0m \u001b[1;33m\u001b[0m\u001b[0m\n",
      "\u001b[1;32m~\\AppData\\Roaming\\Python\\Python38\\site-packages\\pycaret\\internal\\meta_estimators.py\u001b[0m in \u001b[0;36mfit\u001b[1;34m(self, X, y, **fit_params)\u001b[0m\n\u001b[0;32m     80\u001b[0m         \u001b[0my\u001b[0m \u001b[1;33m=\u001b[0m \u001b[0my\u001b[0m\u001b[1;33m.\u001b[0m\u001b[0mastype\u001b[0m\u001b[1;33m(\u001b[0m\u001b[1;34m'float64'\u001b[0m\u001b[1;33m)\u001b[0m\u001b[1;33m\u001b[0m\u001b[1;33m\u001b[0m\u001b[0m\n\u001b[0;32m     81\u001b[0m \u001b[1;33m\u001b[0m\u001b[0m\n\u001b[1;32m---> 82\u001b[1;33m         \u001b[0mr\u001b[0m \u001b[1;33m=\u001b[0m \u001b[0msuper\u001b[0m\u001b[1;33m(\u001b[0m\u001b[1;33m)\u001b[0m\u001b[1;33m.\u001b[0m\u001b[0mfit\u001b[0m\u001b[1;33m(\u001b[0m\u001b[0mX\u001b[0m\u001b[1;33m,\u001b[0m \u001b[0my\u001b[0m\u001b[1;33m,\u001b[0m \u001b[1;33m**\u001b[0m\u001b[0mfit_params\u001b[0m\u001b[1;33m)\u001b[0m\u001b[1;33m\u001b[0m\u001b[1;33m\u001b[0m\u001b[0m\n\u001b[0m\u001b[0;32m     83\u001b[0m         \u001b[0mself\u001b[0m\u001b[1;33m.\u001b[0m\u001b[0m_carry_over_regressor_fit_vars\u001b[0m\u001b[1;33m(\u001b[0m\u001b[1;33m)\u001b[0m\u001b[1;33m\u001b[0m\u001b[1;33m\u001b[0m\u001b[0m\n\u001b[0;32m     84\u001b[0m         \u001b[1;32mreturn\u001b[0m \u001b[0mr\u001b[0m\u001b[1;33m\u001b[0m\u001b[1;33m\u001b[0m\u001b[0m\n",
      "\u001b[1;32m~\\anaconda3\\lib\\site-packages\\sklearn\\compose\\_target.py\u001b[0m in \u001b[0;36mfit\u001b[1;34m(self, X, y, **fit_params)\u001b[0m\n\u001b[0;32m    205\u001b[0m             \u001b[0mself\u001b[0m\u001b[1;33m.\u001b[0m\u001b[0mregressor_\u001b[0m \u001b[1;33m=\u001b[0m \u001b[0mclone\u001b[0m\u001b[1;33m(\u001b[0m\u001b[0mself\u001b[0m\u001b[1;33m.\u001b[0m\u001b[0mregressor\u001b[0m\u001b[1;33m)\u001b[0m\u001b[1;33m\u001b[0m\u001b[1;33m\u001b[0m\u001b[0m\n\u001b[0;32m    206\u001b[0m \u001b[1;33m\u001b[0m\u001b[0m\n\u001b[1;32m--> 207\u001b[1;33m         \u001b[0mself\u001b[0m\u001b[1;33m.\u001b[0m\u001b[0mregressor_\u001b[0m\u001b[1;33m.\u001b[0m\u001b[0mfit\u001b[0m\u001b[1;33m(\u001b[0m\u001b[0mX\u001b[0m\u001b[1;33m,\u001b[0m \u001b[0my_trans\u001b[0m\u001b[1;33m,\u001b[0m \u001b[1;33m**\u001b[0m\u001b[0mfit_params\u001b[0m\u001b[1;33m)\u001b[0m\u001b[1;33m\u001b[0m\u001b[1;33m\u001b[0m\u001b[0m\n\u001b[0m\u001b[0;32m    208\u001b[0m \u001b[1;33m\u001b[0m\u001b[0m\n\u001b[0;32m    209\u001b[0m         \u001b[1;32mreturn\u001b[0m \u001b[0mself\u001b[0m\u001b[1;33m\u001b[0m\u001b[1;33m\u001b[0m\u001b[0m\n",
      "\u001b[1;32m~\\anaconda3\\lib\\site-packages\\sklearn\\ensemble\\_stacking.py\u001b[0m in \u001b[0;36mfit\u001b[1;34m(self, X, y, sample_weight)\u001b[0m\n\u001b[0;32m    678\u001b[0m         \"\"\"\n\u001b[0;32m    679\u001b[0m         \u001b[0my\u001b[0m \u001b[1;33m=\u001b[0m \u001b[0mcolumn_or_1d\u001b[0m\u001b[1;33m(\u001b[0m\u001b[0my\u001b[0m\u001b[1;33m,\u001b[0m \u001b[0mwarn\u001b[0m\u001b[1;33m=\u001b[0m\u001b[1;32mTrue\u001b[0m\u001b[1;33m)\u001b[0m\u001b[1;33m\u001b[0m\u001b[1;33m\u001b[0m\u001b[0m\n\u001b[1;32m--> 680\u001b[1;33m         \u001b[1;32mreturn\u001b[0m \u001b[0msuper\u001b[0m\u001b[1;33m(\u001b[0m\u001b[1;33m)\u001b[0m\u001b[1;33m.\u001b[0m\u001b[0mfit\u001b[0m\u001b[1;33m(\u001b[0m\u001b[0mX\u001b[0m\u001b[1;33m,\u001b[0m \u001b[0my\u001b[0m\u001b[1;33m,\u001b[0m \u001b[0msample_weight\u001b[0m\u001b[1;33m)\u001b[0m\u001b[1;33m\u001b[0m\u001b[1;33m\u001b[0m\u001b[0m\n\u001b[0m\u001b[0;32m    681\u001b[0m \u001b[1;33m\u001b[0m\u001b[0m\n\u001b[0;32m    682\u001b[0m     \u001b[1;32mdef\u001b[0m \u001b[0mtransform\u001b[0m\u001b[1;33m(\u001b[0m\u001b[0mself\u001b[0m\u001b[1;33m,\u001b[0m \u001b[0mX\u001b[0m\u001b[1;33m)\u001b[0m\u001b[1;33m:\u001b[0m\u001b[1;33m\u001b[0m\u001b[1;33m\u001b[0m\u001b[0m\n",
      "\u001b[1;32m~\\anaconda3\\lib\\site-packages\\sklearn\\ensemble\\_stacking.py\u001b[0m in \u001b[0;36mfit\u001b[1;34m(self, X, y, sample_weight)\u001b[0m\n\u001b[0;32m    176\u001b[0m                       \u001b[1;32mif\u001b[0m \u001b[0msample_weight\u001b[0m \u001b[1;32mis\u001b[0m \u001b[1;32mnot\u001b[0m \u001b[1;32mNone\u001b[0m\u001b[1;33m\u001b[0m\u001b[1;33m\u001b[0m\u001b[0m\n\u001b[0;32m    177\u001b[0m                       else None)\n\u001b[1;32m--> 178\u001b[1;33m         predictions = Parallel(n_jobs=self.n_jobs)(\n\u001b[0m\u001b[0;32m    179\u001b[0m             delayed(cross_val_predict)(clone(est), X, y, cv=deepcopy(cv),\n\u001b[0;32m    180\u001b[0m                                        \u001b[0mmethod\u001b[0m\u001b[1;33m=\u001b[0m\u001b[0mmeth\u001b[0m\u001b[1;33m,\u001b[0m \u001b[0mn_jobs\u001b[0m\u001b[1;33m=\u001b[0m\u001b[0mself\u001b[0m\u001b[1;33m.\u001b[0m\u001b[0mn_jobs\u001b[0m\u001b[1;33m,\u001b[0m\u001b[1;33m\u001b[0m\u001b[1;33m\u001b[0m\u001b[0m\n",
      "\u001b[1;32m~\\anaconda3\\lib\\site-packages\\joblib\\parallel.py\u001b[0m in \u001b[0;36m__call__\u001b[1;34m(self, iterable)\u001b[0m\n\u001b[0;32m   1049\u001b[0m                 \u001b[0mself\u001b[0m\u001b[1;33m.\u001b[0m\u001b[0m_iterating\u001b[0m \u001b[1;33m=\u001b[0m \u001b[0mself\u001b[0m\u001b[1;33m.\u001b[0m\u001b[0m_original_iterator\u001b[0m \u001b[1;32mis\u001b[0m \u001b[1;32mnot\u001b[0m \u001b[1;32mNone\u001b[0m\u001b[1;33m\u001b[0m\u001b[1;33m\u001b[0m\u001b[0m\n\u001b[0;32m   1050\u001b[0m \u001b[1;33m\u001b[0m\u001b[0m\n\u001b[1;32m-> 1051\u001b[1;33m             \u001b[1;32mwhile\u001b[0m \u001b[0mself\u001b[0m\u001b[1;33m.\u001b[0m\u001b[0mdispatch_one_batch\u001b[0m\u001b[1;33m(\u001b[0m\u001b[0miterator\u001b[0m\u001b[1;33m)\u001b[0m\u001b[1;33m:\u001b[0m\u001b[1;33m\u001b[0m\u001b[1;33m\u001b[0m\u001b[0m\n\u001b[0m\u001b[0;32m   1052\u001b[0m                 \u001b[1;32mpass\u001b[0m\u001b[1;33m\u001b[0m\u001b[1;33m\u001b[0m\u001b[0m\n\u001b[0;32m   1053\u001b[0m \u001b[1;33m\u001b[0m\u001b[0m\n",
      "\u001b[1;32m~\\anaconda3\\lib\\site-packages\\joblib\\parallel.py\u001b[0m in \u001b[0;36mdispatch_one_batch\u001b[1;34m(self, iterator)\u001b[0m\n\u001b[0;32m    864\u001b[0m                 \u001b[1;32mreturn\u001b[0m \u001b[1;32mFalse\u001b[0m\u001b[1;33m\u001b[0m\u001b[1;33m\u001b[0m\u001b[0m\n\u001b[0;32m    865\u001b[0m             \u001b[1;32melse\u001b[0m\u001b[1;33m:\u001b[0m\u001b[1;33m\u001b[0m\u001b[1;33m\u001b[0m\u001b[0m\n\u001b[1;32m--> 866\u001b[1;33m                 \u001b[0mself\u001b[0m\u001b[1;33m.\u001b[0m\u001b[0m_dispatch\u001b[0m\u001b[1;33m(\u001b[0m\u001b[0mtasks\u001b[0m\u001b[1;33m)\u001b[0m\u001b[1;33m\u001b[0m\u001b[1;33m\u001b[0m\u001b[0m\n\u001b[0m\u001b[0;32m    867\u001b[0m                 \u001b[1;32mreturn\u001b[0m \u001b[1;32mTrue\u001b[0m\u001b[1;33m\u001b[0m\u001b[1;33m\u001b[0m\u001b[0m\n\u001b[0;32m    868\u001b[0m \u001b[1;33m\u001b[0m\u001b[0m\n",
      "\u001b[1;32m~\\anaconda3\\lib\\site-packages\\joblib\\parallel.py\u001b[0m in \u001b[0;36m_dispatch\u001b[1;34m(self, batch)\u001b[0m\n\u001b[0;32m    782\u001b[0m         \u001b[1;32mwith\u001b[0m \u001b[0mself\u001b[0m\u001b[1;33m.\u001b[0m\u001b[0m_lock\u001b[0m\u001b[1;33m:\u001b[0m\u001b[1;33m\u001b[0m\u001b[1;33m\u001b[0m\u001b[0m\n\u001b[0;32m    783\u001b[0m             \u001b[0mjob_idx\u001b[0m \u001b[1;33m=\u001b[0m \u001b[0mlen\u001b[0m\u001b[1;33m(\u001b[0m\u001b[0mself\u001b[0m\u001b[1;33m.\u001b[0m\u001b[0m_jobs\u001b[0m\u001b[1;33m)\u001b[0m\u001b[1;33m\u001b[0m\u001b[1;33m\u001b[0m\u001b[0m\n\u001b[1;32m--> 784\u001b[1;33m             \u001b[0mjob\u001b[0m \u001b[1;33m=\u001b[0m \u001b[0mself\u001b[0m\u001b[1;33m.\u001b[0m\u001b[0m_backend\u001b[0m\u001b[1;33m.\u001b[0m\u001b[0mapply_async\u001b[0m\u001b[1;33m(\u001b[0m\u001b[0mbatch\u001b[0m\u001b[1;33m,\u001b[0m \u001b[0mcallback\u001b[0m\u001b[1;33m=\u001b[0m\u001b[0mcb\u001b[0m\u001b[1;33m)\u001b[0m\u001b[1;33m\u001b[0m\u001b[1;33m\u001b[0m\u001b[0m\n\u001b[0m\u001b[0;32m    785\u001b[0m             \u001b[1;31m# A job can complete so quickly than its callback is\u001b[0m\u001b[1;33m\u001b[0m\u001b[1;33m\u001b[0m\u001b[1;33m\u001b[0m\u001b[0m\n\u001b[0;32m    786\u001b[0m             \u001b[1;31m# called before we get here, causing self._jobs to\u001b[0m\u001b[1;33m\u001b[0m\u001b[1;33m\u001b[0m\u001b[1;33m\u001b[0m\u001b[0m\n",
      "\u001b[1;32m~\\anaconda3\\lib\\site-packages\\joblib\\_parallel_backends.py\u001b[0m in \u001b[0;36mapply_async\u001b[1;34m(self, func, callback)\u001b[0m\n\u001b[0;32m    206\u001b[0m     \u001b[1;32mdef\u001b[0m \u001b[0mapply_async\u001b[0m\u001b[1;33m(\u001b[0m\u001b[0mself\u001b[0m\u001b[1;33m,\u001b[0m \u001b[0mfunc\u001b[0m\u001b[1;33m,\u001b[0m \u001b[0mcallback\u001b[0m\u001b[1;33m=\u001b[0m\u001b[1;32mNone\u001b[0m\u001b[1;33m)\u001b[0m\u001b[1;33m:\u001b[0m\u001b[1;33m\u001b[0m\u001b[1;33m\u001b[0m\u001b[0m\n\u001b[0;32m    207\u001b[0m         \u001b[1;34m\"\"\"Schedule a func to be run\"\"\"\u001b[0m\u001b[1;33m\u001b[0m\u001b[1;33m\u001b[0m\u001b[0m\n\u001b[1;32m--> 208\u001b[1;33m         \u001b[0mresult\u001b[0m \u001b[1;33m=\u001b[0m \u001b[0mImmediateResult\u001b[0m\u001b[1;33m(\u001b[0m\u001b[0mfunc\u001b[0m\u001b[1;33m)\u001b[0m\u001b[1;33m\u001b[0m\u001b[1;33m\u001b[0m\u001b[0m\n\u001b[0m\u001b[0;32m    209\u001b[0m         \u001b[1;32mif\u001b[0m \u001b[0mcallback\u001b[0m\u001b[1;33m:\u001b[0m\u001b[1;33m\u001b[0m\u001b[1;33m\u001b[0m\u001b[0m\n\u001b[0;32m    210\u001b[0m             \u001b[0mcallback\u001b[0m\u001b[1;33m(\u001b[0m\u001b[0mresult\u001b[0m\u001b[1;33m)\u001b[0m\u001b[1;33m\u001b[0m\u001b[1;33m\u001b[0m\u001b[0m\n",
      "\u001b[1;32m~\\anaconda3\\lib\\site-packages\\joblib\\_parallel_backends.py\u001b[0m in \u001b[0;36m__init__\u001b[1;34m(self, batch)\u001b[0m\n\u001b[0;32m    570\u001b[0m         \u001b[1;31m# Don't delay the application, to avoid keeping the input\u001b[0m\u001b[1;33m\u001b[0m\u001b[1;33m\u001b[0m\u001b[1;33m\u001b[0m\u001b[0m\n\u001b[0;32m    571\u001b[0m         \u001b[1;31m# arguments in memory\u001b[0m\u001b[1;33m\u001b[0m\u001b[1;33m\u001b[0m\u001b[1;33m\u001b[0m\u001b[0m\n\u001b[1;32m--> 572\u001b[1;33m         \u001b[0mself\u001b[0m\u001b[1;33m.\u001b[0m\u001b[0mresults\u001b[0m \u001b[1;33m=\u001b[0m \u001b[0mbatch\u001b[0m\u001b[1;33m(\u001b[0m\u001b[1;33m)\u001b[0m\u001b[1;33m\u001b[0m\u001b[1;33m\u001b[0m\u001b[0m\n\u001b[0m\u001b[0;32m    573\u001b[0m \u001b[1;33m\u001b[0m\u001b[0m\n\u001b[0;32m    574\u001b[0m     \u001b[1;32mdef\u001b[0m \u001b[0mget\u001b[0m\u001b[1;33m(\u001b[0m\u001b[0mself\u001b[0m\u001b[1;33m)\u001b[0m\u001b[1;33m:\u001b[0m\u001b[1;33m\u001b[0m\u001b[1;33m\u001b[0m\u001b[0m\n",
      "\u001b[1;32m~\\anaconda3\\lib\\site-packages\\joblib\\parallel.py\u001b[0m in \u001b[0;36m__call__\u001b[1;34m(self)\u001b[0m\n\u001b[0;32m    260\u001b[0m         \u001b[1;31m# change the default number of processes to -1\u001b[0m\u001b[1;33m\u001b[0m\u001b[1;33m\u001b[0m\u001b[1;33m\u001b[0m\u001b[0m\n\u001b[0;32m    261\u001b[0m         \u001b[1;32mwith\u001b[0m \u001b[0mparallel_backend\u001b[0m\u001b[1;33m(\u001b[0m\u001b[0mself\u001b[0m\u001b[1;33m.\u001b[0m\u001b[0m_backend\u001b[0m\u001b[1;33m,\u001b[0m \u001b[0mn_jobs\u001b[0m\u001b[1;33m=\u001b[0m\u001b[0mself\u001b[0m\u001b[1;33m.\u001b[0m\u001b[0m_n_jobs\u001b[0m\u001b[1;33m)\u001b[0m\u001b[1;33m:\u001b[0m\u001b[1;33m\u001b[0m\u001b[1;33m\u001b[0m\u001b[0m\n\u001b[1;32m--> 262\u001b[1;33m             return [func(*args, **kwargs)\n\u001b[0m\u001b[0;32m    263\u001b[0m                     for func, args, kwargs in self.items]\n\u001b[0;32m    264\u001b[0m \u001b[1;33m\u001b[0m\u001b[0m\n",
      "\u001b[1;32m~\\anaconda3\\lib\\site-packages\\joblib\\parallel.py\u001b[0m in \u001b[0;36m<listcomp>\u001b[1;34m(.0)\u001b[0m\n\u001b[0;32m    260\u001b[0m         \u001b[1;31m# change the default number of processes to -1\u001b[0m\u001b[1;33m\u001b[0m\u001b[1;33m\u001b[0m\u001b[1;33m\u001b[0m\u001b[0m\n\u001b[0;32m    261\u001b[0m         \u001b[1;32mwith\u001b[0m \u001b[0mparallel_backend\u001b[0m\u001b[1;33m(\u001b[0m\u001b[0mself\u001b[0m\u001b[1;33m.\u001b[0m\u001b[0m_backend\u001b[0m\u001b[1;33m,\u001b[0m \u001b[0mn_jobs\u001b[0m\u001b[1;33m=\u001b[0m\u001b[0mself\u001b[0m\u001b[1;33m.\u001b[0m\u001b[0m_n_jobs\u001b[0m\u001b[1;33m)\u001b[0m\u001b[1;33m:\u001b[0m\u001b[1;33m\u001b[0m\u001b[1;33m\u001b[0m\u001b[0m\n\u001b[1;32m--> 262\u001b[1;33m             return [func(*args, **kwargs)\n\u001b[0m\u001b[0;32m    263\u001b[0m                     for func, args, kwargs in self.items]\n\u001b[0;32m    264\u001b[0m \u001b[1;33m\u001b[0m\u001b[0m\n",
      "\u001b[1;32m~\\anaconda3\\lib\\site-packages\\sklearn\\utils\\validation.py\u001b[0m in \u001b[0;36minner_f\u001b[1;34m(*args, **kwargs)\u001b[0m\n\u001b[0;32m     70\u001b[0m                           FutureWarning)\n\u001b[0;32m     71\u001b[0m         \u001b[0mkwargs\u001b[0m\u001b[1;33m.\u001b[0m\u001b[0mupdate\u001b[0m\u001b[1;33m(\u001b[0m\u001b[1;33m{\u001b[0m\u001b[0mk\u001b[0m\u001b[1;33m:\u001b[0m \u001b[0marg\u001b[0m \u001b[1;32mfor\u001b[0m \u001b[0mk\u001b[0m\u001b[1;33m,\u001b[0m \u001b[0marg\u001b[0m \u001b[1;32min\u001b[0m \u001b[0mzip\u001b[0m\u001b[1;33m(\u001b[0m\u001b[0msig\u001b[0m\u001b[1;33m.\u001b[0m\u001b[0mparameters\u001b[0m\u001b[1;33m,\u001b[0m \u001b[0margs\u001b[0m\u001b[1;33m)\u001b[0m\u001b[1;33m}\u001b[0m\u001b[1;33m)\u001b[0m\u001b[1;33m\u001b[0m\u001b[1;33m\u001b[0m\u001b[0m\n\u001b[1;32m---> 72\u001b[1;33m         \u001b[1;32mreturn\u001b[0m \u001b[0mf\u001b[0m\u001b[1;33m(\u001b[0m\u001b[1;33m**\u001b[0m\u001b[0mkwargs\u001b[0m\u001b[1;33m)\u001b[0m\u001b[1;33m\u001b[0m\u001b[1;33m\u001b[0m\u001b[0m\n\u001b[0m\u001b[0;32m     73\u001b[0m     \u001b[1;32mreturn\u001b[0m \u001b[0minner_f\u001b[0m\u001b[1;33m\u001b[0m\u001b[1;33m\u001b[0m\u001b[0m\n\u001b[0;32m     74\u001b[0m \u001b[1;33m\u001b[0m\u001b[0m\n",
      "\u001b[1;32m~\\anaconda3\\lib\\site-packages\\sklearn\\model_selection\\_validation.py\u001b[0m in \u001b[0;36mcross_val_predict\u001b[1;34m(estimator, X, y, groups, cv, n_jobs, verbose, fit_params, pre_dispatch, method)\u001b[0m\n\u001b[0;32m    769\u001b[0m     parallel = Parallel(n_jobs=n_jobs, verbose=verbose,\n\u001b[0;32m    770\u001b[0m                         pre_dispatch=pre_dispatch)\n\u001b[1;32m--> 771\u001b[1;33m     prediction_blocks = parallel(delayed(_fit_and_predict)(\n\u001b[0m\u001b[0;32m    772\u001b[0m         clone(estimator), X, y, train, test, verbose, fit_params, method)\n\u001b[0;32m    773\u001b[0m         for train, test in cv.split(X, y, groups))\n",
      "\u001b[1;32m~\\anaconda3\\lib\\site-packages\\joblib\\parallel.py\u001b[0m in \u001b[0;36m__call__\u001b[1;34m(self, iterable)\u001b[0m\n\u001b[0;32m   1049\u001b[0m                 \u001b[0mself\u001b[0m\u001b[1;33m.\u001b[0m\u001b[0m_iterating\u001b[0m \u001b[1;33m=\u001b[0m \u001b[0mself\u001b[0m\u001b[1;33m.\u001b[0m\u001b[0m_original_iterator\u001b[0m \u001b[1;32mis\u001b[0m \u001b[1;32mnot\u001b[0m \u001b[1;32mNone\u001b[0m\u001b[1;33m\u001b[0m\u001b[1;33m\u001b[0m\u001b[0m\n\u001b[0;32m   1050\u001b[0m \u001b[1;33m\u001b[0m\u001b[0m\n\u001b[1;32m-> 1051\u001b[1;33m             \u001b[1;32mwhile\u001b[0m \u001b[0mself\u001b[0m\u001b[1;33m.\u001b[0m\u001b[0mdispatch_one_batch\u001b[0m\u001b[1;33m(\u001b[0m\u001b[0miterator\u001b[0m\u001b[1;33m)\u001b[0m\u001b[1;33m:\u001b[0m\u001b[1;33m\u001b[0m\u001b[1;33m\u001b[0m\u001b[0m\n\u001b[0m\u001b[0;32m   1052\u001b[0m                 \u001b[1;32mpass\u001b[0m\u001b[1;33m\u001b[0m\u001b[1;33m\u001b[0m\u001b[0m\n\u001b[0;32m   1053\u001b[0m \u001b[1;33m\u001b[0m\u001b[0m\n",
      "\u001b[1;32m~\\anaconda3\\lib\\site-packages\\joblib\\parallel.py\u001b[0m in \u001b[0;36mdispatch_one_batch\u001b[1;34m(self, iterator)\u001b[0m\n\u001b[0;32m    864\u001b[0m                 \u001b[1;32mreturn\u001b[0m \u001b[1;32mFalse\u001b[0m\u001b[1;33m\u001b[0m\u001b[1;33m\u001b[0m\u001b[0m\n\u001b[0;32m    865\u001b[0m             \u001b[1;32melse\u001b[0m\u001b[1;33m:\u001b[0m\u001b[1;33m\u001b[0m\u001b[1;33m\u001b[0m\u001b[0m\n\u001b[1;32m--> 866\u001b[1;33m                 \u001b[0mself\u001b[0m\u001b[1;33m.\u001b[0m\u001b[0m_dispatch\u001b[0m\u001b[1;33m(\u001b[0m\u001b[0mtasks\u001b[0m\u001b[1;33m)\u001b[0m\u001b[1;33m\u001b[0m\u001b[1;33m\u001b[0m\u001b[0m\n\u001b[0m\u001b[0;32m    867\u001b[0m                 \u001b[1;32mreturn\u001b[0m \u001b[1;32mTrue\u001b[0m\u001b[1;33m\u001b[0m\u001b[1;33m\u001b[0m\u001b[0m\n\u001b[0;32m    868\u001b[0m \u001b[1;33m\u001b[0m\u001b[0m\n",
      "\u001b[1;32m~\\anaconda3\\lib\\site-packages\\joblib\\parallel.py\u001b[0m in \u001b[0;36m_dispatch\u001b[1;34m(self, batch)\u001b[0m\n\u001b[0;32m    782\u001b[0m         \u001b[1;32mwith\u001b[0m \u001b[0mself\u001b[0m\u001b[1;33m.\u001b[0m\u001b[0m_lock\u001b[0m\u001b[1;33m:\u001b[0m\u001b[1;33m\u001b[0m\u001b[1;33m\u001b[0m\u001b[0m\n\u001b[0;32m    783\u001b[0m             \u001b[0mjob_idx\u001b[0m \u001b[1;33m=\u001b[0m \u001b[0mlen\u001b[0m\u001b[1;33m(\u001b[0m\u001b[0mself\u001b[0m\u001b[1;33m.\u001b[0m\u001b[0m_jobs\u001b[0m\u001b[1;33m)\u001b[0m\u001b[1;33m\u001b[0m\u001b[1;33m\u001b[0m\u001b[0m\n\u001b[1;32m--> 784\u001b[1;33m             \u001b[0mjob\u001b[0m \u001b[1;33m=\u001b[0m \u001b[0mself\u001b[0m\u001b[1;33m.\u001b[0m\u001b[0m_backend\u001b[0m\u001b[1;33m.\u001b[0m\u001b[0mapply_async\u001b[0m\u001b[1;33m(\u001b[0m\u001b[0mbatch\u001b[0m\u001b[1;33m,\u001b[0m \u001b[0mcallback\u001b[0m\u001b[1;33m=\u001b[0m\u001b[0mcb\u001b[0m\u001b[1;33m)\u001b[0m\u001b[1;33m\u001b[0m\u001b[1;33m\u001b[0m\u001b[0m\n\u001b[0m\u001b[0;32m    785\u001b[0m             \u001b[1;31m# A job can complete so quickly than its callback is\u001b[0m\u001b[1;33m\u001b[0m\u001b[1;33m\u001b[0m\u001b[1;33m\u001b[0m\u001b[0m\n\u001b[0;32m    786\u001b[0m             \u001b[1;31m# called before we get here, causing self._jobs to\u001b[0m\u001b[1;33m\u001b[0m\u001b[1;33m\u001b[0m\u001b[1;33m\u001b[0m\u001b[0m\n",
      "\u001b[1;32m~\\anaconda3\\lib\\site-packages\\joblib\\_parallel_backends.py\u001b[0m in \u001b[0;36mapply_async\u001b[1;34m(self, func, callback)\u001b[0m\n\u001b[0;32m    206\u001b[0m     \u001b[1;32mdef\u001b[0m \u001b[0mapply_async\u001b[0m\u001b[1;33m(\u001b[0m\u001b[0mself\u001b[0m\u001b[1;33m,\u001b[0m \u001b[0mfunc\u001b[0m\u001b[1;33m,\u001b[0m \u001b[0mcallback\u001b[0m\u001b[1;33m=\u001b[0m\u001b[1;32mNone\u001b[0m\u001b[1;33m)\u001b[0m\u001b[1;33m:\u001b[0m\u001b[1;33m\u001b[0m\u001b[1;33m\u001b[0m\u001b[0m\n\u001b[0;32m    207\u001b[0m         \u001b[1;34m\"\"\"Schedule a func to be run\"\"\"\u001b[0m\u001b[1;33m\u001b[0m\u001b[1;33m\u001b[0m\u001b[0m\n\u001b[1;32m--> 208\u001b[1;33m         \u001b[0mresult\u001b[0m \u001b[1;33m=\u001b[0m \u001b[0mImmediateResult\u001b[0m\u001b[1;33m(\u001b[0m\u001b[0mfunc\u001b[0m\u001b[1;33m)\u001b[0m\u001b[1;33m\u001b[0m\u001b[1;33m\u001b[0m\u001b[0m\n\u001b[0m\u001b[0;32m    209\u001b[0m         \u001b[1;32mif\u001b[0m \u001b[0mcallback\u001b[0m\u001b[1;33m:\u001b[0m\u001b[1;33m\u001b[0m\u001b[1;33m\u001b[0m\u001b[0m\n\u001b[0;32m    210\u001b[0m             \u001b[0mcallback\u001b[0m\u001b[1;33m(\u001b[0m\u001b[0mresult\u001b[0m\u001b[1;33m)\u001b[0m\u001b[1;33m\u001b[0m\u001b[1;33m\u001b[0m\u001b[0m\n",
      "\u001b[1;32m~\\anaconda3\\lib\\site-packages\\joblib\\_parallel_backends.py\u001b[0m in \u001b[0;36m__init__\u001b[1;34m(self, batch)\u001b[0m\n\u001b[0;32m    570\u001b[0m         \u001b[1;31m# Don't delay the application, to avoid keeping the input\u001b[0m\u001b[1;33m\u001b[0m\u001b[1;33m\u001b[0m\u001b[1;33m\u001b[0m\u001b[0m\n\u001b[0;32m    571\u001b[0m         \u001b[1;31m# arguments in memory\u001b[0m\u001b[1;33m\u001b[0m\u001b[1;33m\u001b[0m\u001b[1;33m\u001b[0m\u001b[0m\n\u001b[1;32m--> 572\u001b[1;33m         \u001b[0mself\u001b[0m\u001b[1;33m.\u001b[0m\u001b[0mresults\u001b[0m \u001b[1;33m=\u001b[0m \u001b[0mbatch\u001b[0m\u001b[1;33m(\u001b[0m\u001b[1;33m)\u001b[0m\u001b[1;33m\u001b[0m\u001b[1;33m\u001b[0m\u001b[0m\n\u001b[0m\u001b[0;32m    573\u001b[0m \u001b[1;33m\u001b[0m\u001b[0m\n\u001b[0;32m    574\u001b[0m     \u001b[1;32mdef\u001b[0m \u001b[0mget\u001b[0m\u001b[1;33m(\u001b[0m\u001b[0mself\u001b[0m\u001b[1;33m)\u001b[0m\u001b[1;33m:\u001b[0m\u001b[1;33m\u001b[0m\u001b[1;33m\u001b[0m\u001b[0m\n",
      "\u001b[1;32m~\\anaconda3\\lib\\site-packages\\joblib\\parallel.py\u001b[0m in \u001b[0;36m__call__\u001b[1;34m(self)\u001b[0m\n\u001b[0;32m    260\u001b[0m         \u001b[1;31m# change the default number of processes to -1\u001b[0m\u001b[1;33m\u001b[0m\u001b[1;33m\u001b[0m\u001b[1;33m\u001b[0m\u001b[0m\n\u001b[0;32m    261\u001b[0m         \u001b[1;32mwith\u001b[0m \u001b[0mparallel_backend\u001b[0m\u001b[1;33m(\u001b[0m\u001b[0mself\u001b[0m\u001b[1;33m.\u001b[0m\u001b[0m_backend\u001b[0m\u001b[1;33m,\u001b[0m \u001b[0mn_jobs\u001b[0m\u001b[1;33m=\u001b[0m\u001b[0mself\u001b[0m\u001b[1;33m.\u001b[0m\u001b[0m_n_jobs\u001b[0m\u001b[1;33m)\u001b[0m\u001b[1;33m:\u001b[0m\u001b[1;33m\u001b[0m\u001b[1;33m\u001b[0m\u001b[0m\n\u001b[1;32m--> 262\u001b[1;33m             return [func(*args, **kwargs)\n\u001b[0m\u001b[0;32m    263\u001b[0m                     for func, args, kwargs in self.items]\n\u001b[0;32m    264\u001b[0m \u001b[1;33m\u001b[0m\u001b[0m\n",
      "\u001b[1;32m~\\anaconda3\\lib\\site-packages\\joblib\\parallel.py\u001b[0m in \u001b[0;36m<listcomp>\u001b[1;34m(.0)\u001b[0m\n\u001b[0;32m    260\u001b[0m         \u001b[1;31m# change the default number of processes to -1\u001b[0m\u001b[1;33m\u001b[0m\u001b[1;33m\u001b[0m\u001b[1;33m\u001b[0m\u001b[0m\n\u001b[0;32m    261\u001b[0m         \u001b[1;32mwith\u001b[0m \u001b[0mparallel_backend\u001b[0m\u001b[1;33m(\u001b[0m\u001b[0mself\u001b[0m\u001b[1;33m.\u001b[0m\u001b[0m_backend\u001b[0m\u001b[1;33m,\u001b[0m \u001b[0mn_jobs\u001b[0m\u001b[1;33m=\u001b[0m\u001b[0mself\u001b[0m\u001b[1;33m.\u001b[0m\u001b[0m_n_jobs\u001b[0m\u001b[1;33m)\u001b[0m\u001b[1;33m:\u001b[0m\u001b[1;33m\u001b[0m\u001b[1;33m\u001b[0m\u001b[0m\n\u001b[1;32m--> 262\u001b[1;33m             return [func(*args, **kwargs)\n\u001b[0m\u001b[0;32m    263\u001b[0m                     for func, args, kwargs in self.items]\n\u001b[0;32m    264\u001b[0m \u001b[1;33m\u001b[0m\u001b[0m\n",
      "\u001b[1;32m~\\anaconda3\\lib\\site-packages\\sklearn\\model_selection\\_validation.py\u001b[0m in \u001b[0;36m_fit_and_predict\u001b[1;34m(estimator, X, y, train, test, verbose, fit_params, method)\u001b[0m\n\u001b[0;32m    860\u001b[0m         \u001b[0mestimator\u001b[0m\u001b[1;33m.\u001b[0m\u001b[0mfit\u001b[0m\u001b[1;33m(\u001b[0m\u001b[0mX_train\u001b[0m\u001b[1;33m,\u001b[0m \u001b[1;33m**\u001b[0m\u001b[0mfit_params\u001b[0m\u001b[1;33m)\u001b[0m\u001b[1;33m\u001b[0m\u001b[1;33m\u001b[0m\u001b[0m\n\u001b[0;32m    861\u001b[0m     \u001b[1;32melse\u001b[0m\u001b[1;33m:\u001b[0m\u001b[1;33m\u001b[0m\u001b[1;33m\u001b[0m\u001b[0m\n\u001b[1;32m--> 862\u001b[1;33m         \u001b[0mestimator\u001b[0m\u001b[1;33m.\u001b[0m\u001b[0mfit\u001b[0m\u001b[1;33m(\u001b[0m\u001b[0mX_train\u001b[0m\u001b[1;33m,\u001b[0m \u001b[0my_train\u001b[0m\u001b[1;33m,\u001b[0m \u001b[1;33m**\u001b[0m\u001b[0mfit_params\u001b[0m\u001b[1;33m)\u001b[0m\u001b[1;33m\u001b[0m\u001b[1;33m\u001b[0m\u001b[0m\n\u001b[0m\u001b[0;32m    863\u001b[0m     \u001b[0mfunc\u001b[0m \u001b[1;33m=\u001b[0m \u001b[0mgetattr\u001b[0m\u001b[1;33m(\u001b[0m\u001b[0mestimator\u001b[0m\u001b[1;33m,\u001b[0m \u001b[0mmethod\u001b[0m\u001b[1;33m)\u001b[0m\u001b[1;33m\u001b[0m\u001b[1;33m\u001b[0m\u001b[0m\n\u001b[0;32m    864\u001b[0m     \u001b[0mpredictions\u001b[0m \u001b[1;33m=\u001b[0m \u001b[0mfunc\u001b[0m\u001b[1;33m(\u001b[0m\u001b[0mX_test\u001b[0m\u001b[1;33m)\u001b[0m\u001b[1;33m\u001b[0m\u001b[1;33m\u001b[0m\u001b[0m\n",
      "\u001b[1;32m~\\anaconda3\\lib\\site-packages\\sklearn\\ensemble\\_forest.py\u001b[0m in \u001b[0;36mfit\u001b[1;34m(self, X, y, sample_weight)\u001b[0m\n\u001b[0;32m    384\u001b[0m             \u001b[1;31m# parallel_backend contexts set at a higher level,\u001b[0m\u001b[1;33m\u001b[0m\u001b[1;33m\u001b[0m\u001b[1;33m\u001b[0m\u001b[0m\n\u001b[0;32m    385\u001b[0m             \u001b[1;31m# since correctness does not rely on using threads.\u001b[0m\u001b[1;33m\u001b[0m\u001b[1;33m\u001b[0m\u001b[1;33m\u001b[0m\u001b[0m\n\u001b[1;32m--> 386\u001b[1;33m             trees = Parallel(n_jobs=self.n_jobs, verbose=self.verbose,\n\u001b[0m\u001b[0;32m    387\u001b[0m                              \u001b[1;33m**\u001b[0m\u001b[0m_joblib_parallel_args\u001b[0m\u001b[1;33m(\u001b[0m\u001b[0mprefer\u001b[0m\u001b[1;33m=\u001b[0m\u001b[1;34m'threads'\u001b[0m\u001b[1;33m)\u001b[0m\u001b[1;33m)\u001b[0m\u001b[1;33m(\u001b[0m\u001b[1;33m\u001b[0m\u001b[1;33m\u001b[0m\u001b[0m\n\u001b[0;32m    388\u001b[0m                 delayed(_parallel_build_trees)(\n",
      "\u001b[1;32m~\\anaconda3\\lib\\site-packages\\joblib\\parallel.py\u001b[0m in \u001b[0;36m__call__\u001b[1;34m(self, iterable)\u001b[0m\n\u001b[0;32m   1059\u001b[0m \u001b[1;33m\u001b[0m\u001b[0m\n\u001b[0;32m   1060\u001b[0m             \u001b[1;32mwith\u001b[0m \u001b[0mself\u001b[0m\u001b[1;33m.\u001b[0m\u001b[0m_backend\u001b[0m\u001b[1;33m.\u001b[0m\u001b[0mretrieval_context\u001b[0m\u001b[1;33m(\u001b[0m\u001b[1;33m)\u001b[0m\u001b[1;33m:\u001b[0m\u001b[1;33m\u001b[0m\u001b[1;33m\u001b[0m\u001b[0m\n\u001b[1;32m-> 1061\u001b[1;33m                 \u001b[0mself\u001b[0m\u001b[1;33m.\u001b[0m\u001b[0mretrieve\u001b[0m\u001b[1;33m(\u001b[0m\u001b[1;33m)\u001b[0m\u001b[1;33m\u001b[0m\u001b[1;33m\u001b[0m\u001b[0m\n\u001b[0m\u001b[0;32m   1062\u001b[0m             \u001b[1;31m# Make sure that we get a last message telling us we are done\u001b[0m\u001b[1;33m\u001b[0m\u001b[1;33m\u001b[0m\u001b[1;33m\u001b[0m\u001b[0m\n\u001b[0;32m   1063\u001b[0m             \u001b[0melapsed_time\u001b[0m \u001b[1;33m=\u001b[0m \u001b[0mtime\u001b[0m\u001b[1;33m.\u001b[0m\u001b[0mtime\u001b[0m\u001b[1;33m(\u001b[0m\u001b[1;33m)\u001b[0m \u001b[1;33m-\u001b[0m \u001b[0mself\u001b[0m\u001b[1;33m.\u001b[0m\u001b[0m_start_time\u001b[0m\u001b[1;33m\u001b[0m\u001b[1;33m\u001b[0m\u001b[0m\n",
      "\u001b[1;32m~\\anaconda3\\lib\\site-packages\\joblib\\parallel.py\u001b[0m in \u001b[0;36mretrieve\u001b[1;34m(self)\u001b[0m\n\u001b[0;32m    938\u001b[0m             \u001b[1;32mtry\u001b[0m\u001b[1;33m:\u001b[0m\u001b[1;33m\u001b[0m\u001b[1;33m\u001b[0m\u001b[0m\n\u001b[0;32m    939\u001b[0m                 \u001b[1;32mif\u001b[0m \u001b[0mgetattr\u001b[0m\u001b[1;33m(\u001b[0m\u001b[0mself\u001b[0m\u001b[1;33m.\u001b[0m\u001b[0m_backend\u001b[0m\u001b[1;33m,\u001b[0m \u001b[1;34m'supports_timeout'\u001b[0m\u001b[1;33m,\u001b[0m \u001b[1;32mFalse\u001b[0m\u001b[1;33m)\u001b[0m\u001b[1;33m:\u001b[0m\u001b[1;33m\u001b[0m\u001b[1;33m\u001b[0m\u001b[0m\n\u001b[1;32m--> 940\u001b[1;33m                     \u001b[0mself\u001b[0m\u001b[1;33m.\u001b[0m\u001b[0m_output\u001b[0m\u001b[1;33m.\u001b[0m\u001b[0mextend\u001b[0m\u001b[1;33m(\u001b[0m\u001b[0mjob\u001b[0m\u001b[1;33m.\u001b[0m\u001b[0mget\u001b[0m\u001b[1;33m(\u001b[0m\u001b[0mtimeout\u001b[0m\u001b[1;33m=\u001b[0m\u001b[0mself\u001b[0m\u001b[1;33m.\u001b[0m\u001b[0mtimeout\u001b[0m\u001b[1;33m)\u001b[0m\u001b[1;33m)\u001b[0m\u001b[1;33m\u001b[0m\u001b[1;33m\u001b[0m\u001b[0m\n\u001b[0m\u001b[0;32m    941\u001b[0m                 \u001b[1;32melse\u001b[0m\u001b[1;33m:\u001b[0m\u001b[1;33m\u001b[0m\u001b[1;33m\u001b[0m\u001b[0m\n\u001b[0;32m    942\u001b[0m                     \u001b[0mself\u001b[0m\u001b[1;33m.\u001b[0m\u001b[0m_output\u001b[0m\u001b[1;33m.\u001b[0m\u001b[0mextend\u001b[0m\u001b[1;33m(\u001b[0m\u001b[0mjob\u001b[0m\u001b[1;33m.\u001b[0m\u001b[0mget\u001b[0m\u001b[1;33m(\u001b[0m\u001b[1;33m)\u001b[0m\u001b[1;33m)\u001b[0m\u001b[1;33m\u001b[0m\u001b[1;33m\u001b[0m\u001b[0m\n",
      "\u001b[1;32m~\\anaconda3\\lib\\site-packages\\joblib\\_parallel_backends.py\u001b[0m in \u001b[0;36mwrap_future_result\u001b[1;34m(future, timeout)\u001b[0m\n\u001b[0;32m    540\u001b[0m         AsyncResults.get from multiprocessing.\"\"\"\n\u001b[0;32m    541\u001b[0m         \u001b[1;32mtry\u001b[0m\u001b[1;33m:\u001b[0m\u001b[1;33m\u001b[0m\u001b[1;33m\u001b[0m\u001b[0m\n\u001b[1;32m--> 542\u001b[1;33m             \u001b[1;32mreturn\u001b[0m \u001b[0mfuture\u001b[0m\u001b[1;33m.\u001b[0m\u001b[0mresult\u001b[0m\u001b[1;33m(\u001b[0m\u001b[0mtimeout\u001b[0m\u001b[1;33m=\u001b[0m\u001b[0mtimeout\u001b[0m\u001b[1;33m)\u001b[0m\u001b[1;33m\u001b[0m\u001b[1;33m\u001b[0m\u001b[0m\n\u001b[0m\u001b[0;32m    543\u001b[0m         \u001b[1;32mexcept\u001b[0m \u001b[0mCfTimeoutError\u001b[0m \u001b[1;32mas\u001b[0m \u001b[0me\u001b[0m\u001b[1;33m:\u001b[0m\u001b[1;33m\u001b[0m\u001b[1;33m\u001b[0m\u001b[0m\n\u001b[0;32m    544\u001b[0m             \u001b[1;32mraise\u001b[0m \u001b[0mTimeoutError\u001b[0m \u001b[1;32mfrom\u001b[0m \u001b[0me\u001b[0m\u001b[1;33m\u001b[0m\u001b[1;33m\u001b[0m\u001b[0m\n",
      "\u001b[1;32m~\\anaconda3\\lib\\concurrent\\futures\\_base.py\u001b[0m in \u001b[0;36mresult\u001b[1;34m(self, timeout)\u001b[0m\n\u001b[0;32m    432\u001b[0m                 \u001b[1;32mreturn\u001b[0m \u001b[0mself\u001b[0m\u001b[1;33m.\u001b[0m\u001b[0m__get_result\u001b[0m\u001b[1;33m(\u001b[0m\u001b[1;33m)\u001b[0m\u001b[1;33m\u001b[0m\u001b[1;33m\u001b[0m\u001b[0m\n\u001b[0;32m    433\u001b[0m \u001b[1;33m\u001b[0m\u001b[0m\n\u001b[1;32m--> 434\u001b[1;33m             \u001b[0mself\u001b[0m\u001b[1;33m.\u001b[0m\u001b[0m_condition\u001b[0m\u001b[1;33m.\u001b[0m\u001b[0mwait\u001b[0m\u001b[1;33m(\u001b[0m\u001b[0mtimeout\u001b[0m\u001b[1;33m)\u001b[0m\u001b[1;33m\u001b[0m\u001b[1;33m\u001b[0m\u001b[0m\n\u001b[0m\u001b[0;32m    435\u001b[0m \u001b[1;33m\u001b[0m\u001b[0m\n\u001b[0;32m    436\u001b[0m             \u001b[1;32mif\u001b[0m \u001b[0mself\u001b[0m\u001b[1;33m.\u001b[0m\u001b[0m_state\u001b[0m \u001b[1;32min\u001b[0m \u001b[1;33m[\u001b[0m\u001b[0mCANCELLED\u001b[0m\u001b[1;33m,\u001b[0m \u001b[0mCANCELLED_AND_NOTIFIED\u001b[0m\u001b[1;33m]\u001b[0m\u001b[1;33m:\u001b[0m\u001b[1;33m\u001b[0m\u001b[1;33m\u001b[0m\u001b[0m\n",
      "\u001b[1;32m~\\anaconda3\\lib\\threading.py\u001b[0m in \u001b[0;36mwait\u001b[1;34m(self, timeout)\u001b[0m\n\u001b[0;32m    300\u001b[0m         \u001b[1;32mtry\u001b[0m\u001b[1;33m:\u001b[0m    \u001b[1;31m# restore state no matter what (e.g., KeyboardInterrupt)\u001b[0m\u001b[1;33m\u001b[0m\u001b[1;33m\u001b[0m\u001b[0m\n\u001b[0;32m    301\u001b[0m             \u001b[1;32mif\u001b[0m \u001b[0mtimeout\u001b[0m \u001b[1;32mis\u001b[0m \u001b[1;32mNone\u001b[0m\u001b[1;33m:\u001b[0m\u001b[1;33m\u001b[0m\u001b[1;33m\u001b[0m\u001b[0m\n\u001b[1;32m--> 302\u001b[1;33m                 \u001b[0mwaiter\u001b[0m\u001b[1;33m.\u001b[0m\u001b[0macquire\u001b[0m\u001b[1;33m(\u001b[0m\u001b[1;33m)\u001b[0m\u001b[1;33m\u001b[0m\u001b[1;33m\u001b[0m\u001b[0m\n\u001b[0m\u001b[0;32m    303\u001b[0m                 \u001b[0mgotit\u001b[0m \u001b[1;33m=\u001b[0m \u001b[1;32mTrue\u001b[0m\u001b[1;33m\u001b[0m\u001b[1;33m\u001b[0m\u001b[0m\n\u001b[0;32m    304\u001b[0m             \u001b[1;32melse\u001b[0m\u001b[1;33m:\u001b[0m\u001b[1;33m\u001b[0m\u001b[1;33m\u001b[0m\u001b[0m\n",
      "\u001b[1;31mKeyboardInterrupt\u001b[0m: "
     ]
    }
   ],
   "source": [
    "xgboost = create_model('lightgbm')\n",
    "stacker2 = stack_models(top3, meta_model = xgboost)"
   ]
  },
  {
   "cell_type": "code",
   "execution_count": null,
   "metadata": {},
   "outputs": [],
   "source": [
    "tuned_et = tune_model(dt)"
   ]
  },
  {
   "cell_type": "code",
   "execution_count": 25,
   "metadata": {},
   "outputs": [
    {
     "name": "stdout",
     "output_type": "stream",
     "text": [
      "(1503, 6)\n"
     ]
    },
    {
     "data": {
      "text/html": [
       "<div>\n",
       "<style scoped>\n",
       "    .dataframe tbody tr th:only-of-type {\n",
       "        vertical-align: middle;\n",
       "    }\n",
       "\n",
       "    .dataframe tbody tr th {\n",
       "        vertical-align: top;\n",
       "    }\n",
       "\n",
       "    .dataframe thead th {\n",
       "        text-align: right;\n",
       "    }\n",
       "</style>\n",
       "<table border=\"1\" class=\"dataframe\">\n",
       "  <thead>\n",
       "    <tr style=\"text-align: right;\">\n",
       "      <th></th>\n",
       "      <th>freq</th>\n",
       "      <th>angle</th>\n",
       "      <th>length</th>\n",
       "      <th>velocity</th>\n",
       "      <th>thickness</th>\n",
       "      <th>pressure</th>\n",
       "    </tr>\n",
       "  </thead>\n",
       "  <tbody>\n",
       "    <tr>\n",
       "      <th>0</th>\n",
       "      <td>800</td>\n",
       "      <td>0.0</td>\n",
       "      <td>0.3048</td>\n",
       "      <td>71.3</td>\n",
       "      <td>0.002663</td>\n",
       "      <td>126.201</td>\n",
       "    </tr>\n",
       "    <tr>\n",
       "      <th>1</th>\n",
       "      <td>1000</td>\n",
       "      <td>0.0</td>\n",
       "      <td>0.3048</td>\n",
       "      <td>71.3</td>\n",
       "      <td>0.002663</td>\n",
       "      <td>125.201</td>\n",
       "    </tr>\n",
       "    <tr>\n",
       "      <th>2</th>\n",
       "      <td>1250</td>\n",
       "      <td>0.0</td>\n",
       "      <td>0.3048</td>\n",
       "      <td>71.3</td>\n",
       "      <td>0.002663</td>\n",
       "      <td>125.951</td>\n",
       "    </tr>\n",
       "    <tr>\n",
       "      <th>3</th>\n",
       "      <td>1600</td>\n",
       "      <td>0.0</td>\n",
       "      <td>0.3048</td>\n",
       "      <td>71.3</td>\n",
       "      <td>0.002663</td>\n",
       "      <td>127.591</td>\n",
       "    </tr>\n",
       "    <tr>\n",
       "      <th>4</th>\n",
       "      <td>2000</td>\n",
       "      <td>0.0</td>\n",
       "      <td>0.3048</td>\n",
       "      <td>71.3</td>\n",
       "      <td>0.002663</td>\n",
       "      <td>127.461</td>\n",
       "    </tr>\n",
       "  </tbody>\n",
       "</table>\n",
       "</div>"
      ],
      "text/plain": [
       "   freq  angle  length  velocity  thickness  pressure\n",
       "0   800    0.0  0.3048      71.3   0.002663   126.201\n",
       "1  1000    0.0  0.3048      71.3   0.002663   125.201\n",
       "2  1250    0.0  0.3048      71.3   0.002663   125.951\n",
       "3  1600    0.0  0.3048      71.3   0.002663   127.591\n",
       "4  2000    0.0  0.3048      71.3   0.002663   127.461"
      ]
     },
     "execution_count": 25,
     "metadata": {},
     "output_type": "execute_result"
    }
   ],
   "source": [
    "features = ['freq','angle','length','velocity','thickness','pressure']\n",
    "df = pd.read_table('./datasets/airfoil_self_noise.dat',names = features )\n",
    "print(df.shape)\n",
    "df.head()"
   ]
  },
  {
   "cell_type": "code",
   "execution_count": 3,
   "metadata": {},
   "outputs": [],
   "source": [
    "X = df.copy()\n",
    "X = X.drop(['pressure'],axis=1)\n",
    "y = df[['pressure']]"
   ]
  },
  {
   "cell_type": "code",
   "execution_count": 4,
   "metadata": {},
   "outputs": [],
   "source": [
    "from sklearn import preprocessing\n",
    "scaler_x = preprocessing.MinMaxScaler()\n",
    "X_scaled = scaler_x.fit_transform(X)\n",
    "scaler_y = preprocessing.MinMaxScaler()\n",
    "y_scaled = scaler_y.fit_transform(np.array(y).reshape(-1,1))\n",
    "y_scaled = y_scaled.reshape(-1)\n",
    "train_X, test_X, train_y, test_y = train_test_split(X_scaled, y_scaled, random_state=1)\n",
    "# val_y = scaler_y.inverse_transform(np.array(val_y).reshape(-1,1))"
   ]
  },
  {
   "cell_type": "code",
   "execution_count": 82,
   "metadata": {},
   "outputs": [],
   "source": [
    "models = []\n",
    "models.append(('LR', LinearRegression()))\n",
    "models.append(('RD', Ridge()))\n",
    "models.append(('LAS', Lasso()))\n",
    "models.append(('DT', DecisionTreeRegressor(random_state=75)))\n",
    "models.append(('MLP', MLPRegressor(random_state=75)))\n",
    "models.append(('SVR',SVR()))\n",
    "models.append(('ET',ExtraTreesRegressor(random_state=75)))\n",
    "models.append(('XGB', XGBRegressor(random_state=75)))"
   ]
  },
  {
   "cell_type": "code",
   "execution_count": 84,
   "metadata": {},
   "outputs": [],
   "source": [
    "def compare_models(a,b,c,d,models):\n",
    "    print('\\nCompare Multiple Classifiers:')\n",
    "    print('\\nK-Fold Cross-Validation Accuracy:\\n')\n",
    "    \n",
    "    resultsAccuracy = []\n",
    "    names = []\n",
    "    for name, model in models:\n",
    "        model.fit(a,b)\n",
    "        kfold = KFold(n_splits=10,shuffle=True,random_state = 75)\n",
    "        accuracy_results = cross_val_score(model, a,b, cv=kfold)\n",
    "        resultsAccuracy.append(accuracy_results.mean())\n",
    "        names.append(name)\n",
    "        accuracyMessage = \"%s: %f (%f)\" % (name, accuracy_results.mean(), accuracy_results.std())\n",
    "        print(accuracyMessage)\n",
    "        \n",
    "    # boxplot algorithm comparison\n",
    "    fig = plt.figure()\n",
    "    fig.suptitle('Algorithm Comparison: R^2')\n",
    "    ax = fig.add_subplot(111)\n",
    "    plt.bar(names,resultsAccuracy,color=['firebrick','firebrick','firebrick','seagreen','seagreen','seagreen',\n",
    "                                        'purple','purple'])\n",
    "\n",
    "   \n",
    "    legend_elements = [Line2D([0], [0], color='firebrick', lw=4, label='Linear Models'),\n",
    "                   Line2D([0], [0], color='seagreen', lw=4,label='Misc Models'),\n",
    "                   Line2D([0], [0], color='purple',lw=4, label='Ensemble Models')]\n",
    "\n",
    "    # Create the figure\n",
    "    ax.legend(handles=legend_elements, loc='upper left')\n",
    "\n",
    "    ax.set_ylabel('Cross-Validation: R^2')\n",
    "    plt.show()\n",
    "    return"
   ]
  },
  {
   "cell_type": "code",
   "execution_count": 85,
   "metadata": {},
   "outputs": [
    {
     "name": "stdout",
     "output_type": "stream",
     "text": [
      "\n",
      "Compare Multiple Classifiers:\n",
      "\n",
      "K-Fold Cross-Validation Accuracy:\n",
      "\n",
      "LR: 0.521027 (0.112379)\n",
      "RD: 0.520691 (0.109472)\n",
      "LAS: -0.010131 (0.011227)\n",
      "DT: 0.826076 (0.044887)\n",
      "MLP: 0.629382 (0.107893)\n",
      "SVR: 0.743603 (0.071889)\n",
      "ET: 0.940562 (0.012604)\n",
      "XGB: 0.939339 (0.012916)\n"
     ]
    },
    {
     "data": {
      "image/png": "[encoded data removed]",
      "text/plain": [
       "<Figure size 432x288 with 1 Axes>"
      ]
     },
     "metadata": {
      "needs_background": "light"
     },
     "output_type": "display_data"
    }
   ],
   "source": [
    "compare_models(train_X, train_y, test_X, test_y, models)"
   ]
  },
  {
   "cell_type": "markdown",
   "metadata": {},
   "source": [
    "About LASSO:\n",
    "It's not impossible to get an R^2 value less than 0.\n",
    "R^2 is a metric used to measure the performance of a regressor. The optimal score of R^2 metric is 1. If any regressor predicts a constant value, you should expect an R^2 score of 0 for that regressor. **But unexpectedly, you can get worse performance than that.**"
   ]
  },
  {
   "cell_type": "markdown",
   "metadata": {},
   "source": [
    "## Optimization "
   ]
  },
  {
   "cell_type": "code",
   "execution_count": 41,
   "metadata": {},
   "outputs": [],
   "source": [
    "models_opt = []"
   ]
  },
  {
   "cell_type": "markdown",
   "metadata": {},
   "source": [
    "#### Linear Regression: Has to hyperparameters to optimize."
   ]
  },
  {
   "cell_type": "code",
   "execution_count": 42,
   "metadata": {},
   "outputs": [],
   "source": [
    "LR = LinearRegression()\n",
    "models_opt.append(('LD*',LR))"
   ]
  },
  {
   "cell_type": "markdown",
   "metadata": {},
   "source": [
    "#### Ridge Regression"
   ]
  },
  {
   "cell_type": "code",
   "execution_count": 43,
   "metadata": {},
   "outputs": [
    {
     "name": "stdout",
     "output_type": "stream",
     "text": [
      "Wall time: 4.04 s\n"
     ]
    },
    {
     "data": {
      "text/plain": [
       "GridSearchCV(cv=10, estimator=Ridge(),\n",
       "             param_grid={'alpha': [0.0, 0.01, 0.02, 0.03, 0.04, 0.05, 0.06,\n",
       "                                   0.07, 0.08, 0.09, 0.1, 0.11, 0.12, 0.13,\n",
       "                                   0.14, 0.15, 0.16, 0.17, 0.18, 0.19, 0.2,\n",
       "                                   0.21, 0.22, 0.23, 0.24, 0.25, 0.26, 0.27,\n",
       "                                   0.28, 0.29, ...],\n",
       "                         'solver': ('svd', 'cholesky', 'lsqr')})"
      ]
     },
     "execution_count": 43,
     "metadata": {},
     "output_type": "execute_result"
    }
   ],
   "source": [
    "%%time\n",
    "Ridge_ = GridSearchCV(Ridge(), param_grid = {'alpha':[i for i in np.arange(0,1,0.01)],\\\n",
    "                                                'solver':('svd', 'cholesky', 'lsqr')},cv=10)\n",
    "Ridge_.fit(train_X,train_y)"
   ]
  },
  {
   "cell_type": "code",
   "execution_count": 44,
   "metadata": {},
   "outputs": [],
   "source": [
    "Ridge_opt = Ridge_.best_estimator_\n",
    "models_opt.append(('RD*',Ridge_opt))"
   ]
  },
  {
   "cell_type": "markdown",
   "metadata": {},
   "source": [
    "#### Lasso Regression"
   ]
  },
  {
   "cell_type": "code",
   "execution_count": 45,
   "metadata": {},
   "outputs": [
    {
     "name": "stdout",
     "output_type": "stream",
     "text": [
      "Wall time: 11.7 s\n"
     ]
    },
    {
     "data": {
      "text/plain": [
       "GridSearchCV(cv=10, estimator=Lasso(),\n",
       "             param_grid={'alpha': [0.0001, 0.0002, 0.001, 0.01, 0.1, 0.2, 0.5,\n",
       "                                   0.8, 1],\n",
       "                         'max_iter': [1000, 1500, 2000, 2500, 3000, 3500, 4000,\n",
       "                                      4500, 5000, 5500, 6000, 6500, 7000, 7500,\n",
       "                                      8000, 8500, 9000, 9500],\n",
       "                         'tol': [0.01, 0.001, 0.0001, 1e-05, 1e-06, 1e-07,\n",
       "                                 1e-08]})"
      ]
     },
     "execution_count": 45,
     "metadata": {},
     "output_type": "execute_result"
    }
   ],
   "source": [
    "%%time\n",
    "Lasso_ = GridSearchCV(Lasso(), param_grid = {'alpha':[0.0001, 0.0002,0.001,0.01,0.1,0.2,0.5,0.8,1],\\\n",
    "                                            'max_iter':[k for k in np.arange(1000,10000,500)],\n",
    "                                            'tol':[1e-2,1e-3,1e-4,1e-5,1e-6,1e-7,1e-8]},cv=10)\n",
    "Lasso_.fit(train_X,train_y)"
   ]
  },
  {
   "cell_type": "code",
   "execution_count": 46,
   "metadata": {},
   "outputs": [],
   "source": [
    "Lasso_opt = Lasso_.best_estimator_\n",
    "models_opt.append(('LAS*',Lasso_opt))"
   ]
  },
  {
   "cell_type": "markdown",
   "metadata": {},
   "source": [
    "Παρατηρούμε ότι στις περιπτώσεις Ridge&Lasso Regression το γεγονός ότι $\\alpha\\rightarrow 0$, σημαίνει ότι το πρόβλημά μας τείνει σε αυτό της απλής γραμμικής παλινδρόμησης επομένως παίρνουμε τους ίδιους συντελεστές με αυτό, γιαυτό και οι 2 τιμές του $R^2$ συγκλίνουν προς αυτό της γραμμικής παλινδρόμησης."
   ]
  },
  {
   "cell_type": "markdown",
   "metadata": {},
   "source": [
    "#### Decision Trees Regressor"
   ]
  },
  {
   "cell_type": "code",
   "execution_count": 49,
   "metadata": {},
   "outputs": [
    {
     "name": "stdout",
     "output_type": "stream",
     "text": [
      "Wall time: 15.4 s\n"
     ]
    },
    {
     "data": {
      "text/plain": [
       "GridSearchCV(cv=10, estimator=DecisionTreeRegressor(), n_jobs=-1,\n",
       "             param_grid={'criterion': ['mse', 'mae'], 'max_depth': range(1, 15),\n",
       "                         'min_samples_leaf': range(1, 5),\n",
       "                         'min_samples_split': range(2, 10)})"
      ]
     },
     "execution_count": 49,
     "metadata": {},
     "output_type": "execute_result"
    }
   ],
   "source": [
    "%%time\n",
    "DT_ = GridSearchCV(DecisionTreeRegressor(), param_grid = {'criterion': ['mse', 'mae'],\n",
    "                                                          'max_depth': range(1,15),\n",
    "                                                         \"min_samples_split\":range(2,10),\n",
    "                                                         \"min_samples_leaf\":range(1,5)}\n",
    "                                                          ,n_jobs = -1,cv=10)\n",
    "DT_.fit(train_X, train_y)"
   ]
  },
  {
   "cell_type": "code",
   "execution_count": 50,
   "metadata": {},
   "outputs": [],
   "source": [
    "DT_opt = DT_.best_estimator_\n",
    "models_opt.append(('DT*',DT_opt))"
   ]
  },
  {
   "cell_type": "code",
   "execution_count": 52,
   "metadata": {},
   "outputs": [
    {
     "name": "stdout",
     "output_type": "stream",
     "text": [
      "Wall time: 2min 22s\n"
     ]
    },
    {
     "data": {
      "text/plain": [
       "GridSearchCV(cv=10, estimator=MLPRegressor(random_state=75, warm_start=True),\n",
       "             n_jobs=-1,\n",
       "             param_grid={'activation': ['tanh', 'relu'],\n",
       "                         'alpha': [1e-05, 0.0001, 0.001],\n",
       "                         'learning_rate': ['constant', 'adaptive'],\n",
       "                         'learning_rate_init': [0.0001, 0.001, 0.003, 0.005,\n",
       "                                                0.01],\n",
       "                         'max_iter': [100, 200, 1000],\n",
       "                         'solver': ['sgd', 'adam']})"
      ]
     },
     "execution_count": 52,
     "metadata": {},
     "output_type": "execute_result"
    }
   ],
   "source": [
    "%%time\n",
    "MLP_ = GridSearchCV(MLPRegressor(warm_start=True,random_state=75), param_grid={'activation' : ['tanh','relu'],\n",
    "                                                'solver':['sgd','adam'],\n",
    "                                                'alpha':[1e-5,1e-4,1e-3],\n",
    "                                                'learning_rate':['constant','adaptive'],\n",
    "                                                'max_iter':[100,200,1000],\n",
    "                                                'learning_rate_init':[0.0001,0.001,0.003,0.005,0.01]},\n",
    "                                                 n_jobs = -1,cv=10)\n",
    "MLP_.fit(train_X,train_y)"
   ]
  },
  {
   "cell_type": "markdown",
   "metadata": {},
   "source": [
    "**Multi Layer Perceptron Regressor (no-hidden layers)**"
   ]
  },
  {
   "cell_type": "code",
   "execution_count": 53,
   "metadata": {},
   "outputs": [],
   "source": [
    "MLP_opt = MLP_.best_estimator_\n",
    "models_opt.append(('MLP*',MLP_opt))"
   ]
  },
  {
   "cell_type": "code",
   "execution_count": 54,
   "metadata": {},
   "outputs": [
    {
     "data": {
      "text/plain": [
       "MLPRegressor(learning_rate_init=0.01, random_state=75, warm_start=True)"
      ]
     },
     "execution_count": 54,
     "metadata": {},
     "output_type": "execute_result"
    }
   ],
   "source": [
    "MLP_opt"
   ]
  },
  {
   "cell_type": "markdown",
   "metadata": {},
   "source": [
    "**Multi Layer Perceptron (with hidden layers)**"
   ]
  },
  {
   "cell_type": "code",
   "execution_count": 56,
   "metadata": {},
   "outputs": [
    {
     "name": "stdout",
     "output_type": "stream",
     "text": [
      "Wall time: 1min 53s\n"
     ]
    },
    {
     "data": {
      "text/plain": [
       "GridSearchCV(estimator=MLPRegressor(random_state=75, warm_start=True),\n",
       "             n_jobs=-1,\n",
       "             param_grid={'hidden_layer_sizes': [(256, 256, 256),\n",
       "                                                (512, 256, 128), (64, 32, 8)],\n",
       "                         'learning_rate_init': [0.0001, 0.001, 0.005],\n",
       "                         'max_iter': [100, 200, 1000]})"
      ]
     },
     "execution_count": 56,
     "metadata": {},
     "output_type": "execute_result"
    }
   ],
   "source": [
    "%%time\n",
    "MLP_2 = GridSearchCV(MLPRegressor(activation = 'relu', solver = 'adam',alpha=0.0001,learning_rate = 'constant',\n",
    "                                  warm_start=True,random_state=75), \n",
    "                                 param_grid={'max_iter':[100,200,1000],'learning_rate_init':[0.0001,0.001,0.005],\n",
    "                                'hidden_layer_sizes':[(256, 256, 256),(512,256,128),(64,32,8)]},n_jobs = -1)\n",
    "MLP_2.fit(train_X,train_y)"
   ]
  },
  {
   "cell_type": "code",
   "execution_count": 57,
   "metadata": {},
   "outputs": [],
   "source": [
    "MLP_opt2 = MLP_2.best_estimator_"
   ]
  },
  {
   "cell_type": "code",
   "execution_count": 58,
   "metadata": {},
   "outputs": [],
   "source": [
    "models_opt.append(('MLP2*',MLP_opt2))"
   ]
  },
  {
   "cell_type": "code",
   "execution_count": 59,
   "metadata": {},
   "outputs": [
    {
     "name": "stdout",
     "output_type": "stream",
     "text": [
      "\n",
      "Compare Multiple Classifiers:\n",
      "\n",
      "K-Fold Cross-Validation Accuracy:\n",
      "\n",
      "LD*: 0.521027 (0.112379)\n",
      "RD*: 0.521074 (0.111340)\n",
      "LAS*: 0.521033 (0.111738)\n",
      "DT*: 0.829051 (0.038359)\n",
      "MLP*: 0.645071 (0.113880)\n",
      "MLP2*: 0.851448 (0.048052)\n"
     ]
    },
    {
     "data": {
      "image/png": "[encoded data removed]",
      "text/plain": [
       "<Figure size 432x288 with 1 Axes>"
      ]
     },
     "metadata": {
      "needs_background": "light"
     },
     "output_type": "display_data"
    }
   ],
   "source": [
    "compare_models(train_X, train_y, test_X, test_y, models_opt)"
   ]
  },
  {
   "cell_type": "code",
   "execution_count": 60,
   "metadata": {},
   "outputs": [
    {
     "data": {
      "text/plain": [
       "MLPRegressor(hidden_layer_sizes=(256, 256, 256), learning_rate_init=0.005,\n",
       "             max_iter=100, random_state=75, warm_start=True)"
      ]
     },
     "execution_count": 60,
     "metadata": {},
     "output_type": "execute_result"
    }
   ],
   "source": [
    "MLP_opt2"
   ]
  },
  {
   "cell_type": "markdown",
   "metadata": {},
   "source": [
    "Υπενθύμιση μην το ξεχάσουμε: Το hidden_layer_size = (256, 256, 256) έβγαλε το καλύτερο score, ~86.7 \\%."
   ]
  },
  {
   "cell_type": "markdown",
   "metadata": {},
   "source": [
    "**Extra Trees Regressor**"
   ]
  },
  {
   "cell_type": "code",
   "execution_count": 61,
   "metadata": {},
   "outputs": [
    {
     "name": "stdout",
     "output_type": "stream",
     "text": [
      "Wall time: 13min 9s\n"
     ]
    },
    {
     "data": {
      "text/plain": [
       "GridSearchCV(cv=10, estimator=ExtraTreesRegressor(), n_jobs=-1,\n",
       "             param_grid={'criterion': ['mse', 'mae'], 'max_depth': range(1, 15),\n",
       "                         'min_samples_leaf': range(1, 5),\n",
       "                         'min_samples_split': range(2, 10)})"
      ]
     },
     "execution_count": 61,
     "metadata": {},
     "output_type": "execute_result"
    }
   ],
   "source": [
    "%%time\n",
    "ET_ = GridSearchCV(ExtraTreesRegressor(random_state=75), param_grid = {'criterion': ['mse', 'mae'],\n",
    "                                                          'max_depth': range(1,15),\n",
    "                                                         \"min_samples_split\":range(2,10),\n",
    "                                                         \"min_samples_leaf\":range(1,5)},\n",
    "                                                           n_jobs = -1,cv=10)\n",
    "ET_.fit(train_X, train_y)"
   ]
  },
  {
   "cell_type": "code",
   "execution_count": 87,
   "metadata": {},
   "outputs": [],
   "source": [
    "ET_opt = ET_.best_estimator_\n",
    "models_opt.append(('ET*',ET_opt))"
   ]
  },
  {
   "cell_type": "code",
   "execution_count": 88,
   "metadata": {},
   "outputs": [
    {
     "data": {
      "text/plain": [
       "[('LD*', LinearRegression()),\n",
       " ('RD*', Ridge(alpha=0.35000000000000003, solver='svd')),\n",
       " ('LAS*', Lasso(alpha=0.0001, tol=1e-08)),\n",
       " ('DT*',\n",
       "  DecisionTreeRegressor(criterion='mae', max_depth=14, min_samples_split=3)),\n",
       " ('MLP*',\n",
       "  MLPRegressor(learning_rate_init=0.01, random_state=75, warm_start=True)),\n",
       " ('MLP2*',\n",
       "  MLPRegressor(hidden_layer_sizes=(256, 256, 256), learning_rate_init=0.005,\n",
       "               max_iter=100, random_state=75, warm_start=True)),\n",
       " ('ET*', ExtraTreesRegressor(max_depth=14))]"
      ]
     },
     "execution_count": 88,
     "metadata": {},
     "output_type": "execute_result"
    }
   ],
   "source": [
    "models_opt"
   ]
  },
  {
   "cell_type": "code",
   "execution_count": 89,
   "metadata": {},
   "outputs": [
    {
     "name": "stdout",
     "output_type": "stream",
     "text": [
      "\n",
      "Compare Multiple Classifiers:\n",
      "\n",
      "K-Fold Cross-Validation Accuracy:\n",
      "\n",
      "LD*: 0.521027 (0.112379)\n",
      "RD*: 0.521074 (0.111340)\n",
      "LAS*: 0.521033 (0.111738)\n",
      "DT*: 0.827986 (0.036860)\n",
      "MLP*: 0.645071 (0.113880)\n",
      "MLP2*: 0.851448 (0.048052)\n",
      "ET*: 0.939103 (0.013158)\n"
     ]
    },
    {
     "data": {
      "image/png": "[encoded data removed]",
      "text/plain": [
       "<Figure size 432x288 with 1 Axes>"
      ]
     },
     "metadata": {
      "needs_background": "light"
     },
     "output_type": "display_data"
    }
   ],
   "source": [
    "compare_models(train_X, train_y, test_X, test_y, models_opt)"
   ]
  },
  {
   "cell_type": "markdown",
   "metadata": {},
   "source": [
    "**XG Boost Regressor**"
   ]
  },
  {
   "cell_type": "code",
   "execution_count": 106,
   "metadata": {},
   "outputs": [
    {
     "name": "stdout",
     "output_type": "stream",
     "text": [
      "Wall time: 33min 15s\n"
     ]
    },
    {
     "data": {
      "text/plain": [
       "GridSearchCV(cv=10,\n",
       "             estimator=XGBRegressor(base_score=None, booster=None,\n",
       "                                    colsample_bylevel=None,\n",
       "                                    colsample_bynode=None,\n",
       "                                    colsample_bytree=None, gamma=None,\n",
       "                                    gpu_id=None, importance_type='gain',\n",
       "                                    interaction_constraints=None,\n",
       "                                    learning_rate=None, max_delta_step=None,\n",
       "                                    max_depth=None, min_child_weight=None,\n",
       "                                    missing=nan, monotone_constraints=None,\n",
       "                                    n_estimators=100, n_jobs...\n",
       "                                    num_parallel_tree=None, random_state=75,\n",
       "                                    reg_alpha=None, reg_lambda=None,\n",
       "                                    scale_pos_weight=None, subsample=None,\n",
       "                                    tree_method=None, validate_parameters=None,\n",
       "                                    verbosity=None),\n",
       "             n_jobs=-1,\n",
       "             param_grid={'colsample_bytree': [0.0, 0.1, 0.2, 0.3, 0.4],\n",
       "                         'gamma': [0.3, 0.4, 0.5], 'max_depth': [5, 6, 7],\n",
       "                         'min_child_weight': [1, 5],\n",
       "                         'n_estimators': [100, 500, 1000],\n",
       "                         'subsample': [0.6, 0.7, 0.8, 0.9, 1.0]})"
      ]
     },
     "execution_count": 106,
     "metadata": {},
     "output_type": "execute_result"
    }
   ],
   "source": [
    "%%time\n",
    "XGB_ = GridSearchCV(XGBRegressor(random_state=75,n_jobs=-1),\n",
    "                                                            param_grid  = {'min_child_weight':[1,5], \n",
    "                                                            'gamma':[i/10.0 for i in range(3,6)],  \n",
    "                                                            'subsample':[i/10.0 for i in range(6,11)],\n",
    "                                                            'colsample_bytree':[i/10.0 for i in range(0,5)], \n",
    "                                                            'max_depth': [5,6,7],\n",
    "                                                             'n_estimators':[100,500,1000]},\n",
    "                                                            n_jobs=-1,cv=10)\n",
    "XGB_.fit(train_X, train_y)"
   ]
  },
  {
   "cell_type": "code",
   "execution_count": 107,
   "metadata": {},
   "outputs": [],
   "source": [
    "XGB_opt = XGB_.best_estimator_\n",
    "del models_opt[-1]\n",
    "models_opt.append(('XGB*',XGB_opt))"
   ]
  },
  {
   "cell_type": "code",
   "execution_count": 108,
   "metadata": {},
   "outputs": [
    {
     "name": "stdout",
     "output_type": "stream",
     "text": [
      "\n",
      "Compare Multiple Classifiers:\n",
      "\n",
      "K-Fold Cross-Validation Accuracy:\n",
      "\n",
      "LD*: 0.521027 (0.112379)\n",
      "RD*: 0.521074 (0.111340)\n",
      "LAS*: 0.521033 (0.111738)\n",
      "DT*: 0.822833 (0.039514)\n",
      "MLP*: 0.645071 (0.113880)\n",
      "MLP2*: 0.851448 (0.048052)\n",
      "ET*: 0.938214 (0.014201)\n",
      "XGB*: 0.764351 (0.057012)\n"
     ]
    },
    {
     "data": {
      "image/png": "[encoded data removed]",
      "text/plain": [
       "<Figure size 432x288 with 1 Axes>"
      ]
     },
     "metadata": {
      "needs_background": "light"
     },
     "output_type": "display_data"
    }
   ],
   "source": [
    "compare_models(train_X, train_y, test_X, test_y, models_opt)"
   ]
  },
  {
   "cell_type": "code",
   "execution_count": 105,
   "metadata": {},
   "outputs": [
    {
     "data": {
      "text/plain": [
       "XGBRegressor(base_score=0.5, booster='gbtree', colsample_bylevel=1,\n",
       "             colsample_bynode=1, colsample_bytree=0.4, gamma=0.3, gpu_id=-1,\n",
       "             importance_type='gain', interaction_constraints='',\n",
       "             learning_rate=0.300000012, max_delta_step=0, max_depth=6,\n",
       "             min_child_weight=1, missing=nan, monotone_constraints='()',\n",
       "             n_estimators=100, n_jobs=-1, num_parallel_tree=1, random_state=75,\n",
       "             reg_alpha=0, reg_lambda=1, scale_pos_weight=1, subsample=0.9,\n",
       "             tree_method='exact', validate_parameters=1, verbosity=None)"
      ]
     },
     "execution_count": 105,
     "metadata": {},
     "output_type": "execute_result"
    }
   ],
   "source": [
    "XGB_.best_estimator_"
   ]
  },
  {
   "cell_type": "code",
   "execution_count": null,
   "metadata": {},
   "outputs": [],
   "source": []
  }
 ],
 "metadata": {
  "kernelspec": {
   "display_name": "Python 3",
   "language": "python",
   "name": "python3"
  },
  "language_info": {
   "codemirror_mode": {
    "name": "ipython",
    "version": 3
   },
   "file_extension": ".py",
   "mimetype": "text/x-python",
   "name": "python",
   "nbconvert_exporter": "python",
   "pygments_lexer": "ipython3",
   "version": "3.8.5"
  }
 },
 "nbformat": 4,
 "nbformat_minor": 4
}
