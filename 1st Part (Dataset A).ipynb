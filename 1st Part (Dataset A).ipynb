{
 "cells": [
  {
   "cell_type": "markdown",
   "metadata": {},
   "source": [
    "## Ομάδα #75 \n",
    "## Νικόλαος Μανιάτης - Φίλιππος Μαυρεπής\n",
    "\n",
    "##### Datasets: S12,\tB04,\t119"
   ]
  },
  {
   "cell_type": "code",
   "execution_count": 1,
   "metadata": {
    "execution": {
     "iopub.execute_input": "2021-03-13T15:16:47.737318Z",
     "iopub.status.busy": "2021-03-13T15:16:47.737318Z",
     "iopub.status.idle": "2021-03-13T15:16:50.164143Z",
     "shell.execute_reply": "2021-03-13T15:16:50.163143Z",
     "shell.execute_reply.started": "2021-03-13T15:16:47.737318Z"
    }
   },
   "outputs": [],
   "source": [
    "import pandas as pd\n",
    "import numpy as np\n",
    "import matplotlib.pyplot as plt\n",
    "from statsmodels.stats.outliers_influence import variance_inflation_factor\n",
    "from sklearn.model_selection import train_test_split\n",
    "from sklearn.linear_model import LinearRegression,Ridge,Lasso\n",
    "from sklearn.svm import SVR\n",
    "from sklearn.tree import DecisionTreeRegressor\n",
    "from sklearn.neural_network import MLPRegressor\n",
    "from sklearn.ensemble import ExtraTreesRegressor\n",
    "import xgboost as xgb\n",
    "from xgboost import XGBRegressor\n",
    "from sklearn.model_selection import cross_val_score,KFold\n",
    "from sklearn.model_selection import GridSearchCV\n",
    "import seaborn as sns"
   ]
  },
  {
   "cell_type": "markdown",
   "metadata": {},
   "source": [
    "**Dataset Abstract**\n",
    "NASA data set, obtained from a series of aerodynamic and acoustic tests of two and three-dimensional airfoil blade sections conducted in an anechoic wind tunnel."
   ]
  },
  {
   "cell_type": "markdown",
   "metadata": {},
   "source": [
    "**Attribute Information:**\n",
    "\n",
    "This problem has the following inputs:\n",
    "1. Frequency, in Hertzs.\n",
    "2. Angle of attack, in degrees.\n",
    "3. Chord length, in meters.\n",
    "4. Free-stream velocity, in meters per second.\n",
    "5. Suction side displacement thickness, in meters.\n",
    "\n",
    "The only output is:\n",
    "6. Scaled sound pressure level, in decibels."
   ]
  },
  {
   "cell_type": "code",
   "execution_count": 2,
   "metadata": {
    "execution": {
     "iopub.execute_input": "2021-03-13T15:16:50.349729Z",
     "iopub.status.busy": "2021-03-13T15:16:50.349729Z",
     "iopub.status.idle": "2021-03-13T15:16:50.383730Z",
     "shell.execute_reply": "2021-03-13T15:16:50.382727Z",
     "shell.execute_reply.started": "2021-03-13T15:16:50.349729Z"
    }
   },
   "outputs": [
    {
     "name": "stdout",
     "output_type": "stream",
     "text": [
      "(1503, 6)\n"
     ]
    },
    {
     "data": {
      "text/html": [
       "<div>\n",
       "<style scoped>\n",
       "    .dataframe tbody tr th:only-of-type {\n",
       "        vertical-align: middle;\n",
       "    }\n",
       "\n",
       "    .dataframe tbody tr th {\n",
       "        vertical-align: top;\n",
       "    }\n",
       "\n",
       "    .dataframe thead th {\n",
       "        text-align: right;\n",
       "    }\n",
       "</style>\n",
       "<table border=\"1\" class=\"dataframe\">\n",
       "  <thead>\n",
       "    <tr style=\"text-align: right;\">\n",
       "      <th></th>\n",
       "      <th>freq</th>\n",
       "      <th>angle</th>\n",
       "      <th>length</th>\n",
       "      <th>velocity</th>\n",
       "      <th>thickness</th>\n",
       "      <th>pressure</th>\n",
       "    </tr>\n",
       "  </thead>\n",
       "  <tbody>\n",
       "    <tr>\n",
       "      <th>0</th>\n",
       "      <td>800</td>\n",
       "      <td>0.0</td>\n",
       "      <td>0.3048</td>\n",
       "      <td>71.3</td>\n",
       "      <td>0.002663</td>\n",
       "      <td>126.201</td>\n",
       "    </tr>\n",
       "    <tr>\n",
       "      <th>1</th>\n",
       "      <td>1000</td>\n",
       "      <td>0.0</td>\n",
       "      <td>0.3048</td>\n",
       "      <td>71.3</td>\n",
       "      <td>0.002663</td>\n",
       "      <td>125.201</td>\n",
       "    </tr>\n",
       "    <tr>\n",
       "      <th>2</th>\n",
       "      <td>1250</td>\n",
       "      <td>0.0</td>\n",
       "      <td>0.3048</td>\n",
       "      <td>71.3</td>\n",
       "      <td>0.002663</td>\n",
       "      <td>125.951</td>\n",
       "    </tr>\n",
       "    <tr>\n",
       "      <th>3</th>\n",
       "      <td>1600</td>\n",
       "      <td>0.0</td>\n",
       "      <td>0.3048</td>\n",
       "      <td>71.3</td>\n",
       "      <td>0.002663</td>\n",
       "      <td>127.591</td>\n",
       "    </tr>\n",
       "    <tr>\n",
       "      <th>4</th>\n",
       "      <td>2000</td>\n",
       "      <td>0.0</td>\n",
       "      <td>0.3048</td>\n",
       "      <td>71.3</td>\n",
       "      <td>0.002663</td>\n",
       "      <td>127.461</td>\n",
       "    </tr>\n",
       "  </tbody>\n",
       "</table>\n",
       "</div>"
      ],
      "text/plain": [
       "   freq  angle  length  velocity  thickness  pressure\n",
       "0   800    0.0  0.3048      71.3   0.002663   126.201\n",
       "1  1000    0.0  0.3048      71.3   0.002663   125.201\n",
       "2  1250    0.0  0.3048      71.3   0.002663   125.951\n",
       "3  1600    0.0  0.3048      71.3   0.002663   127.591\n",
       "4  2000    0.0  0.3048      71.3   0.002663   127.461"
      ]
     },
     "execution_count": 2,
     "metadata": {},
     "output_type": "execute_result"
    }
   ],
   "source": [
    "features = ['freq','angle','length','velocity','thickness','pressure']\n",
    "df = pd.read_table('./datasets/airfoil_self_noise.dat',names = features )\n",
    "print(df.shape)\n",
    "df.head()"
   ]
  },
  {
   "cell_type": "code",
   "execution_count": 3,
   "metadata": {
    "execution": {
     "iopub.execute_input": "2021-03-13T15:16:53.260905Z",
     "iopub.status.busy": "2021-03-13T15:16:53.260905Z",
     "iopub.status.idle": "2021-03-13T15:16:53.274958Z",
     "shell.execute_reply": "2021-03-13T15:16:53.274958Z",
     "shell.execute_reply.started": "2021-03-13T15:16:53.260905Z"
    }
   },
   "outputs": [
    {
     "data": {
      "text/plain": [
       "freq         0\n",
       "angle        0\n",
       "length       0\n",
       "velocity     0\n",
       "thickness    0\n",
       "pressure     0\n",
       "dtype: int64"
      ]
     },
     "execution_count": 3,
     "metadata": {},
     "output_type": "execute_result"
    }
   ],
   "source": [
    "df.isna().sum()"
   ]
  },
  {
   "cell_type": "code",
   "execution_count": 4,
   "metadata": {
    "execution": {
     "iopub.execute_input": "2021-03-13T15:16:53.473655Z",
     "iopub.status.busy": "2021-03-13T15:16:53.472658Z",
     "iopub.status.idle": "2021-03-13T15:16:53.496656Z",
     "shell.execute_reply": "2021-03-13T15:16:53.495654Z",
     "shell.execute_reply.started": "2021-03-13T15:16:53.472658Z"
    }
   },
   "outputs": [
    {
     "data": {
      "text/html": [
       "<div>\n",
       "<style scoped>\n",
       "    .dataframe tbody tr th:only-of-type {\n",
       "        vertical-align: middle;\n",
       "    }\n",
       "\n",
       "    .dataframe tbody tr th {\n",
       "        vertical-align: top;\n",
       "    }\n",
       "\n",
       "    .dataframe thead th {\n",
       "        text-align: right;\n",
       "    }\n",
       "</style>\n",
       "<table border=\"1\" class=\"dataframe\">\n",
       "  <thead>\n",
       "    <tr style=\"text-align: right;\">\n",
       "      <th></th>\n",
       "      <th>freq</th>\n",
       "      <th>angle</th>\n",
       "      <th>length</th>\n",
       "      <th>velocity</th>\n",
       "      <th>thickness</th>\n",
       "      <th>pressure</th>\n",
       "    </tr>\n",
       "  </thead>\n",
       "  <tbody>\n",
       "    <tr>\n",
       "      <th>freq</th>\n",
       "      <td>1.000000</td>\n",
       "      <td>-0.272765</td>\n",
       "      <td>-0.003661</td>\n",
       "      <td>0.133664</td>\n",
       "      <td>-0.230107</td>\n",
       "      <td>-0.390711</td>\n",
       "    </tr>\n",
       "    <tr>\n",
       "      <th>angle</th>\n",
       "      <td>-0.272765</td>\n",
       "      <td>1.000000</td>\n",
       "      <td>-0.504868</td>\n",
       "      <td>0.058760</td>\n",
       "      <td>0.753394</td>\n",
       "      <td>-0.156108</td>\n",
       "    </tr>\n",
       "    <tr>\n",
       "      <th>length</th>\n",
       "      <td>-0.003661</td>\n",
       "      <td>-0.504868</td>\n",
       "      <td>1.000000</td>\n",
       "      <td>0.003787</td>\n",
       "      <td>-0.220842</td>\n",
       "      <td>-0.236162</td>\n",
       "    </tr>\n",
       "    <tr>\n",
       "      <th>velocity</th>\n",
       "      <td>0.133664</td>\n",
       "      <td>0.058760</td>\n",
       "      <td>0.003787</td>\n",
       "      <td>1.000000</td>\n",
       "      <td>-0.003974</td>\n",
       "      <td>0.125103</td>\n",
       "    </tr>\n",
       "    <tr>\n",
       "      <th>thickness</th>\n",
       "      <td>-0.230107</td>\n",
       "      <td>0.753394</td>\n",
       "      <td>-0.220842</td>\n",
       "      <td>-0.003974</td>\n",
       "      <td>1.000000</td>\n",
       "      <td>-0.312670</td>\n",
       "    </tr>\n",
       "    <tr>\n",
       "      <th>pressure</th>\n",
       "      <td>-0.390711</td>\n",
       "      <td>-0.156108</td>\n",
       "      <td>-0.236162</td>\n",
       "      <td>0.125103</td>\n",
       "      <td>-0.312670</td>\n",
       "      <td>1.000000</td>\n",
       "    </tr>\n",
       "  </tbody>\n",
       "</table>\n",
       "</div>"
      ],
      "text/plain": [
       "               freq     angle    length  velocity  thickness  pressure\n",
       "freq       1.000000 -0.272765 -0.003661  0.133664  -0.230107 -0.390711\n",
       "angle     -0.272765  1.000000 -0.504868  0.058760   0.753394 -0.156108\n",
       "length    -0.003661 -0.504868  1.000000  0.003787  -0.220842 -0.236162\n",
       "velocity   0.133664  0.058760  0.003787  1.000000  -0.003974  0.125103\n",
       "thickness -0.230107  0.753394 -0.220842 -0.003974   1.000000 -0.312670\n",
       "pressure  -0.390711 -0.156108 -0.236162  0.125103  -0.312670  1.000000"
      ]
     },
     "execution_count": 4,
     "metadata": {},
     "output_type": "execute_result"
    }
   ],
   "source": [
    "df.corr()"
   ]
  },
  {
   "cell_type": "code",
   "execution_count": 5,
   "metadata": {
    "execution": {
     "iopub.execute_input": "2021-03-13T15:16:53.602656Z",
     "iopub.status.busy": "2021-03-13T15:16:53.601655Z",
     "iopub.status.idle": "2021-03-13T15:16:53.622652Z",
     "shell.execute_reply": "2021-03-13T15:16:53.621651Z",
     "shell.execute_reply.started": "2021-03-13T15:16:53.602656Z"
    }
   },
   "outputs": [
    {
     "data": {
      "text/plain": [
       "Index(['freq', 'angle', 'length', 'velocity', 'thickness', 'pressure'], dtype='object')"
      ]
     },
     "execution_count": 5,
     "metadata": {},
     "output_type": "execute_result"
    }
   ],
   "source": [
    "df.columns"
   ]
  },
  {
   "cell_type": "markdown",
   "metadata": {},
   "source": [
    "### Train-Test-Split our Dataset"
   ]
  },
  {
   "cell_type": "code",
   "execution_count": 7,
   "metadata": {
    "execution": {
     "iopub.execute_input": "2021-03-13T15:17:00.974726Z",
     "iopub.status.busy": "2021-03-13T15:17:00.974726Z",
     "iopub.status.idle": "2021-03-13T15:17:00.982725Z",
     "shell.execute_reply": "2021-03-13T15:17:00.981721Z",
     "shell.execute_reply.started": "2021-03-13T15:17:00.974726Z"
    }
   },
   "outputs": [],
   "source": [
    "X = df.copy()\n",
    "X = X.drop(['pressure'],axis=1)\n",
    "y = df[['pressure']]"
   ]
  },
  {
   "cell_type": "code",
   "execution_count": 8,
   "metadata": {
    "execution": {
     "iopub.execute_input": "2021-03-13T15:17:13.203980Z",
     "iopub.status.busy": "2021-03-13T15:17:13.203980Z",
     "iopub.status.idle": "2021-03-13T15:17:13.226521Z",
     "shell.execute_reply": "2021-03-13T15:17:13.225519Z",
     "shell.execute_reply.started": "2021-03-13T15:17:13.203980Z"
    }
   },
   "outputs": [
    {
     "name": "stdout",
     "output_type": "stream",
     "text": [
      "X train shape: (1052, 5)\n",
      "X test shape: (451, 5)\n",
      "y train shape: (1052, 1)\n",
      "y test shape: (451, 1)\n"
     ]
    }
   ],
   "source": [
    "X_train, X_test, y_train, y_test = train_test_split(X, y, test_size=0.3, random_state=75)\n",
    "print('X train shape:',X_train.shape)\n",
    "print('X test shape:',X_test.shape)\n",
    "print('y train shape:',y_train.shape)\n",
    "print('y test shape:',y_test.shape)"
   ]
  },
  {
   "cell_type": "markdown",
   "metadata": {},
   "source": [
    "**Θα ξεκινήσουμε με δύο απλούς Regressors, τον Ordinary Least Squares και τον Polynomial Regressor. Αυτοί δεν επιδέχονται κάποιου είδους optimization (εκτός από την τάξη του πολυωνύμου) οπότε τους παρουσιάζουμε στην αρχή, πριν συνεχίσουμε με πιο πολύπλοκους αλγόριθμους.**"
   ]
  },
  {
   "cell_type": "markdown",
   "metadata": {},
   "source": [
    "## Ordinary Least Squares"
   ]
  },
  {
   "cell_type": "code",
   "execution_count": 11,
   "metadata": {
    "execution": {
     "iopub.execute_input": "2021-03-13T15:02:33.415278Z",
     "iopub.status.busy": "2021-03-13T15:02:33.415278Z",
     "iopub.status.idle": "2021-03-13T15:02:33.511277Z",
     "shell.execute_reply": "2021-03-13T15:02:33.510277Z",
     "shell.execute_reply.started": "2021-03-13T15:02:33.415278Z"
    }
   },
   "outputs": [],
   "source": [
    "reg = LinearRegression().fit(X_train, y_train)"
   ]
  },
  {
   "cell_type": "code",
   "execution_count": 12,
   "metadata": {
    "execution": {
     "iopub.execute_input": "2021-03-13T15:02:33.860276Z",
     "iopub.status.busy": "2021-03-13T15:02:33.859277Z",
     "iopub.status.idle": "2021-03-13T15:02:33.868276Z",
     "shell.execute_reply": "2021-03-13T15:02:33.868276Z",
     "shell.execute_reply.started": "2021-03-13T15:02:33.860276Z"
    }
   },
   "outputs": [
    {
     "data": {
      "text/plain": [
       "0.48701529018157896"
      ]
     },
     "execution_count": 12,
     "metadata": {},
     "output_type": "execute_result"
    }
   ],
   "source": [
    "reg.score(X_test, y_test)"
   ]
  },
  {
   "cell_type": "markdown",
   "metadata": {},
   "source": [
    "## Polynomial Regression"
   ]
  },
  {
   "cell_type": "code",
   "execution_count": 102,
   "metadata": {
    "execution": {
     "iopub.execute_input": "2021-03-13T16:47:46.452051Z",
     "iopub.status.busy": "2021-03-13T16:47:46.451050Z",
     "iopub.status.idle": "2021-03-13T16:47:46.472076Z",
     "shell.execute_reply": "2021-03-13T16:47:46.471085Z",
     "shell.execute_reply.started": "2021-03-13T16:47:46.452051Z"
    }
   },
   "outputs": [],
   "source": [
    "from sklearn.pipeline import Pipeline\n",
    "from sklearn.preprocessing import PolynomialFeatures"
   ]
  },
  {
   "cell_type": "code",
   "execution_count": 103,
   "metadata": {
    "execution": {
     "iopub.execute_input": "2021-03-13T16:47:46.761583Z",
     "iopub.status.busy": "2021-03-13T16:47:46.761583Z",
     "iopub.status.idle": "2021-03-13T16:47:46.781743Z",
     "shell.execute_reply": "2021-03-13T16:47:46.780743Z",
     "shell.execute_reply.started": "2021-03-13T16:47:46.761583Z"
    }
   },
   "outputs": [
    {
     "data": {
      "text/plain": [
       "array([[1.00000000e+00, 8.00000000e+02, 0.00000000e+00, ...,\n",
       "        5.08369000e+03, 1.89898281e-01, 7.09353976e-06],\n",
       "       [1.00000000e+00, 1.00000000e+03, 0.00000000e+00, ...,\n",
       "        5.08369000e+03, 1.89898281e-01, 7.09353976e-06],\n",
       "       [1.00000000e+00, 1.25000000e+03, 0.00000000e+00, ...,\n",
       "        5.08369000e+03, 1.89898281e-01, 7.09353976e-06],\n",
       "       ...,\n",
       "       [1.00000000e+00, 4.00000000e+03, 1.56000000e+01, ...,\n",
       "        1.56816000e+03, 2.09280852e+00, 2.79298509e-03],\n",
       "       [1.00000000e+00, 5.00000000e+03, 1.56000000e+01, ...,\n",
       "        1.56816000e+03, 2.09280852e+00, 2.79298509e-03],\n",
       "       [1.00000000e+00, 6.30000000e+03, 1.56000000e+01, ...,\n",
       "        1.56816000e+03, 2.09280852e+00, 2.79298509e-03]])"
      ]
     },
     "execution_count": 103,
     "metadata": {},
     "output_type": "execute_result"
    }
   ],
   "source": [
    "poly = PolynomialFeatures(degree=2)\n",
    "poly.fit_transform(X)"
   ]
  },
  {
   "cell_type": "code",
   "execution_count": 104,
   "metadata": {
    "execution": {
     "iopub.execute_input": "2021-03-13T16:47:48.701716Z",
     "iopub.status.busy": "2021-03-13T16:47:48.701716Z",
     "iopub.status.idle": "2021-03-13T16:47:48.740684Z",
     "shell.execute_reply": "2021-03-13T16:47:48.738686Z",
     "shell.execute_reply.started": "2021-03-13T16:47:48.701716Z"
    }
   },
   "outputs": [
    {
     "data": {
      "text/plain": [
       "0.6223336446282257"
      ]
     },
     "execution_count": 104,
     "metadata": {},
     "output_type": "execute_result"
    }
   ],
   "source": [
    "model = Pipeline([('poly', PolynomialFeatures(degree=2)),\n",
    "...                   ('linear', LinearRegression(fit_intercept=False))])\n",
    "# fit to an order-3 polynomial data\n",
    "model = model.fit(X_train,y_train)\n",
    "model.named_steps['linear'].coef_\n",
    "model.score(X_test, y_test)"
   ]
  },
  {
   "cell_type": "code",
   "execution_count": 134,
   "metadata": {
    "execution": {
     "iopub.execute_input": "2021-03-13T16:55:07.298243Z",
     "iopub.status.busy": "2021-03-13T16:55:07.298243Z",
     "iopub.status.idle": "2021-03-13T16:55:07.492487Z",
     "shell.execute_reply": "2021-03-13T16:55:07.491515Z",
     "shell.execute_reply.started": "2021-03-13T16:55:07.298243Z"
    }
   },
   "outputs": [
    {
     "name": "stdout",
     "output_type": "stream",
     "text": [
      "degree of polynomial = 1 and score is 0.48701529018065426\n",
      "degree of polynomial = 2 and score is 0.6223336446282257\n",
      "degree of polynomial = 3 and score is 0.7209720262016102\n"
     ]
    },
    {
     "data": {
      "image/png": "[encoded data removed]",
      "text/plain": [
       "<Figure size 432x288 with 1 Axes>"
      ]
     },
     "metadata": {
      "needs_background": "light"
     },
     "output_type": "display_data"
    }
   ],
   "source": [
    "scores = []\n",
    "ais = []\n",
    "for i in range(1,4):\n",
    "    model = Pipeline([('poly', PolynomialFeatures(degree=i)),\n",
    "    ('linear', LinearRegression(fit_intercept=False))])\n",
    "    # fit to an order-3 polynomial data\n",
    "    model = model.fit(X_train,y_train)\n",
    "    model.named_steps['linear'].coef_\n",
    "    print('degree of polynomial = {} and score is {}'.format(i,model.score(X_test, y_test)))\n",
    "    scores.append(model.score(X_test,y_test))\n",
    "    ais.append(i)\n",
    "plt.plot(ais,scores)\n",
    "plt.scatter(ais,scores)\n",
    "plt.ylabel('R^2 score')\n",
    "plt.xlabel('Degree of Polynomial')\n",
    "plt.xticks([1,2,3])\n",
    "plt.yticks()\n",
    "plt.show()"
   ]
  },
  {
   "cell_type": "markdown",
   "metadata": {},
   "source": [
    "# Main Problem"
   ]
  },
  {
   "cell_type": "code",
   "execution_count": 15,
   "metadata": {
    "execution": {
     "iopub.execute_input": "2021-03-13T15:02:44.086012Z",
     "iopub.status.busy": "2021-03-13T15:02:44.086012Z",
     "iopub.status.idle": "2021-03-13T15:02:44.103012Z",
     "shell.execute_reply": "2021-03-13T15:02:44.102044Z",
     "shell.execute_reply.started": "2021-03-13T15:02:44.086012Z"
    }
   },
   "outputs": [
    {
     "name": "stdout",
     "output_type": "stream",
     "text": [
      "(1503, 6)\n"
     ]
    },
    {
     "data": {
      "text/html": [
       "<div>\n",
       "<style scoped>\n",
       "    .dataframe tbody tr th:only-of-type {\n",
       "        vertical-align: middle;\n",
       "    }\n",
       "\n",
       "    .dataframe tbody tr th {\n",
       "        vertical-align: top;\n",
       "    }\n",
       "\n",
       "    .dataframe thead th {\n",
       "        text-align: right;\n",
       "    }\n",
       "</style>\n",
       "<table border=\"1\" class=\"dataframe\">\n",
       "  <thead>\n",
       "    <tr style=\"text-align: right;\">\n",
       "      <th></th>\n",
       "      <th>freq</th>\n",
       "      <th>angle</th>\n",
       "      <th>length</th>\n",
       "      <th>velocity</th>\n",
       "      <th>thickness</th>\n",
       "      <th>pressure</th>\n",
       "    </tr>\n",
       "  </thead>\n",
       "  <tbody>\n",
       "    <tr>\n",
       "      <th>0</th>\n",
       "      <td>800</td>\n",
       "      <td>0.0</td>\n",
       "      <td>0.3048</td>\n",
       "      <td>71.3</td>\n",
       "      <td>0.002663</td>\n",
       "      <td>126.201</td>\n",
       "    </tr>\n",
       "    <tr>\n",
       "      <th>1</th>\n",
       "      <td>1000</td>\n",
       "      <td>0.0</td>\n",
       "      <td>0.3048</td>\n",
       "      <td>71.3</td>\n",
       "      <td>0.002663</td>\n",
       "      <td>125.201</td>\n",
       "    </tr>\n",
       "    <tr>\n",
       "      <th>2</th>\n",
       "      <td>1250</td>\n",
       "      <td>0.0</td>\n",
       "      <td>0.3048</td>\n",
       "      <td>71.3</td>\n",
       "      <td>0.002663</td>\n",
       "      <td>125.951</td>\n",
       "    </tr>\n",
       "    <tr>\n",
       "      <th>3</th>\n",
       "      <td>1600</td>\n",
       "      <td>0.0</td>\n",
       "      <td>0.3048</td>\n",
       "      <td>71.3</td>\n",
       "      <td>0.002663</td>\n",
       "      <td>127.591</td>\n",
       "    </tr>\n",
       "    <tr>\n",
       "      <th>4</th>\n",
       "      <td>2000</td>\n",
       "      <td>0.0</td>\n",
       "      <td>0.3048</td>\n",
       "      <td>71.3</td>\n",
       "      <td>0.002663</td>\n",
       "      <td>127.461</td>\n",
       "    </tr>\n",
       "  </tbody>\n",
       "</table>\n",
       "</div>"
      ],
      "text/plain": [
       "   freq  angle  length  velocity  thickness  pressure\n",
       "0   800    0.0  0.3048      71.3   0.002663   126.201\n",
       "1  1000    0.0  0.3048      71.3   0.002663   125.201\n",
       "2  1250    0.0  0.3048      71.3   0.002663   125.951\n",
       "3  1600    0.0  0.3048      71.3   0.002663   127.591\n",
       "4  2000    0.0  0.3048      71.3   0.002663   127.461"
      ]
     },
     "execution_count": 15,
     "metadata": {},
     "output_type": "execute_result"
    }
   ],
   "source": [
    "features = ['freq','angle','length','velocity','thickness','pressure']\n",
    "df = pd.read_table('./datasets/airfoil_self_noise.dat',names = features )\n",
    "print(df.shape)\n",
    "df.head()"
   ]
  },
  {
   "cell_type": "code",
   "execution_count": 9,
   "metadata": {
    "execution": {
     "iopub.execute_input": "2021-03-13T15:17:34.464396Z",
     "iopub.status.busy": "2021-03-13T15:17:34.464396Z",
     "iopub.status.idle": "2021-03-13T15:17:34.480908Z",
     "shell.execute_reply": "2021-03-13T15:17:34.479907Z",
     "shell.execute_reply.started": "2021-03-13T15:17:34.464396Z"
    }
   },
   "outputs": [],
   "source": [
    "X = df.copy()\n",
    "X = X.drop(['pressure'],axis=1)\n",
    "y = df[['pressure']]"
   ]
  },
  {
   "cell_type": "code",
   "execution_count": 10,
   "metadata": {
    "execution": {
     "iopub.execute_input": "2021-03-13T15:17:34.787908Z",
     "iopub.status.busy": "2021-03-13T15:17:34.786909Z",
     "iopub.status.idle": "2021-03-13T15:17:34.810908Z",
     "shell.execute_reply": "2021-03-13T15:17:34.809911Z",
     "shell.execute_reply.started": "2021-03-13T15:17:34.787908Z"
    }
   },
   "outputs": [],
   "source": [
    "from sklearn import preprocessing\n",
    "scaler_x = preprocessing.MinMaxScaler()\n",
    "X_scaled = scaler_x.fit_transform(X)\n",
    "scaler_y = preprocessing.MinMaxScaler()\n",
    "y_scaled = scaler_y.fit_transform(np.array(y).reshape(-1,1))\n",
    "y_scaled = y_scaled.reshape(-1)\n",
    "train_X, test_X, train_y, test_y = train_test_split(X_scaled, y_scaled, random_state=1)\n",
    "# val_y = scaler_y.inverse_transform(np.array(val_y).reshape(-1,1))"
   ]
  },
  {
   "cell_type": "code",
   "execution_count": 11,
   "metadata": {
    "execution": {
     "iopub.execute_input": "2021-03-13T15:17:35.927555Z",
     "iopub.status.busy": "2021-03-13T15:17:35.926558Z",
     "iopub.status.idle": "2021-03-13T15:17:35.943658Z",
     "shell.execute_reply": "2021-03-13T15:17:35.942655Z",
     "shell.execute_reply.started": "2021-03-13T15:17:35.927555Z"
    }
   },
   "outputs": [],
   "source": [
    "models = []\n",
    "models.append(('LR', LinearRegression()))\n",
    "models.append(('RD', Ridge()))\n",
    "models.append(('LAS', Lasso()))\n",
    "models.append(('DT', DecisionTreeRegressor(random_state=75)))\n",
    "models.append(('MLP', MLPRegressor(random_state=75)))#Default Hidden Layers\n",
    "models.append(('DMLP', MLPRegressor(random_state=75, hidden_layer_sizes=(100,100))))#With 1 extra hidden layer, default is (100,). (Deep Multi Layer Perceptron).\n",
    "models.append(('SVR',SVR()))\n",
    "models.append(('ET',ExtraTreesRegressor(random_state=75)))\n",
    "models.append(('XGB', XGBRegressor(random_state=75)))"
   ]
  },
  {
   "cell_type": "code",
   "execution_count": 137,
   "metadata": {
    "execution": {
     "iopub.execute_input": "2021-03-13T16:58:28.753282Z",
     "iopub.status.busy": "2021-03-13T16:58:28.753282Z",
     "iopub.status.idle": "2021-03-13T16:58:28.775281Z",
     "shell.execute_reply": "2021-03-13T16:58:28.774282Z",
     "shell.execute_reply.started": "2021-03-13T16:58:28.753282Z"
    }
   },
   "outputs": [],
   "source": [
    "def compare_models(trainX,trainY,testX,testY,models):\n",
    "    print('\\nCompare Multiple Classifiers:')\n",
    "    print('\\nK-Fold Cross-Validation Accuracy:\\n')\n",
    "    \n",
    "    names = []\n",
    "    tempdf = pd.DataFrame(columns=['Name','Dataset','Score','St.Dev'])\n",
    "    for name, model in models:\n",
    "        model.fit(trainX,trainY)\n",
    "        kfold = KFold(n_splits=2,shuffle=True,random_state = 75)\n",
    "        train_accuracy_results = cross_val_score(model, trainX,trainY, cv=kfold)\n",
    "        test_accuracy_results = cross_val_score(model,testX,testY,cv=kfold)\n",
    "        tempdf = tempdf.append({'Name':name,'Dataset':'Train','Score':train_accuracy_results.mean(),\n",
    "                               'St.Dev':train_accuracy_results.std()},ignore_index=True)\n",
    "        tempdf = tempdf.append({'Name':name,'Dataset':'Test','Score':test_accuracy_results.mean(),\n",
    "                               'St.Dev':test_accuracy_results.std()},ignore_index=True)\n",
    "    g = sns.catplot(x = 'Name', y='Score',hue = 'Dataset',data=tempdf, kind='bar')\n",
    "    g.set_xticklabels(rotation=30)\n",
    "    return tempdf,plt.show()"
   ]
  },
  {
   "cell_type": "code",
   "execution_count": 151,
   "metadata": {
    "execution": {
     "iopub.execute_input": "2021-03-13T17:05:16.419169Z",
     "iopub.status.busy": "2021-03-13T17:05:16.419169Z",
     "iopub.status.idle": "2021-03-13T17:05:22.300767Z",
     "shell.execute_reply": "2021-03-13T17:05:22.299802Z",
     "shell.execute_reply.started": "2021-03-13T17:05:16.419169Z"
    }
   },
   "outputs": [
    {
     "name": "stdout",
     "output_type": "stream",
     "text": [
      "\n",
      "Compare Multiple Classifiers:\n",
      "\n",
      "K-Fold Cross-Validation Accuracy:\n",
      "\n"
     ]
    },
    {
     "data": {
      "image/png": "[encoded data removed]",
      "text/plain": [
       "<Figure size 420x360 with 1 Axes>"
      ]
     },
     "metadata": {
      "needs_background": "light"
     },
     "output_type": "display_data"
    }
   ],
   "source": [
    "models_df,_ = compare_models(train_X, train_y, test_X, test_y, models)"
   ]
  },
  {
   "cell_type": "markdown",
   "metadata": {},
   "source": [
    "About LASSO:\n",
    "It's not impossible to get an R^2 value less than 0.\n",
    "R^2 is a metric used to measure the performance of a regressor. The optimal score of R^2 metric is 1. If any regressor predicts a constant value, you should expect an R^2 score of 0 for that regressor. **But unexpectedly, you can get worse performance than that.**"
   ]
  },
  {
   "cell_type": "markdown",
   "metadata": {},
   "source": [
    "## Optimization for each regressor individually"
   ]
  },
  {
   "cell_type": "code",
   "execution_count": 14,
   "metadata": {
    "execution": {
     "iopub.execute_input": "2021-03-13T15:17:43.348227Z",
     "iopub.status.busy": "2021-03-13T15:17:43.347222Z",
     "iopub.status.idle": "2021-03-13T15:17:43.361240Z",
     "shell.execute_reply": "2021-03-13T15:17:43.360241Z",
     "shell.execute_reply.started": "2021-03-13T15:17:43.348227Z"
    }
   },
   "outputs": [],
   "source": [
    "models_opt = []"
   ]
  },
  {
   "cell_type": "markdown",
   "metadata": {},
   "source": [
    "#### 1. Linear Regression: Has to hyperparameters to optimize."
   ]
  },
  {
   "cell_type": "code",
   "execution_count": 15,
   "metadata": {
    "execution": {
     "iopub.execute_input": "2021-03-13T15:17:43.362239Z",
     "iopub.status.busy": "2021-03-13T15:17:43.362239Z",
     "iopub.status.idle": "2021-03-13T15:17:43.377242Z",
     "shell.execute_reply": "2021-03-13T15:17:43.376241Z",
     "shell.execute_reply.started": "2021-03-13T15:17:43.362239Z"
    }
   },
   "outputs": [],
   "source": [
    "LR = LinearRegression()\n",
    "models_opt.append(('LD*',LR))"
   ]
  },
  {
   "cell_type": "markdown",
   "metadata": {},
   "source": [
    "#### 2. Ridge Regression"
   ]
  },
  {
   "cell_type": "code",
   "execution_count": 24,
   "metadata": {
    "execution": {
     "iopub.execute_input": "2021-03-13T15:03:46.863264Z",
     "iopub.status.busy": "2021-03-13T15:03:46.863264Z",
     "iopub.status.idle": "2021-03-13T15:03:47.117166Z",
     "shell.execute_reply": "2021-03-13T15:03:47.117166Z",
     "shell.execute_reply.started": "2021-03-13T15:03:46.863264Z"
    }
   },
   "outputs": [
    {
     "name": "stdout",
     "output_type": "stream",
     "text": [
      "Wall time: 243 ms\n"
     ]
    },
    {
     "data": {
      "text/plain": [
       "GridSearchCV(cv=KFold(n_splits=2, random_state=75, shuffle=True),\n",
       "             estimator=Ridge(),\n",
       "             param_grid={'alpha': [0.0, 0.05, 0.1, 0.15000000000000002, 0.2,\n",
       "                                   0.25, 0.30000000000000004,\n",
       "                                   0.35000000000000003, 0.4, 0.45, 0.5, 0.55,\n",
       "                                   0.6000000000000001, 0.65, 0.7000000000000001,\n",
       "                                   0.75, 0.8, 0.8500000000000001, 0.9,\n",
       "                                   0.9500000000000001],\n",
       "                         'solver': ('svd', 'cholesky', 'lsqr')})"
      ]
     },
     "execution_count": 24,
     "metadata": {},
     "output_type": "execute_result"
    }
   ],
   "source": [
    "%%time\n",
    "Ridge_ = GridSearchCV(Ridge(), param_grid = {'alpha':[i for i in np.arange(0,1,0.05)],\\\n",
    "                                                'solver':('svd', 'cholesky', 'lsqr')},cv=KFold(n_splits=2,shuffle=True,random_state = 75))\n",
    "Ridge_.fit(train_X,train_y)"
   ]
  },
  {
   "cell_type": "code",
   "execution_count": 25,
   "metadata": {
    "execution": {
     "iopub.execute_input": "2021-03-13T15:03:49.433920Z",
     "iopub.status.busy": "2021-03-13T15:03:49.433920Z",
     "iopub.status.idle": "2021-03-13T15:03:49.446921Z",
     "shell.execute_reply": "2021-03-13T15:03:49.445945Z",
     "shell.execute_reply.started": "2021-03-13T15:03:49.433920Z"
    }
   },
   "outputs": [
    {
     "data": {
      "text/plain": [
       "Ridge(alpha=0.55, solver='lsqr')"
      ]
     },
     "execution_count": 25,
     "metadata": {},
     "output_type": "execute_result"
    }
   ],
   "source": [
    "Ridge_.best_estimator_"
   ]
  },
  {
   "cell_type": "code",
   "execution_count": 16,
   "metadata": {
    "execution": {
     "iopub.execute_input": "2021-03-13T15:17:45.019636Z",
     "iopub.status.busy": "2021-03-13T15:17:45.019636Z",
     "iopub.status.idle": "2021-03-13T15:17:45.041639Z",
     "shell.execute_reply": "2021-03-13T15:17:45.040672Z",
     "shell.execute_reply.started": "2021-03-13T15:17:45.019636Z"
    }
   },
   "outputs": [
    {
     "data": {
      "text/plain": [
       "Ridge(alpha=0.55, solver='lsqr')"
      ]
     },
     "execution_count": 16,
     "metadata": {},
     "output_type": "execute_result"
    }
   ],
   "source": [
    "Ridge_opt = Ridge(alpha=0.55, solver = 'lsqr')\n",
    "Ridge_opt.fit(train_X,train_y)"
   ]
  },
  {
   "cell_type": "code",
   "execution_count": 17,
   "metadata": {
    "execution": {
     "iopub.execute_input": "2021-03-13T15:17:45.294662Z",
     "iopub.status.busy": "2021-03-13T15:17:45.294662Z",
     "iopub.status.idle": "2021-03-13T15:17:45.309658Z",
     "shell.execute_reply": "2021-03-13T15:17:45.308657Z",
     "shell.execute_reply.started": "2021-03-13T15:17:45.294662Z"
    }
   },
   "outputs": [],
   "source": [
    "models_opt.append(('RD*',Ridge_opt))"
   ]
  },
  {
   "cell_type": "markdown",
   "metadata": {},
   "source": [
    "#### 3. Lasso Regression"
   ]
  },
  {
   "cell_type": "code",
   "execution_count": 90,
   "metadata": {
    "execution": {
     "iopub.execute_input": "2021-03-13T13:23:31.828304Z",
     "iopub.status.busy": "2021-03-13T13:23:31.828304Z",
     "iopub.status.idle": "2021-03-13T13:23:34.541873Z",
     "shell.execute_reply": "2021-03-13T13:23:34.540972Z",
     "shell.execute_reply.started": "2021-03-13T13:23:31.828304Z"
    }
   },
   "outputs": [
    {
     "name": "stdout",
     "output_type": "stream",
     "text": [
      "Wall time: 2.7 s\n"
     ]
    },
    {
     "data": {
      "text/plain": [
       "GridSearchCV(cv=KFold(n_splits=2, random_state=75, shuffle=True),\n",
       "             estimator=Lasso(),\n",
       "             param_grid={'alpha': [0.0001, 0.0002, 0.001, 0.01, 0.1, 0.2, 0.5,\n",
       "                                   0.8, 1],\n",
       "                         'max_iter': [1000, 1500, 2000, 2500, 3000, 3500, 4000,\n",
       "                                      4500, 5000, 5500, 6000, 6500, 7000, 7500,\n",
       "                                      8000, 8500, 9000, 9500],\n",
       "                         'tol': [0.01, 0.001, 0.0001, 1e-05, 1e-06, 1e-07,\n",
       "                                 1e-08]})"
      ]
     },
     "execution_count": 90,
     "metadata": {},
     "output_type": "execute_result"
    }
   ],
   "source": [
    "%%time\n",
    "Lasso_ = GridSearchCV(Lasso(), param_grid = {'alpha':[0.0001, 0.0002,0.001,0.01,0.1,0.2,0.5,0.8,1],\\\n",
    "                                            'max_iter':[k for k in np.arange(1000,10000,500)],\n",
    "                                            'tol':[1e-2,1e-3,1e-4,1e-5,1e-6,1e-7,1e-8]},cv=KFold(n_splits=2,shuffle=True,random_state = 75))\n",
    "Lasso_.fit(train_X,train_y)"
   ]
  },
  {
   "cell_type": "code",
   "execution_count": 91,
   "metadata": {
    "execution": {
     "iopub.execute_input": "2021-03-13T13:23:36.338089Z",
     "iopub.status.busy": "2021-03-13T13:23:36.338089Z",
     "iopub.status.idle": "2021-03-13T13:23:36.354084Z",
     "shell.execute_reply": "2021-03-13T13:23:36.354084Z",
     "shell.execute_reply.started": "2021-03-13T13:23:36.338089Z"
    }
   },
   "outputs": [
    {
     "data": {
      "text/plain": [
       "Lasso(alpha=0.0002, tol=0.01)"
      ]
     },
     "execution_count": 91,
     "metadata": {},
     "output_type": "execute_result"
    }
   ],
   "source": [
    "Lasso_.best_estimator_"
   ]
  },
  {
   "cell_type": "code",
   "execution_count": 18,
   "metadata": {
    "execution": {
     "iopub.execute_input": "2021-03-13T15:17:48.707577Z",
     "iopub.status.busy": "2021-03-13T15:17:48.707577Z",
     "iopub.status.idle": "2021-03-13T15:17:48.715631Z",
     "shell.execute_reply": "2021-03-13T15:17:48.715631Z",
     "shell.execute_reply.started": "2021-03-13T15:17:48.707577Z"
    }
   },
   "outputs": [
    {
     "data": {
      "text/plain": [
       "Lasso(alpha=0.0002, tol=0.01)"
      ]
     },
     "execution_count": 18,
     "metadata": {},
     "output_type": "execute_result"
    }
   ],
   "source": [
    "Lasso_opt = Lasso(alpha=0.0002,tol=0.01)\n",
    "Lasso_opt.fit(train_X,train_y)"
   ]
  },
  {
   "cell_type": "code",
   "execution_count": 19,
   "metadata": {
    "execution": {
     "iopub.execute_input": "2021-03-13T15:17:48.954984Z",
     "iopub.status.busy": "2021-03-13T15:17:48.954984Z",
     "iopub.status.idle": "2021-03-13T15:17:48.966222Z",
     "shell.execute_reply": "2021-03-13T15:17:48.966222Z",
     "shell.execute_reply.started": "2021-03-13T15:17:48.954984Z"
    }
   },
   "outputs": [],
   "source": [
    "models_opt.append(('LAS*',Lasso_opt))"
   ]
  },
  {
   "cell_type": "markdown",
   "metadata": {},
   "source": [
    "Παρατηρούμε ότι στις περιπτώσεις Ridge&Lasso Regression το γεγονός ότι $\\alpha\\rightarrow 0$, σημαίνει ότι το πρόβλημά μας τείνει σε αυτό της απλής γραμμικής παλινδρόμησης επομένως παίρνουμε τους ίδιους συντελεστές με αυτό, γιαυτό και οι 2 τιμές του $R^2$ συγκλίνουν προς αυτό της γραμμικής παλινδρόμησης."
   ]
  },
  {
   "cell_type": "markdown",
   "metadata": {},
   "source": [
    "#### 4. Decision Trees Regressor"
   ]
  },
  {
   "cell_type": "code",
   "execution_count": 31,
   "metadata": {
    "execution": {
     "iopub.execute_input": "2021-03-13T15:04:16.963467Z",
     "iopub.status.busy": "2021-03-13T15:04:16.963467Z",
     "iopub.status.idle": "2021-03-13T15:04:20.297513Z",
     "shell.execute_reply": "2021-03-13T15:04:20.297513Z",
     "shell.execute_reply.started": "2021-03-13T15:04:16.963467Z"
    }
   },
   "outputs": [
    {
     "name": "stdout",
     "output_type": "stream",
     "text": [
      "Wall time: 3.32 s\n"
     ]
    },
    {
     "data": {
      "text/plain": [
       "GridSearchCV(cv=KFold(n_splits=2, random_state=75, shuffle=True),\n",
       "             estimator=DecisionTreeRegressor(), n_jobs=-1,\n",
       "             param_grid={'criterion': ['mse', 'mae'],\n",
       "                         'max_depth': [None, 1, 2, 3, 4, 5, 6, 7, 8, 9, 10],\n",
       "                         'min_samples_leaf': range(1, 5),\n",
       "                         'min_samples_split': range(2, 10)})"
      ]
     },
     "execution_count": 31,
     "metadata": {},
     "output_type": "execute_result"
    }
   ],
   "source": [
    "%%time\n",
    "DT_ = GridSearchCV(DecisionTreeRegressor(), param_grid = {'criterion': ['mse', 'mae'],\n",
    "                                                          'max_depth': [None,1,2,3,4,5,6,7,8,9,10],\n",
    "                                                         \"min_samples_split\":range(2,10),\n",
    "                                                         \"min_samples_leaf\":range(1,5)}\n",
    "                                                          ,n_jobs = -1,cv=KFold(n_splits=2,shuffle=True,random_state = 75))\n",
    "DT_.fit(train_X, train_y)"
   ]
  },
  {
   "cell_type": "code",
   "execution_count": 32,
   "metadata": {
    "execution": {
     "iopub.execute_input": "2021-03-13T15:04:24.391069Z",
     "iopub.status.busy": "2021-03-13T15:04:24.391069Z",
     "iopub.status.idle": "2021-03-13T15:04:24.397046Z",
     "shell.execute_reply": "2021-03-13T15:04:24.396048Z",
     "shell.execute_reply.started": "2021-03-13T15:04:24.391069Z"
    }
   },
   "outputs": [
    {
     "data": {
      "text/plain": [
       "DecisionTreeRegressor(criterion='mae', min_samples_split=3)"
      ]
     },
     "execution_count": 32,
     "metadata": {},
     "output_type": "execute_result"
    }
   ],
   "source": [
    "DT_.best_estimator_"
   ]
  },
  {
   "cell_type": "code",
   "execution_count": 20,
   "metadata": {
    "execution": {
     "iopub.execute_input": "2021-03-13T15:17:52.697321Z",
     "iopub.status.busy": "2021-03-13T15:17:52.696355Z",
     "iopub.status.idle": "2021-03-13T15:17:52.729318Z",
     "shell.execute_reply": "2021-03-13T15:17:52.728346Z",
     "shell.execute_reply.started": "2021-03-13T15:17:52.696355Z"
    }
   },
   "outputs": [
    {
     "data": {
      "text/plain": [
       "DecisionTreeRegressor(criterion='mae')"
      ]
     },
     "execution_count": 20,
     "metadata": {},
     "output_type": "execute_result"
    }
   ],
   "source": [
    "DT_opt = DecisionTreeRegressor(criterion='mae')\n",
    "DT_opt.fit(train_X,train_y)"
   ]
  },
  {
   "cell_type": "code",
   "execution_count": 21,
   "metadata": {
    "execution": {
     "iopub.execute_input": "2021-03-13T15:17:52.899318Z",
     "iopub.status.busy": "2021-03-13T15:17:52.899318Z",
     "iopub.status.idle": "2021-03-13T15:17:52.916318Z",
     "shell.execute_reply": "2021-03-13T15:17:52.915316Z",
     "shell.execute_reply.started": "2021-03-13T15:17:52.899318Z"
    }
   },
   "outputs": [],
   "source": [
    "models_opt.append(('DT*',DT_opt))"
   ]
  },
  {
   "cell_type": "markdown",
   "metadata": {},
   "source": [
    "**Σημείωση: καθαρίζουμε τις φακές και τις ξεπλε.........οκ εδώ απλά κάνει overfitting.**"
   ]
  },
  {
   "cell_type": "markdown",
   "metadata": {},
   "source": [
    "**5(a). Multi Layer Perceptron Regressor (no-hidden layers)**"
   ]
  },
  {
   "cell_type": "code",
   "execution_count": 75,
   "metadata": {
    "execution": {
     "iopub.execute_input": "2021-03-13T13:21:03.908509Z",
     "iopub.status.busy": "2021-03-13T13:21:03.908509Z",
     "iopub.status.idle": "2021-03-13T13:21:37.791053Z",
     "shell.execute_reply": "2021-03-13T13:21:37.790316Z",
     "shell.execute_reply.started": "2021-03-13T13:21:03.908509Z"
    }
   },
   "outputs": [
    {
     "name": "stdout",
     "output_type": "stream",
     "text": [
      "Wall time: 33.9 s\n"
     ]
    },
    {
     "data": {
      "text/plain": [
       "GridSearchCV(cv=KFold(n_splits=2, random_state=75, shuffle=True),\n",
       "             estimator=MLPRegressor(random_state=75), n_jobs=-1,\n",
       "             param_grid={'activation': ['tanh', 'relu'],\n",
       "                         'alpha': [1e-05, 0.0001, 0.001],\n",
       "                         'learning_rate': ['constant', 'adaptive'],\n",
       "                         'learning_rate_init': [0.0001, 0.001, 0.003, 0.005,\n",
       "                                                0.01],\n",
       "                         'max_iter': [100, 200, 1000],\n",
       "                         'solver': ['sgd', 'adam']})"
      ]
     },
     "execution_count": 75,
     "metadata": {},
     "output_type": "execute_result"
    }
   ],
   "source": [
    "%%time\n",
    "MLP_ = GridSearchCV(MLPRegressor(random_state=75), param_grid={'activation' : ['tanh','relu'],\n",
    "                                                'solver':['sgd','adam'],\n",
    "                                                'alpha':[1e-5,1e-4,1e-3],\n",
    "                                                'learning_rate':['constant','adaptive'],\n",
    "                                                'max_iter':[100,200,1000],\n",
    "                                                'learning_rate_init':[0.0001,0.001,0.003,0.005,0.01]},\n",
    "                                                 n_jobs = -1,cv=KFold(n_splits=2,shuffle=True,random_state = 75))\n",
    "MLP_.fit(train_X,train_y)"
   ]
  },
  {
   "cell_type": "code",
   "execution_count": 99,
   "metadata": {
    "execution": {
     "iopub.execute_input": "2021-03-13T13:24:33.275391Z",
     "iopub.status.busy": "2021-03-13T13:24:33.275391Z",
     "iopub.status.idle": "2021-03-13T13:24:33.293883Z",
     "shell.execute_reply": "2021-03-13T13:24:33.293883Z",
     "shell.execute_reply.started": "2021-03-13T13:24:33.275391Z"
    }
   },
   "outputs": [
    {
     "data": {
      "text/plain": [
       "MLPRegressor(learning_rate_init=0.01, max_iter=100, random_state=75)"
      ]
     },
     "execution_count": 99,
     "metadata": {},
     "output_type": "execute_result"
    }
   ],
   "source": [
    "MLP_.best_estimator_"
   ]
  },
  {
   "cell_type": "code",
   "execution_count": 22,
   "metadata": {
    "execution": {
     "iopub.execute_input": "2021-03-13T15:17:56.814646Z",
     "iopub.status.busy": "2021-03-13T15:17:56.813646Z",
     "iopub.status.idle": "2021-03-13T15:17:57.096649Z",
     "shell.execute_reply": "2021-03-13T15:17:57.095648Z",
     "shell.execute_reply.started": "2021-03-13T15:17:56.814646Z"
    }
   },
   "outputs": [
    {
     "data": {
      "text/plain": [
       "MLPRegressor(learning_rate_init=0.01, max_iter=100, random_state=75)"
      ]
     },
     "execution_count": 22,
     "metadata": {},
     "output_type": "execute_result"
    }
   ],
   "source": [
    "MLP_opt = MLPRegressor(random_state=75, max_iter=100,learning_rate_init=0.01)\n",
    "MLP_opt.fit(train_X,train_y)#, alpha=1e-02, learning_rate_init=0.003, max_iter=100"
   ]
  },
  {
   "cell_type": "code",
   "execution_count": 23,
   "metadata": {
    "execution": {
     "iopub.execute_input": "2021-03-13T15:17:58.131498Z",
     "iopub.status.busy": "2021-03-13T15:17:58.131498Z",
     "iopub.status.idle": "2021-03-13T15:17:58.143498Z",
     "shell.execute_reply": "2021-03-13T15:17:58.142497Z",
     "shell.execute_reply.started": "2021-03-13T15:17:58.131498Z"
    }
   },
   "outputs": [],
   "source": [
    "models_opt.append(('MLP*',MLP_opt))"
   ]
  },
  {
   "cell_type": "markdown",
   "metadata": {},
   "source": [
    "**5(b). Multi Layer Perceptron (with hidden layers)**"
   ]
  },
  {
   "cell_type": "markdown",
   "metadata": {},
   "source": [
    "Εδώ κρατάμε τις βέλτιστες υπερπαραμέτρους που βρέθηκαν από το παραπάνω Grid Search και τις χρησιμοποιούμε για να κάνουμε κι'άλλο Grid Search, αυτή τη φορά μαζί με hidden layers."
   ]
  },
  {
   "cell_type": "code",
   "execution_count": 102,
   "metadata": {
    "execution": {
     "iopub.execute_input": "2021-03-13T13:27:08.400227Z",
     "iopub.status.busy": "2021-03-13T13:27:08.400227Z",
     "iopub.status.idle": "2021-03-13T13:27:42.807150Z",
     "shell.execute_reply": "2021-03-13T13:27:42.806197Z",
     "shell.execute_reply.started": "2021-03-13T13:27:08.400227Z"
    }
   },
   "outputs": [
    {
     "name": "stdout",
     "output_type": "stream",
     "text": [
      "Wall time: 34.4 s\n"
     ]
    },
    {
     "data": {
      "text/plain": [
       "GridSearchCV(cv=KFold(n_splits=2, random_state=75, shuffle=True),\n",
       "             estimator=MLPRegressor(random_state=75), n_jobs=-1,\n",
       "             param_grid={'hidden_layer_sizes': [(256, 256, 256),\n",
       "                                                (512, 256, 128), (64, 32, 8)],\n",
       "                         'learning_rate_init': [0.0001, 0.001, 0.005],\n",
       "                         'max_iter': [100, 200, 1000]})"
      ]
     },
     "execution_count": 102,
     "metadata": {},
     "output_type": "execute_result"
    }
   ],
   "source": [
    "%%time\n",
    "MLP_2 = GridSearchCV(MLPRegressor(random_state=75), \n",
    "                                 param_grid={'max_iter':[100,200,1000],'learning_rate_init':[0.0001,0.001,0.005],\n",
    "                                'hidden_layer_sizes':[(256, 256, 256),(512,256,128),(64,32,8)]},n_jobs = -1,\n",
    "                                    cv=KFold(n_splits=2,shuffle=True,random_state = 75))\n",
    "MLP_2.fit(train_X,train_y)"
   ]
  },
  {
   "cell_type": "markdown",
   "metadata": {},
   "source": [
    "Υπενθύμιση μην το ξεχάσουμε: Το hidden_layer_size = (256, 256, 256) έβγαλε το καλύτερο score, ~86.7 \\%."
   ]
  },
  {
   "cell_type": "code",
   "execution_count": 103,
   "metadata": {
    "execution": {
     "iopub.execute_input": "2021-03-13T13:27:52.234233Z",
     "iopub.status.busy": "2021-03-13T13:27:52.234233Z",
     "iopub.status.idle": "2021-03-13T13:27:52.252693Z",
     "shell.execute_reply": "2021-03-13T13:27:52.251854Z",
     "shell.execute_reply.started": "2021-03-13T13:27:52.234233Z"
    }
   },
   "outputs": [
    {
     "data": {
      "text/plain": [
       "MLPRegressor(hidden_layer_sizes=(512, 256, 128), learning_rate_init=0.005,\n",
       "             max_iter=100, random_state=75)"
      ]
     },
     "execution_count": 103,
     "metadata": {},
     "output_type": "execute_result"
    }
   ],
   "source": [
    "MLP_2.best_estimator_"
   ]
  },
  {
   "cell_type": "code",
   "execution_count": 24,
   "metadata": {
    "execution": {
     "iopub.execute_input": "2021-03-13T15:18:02.313730Z",
     "iopub.status.busy": "2021-03-13T15:18:02.312731Z",
     "iopub.status.idle": "2021-03-13T15:18:07.555665Z",
     "shell.execute_reply": "2021-03-13T15:18:07.554662Z",
     "shell.execute_reply.started": "2021-03-13T15:18:02.313730Z"
    }
   },
   "outputs": [
    {
     "data": {
      "text/plain": [
       "MLPRegressor(hidden_layer_sizes=(512, 256, 128), learning_rate_init=0.005,\n",
       "             max_iter=100, random_state=75)"
      ]
     },
     "execution_count": 24,
     "metadata": {},
     "output_type": "execute_result"
    }
   ],
   "source": [
    "MLP_2_opt = MLPRegressor(hidden_layer_sizes=(512, 256, 128), learning_rate_init=0.005,\n",
    "             max_iter=100, random_state=75)\n",
    "MLP_2_opt.fit(train_X,train_y)"
   ]
  },
  {
   "cell_type": "code",
   "execution_count": 25,
   "metadata": {
    "execution": {
     "iopub.execute_input": "2021-03-13T15:18:07.557664Z",
     "iopub.status.busy": "2021-03-13T15:18:07.556664Z",
     "iopub.status.idle": "2021-03-13T15:18:07.570666Z",
     "shell.execute_reply": "2021-03-13T15:18:07.569664Z",
     "shell.execute_reply.started": "2021-03-13T15:18:07.557664Z"
    }
   },
   "outputs": [],
   "source": [
    "models_opt.append(('MLP2*',MLP_2_opt))"
   ]
  },
  {
   "cell_type": "markdown",
   "metadata": {},
   "source": [
    "**6. Support Vector Regression** "
   ]
  },
  {
   "cell_type": "code",
   "execution_count": 35,
   "metadata": {
    "execution": {
     "iopub.execute_input": "2021-03-13T15:28:42.530466Z",
     "iopub.status.busy": "2021-03-13T15:28:42.530466Z",
     "iopub.status.idle": "2021-03-13T15:28:52.191500Z",
     "shell.execute_reply": "2021-03-13T15:28:52.190493Z",
     "shell.execute_reply.started": "2021-03-13T15:28:42.530466Z"
    }
   },
   "outputs": [
    {
     "name": "stdout",
     "output_type": "stream",
     "text": [
      "Fitting 2 folds for each of 48 candidates, totalling 96 fits\n"
     ]
    },
    {
     "name": "stderr",
     "output_type": "stream",
     "text": [
      "[Parallel(n_jobs=-1)]: Using backend LokyBackend with 12 concurrent workers.\n",
      "[Parallel(n_jobs=-1)]: Done  17 tasks      | elapsed:    0.0s\n",
      "[Parallel(n_jobs=-1)]: Done  73 out of  96 | elapsed:    0.2s remaining:    0.0s\n"
     ]
    },
    {
     "name": "stdout",
     "output_type": "stream",
     "text": [
      "Wall time: 9.65 s\n"
     ]
    },
    {
     "name": "stderr",
     "output_type": "stream",
     "text": [
      "[Parallel(n_jobs=-1)]: Done  96 out of  96 | elapsed:    9.5s finished\n"
     ]
    },
    {
     "data": {
      "text/plain": [
       "GridSearchCV(cv=KFold(n_splits=2, random_state=75, shuffle=True),\n",
       "             estimator=SVR(), n_jobs=-1,\n",
       "             param_grid={'C': [1, 5], 'coef0': [0.01, 0.001], 'degree': [3, 8],\n",
       "                         'gamma': ['scale', 'auto'],\n",
       "                         'kernel': ('poly', 'rbf', 'sigmoid')},\n",
       "             verbose=2)"
      ]
     },
     "execution_count": 35,
     "metadata": {},
     "output_type": "execute_result"
    }
   ],
   "source": [
    "%%time\n",
    "param = {'kernel' : ('poly', 'rbf','sigmoid'),'C' : [1,5],'degree' : [3,8],'coef0' : [0.01,0.001],'gamma' : ['scale','auto']}\n",
    "#defaults: kernel=rbf, C=1.0, degree=3, coef0=0.0, gamma=scale\n",
    "SVR_ = GridSearchCV(SVR(),param_grid = param,cv = KFold(n_splits=2,shuffle=True,random_state = 75),n_jobs=-1,verbose=2)\n",
    "SVR_.fit(train_X,train_y)"
   ]
  },
  {
   "cell_type": "code",
   "execution_count": 36,
   "metadata": {
    "execution": {
     "iopub.execute_input": "2021-03-13T15:28:55.556589Z",
     "iopub.status.busy": "2021-03-13T15:28:55.555595Z",
     "iopub.status.idle": "2021-03-13T15:28:55.570591Z",
     "shell.execute_reply": "2021-03-13T15:28:55.569577Z",
     "shell.execute_reply.started": "2021-03-13T15:28:55.556589Z"
    }
   },
   "outputs": [
    {
     "data": {
      "text/plain": [
       "SVR(C=5, coef0=0.01)"
      ]
     },
     "execution_count": 36,
     "metadata": {},
     "output_type": "execute_result"
    }
   ],
   "source": [
    "SVR_.best_estimator_"
   ]
  },
  {
   "cell_type": "markdown",
   "metadata": {},
   "source": [
    "Τώρα ξέρουμε ότι ο καλύτερος kernel είναι ο RBF οπότε θα κάνουμε άλλο ένα GridSearch πιο ειδικό."
   ]
  },
  {
   "cell_type": "code",
   "execution_count": 57,
   "metadata": {
    "execution": {
     "iopub.execute_input": "2021-03-13T15:35:26.759924Z",
     "iopub.status.busy": "2021-03-13T15:35:26.759924Z",
     "iopub.status.idle": "2021-03-13T15:35:27.883740Z",
     "shell.execute_reply": "2021-03-13T15:35:27.883740Z",
     "shell.execute_reply.started": "2021-03-13T15:35:26.759924Z"
    }
   },
   "outputs": [
    {
     "name": "stdout",
     "output_type": "stream",
     "text": [
      "Fitting 2 folds for each of 252 candidates, totalling 504 fits\n"
     ]
    },
    {
     "name": "stderr",
     "output_type": "stream",
     "text": [
      "[Parallel(n_jobs=-1)]: Using backend LokyBackend with 12 concurrent workers.\n",
      "[Parallel(n_jobs=-1)]: Done  17 tasks      | elapsed:    0.0s\n"
     ]
    },
    {
     "name": "stdout",
     "output_type": "stream",
     "text": [
      "Wall time: 1.11 s\n"
     ]
    },
    {
     "name": "stderr",
     "output_type": "stream",
     "text": [
      "[Parallel(n_jobs=-1)]: Done 504 out of 504 | elapsed:    1.0s finished\n"
     ]
    },
    {
     "data": {
      "text/plain": [
       "GridSearchCV(cv=KFold(n_splits=2, random_state=75, shuffle=True),\n",
       "             estimator=SVR(), n_jobs=-1,\n",
       "             param_grid={'C': [1, 5, 5.5, 6, 7, 7.5, 8],\n",
       "                         'coef0': [10, 5, 1, 0.5, 0.1, 0.05], 'degree': [3, 8],\n",
       "                         'tol': [0.01, 0.001, 0.0001]},\n",
       "             verbose=2)"
      ]
     },
     "execution_count": 57,
     "metadata": {},
     "output_type": "execute_result"
    }
   ],
   "source": [
    "%%time\n",
    "param = {'C' : [1,5,5.5,6,7,7.5,8],'degree' : [3,8],'coef0' : [10,5,1,0.5,0.1,0.05],'tol':[1e-2,1e-3,1e-4]}\n",
    "#defaults: kernel=rbf, C=1.0, degree=3, coef0=0.0, gamma=scale\n",
    "SVR_ = GridSearchCV(SVR(),param_grid = param,cv = KFold(n_splits=2,shuffle=True,random_state = 75),n_jobs=-1,verbose=2)\n",
    "SVR_.fit(train_X,train_y)"
   ]
  },
  {
   "cell_type": "code",
   "execution_count": 59,
   "metadata": {
    "execution": {
     "iopub.execute_input": "2021-03-13T15:36:28.815809Z",
     "iopub.status.busy": "2021-03-13T15:36:28.815809Z",
     "iopub.status.idle": "2021-03-13T15:36:28.821475Z",
     "shell.execute_reply": "2021-03-13T15:36:28.821475Z",
     "shell.execute_reply.started": "2021-03-13T15:36:28.815809Z"
    }
   },
   "outputs": [
    {
     "data": {
      "text/plain": [
       "SVR(C=7, coef0=10)"
      ]
     },
     "execution_count": 59,
     "metadata": {},
     "output_type": "execute_result"
    }
   ],
   "source": [
    "SVR_.best_estimator_"
   ]
  },
  {
   "cell_type": "code",
   "execution_count": 60,
   "metadata": {
    "execution": {
     "iopub.execute_input": "2021-03-13T15:36:32.582324Z",
     "iopub.status.busy": "2021-03-13T15:36:32.582324Z",
     "iopub.status.idle": "2021-03-13T15:36:32.624340Z",
     "shell.execute_reply": "2021-03-13T15:36:32.623312Z",
     "shell.execute_reply.started": "2021-03-13T15:36:32.582324Z"
    }
   },
   "outputs": [
    {
     "data": {
      "text/plain": [
       "SVR(C=5, coef0=10)"
      ]
     },
     "execution_count": 60,
     "metadata": {},
     "output_type": "execute_result"
    }
   ],
   "source": [
    "SVR_opt = SVR(C=5, coef0 = 10)\n",
    "SVR_opt.fit(train_X,train_y)"
   ]
  },
  {
   "cell_type": "code",
   "execution_count": 62,
   "metadata": {
    "execution": {
     "iopub.execute_input": "2021-03-13T15:36:45.868305Z",
     "iopub.status.busy": "2021-03-13T15:36:45.868305Z",
     "iopub.status.idle": "2021-03-13T15:36:45.887968Z",
     "shell.execute_reply": "2021-03-13T15:36:45.886954Z",
     "shell.execute_reply.started": "2021-03-13T15:36:45.868305Z"
    }
   },
   "outputs": [],
   "source": [
    "models_opt.append(('SVR*',SVR_opt))"
   ]
  },
  {
   "cell_type": "markdown",
   "metadata": {},
   "source": [
    "**7. Extra Trees Regressor**"
   ]
  },
  {
   "cell_type": "code",
   "execution_count": 82,
   "metadata": {
    "execution": {
     "iopub.execute_input": "2021-03-13T15:50:31.530333Z",
     "iopub.status.busy": "2021-03-13T15:50:31.529296Z",
     "iopub.status.idle": "2021-03-13T15:50:55.940615Z",
     "shell.execute_reply": "2021-03-13T15:50:55.939683Z",
     "shell.execute_reply.started": "2021-03-13T15:50:31.530333Z"
    }
   },
   "outputs": [
    {
     "name": "stdout",
     "output_type": "stream",
     "text": [
      "Fitting 10 folds for each of 54 candidates, totalling 540 fits\n"
     ]
    },
    {
     "name": "stderr",
     "output_type": "stream",
     "text": [
      "[Parallel(n_jobs=-1)]: Using backend LokyBackend with 12 concurrent workers.\n",
      "[Parallel(n_jobs=-1)]: Done  17 tasks      | elapsed:    0.3s\n",
      "[Parallel(n_jobs=-1)]: Done 252 tasks      | elapsed:    2.9s\n",
      "[Parallel(n_jobs=-1)]: Done 509 tasks      | elapsed:   21.7s\n"
     ]
    },
    {
     "name": "stdout",
     "output_type": "stream",
     "text": [
      "Wall time: 24.4 s\n"
     ]
    },
    {
     "name": "stderr",
     "output_type": "stream",
     "text": [
      "[Parallel(n_jobs=-1)]: Done 540 out of 540 | elapsed:   24.1s finished\n"
     ]
    },
    {
     "data": {
      "text/plain": [
       "GridSearchCV(cv=KFold(n_splits=10, random_state=75, shuffle=True),\n",
       "             estimator=ExtraTreesRegressor(random_state=75), n_jobs=-1,\n",
       "             param_grid={'criterion': ['mse', 'mae'], 'max_depth': [None, 1, 2],\n",
       "                         'min_samples_leaf': [1, 2, 3],\n",
       "                         'min_samples_split': [1, 2, 3]},\n",
       "             verbose=2)"
      ]
     },
     "execution_count": 82,
     "metadata": {},
     "output_type": "execute_result"
    }
   ],
   "source": [
    "%%time\n",
    "ET_ = GridSearchCV(ExtraTreesRegressor(random_state=75), param_grid = {'criterion': ['mse', 'mae'],\n",
    "                                                          'max_depth': [None,1,2],\n",
    "                                                         \"min_samples_split\":[1,2,3],\n",
    "                                                         \"min_samples_leaf\":[1,2,3]},\n",
    "                                                           cv=KFold(n_splits=10,shuffle=True,random_state = 75),n_jobs=-1,verbose=2)\n",
    "ET_.fit(train_X, train_y)"
   ]
  },
  {
   "cell_type": "code",
   "execution_count": 83,
   "metadata": {
    "execution": {
     "iopub.execute_input": "2021-03-13T15:51:06.532794Z",
     "iopub.status.busy": "2021-03-13T15:51:06.531782Z",
     "iopub.status.idle": "2021-03-13T15:51:06.540780Z",
     "shell.execute_reply": "2021-03-13T15:51:06.539814Z",
     "shell.execute_reply.started": "2021-03-13T15:51:06.532794Z"
    }
   },
   "outputs": [
    {
     "data": {
      "text/plain": [
       "ExtraTreesRegressor(random_state=75)"
      ]
     },
     "execution_count": 83,
     "metadata": {},
     "output_type": "execute_result"
    }
   ],
   "source": [
    "ET_.best_estimator_"
   ]
  },
  {
   "cell_type": "markdown",
   "metadata": {},
   "source": [
    "Παρατηρούμε ότι ο Extra Trees Regressor προτιμάει τις default παραμέτρους του."
   ]
  },
  {
   "cell_type": "code",
   "execution_count": 84,
   "metadata": {
    "execution": {
     "iopub.execute_input": "2021-03-13T15:51:19.764372Z",
     "iopub.status.busy": "2021-03-13T15:51:19.764372Z",
     "iopub.status.idle": "2021-03-13T15:51:19.986908Z",
     "shell.execute_reply": "2021-03-13T15:51:19.985907Z",
     "shell.execute_reply.started": "2021-03-13T15:51:19.764372Z"
    }
   },
   "outputs": [
    {
     "data": {
      "text/plain": [
       "ExtraTreesRegressor(random_state=75)"
      ]
     },
     "execution_count": 84,
     "metadata": {},
     "output_type": "execute_result"
    }
   ],
   "source": [
    "ET_opt = ExtraTreesRegressor(random_state=75)\n",
    "ET_opt.fit(train_X,train_y)"
   ]
  },
  {
   "cell_type": "code",
   "execution_count": 85,
   "metadata": {
    "execution": {
     "iopub.execute_input": "2021-03-13T15:51:20.668531Z",
     "iopub.status.busy": "2021-03-13T15:51:20.668531Z",
     "iopub.status.idle": "2021-03-13T15:51:20.678058Z",
     "shell.execute_reply": "2021-03-13T15:51:20.677094Z",
     "shell.execute_reply.started": "2021-03-13T15:51:20.668531Z"
    }
   },
   "outputs": [],
   "source": [
    "models_opt.append(('ET*',ET_opt))"
   ]
  },
  {
   "cell_type": "code",
   "execution_count": 135,
   "metadata": {
    "execution": {
     "iopub.execute_input": "2021-03-13T16:57:24.799198Z",
     "iopub.status.busy": "2021-03-13T16:57:24.798197Z",
     "iopub.status.idle": "2021-03-13T16:57:39.817055Z",
     "shell.execute_reply": "2021-03-13T16:57:39.816087Z",
     "shell.execute_reply.started": "2021-03-13T16:57:24.798197Z"
    }
   },
   "outputs": [
    {
     "name": "stdout",
     "output_type": "stream",
     "text": [
      "\n",
      "Compare Multiple Classifiers:\n",
      "\n",
      "K-Fold Cross-Validation Accuracy:\n",
      "\n"
     ]
    },
    {
     "data": {
      "image/png": "[encoded data removed]",
      "text/plain": [
       "<Figure size 420x360 with 1 Axes>"
      ]
     },
     "metadata": {
      "needs_background": "light"
     },
     "output_type": "display_data"
    },
    {
     "data": {
      "text/html": [
       "<div>\n",
       "<style scoped>\n",
       "    .dataframe tbody tr th:only-of-type {\n",
       "        vertical-align: middle;\n",
       "    }\n",
       "\n",
       "    .dataframe tbody tr th {\n",
       "        vertical-align: top;\n",
       "    }\n",
       "\n",
       "    .dataframe thead th {\n",
       "        text-align: right;\n",
       "    }\n",
       "</style>\n",
       "<table border=\"1\" class=\"dataframe\">\n",
       "  <thead>\n",
       "    <tr style=\"text-align: right;\">\n",
       "      <th></th>\n",
       "      <th>Name</th>\n",
       "      <th>Dataset</th>\n",
       "      <th>Score</th>\n",
       "      <th>St.Dev</th>\n",
       "    </tr>\n",
       "  </thead>\n",
       "  <tbody>\n",
       "    <tr>\n",
       "      <th>0</th>\n",
       "      <td>LD*</td>\n",
       "      <td>Train</td>\n",
       "      <td>0.522007</td>\n",
       "      <td>0.013868</td>\n",
       "    </tr>\n",
       "    <tr>\n",
       "      <th>1</th>\n",
       "      <td>LD*</td>\n",
       "      <td>Test</td>\n",
       "      <td>0.413464</td>\n",
       "      <td>0.005838</td>\n",
       "    </tr>\n",
       "    <tr>\n",
       "      <th>2</th>\n",
       "      <td>RD*</td>\n",
       "      <td>Train</td>\n",
       "      <td>0.522796</td>\n",
       "      <td>0.011365</td>\n",
       "    </tr>\n",
       "    <tr>\n",
       "      <th>3</th>\n",
       "      <td>RD*</td>\n",
       "      <td>Test</td>\n",
       "      <td>0.414904</td>\n",
       "      <td>0.017363</td>\n",
       "    </tr>\n",
       "    <tr>\n",
       "      <th>4</th>\n",
       "      <td>LAS*</td>\n",
       "      <td>Train</td>\n",
       "      <td>0.522140</td>\n",
       "      <td>0.013903</td>\n",
       "    </tr>\n",
       "    <tr>\n",
       "      <th>5</th>\n",
       "      <td>LAS*</td>\n",
       "      <td>Test</td>\n",
       "      <td>0.414883</td>\n",
       "      <td>0.009615</td>\n",
       "    </tr>\n",
       "    <tr>\n",
       "      <th>6</th>\n",
       "      <td>DT*</td>\n",
       "      <td>Train</td>\n",
       "      <td>0.782595</td>\n",
       "      <td>0.011329</td>\n",
       "    </tr>\n",
       "    <tr>\n",
       "      <th>7</th>\n",
       "      <td>DT*</td>\n",
       "      <td>Test</td>\n",
       "      <td>0.512020</td>\n",
       "      <td>0.041716</td>\n",
       "    </tr>\n",
       "    <tr>\n",
       "      <th>8</th>\n",
       "      <td>MLP*</td>\n",
       "      <td>Train</td>\n",
       "      <td>0.617452</td>\n",
       "      <td>0.004457</td>\n",
       "    </tr>\n",
       "    <tr>\n",
       "      <th>9</th>\n",
       "      <td>MLP*</td>\n",
       "      <td>Test</td>\n",
       "      <td>0.417174</td>\n",
       "      <td>0.014035</td>\n",
       "    </tr>\n",
       "    <tr>\n",
       "      <th>10</th>\n",
       "      <td>MLP2*</td>\n",
       "      <td>Train</td>\n",
       "      <td>0.835268</td>\n",
       "      <td>0.023792</td>\n",
       "    </tr>\n",
       "    <tr>\n",
       "      <th>11</th>\n",
       "      <td>MLP2*</td>\n",
       "      <td>Test</td>\n",
       "      <td>0.578987</td>\n",
       "      <td>0.004919</td>\n",
       "    </tr>\n",
       "    <tr>\n",
       "      <th>12</th>\n",
       "      <td>SVR*</td>\n",
       "      <td>Train</td>\n",
       "      <td>0.723088</td>\n",
       "      <td>0.014036</td>\n",
       "    </tr>\n",
       "    <tr>\n",
       "      <th>13</th>\n",
       "      <td>SVR*</td>\n",
       "      <td>Test</td>\n",
       "      <td>0.595058</td>\n",
       "      <td>0.002953</td>\n",
       "    </tr>\n",
       "    <tr>\n",
       "      <th>14</th>\n",
       "      <td>ET*</td>\n",
       "      <td>Train</td>\n",
       "      <td>0.894935</td>\n",
       "      <td>0.019385</td>\n",
       "    </tr>\n",
       "    <tr>\n",
       "      <th>15</th>\n",
       "      <td>ET*</td>\n",
       "      <td>Test</td>\n",
       "      <td>0.727067</td>\n",
       "      <td>0.026498</td>\n",
       "    </tr>\n",
       "    <tr>\n",
       "      <th>16</th>\n",
       "      <td>XGB*</td>\n",
       "      <td>Train</td>\n",
       "      <td>0.912759</td>\n",
       "      <td>0.003713</td>\n",
       "    </tr>\n",
       "    <tr>\n",
       "      <th>17</th>\n",
       "      <td>XGB*</td>\n",
       "      <td>Test</td>\n",
       "      <td>0.737950</td>\n",
       "      <td>0.022655</td>\n",
       "    </tr>\n",
       "  </tbody>\n",
       "</table>\n",
       "</div>"
      ],
      "text/plain": [
       "     Name Dataset     Score    St.Dev\n",
       "0     LD*   Train  0.522007  0.013868\n",
       "1     LD*    Test  0.413464  0.005838\n",
       "2     RD*   Train  0.522796  0.011365\n",
       "3     RD*    Test  0.414904  0.017363\n",
       "4    LAS*   Train  0.522140  0.013903\n",
       "5    LAS*    Test  0.414883  0.009615\n",
       "6     DT*   Train  0.782595  0.011329\n",
       "7     DT*    Test  0.512020  0.041716\n",
       "8    MLP*   Train  0.617452  0.004457\n",
       "9    MLP*    Test  0.417174  0.014035\n",
       "10  MLP2*   Train  0.835268  0.023792\n",
       "11  MLP2*    Test  0.578987  0.004919\n",
       "12   SVR*   Train  0.723088  0.014036\n",
       "13   SVR*    Test  0.595058  0.002953\n",
       "14    ET*   Train  0.894935  0.019385\n",
       "15    ET*    Test  0.727067  0.026498\n",
       "16   XGB*   Train  0.912759  0.003713\n",
       "17   XGB*    Test  0.737950  0.022655"
      ]
     },
     "execution_count": 135,
     "metadata": {},
     "output_type": "execute_result"
    }
   ],
   "source": [
    "compare_models(train_X,train_y,test_X,test_y,models_opt)"
   ]
  },
  {
   "cell_type": "markdown",
   "metadata": {},
   "source": [
    "**8. XG Boost Regressor**"
   ]
  },
  {
   "cell_type": "markdown",
   "metadata": {},
   "source": [
    "Default hyperparameters:\n",
    "booster = gbtree\n",
    "min_child_weight = 1\n",
    "gamma = 0\n",
    "subsample = 1 \n",
    "max_depth = 6\n",
    "n_estimators = "
   ]
  },
  {
   "cell_type": "code",
   "execution_count": 87,
   "metadata": {
    "execution": {
     "iopub.execute_input": "2021-03-13T15:55:49.864888Z",
     "iopub.status.busy": "2021-03-13T15:55:49.863891Z",
     "iopub.status.idle": "2021-03-13T16:00:14.535498Z",
     "shell.execute_reply": "2021-03-13T16:00:14.534499Z",
     "shell.execute_reply.started": "2021-03-13T15:55:49.864888Z"
    }
   },
   "outputs": [
    {
     "name": "stdout",
     "output_type": "stream",
     "text": [
      "Fitting 2 folds for each of 360 candidates, totalling 720 fits\n"
     ]
    },
    {
     "name": "stderr",
     "output_type": "stream",
     "text": [
      "[Parallel(n_jobs=-1)]: Using backend LokyBackend with 12 concurrent workers.\n",
      "[Parallel(n_jobs=-1)]: Done  17 tasks      | elapsed:    2.9s\n",
      "[Parallel(n_jobs=-1)]: Done 138 tasks      | elapsed:   24.5s\n",
      "[Parallel(n_jobs=-1)]: Done 341 tasks      | elapsed:  1.2min\n",
      "[Parallel(n_jobs=-1)]: Done 624 tasks      | elapsed:  3.7min\n",
      "[Parallel(n_jobs=-1)]: Done 720 out of 720 | elapsed:  4.4min finished\n"
     ]
    },
    {
     "name": "stdout",
     "output_type": "stream",
     "text": [
      "Wall time: 4min 24s\n"
     ]
    },
    {
     "data": {
      "text/plain": [
       "GridSearchCV(cv=KFold(n_splits=2, random_state=75, shuffle=True),\n",
       "             estimator=XGBRegressor(base_score=None, booster=None,\n",
       "                                    colsample_bylevel=None,\n",
       "                                    colsample_bynode=None,\n",
       "                                    colsample_bytree=None, gamma=None,\n",
       "                                    gpu_id=None, importance_type='gain',\n",
       "                                    interaction_constraints=None,\n",
       "                                    learning_rate=None, max_delta_step=None,\n",
       "                                    max_depth=None, min_child_weight=None,\n",
       "                                    missing=nan, monot...\n",
       "                                    n_estimators=100, n_jobs=-1,\n",
       "                                    num_parallel_tree=None, random_state=75,\n",
       "                                    reg_alpha=None, reg_lambda=None,\n",
       "                                    scale_pos_weight=None, subsample=None,\n",
       "                                    tree_method=None, validate_parameters=None,\n",
       "                                    verbosity=None),\n",
       "             n_jobs=-1,\n",
       "             param_grid={'booster': ['gbtree', 'dart'],\n",
       "                         'gamma': [0, 1, 2, 3, 4], 'max_depth': [5, 6, 7],\n",
       "                         'min_child_weight': [1, 5],\n",
       "                         'n_estimators': [100, 500, 1000],\n",
       "                         'subsample': [0.5, 1]},\n",
       "             verbose=2)"
      ]
     },
     "execution_count": 87,
     "metadata": {},
     "output_type": "execute_result"
    }
   ],
   "source": [
    "%%time\n",
    "XGB_ = GridSearchCV(XGBRegressor(random_state=75,n_jobs=-1),\n",
    "                                                            param_grid  = {'booster':['gbtree','dart'],\n",
    "                                                            'min_child_weight':[1,5], \n",
    "                                                            'gamma':[0,1,2,3,4],  \n",
    "                                                            'subsample':[0.5,1],\n",
    "                                                            'max_depth': [5,6,7],\n",
    "                                                             'n_estimators':[100,500,1000]},\n",
    "                                                            cv=KFold(n_splits=2,shuffle=True,random_state = 75),n_jobs=-1,verbose=2)\n",
    "XGB_.fit(train_X, train_y)"
   ]
  },
  {
   "cell_type": "code",
   "execution_count": 88,
   "metadata": {
    "execution": {
     "iopub.execute_input": "2021-03-13T16:00:23.783004Z",
     "iopub.status.busy": "2021-03-13T16:00:23.783004Z",
     "iopub.status.idle": "2021-03-13T16:00:23.791002Z",
     "shell.execute_reply": "2021-03-13T16:00:23.790012Z",
     "shell.execute_reply.started": "2021-03-13T16:00:23.783004Z"
    }
   },
   "outputs": [
    {
     "data": {
      "text/plain": [
       "XGBRegressor(base_score=0.5, booster='gbtree', colsample_bylevel=1,\n",
       "             colsample_bynode=1, colsample_bytree=1, gamma=0, gpu_id=-1,\n",
       "             importance_type='gain', interaction_constraints='',\n",
       "             learning_rate=0.300000012, max_delta_step=0, max_depth=5,\n",
       "             min_child_weight=1, missing=nan, monotone_constraints='()',\n",
       "             n_estimators=1000, n_jobs=-1, num_parallel_tree=1, random_state=75,\n",
       "             reg_alpha=0, reg_lambda=1, scale_pos_weight=1, subsample=0.5,\n",
       "             tree_method='exact', validate_parameters=1, verbosity=None)"
      ]
     },
     "execution_count": 88,
     "metadata": {},
     "output_type": "execute_result"
    }
   ],
   "source": [
    "XGB_.best_estimator_"
   ]
  },
  {
   "cell_type": "code",
   "execution_count": 90,
   "metadata": {
    "execution": {
     "iopub.execute_input": "2021-03-13T16:00:55.873327Z",
     "iopub.status.busy": "2021-03-13T16:00:55.873327Z",
     "iopub.status.idle": "2021-03-13T16:00:55.891328Z",
     "shell.execute_reply": "2021-03-13T16:00:55.890326Z",
     "shell.execute_reply.started": "2021-03-13T16:00:55.873327Z"
    }
   },
   "outputs": [],
   "source": [
    "XGB_opt = XGBRegressor(base_score=0.5, booster='gbtree', colsample_bylevel=1,\n",
    "             colsample_bynode=1, colsample_bytree=1, gamma=0, gpu_id=-1,\n",
    "             importance_type='gain', interaction_constraints='',\n",
    "             learning_rate=0.300000012, max_delta_step=0, max_depth=5,\n",
    "             min_child_weight=1,monotone_constraints='()',\n",
    "             n_estimators=1000, n_jobs=-1, num_parallel_tree=1, random_state=75,\n",
    "             reg_alpha=0, reg_lambda=1, scale_pos_weight=1, subsample=0.5,\n",
    "             tree_method='exact', validate_parameters=1, verbosity=None)"
   ]
  },
  {
   "cell_type": "markdown",
   "metadata": {},
   "source": [
    "Αυτό το μοντέλο οδηγεί σε μικρή αύξηση απόδοσης στο train set και μικρή μείωση στο test set. Αυτό σημαίνει ότι κάνει Overfitting επομένως θα βάλω στο επόμενο Grid Search παραμέτρους alpha και lambda που είναι οι παράμετροι κανονικοποίησης L1 και L2 αντίστοιχα."
   ]
  },
  {
   "cell_type": "code",
   "execution_count": 95,
   "metadata": {
    "execution": {
     "iopub.execute_input": "2021-03-13T16:08:58.736110Z",
     "iopub.status.busy": "2021-03-13T16:08:58.735108Z",
     "iopub.status.idle": "2021-03-13T16:09:16.701465Z",
     "shell.execute_reply": "2021-03-13T16:09:16.700465Z",
     "shell.execute_reply.started": "2021-03-13T16:08:58.736110Z"
    }
   },
   "outputs": [
    {
     "name": "stdout",
     "output_type": "stream",
     "text": [
      "Fitting 2 folds for each of 320 candidates, totalling 640 fits\n"
     ]
    },
    {
     "name": "stderr",
     "output_type": "stream",
     "text": [
      "[Parallel(n_jobs=-1)]: Using backend LokyBackend with 12 concurrent workers.\n",
      "[Parallel(n_jobs=-1)]: Done  17 tasks      | elapsed:    0.6s\n",
      "[Parallel(n_jobs=-1)]: Done 138 tasks      | elapsed:    2.9s\n",
      "[Parallel(n_jobs=-1)]: Done 341 tasks      | elapsed:    8.0s\n",
      "[Parallel(n_jobs=-1)]: Done 640 out of 640 | elapsed:   17.7s finished\n"
     ]
    },
    {
     "name": "stdout",
     "output_type": "stream",
     "text": [
      "Wall time: 17.9 s\n"
     ]
    },
    {
     "data": {
      "text/plain": [
       "GridSearchCV(cv=KFold(n_splits=2, random_state=75, shuffle=True),\n",
       "             estimator=XGBRegressor(base_score=None, booster=None,\n",
       "                                    colsample_bylevel=None,\n",
       "                                    colsample_bynode=None,\n",
       "                                    colsample_bytree=None, gamma=None,\n",
       "                                    gpu_id=None, importance_type='gain',\n",
       "                                    interaction_constraints=None,\n",
       "                                    learning_rate=None, max_delta_step=None,\n",
       "                                    max_depth=None, min_child_weight=None,\n",
       "                                    missing=nan, monotone_constraints=None,\n",
       "                                    n_estimators=100, n_jobs=-1,\n",
       "                                    num_parallel_tree=None, random_state=75,\n",
       "                                    reg_alpha=None, reg_lambda=None,\n",
       "                                    scale_pos_weight=None, subsample=None,\n",
       "                                    tree_method=None, validate_parameters=None,\n",
       "                                    verbosity=None),\n",
       "             n_jobs=-1,\n",
       "             param_grid={'max_depth': [3, 4, 5, 6],\n",
       "                         'reg_alpha': [0, 0.1, 0.5, 1],\n",
       "                         'reg_lambda': [1, 1.5, 3, 5],\n",
       "                         'subsample': [0.2, 0.3, 0.4, 0.5, 0.6]},\n",
       "             verbose=2)"
      ]
     },
     "execution_count": 95,
     "metadata": {},
     "output_type": "execute_result"
    }
   ],
   "source": [
    "%%time\n",
    "XGB_ = GridSearchCV(XGBRegressor(random_state=75,n_jobs=-1),\n",
    "                                                            param_grid  = {'subsample':[0.2,0.3,0.4,0.5,0.6],\n",
    "                                                            'max_depth': [3,4,5,6],\n",
    "                                                            'reg_alpha':[0,0.1,0.5,1],\n",
    "                                                             'reg_lambda':[1,1.5,3,5]},\n",
    "                                                            cv=KFold(n_splits=2,shuffle=True,random_state = 75),n_jobs=-1,verbose=2)\n",
    "XGB_.fit(train_X, train_y)"
   ]
  },
  {
   "cell_type": "code",
   "execution_count": 96,
   "metadata": {
    "execution": {
     "iopub.execute_input": "2021-03-13T16:09:16.703464Z",
     "iopub.status.busy": "2021-03-13T16:09:16.703464Z",
     "iopub.status.idle": "2021-03-13T16:09:16.717472Z",
     "shell.execute_reply": "2021-03-13T16:09:16.716492Z",
     "shell.execute_reply.started": "2021-03-13T16:09:16.703464Z"
    }
   },
   "outputs": [
    {
     "data": {
      "text/plain": [
       "XGBRegressor(base_score=0.5, booster='gbtree', colsample_bylevel=1,\n",
       "             colsample_bynode=1, colsample_bytree=1, gamma=0, gpu_id=-1,\n",
       "             importance_type='gain', interaction_constraints='',\n",
       "             learning_rate=0.300000012, max_delta_step=0, max_depth=6,\n",
       "             min_child_weight=1, missing=nan, monotone_constraints='()',\n",
       "             n_estimators=100, n_jobs=-1, num_parallel_tree=1, random_state=75,\n",
       "             reg_alpha=0, reg_lambda=5, scale_pos_weight=1, subsample=0.5,\n",
       "             tree_method='exact', validate_parameters=1, verbosity=None)"
      ]
     },
     "execution_count": 96,
     "metadata": {},
     "output_type": "execute_result"
    }
   ],
   "source": [
    "XGB_.best_estimator_"
   ]
  },
  {
   "cell_type": "code",
   "execution_count": 97,
   "metadata": {
    "execution": {
     "iopub.execute_input": "2021-03-13T16:09:56.235278Z",
     "iopub.status.busy": "2021-03-13T16:09:56.235278Z",
     "iopub.status.idle": "2021-03-13T16:09:56.408279Z",
     "shell.execute_reply": "2021-03-13T16:09:56.407279Z",
     "shell.execute_reply.started": "2021-03-13T16:09:56.235278Z"
    }
   },
   "outputs": [
    {
     "data": {
      "text/plain": [
       "XGBRegressor(base_score=0.5, booster='gbtree', colsample_bylevel=1,\n",
       "             colsample_bynode=1, colsample_bytree=1, gamma=0, gpu_id=-1,\n",
       "             importance_type='gain', interaction_constraints='',\n",
       "             learning_rate=0.300000012, max_delta_step=0, max_depth=6,\n",
       "             min_child_weight=1, missing=nan, monotone_constraints='()',\n",
       "             n_estimators=100, n_jobs=-1, num_parallel_tree=1, random_state=75,\n",
       "             reg_alpha=0, reg_lambda=5, scale_pos_weight=1, subsample=0.5,\n",
       "             tree_method='exact', validate_parameters=1, verbosity=None)"
      ]
     },
     "execution_count": 97,
     "metadata": {},
     "output_type": "execute_result"
    }
   ],
   "source": [
    "XGB_opt = XGBRegressor(base_score=0.5, booster='gbtree', colsample_bylevel=1,\n",
    "             colsample_bynode=1, colsample_bytree=1, gamma=0, gpu_id=-1,\n",
    "             importance_type='gain', interaction_constraints='',\n",
    "             learning_rate=0.300000012, max_delta_step=0, max_depth=6,\n",
    "             min_child_weight=1, monotone_constraints='()',\n",
    "             n_estimators=100, n_jobs=-1, num_parallel_tree=1, random_state=75,\n",
    "             reg_alpha=0, reg_lambda=5, scale_pos_weight=1, subsample=0.5,\n",
    "             tree_method='exact', validate_parameters=1, verbosity=None)\n",
    "XGB_opt.fit(train_X,train_y)"
   ]
  },
  {
   "cell_type": "code",
   "execution_count": 98,
   "metadata": {
    "execution": {
     "iopub.execute_input": "2021-03-13T16:10:02.249926Z",
     "iopub.status.busy": "2021-03-13T16:10:02.249926Z",
     "iopub.status.idle": "2021-03-13T16:10:02.260954Z",
     "shell.execute_reply": "2021-03-13T16:10:02.259957Z",
     "shell.execute_reply.started": "2021-03-13T16:10:02.249926Z"
    }
   },
   "outputs": [],
   "source": [
    "del models_opt[-1]\n",
    "models_opt.append(('XGB*',XGB_opt))"
   ]
  },
  {
   "cell_type": "code",
   "execution_count": 99,
   "metadata": {
    "execution": {
     "iopub.execute_input": "2021-03-13T16:10:02.735059Z",
     "iopub.status.busy": "2021-03-13T16:10:02.735059Z",
     "iopub.status.idle": "2021-03-13T16:10:16.867247Z",
     "shell.execute_reply": "2021-03-13T16:10:16.867247Z",
     "shell.execute_reply.started": "2021-03-13T16:10:02.735059Z"
    }
   },
   "outputs": [
    {
     "name": "stdout",
     "output_type": "stream",
     "text": [
      "\n",
      "Compare Multiple Classifiers:\n",
      "\n",
      "K-Fold Cross-Validation Accuracy:\n",
      "\n",
      "     Name Dataset     Score    St.Dev\n",
      "0     LD*   Train  0.522007  0.013868\n",
      "1     LD*    Test  0.413464  0.005838\n",
      "2     RD*   Train  0.522796  0.011365\n",
      "3     RD*    Test  0.414904  0.017363\n",
      "4    LAS*   Train  0.522140  0.013903\n",
      "5    LAS*    Test  0.414883  0.009615\n",
      "6     DT*   Train  0.792990  0.005335\n",
      "7     DT*    Test  0.523244  0.038437\n",
      "8    MLP*   Train  0.617452  0.004457\n",
      "9    MLP*    Test  0.417174  0.014035\n",
      "10  MLP2*   Train  0.835268  0.023792\n",
      "11  MLP2*    Test  0.578987  0.004919\n",
      "12   SVR*   Train  0.723088  0.014036\n",
      "13   SVR*    Test  0.595058  0.002953\n",
      "14    ET*   Train  0.894935  0.019385\n",
      "15    ET*    Test  0.727067  0.026498\n",
      "16   XGB*   Train  0.912759  0.003713\n",
      "17   XGB*    Test  0.737950  0.022655\n"
     ]
    },
    {
     "data": {
      "image/png": "[encoded data removed]",
      "text/plain": [
       "<Figure size 420x360 with 1 Axes>"
      ]
     },
     "metadata": {
      "needs_background": "light"
     },
     "output_type": "display_data"
    },
    {
     "data": {
      "text/html": [
       "<div>\n",
       "<style scoped>\n",
       "    .dataframe tbody tr th:only-of-type {\n",
       "        vertical-align: middle;\n",
       "    }\n",
       "\n",
       "    .dataframe tbody tr th {\n",
       "        vertical-align: top;\n",
       "    }\n",
       "\n",
       "    .dataframe thead th {\n",
       "        text-align: right;\n",
       "    }\n",
       "</style>\n",
       "<table border=\"1\" class=\"dataframe\">\n",
       "  <thead>\n",
       "    <tr style=\"text-align: right;\">\n",
       "      <th></th>\n",
       "      <th>Name</th>\n",
       "      <th>Dataset</th>\n",
       "      <th>Score</th>\n",
       "      <th>St.Dev</th>\n",
       "    </tr>\n",
       "  </thead>\n",
       "  <tbody>\n",
       "    <tr>\n",
       "      <th>0</th>\n",
       "      <td>LD*</td>\n",
       "      <td>Train</td>\n",
       "      <td>0.522007</td>\n",
       "      <td>0.013868</td>\n",
       "    </tr>\n",
       "    <tr>\n",
       "      <th>1</th>\n",
       "      <td>LD*</td>\n",
       "      <td>Test</td>\n",
       "      <td>0.413464</td>\n",
       "      <td>0.005838</td>\n",
       "    </tr>\n",
       "    <tr>\n",
       "      <th>2</th>\n",
       "      <td>RD*</td>\n",
       "      <td>Train</td>\n",
       "      <td>0.522796</td>\n",
       "      <td>0.011365</td>\n",
       "    </tr>\n",
       "    <tr>\n",
       "      <th>3</th>\n",
       "      <td>RD*</td>\n",
       "      <td>Test</td>\n",
       "      <td>0.414904</td>\n",
       "      <td>0.017363</td>\n",
       "    </tr>\n",
       "    <tr>\n",
       "      <th>4</th>\n",
       "      <td>LAS*</td>\n",
       "      <td>Train</td>\n",
       "      <td>0.522140</td>\n",
       "      <td>0.013903</td>\n",
       "    </tr>\n",
       "    <tr>\n",
       "      <th>5</th>\n",
       "      <td>LAS*</td>\n",
       "      <td>Test</td>\n",
       "      <td>0.414883</td>\n",
       "      <td>0.009615</td>\n",
       "    </tr>\n",
       "    <tr>\n",
       "      <th>6</th>\n",
       "      <td>DT*</td>\n",
       "      <td>Train</td>\n",
       "      <td>0.792990</td>\n",
       "      <td>0.005335</td>\n",
       "    </tr>\n",
       "    <tr>\n",
       "      <th>7</th>\n",
       "      <td>DT*</td>\n",
       "      <td>Test</td>\n",
       "      <td>0.523244</td>\n",
       "      <td>0.038437</td>\n",
       "    </tr>\n",
       "    <tr>\n",
       "      <th>8</th>\n",
       "      <td>MLP*</td>\n",
       "      <td>Train</td>\n",
       "      <td>0.617452</td>\n",
       "      <td>0.004457</td>\n",
       "    </tr>\n",
       "    <tr>\n",
       "      <th>9</th>\n",
       "      <td>MLP*</td>\n",
       "      <td>Test</td>\n",
       "      <td>0.417174</td>\n",
       "      <td>0.014035</td>\n",
       "    </tr>\n",
       "    <tr>\n",
       "      <th>10</th>\n",
       "      <td>MLP2*</td>\n",
       "      <td>Train</td>\n",
       "      <td>0.835268</td>\n",
       "      <td>0.023792</td>\n",
       "    </tr>\n",
       "    <tr>\n",
       "      <th>11</th>\n",
       "      <td>MLP2*</td>\n",
       "      <td>Test</td>\n",
       "      <td>0.578987</td>\n",
       "      <td>0.004919</td>\n",
       "    </tr>\n",
       "    <tr>\n",
       "      <th>12</th>\n",
       "      <td>SVR*</td>\n",
       "      <td>Train</td>\n",
       "      <td>0.723088</td>\n",
       "      <td>0.014036</td>\n",
       "    </tr>\n",
       "    <tr>\n",
       "      <th>13</th>\n",
       "      <td>SVR*</td>\n",
       "      <td>Test</td>\n",
       "      <td>0.595058</td>\n",
       "      <td>0.002953</td>\n",
       "    </tr>\n",
       "    <tr>\n",
       "      <th>14</th>\n",
       "      <td>ET*</td>\n",
       "      <td>Train</td>\n",
       "      <td>0.894935</td>\n",
       "      <td>0.019385</td>\n",
       "    </tr>\n",
       "    <tr>\n",
       "      <th>15</th>\n",
       "      <td>ET*</td>\n",
       "      <td>Test</td>\n",
       "      <td>0.727067</td>\n",
       "      <td>0.026498</td>\n",
       "    </tr>\n",
       "    <tr>\n",
       "      <th>16</th>\n",
       "      <td>XGB*</td>\n",
       "      <td>Train</td>\n",
       "      <td>0.912759</td>\n",
       "      <td>0.003713</td>\n",
       "    </tr>\n",
       "    <tr>\n",
       "      <th>17</th>\n",
       "      <td>XGB*</td>\n",
       "      <td>Test</td>\n",
       "      <td>0.737950</td>\n",
       "      <td>0.022655</td>\n",
       "    </tr>\n",
       "  </tbody>\n",
       "</table>\n",
       "</div>"
      ],
      "text/plain": [
       "     Name Dataset     Score    St.Dev\n",
       "0     LD*   Train  0.522007  0.013868\n",
       "1     LD*    Test  0.413464  0.005838\n",
       "2     RD*   Train  0.522796  0.011365\n",
       "3     RD*    Test  0.414904  0.017363\n",
       "4    LAS*   Train  0.522140  0.013903\n",
       "5    LAS*    Test  0.414883  0.009615\n",
       "6     DT*   Train  0.792990  0.005335\n",
       "7     DT*    Test  0.523244  0.038437\n",
       "8    MLP*   Train  0.617452  0.004457\n",
       "9    MLP*    Test  0.417174  0.014035\n",
       "10  MLP2*   Train  0.835268  0.023792\n",
       "11  MLP2*    Test  0.578987  0.004919\n",
       "12   SVR*   Train  0.723088  0.014036\n",
       "13   SVR*    Test  0.595058  0.002953\n",
       "14    ET*   Train  0.894935  0.019385\n",
       "15    ET*    Test  0.727067  0.026498\n",
       "16   XGB*   Train  0.912759  0.003713\n",
       "17   XGB*    Test  0.737950  0.022655"
      ]
     },
     "execution_count": 99,
     "metadata": {},
     "output_type": "execute_result"
    }
   ],
   "source": [
    "compare_models(train_X, train_y, test_X, test_y, models_opt)"
   ]
  },
  {
   "cell_type": "code",
   "execution_count": 171,
   "metadata": {
    "execution": {
     "iopub.execute_input": "2021-03-13T17:15:25.473861Z",
     "iopub.status.busy": "2021-03-13T17:15:25.473861Z",
     "iopub.status.idle": "2021-03-13T17:15:25.481862Z",
     "shell.execute_reply": "2021-03-13T17:15:25.480860Z",
     "shell.execute_reply.started": "2021-03-13T17:15:25.473861Z"
    }
   },
   "outputs": [],
   "source": [
    "def compare_models_final(trainX,trainY,testX,testY,models,modelsopt,tempdf):\n",
    "    print('\\nCompare Multiple Classifiers:')\n",
    "    print('\\nK-Fold Cross-Validation Accuracy:\\n')\n",
    "    \n",
    "#     tempdf = pd.DataFrame(columns=['Name','Dataset','Score','St.Dev'])\n",
    "    for model, modelopt in zip(models,modelsopt):\n",
    "        modelopt[1].fit(trainX,trainY)\n",
    "        kfold = KFold(n_splits=2,shuffle=True,random_state = 75)\n",
    "        train_accuracy_results = cross_val_score(modelopt[1], trainX,trainY, cv=kfold)\n",
    "        test_accuracy_results = cross_val_score(modelopt[1],testX,testY,cv=kfold)\n",
    "        tempdf = tempdf.append({'Name':model[0],'Dataset':'Train-opt','Score':train_accuracy_results.mean(),\n",
    "                               'St.Dev':train_accuracy_results.std()},ignore_index=True)\n",
    "        tempdf = tempdf.append({'Name':model[0],'Dataset':'Test-opt','Score':test_accuracy_results.mean(),\n",
    "                               'St.Dev':test_accuracy_results.std()},ignore_index=True)\n",
    "    print(tempdf)\n",
    "    sns.set(rc={'figure.figsize':(20,25)})\n",
    "    g = sns.catplot(x = 'Name', y='Score',hue = 'Dataset',data=tempdf, kind='bar')\n",
    "    g.set_xticklabels(rotation=30)\n",
    "    plt.show()    \n",
    "    return"
   ]
  },
  {
   "cell_type": "code",
   "execution_count": 172,
   "metadata": {
    "execution": {
     "iopub.execute_input": "2021-03-13T17:15:25.804862Z",
     "iopub.status.busy": "2021-03-13T17:15:25.804862Z",
     "iopub.status.idle": "2021-03-13T17:15:41.509263Z",
     "shell.execute_reply": "2021-03-13T17:15:41.508264Z",
     "shell.execute_reply.started": "2021-03-13T17:15:25.804862Z"
    }
   },
   "outputs": [
    {
     "name": "stdout",
     "output_type": "stream",
     "text": [
      "\n",
      "Compare Multiple Classifiers:\n",
      "\n",
      "K-Fold Cross-Validation Accuracy:\n",
      "\n",
      "    Name    Dataset         Score        St.Dev\n",
      "0     LR      Train  5.220069e-01  1.386776e-02\n",
      "1     LR       Test  4.134636e-01  5.838136e-03\n",
      "2     RD      Train  5.223920e-01  9.644159e-03\n",
      "3     RD       Test  4.058728e-01  2.520266e-02\n",
      "4    LAS      Train -4.150551e-09  7.837497e-11\n",
      "5    LAS       Test -2.704928e-02  4.787929e-03\n",
      "6     DT      Train  7.602865e-01  4.976846e-03\n",
      "7     DT       Test  4.679349e-01  8.720270e-02\n",
      "8    MLP      Train  6.025453e-01  7.498945e-03\n",
      "9    MLP       Test  1.481680e-01  1.235114e-01\n",
      "10  DMLP      Train  6.602816e-01  2.710515e-04\n",
      "11  DMLP       Test  4.332735e-01  5.049170e-02\n",
      "12   SVR      Train  7.145073e-01  1.904287e-02\n",
      "13   SVR       Test  5.754953e-01  3.654529e-04\n",
      "14    ET      Train  8.949353e-01  1.938535e-02\n",
      "15    ET       Test  7.270670e-01  2.649790e-02\n",
      "16   XGB      Train  8.924899e-01  5.571336e-03\n",
      "17   XGB       Test  7.490595e-01  2.314538e-02\n",
      "18    LR  Train-opt  5.220069e-01  1.386776e-02\n",
      "19    LR   Test-opt  4.134636e-01  5.838136e-03\n",
      "20    RD  Train-opt  5.227964e-01  1.136461e-02\n",
      "21    RD   Test-opt  4.149038e-01  1.736313e-02\n",
      "22   LAS  Train-opt  5.221403e-01  1.390314e-02\n",
      "23   LAS   Test-opt  4.148831e-01  9.614998e-03\n",
      "24    DT  Train-opt  8.043682e-01  3.296813e-03\n",
      "25    DT   Test-opt  4.952025e-01  7.585814e-02\n",
      "26   MLP  Train-opt  6.174519e-01  4.457034e-03\n",
      "27   MLP   Test-opt  4.171741e-01  1.403528e-02\n",
      "28  DMLP  Train-opt  8.352678e-01  2.379196e-02\n",
      "29  DMLP   Test-opt  5.789872e-01  4.918754e-03\n",
      "30   SVR  Train-opt  7.230884e-01  1.403618e-02\n",
      "31   SVR   Test-opt  5.950584e-01  2.953186e-03\n",
      "32    ET  Train-opt  8.949353e-01  1.938535e-02\n",
      "33    ET   Test-opt  7.270670e-01  2.649790e-02\n",
      "34   XGB  Train-opt  9.127590e-01  3.713354e-03\n",
      "35   XGB   Test-opt  7.379501e-01  2.265453e-02\n"
     ]
    },
    {
     "data": {
      "image/png": "[encoded data removed]",
      "text/plain": [
       "<Figure size 443.6x360 with 1 Axes>"
      ]
     },
     "metadata": {},
     "output_type": "display_data"
    },
    {
     "name": "stdout",
     "output_type": "stream",
     "text": [
      "Wall time: 15.7 s\n"
     ]
    }
   ],
   "source": [
    "%%time\n",
    "compare_models_final(train_X,train_y,test_X,test_y,models,models_opt,models_df)"
   ]
  },
  {
   "cell_type": "code",
   "execution_count": null,
   "metadata": {},
   "outputs": [],
   "source": []
  }
 ],
 "metadata": {
  "kernelspec": {
   "display_name": "Python 3",
   "language": "python",
   "name": "python3"
  },
  "language_info": {
   "codemirror_mode": {
    "name": "ipython",
    "version": 3
   },
   "file_extension": ".py",
   "mimetype": "text/x-python",
   "name": "python",
   "nbconvert_exporter": "python",
   "pygments_lexer": "ipython3",
   "version": "3.8.5"
  }
 },
 "nbformat": 4,
 "nbformat_minor": 4
}
