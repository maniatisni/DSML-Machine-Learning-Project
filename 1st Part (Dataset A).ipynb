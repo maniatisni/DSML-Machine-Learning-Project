{
 "cells": [
  {
   "cell_type": "markdown",
   "metadata": {},
   "source": [
    "## Ομάδα #75 \n",
    "## Νικόλαος Μανιάτης (ΑΜ: 03400097) - Φίλιππος Μαυρεπής (ΑΜ: 03400098)\n",
    "\n",
    "##### Datasets: S12,\tB04,\t119"
   ]
  },
  {
   "cell_type": "markdown",
   "metadata": {},
   "source": [
    "### Dataset B04"
   ]
  },
  {
   "cell_type": "code",
   "execution_count": 30,
   "metadata": {
    "execution": {
     "iopub.execute_input": "2021-03-14T20:12:28.026133Z",
     "iopub.status.busy": "2021-03-14T20:12:28.026133Z",
     "iopub.status.idle": "2021-03-14T20:12:28.042201Z",
     "shell.execute_reply": "2021-03-14T20:12:28.041204Z",
     "shell.execute_reply.started": "2021-03-14T20:12:28.026133Z"
    }
   },
   "outputs": [],
   "source": [
    "import pandas as pd\n",
    "import numpy as np\n",
    "import matplotlib.pyplot as plt\n",
    "from statsmodels.stats.outliers_influence import variance_inflation_factor\n",
    "from sklearn.model_selection import train_test_split\n",
    "from sklearn.linear_model import LinearRegression,Ridge,Lasso\n",
    "from sklearn.svm import SVR\n",
    "from sklearn.tree import DecisionTreeRegressor\n",
    "from sklearn.neural_network import MLPRegressor\n",
    "from sklearn.ensemble import ExtraTreesRegressor\n",
    "import xgboost as xgb\n",
    "from xgboost import XGBRegressor\n",
    "from sklearn.model_selection import cross_val_score,KFold\n",
    "from sklearn.model_selection import GridSearchCV\n",
    "import seaborn as sns\n",
    "from sklearn import preprocessing"
   ]
  },
  {
   "cell_type": "markdown",
   "metadata": {},
   "source": [
    "**Dataset Abstract**\n",
    "NASA data set, obtained from a series of aerodynamic and acoustic tests of two and three-dimensional airfoil blade sections conducted in an anechoic wind tunnel."
   ]
  },
  {
   "cell_type": "markdown",
   "metadata": {},
   "source": [
    "**Attribute Information:**\n",
    "\n",
    "This problem has the following inputs:\n",
    "1. Frequency, in Hertz.\n",
    "2. Angle of attack, in degrees.\n",
    "3. Chord length, in meters.\n",
    "4. Free-stream velocity, in meters per second.\n",
    "5. Suction side displacement thickness, in meters.\n",
    "\n",
    "The only output is:  \n",
    "6. Scaled sound pressure level, in decibels.\n",
    "\n",
    "It is obvious all attributes are numerical."
   ]
  },
  {
   "cell_type": "code",
   "execution_count": 17,
   "metadata": {
    "execution": {
     "iopub.execute_input": "2021-03-14T20:07:17.383464Z",
     "iopub.status.busy": "2021-03-14T20:07:17.383464Z",
     "iopub.status.idle": "2021-03-14T20:07:17.398545Z",
     "shell.execute_reply": "2021-03-14T20:07:17.398545Z",
     "shell.execute_reply.started": "2021-03-14T20:07:17.383464Z"
    }
   },
   "outputs": [
    {
     "name": "stdout",
     "output_type": "stream",
     "text": [
      "(1503, 6)\n"
     ]
    },
    {
     "data": {
      "text/html": [
       "<div>\n",
       "<style scoped>\n",
       "    .dataframe tbody tr th:only-of-type {\n",
       "        vertical-align: middle;\n",
       "    }\n",
       "\n",
       "    .dataframe tbody tr th {\n",
       "        vertical-align: top;\n",
       "    }\n",
       "\n",
       "    .dataframe thead th {\n",
       "        text-align: right;\n",
       "    }\n",
       "</style>\n",
       "<table border=\"1\" class=\"dataframe\">\n",
       "  <thead>\n",
       "    <tr style=\"text-align: right;\">\n",
       "      <th></th>\n",
       "      <th>freq</th>\n",
       "      <th>angle</th>\n",
       "      <th>length</th>\n",
       "      <th>velocity</th>\n",
       "      <th>thickness</th>\n",
       "      <th>pressure</th>\n",
       "    </tr>\n",
       "  </thead>\n",
       "  <tbody>\n",
       "    <tr>\n",
       "      <th>0</th>\n",
       "      <td>800</td>\n",
       "      <td>0.0</td>\n",
       "      <td>0.3048</td>\n",
       "      <td>71.3</td>\n",
       "      <td>0.002663</td>\n",
       "      <td>126.201</td>\n",
       "    </tr>\n",
       "    <tr>\n",
       "      <th>1</th>\n",
       "      <td>1000</td>\n",
       "      <td>0.0</td>\n",
       "      <td>0.3048</td>\n",
       "      <td>71.3</td>\n",
       "      <td>0.002663</td>\n",
       "      <td>125.201</td>\n",
       "    </tr>\n",
       "    <tr>\n",
       "      <th>2</th>\n",
       "      <td>1250</td>\n",
       "      <td>0.0</td>\n",
       "      <td>0.3048</td>\n",
       "      <td>71.3</td>\n",
       "      <td>0.002663</td>\n",
       "      <td>125.951</td>\n",
       "    </tr>\n",
       "    <tr>\n",
       "      <th>3</th>\n",
       "      <td>1600</td>\n",
       "      <td>0.0</td>\n",
       "      <td>0.3048</td>\n",
       "      <td>71.3</td>\n",
       "      <td>0.002663</td>\n",
       "      <td>127.591</td>\n",
       "    </tr>\n",
       "    <tr>\n",
       "      <th>4</th>\n",
       "      <td>2000</td>\n",
       "      <td>0.0</td>\n",
       "      <td>0.3048</td>\n",
       "      <td>71.3</td>\n",
       "      <td>0.002663</td>\n",
       "      <td>127.461</td>\n",
       "    </tr>\n",
       "  </tbody>\n",
       "</table>\n",
       "</div>"
      ],
      "text/plain": [
       "   freq  angle  length  velocity  thickness  pressure\n",
       "0   800    0.0  0.3048      71.3   0.002663   126.201\n",
       "1  1000    0.0  0.3048      71.3   0.002663   125.201\n",
       "2  1250    0.0  0.3048      71.3   0.002663   125.951\n",
       "3  1600    0.0  0.3048      71.3   0.002663   127.591\n",
       "4  2000    0.0  0.3048      71.3   0.002663   127.461"
      ]
     },
     "execution_count": 17,
     "metadata": {},
     "output_type": "execute_result"
    }
   ],
   "source": [
    "features = ['freq','angle','length','velocity','thickness','pressure']\n",
    "df = pd.read_table('./datasets/airfoil_self_noise.dat',names = features )\n",
    "print(df.shape)\n",
    "df.head()"
   ]
  },
  {
   "cell_type": "markdown",
   "metadata": {},
   "source": [
    "There are no null values."
   ]
  },
  {
   "cell_type": "code",
   "execution_count": 18,
   "metadata": {
    "execution": {
     "iopub.execute_input": "2021-03-14T20:07:17.634104Z",
     "iopub.status.busy": "2021-03-14T20:07:17.634104Z",
     "iopub.status.idle": "2021-03-14T20:07:17.650367Z",
     "shell.execute_reply": "2021-03-14T20:07:17.650367Z",
     "shell.execute_reply.started": "2021-03-14T20:07:17.634104Z"
    }
   },
   "outputs": [
    {
     "data": {
      "text/plain": [
       "freq         0\n",
       "angle        0\n",
       "length       0\n",
       "velocity     0\n",
       "thickness    0\n",
       "pressure     0\n",
       "dtype: int64"
      ]
     },
     "execution_count": 18,
     "metadata": {},
     "output_type": "execute_result"
    }
   ],
   "source": [
    "df.isna().sum()"
   ]
  },
  {
   "cell_type": "markdown",
   "metadata": {},
   "source": [
    "Correlation Matrix:"
   ]
  },
  {
   "cell_type": "code",
   "execution_count": 19,
   "metadata": {
    "execution": {
     "iopub.execute_input": "2021-03-14T20:07:17.916375Z",
     "iopub.status.busy": "2021-03-14T20:07:17.916375Z",
     "iopub.status.idle": "2021-03-14T20:07:17.936973Z",
     "shell.execute_reply": "2021-03-14T20:07:17.936001Z",
     "shell.execute_reply.started": "2021-03-14T20:07:17.916375Z"
    }
   },
   "outputs": [
    {
     "data": {
      "text/html": [
       "<div>\n",
       "<style scoped>\n",
       "    .dataframe tbody tr th:only-of-type {\n",
       "        vertical-align: middle;\n",
       "    }\n",
       "\n",
       "    .dataframe tbody tr th {\n",
       "        vertical-align: top;\n",
       "    }\n",
       "\n",
       "    .dataframe thead th {\n",
       "        text-align: right;\n",
       "    }\n",
       "</style>\n",
       "<table border=\"1\" class=\"dataframe\">\n",
       "  <thead>\n",
       "    <tr style=\"text-align: right;\">\n",
       "      <th></th>\n",
       "      <th>freq</th>\n",
       "      <th>angle</th>\n",
       "      <th>length</th>\n",
       "      <th>velocity</th>\n",
       "      <th>thickness</th>\n",
       "      <th>pressure</th>\n",
       "    </tr>\n",
       "  </thead>\n",
       "  <tbody>\n",
       "    <tr>\n",
       "      <th>freq</th>\n",
       "      <td>1.000000</td>\n",
       "      <td>-0.272765</td>\n",
       "      <td>-0.003661</td>\n",
       "      <td>0.133664</td>\n",
       "      <td>-0.230107</td>\n",
       "      <td>-0.390711</td>\n",
       "    </tr>\n",
       "    <tr>\n",
       "      <th>angle</th>\n",
       "      <td>-0.272765</td>\n",
       "      <td>1.000000</td>\n",
       "      <td>-0.504868</td>\n",
       "      <td>0.058760</td>\n",
       "      <td>0.753394</td>\n",
       "      <td>-0.156108</td>\n",
       "    </tr>\n",
       "    <tr>\n",
       "      <th>length</th>\n",
       "      <td>-0.003661</td>\n",
       "      <td>-0.504868</td>\n",
       "      <td>1.000000</td>\n",
       "      <td>0.003787</td>\n",
       "      <td>-0.220842</td>\n",
       "      <td>-0.236162</td>\n",
       "    </tr>\n",
       "    <tr>\n",
       "      <th>velocity</th>\n",
       "      <td>0.133664</td>\n",
       "      <td>0.058760</td>\n",
       "      <td>0.003787</td>\n",
       "      <td>1.000000</td>\n",
       "      <td>-0.003974</td>\n",
       "      <td>0.125103</td>\n",
       "    </tr>\n",
       "    <tr>\n",
       "      <th>thickness</th>\n",
       "      <td>-0.230107</td>\n",
       "      <td>0.753394</td>\n",
       "      <td>-0.220842</td>\n",
       "      <td>-0.003974</td>\n",
       "      <td>1.000000</td>\n",
       "      <td>-0.312670</td>\n",
       "    </tr>\n",
       "    <tr>\n",
       "      <th>pressure</th>\n",
       "      <td>-0.390711</td>\n",
       "      <td>-0.156108</td>\n",
       "      <td>-0.236162</td>\n",
       "      <td>0.125103</td>\n",
       "      <td>-0.312670</td>\n",
       "      <td>1.000000</td>\n",
       "    </tr>\n",
       "  </tbody>\n",
       "</table>\n",
       "</div>"
      ],
      "text/plain": [
       "               freq     angle    length  velocity  thickness  pressure\n",
       "freq       1.000000 -0.272765 -0.003661  0.133664  -0.230107 -0.390711\n",
       "angle     -0.272765  1.000000 -0.504868  0.058760   0.753394 -0.156108\n",
       "length    -0.003661 -0.504868  1.000000  0.003787  -0.220842 -0.236162\n",
       "velocity   0.133664  0.058760  0.003787  1.000000  -0.003974  0.125103\n",
       "thickness -0.230107  0.753394 -0.220842 -0.003974   1.000000 -0.312670\n",
       "pressure  -0.390711 -0.156108 -0.236162  0.125103  -0.312670  1.000000"
      ]
     },
     "execution_count": 19,
     "metadata": {},
     "output_type": "execute_result"
    }
   ],
   "source": [
    "df.corr()"
   ]
  },
  {
   "cell_type": "markdown",
   "metadata": {},
   "source": [
    "### Train-Test-Split (70\\% Train - 30\\% Test) and Min-Max Scaling"
   ]
  },
  {
   "cell_type": "markdown",
   "metadata": {},
   "source": [
    "Πρώτα εκτελούμε το διαχωρισμό test-train και μετά το min-max scaling ώστε να μην έχουμε διαρροή πληροφορίας από το test set μέσα στο train set (π.χ. πληροφορία από το μέσο όρο)."
   ]
  },
  {
   "cell_type": "code",
   "execution_count": 32,
   "metadata": {
    "execution": {
     "iopub.execute_input": "2021-03-14T20:15:28.214291Z",
     "iopub.status.busy": "2021-03-14T20:15:28.214291Z",
     "iopub.status.idle": "2021-03-14T20:15:28.231782Z",
     "shell.execute_reply": "2021-03-14T20:15:28.230843Z",
     "shell.execute_reply.started": "2021-03-14T20:15:28.214291Z"
    }
   },
   "outputs": [],
   "source": [
    "features = df.copy()\n",
    "features = features.drop(['pressure'],axis=1)\n",
    "output = df[['pressure']]"
   ]
  },
  {
   "cell_type": "code",
   "execution_count": 33,
   "metadata": {
    "execution": {
     "iopub.execute_input": "2021-03-14T20:15:28.558229Z",
     "iopub.status.busy": "2021-03-14T20:15:28.558229Z",
     "iopub.status.idle": "2021-03-14T20:15:28.573425Z",
     "shell.execute_reply": "2021-03-14T20:15:28.573425Z",
     "shell.execute_reply.started": "2021-03-14T20:15:28.558229Z"
    }
   },
   "outputs": [],
   "source": [
    "X_train_unsc, X_test_unsc, y_train_unsc, y_test_unsc = train_test_split(features,output, test_size=0.3, random_state=75)"
   ]
  },
  {
   "cell_type": "code",
   "execution_count": 38,
   "metadata": {
    "execution": {
     "iopub.execute_input": "2021-03-14T20:19:51.351304Z",
     "iopub.status.busy": "2021-03-14T20:19:51.351304Z",
     "iopub.status.idle": "2021-03-14T20:19:51.376150Z",
     "shell.execute_reply": "2021-03-14T20:19:51.376150Z",
     "shell.execute_reply.started": "2021-03-14T20:19:51.351304Z"
    }
   },
   "outputs": [],
   "source": [
    "scaler_x = preprocessing.MinMaxScaler()\n",
    "scaler_y = preprocessing.MinMaxScaler()\n",
    "\n",
    "train_X = scaler_x.fit_transform(X_train_unsc)\n",
    "test_X = scaler_x.fit_transform(X_test_unsc)\n",
    "\n",
    "train_y = scaler_y.fit_transform(np.array(y_train_unsc).reshape(-1,1))\n",
    "train_y = train_y.reshape(-1)\n",
    "test_y = scaler_y.fit_transform(np.array(y_test_unsc).reshape(-1,1))\n",
    "test_y = test_y.reshape(-1)"
   ]
  },
  {
   "cell_type": "code",
   "execution_count": 39,
   "metadata": {
    "execution": {
     "iopub.execute_input": "2021-03-14T20:19:51.759681Z",
     "iopub.status.busy": "2021-03-14T20:19:51.758681Z",
     "iopub.status.idle": "2021-03-14T20:19:51.767913Z",
     "shell.execute_reply": "2021-03-14T20:19:51.766960Z",
     "shell.execute_reply.started": "2021-03-14T20:19:51.759681Z"
    }
   },
   "outputs": [
    {
     "name": "stdout",
     "output_type": "stream",
     "text": [
      "X train shape: (1052, 5)\n",
      "X test shape: (451, 5)\n",
      "y train shape: (1052,)\n",
      "y test shape: (451,)\n"
     ]
    }
   ],
   "source": [
    "print('X train shape:',train_X.shape)\n",
    "print('X test shape:',test_X.shape)\n",
    "print('y train shape:',train_y.shape)\n",
    "print('y test shape:',test_y.shape)"
   ]
  },
  {
   "cell_type": "markdown",
   "metadata": {},
   "source": [
    "**Θα ξεκινήσουμε με δύο απλούς Regressors, τον Ordinary Least Squares και τον Polynomial Regressor. Αυτοί δεν επιδέχονται κάποιου είδους optimization (εκτός από την τάξη του πολυωνύμου) οπότε τους παρουσιάζουμε στην αρχή, πριν συνεχίσουμε με πιο πολύπλοκους αλγόριθμους.**"
   ]
  },
  {
   "cell_type": "markdown",
   "metadata": {},
   "source": [
    "## Ordinary Least Squares"
   ]
  },
  {
   "cell_type": "code",
   "execution_count": 40,
   "metadata": {
    "execution": {
     "iopub.execute_input": "2021-03-14T20:20:11.707068Z",
     "iopub.status.busy": "2021-03-14T20:20:11.707068Z",
     "iopub.status.idle": "2021-03-14T20:20:11.726551Z",
     "shell.execute_reply": "2021-03-14T20:20:11.725548Z",
     "shell.execute_reply.started": "2021-03-14T20:20:11.707068Z"
    }
   },
   "outputs": [],
   "source": [
    "reg = LinearRegression().fit(X_train, y_train)"
   ]
  },
  {
   "cell_type": "code",
   "execution_count": 41,
   "metadata": {
    "execution": {
     "iopub.execute_input": "2021-03-14T20:20:12.361368Z",
     "iopub.status.busy": "2021-03-14T20:20:12.361368Z",
     "iopub.status.idle": "2021-03-14T20:20:12.372249Z",
     "shell.execute_reply": "2021-03-14T20:20:12.371355Z",
     "shell.execute_reply.started": "2021-03-14T20:20:12.361368Z"
    }
   },
   "outputs": [
    {
     "data": {
      "text/plain": [
       "0.48701529018157896"
      ]
     },
     "execution_count": 41,
     "metadata": {},
     "output_type": "execute_result"
    }
   ],
   "source": [
    "reg.score(X_test, y_test)"
   ]
  },
  {
   "cell_type": "markdown",
   "metadata": {},
   "source": [
    "## Polynomial Regression"
   ]
  },
  {
   "cell_type": "code",
   "execution_count": 42,
   "metadata": {
    "execution": {
     "iopub.execute_input": "2021-03-14T20:20:21.161880Z",
     "iopub.status.busy": "2021-03-14T20:20:21.161208Z",
     "iopub.status.idle": "2021-03-14T20:20:21.177043Z",
     "shell.execute_reply": "2021-03-14T20:20:21.176025Z",
     "shell.execute_reply.started": "2021-03-14T20:20:21.161880Z"
    }
   },
   "outputs": [],
   "source": [
    "from sklearn.pipeline import Pipeline\n",
    "from sklearn.preprocessing import PolynomialFeatures"
   ]
  },
  {
   "cell_type": "code",
   "execution_count": 48,
   "metadata": {
    "execution": {
     "iopub.execute_input": "2021-03-14T20:25:57.431016Z",
     "iopub.status.busy": "2021-03-14T20:25:57.431016Z",
     "iopub.status.idle": "2021-03-14T20:25:57.459003Z",
     "shell.execute_reply": "2021-03-14T20:25:57.458086Z",
     "shell.execute_reply.started": "2021-03-14T20:25:57.431016Z"
    }
   },
   "outputs": [
    {
     "data": {
      "text/plain": [
       "0.6223336446282257"
      ]
     },
     "execution_count": 48,
     "metadata": {},
     "output_type": "execute_result"
    }
   ],
   "source": [
    "model = Pipeline([('poly', PolynomialFeatures(degree=2)),\n",
    "...                   ('linear', LinearRegression(fit_intercept=False))])\n",
    "# fit to an order-3 polynomial data\n",
    "model = model.fit(X_train,y_train)\n",
    "model.named_steps['linear'].coef_\n",
    "model.score(X_test, y_test)"
   ]
  },
  {
   "cell_type": "markdown",
   "metadata": {},
   "source": [
    "Εύρεση βέλτιστου βαθμού πολυωνύμου:"
   ]
  },
  {
   "cell_type": "code",
   "execution_count": 27,
   "metadata": {
    "execution": {
     "iopub.execute_input": "2021-03-14T20:07:20.426406Z",
     "iopub.status.busy": "2021-03-14T20:07:20.426406Z",
     "iopub.status.idle": "2021-03-14T20:07:20.607263Z",
     "shell.execute_reply": "2021-03-14T20:07:20.606262Z",
     "shell.execute_reply.started": "2021-03-14T20:07:20.426406Z"
    }
   },
   "outputs": [
    {
     "name": "stdout",
     "output_type": "stream",
     "text": [
      "degree of polynomial = 1 and score is 0.48701529018065426\n",
      "degree of polynomial = 2 and score is 0.6223336446282257\n",
      "degree of polynomial = 3 and score is 0.7209720262016102\n"
     ]
    },
    {
     "data": {
      "image/png": "[encoded data removed]",
      "text/plain": [
       "<Figure size 432x288 with 1 Axes>"
      ]
     },
     "metadata": {
      "needs_background": "light"
     },
     "output_type": "display_data"
    }
   ],
   "source": [
    "scores = []\n",
    "ais = []\n",
    "for i in range(1,4):\n",
    "    model = Pipeline([('poly', PolynomialFeatures(degree=i)),\n",
    "    ('linear', LinearRegression(fit_intercept=False))])\n",
    "    # fit to an order-3 polynomial data\n",
    "    model = model.fit(X_train,y_train)\n",
    "    model.named_steps['linear'].coef_\n",
    "    print('degree of polynomial = {} and score is {}'.format(i,model.score(X_test, y_test)))\n",
    "    scores.append(model.score(X_test,y_test))\n",
    "    ais.append(i)\n",
    "plt.plot(ais,scores)\n",
    "plt.scatter(ais,scores)\n",
    "plt.ylabel('R^2 score')\n",
    "plt.xlabel('Degree of Polynomial')\n",
    "plt.xticks([1,2,3])\n",
    "plt.yticks()\n",
    "plt.show()"
   ]
  },
  {
   "cell_type": "markdown",
   "metadata": {},
   "source": [
    "Παρατηρούμε ότι βέλτιστος βαθμός πολυωνύμου είναι $n=3$ με $R^2 = 72.1 \\%$.  \n",
    "Αυτό είναι ένα πολύ καλό αποτέλεσμα αν λάβουμε υπόψη τη διαστατικότητα των δεδομένων μας (5 μεταβλητές) για ένα τόσο απλό μοντέλο."
   ]
  },
  {
   "cell_type": "markdown",
   "metadata": {},
   "source": [
    "# Main Problem"
   ]
  },
  {
   "cell_type": "markdown",
   "metadata": {},
   "source": [
    "Οι Regressors με τους οποίους θα ασχοληθούμε είναι οι εξής:\n",
    "- Linear Regressor (LR)\n",
    "- Ridge Regressor (RD)\n",
    "- Lasso Regressor (LAS)\n",
    "-  Decision Trees Regressor (DT)\n",
    "-  Multi Layer Perceptron Regressor (MLP)\n",
    "-  Multi Layer Perceptron Regressor (but with hidden layers) (DMLP)\n",
    "-  Support Vector Regressor (SVR)\n",
    "-  Extra Trees Regressor (ET)\n",
    "-  XGBoost Regressor (XGB)"
   ]
  },
  {
   "cell_type": "code",
   "execution_count": 54,
   "metadata": {
    "execution": {
     "iopub.execute_input": "2021-03-14T20:38:33.856411Z",
     "iopub.status.busy": "2021-03-14T20:38:33.856411Z",
     "iopub.status.idle": "2021-03-14T20:38:33.865516Z",
     "shell.execute_reply": "2021-03-14T20:38:33.864516Z",
     "shell.execute_reply.started": "2021-03-14T20:38:33.856411Z"
    }
   },
   "outputs": [],
   "source": [
    "#instantiate all random components with team number as seed - reproducible results\n",
    "models = []\n",
    "models.append(('LR', LinearRegression()))\n",
    "models.append(('RD', Ridge()))\n",
    "models.append(('LAS', Lasso()))\n",
    "models.append(('DT', DecisionTreeRegressor(random_state=75)))\n",
    "models.append(('MLP', MLPRegressor(random_state=75)))#Default Hidden Layers\n",
    "models.append(('DMLP', MLPRegressor(random_state=75, hidden_layer_sizes=(100,100))))#With 1 extra hidden layer, default is (100,). (Deep Multi Layer Perceptron).\n",
    "models.append(('SVR',SVR()))\n",
    "models.append(('ET',ExtraTreesRegressor(random_state=75)))\n",
    "models.append(('XGB', XGBRegressor(random_state=75)))"
   ]
  },
  {
   "cell_type": "code",
   "execution_count": 133,
   "metadata": {
    "execution": {
     "iopub.execute_input": "2021-03-14T21:38:21.685414Z",
     "iopub.status.busy": "2021-03-14T21:38:21.685414Z",
     "iopub.status.idle": "2021-03-14T21:38:21.699515Z",
     "shell.execute_reply": "2021-03-14T21:38:21.698741Z",
     "shell.execute_reply.started": "2021-03-14T21:38:21.685414Z"
    }
   },
   "outputs": [],
   "source": [
    "#helper function to plot models in train and test sets for easier comparison\n",
    "def compare_models(trainX,trainY,testX,testY,models):\n",
    "    print('\\nCompare Multiple Regressors:')\n",
    "    print('\\nK-Fold Cross-Validation Accuracy:\\n')\n",
    "    \n",
    "    names = []\n",
    "    tempdf = pd.DataFrame(columns=['Name','Dataset','Score','St.Dev'])\n",
    "    for name, model in models:\n",
    "        model.fit(trainX,trainY)\n",
    "        kfold = KFold(n_splits=2,shuffle=True,random_state = 75)\n",
    "        train_accuracy_results = cross_val_score(model, trainX,trainY, cv=kfold)\n",
    "        test_accuracy_results = cross_val_score(model,testX,testY,cv=kfold)\n",
    "        tempdf = tempdf.append({'Name':name,'Dataset':'Train','Score':train_accuracy_results.mean(),\n",
    "                               'St.Dev':train_accuracy_results.std()},ignore_index=True)\n",
    "        tempdf = tempdf.append({'Name':name,'Dataset':'Test','Score':test_accuracy_results.mean(),\n",
    "                               'St.Dev':test_accuracy_results.std()},ignore_index=True)\n",
    "    g = sns.catplot(x = 'Name', y='Score',hue = 'Dataset',data=tempdf, kind='bar',height=7.5, aspect=11.7/7.5)\n",
    "    g.set_xticklabels(rotation=30)\n",
    "    return tempdf,plt.show()"
   ]
  },
  {
   "cell_type": "code",
   "execution_count": 134,
   "metadata": {
    "execution": {
     "iopub.execute_input": "2021-03-14T21:38:23.110839Z",
     "iopub.status.busy": "2021-03-14T21:38:23.109471Z",
     "iopub.status.idle": "2021-03-14T21:38:28.416637Z",
     "shell.execute_reply": "2021-03-14T21:38:28.415273Z",
     "shell.execute_reply.started": "2021-03-14T21:38:23.110839Z"
    }
   },
   "outputs": [
    {
     "name": "stdout",
     "output_type": "stream",
     "text": [
      "\n",
      "Compare Multiple Regressors:\n",
      "\n",
      "K-Fold Cross-Validation Accuracy:\n",
      "\n"
     ]
    },
    {
     "data": {
      "image/png": "[encoded data removed]",
      "text/plain": [
       "<Figure size 906.875x540 with 1 Axes>"
      ]
     },
     "metadata": {},
     "output_type": "display_data"
    },
    {
     "name": "stdout",
     "output_type": "stream",
     "text": [
      "    Name Dataset     Score    St.Dev\n",
      "0     LR   Train  0.524293  0.022378\n",
      "1     LR    Test  0.483958  0.010032\n",
      "2     RD   Train  0.522606  0.019062\n",
      "3     RD    Test  0.473472  0.020209\n",
      "4    LAS   Train -0.004726  0.000553\n",
      "5    LAS    Test -0.003199  0.000080\n",
      "6     DT   Train  0.724711  0.018531\n",
      "7     DT    Test  0.561512  0.030118\n",
      "8    MLP   Train  0.573983  0.033982\n",
      "9    MLP    Test  0.452736  0.026096\n",
      "10  DMLP   Train  0.645791  0.020936\n",
      "11  DMLP    Test  0.590723  0.002015\n",
      "12   SVR   Train  0.719682  0.008204\n",
      "13   SVR    Test  0.638348  0.003131\n",
      "14    ET   Train  0.891462  0.015224\n",
      "15    ET    Test  0.795614  0.013143\n",
      "16   XGB   Train  0.880487  0.006803\n",
      "17   XGB    Test  0.786158  0.009417\n",
      "Wall time: 5.29 s\n"
     ]
    }
   ],
   "source": [
    "%%time\n",
    "models_df,_ = compare_models(train_X, train_y, test_X, test_y, models)\n",
    "print(models_df)"
   ]
  },
  {
   "cell_type": "markdown",
   "metadata": {},
   "source": [
    "**About LASSO having a negative score on both sets**:  \n",
    "It's not impossible to get an $R^2$ value less than 0.  \n",
    "$R^2$ is a metric used to measure the performance of a regressor. The optimal score of $R^2$ metric is 1. If any regressor predicts a constant value, you should expect an $R^2$ score of 0 for that regressor, but unexpectedly, you can get worse performance than that.  \n",
    "$R^2$ is negative only when the chosen model does not follow the trend of the data, so fits worse than a horizontal line."
   ]
  },
  {
   "cell_type": "markdown",
   "metadata": {},
   "source": [
    "## Optimization for each regressor individually"
   ]
  },
  {
   "cell_type": "markdown",
   "metadata": {},
   "source": [
    "Στα πιο απλά μοντέλα, όπου τα fit είναι πιο 'εύκολα' υπολογιστικά, χρησιμοποιούμε 10-fold cross validation στο grid search, ενώ στα πιο περίπλοκα 2-folds ώστε να είναι πιο οικονομικό."
   ]
  },
  {
   "cell_type": "markdown",
   "metadata": {},
   "source": [
    "Σε όλα τα Grid Search που εκτελούμε, φροντίζουμε να εμπεριέχονται οι default υπερπαράμετροι του κάθε Regressor, ώστε το υποτιθέμενο βέλτιστο μοντέλο να μην έχει χειρότερη απόδοση από ότι το default.  \n",
    "**Σημαντική Σημείωση**: Όταν επιστρέφουμε τον best estimator μετά από κάθε grid search, αυτό μας επιστρέφει μόνο τις τιμές οι οποίες διαφοροποιούνται από τις default."
   ]
  },
  {
   "cell_type": "code",
   "execution_count": 56,
   "metadata": {
    "execution": {
     "iopub.execute_input": "2021-03-14T20:42:27.616299Z",
     "iopub.status.busy": "2021-03-14T20:42:27.615540Z",
     "iopub.status.idle": "2021-03-14T20:42:27.632460Z",
     "shell.execute_reply": "2021-03-14T20:42:27.631460Z",
     "shell.execute_reply.started": "2021-03-14T20:42:27.616299Z"
    }
   },
   "outputs": [],
   "source": [
    "models_opt = []"
   ]
  },
  {
   "cell_type": "markdown",
   "metadata": {},
   "source": [
    "#### 1. Linear Regression: Has no hyperparameters to optimize."
   ]
  },
  {
   "cell_type": "code",
   "execution_count": 57,
   "metadata": {
    "execution": {
     "iopub.execute_input": "2021-03-14T20:42:30.306349Z",
     "iopub.status.busy": "2021-03-14T20:42:30.306349Z",
     "iopub.status.idle": "2021-03-14T20:42:30.316239Z",
     "shell.execute_reply": "2021-03-14T20:42:30.315238Z",
     "shell.execute_reply.started": "2021-03-14T20:42:30.306349Z"
    }
   },
   "outputs": [],
   "source": [
    "LR = LinearRegression()\n",
    "models_opt.append(('LD*',LR))"
   ]
  },
  {
   "cell_type": "markdown",
   "metadata": {},
   "source": [
    "#### 2. Ridge Regression"
   ]
  },
  {
   "cell_type": "code",
   "execution_count": 58,
   "metadata": {
    "execution": {
     "iopub.execute_input": "2021-03-14T20:42:35.629459Z",
     "iopub.status.busy": "2021-03-14T20:42:35.629400Z",
     "iopub.status.idle": "2021-03-14T20:42:35.945888Z",
     "shell.execute_reply": "2021-03-14T20:42:35.944888Z",
     "shell.execute_reply.started": "2021-03-14T20:42:35.629459Z"
    }
   },
   "outputs": [
    {
     "name": "stdout",
     "output_type": "stream",
     "text": [
      "Wall time: 293 ms\n"
     ]
    },
    {
     "data": {
      "text/plain": [
       "GridSearchCV(cv=KFold(n_splits=2, random_state=75, shuffle=True),\n",
       "             estimator=Ridge(),\n",
       "             param_grid={'alpha': [0.0, 0.05, 0.1, 0.15000000000000002, 0.2,\n",
       "                                   0.25, 0.30000000000000004,\n",
       "                                   0.35000000000000003, 0.4, 0.45, 0.5, 0.55,\n",
       "                                   0.6000000000000001, 0.65, 0.7000000000000001,\n",
       "                                   0.75, 0.8, 0.8500000000000001, 0.9,\n",
       "                                   0.9500000000000001],\n",
       "                         'solver': ('svd', 'cholesky', 'lsqr')})"
      ]
     },
     "execution_count": 58,
     "metadata": {},
     "output_type": "execute_result"
    }
   ],
   "source": [
    "%%time\n",
    "Ridge_ = GridSearchCV(Ridge(), param_grid = {'alpha':[i for i in np.arange(0,1,0.05)],\\\n",
    "                                                'solver':('svd', 'cholesky', 'lsqr')},cv=KFold(n_splits=2,shuffle=True,random_state = 75))\n",
    "Ridge_.fit(train_X,train_y)"
   ]
  },
  {
   "cell_type": "code",
   "execution_count": 59,
   "metadata": {
    "execution": {
     "iopub.execute_input": "2021-03-14T20:42:38.252274Z",
     "iopub.status.busy": "2021-03-14T20:42:38.252274Z",
     "iopub.status.idle": "2021-03-14T20:42:38.258835Z",
     "shell.execute_reply": "2021-03-14T20:42:38.258835Z",
     "shell.execute_reply.started": "2021-03-14T20:42:38.252274Z"
    }
   },
   "outputs": [
    {
     "data": {
      "text/plain": [
       "Ridge(alpha=0.2, solver='svd')"
      ]
     },
     "execution_count": 59,
     "metadata": {},
     "output_type": "execute_result"
    }
   ],
   "source": [
    "Ridge_.best_estimator_"
   ]
  },
  {
   "cell_type": "markdown",
   "metadata": {},
   "source": [
    "**Σημείωση:** Από εδώ και πέρα θα ορίζουμε ξανά τον best estimator, χρησιμοποιώντας τις βέλτιστες υπερπαραμέτρους. Έτσι, όταν θέλουμε να ξαναδουλέψουμε στο πρόβλημα, να έχουμε ήδη ορατή την πληροφορία για το σύνολο τον βέλτιστων υπερπαραμέτρων και να μην χρειάζεται να ξανατρέξουμε το grid search που πολλές φορές παίρνει αρκετή ώρα."
   ]
  },
  {
   "cell_type": "code",
   "execution_count": 72,
   "metadata": {
    "execution": {
     "iopub.execute_input": "2021-03-14T20:58:39.371523Z",
     "iopub.status.busy": "2021-03-14T20:58:39.371523Z",
     "iopub.status.idle": "2021-03-14T20:58:39.392574Z",
     "shell.execute_reply": "2021-03-14T20:58:39.391615Z",
     "shell.execute_reply.started": "2021-03-14T20:58:39.371523Z"
    }
   },
   "outputs": [
    {
     "data": {
      "text/plain": [
       "Ridge(alpha=0.2, solver='svd')"
      ]
     },
     "execution_count": 72,
     "metadata": {},
     "output_type": "execute_result"
    }
   ],
   "source": [
    "Ridge_opt = Ridge(alpha=0.2,solver = 'svd')\n",
    "Ridge_opt.fit(train_X,train_y)"
   ]
  },
  {
   "cell_type": "code",
   "execution_count": 61,
   "metadata": {
    "execution": {
     "iopub.execute_input": "2021-03-14T20:42:52.080129Z",
     "iopub.status.busy": "2021-03-14T20:42:52.080129Z",
     "iopub.status.idle": "2021-03-14T20:42:52.085520Z",
     "shell.execute_reply": "2021-03-14T20:42:52.084577Z",
     "shell.execute_reply.started": "2021-03-14T20:42:52.080129Z"
    }
   },
   "outputs": [],
   "source": [
    "models_opt.append(('RD*',Ridge_opt))"
   ]
  },
  {
   "cell_type": "markdown",
   "metadata": {},
   "source": [
    "Σημαντικότερη παράμετρος: $\\alpha$ καθώς είναι το μέτρο της ποινής (L1) που εφαρμόζει στο regression."
   ]
  },
  {
   "cell_type": "markdown",
   "metadata": {},
   "source": [
    "#### 3. Lasso Regression"
   ]
  },
  {
   "cell_type": "code",
   "execution_count": 69,
   "metadata": {
    "execution": {
     "iopub.execute_input": "2021-03-14T20:56:36.660200Z",
     "iopub.status.busy": "2021-03-14T20:56:36.660200Z",
     "iopub.status.idle": "2021-03-14T20:56:41.909020Z",
     "shell.execute_reply": "2021-03-14T20:56:41.908428Z",
     "shell.execute_reply.started": "2021-03-14T20:56:36.660200Z"
    }
   },
   "outputs": [
    {
     "name": "stdout",
     "output_type": "stream",
     "text": [
      "Fitting 10 folds for each of 1134 candidates, totalling 11340 fits\n"
     ]
    },
    {
     "name": "stderr",
     "output_type": "stream",
     "text": [
      "[Parallel(n_jobs=-1)]: Using backend LokyBackend with 12 concurrent workers.\n",
      "[Parallel(n_jobs=-1)]: Done  17 tasks      | elapsed:    2.3s\n",
      "[Parallel(n_jobs=-1)]: Done 492 tasks      | elapsed:    2.7s\n"
     ]
    },
    {
     "name": "stdout",
     "output_type": "stream",
     "text": [
      "Wall time: 5.24 s\n"
     ]
    },
    {
     "name": "stderr",
     "output_type": "stream",
     "text": [
      "[Parallel(n_jobs=-1)]: Done 11072 tasks      | elapsed:    5.0s\n",
      "[Parallel(n_jobs=-1)]: Done 11340 out of 11340 | elapsed:    5.0s finished\n"
     ]
    },
    {
     "data": {
      "text/plain": [
       "GridSearchCV(cv=KFold(n_splits=10, random_state=75, shuffle=True),\n",
       "             estimator=Lasso(), n_jobs=-1,\n",
       "             param_grid={'alpha': [0.0001, 0.0002, 0.001, 0.01, 0.1, 0.2, 0.5,\n",
       "                                   0.8, 1],\n",
       "                         'max_iter': [1000, 1500, 2000, 2500, 3000, 3500, 4000,\n",
       "                                      4500, 5000, 5500, 6000, 6500, 7000, 7500,\n",
       "                                      8000, 8500, 9000, 9500],\n",
       "                         'tol': [0.01, 0.001, 0.0001, 1e-05, 1e-06, 1e-07,\n",
       "                                 1e-08]},\n",
       "             verbose=2)"
      ]
     },
     "execution_count": 69,
     "metadata": {},
     "output_type": "execute_result"
    }
   ],
   "source": [
    "%%time\n",
    "Lasso_ = GridSearchCV(Lasso(), param_grid = {'alpha':[0.0001, 0.0002,0.001,0.01,0.1,0.2,0.5,0.8,1],\\\n",
    "                                            'max_iter':[k for k in np.arange(1000,10000,500)],\n",
    "                                            'tol':[1e-2,1e-3,1e-4,1e-5,1e-6,1e-7,1e-8]},cv=KFold(n_splits=10,shuffle=True,random_state = 75),verbose=2,n_jobs=-1)\n",
    "Lasso_.fit(train_X,train_y)"
   ]
  },
  {
   "cell_type": "code",
   "execution_count": 70,
   "metadata": {
    "execution": {
     "iopub.execute_input": "2021-03-14T20:56:41.909767Z",
     "iopub.status.busy": "2021-03-14T20:56:41.909767Z",
     "iopub.status.idle": "2021-03-14T20:56:41.923588Z",
     "shell.execute_reply": "2021-03-14T20:56:41.923588Z",
     "shell.execute_reply.started": "2021-03-14T20:56:41.909767Z"
    }
   },
   "outputs": [
    {
     "data": {
      "text/plain": [
       "Lasso(alpha=0.0001, tol=1e-08)"
      ]
     },
     "execution_count": 70,
     "metadata": {},
     "output_type": "execute_result"
    }
   ],
   "source": [
    "Lasso_.best_estimator_"
   ]
  },
  {
   "cell_type": "code",
   "execution_count": 67,
   "metadata": {
    "execution": {
     "iopub.execute_input": "2021-03-14T20:44:14.223015Z",
     "iopub.status.busy": "2021-03-14T20:44:14.223015Z",
     "iopub.status.idle": "2021-03-14T20:44:14.244615Z",
     "shell.execute_reply": "2021-03-14T20:44:14.243670Z",
     "shell.execute_reply.started": "2021-03-14T20:44:14.223015Z"
    }
   },
   "outputs": [
    {
     "data": {
      "text/plain": [
       "Lasso(alpha=0.0001, tol=1e-08)"
      ]
     },
     "execution_count": 67,
     "metadata": {},
     "output_type": "execute_result"
    }
   ],
   "source": [
    "Lasso_opt = Lasso(alpha=0.0001,tol=1e-8)\n",
    "Lasso_opt.fit(train_X,train_y)"
   ]
  },
  {
   "cell_type": "code",
   "execution_count": 68,
   "metadata": {
    "execution": {
     "iopub.execute_input": "2021-03-14T20:44:18.558439Z",
     "iopub.status.busy": "2021-03-14T20:44:18.558439Z",
     "iopub.status.idle": "2021-03-14T20:44:18.564690Z",
     "shell.execute_reply": "2021-03-14T20:44:18.563224Z",
     "shell.execute_reply.started": "2021-03-14T20:44:18.558439Z"
    }
   },
   "outputs": [],
   "source": [
    "models_opt.append(('LAS*',Lasso_opt))"
   ]
  },
  {
   "cell_type": "markdown",
   "metadata": {},
   "source": [
    "Σημαντικότερη παράμετρος: $\\alpha$ καθώς είναι το μέτρο της ποινής (L2) που εφαρμόζει στο regression."
   ]
  },
  {
   "cell_type": "markdown",
   "metadata": {},
   "source": [
    "#### 4. Decision Trees Regressor"
   ]
  },
  {
   "cell_type": "code",
   "execution_count": 74,
   "metadata": {
    "execution": {
     "iopub.execute_input": "2021-03-14T21:00:45.163658Z",
     "iopub.status.busy": "2021-03-14T21:00:45.163658Z",
     "iopub.status.idle": "2021-03-14T21:00:54.156973Z",
     "shell.execute_reply": "2021-03-14T21:00:54.156248Z",
     "shell.execute_reply.started": "2021-03-14T21:00:45.163658Z"
    }
   },
   "outputs": [
    {
     "name": "stdout",
     "output_type": "stream",
     "text": [
      "Fitting 10 folds for each of 704 candidates, totalling 7040 fits\n"
     ]
    },
    {
     "name": "stderr",
     "output_type": "stream",
     "text": [
      "[Parallel(n_jobs=-1)]: Using backend LokyBackend with 12 concurrent workers.\n",
      "[Parallel(n_jobs=-1)]: Done  17 tasks      | elapsed:    0.0s\n",
      "[Parallel(n_jobs=-1)]: Done 1320 tasks      | elapsed:    0.7s\n"
     ]
    },
    {
     "name": "stdout",
     "output_type": "stream",
     "text": [
      "Wall time: 8.97 s\n"
     ]
    },
    {
     "name": "stderr",
     "output_type": "stream",
     "text": [
      "[Parallel(n_jobs=-1)]: Done 7040 out of 7040 | elapsed:    8.8s finished\n"
     ]
    },
    {
     "data": {
      "text/plain": [
       "GridSearchCV(cv=KFold(n_splits=10, random_state=75, shuffle=True),\n",
       "             estimator=DecisionTreeRegressor(), n_jobs=-1,\n",
       "             param_grid={'criterion': ['mse', 'mae'],\n",
       "                         'max_depth': [None, 1, 2, 3, 4, 5, 6, 7, 8, 9, 10],\n",
       "                         'min_samples_leaf': range(1, 5),\n",
       "                         'min_samples_split': range(2, 10)},\n",
       "             verbose=2)"
      ]
     },
     "execution_count": 74,
     "metadata": {},
     "output_type": "execute_result"
    }
   ],
   "source": [
    "%%time\n",
    "DT_ = GridSearchCV(DecisionTreeRegressor(), param_grid = {'criterion': ['mse', 'mae'],\n",
    "                                                          'max_depth': [None,1,2,3,4,5,6,7,8,9,10],\n",
    "                                                         \"min_samples_split\":range(2,10),\n",
    "                                                         \"min_samples_leaf\":range(1,5)}\n",
    "                                                          ,n_jobs = -1,cv=KFold(n_splits=10,shuffle=True,random_state = 75),verbose=2)\n",
    "DT_.fit(train_X, train_y)"
   ]
  },
  {
   "cell_type": "code",
   "execution_count": 75,
   "metadata": {
    "execution": {
     "iopub.execute_input": "2021-03-14T21:00:58.460309Z",
     "iopub.status.busy": "2021-03-14T21:00:58.460309Z",
     "iopub.status.idle": "2021-03-14T21:00:58.472728Z",
     "shell.execute_reply": "2021-03-14T21:00:58.471799Z",
     "shell.execute_reply.started": "2021-03-14T21:00:58.460309Z"
    }
   },
   "outputs": [
    {
     "data": {
      "text/plain": [
       "DecisionTreeRegressor(criterion='mae')"
      ]
     },
     "execution_count": 75,
     "metadata": {},
     "output_type": "execute_result"
    }
   ],
   "source": [
    "DT_.best_estimator_"
   ]
  },
  {
   "cell_type": "code",
   "execution_count": 76,
   "metadata": {
    "execution": {
     "iopub.execute_input": "2021-03-14T21:01:06.498313Z",
     "iopub.status.busy": "2021-03-14T21:01:06.498313Z",
     "iopub.status.idle": "2021-03-14T21:01:06.533101Z",
     "shell.execute_reply": "2021-03-14T21:01:06.532248Z",
     "shell.execute_reply.started": "2021-03-14T21:01:06.498313Z"
    }
   },
   "outputs": [
    {
     "data": {
      "text/plain": [
       "DecisionTreeRegressor(criterion='mae')"
      ]
     },
     "execution_count": 76,
     "metadata": {},
     "output_type": "execute_result"
    }
   ],
   "source": [
    "DT_opt = DecisionTreeRegressor(criterion='mae')\n",
    "DT_opt.fit(train_X,train_y)"
   ]
  },
  {
   "cell_type": "code",
   "execution_count": 77,
   "metadata": {
    "execution": {
     "iopub.execute_input": "2021-03-14T21:01:12.139664Z",
     "iopub.status.busy": "2021-03-14T21:01:12.139664Z",
     "iopub.status.idle": "2021-03-14T21:01:12.155107Z",
     "shell.execute_reply": "2021-03-14T21:01:12.154295Z",
     "shell.execute_reply.started": "2021-03-14T21:01:12.139664Z"
    }
   },
   "outputs": [],
   "source": [
    "models_opt.append(('DT*',DT_opt))"
   ]
  },
  {
   "cell_type": "markdown",
   "metadata": {},
   "source": [
    "Σημαντικότεροι παράμετροι: το min_samples_split, το max_depth και το κριτήριο mse ή mae."
   ]
  },
  {
   "cell_type": "markdown",
   "metadata": {},
   "source": [
    "**5(a). Multi Layer Perceptron Regressor (no-hidden layers)**"
   ]
  },
  {
   "cell_type": "code",
   "execution_count": 75,
   "metadata": {
    "execution": {
     "iopub.execute_input": "2021-03-13T13:21:03.908509Z",
     "iopub.status.busy": "2021-03-13T13:21:03.908509Z",
     "iopub.status.idle": "2021-03-13T13:21:37.791053Z",
     "shell.execute_reply": "2021-03-13T13:21:37.790316Z",
     "shell.execute_reply.started": "2021-03-13T13:21:03.908509Z"
    }
   },
   "outputs": [
    {
     "name": "stdout",
     "output_type": "stream",
     "text": [
      "Wall time: 33.9 s\n"
     ]
    },
    {
     "data": {
      "text/plain": [
       "GridSearchCV(cv=KFold(n_splits=2, random_state=75, shuffle=True),\n",
       "             estimator=MLPRegressor(random_state=75), n_jobs=-1,\n",
       "             param_grid={'activation': ['tanh', 'relu'],\n",
       "                         'alpha': [1e-05, 0.0001, 0.001],\n",
       "                         'learning_rate': ['constant', 'adaptive'],\n",
       "                         'learning_rate_init': [0.0001, 0.001, 0.003, 0.005,\n",
       "                                                0.01],\n",
       "                         'max_iter': [100, 200, 1000],\n",
       "                         'solver': ['sgd', 'adam']})"
      ]
     },
     "execution_count": 75,
     "metadata": {},
     "output_type": "execute_result"
    }
   ],
   "source": [
    "%%time\n",
    "MLP_ = GridSearchCV(MLPRegressor(random_state=75), param_grid={'activation' : ['tanh','relu'],\n",
    "                                                'solver':['sgd','adam'],\n",
    "                                                'alpha':[1e-5,1e-4,1e-3],\n",
    "                                                'learning_rate':['constant','adaptive'],\n",
    "                                                'max_iter':[100,200,1000],\n",
    "                                                'learning_rate_init':[0.0001,0.001,0.003,0.005,0.01]},\n",
    "                                                 n_jobs = -1,cv=KFold(n_splits=2,shuffle=True,random_state = 75))\n",
    "MLP_.fit(train_X,train_y)"
   ]
  },
  {
   "cell_type": "code",
   "execution_count": 99,
   "metadata": {
    "execution": {
     "iopub.execute_input": "2021-03-13T13:24:33.275391Z",
     "iopub.status.busy": "2021-03-13T13:24:33.275391Z",
     "iopub.status.idle": "2021-03-13T13:24:33.293883Z",
     "shell.execute_reply": "2021-03-13T13:24:33.293883Z",
     "shell.execute_reply.started": "2021-03-13T13:24:33.275391Z"
    }
   },
   "outputs": [
    {
     "data": {
      "text/plain": [
       "MLPRegressor(learning_rate_init=0.01, max_iter=100, random_state=75)"
      ]
     },
     "execution_count": 99,
     "metadata": {},
     "output_type": "execute_result"
    }
   ],
   "source": [
    "MLP_.best_estimator_"
   ]
  },
  {
   "cell_type": "code",
   "execution_count": 79,
   "metadata": {
    "execution": {
     "iopub.execute_input": "2021-03-14T21:03:14.769773Z",
     "iopub.status.busy": "2021-03-14T21:03:14.769773Z",
     "iopub.status.idle": "2021-03-14T21:03:15.055930Z",
     "shell.execute_reply": "2021-03-14T21:03:15.055930Z",
     "shell.execute_reply.started": "2021-03-14T21:03:14.769773Z"
    }
   },
   "outputs": [
    {
     "data": {
      "text/plain": [
       "MLPRegressor(learning_rate_init=0.01, max_iter=100, random_state=75)"
      ]
     },
     "execution_count": 79,
     "metadata": {},
     "output_type": "execute_result"
    }
   ],
   "source": [
    "MLP_opt = MLPRegressor(random_state=75, max_iter=100,learning_rate_init=0.01)\n",
    "MLP_opt.fit(train_X,train_y)"
   ]
  },
  {
   "cell_type": "code",
   "execution_count": 80,
   "metadata": {
    "execution": {
     "iopub.execute_input": "2021-03-14T21:03:17.500301Z",
     "iopub.status.busy": "2021-03-14T21:03:17.500301Z",
     "iopub.status.idle": "2021-03-14T21:03:17.511267Z",
     "shell.execute_reply": "2021-03-14T21:03:17.510468Z",
     "shell.execute_reply.started": "2021-03-14T21:03:17.500301Z"
    }
   },
   "outputs": [],
   "source": [
    "models_opt.append(('MLP*',MLP_opt))"
   ]
  },
  {
   "cell_type": "markdown",
   "metadata": {},
   "source": [
    "Το MLP όντας νευρωνικό δίκτυο, έχει πολλές σημαντικές παραμέτρους οι οποίες πρέπει να γίνουν fine tuning ταυτόχρονα για τη μέγιστη απόδοση. Όπως το learning rate, ο solver, η activation function κτλ."
   ]
  },
  {
   "cell_type": "markdown",
   "metadata": {},
   "source": [
    "**5(b). Multi Layer Perceptron (with hidden layers)**"
   ]
  },
  {
   "cell_type": "markdown",
   "metadata": {},
   "source": [
    "Εδώ κρατάμε τις βέλτιστες υπερπαραμέτρους που βρέθηκαν από το παραπάνω Grid Search και τις χρησιμοποιούμε για να κάνουμε κι'άλλο Grid Search, αυτή τη φορά μαζί με hidden layers."
   ]
  },
  {
   "cell_type": "code",
   "execution_count": 102,
   "metadata": {
    "execution": {
     "iopub.execute_input": "2021-03-13T13:27:08.400227Z",
     "iopub.status.busy": "2021-03-13T13:27:08.400227Z",
     "iopub.status.idle": "2021-03-13T13:27:42.807150Z",
     "shell.execute_reply": "2021-03-13T13:27:42.806197Z",
     "shell.execute_reply.started": "2021-03-13T13:27:08.400227Z"
    }
   },
   "outputs": [
    {
     "name": "stdout",
     "output_type": "stream",
     "text": [
      "Wall time: 34.4 s\n"
     ]
    },
    {
     "data": {
      "text/plain": [
       "GridSearchCV(cv=KFold(n_splits=2, random_state=75, shuffle=True),\n",
       "             estimator=MLPRegressor(random_state=75), n_jobs=-1,\n",
       "             param_grid={'hidden_layer_sizes': [(256, 256, 256),\n",
       "                                                (512, 256, 128), (64, 32, 8)],\n",
       "                         'learning_rate_init': [0.0001, 0.001, 0.005],\n",
       "                         'max_iter': [100, 200, 1000]})"
      ]
     },
     "execution_count": 102,
     "metadata": {},
     "output_type": "execute_result"
    }
   ],
   "source": [
    "%%time\n",
    "MLP_2 = GridSearchCV(MLPRegressor(random_state=75), \n",
    "                                 param_grid={'max_iter':[100,200,1000],'learning_rate_init':[0.0001,0.001,0.005],\n",
    "                                'hidden_layer_sizes':[(256, 256, 256),(512,256,128),(64,32,8)]},n_jobs = -1,\n",
    "                                    cv=KFold(n_splits=2,shuffle=True,random_state = 75))\n",
    "MLP_2.fit(train_X,train_y)"
   ]
  },
  {
   "cell_type": "code",
   "execution_count": 103,
   "metadata": {
    "execution": {
     "iopub.execute_input": "2021-03-13T13:27:52.234233Z",
     "iopub.status.busy": "2021-03-13T13:27:52.234233Z",
     "iopub.status.idle": "2021-03-13T13:27:52.252693Z",
     "shell.execute_reply": "2021-03-13T13:27:52.251854Z",
     "shell.execute_reply.started": "2021-03-13T13:27:52.234233Z"
    }
   },
   "outputs": [
    {
     "data": {
      "text/plain": [
       "MLPRegressor(hidden_layer_sizes=(512, 256, 128), learning_rate_init=0.005,\n",
       "             max_iter=100, random_state=75)"
      ]
     },
     "execution_count": 103,
     "metadata": {},
     "output_type": "execute_result"
    }
   ],
   "source": [
    "MLP_2.best_estimator_"
   ]
  },
  {
   "cell_type": "code",
   "execution_count": 81,
   "metadata": {
    "execution": {
     "iopub.execute_input": "2021-03-14T21:03:30.205103Z",
     "iopub.status.busy": "2021-03-14T21:03:30.204263Z",
     "iopub.status.idle": "2021-03-14T21:03:35.921232Z",
     "shell.execute_reply": "2021-03-14T21:03:35.921232Z",
     "shell.execute_reply.started": "2021-03-14T21:03:30.205103Z"
    }
   },
   "outputs": [
    {
     "data": {
      "text/plain": [
       "MLPRegressor(hidden_layer_sizes=(512, 256, 128), learning_rate_init=0.005,\n",
       "             max_iter=100, random_state=75)"
      ]
     },
     "execution_count": 81,
     "metadata": {},
     "output_type": "execute_result"
    }
   ],
   "source": [
    "MLP_2_opt = MLPRegressor(hidden_layer_sizes=(512, 256, 128), learning_rate_init=0.005,\n",
    "             max_iter=100, random_state=75)\n",
    "MLP_2_opt.fit(train_X,train_y)"
   ]
  },
  {
   "cell_type": "code",
   "execution_count": 82,
   "metadata": {
    "execution": {
     "iopub.execute_input": "2021-03-14T21:03:39.900240Z",
     "iopub.status.busy": "2021-03-14T21:03:39.900240Z",
     "iopub.status.idle": "2021-03-14T21:03:39.909652Z",
     "shell.execute_reply": "2021-03-14T21:03:39.908305Z",
     "shell.execute_reply.started": "2021-03-14T21:03:39.900240Z"
    }
   },
   "outputs": [],
   "source": [
    "models_opt.append(('DMLP*',MLP_2_opt))"
   ]
  },
  {
   "cell_type": "markdown",
   "metadata": {},
   "source": [
    "**6. Support Vector Regression** "
   ]
  },
  {
   "cell_type": "code",
   "execution_count": 35,
   "metadata": {
    "execution": {
     "iopub.execute_input": "2021-03-13T15:28:42.530466Z",
     "iopub.status.busy": "2021-03-13T15:28:42.530466Z",
     "iopub.status.idle": "2021-03-13T15:28:52.191500Z",
     "shell.execute_reply": "2021-03-13T15:28:52.190493Z",
     "shell.execute_reply.started": "2021-03-13T15:28:42.530466Z"
    }
   },
   "outputs": [
    {
     "name": "stdout",
     "output_type": "stream",
     "text": [
      "Fitting 2 folds for each of 48 candidates, totalling 96 fits\n"
     ]
    },
    {
     "name": "stderr",
     "output_type": "stream",
     "text": [
      "[Parallel(n_jobs=-1)]: Using backend LokyBackend with 12 concurrent workers.\n",
      "[Parallel(n_jobs=-1)]: Done  17 tasks      | elapsed:    0.0s\n",
      "[Parallel(n_jobs=-1)]: Done  73 out of  96 | elapsed:    0.2s remaining:    0.0s\n"
     ]
    },
    {
     "name": "stdout",
     "output_type": "stream",
     "text": [
      "Wall time: 9.65 s\n"
     ]
    },
    {
     "name": "stderr",
     "output_type": "stream",
     "text": [
      "[Parallel(n_jobs=-1)]: Done  96 out of  96 | elapsed:    9.5s finished\n"
     ]
    },
    {
     "data": {
      "text/plain": [
       "GridSearchCV(cv=KFold(n_splits=2, random_state=75, shuffle=True),\n",
       "             estimator=SVR(), n_jobs=-1,\n",
       "             param_grid={'C': [1, 5], 'coef0': [0.01, 0.001], 'degree': [3, 8],\n",
       "                         'gamma': ['scale', 'auto'],\n",
       "                         'kernel': ('poly', 'rbf', 'sigmoid')},\n",
       "             verbose=2)"
      ]
     },
     "execution_count": 35,
     "metadata": {},
     "output_type": "execute_result"
    }
   ],
   "source": [
    "%%time\n",
    "param = {'kernel' : ('poly', 'rbf','sigmoid'),'C' : [1,5],'degree' : [3,8],'coef0' : [0.01,0.001],'gamma' : ['scale','auto']}\n",
    "#defaults: kernel=rbf, C=1.0, degree=3, coef0=0.0, gamma=scale\n",
    "SVR_ = GridSearchCV(SVR(),param_grid = param,cv = KFold(n_splits=2,shuffle=True,random_state = 75),n_jobs=-1,verbose=2)\n",
    "SVR_.fit(train_X,train_y)"
   ]
  },
  {
   "cell_type": "code",
   "execution_count": 36,
   "metadata": {
    "execution": {
     "iopub.execute_input": "2021-03-13T15:28:55.556589Z",
     "iopub.status.busy": "2021-03-13T15:28:55.555595Z",
     "iopub.status.idle": "2021-03-13T15:28:55.570591Z",
     "shell.execute_reply": "2021-03-13T15:28:55.569577Z",
     "shell.execute_reply.started": "2021-03-13T15:28:55.556589Z"
    }
   },
   "outputs": [
    {
     "data": {
      "text/plain": [
       "SVR(C=5, coef0=0.01)"
      ]
     },
     "execution_count": 36,
     "metadata": {},
     "output_type": "execute_result"
    }
   ],
   "source": [
    "SVR_.best_estimator_"
   ]
  },
  {
   "cell_type": "markdown",
   "metadata": {},
   "source": [
    "Τώρα ξέρουμε ότι ο καλύτερος kernel είναι ο RBF οπότε θα κάνουμε άλλο ένα GridSearch πιο ειδικό."
   ]
  },
  {
   "cell_type": "code",
   "execution_count": 57,
   "metadata": {
    "execution": {
     "iopub.execute_input": "2021-03-13T15:35:26.759924Z",
     "iopub.status.busy": "2021-03-13T15:35:26.759924Z",
     "iopub.status.idle": "2021-03-13T15:35:27.883740Z",
     "shell.execute_reply": "2021-03-13T15:35:27.883740Z",
     "shell.execute_reply.started": "2021-03-13T15:35:26.759924Z"
    }
   },
   "outputs": [
    {
     "name": "stdout",
     "output_type": "stream",
     "text": [
      "Fitting 2 folds for each of 252 candidates, totalling 504 fits\n"
     ]
    },
    {
     "name": "stderr",
     "output_type": "stream",
     "text": [
      "[Parallel(n_jobs=-1)]: Using backend LokyBackend with 12 concurrent workers.\n",
      "[Parallel(n_jobs=-1)]: Done  17 tasks      | elapsed:    0.0s\n"
     ]
    },
    {
     "name": "stdout",
     "output_type": "stream",
     "text": [
      "Wall time: 1.11 s\n"
     ]
    },
    {
     "name": "stderr",
     "output_type": "stream",
     "text": [
      "[Parallel(n_jobs=-1)]: Done 504 out of 504 | elapsed:    1.0s finished\n"
     ]
    },
    {
     "data": {
      "text/plain": [
       "GridSearchCV(cv=KFold(n_splits=2, random_state=75, shuffle=True),\n",
       "             estimator=SVR(), n_jobs=-1,\n",
       "             param_grid={'C': [1, 5, 5.5, 6, 7, 7.5, 8],\n",
       "                         'coef0': [10, 5, 1, 0.5, 0.1, 0.05], 'degree': [3, 8],\n",
       "                         'tol': [0.01, 0.001, 0.0001]},\n",
       "             verbose=2)"
      ]
     },
     "execution_count": 57,
     "metadata": {},
     "output_type": "execute_result"
    }
   ],
   "source": [
    "%%time\n",
    "param = {'C' : [1,5,5.5,6,7,7.5,8],'degree' : [3,8],'coef0' : [10,5,1,0.5,0.1,0.05],'tol':[1e-2,1e-3,1e-4]}\n",
    "#defaults: kernel=rbf, C=1.0, degree=3, coef0=0.0, gamma=scale\n",
    "SVR_ = GridSearchCV(SVR(),param_grid = param,cv = KFold(n_splits=2,shuffle=True,random_state = 75),n_jobs=-1,verbose=2)\n",
    "SVR_.fit(train_X,train_y)"
   ]
  },
  {
   "cell_type": "code",
   "execution_count": 59,
   "metadata": {
    "execution": {
     "iopub.execute_input": "2021-03-13T15:36:28.815809Z",
     "iopub.status.busy": "2021-03-13T15:36:28.815809Z",
     "iopub.status.idle": "2021-03-13T15:36:28.821475Z",
     "shell.execute_reply": "2021-03-13T15:36:28.821475Z",
     "shell.execute_reply.started": "2021-03-13T15:36:28.815809Z"
    }
   },
   "outputs": [
    {
     "data": {
      "text/plain": [
       "SVR(C=7, coef0=10)"
      ]
     },
     "execution_count": 59,
     "metadata": {},
     "output_type": "execute_result"
    }
   ],
   "source": [
    "SVR_.best_estimator_"
   ]
  },
  {
   "cell_type": "code",
   "execution_count": 83,
   "metadata": {
    "execution": {
     "iopub.execute_input": "2021-03-14T21:04:22.959741Z",
     "iopub.status.busy": "2021-03-14T21:04:22.958768Z",
     "iopub.status.idle": "2021-03-14T21:04:22.999925Z",
     "shell.execute_reply": "2021-03-14T21:04:22.998925Z",
     "shell.execute_reply.started": "2021-03-14T21:04:22.958768Z"
    }
   },
   "outputs": [
    {
     "data": {
      "text/plain": [
       "SVR(C=7, coef0=10)"
      ]
     },
     "execution_count": 83,
     "metadata": {},
     "output_type": "execute_result"
    }
   ],
   "source": [
    "SVR_opt = SVR(C=7, coef0 = 10)\n",
    "SVR_opt.fit(train_X,train_y)"
   ]
  },
  {
   "cell_type": "code",
   "execution_count": 84,
   "metadata": {
    "execution": {
     "iopub.execute_input": "2021-03-14T21:04:27.442205Z",
     "iopub.status.busy": "2021-03-14T21:04:27.442205Z",
     "iopub.status.idle": "2021-03-14T21:04:27.458558Z",
     "shell.execute_reply": "2021-03-14T21:04:27.457190Z",
     "shell.execute_reply.started": "2021-03-14T21:04:27.442205Z"
    }
   },
   "outputs": [],
   "source": [
    "models_opt.append(('SVR*',SVR_opt))"
   ]
  },
  {
   "cell_type": "markdown",
   "metadata": {},
   "source": [
    "Μέγιστη σημασία στο support vector regression έχει η επιλογή κατάλληλου Kernel."
   ]
  },
  {
   "cell_type": "markdown",
   "metadata": {},
   "source": [
    "**7. Extra Trees Regressor**"
   ]
  },
  {
   "cell_type": "code",
   "execution_count": 82,
   "metadata": {
    "execution": {
     "iopub.execute_input": "2021-03-13T15:50:31.530333Z",
     "iopub.status.busy": "2021-03-13T15:50:31.529296Z",
     "iopub.status.idle": "2021-03-13T15:50:55.940615Z",
     "shell.execute_reply": "2021-03-13T15:50:55.939683Z",
     "shell.execute_reply.started": "2021-03-13T15:50:31.530333Z"
    }
   },
   "outputs": [
    {
     "name": "stdout",
     "output_type": "stream",
     "text": [
      "Fitting 10 folds for each of 54 candidates, totalling 540 fits\n"
     ]
    },
    {
     "name": "stderr",
     "output_type": "stream",
     "text": [
      "[Parallel(n_jobs=-1)]: Using backend LokyBackend with 12 concurrent workers.\n",
      "[Parallel(n_jobs=-1)]: Done  17 tasks      | elapsed:    0.3s\n",
      "[Parallel(n_jobs=-1)]: Done 252 tasks      | elapsed:    2.9s\n",
      "[Parallel(n_jobs=-1)]: Done 509 tasks      | elapsed:   21.7s\n"
     ]
    },
    {
     "name": "stdout",
     "output_type": "stream",
     "text": [
      "Wall time: 24.4 s\n"
     ]
    },
    {
     "name": "stderr",
     "output_type": "stream",
     "text": [
      "[Parallel(n_jobs=-1)]: Done 540 out of 540 | elapsed:   24.1s finished\n"
     ]
    },
    {
     "data": {
      "text/plain": [
       "GridSearchCV(cv=KFold(n_splits=10, random_state=75, shuffle=True),\n",
       "             estimator=ExtraTreesRegressor(random_state=75), n_jobs=-1,\n",
       "             param_grid={'criterion': ['mse', 'mae'], 'max_depth': [None, 1, 2],\n",
       "                         'min_samples_leaf': [1, 2, 3],\n",
       "                         'min_samples_split': [1, 2, 3]},\n",
       "             verbose=2)"
      ]
     },
     "execution_count": 82,
     "metadata": {},
     "output_type": "execute_result"
    }
   ],
   "source": [
    "%%time\n",
    "ET_ = GridSearchCV(ExtraTreesRegressor(random_state=75), param_grid = {'criterion': ['mse', 'mae'],\n",
    "                                                          'max_depth': [None,1,2],\n",
    "                                                         \"min_samples_split\":[1,2,3],\n",
    "                                                         \"min_samples_leaf\":[1,2,3]},\n",
    "                                                           cv=KFold(n_splits=10,shuffle=True,random_state = 75),n_jobs=-1,verbose=2)\n",
    "ET_.fit(train_X, train_y)"
   ]
  },
  {
   "cell_type": "code",
   "execution_count": 83,
   "metadata": {
    "execution": {
     "iopub.execute_input": "2021-03-13T15:51:06.532794Z",
     "iopub.status.busy": "2021-03-13T15:51:06.531782Z",
     "iopub.status.idle": "2021-03-13T15:51:06.540780Z",
     "shell.execute_reply": "2021-03-13T15:51:06.539814Z",
     "shell.execute_reply.started": "2021-03-13T15:51:06.532794Z"
    }
   },
   "outputs": [
    {
     "data": {
      "text/plain": [
       "ExtraTreesRegressor(random_state=75)"
      ]
     },
     "execution_count": 83,
     "metadata": {},
     "output_type": "execute_result"
    }
   ],
   "source": [
    "ET_.best_estimator_"
   ]
  },
  {
   "cell_type": "markdown",
   "metadata": {},
   "source": [
    "Παρατηρούμε ότι ο Extra Trees Regressor προτιμάει τις default παραμέτρους του."
   ]
  },
  {
   "cell_type": "code",
   "execution_count": 85,
   "metadata": {
    "execution": {
     "iopub.execute_input": "2021-03-14T21:04:40.205148Z",
     "iopub.status.busy": "2021-03-14T21:04:40.205148Z",
     "iopub.status.idle": "2021-03-14T21:04:40.420529Z",
     "shell.execute_reply": "2021-03-14T21:04:40.419932Z",
     "shell.execute_reply.started": "2021-03-14T21:04:40.205148Z"
    }
   },
   "outputs": [
    {
     "data": {
      "text/plain": [
       "ExtraTreesRegressor(random_state=75)"
      ]
     },
     "execution_count": 85,
     "metadata": {},
     "output_type": "execute_result"
    }
   ],
   "source": [
    "ET_opt = ExtraTreesRegressor(random_state=75)\n",
    "ET_opt.fit(train_X,train_y)"
   ]
  },
  {
   "cell_type": "code",
   "execution_count": 86,
   "metadata": {
    "execution": {
     "iopub.execute_input": "2021-03-14T21:04:44.321174Z",
     "iopub.status.busy": "2021-03-14T21:04:44.321174Z",
     "iopub.status.idle": "2021-03-14T21:04:44.339074Z",
     "shell.execute_reply": "2021-03-14T21:04:44.337537Z",
     "shell.execute_reply.started": "2021-03-14T21:04:44.321174Z"
    }
   },
   "outputs": [],
   "source": [
    "models_opt.append(('ET*',ET_opt))"
   ]
  },
  {
   "cell_type": "markdown",
   "metadata": {},
   "source": [
    "Ομοίως με τα Decision Trees μεγάλο ρόλο παίζει η παράμετρος με την οποία γίνεται η απόφαση (gini ή entropy) καθώς και min_samples_split και το max_depth."
   ]
  },
  {
   "cell_type": "markdown",
   "metadata": {},
   "source": [
    "**8. XG Boost Regressor**"
   ]
  },
  {
   "cell_type": "code",
   "execution_count": 87,
   "metadata": {
    "execution": {
     "iopub.execute_input": "2021-03-13T15:55:49.864888Z",
     "iopub.status.busy": "2021-03-13T15:55:49.863891Z",
     "iopub.status.idle": "2021-03-13T16:00:14.535498Z",
     "shell.execute_reply": "2021-03-13T16:00:14.534499Z",
     "shell.execute_reply.started": "2021-03-13T15:55:49.864888Z"
    }
   },
   "outputs": [
    {
     "name": "stdout",
     "output_type": "stream",
     "text": [
      "Fitting 2 folds for each of 360 candidates, totalling 720 fits\n"
     ]
    },
    {
     "name": "stderr",
     "output_type": "stream",
     "text": [
      "[Parallel(n_jobs=-1)]: Using backend LokyBackend with 12 concurrent workers.\n",
      "[Parallel(n_jobs=-1)]: Done  17 tasks      | elapsed:    2.9s\n",
      "[Parallel(n_jobs=-1)]: Done 138 tasks      | elapsed:   24.5s\n",
      "[Parallel(n_jobs=-1)]: Done 341 tasks      | elapsed:  1.2min\n",
      "[Parallel(n_jobs=-1)]: Done 624 tasks      | elapsed:  3.7min\n",
      "[Parallel(n_jobs=-1)]: Done 720 out of 720 | elapsed:  4.4min finished\n"
     ]
    },
    {
     "name": "stdout",
     "output_type": "stream",
     "text": [
      "Wall time: 4min 24s\n"
     ]
    },
    {
     "data": {
      "text/plain": [
       "GridSearchCV(cv=KFold(n_splits=2, random_state=75, shuffle=True),\n",
       "             estimator=XGBRegressor(base_score=None, booster=None,\n",
       "                                    colsample_bylevel=None,\n",
       "                                    colsample_bynode=None,\n",
       "                                    colsample_bytree=None, gamma=None,\n",
       "                                    gpu_id=None, importance_type='gain',\n",
       "                                    interaction_constraints=None,\n",
       "                                    learning_rate=None, max_delta_step=None,\n",
       "                                    max_depth=None, min_child_weight=None,\n",
       "                                    missing=nan, monot...\n",
       "                                    n_estimators=100, n_jobs=-1,\n",
       "                                    num_parallel_tree=None, random_state=75,\n",
       "                                    reg_alpha=None, reg_lambda=None,\n",
       "                                    scale_pos_weight=None, subsample=None,\n",
       "                                    tree_method=None, validate_parameters=None,\n",
       "                                    verbosity=None),\n",
       "             n_jobs=-1,\n",
       "             param_grid={'booster': ['gbtree', 'dart'],\n",
       "                         'gamma': [0, 1, 2, 3, 4], 'max_depth': [5, 6, 7],\n",
       "                         'min_child_weight': [1, 5],\n",
       "                         'n_estimators': [100, 500, 1000],\n",
       "                         'subsample': [0.5, 1]},\n",
       "             verbose=2)"
      ]
     },
     "execution_count": 87,
     "metadata": {},
     "output_type": "execute_result"
    }
   ],
   "source": [
    "%%time\n",
    "XGB_ = GridSearchCV(XGBRegressor(random_state=75,n_jobs=-1),\n",
    "                                                            param_grid  = {'booster':['gbtree','dart'],\n",
    "                                                            'min_child_weight':[1,5], \n",
    "                                                            'gamma':[0,1,2,3,4],  \n",
    "                                                            'subsample':[0.5,1],\n",
    "                                                            'max_depth': [5,6,7],\n",
    "                                                             'n_estimators':[100,500,1000]},\n",
    "                                                            cv=KFold(n_splits=2,shuffle=True,random_state = 75),n_jobs=-1,verbose=2)\n",
    "XGB_.fit(train_X, train_y)"
   ]
  },
  {
   "cell_type": "code",
   "execution_count": 88,
   "metadata": {
    "execution": {
     "iopub.execute_input": "2021-03-13T16:00:23.783004Z",
     "iopub.status.busy": "2021-03-13T16:00:23.783004Z",
     "iopub.status.idle": "2021-03-13T16:00:23.791002Z",
     "shell.execute_reply": "2021-03-13T16:00:23.790012Z",
     "shell.execute_reply.started": "2021-03-13T16:00:23.783004Z"
    }
   },
   "outputs": [
    {
     "data": {
      "text/plain": [
       "XGBRegressor(base_score=0.5, booster='gbtree', colsample_bylevel=1,\n",
       "             colsample_bynode=1, colsample_bytree=1, gamma=0, gpu_id=-1,\n",
       "             importance_type='gain', interaction_constraints='',\n",
       "             learning_rate=0.300000012, max_delta_step=0, max_depth=5,\n",
       "             min_child_weight=1, missing=nan, monotone_constraints='()',\n",
       "             n_estimators=1000, n_jobs=-1, num_parallel_tree=1, random_state=75,\n",
       "             reg_alpha=0, reg_lambda=1, scale_pos_weight=1, subsample=0.5,\n",
       "             tree_method='exact', validate_parameters=1, verbosity=None)"
      ]
     },
     "execution_count": 88,
     "metadata": {},
     "output_type": "execute_result"
    }
   ],
   "source": [
    "XGB_.best_estimator_"
   ]
  },
  {
   "cell_type": "code",
   "execution_count": 90,
   "metadata": {
    "execution": {
     "iopub.execute_input": "2021-03-13T16:00:55.873327Z",
     "iopub.status.busy": "2021-03-13T16:00:55.873327Z",
     "iopub.status.idle": "2021-03-13T16:00:55.891328Z",
     "shell.execute_reply": "2021-03-13T16:00:55.890326Z",
     "shell.execute_reply.started": "2021-03-13T16:00:55.873327Z"
    }
   },
   "outputs": [],
   "source": [
    "XGB_opt = XGBRegressor(base_score=0.5, booster='gbtree', colsample_bylevel=1,\n",
    "             colsample_bynode=1, colsample_bytree=1, gamma=0, gpu_id=-1,\n",
    "             importance_type='gain', interaction_constraints='',\n",
    "             learning_rate=0.300000012, max_delta_step=0, max_depth=5,\n",
    "             min_child_weight=1,monotone_constraints='()',\n",
    "             n_estimators=1000, n_jobs=-1, num_parallel_tree=1, random_state=75,\n",
    "             reg_alpha=0, reg_lambda=1, scale_pos_weight=1, subsample=0.5,\n",
    "             tree_method='exact', validate_parameters=1, verbosity=None)"
   ]
  },
  {
   "cell_type": "code",
   "execution_count": 95,
   "metadata": {
    "execution": {
     "iopub.execute_input": "2021-03-13T16:08:58.736110Z",
     "iopub.status.busy": "2021-03-13T16:08:58.735108Z",
     "iopub.status.idle": "2021-03-13T16:09:16.701465Z",
     "shell.execute_reply": "2021-03-13T16:09:16.700465Z",
     "shell.execute_reply.started": "2021-03-13T16:08:58.736110Z"
    }
   },
   "outputs": [
    {
     "name": "stdout",
     "output_type": "stream",
     "text": [
      "Fitting 2 folds for each of 320 candidates, totalling 640 fits\n"
     ]
    },
    {
     "name": "stderr",
     "output_type": "stream",
     "text": [
      "[Parallel(n_jobs=-1)]: Using backend LokyBackend with 12 concurrent workers.\n",
      "[Parallel(n_jobs=-1)]: Done  17 tasks      | elapsed:    0.6s\n",
      "[Parallel(n_jobs=-1)]: Done 138 tasks      | elapsed:    2.9s\n",
      "[Parallel(n_jobs=-1)]: Done 341 tasks      | elapsed:    8.0s\n",
      "[Parallel(n_jobs=-1)]: Done 640 out of 640 | elapsed:   17.7s finished\n"
     ]
    },
    {
     "name": "stdout",
     "output_type": "stream",
     "text": [
      "Wall time: 17.9 s\n"
     ]
    },
    {
     "data": {
      "text/plain": [
       "GridSearchCV(cv=KFold(n_splits=2, random_state=75, shuffle=True),\n",
       "             estimator=XGBRegressor(base_score=None, booster=None,\n",
       "                                    colsample_bylevel=None,\n",
       "                                    colsample_bynode=None,\n",
       "                                    colsample_bytree=None, gamma=None,\n",
       "                                    gpu_id=None, importance_type='gain',\n",
       "                                    interaction_constraints=None,\n",
       "                                    learning_rate=None, max_delta_step=None,\n",
       "                                    max_depth=None, min_child_weight=None,\n",
       "                                    missing=nan, monotone_constraints=None,\n",
       "                                    n_estimators=100, n_jobs=-1,\n",
       "                                    num_parallel_tree=None, random_state=75,\n",
       "                                    reg_alpha=None, reg_lambda=None,\n",
       "                                    scale_pos_weight=None, subsample=None,\n",
       "                                    tree_method=None, validate_parameters=None,\n",
       "                                    verbosity=None),\n",
       "             n_jobs=-1,\n",
       "             param_grid={'max_depth': [3, 4, 5, 6],\n",
       "                         'reg_alpha': [0, 0.1, 0.5, 1],\n",
       "                         'reg_lambda': [1, 1.5, 3, 5],\n",
       "                         'subsample': [0.2, 0.3, 0.4, 0.5, 0.6]},\n",
       "             verbose=2)"
      ]
     },
     "execution_count": 95,
     "metadata": {},
     "output_type": "execute_result"
    }
   ],
   "source": [
    "%%time\n",
    "XGB_ = GridSearchCV(XGBRegressor(random_state=75,n_jobs=-1),\n",
    "                                                            param_grid  = {'subsample':[0.2,0.3,0.4,0.5,0.6],\n",
    "                                                            'max_depth': [3,4,5,6],\n",
    "                                                            'reg_alpha':[0,0.1,0.5,1],\n",
    "                                                             'reg_lambda':[1,1.5,3,5]},\n",
    "                                                            cv=KFold(n_splits=2,shuffle=True,random_state = 75),n_jobs=-1,verbose=2)\n",
    "XGB_.fit(train_X, train_y)"
   ]
  },
  {
   "cell_type": "code",
   "execution_count": 96,
   "metadata": {
    "execution": {
     "iopub.execute_input": "2021-03-13T16:09:16.703464Z",
     "iopub.status.busy": "2021-03-13T16:09:16.703464Z",
     "iopub.status.idle": "2021-03-13T16:09:16.717472Z",
     "shell.execute_reply": "2021-03-13T16:09:16.716492Z",
     "shell.execute_reply.started": "2021-03-13T16:09:16.703464Z"
    }
   },
   "outputs": [
    {
     "data": {
      "text/plain": [
       "XGBRegressor(base_score=0.5, booster='gbtree', colsample_bylevel=1,\n",
       "             colsample_bynode=1, colsample_bytree=1, gamma=0, gpu_id=-1,\n",
       "             importance_type='gain', interaction_constraints='',\n",
       "             learning_rate=0.300000012, max_delta_step=0, max_depth=6,\n",
       "             min_child_weight=1, missing=nan, monotone_constraints='()',\n",
       "             n_estimators=100, n_jobs=-1, num_parallel_tree=1, random_state=75,\n",
       "             reg_alpha=0, reg_lambda=5, scale_pos_weight=1, subsample=0.5,\n",
       "             tree_method='exact', validate_parameters=1, verbosity=None)"
      ]
     },
     "execution_count": 96,
     "metadata": {},
     "output_type": "execute_result"
    }
   ],
   "source": [
    "XGB_.best_estimator_"
   ]
  },
  {
   "cell_type": "code",
   "execution_count": 124,
   "metadata": {
    "execution": {
     "iopub.execute_input": "2021-03-14T21:33:49.255126Z",
     "iopub.status.busy": "2021-03-14T21:33:49.255126Z",
     "iopub.status.idle": "2021-03-14T21:33:49.408601Z",
     "shell.execute_reply": "2021-03-14T21:33:49.408601Z",
     "shell.execute_reply.started": "2021-03-14T21:33:49.255126Z"
    }
   },
   "outputs": [
    {
     "name": "stdout",
     "output_type": "stream",
     "text": [
      "Wall time: 138 ms\n"
     ]
    },
    {
     "data": {
      "text/plain": [
       "XGBRegressor(base_score=0.5, booster='gbtree', colsample_bylevel=1,\n",
       "             colsample_bynode=1, colsample_bytree=1, gamma=0, gpu_id=-1,\n",
       "             importance_type='gain', interaction_constraints='',\n",
       "             learning_rate=0.300000012, max_delta_step=0, max_depth=6,\n",
       "             min_child_weight=1, missing=nan, monotone_constraints='()',\n",
       "             n_estimators=100, n_jobs=-1, num_parallel_tree=1, random_state=75,\n",
       "             reg_alpha=0, reg_lambda=5, scale_pos_weight=1, subsample=0.5,\n",
       "             tree_method='exact', validate_parameters=1, verbosity=None)"
      ]
     },
     "execution_count": 124,
     "metadata": {},
     "output_type": "execute_result"
    }
   ],
   "source": [
    "%%time\n",
    "XGB_opt = XGBRegressor(base_score=0.5, booster='gbtree', colsample_bylevel=1,\n",
    "             colsample_bynode=1, colsample_bytree=1, gamma=0, gpu_id=-1,\n",
    "             importance_type='gain', interaction_constraints='',\n",
    "             learning_rate=0.300000012, max_delta_step=0, max_depth=6,\n",
    "             min_child_weight=1, monotone_constraints='()',\n",
    "             n_estimators=100, n_jobs=-1, num_parallel_tree=1, random_state=75,\n",
    "             reg_alpha=0, reg_lambda=5, scale_pos_weight=1, subsample=0.5,\n",
    "             tree_method='exact', validate_parameters=1, verbosity=None)\n",
    "XGB_opt.fit(train_X,train_y)"
   ]
  },
  {
   "cell_type": "code",
   "execution_count": 125,
   "metadata": {
    "execution": {
     "iopub.execute_input": "2021-03-14T21:33:50.597055Z",
     "iopub.status.busy": "2021-03-14T21:33:50.596054Z",
     "iopub.status.idle": "2021-03-14T21:33:50.607414Z",
     "shell.execute_reply": "2021-03-14T21:33:50.606100Z",
     "shell.execute_reply.started": "2021-03-14T21:33:50.597055Z"
    }
   },
   "outputs": [],
   "source": [
    "models_opt.append(('XGB*',XGB_opt))"
   ]
  },
  {
   "cell_type": "markdown",
   "metadata": {},
   "source": [
    "O XGBoost καθώς είναι επικίνδυνος στο overfitting, μεγάλη σημασία έχουν οι παράμετροι max_depth, min_child_weight και gamma διότι ελέγχουν την πολυπλοκότητα του μοντέλου."
   ]
  },
  {
   "cell_type": "code",
   "execution_count": 165,
   "metadata": {
    "execution": {
     "iopub.execute_input": "2021-03-14T22:06:34.348702Z",
     "iopub.status.busy": "2021-03-14T22:06:34.347701Z",
     "iopub.status.idle": "2021-03-14T22:06:34.362717Z",
     "shell.execute_reply": "2021-03-14T22:06:34.361716Z",
     "shell.execute_reply.started": "2021-03-14T22:06:34.348702Z"
    }
   },
   "outputs": [],
   "source": [
    "def compare_models_final(trainX,trainY,testX,testY,models,modelsopt,tempdf):\n",
    "    print('\\nCompare Multiple Regressors:')\n",
    "    print('\\nK-Fold Cross-Validation Accuracy:\\n')\n",
    "    \n",
    "#     tempdf = pd.DataFrame(columns=['Name','Dataset','Score','St.Dev'])\n",
    "    for model, modelopt in zip(models,modelsopt):\n",
    "        modelopt[1].fit(trainX,trainY)\n",
    "        kfold = KFold(n_splits=2,shuffle=True,random_state = 75)\n",
    "        train_accuracy_results = cross_val_score(modelopt[1], trainX,trainY, cv=kfold)\n",
    "        test_accuracy_results = cross_val_score(modelopt[1],testX,testY,cv=kfold)\n",
    "        tempdf = tempdf.append({'Name':model[0],'Dataset':'Train-opt','Score':train_accuracy_results.mean(),\n",
    "                               'St.Dev':train_accuracy_results.std()},ignore_index=True)\n",
    "        tempdf = tempdf.append({'Name':model[0],'Dataset':'Test-opt','Score':test_accuracy_results.mean(),\n",
    "                               'St.Dev':test_accuracy_results.std()},ignore_index=True)\n",
    "    tempdf['Percent Score(%)'] = 100*tempdf['Score']\n",
    "    print('Models with default hyperparameters:')\n",
    "    print(tempdf.loc[:17,:])\n",
    "    print('Models after hyperparameter optimization:')\n",
    "    print(tempdf.loc[18:,:])\n",
    "    g = sns.catplot(x = 'Name', y='Percent Score(%)',hue = 'Dataset',data=tempdf, kind='bar',height=8.27, aspect=11.7/8.27)\n",
    "    g.set_xticklabels(rotation=30)\n",
    "    g.set(yticks=np.arange(0,90,10))\n",
    "    return tempdf,plt.show()"
   ]
  },
  {
   "cell_type": "markdown",
   "metadata": {},
   "source": [
    "# Final Results"
   ]
  },
  {
   "cell_type": "code",
   "execution_count": 166,
   "metadata": {
    "execution": {
     "iopub.execute_input": "2021-03-14T22:06:35.410111Z",
     "iopub.status.busy": "2021-03-14T22:06:35.410111Z",
     "iopub.status.idle": "2021-03-14T22:06:54.950979Z",
     "shell.execute_reply": "2021-03-14T22:06:54.950979Z",
     "shell.execute_reply.started": "2021-03-14T22:06:35.410111Z"
    }
   },
   "outputs": [
    {
     "name": "stdout",
     "output_type": "stream",
     "text": [
      "\n",
      "Compare Multiple Regressors:\n",
      "\n",
      "K-Fold Cross-Validation Accuracy:\n",
      "\n",
      "Models with default hyperparameters:\n",
      "    Name Dataset     Score    St.Dev  Percent Score(%)\n",
      "0     LR   Train  0.524293  0.022378         52.429282\n",
      "1     LR    Test  0.483958  0.010032         48.395821\n",
      "2     RD   Train  0.522606  0.019062         52.260580\n",
      "3     RD    Test  0.473472  0.020209         47.347213\n",
      "4    LAS   Train -0.004726  0.000553         -0.472610\n",
      "5    LAS    Test -0.003199  0.000080         -0.319950\n",
      "6     DT   Train  0.724711  0.018531         72.471080\n",
      "7     DT    Test  0.561512  0.030118         56.151249\n",
      "8    MLP   Train  0.573983  0.033982         57.398279\n",
      "9    MLP    Test  0.452736  0.026096         45.273615\n",
      "10  DMLP   Train  0.645791  0.020936         64.579134\n",
      "11  DMLP    Test  0.590723  0.002015         59.072253\n",
      "12   SVR   Train  0.719682  0.008204         71.968240\n",
      "13   SVR    Test  0.638348  0.003131         63.834776\n",
      "14    ET   Train  0.891462  0.015224         89.146186\n",
      "15    ET    Test  0.795614  0.013143         79.561411\n",
      "16   XGB   Train  0.880487  0.006803         88.048735\n",
      "17   XGB    Test  0.786158  0.009417         78.615801\n",
      "Models after hyperparameter optimization:\n",
      "    Name    Dataset     Score    St.Dev  Percent Score(%)\n",
      "18    LR  Train-opt  0.524293  0.022378         52.429282\n",
      "19    LR   Test-opt  0.483958  0.010032         48.395821\n",
      "20    RD  Train-opt  0.524113  0.020208         52.411255\n",
      "21    RD   Test-opt  0.480662  0.017326         48.066199\n",
      "22   LAS  Train-opt  0.524347  0.022057         52.434671\n",
      "23   LAS   Test-opt  0.483742  0.011260         48.374202\n",
      "24    DT  Train-opt  0.732810  0.017792         73.281007\n",
      "25    DT   Test-opt  0.555588  0.093985         55.558811\n",
      "26   MLP  Train-opt  0.596438  0.012980         59.643784\n",
      "27   MLP   Test-opt  0.530174  0.000154         53.017413\n",
      "28  DMLP  Train-opt  0.802352  0.021276         80.235244\n",
      "29  DMLP   Test-opt  0.649542  0.017360         64.954159\n",
      "30   SVR  Train-opt  0.745700  0.000580         74.570020\n",
      "31   SVR   Test-opt  0.620144  0.019027         62.014429\n",
      "32    ET  Train-opt  0.891462  0.015224         89.146186\n",
      "33    ET   Test-opt  0.795614  0.013143         79.561411\n",
      "34   XGB  Train-opt  0.898965  0.000867         89.896470\n",
      "35   XGB   Test-opt  0.822630  0.015809         82.263014\n"
     ]
    },
    {
     "data": {
      "image/png": "[encoded data removed]",
      "text/plain": [
       "<Figure size 926x595.44 with 1 Axes>"
      ]
     },
     "metadata": {},
     "output_type": "display_data"
    },
    {
     "name": "stdout",
     "output_type": "stream",
     "text": [
      "Wall time: 19.5 s\n"
     ]
    }
   ],
   "source": [
    "%%time\n",
    "final_df,_ = compare_models_final(train_X,train_y,test_X,test_y,models,models_opt,models_df)"
   ]
  },
  {
   "cell_type": "code",
   "execution_count": 169,
   "metadata": {
    "execution": {
     "iopub.execute_input": "2021-03-14T22:28:26.770025Z",
     "iopub.status.busy": "2021-03-14T22:28:26.769025Z",
     "iopub.status.idle": "2021-03-14T22:28:26.835643Z",
     "shell.execute_reply": "2021-03-14T22:28:26.834730Z",
     "shell.execute_reply.started": "2021-03-14T22:28:26.770025Z"
    }
   },
   "outputs": [
    {
     "data": {
      "text/html": [
       "<div>\n",
       "<style scoped>\n",
       "    .dataframe tbody tr th:only-of-type {\n",
       "        vertical-align: middle;\n",
       "    }\n",
       "\n",
       "    .dataframe tbody tr th {\n",
       "        vertical-align: top;\n",
       "    }\n",
       "\n",
       "    .dataframe thead th {\n",
       "        text-align: right;\n",
       "    }\n",
       "</style>\n",
       "<table border=\"1\" class=\"dataframe\">\n",
       "  <thead>\n",
       "    <tr style=\"text-align: right;\">\n",
       "      <th></th>\n",
       "      <th>Name</th>\n",
       "      <th>Dataset</th>\n",
       "      <th>ScoreChange</th>\n",
       "      <th>Per</th>\n",
       "    </tr>\n",
       "  </thead>\n",
       "  <tbody>\n",
       "    <tr>\n",
       "      <th>0</th>\n",
       "      <td>LR</td>\n",
       "      <td>Train</td>\n",
       "      <td>0.00</td>\n",
       "      <td>0.0</td>\n",
       "    </tr>\n",
       "    <tr>\n",
       "      <th>1</th>\n",
       "      <td>LR</td>\n",
       "      <td>Test</td>\n",
       "      <td>0.00</td>\n",
       "      <td>0.0</td>\n",
       "    </tr>\n",
       "    <tr>\n",
       "      <th>2</th>\n",
       "      <td>RD</td>\n",
       "      <td>Train</td>\n",
       "      <td>0.00</td>\n",
       "      <td>0.0</td>\n",
       "    </tr>\n",
       "    <tr>\n",
       "      <th>3</th>\n",
       "      <td>RD</td>\n",
       "      <td>Test</td>\n",
       "      <td>0.01</td>\n",
       "      <td>1.0</td>\n",
       "    </tr>\n",
       "    <tr>\n",
       "      <th>4</th>\n",
       "      <td>LAS</td>\n",
       "      <td>Train</td>\n",
       "      <td>0.53</td>\n",
       "      <td>53.0</td>\n",
       "    </tr>\n",
       "    <tr>\n",
       "      <th>5</th>\n",
       "      <td>LAS</td>\n",
       "      <td>Test</td>\n",
       "      <td>0.49</td>\n",
       "      <td>49.0</td>\n",
       "    </tr>\n",
       "    <tr>\n",
       "      <th>6</th>\n",
       "      <td>DT</td>\n",
       "      <td>Train</td>\n",
       "      <td>0.01</td>\n",
       "      <td>1.0</td>\n",
       "    </tr>\n",
       "    <tr>\n",
       "      <th>7</th>\n",
       "      <td>DT</td>\n",
       "      <td>Test</td>\n",
       "      <td>-0.01</td>\n",
       "      <td>-1.0</td>\n",
       "    </tr>\n",
       "    <tr>\n",
       "      <th>8</th>\n",
       "      <td>MLP</td>\n",
       "      <td>Train</td>\n",
       "      <td>0.02</td>\n",
       "      <td>2.0</td>\n",
       "    </tr>\n",
       "    <tr>\n",
       "      <th>9</th>\n",
       "      <td>MLP</td>\n",
       "      <td>Test</td>\n",
       "      <td>0.08</td>\n",
       "      <td>8.0</td>\n",
       "    </tr>\n",
       "    <tr>\n",
       "      <th>10</th>\n",
       "      <td>DMLP</td>\n",
       "      <td>Train</td>\n",
       "      <td>0.16</td>\n",
       "      <td>16.0</td>\n",
       "    </tr>\n",
       "    <tr>\n",
       "      <th>11</th>\n",
       "      <td>DMLP</td>\n",
       "      <td>Test</td>\n",
       "      <td>0.06</td>\n",
       "      <td>6.0</td>\n",
       "    </tr>\n",
       "    <tr>\n",
       "      <th>12</th>\n",
       "      <td>SVR</td>\n",
       "      <td>Train</td>\n",
       "      <td>0.03</td>\n",
       "      <td>3.0</td>\n",
       "    </tr>\n",
       "    <tr>\n",
       "      <th>13</th>\n",
       "      <td>SVR</td>\n",
       "      <td>Test</td>\n",
       "      <td>-0.02</td>\n",
       "      <td>-2.0</td>\n",
       "    </tr>\n",
       "    <tr>\n",
       "      <th>14</th>\n",
       "      <td>ET</td>\n",
       "      <td>Train</td>\n",
       "      <td>0.00</td>\n",
       "      <td>0.0</td>\n",
       "    </tr>\n",
       "    <tr>\n",
       "      <th>15</th>\n",
       "      <td>ET</td>\n",
       "      <td>Test</td>\n",
       "      <td>0.00</td>\n",
       "      <td>0.0</td>\n",
       "    </tr>\n",
       "    <tr>\n",
       "      <th>16</th>\n",
       "      <td>XGB</td>\n",
       "      <td>Train</td>\n",
       "      <td>0.02</td>\n",
       "      <td>2.0</td>\n",
       "    </tr>\n",
       "    <tr>\n",
       "      <th>17</th>\n",
       "      <td>XGB</td>\n",
       "      <td>Test</td>\n",
       "      <td>0.04</td>\n",
       "      <td>4.0</td>\n",
       "    </tr>\n",
       "  </tbody>\n",
       "</table>\n",
       "</div>"
      ],
      "text/plain": [
       "    Name Dataset  ScoreChange   Per\n",
       "0     LR   Train         0.00   0.0\n",
       "1     LR    Test         0.00   0.0\n",
       "2     RD   Train         0.00   0.0\n",
       "3     RD    Test         0.01   1.0\n",
       "4    LAS   Train         0.53  53.0\n",
       "5    LAS    Test         0.49  49.0\n",
       "6     DT   Train         0.01   1.0\n",
       "7     DT    Test        -0.01  -1.0\n",
       "8    MLP   Train         0.02   2.0\n",
       "9    MLP    Test         0.08   8.0\n",
       "10  DMLP   Train         0.16  16.0\n",
       "11  DMLP    Test         0.06   6.0\n",
       "12   SVR   Train         0.03   3.0\n",
       "13   SVR    Test        -0.02  -2.0\n",
       "14    ET   Train         0.00   0.0\n",
       "15    ET    Test         0.00   0.0\n",
       "16   XGB   Train         0.02   2.0\n",
       "17   XGB    Test         0.04   4.0"
      ]
     },
     "execution_count": 169,
     "metadata": {},
     "output_type": "execute_result"
    }
   ],
   "source": [
    "change = pd.DataFrame(columns=['Name','Dataset','ScoreChange'])\n",
    "for i in range(0,18):\n",
    "    change = change.append({'Name':final_df.Name[i],'Dataset':final_df.Dataset[i],'ScoreChange':round(final_df.Score[i+18]-final_df.Score[i],2)},ignore_index=True)\n",
    "change['Per'] = 100*change['ScoreChange']\n",
    "change"
   ]
  },
  {
   "cell_type": "markdown",
   "metadata": {},
   "source": [
    "### Πίνακας μεταβολής επίδοσης των αλγορίθμων μετά τη βελτιστοποίησή τους\n"
   ]
  },
  {
   "cell_type": "code",
   "execution_count": 162,
   "metadata": {
    "execution": {
     "iopub.execute_input": "2021-03-14T22:03:01.451188Z",
     "iopub.status.busy": "2021-03-14T22:03:01.451188Z",
     "iopub.status.idle": "2021-03-14T22:03:01.873374Z",
     "shell.execute_reply": "2021-03-14T22:03:01.872338Z",
     "shell.execute_reply.started": "2021-03-14T22:03:01.451188Z"
    }
   },
   "outputs": [
    {
     "data": {
      "text/plain": [
       "Text(0.5, 0.98, 'Score Change after hyperparameter optimization for each Regressor')"
      ]
     },
     "execution_count": 162,
     "metadata": {},
     "output_type": "execute_result"
    },
    {
     "data": {
      "image/png": "[encoded data removed]",
      "text/plain": [
       "<Figure size 604.475x360 with 1 Axes>"
      ]
     },
     "metadata": {},
     "output_type": "display_data"
    }
   ],
   "source": [
    "g = sns.catplot(x = 'Name', y='Per',hue = 'Dataset',data=change, kind='bar',height=5,aspect=1.5, palette='dark')\n",
    "g.set_xticklabels(rotation=30)\n",
    "g.set(yticks=np.arange(0,53,5))\n",
    "g.fig.suptitle('Score Change after hyperparameter optimization for each Regressor')"
   ]
  },
  {
   "cell_type": "markdown",
   "metadata": {},
   "source": [
    "### Σχόλια"
   ]
  },
  {
   "cell_type": "markdown",
   "metadata": {},
   "source": [
    " - Παρατηρούμε ότι στις περιπτώσεις Ridge και Lasso Regression το γεγονός ότι $\\alpha\\rightarrow 0$, σημαίνει ότι το πρόβλημά μας τείνει σε αυτό της απλής γραμμικής παλινδρόμησης επομένως παίρνουμε τους ίδιους συντελεστές με αυτό, γιαυτό και οι 2 τιμές του $R^2$ συγκλίνουν προς αυτό της γραμμικής παλινδρόμησης.\n",
    " - Στα Decision Trees βλέπουμε μια μικρή αύξηση της τάξης του 1\\% στο test set μετά το optimization.\n",
    " - Το Multi Layer Perceptron χωρίς τα hidden layers, εμφανίζει μια 2\\% αύξηση στο train set και 8\\% αύξηση στο test set, δηλαδή μπορεί και γενικεύει καλύτερα.  \n",
    " - Το Default Multi Layer Perceptron όμως με 1 παραπάνω hidden layer, εμφανίζει ήδη by default λίγο μεγαλύτερη ακρίβεια από το αρχικό, λόγω της ικανότητας του να αποθηκεύει περισσότερη πληροφορία, και μετά το optimization όπου έχουμε 3 hidden layers με 512, 256 και 128 παραμέτρους αντίστοιχα, έχουμε 16\\% παραπάνω accuracy στο train set και 6\\% στο test set.\n",
    " - Το MLP με τα hidden layers έχει 10\\% παραπάνω απόδοση από ότι αυτό χωρίς.\n",
    " - O SVR μετά το optimization εμφανίζει 3\\% αύξηση στο train set και 2\\% μείωση στο test set. Αυτό είναι μια περίπτωση overfitting.\n",
    " - O Extra Trees Regressor μετά το Grid Search δείχνει ότι προτιμάει τις default υπερπαραμέτρους του, επομένως δεν έχει καμία αλλαγή. Αυτό δεν σημαίνει ότι αυτές είναι οι βέλτιστοι υπερπαράμετροι, για να βρεθούν όμως, πρέπει να επεκταθεί το εύρος των υπερπαραμέτρων που ψάχνουμε.\n",
    " - Ο XGBoost Regressor μετά την βελτιστοποίηση δείχνει 2\\% αύξηση στο train set και 4\\% αύξηση στο test set, και είναι ο πιο ακριβής regressor στο σύνολο όλων, με test set accuracy 82\\%.\n",
    " - Στα περισσότερα κελιά που υπάρχει ενδιαφέρον για το χρόνο εκτέλεσης έχει προστεθεί η built-in magic command `%%time` ώστε να φαίνεται ο χρόνος εκτέλεσης. Για όλους τους υπολογισμούς χρησιμοποιήθηκαν jupyter notebooks σε local runtime με επεξεργαστή i7-9th gen. Στις πιο απαιτητικές εργασίες, δηλαδή στα Grid Search, προστέθηκε η εντολή `n_jobs=-1` ώστε να εκτελούνται υπολογισμοί εν παραλλήλω, αξιοποιώντας και τα 12 threads του επεξεργαστή. "
   ]
  }
 ],
 "metadata": {
  "kernelspec": {
   "display_name": "Python 3",
   "language": "python",
   "name": "python3"
  },
  "language_info": {
   "codemirror_mode": {
    "name": "ipython",
    "version": 3
   },
   "file_extension": ".py",
   "mimetype": "text/x-python",
   "name": "python",
   "nbconvert_exporter": "python",
   "pygments_lexer": "ipython3",
   "version": "3.8.5"
  }
 },
 "nbformat": 4,
 "nbformat_minor": 4
}
