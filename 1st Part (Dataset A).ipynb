{
 "cells": [
  {
   "cell_type": "markdown",
   "metadata": {},
   "source": [
    "## Ομάδα #75 \n",
    "### Νικόλαος Μανιάτης - Φίλιππος Μαυρεπής\n",
    "\n",
    "##### Datasets: S12,\tB04,\t119"
   ]
  },
  {
   "cell_type": "code",
   "execution_count": 106,
   "metadata": {},
   "outputs": [],
   "source": [
    "import pandas as pd\n",
    "import numpy as np\n",
    "import matplotlib.pyplot as plt\n",
    "from statsmodels.stats.outliers_influence import variance_inflation_factor\n",
    "from sklearn.model_selection import train_test_split\n",
    "from sklearn.linear_model import LinearRegression,Ridge,Lasso\n",
    "from sklearn.svm import SVR\n",
    "from sklearn.tree import DecisionTreeRegressor\n",
    "from sklearn.neural_network import MLPRegressor\n",
    "from sklearn.ensemble import ExtraTreesRegressor\n",
    "import xgboost as xgb\n",
    "from xgboost import XGBRegressor\n",
    "from sklearn.model_selection import cross_val_score,KFold\n",
    "from sklearn.model_selection import GridSearchCV"
   ]
  },
  {
   "cell_type": "markdown",
   "metadata": {},
   "source": [
    "**Dataset Abstract**\n",
    "NASA data set, obtained from a series of aerodynamic and acoustic tests of two and three-dimensional airfoil blade sections conducted in an anechoic wind tunnel."
   ]
  },
  {
   "cell_type": "markdown",
   "metadata": {},
   "source": [
    "**Attribute Information:**\n",
    "\n",
    "This problem has the following inputs:\n",
    "1. Frequency, in Hertzs.\n",
    "2. Angle of attack, in degrees.\n",
    "3. Chord length, in meters.\n",
    "4. Free-stream velocity, in meters per second.\n",
    "5. Suction side displacement thickness, in meters.\n",
    "\n",
    "The only output is:\n",
    "6. Scaled sound pressure level, in decibels."
   ]
  },
  {
   "cell_type": "code",
   "execution_count": 49,
   "metadata": {},
   "outputs": [
    {
     "name": "stdout",
     "output_type": "stream",
     "text": [
      "(1503, 6)\n"
     ]
    },
    {
     "data": {
      "text/html": [
       "<div>\n",
       "<style scoped>\n",
       "    .dataframe tbody tr th:only-of-type {\n",
       "        vertical-align: middle;\n",
       "    }\n",
       "\n",
       "    .dataframe tbody tr th {\n",
       "        vertical-align: top;\n",
       "    }\n",
       "\n",
       "    .dataframe thead th {\n",
       "        text-align: right;\n",
       "    }\n",
       "</style>\n",
       "<table border=\"1\" class=\"dataframe\">\n",
       "  <thead>\n",
       "    <tr style=\"text-align: right;\">\n",
       "      <th></th>\n",
       "      <th>freq</th>\n",
       "      <th>angle</th>\n",
       "      <th>length</th>\n",
       "      <th>velocity</th>\n",
       "      <th>thickness</th>\n",
       "      <th>pressure</th>\n",
       "    </tr>\n",
       "  </thead>\n",
       "  <tbody>\n",
       "    <tr>\n",
       "      <th>0</th>\n",
       "      <td>800</td>\n",
       "      <td>0.0</td>\n",
       "      <td>0.3048</td>\n",
       "      <td>71.3</td>\n",
       "      <td>0.002663</td>\n",
       "      <td>126.201</td>\n",
       "    </tr>\n",
       "    <tr>\n",
       "      <th>1</th>\n",
       "      <td>1000</td>\n",
       "      <td>0.0</td>\n",
       "      <td>0.3048</td>\n",
       "      <td>71.3</td>\n",
       "      <td>0.002663</td>\n",
       "      <td>125.201</td>\n",
       "    </tr>\n",
       "    <tr>\n",
       "      <th>2</th>\n",
       "      <td>1250</td>\n",
       "      <td>0.0</td>\n",
       "      <td>0.3048</td>\n",
       "      <td>71.3</td>\n",
       "      <td>0.002663</td>\n",
       "      <td>125.951</td>\n",
       "    </tr>\n",
       "    <tr>\n",
       "      <th>3</th>\n",
       "      <td>1600</td>\n",
       "      <td>0.0</td>\n",
       "      <td>0.3048</td>\n",
       "      <td>71.3</td>\n",
       "      <td>0.002663</td>\n",
       "      <td>127.591</td>\n",
       "    </tr>\n",
       "    <tr>\n",
       "      <th>4</th>\n",
       "      <td>2000</td>\n",
       "      <td>0.0</td>\n",
       "      <td>0.3048</td>\n",
       "      <td>71.3</td>\n",
       "      <td>0.002663</td>\n",
       "      <td>127.461</td>\n",
       "    </tr>\n",
       "  </tbody>\n",
       "</table>\n",
       "</div>"
      ],
      "text/plain": [
       "   freq  angle  length  velocity  thickness  pressure\n",
       "0   800    0.0  0.3048      71.3   0.002663   126.201\n",
       "1  1000    0.0  0.3048      71.3   0.002663   125.201\n",
       "2  1250    0.0  0.3048      71.3   0.002663   125.951\n",
       "3  1600    0.0  0.3048      71.3   0.002663   127.591\n",
       "4  2000    0.0  0.3048      71.3   0.002663   127.461"
      ]
     },
     "execution_count": 49,
     "metadata": {},
     "output_type": "execute_result"
    }
   ],
   "source": [
    "features = ['freq','angle','length','velocity','thickness','pressure']\n",
    "df = pd.read_table('./datasets/airfoil_self_noise.dat',names = features )\n",
    "print(df.shape)\n",
    "df.head()"
   ]
  },
  {
   "cell_type": "code",
   "execution_count": 50,
   "metadata": {},
   "outputs": [
    {
     "data": {
      "text/plain": [
       "freq         0\n",
       "angle        0\n",
       "length       0\n",
       "velocity     0\n",
       "thickness    0\n",
       "pressure     0\n",
       "dtype: int64"
      ]
     },
     "execution_count": 50,
     "metadata": {},
     "output_type": "execute_result"
    }
   ],
   "source": [
    "df.isna().sum()"
   ]
  },
  {
   "cell_type": "code",
   "execution_count": 51,
   "metadata": {},
   "outputs": [
    {
     "data": {
      "text/html": [
       "<div>\n",
       "<style scoped>\n",
       "    .dataframe tbody tr th:only-of-type {\n",
       "        vertical-align: middle;\n",
       "    }\n",
       "\n",
       "    .dataframe tbody tr th {\n",
       "        vertical-align: top;\n",
       "    }\n",
       "\n",
       "    .dataframe thead th {\n",
       "        text-align: right;\n",
       "    }\n",
       "</style>\n",
       "<table border=\"1\" class=\"dataframe\">\n",
       "  <thead>\n",
       "    <tr style=\"text-align: right;\">\n",
       "      <th></th>\n",
       "      <th>freq</th>\n",
       "      <th>angle</th>\n",
       "      <th>length</th>\n",
       "      <th>velocity</th>\n",
       "      <th>thickness</th>\n",
       "      <th>pressure</th>\n",
       "    </tr>\n",
       "  </thead>\n",
       "  <tbody>\n",
       "    <tr>\n",
       "      <th>freq</th>\n",
       "      <td>1.000000</td>\n",
       "      <td>-0.272765</td>\n",
       "      <td>-0.003661</td>\n",
       "      <td>0.133664</td>\n",
       "      <td>-0.230107</td>\n",
       "      <td>-0.390711</td>\n",
       "    </tr>\n",
       "    <tr>\n",
       "      <th>angle</th>\n",
       "      <td>-0.272765</td>\n",
       "      <td>1.000000</td>\n",
       "      <td>-0.504868</td>\n",
       "      <td>0.058760</td>\n",
       "      <td>0.753394</td>\n",
       "      <td>-0.156108</td>\n",
       "    </tr>\n",
       "    <tr>\n",
       "      <th>length</th>\n",
       "      <td>-0.003661</td>\n",
       "      <td>-0.504868</td>\n",
       "      <td>1.000000</td>\n",
       "      <td>0.003787</td>\n",
       "      <td>-0.220842</td>\n",
       "      <td>-0.236162</td>\n",
       "    </tr>\n",
       "    <tr>\n",
       "      <th>velocity</th>\n",
       "      <td>0.133664</td>\n",
       "      <td>0.058760</td>\n",
       "      <td>0.003787</td>\n",
       "      <td>1.000000</td>\n",
       "      <td>-0.003974</td>\n",
       "      <td>0.125103</td>\n",
       "    </tr>\n",
       "    <tr>\n",
       "      <th>thickness</th>\n",
       "      <td>-0.230107</td>\n",
       "      <td>0.753394</td>\n",
       "      <td>-0.220842</td>\n",
       "      <td>-0.003974</td>\n",
       "      <td>1.000000</td>\n",
       "      <td>-0.312670</td>\n",
       "    </tr>\n",
       "    <tr>\n",
       "      <th>pressure</th>\n",
       "      <td>-0.390711</td>\n",
       "      <td>-0.156108</td>\n",
       "      <td>-0.236162</td>\n",
       "      <td>0.125103</td>\n",
       "      <td>-0.312670</td>\n",
       "      <td>1.000000</td>\n",
       "    </tr>\n",
       "  </tbody>\n",
       "</table>\n",
       "</div>"
      ],
      "text/plain": [
       "               freq     angle    length  velocity  thickness  pressure\n",
       "freq       1.000000 -0.272765 -0.003661  0.133664  -0.230107 -0.390711\n",
       "angle     -0.272765  1.000000 -0.504868  0.058760   0.753394 -0.156108\n",
       "length    -0.003661 -0.504868  1.000000  0.003787  -0.220842 -0.236162\n",
       "velocity   0.133664  0.058760  0.003787  1.000000  -0.003974  0.125103\n",
       "thickness -0.230107  0.753394 -0.220842 -0.003974   1.000000 -0.312670\n",
       "pressure  -0.390711 -0.156108 -0.236162  0.125103  -0.312670  1.000000"
      ]
     },
     "execution_count": 51,
     "metadata": {},
     "output_type": "execute_result"
    }
   ],
   "source": [
    "df.corr()"
   ]
  },
  {
   "cell_type": "code",
   "execution_count": 52,
   "metadata": {},
   "outputs": [
    {
     "data": {
      "text/plain": [
       "Index(['freq', 'angle', 'length', 'velocity', 'thickness', 'pressure'], dtype='object')"
      ]
     },
     "execution_count": 52,
     "metadata": {},
     "output_type": "execute_result"
    }
   ],
   "source": [
    "df.columns"
   ]
  },
  {
   "cell_type": "markdown",
   "metadata": {},
   "source": [
    "### Variance Inflation Factor"
   ]
  },
  {
   "cell_type": "code",
   "execution_count": 68,
   "metadata": {},
   "outputs": [
    {
     "data": {
      "text/plain": [
       "[1.9426267545705205,\n",
       " 6.557489390964019,\n",
       " 3.2544472087129486,\n",
       " 7.148723394340726,\n",
       " 4.299617241817291]"
      ]
     },
     "execution_count": 68,
     "metadata": {},
     "output_type": "execute_result"
    }
   ],
   "source": [
    "# VIF dataframe \n",
    "vif_data = df.copy()\n",
    "vif_data = vif_data.drop(['pressure'],axis=1)\n",
    "# calculating VIF for each feature \n",
    "x = [variance_inflation_factor(vif_data.values, i) \n",
    "                          for i in range(len(vif_data.columns))] \n",
    "  \n",
    "x"
   ]
  },
  {
   "cell_type": "markdown",
   "metadata": {},
   "source": [
    "### Train-Test-Split our Dataset"
   ]
  },
  {
   "cell_type": "code",
   "execution_count": 88,
   "metadata": {},
   "outputs": [],
   "source": [
    "from sklearn.model_selection import train_test_split"
   ]
  },
  {
   "cell_type": "code",
   "execution_count": 89,
   "metadata": {},
   "outputs": [],
   "source": [
    "X = df.copy()\n",
    "X = X.drop(['pressure'],axis=1)\n",
    "y = df[['pressure']]"
   ]
  },
  {
   "cell_type": "code",
   "execution_count": 90,
   "metadata": {},
   "outputs": [
    {
     "name": "stdout",
     "output_type": "stream",
     "text": [
      "X train shape: (1052, 5)\n",
      "X test shape: (451, 5)\n",
      "y train shape: (1052, 1)\n",
      "y test shape: (451, 1)\n"
     ]
    }
   ],
   "source": [
    "X_train, X_test, y_train, y_test = train_test_split(X, y, test_size=0.3, random_state=75)\n",
    "print('X train shape:',X_train.shape)\n",
    "print('X test shape:',X_test.shape)\n",
    "print('y train shape:',y_train.shape)\n",
    "print('y test shape:',y_test.shape)"
   ]
  },
  {
   "cell_type": "markdown",
   "metadata": {},
   "source": [
    "## Ordinary Least Squares"
   ]
  },
  {
   "cell_type": "code",
   "execution_count": 91,
   "metadata": {},
   "outputs": [],
   "source": [
    "from sklearn.linear_model import LinearRegression"
   ]
  },
  {
   "cell_type": "code",
   "execution_count": 92,
   "metadata": {},
   "outputs": [],
   "source": [
    "reg = LinearRegression().fit(X_train, y_train)"
   ]
  },
  {
   "cell_type": "code",
   "execution_count": 93,
   "metadata": {},
   "outputs": [
    {
     "data": {
      "text/plain": [
       "0.48701529018157896"
      ]
     },
     "execution_count": 93,
     "metadata": {},
     "output_type": "execute_result"
    }
   ],
   "source": [
    "reg.score(X_test, y_test)"
   ]
  },
  {
   "cell_type": "markdown",
   "metadata": {},
   "source": [
    "#### Recursive Feature Elimination"
   ]
  },
  {
   "cell_type": "code",
   "execution_count": 75,
   "metadata": {},
   "outputs": [],
   "source": [
    "from sklearn.feature_selection import RFE"
   ]
  },
  {
   "cell_type": "code",
   "execution_count": 94,
   "metadata": {},
   "outputs": [
    {
     "name": "stdout",
     "output_type": "stream",
     "text": [
      "Fitting estimator with 5 features.\n",
      "[False  True  True  True  True]\n",
      "[2 1 1 1 1]\n"
     ]
    }
   ],
   "source": [
    "selector = RFE(reg, n_features_to_select=4, step=1,verbose=2)\n",
    "selector = selector.fit(X_train, y_train)\n",
    "print(selector.support_)\n",
    "print(selector.ranking_)"
   ]
  },
  {
   "cell_type": "markdown",
   "metadata": {},
   "source": [
    "## Polynomial Regression"
   ]
  },
  {
   "cell_type": "code",
   "execution_count": 96,
   "metadata": {},
   "outputs": [],
   "source": [
    "from sklearn.pipeline import Pipeline\n",
    "from sklearn.preprocessing import PolynomialFeatures"
   ]
  },
  {
   "cell_type": "code",
   "execution_count": null,
   "metadata": {},
   "outputs": [],
   "source": [
    "poly = PolynomialFeatures(degree=2)\n",
    "poly.fit_transform(X)"
   ]
  },
  {
   "cell_type": "code",
   "execution_count": 97,
   "metadata": {},
   "outputs": [
    {
     "data": {
      "text/plain": [
       "array([[ 1.34191237e+02, -6.96105653e-04, -7.17269223e-01,\n",
       "        -5.49112382e+01,  1.39288356e-02,  2.44134759e+02,\n",
       "         1.88712874e-08,  5.11438929e-06, -4.96012099e-03,\n",
       "         3.69145096e-06, -5.99579119e-02,  2.21634040e-02,\n",
       "         4.23093105e+00, -3.79178176e-03, -2.39154453e+01,\n",
       "         8.65395567e+01,  1.57170459e-01, -2.40129738e+03,\n",
       "         3.21940787e-04,  3.61475338e+00,  1.89633638e+03]])"
      ]
     },
     "execution_count": 97,
     "metadata": {},
     "output_type": "execute_result"
    }
   ],
   "source": [
    "model = Pipeline([('poly', PolynomialFeatures(degree=2)),\n",
    "...                   ('linear', LinearRegression(fit_intercept=False))])\n",
    "# fit to an order-3 polynomial data\n",
    "model = model.fit(X_train,y_train)\n",
    "model.named_steps['linear'].coef_\n",
    "model.score(X_test, y_test)"
   ]
  },
  {
   "cell_type": "code",
   "execution_count": 106,
   "metadata": {},
   "outputs": [
    {
     "name": "stdout",
     "output_type": "stream",
     "text": [
      "degree of polynomial = 1 and score is 0.48701529018065437\n",
      "degree of polynomial = 2 and score is 0.6223336446282258\n",
      "degree of polynomial = 3 and score is 0.7209720262016099\n"
     ]
    }
   ],
   "source": [
    "for i in range(1,4):\n",
    "    model = Pipeline([('poly', PolynomialFeatures(degree=i)),\n",
    "    ('linear', LinearRegression(fit_intercept=False))])\n",
    "    # fit to an order-3 polynomial data\n",
    "    model = model.fit(X_train,y_train)\n",
    "    model.named_steps['linear'].coef_\n",
    "    print('degree of polynomial = {} and score is {}'.format(i,model.score(X_test, y_test)))"
   ]
  },
  {
   "cell_type": "markdown",
   "metadata": {},
   "source": [
    "### Pycaret"
   ]
  },
  {
   "cell_type": "code",
   "execution_count": 123,
   "metadata": {
    "scrolled": true
   },
   "outputs": [
    {
     "data": {
      "text/html": [
       "<style  type=\"text/css\" >\n",
       "#T_f785b74c_787b_11eb_86b5_380025ac0edfrow16_col1,#T_f785b74c_787b_11eb_86b5_380025ac0edfrow17_col1,#T_f785b74c_787b_11eb_86b5_380025ac0edfrow27_col1,#T_f785b74c_787b_11eb_86b5_380025ac0edfrow29_col1,#T_f785b74c_787b_11eb_86b5_380025ac0edfrow35_col1,#T_f785b74c_787b_11eb_86b5_380025ac0edfrow40_col1,#T_f785b74c_787b_11eb_86b5_380025ac0edfrow44_col1,#T_f785b74c_787b_11eb_86b5_380025ac0edfrow55_col1{\n",
       "            background-color:  lightgreen;\n",
       "        }</style><table id=\"T_f785b74c_787b_11eb_86b5_380025ac0edf\" ><thead>    <tr>        <th class=\"blank level0\" ></th>        <th class=\"col_heading level0 col0\" >Description</th>        <th class=\"col_heading level0 col1\" >Value</th>    </tr></thead><tbody>\n",
       "                <tr>\n",
       "                        <th id=\"T_f785b74c_787b_11eb_86b5_380025ac0edflevel0_row0\" class=\"row_heading level0 row0\" >0</th>\n",
       "                        <td id=\"T_f785b74c_787b_11eb_86b5_380025ac0edfrow0_col0\" class=\"data row0 col0\" >session_id</td>\n",
       "                        <td id=\"T_f785b74c_787b_11eb_86b5_380025ac0edfrow0_col1\" class=\"data row0 col1\" >123</td>\n",
       "            </tr>\n",
       "            <tr>\n",
       "                        <th id=\"T_f785b74c_787b_11eb_86b5_380025ac0edflevel0_row1\" class=\"row_heading level0 row1\" >1</th>\n",
       "                        <td id=\"T_f785b74c_787b_11eb_86b5_380025ac0edfrow1_col0\" class=\"data row1 col0\" >Target</td>\n",
       "                        <td id=\"T_f785b74c_787b_11eb_86b5_380025ac0edfrow1_col1\" class=\"data row1 col1\" >pressure</td>\n",
       "            </tr>\n",
       "            <tr>\n",
       "                        <th id=\"T_f785b74c_787b_11eb_86b5_380025ac0edflevel0_row2\" class=\"row_heading level0 row2\" >2</th>\n",
       "                        <td id=\"T_f785b74c_787b_11eb_86b5_380025ac0edfrow2_col0\" class=\"data row2 col0\" >Original Data</td>\n",
       "                        <td id=\"T_f785b74c_787b_11eb_86b5_380025ac0edfrow2_col1\" class=\"data row2 col1\" >(1503, 6)</td>\n",
       "            </tr>\n",
       "            <tr>\n",
       "                        <th id=\"T_f785b74c_787b_11eb_86b5_380025ac0edflevel0_row3\" class=\"row_heading level0 row3\" >3</th>\n",
       "                        <td id=\"T_f785b74c_787b_11eb_86b5_380025ac0edfrow3_col0\" class=\"data row3 col0\" >Missing Values</td>\n",
       "                        <td id=\"T_f785b74c_787b_11eb_86b5_380025ac0edfrow3_col1\" class=\"data row3 col1\" >False</td>\n",
       "            </tr>\n",
       "            <tr>\n",
       "                        <th id=\"T_f785b74c_787b_11eb_86b5_380025ac0edflevel0_row4\" class=\"row_heading level0 row4\" >4</th>\n",
       "                        <td id=\"T_f785b74c_787b_11eb_86b5_380025ac0edfrow4_col0\" class=\"data row4 col0\" >Numeric Features</td>\n",
       "                        <td id=\"T_f785b74c_787b_11eb_86b5_380025ac0edfrow4_col1\" class=\"data row4 col1\" >5</td>\n",
       "            </tr>\n",
       "            <tr>\n",
       "                        <th id=\"T_f785b74c_787b_11eb_86b5_380025ac0edflevel0_row5\" class=\"row_heading level0 row5\" >5</th>\n",
       "                        <td id=\"T_f785b74c_787b_11eb_86b5_380025ac0edfrow5_col0\" class=\"data row5 col0\" >Categorical Features</td>\n",
       "                        <td id=\"T_f785b74c_787b_11eb_86b5_380025ac0edfrow5_col1\" class=\"data row5 col1\" >0</td>\n",
       "            </tr>\n",
       "            <tr>\n",
       "                        <th id=\"T_f785b74c_787b_11eb_86b5_380025ac0edflevel0_row6\" class=\"row_heading level0 row6\" >6</th>\n",
       "                        <td id=\"T_f785b74c_787b_11eb_86b5_380025ac0edfrow6_col0\" class=\"data row6 col0\" >Ordinal Features</td>\n",
       "                        <td id=\"T_f785b74c_787b_11eb_86b5_380025ac0edfrow6_col1\" class=\"data row6 col1\" >False</td>\n",
       "            </tr>\n",
       "            <tr>\n",
       "                        <th id=\"T_f785b74c_787b_11eb_86b5_380025ac0edflevel0_row7\" class=\"row_heading level0 row7\" >7</th>\n",
       "                        <td id=\"T_f785b74c_787b_11eb_86b5_380025ac0edfrow7_col0\" class=\"data row7 col0\" >High Cardinality Features</td>\n",
       "                        <td id=\"T_f785b74c_787b_11eb_86b5_380025ac0edfrow7_col1\" class=\"data row7 col1\" >False</td>\n",
       "            </tr>\n",
       "            <tr>\n",
       "                        <th id=\"T_f785b74c_787b_11eb_86b5_380025ac0edflevel0_row8\" class=\"row_heading level0 row8\" >8</th>\n",
       "                        <td id=\"T_f785b74c_787b_11eb_86b5_380025ac0edfrow8_col0\" class=\"data row8 col0\" >High Cardinality Method</td>\n",
       "                        <td id=\"T_f785b74c_787b_11eb_86b5_380025ac0edfrow8_col1\" class=\"data row8 col1\" >None</td>\n",
       "            </tr>\n",
       "            <tr>\n",
       "                        <th id=\"T_f785b74c_787b_11eb_86b5_380025ac0edflevel0_row9\" class=\"row_heading level0 row9\" >9</th>\n",
       "                        <td id=\"T_f785b74c_787b_11eb_86b5_380025ac0edfrow9_col0\" class=\"data row9 col0\" >Transformed Train Set</td>\n",
       "                        <td id=\"T_f785b74c_787b_11eb_86b5_380025ac0edfrow9_col1\" class=\"data row9 col1\" >(1052, 7)</td>\n",
       "            </tr>\n",
       "            <tr>\n",
       "                        <th id=\"T_f785b74c_787b_11eb_86b5_380025ac0edflevel0_row10\" class=\"row_heading level0 row10\" >10</th>\n",
       "                        <td id=\"T_f785b74c_787b_11eb_86b5_380025ac0edfrow10_col0\" class=\"data row10 col0\" >Transformed Test Set</td>\n",
       "                        <td id=\"T_f785b74c_787b_11eb_86b5_380025ac0edfrow10_col1\" class=\"data row10 col1\" >(451, 7)</td>\n",
       "            </tr>\n",
       "            <tr>\n",
       "                        <th id=\"T_f785b74c_787b_11eb_86b5_380025ac0edflevel0_row11\" class=\"row_heading level0 row11\" >11</th>\n",
       "                        <td id=\"T_f785b74c_787b_11eb_86b5_380025ac0edfrow11_col0\" class=\"data row11 col0\" >Shuffle Train-Test</td>\n",
       "                        <td id=\"T_f785b74c_787b_11eb_86b5_380025ac0edfrow11_col1\" class=\"data row11 col1\" >True</td>\n",
       "            </tr>\n",
       "            <tr>\n",
       "                        <th id=\"T_f785b74c_787b_11eb_86b5_380025ac0edflevel0_row12\" class=\"row_heading level0 row12\" >12</th>\n",
       "                        <td id=\"T_f785b74c_787b_11eb_86b5_380025ac0edfrow12_col0\" class=\"data row12 col0\" >Stratify Train-Test</td>\n",
       "                        <td id=\"T_f785b74c_787b_11eb_86b5_380025ac0edfrow12_col1\" class=\"data row12 col1\" >False</td>\n",
       "            </tr>\n",
       "            <tr>\n",
       "                        <th id=\"T_f785b74c_787b_11eb_86b5_380025ac0edflevel0_row13\" class=\"row_heading level0 row13\" >13</th>\n",
       "                        <td id=\"T_f785b74c_787b_11eb_86b5_380025ac0edfrow13_col0\" class=\"data row13 col0\" >Fold Generator</td>\n",
       "                        <td id=\"T_f785b74c_787b_11eb_86b5_380025ac0edfrow13_col1\" class=\"data row13 col1\" >KFold</td>\n",
       "            </tr>\n",
       "            <tr>\n",
       "                        <th id=\"T_f785b74c_787b_11eb_86b5_380025ac0edflevel0_row14\" class=\"row_heading level0 row14\" >14</th>\n",
       "                        <td id=\"T_f785b74c_787b_11eb_86b5_380025ac0edfrow14_col0\" class=\"data row14 col0\" >Fold Number</td>\n",
       "                        <td id=\"T_f785b74c_787b_11eb_86b5_380025ac0edfrow14_col1\" class=\"data row14 col1\" >10</td>\n",
       "            </tr>\n",
       "            <tr>\n",
       "                        <th id=\"T_f785b74c_787b_11eb_86b5_380025ac0edflevel0_row15\" class=\"row_heading level0 row15\" >15</th>\n",
       "                        <td id=\"T_f785b74c_787b_11eb_86b5_380025ac0edfrow15_col0\" class=\"data row15 col0\" >CPU Jobs</td>\n",
       "                        <td id=\"T_f785b74c_787b_11eb_86b5_380025ac0edfrow15_col1\" class=\"data row15 col1\" >-1</td>\n",
       "            </tr>\n",
       "            <tr>\n",
       "                        <th id=\"T_f785b74c_787b_11eb_86b5_380025ac0edflevel0_row16\" class=\"row_heading level0 row16\" >16</th>\n",
       "                        <td id=\"T_f785b74c_787b_11eb_86b5_380025ac0edfrow16_col0\" class=\"data row16 col0\" >Use GPU</td>\n",
       "                        <td id=\"T_f785b74c_787b_11eb_86b5_380025ac0edfrow16_col1\" class=\"data row16 col1\" >True</td>\n",
       "            </tr>\n",
       "            <tr>\n",
       "                        <th id=\"T_f785b74c_787b_11eb_86b5_380025ac0edflevel0_row17\" class=\"row_heading level0 row17\" >17</th>\n",
       "                        <td id=\"T_f785b74c_787b_11eb_86b5_380025ac0edfrow17_col0\" class=\"data row17 col0\" >Log Experiment</td>\n",
       "                        <td id=\"T_f785b74c_787b_11eb_86b5_380025ac0edfrow17_col1\" class=\"data row17 col1\" >True</td>\n",
       "            </tr>\n",
       "            <tr>\n",
       "                        <th id=\"T_f785b74c_787b_11eb_86b5_380025ac0edflevel0_row18\" class=\"row_heading level0 row18\" >18</th>\n",
       "                        <td id=\"T_f785b74c_787b_11eb_86b5_380025ac0edfrow18_col0\" class=\"data row18 col0\" >Experiment Name</td>\n",
       "                        <td id=\"T_f785b74c_787b_11eb_86b5_380025ac0edfrow18_col1\" class=\"data row18 col1\" >NASA</td>\n",
       "            </tr>\n",
       "            <tr>\n",
       "                        <th id=\"T_f785b74c_787b_11eb_86b5_380025ac0edflevel0_row19\" class=\"row_heading level0 row19\" >19</th>\n",
       "                        <td id=\"T_f785b74c_787b_11eb_86b5_380025ac0edfrow19_col0\" class=\"data row19 col0\" >USI</td>\n",
       "                        <td id=\"T_f785b74c_787b_11eb_86b5_380025ac0edfrow19_col1\" class=\"data row19 col1\" >b359</td>\n",
       "            </tr>\n",
       "            <tr>\n",
       "                        <th id=\"T_f785b74c_787b_11eb_86b5_380025ac0edflevel0_row20\" class=\"row_heading level0 row20\" >20</th>\n",
       "                        <td id=\"T_f785b74c_787b_11eb_86b5_380025ac0edfrow20_col0\" class=\"data row20 col0\" >Imputation Type</td>\n",
       "                        <td id=\"T_f785b74c_787b_11eb_86b5_380025ac0edfrow20_col1\" class=\"data row20 col1\" >simple</td>\n",
       "            </tr>\n",
       "            <tr>\n",
       "                        <th id=\"T_f785b74c_787b_11eb_86b5_380025ac0edflevel0_row21\" class=\"row_heading level0 row21\" >21</th>\n",
       "                        <td id=\"T_f785b74c_787b_11eb_86b5_380025ac0edfrow21_col0\" class=\"data row21 col0\" >Iterative Imputation Iteration</td>\n",
       "                        <td id=\"T_f785b74c_787b_11eb_86b5_380025ac0edfrow21_col1\" class=\"data row21 col1\" >None</td>\n",
       "            </tr>\n",
       "            <tr>\n",
       "                        <th id=\"T_f785b74c_787b_11eb_86b5_380025ac0edflevel0_row22\" class=\"row_heading level0 row22\" >22</th>\n",
       "                        <td id=\"T_f785b74c_787b_11eb_86b5_380025ac0edfrow22_col0\" class=\"data row22 col0\" >Numeric Imputer</td>\n",
       "                        <td id=\"T_f785b74c_787b_11eb_86b5_380025ac0edfrow22_col1\" class=\"data row22 col1\" >mean</td>\n",
       "            </tr>\n",
       "            <tr>\n",
       "                        <th id=\"T_f785b74c_787b_11eb_86b5_380025ac0edflevel0_row23\" class=\"row_heading level0 row23\" >23</th>\n",
       "                        <td id=\"T_f785b74c_787b_11eb_86b5_380025ac0edfrow23_col0\" class=\"data row23 col0\" >Iterative Imputation Numeric Model</td>\n",
       "                        <td id=\"T_f785b74c_787b_11eb_86b5_380025ac0edfrow23_col1\" class=\"data row23 col1\" >None</td>\n",
       "            </tr>\n",
       "            <tr>\n",
       "                        <th id=\"T_f785b74c_787b_11eb_86b5_380025ac0edflevel0_row24\" class=\"row_heading level0 row24\" >24</th>\n",
       "                        <td id=\"T_f785b74c_787b_11eb_86b5_380025ac0edfrow24_col0\" class=\"data row24 col0\" >Categorical Imputer</td>\n",
       "                        <td id=\"T_f785b74c_787b_11eb_86b5_380025ac0edfrow24_col1\" class=\"data row24 col1\" >constant</td>\n",
       "            </tr>\n",
       "            <tr>\n",
       "                        <th id=\"T_f785b74c_787b_11eb_86b5_380025ac0edflevel0_row25\" class=\"row_heading level0 row25\" >25</th>\n",
       "                        <td id=\"T_f785b74c_787b_11eb_86b5_380025ac0edfrow25_col0\" class=\"data row25 col0\" >Iterative Imputation Categorical Model</td>\n",
       "                        <td id=\"T_f785b74c_787b_11eb_86b5_380025ac0edfrow25_col1\" class=\"data row25 col1\" >None</td>\n",
       "            </tr>\n",
       "            <tr>\n",
       "                        <th id=\"T_f785b74c_787b_11eb_86b5_380025ac0edflevel0_row26\" class=\"row_heading level0 row26\" >26</th>\n",
       "                        <td id=\"T_f785b74c_787b_11eb_86b5_380025ac0edfrow26_col0\" class=\"data row26 col0\" >Unknown Categoricals Handling</td>\n",
       "                        <td id=\"T_f785b74c_787b_11eb_86b5_380025ac0edfrow26_col1\" class=\"data row26 col1\" >least_frequent</td>\n",
       "            </tr>\n",
       "            <tr>\n",
       "                        <th id=\"T_f785b74c_787b_11eb_86b5_380025ac0edflevel0_row27\" class=\"row_heading level0 row27\" >27</th>\n",
       "                        <td id=\"T_f785b74c_787b_11eb_86b5_380025ac0edfrow27_col0\" class=\"data row27 col0\" >Normalize</td>\n",
       "                        <td id=\"T_f785b74c_787b_11eb_86b5_380025ac0edfrow27_col1\" class=\"data row27 col1\" >True</td>\n",
       "            </tr>\n",
       "            <tr>\n",
       "                        <th id=\"T_f785b74c_787b_11eb_86b5_380025ac0edflevel0_row28\" class=\"row_heading level0 row28\" >28</th>\n",
       "                        <td id=\"T_f785b74c_787b_11eb_86b5_380025ac0edfrow28_col0\" class=\"data row28 col0\" >Normalize Method</td>\n",
       "                        <td id=\"T_f785b74c_787b_11eb_86b5_380025ac0edfrow28_col1\" class=\"data row28 col1\" >zscore</td>\n",
       "            </tr>\n",
       "            <tr>\n",
       "                        <th id=\"T_f785b74c_787b_11eb_86b5_380025ac0edflevel0_row29\" class=\"row_heading level0 row29\" >29</th>\n",
       "                        <td id=\"T_f785b74c_787b_11eb_86b5_380025ac0edfrow29_col0\" class=\"data row29 col0\" >Transformation</td>\n",
       "                        <td id=\"T_f785b74c_787b_11eb_86b5_380025ac0edfrow29_col1\" class=\"data row29 col1\" >True</td>\n",
       "            </tr>\n",
       "            <tr>\n",
       "                        <th id=\"T_f785b74c_787b_11eb_86b5_380025ac0edflevel0_row30\" class=\"row_heading level0 row30\" >30</th>\n",
       "                        <td id=\"T_f785b74c_787b_11eb_86b5_380025ac0edfrow30_col0\" class=\"data row30 col0\" >Transformation Method</td>\n",
       "                        <td id=\"T_f785b74c_787b_11eb_86b5_380025ac0edfrow30_col1\" class=\"data row30 col1\" >yeo-johnson</td>\n",
       "            </tr>\n",
       "            <tr>\n",
       "                        <th id=\"T_f785b74c_787b_11eb_86b5_380025ac0edflevel0_row31\" class=\"row_heading level0 row31\" >31</th>\n",
       "                        <td id=\"T_f785b74c_787b_11eb_86b5_380025ac0edfrow31_col0\" class=\"data row31 col0\" >PCA</td>\n",
       "                        <td id=\"T_f785b74c_787b_11eb_86b5_380025ac0edfrow31_col1\" class=\"data row31 col1\" >False</td>\n",
       "            </tr>\n",
       "            <tr>\n",
       "                        <th id=\"T_f785b74c_787b_11eb_86b5_380025ac0edflevel0_row32\" class=\"row_heading level0 row32\" >32</th>\n",
       "                        <td id=\"T_f785b74c_787b_11eb_86b5_380025ac0edfrow32_col0\" class=\"data row32 col0\" >PCA Method</td>\n",
       "                        <td id=\"T_f785b74c_787b_11eb_86b5_380025ac0edfrow32_col1\" class=\"data row32 col1\" >None</td>\n",
       "            </tr>\n",
       "            <tr>\n",
       "                        <th id=\"T_f785b74c_787b_11eb_86b5_380025ac0edflevel0_row33\" class=\"row_heading level0 row33\" >33</th>\n",
       "                        <td id=\"T_f785b74c_787b_11eb_86b5_380025ac0edfrow33_col0\" class=\"data row33 col0\" >PCA Components</td>\n",
       "                        <td id=\"T_f785b74c_787b_11eb_86b5_380025ac0edfrow33_col1\" class=\"data row33 col1\" >None</td>\n",
       "            </tr>\n",
       "            <tr>\n",
       "                        <th id=\"T_f785b74c_787b_11eb_86b5_380025ac0edflevel0_row34\" class=\"row_heading level0 row34\" >34</th>\n",
       "                        <td id=\"T_f785b74c_787b_11eb_86b5_380025ac0edfrow34_col0\" class=\"data row34 col0\" >Ignore Low Variance</td>\n",
       "                        <td id=\"T_f785b74c_787b_11eb_86b5_380025ac0edfrow34_col1\" class=\"data row34 col1\" >False</td>\n",
       "            </tr>\n",
       "            <tr>\n",
       "                        <th id=\"T_f785b74c_787b_11eb_86b5_380025ac0edflevel0_row35\" class=\"row_heading level0 row35\" >35</th>\n",
       "                        <td id=\"T_f785b74c_787b_11eb_86b5_380025ac0edfrow35_col0\" class=\"data row35 col0\" >Combine Rare Levels</td>\n",
       "                        <td id=\"T_f785b74c_787b_11eb_86b5_380025ac0edfrow35_col1\" class=\"data row35 col1\" >True</td>\n",
       "            </tr>\n",
       "            <tr>\n",
       "                        <th id=\"T_f785b74c_787b_11eb_86b5_380025ac0edflevel0_row36\" class=\"row_heading level0 row36\" >36</th>\n",
       "                        <td id=\"T_f785b74c_787b_11eb_86b5_380025ac0edfrow36_col0\" class=\"data row36 col0\" >Rare Level Threshold</td>\n",
       "                        <td id=\"T_f785b74c_787b_11eb_86b5_380025ac0edfrow36_col1\" class=\"data row36 col1\" >0.050000</td>\n",
       "            </tr>\n",
       "            <tr>\n",
       "                        <th id=\"T_f785b74c_787b_11eb_86b5_380025ac0edflevel0_row37\" class=\"row_heading level0 row37\" >37</th>\n",
       "                        <td id=\"T_f785b74c_787b_11eb_86b5_380025ac0edfrow37_col0\" class=\"data row37 col0\" >Numeric Binning</td>\n",
       "                        <td id=\"T_f785b74c_787b_11eb_86b5_380025ac0edfrow37_col1\" class=\"data row37 col1\" >False</td>\n",
       "            </tr>\n",
       "            <tr>\n",
       "                        <th id=\"T_f785b74c_787b_11eb_86b5_380025ac0edflevel0_row38\" class=\"row_heading level0 row38\" >38</th>\n",
       "                        <td id=\"T_f785b74c_787b_11eb_86b5_380025ac0edfrow38_col0\" class=\"data row38 col0\" >Remove Outliers</td>\n",
       "                        <td id=\"T_f785b74c_787b_11eb_86b5_380025ac0edfrow38_col1\" class=\"data row38 col1\" >False</td>\n",
       "            </tr>\n",
       "            <tr>\n",
       "                        <th id=\"T_f785b74c_787b_11eb_86b5_380025ac0edflevel0_row39\" class=\"row_heading level0 row39\" >39</th>\n",
       "                        <td id=\"T_f785b74c_787b_11eb_86b5_380025ac0edfrow39_col0\" class=\"data row39 col0\" >Outliers Threshold</td>\n",
       "                        <td id=\"T_f785b74c_787b_11eb_86b5_380025ac0edfrow39_col1\" class=\"data row39 col1\" >None</td>\n",
       "            </tr>\n",
       "            <tr>\n",
       "                        <th id=\"T_f785b74c_787b_11eb_86b5_380025ac0edflevel0_row40\" class=\"row_heading level0 row40\" >40</th>\n",
       "                        <td id=\"T_f785b74c_787b_11eb_86b5_380025ac0edfrow40_col0\" class=\"data row40 col0\" >Remove Multicollinearity</td>\n",
       "                        <td id=\"T_f785b74c_787b_11eb_86b5_380025ac0edfrow40_col1\" class=\"data row40 col1\" >True</td>\n",
       "            </tr>\n",
       "            <tr>\n",
       "                        <th id=\"T_f785b74c_787b_11eb_86b5_380025ac0edflevel0_row41\" class=\"row_heading level0 row41\" >41</th>\n",
       "                        <td id=\"T_f785b74c_787b_11eb_86b5_380025ac0edfrow41_col0\" class=\"data row41 col0\" >Multicollinearity Threshold</td>\n",
       "                        <td id=\"T_f785b74c_787b_11eb_86b5_380025ac0edfrow41_col1\" class=\"data row41 col1\" >0.950000</td>\n",
       "            </tr>\n",
       "            <tr>\n",
       "                        <th id=\"T_f785b74c_787b_11eb_86b5_380025ac0edflevel0_row42\" class=\"row_heading level0 row42\" >42</th>\n",
       "                        <td id=\"T_f785b74c_787b_11eb_86b5_380025ac0edfrow42_col0\" class=\"data row42 col0\" >Clustering</td>\n",
       "                        <td id=\"T_f785b74c_787b_11eb_86b5_380025ac0edfrow42_col1\" class=\"data row42 col1\" >False</td>\n",
       "            </tr>\n",
       "            <tr>\n",
       "                        <th id=\"T_f785b74c_787b_11eb_86b5_380025ac0edflevel0_row43\" class=\"row_heading level0 row43\" >43</th>\n",
       "                        <td id=\"T_f785b74c_787b_11eb_86b5_380025ac0edfrow43_col0\" class=\"data row43 col0\" >Clustering Iteration</td>\n",
       "                        <td id=\"T_f785b74c_787b_11eb_86b5_380025ac0edfrow43_col1\" class=\"data row43 col1\" >None</td>\n",
       "            </tr>\n",
       "            <tr>\n",
       "                        <th id=\"T_f785b74c_787b_11eb_86b5_380025ac0edflevel0_row44\" class=\"row_heading level0 row44\" >44</th>\n",
       "                        <td id=\"T_f785b74c_787b_11eb_86b5_380025ac0edfrow44_col0\" class=\"data row44 col0\" >Polynomial Features</td>\n",
       "                        <td id=\"T_f785b74c_787b_11eb_86b5_380025ac0edfrow44_col1\" class=\"data row44 col1\" >True</td>\n",
       "            </tr>\n",
       "            <tr>\n",
       "                        <th id=\"T_f785b74c_787b_11eb_86b5_380025ac0edflevel0_row45\" class=\"row_heading level0 row45\" >45</th>\n",
       "                        <td id=\"T_f785b74c_787b_11eb_86b5_380025ac0edfrow45_col0\" class=\"data row45 col0\" >Polynomial Degree</td>\n",
       "                        <td id=\"T_f785b74c_787b_11eb_86b5_380025ac0edfrow45_col1\" class=\"data row45 col1\" >3</td>\n",
       "            </tr>\n",
       "            <tr>\n",
       "                        <th id=\"T_f785b74c_787b_11eb_86b5_380025ac0edflevel0_row46\" class=\"row_heading level0 row46\" >46</th>\n",
       "                        <td id=\"T_f785b74c_787b_11eb_86b5_380025ac0edfrow46_col0\" class=\"data row46 col0\" >Trignometry Features</td>\n",
       "                        <td id=\"T_f785b74c_787b_11eb_86b5_380025ac0edfrow46_col1\" class=\"data row46 col1\" >False</td>\n",
       "            </tr>\n",
       "            <tr>\n",
       "                        <th id=\"T_f785b74c_787b_11eb_86b5_380025ac0edflevel0_row47\" class=\"row_heading level0 row47\" >47</th>\n",
       "                        <td id=\"T_f785b74c_787b_11eb_86b5_380025ac0edfrow47_col0\" class=\"data row47 col0\" >Polynomial Threshold</td>\n",
       "                        <td id=\"T_f785b74c_787b_11eb_86b5_380025ac0edfrow47_col1\" class=\"data row47 col1\" >0.100000</td>\n",
       "            </tr>\n",
       "            <tr>\n",
       "                        <th id=\"T_f785b74c_787b_11eb_86b5_380025ac0edflevel0_row48\" class=\"row_heading level0 row48\" >48</th>\n",
       "                        <td id=\"T_f785b74c_787b_11eb_86b5_380025ac0edfrow48_col0\" class=\"data row48 col0\" >Group Features</td>\n",
       "                        <td id=\"T_f785b74c_787b_11eb_86b5_380025ac0edfrow48_col1\" class=\"data row48 col1\" >False</td>\n",
       "            </tr>\n",
       "            <tr>\n",
       "                        <th id=\"T_f785b74c_787b_11eb_86b5_380025ac0edflevel0_row49\" class=\"row_heading level0 row49\" >49</th>\n",
       "                        <td id=\"T_f785b74c_787b_11eb_86b5_380025ac0edfrow49_col0\" class=\"data row49 col0\" >Feature Selection</td>\n",
       "                        <td id=\"T_f785b74c_787b_11eb_86b5_380025ac0edfrow49_col1\" class=\"data row49 col1\" >False</td>\n",
       "            </tr>\n",
       "            <tr>\n",
       "                        <th id=\"T_f785b74c_787b_11eb_86b5_380025ac0edflevel0_row50\" class=\"row_heading level0 row50\" >50</th>\n",
       "                        <td id=\"T_f785b74c_787b_11eb_86b5_380025ac0edfrow50_col0\" class=\"data row50 col0\" >Feature Selection Method</td>\n",
       "                        <td id=\"T_f785b74c_787b_11eb_86b5_380025ac0edfrow50_col1\" class=\"data row50 col1\" >classic</td>\n",
       "            </tr>\n",
       "            <tr>\n",
       "                        <th id=\"T_f785b74c_787b_11eb_86b5_380025ac0edflevel0_row51\" class=\"row_heading level0 row51\" >51</th>\n",
       "                        <td id=\"T_f785b74c_787b_11eb_86b5_380025ac0edfrow51_col0\" class=\"data row51 col0\" >Features Selection Threshold</td>\n",
       "                        <td id=\"T_f785b74c_787b_11eb_86b5_380025ac0edfrow51_col1\" class=\"data row51 col1\" >None</td>\n",
       "            </tr>\n",
       "            <tr>\n",
       "                        <th id=\"T_f785b74c_787b_11eb_86b5_380025ac0edflevel0_row52\" class=\"row_heading level0 row52\" >52</th>\n",
       "                        <td id=\"T_f785b74c_787b_11eb_86b5_380025ac0edfrow52_col0\" class=\"data row52 col0\" >Feature Interaction</td>\n",
       "                        <td id=\"T_f785b74c_787b_11eb_86b5_380025ac0edfrow52_col1\" class=\"data row52 col1\" >False</td>\n",
       "            </tr>\n",
       "            <tr>\n",
       "                        <th id=\"T_f785b74c_787b_11eb_86b5_380025ac0edflevel0_row53\" class=\"row_heading level0 row53\" >53</th>\n",
       "                        <td id=\"T_f785b74c_787b_11eb_86b5_380025ac0edfrow53_col0\" class=\"data row53 col0\" >Feature Ratio</td>\n",
       "                        <td id=\"T_f785b74c_787b_11eb_86b5_380025ac0edfrow53_col1\" class=\"data row53 col1\" >False</td>\n",
       "            </tr>\n",
       "            <tr>\n",
       "                        <th id=\"T_f785b74c_787b_11eb_86b5_380025ac0edflevel0_row54\" class=\"row_heading level0 row54\" >54</th>\n",
       "                        <td id=\"T_f785b74c_787b_11eb_86b5_380025ac0edfrow54_col0\" class=\"data row54 col0\" >Interaction Threshold</td>\n",
       "                        <td id=\"T_f785b74c_787b_11eb_86b5_380025ac0edfrow54_col1\" class=\"data row54 col1\" >None</td>\n",
       "            </tr>\n",
       "            <tr>\n",
       "                        <th id=\"T_f785b74c_787b_11eb_86b5_380025ac0edflevel0_row55\" class=\"row_heading level0 row55\" >55</th>\n",
       "                        <td id=\"T_f785b74c_787b_11eb_86b5_380025ac0edfrow55_col0\" class=\"data row55 col0\" >Transform Target</td>\n",
       "                        <td id=\"T_f785b74c_787b_11eb_86b5_380025ac0edfrow55_col1\" class=\"data row55 col1\" >True</td>\n",
       "            </tr>\n",
       "            <tr>\n",
       "                        <th id=\"T_f785b74c_787b_11eb_86b5_380025ac0edflevel0_row56\" class=\"row_heading level0 row56\" >56</th>\n",
       "                        <td id=\"T_f785b74c_787b_11eb_86b5_380025ac0edfrow56_col0\" class=\"data row56 col0\" >Transform Target Method</td>\n",
       "                        <td id=\"T_f785b74c_787b_11eb_86b5_380025ac0edfrow56_col1\" class=\"data row56 col1\" >box-cox</td>\n",
       "            </tr>\n",
       "    </tbody></table>"
      ],
      "text/plain": [
       "<pandas.io.formats.style.Styler at 0x154974a0730>"
      ]
     },
     "metadata": {},
     "output_type": "display_data"
    }
   ],
   "source": [
    "from pycaret.regression import *\n",
    "\n",
    "exp_reg102 = setup(data = df, target = 'pressure', session_id=123,\n",
    "                  normalize = True, transformation = True, transform_target = True, \n",
    "                  combine_rare_levels = True, rare_level_threshold = 0.05,\n",
    "                  remove_multicollinearity = True, multicollinearity_threshold = 0.95,\n",
    "                  log_experiment = True, experiment_name = 'NASA',polynomial_features=True,use_gpu=True,\n",
    "                  polynomial_degree=3)\n",
    "\n",
    "\n"
   ]
  },
  {
   "cell_type": "code",
   "execution_count": 124,
   "metadata": {},
   "outputs": [
    {
     "data": {
      "text/html": [
       "<style  type=\"text/css\" >\n",
       "    #T_05bbc86e_787c_11eb_a677_380025ac0edf th {\n",
       "          text-align: left;\n",
       "    }#T_05bbc86e_787c_11eb_a677_380025ac0edfrow0_col0,#T_05bbc86e_787c_11eb_a677_380025ac0edfrow1_col0,#T_05bbc86e_787c_11eb_a677_380025ac0edfrow1_col1,#T_05bbc86e_787c_11eb_a677_380025ac0edfrow1_col2,#T_05bbc86e_787c_11eb_a677_380025ac0edfrow1_col3,#T_05bbc86e_787c_11eb_a677_380025ac0edfrow1_col4,#T_05bbc86e_787c_11eb_a677_380025ac0edfrow1_col5,#T_05bbc86e_787c_11eb_a677_380025ac0edfrow1_col6,#T_05bbc86e_787c_11eb_a677_380025ac0edfrow2_col0,#T_05bbc86e_787c_11eb_a677_380025ac0edfrow2_col1,#T_05bbc86e_787c_11eb_a677_380025ac0edfrow2_col2,#T_05bbc86e_787c_11eb_a677_380025ac0edfrow2_col3,#T_05bbc86e_787c_11eb_a677_380025ac0edfrow2_col4,#T_05bbc86e_787c_11eb_a677_380025ac0edfrow2_col5,#T_05bbc86e_787c_11eb_a677_380025ac0edfrow2_col6,#T_05bbc86e_787c_11eb_a677_380025ac0edfrow3_col0,#T_05bbc86e_787c_11eb_a677_380025ac0edfrow3_col1,#T_05bbc86e_787c_11eb_a677_380025ac0edfrow3_col2,#T_05bbc86e_787c_11eb_a677_380025ac0edfrow3_col3,#T_05bbc86e_787c_11eb_a677_380025ac0edfrow3_col4,#T_05bbc86e_787c_11eb_a677_380025ac0edfrow3_col5,#T_05bbc86e_787c_11eb_a677_380025ac0edfrow3_col6,#T_05bbc86e_787c_11eb_a677_380025ac0edfrow4_col0,#T_05bbc86e_787c_11eb_a677_380025ac0edfrow4_col1,#T_05bbc86e_787c_11eb_a677_380025ac0edfrow4_col2,#T_05bbc86e_787c_11eb_a677_380025ac0edfrow4_col3,#T_05bbc86e_787c_11eb_a677_380025ac0edfrow4_col4,#T_05bbc86e_787c_11eb_a677_380025ac0edfrow4_col5,#T_05bbc86e_787c_11eb_a677_380025ac0edfrow4_col6,#T_05bbc86e_787c_11eb_a677_380025ac0edfrow5_col0,#T_05bbc86e_787c_11eb_a677_380025ac0edfrow5_col1,#T_05bbc86e_787c_11eb_a677_380025ac0edfrow5_col2,#T_05bbc86e_787c_11eb_a677_380025ac0edfrow5_col3,#T_05bbc86e_787c_11eb_a677_380025ac0edfrow5_col4,#T_05bbc86e_787c_11eb_a677_380025ac0edfrow5_col5,#T_05bbc86e_787c_11eb_a677_380025ac0edfrow5_col6,#T_05bbc86e_787c_11eb_a677_380025ac0edfrow6_col0,#T_05bbc86e_787c_11eb_a677_380025ac0edfrow6_col1,#T_05bbc86e_787c_11eb_a677_380025ac0edfrow6_col2,#T_05bbc86e_787c_11eb_a677_380025ac0edfrow6_col3,#T_05bbc86e_787c_11eb_a677_380025ac0edfrow6_col4,#T_05bbc86e_787c_11eb_a677_380025ac0edfrow6_col5,#T_05bbc86e_787c_11eb_a677_380025ac0edfrow6_col6,#T_05bbc86e_787c_11eb_a677_380025ac0edfrow7_col0,#T_05bbc86e_787c_11eb_a677_380025ac0edfrow7_col1,#T_05bbc86e_787c_11eb_a677_380025ac0edfrow7_col2,#T_05bbc86e_787c_11eb_a677_380025ac0edfrow7_col3,#T_05bbc86e_787c_11eb_a677_380025ac0edfrow7_col4,#T_05bbc86e_787c_11eb_a677_380025ac0edfrow7_col5,#T_05bbc86e_787c_11eb_a677_380025ac0edfrow7_col6,#T_05bbc86e_787c_11eb_a677_380025ac0edfrow8_col0,#T_05bbc86e_787c_11eb_a677_380025ac0edfrow8_col1,#T_05bbc86e_787c_11eb_a677_380025ac0edfrow8_col2,#T_05bbc86e_787c_11eb_a677_380025ac0edfrow8_col3,#T_05bbc86e_787c_11eb_a677_380025ac0edfrow8_col4,#T_05bbc86e_787c_11eb_a677_380025ac0edfrow8_col5,#T_05bbc86e_787c_11eb_a677_380025ac0edfrow8_col6,#T_05bbc86e_787c_11eb_a677_380025ac0edfrow9_col0,#T_05bbc86e_787c_11eb_a677_380025ac0edfrow9_col1,#T_05bbc86e_787c_11eb_a677_380025ac0edfrow9_col2,#T_05bbc86e_787c_11eb_a677_380025ac0edfrow9_col3,#T_05bbc86e_787c_11eb_a677_380025ac0edfrow9_col4,#T_05bbc86e_787c_11eb_a677_380025ac0edfrow9_col5,#T_05bbc86e_787c_11eb_a677_380025ac0edfrow9_col6,#T_05bbc86e_787c_11eb_a677_380025ac0edfrow10_col0,#T_05bbc86e_787c_11eb_a677_380025ac0edfrow10_col1,#T_05bbc86e_787c_11eb_a677_380025ac0edfrow10_col2,#T_05bbc86e_787c_11eb_a677_380025ac0edfrow10_col3,#T_05bbc86e_787c_11eb_a677_380025ac0edfrow10_col4,#T_05bbc86e_787c_11eb_a677_380025ac0edfrow10_col5,#T_05bbc86e_787c_11eb_a677_380025ac0edfrow10_col6,#T_05bbc86e_787c_11eb_a677_380025ac0edfrow11_col0,#T_05bbc86e_787c_11eb_a677_380025ac0edfrow11_col1,#T_05bbc86e_787c_11eb_a677_380025ac0edfrow11_col2,#T_05bbc86e_787c_11eb_a677_380025ac0edfrow11_col3,#T_05bbc86e_787c_11eb_a677_380025ac0edfrow11_col4,#T_05bbc86e_787c_11eb_a677_380025ac0edfrow11_col5,#T_05bbc86e_787c_11eb_a677_380025ac0edfrow11_col6,#T_05bbc86e_787c_11eb_a677_380025ac0edfrow12_col0,#T_05bbc86e_787c_11eb_a677_380025ac0edfrow12_col1,#T_05bbc86e_787c_11eb_a677_380025ac0edfrow12_col2,#T_05bbc86e_787c_11eb_a677_380025ac0edfrow12_col3,#T_05bbc86e_787c_11eb_a677_380025ac0edfrow12_col4,#T_05bbc86e_787c_11eb_a677_380025ac0edfrow12_col5,#T_05bbc86e_787c_11eb_a677_380025ac0edfrow12_col6,#T_05bbc86e_787c_11eb_a677_380025ac0edfrow13_col0,#T_05bbc86e_787c_11eb_a677_380025ac0edfrow13_col1,#T_05bbc86e_787c_11eb_a677_380025ac0edfrow13_col2,#T_05bbc86e_787c_11eb_a677_380025ac0edfrow13_col3,#T_05bbc86e_787c_11eb_a677_380025ac0edfrow13_col4,#T_05bbc86e_787c_11eb_a677_380025ac0edfrow13_col5,#T_05bbc86e_787c_11eb_a677_380025ac0edfrow13_col6,#T_05bbc86e_787c_11eb_a677_380025ac0edfrow14_col0,#T_05bbc86e_787c_11eb_a677_380025ac0edfrow14_col1,#T_05bbc86e_787c_11eb_a677_380025ac0edfrow14_col2,#T_05bbc86e_787c_11eb_a677_380025ac0edfrow14_col3,#T_05bbc86e_787c_11eb_a677_380025ac0edfrow14_col4,#T_05bbc86e_787c_11eb_a677_380025ac0edfrow14_col5,#T_05bbc86e_787c_11eb_a677_380025ac0edfrow14_col6,#T_05bbc86e_787c_11eb_a677_380025ac0edfrow15_col0,#T_05bbc86e_787c_11eb_a677_380025ac0edfrow15_col1,#T_05bbc86e_787c_11eb_a677_380025ac0edfrow15_col2,#T_05bbc86e_787c_11eb_a677_380025ac0edfrow15_col3,#T_05bbc86e_787c_11eb_a677_380025ac0edfrow15_col4,#T_05bbc86e_787c_11eb_a677_380025ac0edfrow15_col5,#T_05bbc86e_787c_11eb_a677_380025ac0edfrow15_col6,#T_05bbc86e_787c_11eb_a677_380025ac0edfrow16_col0,#T_05bbc86e_787c_11eb_a677_380025ac0edfrow16_col1,#T_05bbc86e_787c_11eb_a677_380025ac0edfrow16_col2,#T_05bbc86e_787c_11eb_a677_380025ac0edfrow16_col3,#T_05bbc86e_787c_11eb_a677_380025ac0edfrow16_col4,#T_05bbc86e_787c_11eb_a677_380025ac0edfrow16_col5,#T_05bbc86e_787c_11eb_a677_380025ac0edfrow16_col6{\n",
       "            text-align:  left;\n",
       "            text-align:  left;\n",
       "        }#T_05bbc86e_787c_11eb_a677_380025ac0edfrow0_col1,#T_05bbc86e_787c_11eb_a677_380025ac0edfrow0_col2,#T_05bbc86e_787c_11eb_a677_380025ac0edfrow0_col3,#T_05bbc86e_787c_11eb_a677_380025ac0edfrow0_col4,#T_05bbc86e_787c_11eb_a677_380025ac0edfrow0_col5,#T_05bbc86e_787c_11eb_a677_380025ac0edfrow0_col6{\n",
       "            text-align:  left;\n",
       "            text-align:  left;\n",
       "            background-color:  yellow;\n",
       "        }#T_05bbc86e_787c_11eb_a677_380025ac0edfrow0_col7,#T_05bbc86e_787c_11eb_a677_380025ac0edfrow1_col7,#T_05bbc86e_787c_11eb_a677_380025ac0edfrow2_col7,#T_05bbc86e_787c_11eb_a677_380025ac0edfrow3_col7,#T_05bbc86e_787c_11eb_a677_380025ac0edfrow4_col7,#T_05bbc86e_787c_11eb_a677_380025ac0edfrow5_col7,#T_05bbc86e_787c_11eb_a677_380025ac0edfrow6_col7,#T_05bbc86e_787c_11eb_a677_380025ac0edfrow7_col7,#T_05bbc86e_787c_11eb_a677_380025ac0edfrow8_col7,#T_05bbc86e_787c_11eb_a677_380025ac0edfrow9_col7,#T_05bbc86e_787c_11eb_a677_380025ac0edfrow10_col7,#T_05bbc86e_787c_11eb_a677_380025ac0edfrow11_col7,#T_05bbc86e_787c_11eb_a677_380025ac0edfrow12_col7,#T_05bbc86e_787c_11eb_a677_380025ac0edfrow15_col7{\n",
       "            text-align:  left;\n",
       "            text-align:  left;\n",
       "            background-color:  lightgrey;\n",
       "        }#T_05bbc86e_787c_11eb_a677_380025ac0edfrow13_col7,#T_05bbc86e_787c_11eb_a677_380025ac0edfrow14_col7,#T_05bbc86e_787c_11eb_a677_380025ac0edfrow16_col7{\n",
       "            text-align:  left;\n",
       "            text-align:  left;\n",
       "            background-color:  yellow;\n",
       "            background-color:  lightgrey;\n",
       "        }</style><table id=\"T_05bbc86e_787c_11eb_a677_380025ac0edf\" ><thead>    <tr>        <th class=\"blank level0\" ></th>        <th class=\"col_heading level0 col0\" >Model</th>        <th class=\"col_heading level0 col1\" >MAE</th>        <th class=\"col_heading level0 col2\" >MSE</th>        <th class=\"col_heading level0 col3\" >RMSE</th>        <th class=\"col_heading level0 col4\" >R2</th>        <th class=\"col_heading level0 col5\" >RMSLE</th>        <th class=\"col_heading level0 col6\" >MAPE</th>        <th class=\"col_heading level0 col7\" >TT (Sec)</th>    </tr></thead><tbody>\n",
       "                <tr>\n",
       "                        <th id=\"T_05bbc86e_787c_11eb_a677_380025ac0edflevel0_row0\" class=\"row_heading level0 row0\" >et</th>\n",
       "                        <td id=\"T_05bbc86e_787c_11eb_a677_380025ac0edfrow0_col0\" class=\"data row0 col0\" >Extra Trees Regressor</td>\n",
       "                        <td id=\"T_05bbc86e_787c_11eb_a677_380025ac0edfrow0_col1\" class=\"data row0 col1\" >1.2093</td>\n",
       "                        <td id=\"T_05bbc86e_787c_11eb_a677_380025ac0edfrow0_col2\" class=\"data row0 col2\" >3.1266</td>\n",
       "                        <td id=\"T_05bbc86e_787c_11eb_a677_380025ac0edfrow0_col3\" class=\"data row0 col3\" >1.7402</td>\n",
       "                        <td id=\"T_05bbc86e_787c_11eb_a677_380025ac0edfrow0_col4\" class=\"data row0 col4\" >0.9314</td>\n",
       "                        <td id=\"T_05bbc86e_787c_11eb_a677_380025ac0edfrow0_col5\" class=\"data row0 col5\" >0.0139</td>\n",
       "                        <td id=\"T_05bbc86e_787c_11eb_a677_380025ac0edfrow0_col6\" class=\"data row0 col6\" >0.0098</td>\n",
       "                        <td id=\"T_05bbc86e_787c_11eb_a677_380025ac0edfrow0_col7\" class=\"data row0 col7\" >0.2860</td>\n",
       "            </tr>\n",
       "            <tr>\n",
       "                        <th id=\"T_05bbc86e_787c_11eb_a677_380025ac0edflevel0_row1\" class=\"row_heading level0 row1\" >lightgbm</th>\n",
       "                        <td id=\"T_05bbc86e_787c_11eb_a677_380025ac0edfrow1_col0\" class=\"data row1 col0\" >Light Gradient Boosting Machine</td>\n",
       "                        <td id=\"T_05bbc86e_787c_11eb_a677_380025ac0edfrow1_col1\" class=\"data row1 col1\" >1.3872</td>\n",
       "                        <td id=\"T_05bbc86e_787c_11eb_a677_380025ac0edfrow1_col2\" class=\"data row1 col2\" >3.9240</td>\n",
       "                        <td id=\"T_05bbc86e_787c_11eb_a677_380025ac0edfrow1_col3\" class=\"data row1 col3\" >1.9607</td>\n",
       "                        <td id=\"T_05bbc86e_787c_11eb_a677_380025ac0edfrow1_col4\" class=\"data row1 col4\" >0.9145</td>\n",
       "                        <td id=\"T_05bbc86e_787c_11eb_a677_380025ac0edfrow1_col5\" class=\"data row1 col5\" >0.0156</td>\n",
       "                        <td id=\"T_05bbc86e_787c_11eb_a677_380025ac0edfrow1_col6\" class=\"data row1 col6\" >0.0112</td>\n",
       "                        <td id=\"T_05bbc86e_787c_11eb_a677_380025ac0edfrow1_col7\" class=\"data row1 col7\" >0.0890</td>\n",
       "            </tr>\n",
       "            <tr>\n",
       "                        <th id=\"T_05bbc86e_787c_11eb_a677_380025ac0edflevel0_row2\" class=\"row_heading level0 row2\" >rf</th>\n",
       "                        <td id=\"T_05bbc86e_787c_11eb_a677_380025ac0edfrow2_col0\" class=\"data row2 col0\" >Random Forest Regressor</td>\n",
       "                        <td id=\"T_05bbc86e_787c_11eb_a677_380025ac0edfrow2_col1\" class=\"data row2 col1\" >1.4532</td>\n",
       "                        <td id=\"T_05bbc86e_787c_11eb_a677_380025ac0edfrow2_col2\" class=\"data row2 col2\" >4.1399</td>\n",
       "                        <td id=\"T_05bbc86e_787c_11eb_a677_380025ac0edfrow2_col3\" class=\"data row2 col3\" >2.0081</td>\n",
       "                        <td id=\"T_05bbc86e_787c_11eb_a677_380025ac0edfrow2_col4\" class=\"data row2 col4\" >0.9102</td>\n",
       "                        <td id=\"T_05bbc86e_787c_11eb_a677_380025ac0edfrow2_col5\" class=\"data row2 col5\" >0.0159</td>\n",
       "                        <td id=\"T_05bbc86e_787c_11eb_a677_380025ac0edfrow2_col6\" class=\"data row2 col6\" >0.0117</td>\n",
       "                        <td id=\"T_05bbc86e_787c_11eb_a677_380025ac0edfrow2_col7\" class=\"data row2 col7\" >0.2800</td>\n",
       "            </tr>\n",
       "            <tr>\n",
       "                        <th id=\"T_05bbc86e_787c_11eb_a677_380025ac0edflevel0_row3\" class=\"row_heading level0 row3\" >gbr</th>\n",
       "                        <td id=\"T_05bbc86e_787c_11eb_a677_380025ac0edfrow3_col0\" class=\"data row3 col0\" >Gradient Boosting Regressor</td>\n",
       "                        <td id=\"T_05bbc86e_787c_11eb_a677_380025ac0edfrow3_col1\" class=\"data row3 col1\" >2.1083</td>\n",
       "                        <td id=\"T_05bbc86e_787c_11eb_a677_380025ac0edfrow3_col2\" class=\"data row3 col2\" >7.7385</td>\n",
       "                        <td id=\"T_05bbc86e_787c_11eb_a677_380025ac0edfrow3_col3\" class=\"data row3 col3\" >2.7691</td>\n",
       "                        <td id=\"T_05bbc86e_787c_11eb_a677_380025ac0edfrow3_col4\" class=\"data row3 col4\" >0.8277</td>\n",
       "                        <td id=\"T_05bbc86e_787c_11eb_a677_380025ac0edfrow3_col5\" class=\"data row3 col5\" >0.0218</td>\n",
       "                        <td id=\"T_05bbc86e_787c_11eb_a677_380025ac0edfrow3_col6\" class=\"data row3 col6\" >0.0169</td>\n",
       "                        <td id=\"T_05bbc86e_787c_11eb_a677_380025ac0edfrow3_col7\" class=\"data row3 col7\" >0.0760</td>\n",
       "            </tr>\n",
       "            <tr>\n",
       "                        <th id=\"T_05bbc86e_787c_11eb_a677_380025ac0edflevel0_row4\" class=\"row_heading level0 row4\" >dt</th>\n",
       "                        <td id=\"T_05bbc86e_787c_11eb_a677_380025ac0edfrow4_col0\" class=\"data row4 col0\" >Decision Tree Regressor</td>\n",
       "                        <td id=\"T_05bbc86e_787c_11eb_a677_380025ac0edfrow4_col1\" class=\"data row4 col1\" >2.0402</td>\n",
       "                        <td id=\"T_05bbc86e_787c_11eb_a677_380025ac0edfrow4_col2\" class=\"data row4 col2\" >8.3121</td>\n",
       "                        <td id=\"T_05bbc86e_787c_11eb_a677_380025ac0edfrow4_col3\" class=\"data row4 col3\" >2.8661</td>\n",
       "                        <td id=\"T_05bbc86e_787c_11eb_a677_380025ac0edfrow4_col4\" class=\"data row4 col4\" >0.8150</td>\n",
       "                        <td id=\"T_05bbc86e_787c_11eb_a677_380025ac0edfrow4_col5\" class=\"data row4 col5\" >0.0228</td>\n",
       "                        <td id=\"T_05bbc86e_787c_11eb_a677_380025ac0edfrow4_col6\" class=\"data row4 col6\" >0.0164</td>\n",
       "                        <td id=\"T_05bbc86e_787c_11eb_a677_380025ac0edfrow4_col7\" class=\"data row4 col7\" >0.0110</td>\n",
       "            </tr>\n",
       "            <tr>\n",
       "                        <th id=\"T_05bbc86e_787c_11eb_a677_380025ac0edflevel0_row5\" class=\"row_heading level0 row5\" >knn</th>\n",
       "                        <td id=\"T_05bbc86e_787c_11eb_a677_380025ac0edfrow5_col0\" class=\"data row5 col0\" >K Neighbors Regressor</td>\n",
       "                        <td id=\"T_05bbc86e_787c_11eb_a677_380025ac0edfrow5_col1\" class=\"data row5 col1\" >2.3466</td>\n",
       "                        <td id=\"T_05bbc86e_787c_11eb_a677_380025ac0edfrow5_col2\" class=\"data row5 col2\" >10.5500</td>\n",
       "                        <td id=\"T_05bbc86e_787c_11eb_a677_380025ac0edfrow5_col3\" class=\"data row5 col3\" >3.2191</td>\n",
       "                        <td id=\"T_05bbc86e_787c_11eb_a677_380025ac0edfrow5_col4\" class=\"data row5 col4\" >0.7665</td>\n",
       "                        <td id=\"T_05bbc86e_787c_11eb_a677_380025ac0edfrow5_col5\" class=\"data row5 col5\" >0.0257</td>\n",
       "                        <td id=\"T_05bbc86e_787c_11eb_a677_380025ac0edfrow5_col6\" class=\"data row5 col6\" >0.0190</td>\n",
       "                        <td id=\"T_05bbc86e_787c_11eb_a677_380025ac0edfrow5_col7\" class=\"data row5 col7\" >0.0220</td>\n",
       "            </tr>\n",
       "            <tr>\n",
       "                        <th id=\"T_05bbc86e_787c_11eb_a677_380025ac0edflevel0_row6\" class=\"row_heading level0 row6\" >ada</th>\n",
       "                        <td id=\"T_05bbc86e_787c_11eb_a677_380025ac0edfrow6_col0\" class=\"data row6 col0\" >AdaBoost Regressor</td>\n",
       "                        <td id=\"T_05bbc86e_787c_11eb_a677_380025ac0edfrow6_col1\" class=\"data row6 col1\" >3.3517</td>\n",
       "                        <td id=\"T_05bbc86e_787c_11eb_a677_380025ac0edfrow6_col2\" class=\"data row6 col2\" >17.3746</td>\n",
       "                        <td id=\"T_05bbc86e_787c_11eb_a677_380025ac0edfrow6_col3\" class=\"data row6 col3\" >4.1459</td>\n",
       "                        <td id=\"T_05bbc86e_787c_11eb_a677_380025ac0edfrow6_col4\" class=\"data row6 col4\" >0.6187</td>\n",
       "                        <td id=\"T_05bbc86e_787c_11eb_a677_380025ac0edfrow6_col5\" class=\"data row6 col5\" >0.0334</td>\n",
       "                        <td id=\"T_05bbc86e_787c_11eb_a677_380025ac0edfrow6_col6\" class=\"data row6 col6\" >0.0273</td>\n",
       "                        <td id=\"T_05bbc86e_787c_11eb_a677_380025ac0edfrow6_col7\" class=\"data row6 col7\" >0.0830</td>\n",
       "            </tr>\n",
       "            <tr>\n",
       "                        <th id=\"T_05bbc86e_787c_11eb_a677_380025ac0edflevel0_row7\" class=\"row_heading level0 row7\" >lr</th>\n",
       "                        <td id=\"T_05bbc86e_787c_11eb_a677_380025ac0edfrow7_col0\" class=\"data row7 col0\" >Linear Regression</td>\n",
       "                        <td id=\"T_05bbc86e_787c_11eb_a677_380025ac0edfrow7_col1\" class=\"data row7 col1\" >3.4970</td>\n",
       "                        <td id=\"T_05bbc86e_787c_11eb_a677_380025ac0edfrow7_col2\" class=\"data row7 col2\" >21.8829</td>\n",
       "                        <td id=\"T_05bbc86e_787c_11eb_a677_380025ac0edfrow7_col3\" class=\"data row7 col3\" >4.6535</td>\n",
       "                        <td id=\"T_05bbc86e_787c_11eb_a677_380025ac0edfrow7_col4\" class=\"data row7 col4\" >0.5153</td>\n",
       "                        <td id=\"T_05bbc86e_787c_11eb_a677_380025ac0edfrow7_col5\" class=\"data row7 col5\" >0.0369</td>\n",
       "                        <td id=\"T_05bbc86e_787c_11eb_a677_380025ac0edfrow7_col6\" class=\"data row7 col6\" >0.0281</td>\n",
       "                        <td id=\"T_05bbc86e_787c_11eb_a677_380025ac0edfrow7_col7\" class=\"data row7 col7\" >0.0100</td>\n",
       "            </tr>\n",
       "            <tr>\n",
       "                        <th id=\"T_05bbc86e_787c_11eb_a677_380025ac0edflevel0_row8\" class=\"row_heading level0 row8\" >ridge</th>\n",
       "                        <td id=\"T_05bbc86e_787c_11eb_a677_380025ac0edfrow8_col0\" class=\"data row8 col0\" >Ridge Regression</td>\n",
       "                        <td id=\"T_05bbc86e_787c_11eb_a677_380025ac0edfrow8_col1\" class=\"data row8 col1\" >3.4980</td>\n",
       "                        <td id=\"T_05bbc86e_787c_11eb_a677_380025ac0edfrow8_col2\" class=\"data row8 col2\" >21.8841</td>\n",
       "                        <td id=\"T_05bbc86e_787c_11eb_a677_380025ac0edfrow8_col3\" class=\"data row8 col3\" >4.6537</td>\n",
       "                        <td id=\"T_05bbc86e_787c_11eb_a677_380025ac0edfrow8_col4\" class=\"data row8 col4\" >0.5153</td>\n",
       "                        <td id=\"T_05bbc86e_787c_11eb_a677_380025ac0edfrow8_col5\" class=\"data row8 col5\" >0.0369</td>\n",
       "                        <td id=\"T_05bbc86e_787c_11eb_a677_380025ac0edfrow8_col6\" class=\"data row8 col6\" >0.0281</td>\n",
       "                        <td id=\"T_05bbc86e_787c_11eb_a677_380025ac0edfrow8_col7\" class=\"data row8 col7\" >0.0120</td>\n",
       "            </tr>\n",
       "            <tr>\n",
       "                        <th id=\"T_05bbc86e_787c_11eb_a677_380025ac0edflevel0_row9\" class=\"row_heading level0 row9\" >lar</th>\n",
       "                        <td id=\"T_05bbc86e_787c_11eb_a677_380025ac0edfrow9_col0\" class=\"data row9 col0\" >Least Angle Regression</td>\n",
       "                        <td id=\"T_05bbc86e_787c_11eb_a677_380025ac0edfrow9_col1\" class=\"data row9 col1\" >3.4970</td>\n",
       "                        <td id=\"T_05bbc86e_787c_11eb_a677_380025ac0edfrow9_col2\" class=\"data row9 col2\" >21.8829</td>\n",
       "                        <td id=\"T_05bbc86e_787c_11eb_a677_380025ac0edfrow9_col3\" class=\"data row9 col3\" >4.6535</td>\n",
       "                        <td id=\"T_05bbc86e_787c_11eb_a677_380025ac0edfrow9_col4\" class=\"data row9 col4\" >0.5153</td>\n",
       "                        <td id=\"T_05bbc86e_787c_11eb_a677_380025ac0edfrow9_col5\" class=\"data row9 col5\" >0.0369</td>\n",
       "                        <td id=\"T_05bbc86e_787c_11eb_a677_380025ac0edfrow9_col6\" class=\"data row9 col6\" >0.0281</td>\n",
       "                        <td id=\"T_05bbc86e_787c_11eb_a677_380025ac0edfrow9_col7\" class=\"data row9 col7\" >0.0130</td>\n",
       "            </tr>\n",
       "            <tr>\n",
       "                        <th id=\"T_05bbc86e_787c_11eb_a677_380025ac0edflevel0_row10\" class=\"row_heading level0 row10\" >br</th>\n",
       "                        <td id=\"T_05bbc86e_787c_11eb_a677_380025ac0edfrow10_col0\" class=\"data row10 col0\" >Bayesian Ridge</td>\n",
       "                        <td id=\"T_05bbc86e_787c_11eb_a677_380025ac0edfrow10_col1\" class=\"data row10 col1\" >3.5037</td>\n",
       "                        <td id=\"T_05bbc86e_787c_11eb_a677_380025ac0edfrow10_col2\" class=\"data row10 col2\" >21.8984</td>\n",
       "                        <td id=\"T_05bbc86e_787c_11eb_a677_380025ac0edfrow10_col3\" class=\"data row10 col3\" >4.6552</td>\n",
       "                        <td id=\"T_05bbc86e_787c_11eb_a677_380025ac0edfrow10_col4\" class=\"data row10 col4\" >0.5151</td>\n",
       "                        <td id=\"T_05bbc86e_787c_11eb_a677_380025ac0edfrow10_col5\" class=\"data row10 col5\" >0.0369</td>\n",
       "                        <td id=\"T_05bbc86e_787c_11eb_a677_380025ac0edfrow10_col6\" class=\"data row10 col6\" >0.0282</td>\n",
       "                        <td id=\"T_05bbc86e_787c_11eb_a677_380025ac0edfrow10_col7\" class=\"data row10 col7\" >0.0120</td>\n",
       "            </tr>\n",
       "            <tr>\n",
       "                        <th id=\"T_05bbc86e_787c_11eb_a677_380025ac0edflevel0_row11\" class=\"row_heading level0 row11\" >huber</th>\n",
       "                        <td id=\"T_05bbc86e_787c_11eb_a677_380025ac0edfrow11_col0\" class=\"data row11 col0\" >Huber Regressor</td>\n",
       "                        <td id=\"T_05bbc86e_787c_11eb_a677_380025ac0edfrow11_col1\" class=\"data row11 col1\" >3.3583</td>\n",
       "                        <td id=\"T_05bbc86e_787c_11eb_a677_380025ac0edfrow11_col2\" class=\"data row11 col2\" >21.9272</td>\n",
       "                        <td id=\"T_05bbc86e_787c_11eb_a677_380025ac0edfrow11_col3\" class=\"data row11 col3\" >4.6531</td>\n",
       "                        <td id=\"T_05bbc86e_787c_11eb_a677_380025ac0edfrow11_col4\" class=\"data row11 col4\" >0.5095</td>\n",
       "                        <td id=\"T_05bbc86e_787c_11eb_a677_380025ac0edfrow11_col5\" class=\"data row11 col5\" >0.0367</td>\n",
       "                        <td id=\"T_05bbc86e_787c_11eb_a677_380025ac0edfrow11_col6\" class=\"data row11 col6\" >0.0269</td>\n",
       "                        <td id=\"T_05bbc86e_787c_11eb_a677_380025ac0edfrow11_col7\" class=\"data row11 col7\" >0.0190</td>\n",
       "            </tr>\n",
       "            <tr>\n",
       "                        <th id=\"T_05bbc86e_787c_11eb_a677_380025ac0edflevel0_row12\" class=\"row_heading level0 row12\" >omp</th>\n",
       "                        <td id=\"T_05bbc86e_787c_11eb_a677_380025ac0edfrow12_col0\" class=\"data row12 col0\" >Orthogonal Matching Pursuit</td>\n",
       "                        <td id=\"T_05bbc86e_787c_11eb_a677_380025ac0edfrow12_col1\" class=\"data row12 col1\" >4.9020</td>\n",
       "                        <td id=\"T_05bbc86e_787c_11eb_a677_380025ac0edfrow12_col2\" class=\"data row12 col2\" >38.3864</td>\n",
       "                        <td id=\"T_05bbc86e_787c_11eb_a677_380025ac0edfrow12_col3\" class=\"data row12 col3\" >6.1692</td>\n",
       "                        <td id=\"T_05bbc86e_787c_11eb_a677_380025ac0edfrow12_col4\" class=\"data row12 col4\" >0.1606</td>\n",
       "                        <td id=\"T_05bbc86e_787c_11eb_a677_380025ac0edfrow12_col5\" class=\"data row12 col5\" >0.0496</td>\n",
       "                        <td id=\"T_05bbc86e_787c_11eb_a677_380025ac0edfrow12_col6\" class=\"data row12 col6\" >0.0398</td>\n",
       "                        <td id=\"T_05bbc86e_787c_11eb_a677_380025ac0edfrow12_col7\" class=\"data row12 col7\" >0.0110</td>\n",
       "            </tr>\n",
       "            <tr>\n",
       "                        <th id=\"T_05bbc86e_787c_11eb_a677_380025ac0edflevel0_row13\" class=\"row_heading level0 row13\" >lasso</th>\n",
       "                        <td id=\"T_05bbc86e_787c_11eb_a677_380025ac0edfrow13_col0\" class=\"data row13 col0\" >Lasso Regression</td>\n",
       "                        <td id=\"T_05bbc86e_787c_11eb_a677_380025ac0edfrow13_col1\" class=\"data row13 col1\" >5.5243</td>\n",
       "                        <td id=\"T_05bbc86e_787c_11eb_a677_380025ac0edfrow13_col2\" class=\"data row13 col2\" >46.5918</td>\n",
       "                        <td id=\"T_05bbc86e_787c_11eb_a677_380025ac0edfrow13_col3\" class=\"data row13 col3\" >6.7952</td>\n",
       "                        <td id=\"T_05bbc86e_787c_11eb_a677_380025ac0edfrow13_col4\" class=\"data row13 col4\" >-0.0151</td>\n",
       "                        <td id=\"T_05bbc86e_787c_11eb_a677_380025ac0edfrow13_col5\" class=\"data row13 col5\" >0.0549</td>\n",
       "                        <td id=\"T_05bbc86e_787c_11eb_a677_380025ac0edfrow13_col6\" class=\"data row13 col6\" >0.0451</td>\n",
       "                        <td id=\"T_05bbc86e_787c_11eb_a677_380025ac0edfrow13_col7\" class=\"data row13 col7\" >0.0090</td>\n",
       "            </tr>\n",
       "            <tr>\n",
       "                        <th id=\"T_05bbc86e_787c_11eb_a677_380025ac0edflevel0_row14\" class=\"row_heading level0 row14\" >en</th>\n",
       "                        <td id=\"T_05bbc86e_787c_11eb_a677_380025ac0edfrow14_col0\" class=\"data row14 col0\" >Elastic Net</td>\n",
       "                        <td id=\"T_05bbc86e_787c_11eb_a677_380025ac0edfrow14_col1\" class=\"data row14 col1\" >5.5243</td>\n",
       "                        <td id=\"T_05bbc86e_787c_11eb_a677_380025ac0edfrow14_col2\" class=\"data row14 col2\" >46.5918</td>\n",
       "                        <td id=\"T_05bbc86e_787c_11eb_a677_380025ac0edfrow14_col3\" class=\"data row14 col3\" >6.7952</td>\n",
       "                        <td id=\"T_05bbc86e_787c_11eb_a677_380025ac0edfrow14_col4\" class=\"data row14 col4\" >-0.0151</td>\n",
       "                        <td id=\"T_05bbc86e_787c_11eb_a677_380025ac0edfrow14_col5\" class=\"data row14 col5\" >0.0549</td>\n",
       "                        <td id=\"T_05bbc86e_787c_11eb_a677_380025ac0edfrow14_col6\" class=\"data row14 col6\" >0.0451</td>\n",
       "                        <td id=\"T_05bbc86e_787c_11eb_a677_380025ac0edfrow14_col7\" class=\"data row14 col7\" >0.0090</td>\n",
       "            </tr>\n",
       "            <tr>\n",
       "                        <th id=\"T_05bbc86e_787c_11eb_a677_380025ac0edflevel0_row15\" class=\"row_heading level0 row15\" >llar</th>\n",
       "                        <td id=\"T_05bbc86e_787c_11eb_a677_380025ac0edfrow15_col0\" class=\"data row15 col0\" >Lasso Least Angle Regression</td>\n",
       "                        <td id=\"T_05bbc86e_787c_11eb_a677_380025ac0edfrow15_col1\" class=\"data row15 col1\" >5.5243</td>\n",
       "                        <td id=\"T_05bbc86e_787c_11eb_a677_380025ac0edfrow15_col2\" class=\"data row15 col2\" >46.5918</td>\n",
       "                        <td id=\"T_05bbc86e_787c_11eb_a677_380025ac0edfrow15_col3\" class=\"data row15 col3\" >6.7952</td>\n",
       "                        <td id=\"T_05bbc86e_787c_11eb_a677_380025ac0edfrow15_col4\" class=\"data row15 col4\" >-0.0151</td>\n",
       "                        <td id=\"T_05bbc86e_787c_11eb_a677_380025ac0edfrow15_col5\" class=\"data row15 col5\" >0.0549</td>\n",
       "                        <td id=\"T_05bbc86e_787c_11eb_a677_380025ac0edfrow15_col6\" class=\"data row15 col6\" >0.0451</td>\n",
       "                        <td id=\"T_05bbc86e_787c_11eb_a677_380025ac0edfrow15_col7\" class=\"data row15 col7\" >0.0110</td>\n",
       "            </tr>\n",
       "            <tr>\n",
       "                        <th id=\"T_05bbc86e_787c_11eb_a677_380025ac0edflevel0_row16\" class=\"row_heading level0 row16\" >par</th>\n",
       "                        <td id=\"T_05bbc86e_787c_11eb_a677_380025ac0edfrow16_col0\" class=\"data row16 col0\" >Passive Aggressive Regressor</td>\n",
       "                        <td id=\"T_05bbc86e_787c_11eb_a677_380025ac0edfrow16_col1\" class=\"data row16 col1\" >6.0441</td>\n",
       "                        <td id=\"T_05bbc86e_787c_11eb_a677_380025ac0edfrow16_col2\" class=\"data row16 col2\" >62.1808</td>\n",
       "                        <td id=\"T_05bbc86e_787c_11eb_a677_380025ac0edfrow16_col3\" class=\"data row16 col3\" >7.6655</td>\n",
       "                        <td id=\"T_05bbc86e_787c_11eb_a677_380025ac0edfrow16_col4\" class=\"data row16 col4\" >-0.3968</td>\n",
       "                        <td id=\"T_05bbc86e_787c_11eb_a677_380025ac0edfrow16_col5\" class=\"data row16 col5\" >0.0622</td>\n",
       "                        <td id=\"T_05bbc86e_787c_11eb_a677_380025ac0edfrow16_col6\" class=\"data row16 col6\" >0.0486</td>\n",
       "                        <td id=\"T_05bbc86e_787c_11eb_a677_380025ac0edfrow16_col7\" class=\"data row16 col7\" >0.0090</td>\n",
       "            </tr>\n",
       "    </tbody></table>"
      ],
      "text/plain": [
       "<pandas.io.formats.style.Styler at 0x1548d939850>"
      ]
     },
     "metadata": {},
     "output_type": "display_data"
    }
   ],
   "source": [
    "top3 = compare_models(exclude = ['ransac'], n_select = 3)"
   ]
  },
  {
   "cell_type": "code",
   "execution_count": 109,
   "metadata": {},
   "outputs": [
    {
     "data": {
      "text/html": [
       "<style  type=\"text/css\" >\n",
       "#T_67c7331c_787a_11eb_9d3a_380025ac0edfrow10_col0,#T_67c7331c_787a_11eb_9d3a_380025ac0edfrow10_col1,#T_67c7331c_787a_11eb_9d3a_380025ac0edfrow10_col2,#T_67c7331c_787a_11eb_9d3a_380025ac0edfrow10_col3,#T_67c7331c_787a_11eb_9d3a_380025ac0edfrow10_col4,#T_67c7331c_787a_11eb_9d3a_380025ac0edfrow10_col5{\n",
       "            background:  yellow;\n",
       "        }</style><table id=\"T_67c7331c_787a_11eb_9d3a_380025ac0edf\" ><thead>    <tr>        <th class=\"blank level0\" ></th>        <th class=\"col_heading level0 col0\" >MAE</th>        <th class=\"col_heading level0 col1\" >MSE</th>        <th class=\"col_heading level0 col2\" >RMSE</th>        <th class=\"col_heading level0 col3\" >R2</th>        <th class=\"col_heading level0 col4\" >RMSLE</th>        <th class=\"col_heading level0 col5\" >MAPE</th>    </tr></thead><tbody>\n",
       "                <tr>\n",
       "                        <th id=\"T_67c7331c_787a_11eb_9d3a_380025ac0edflevel0_row0\" class=\"row_heading level0 row0\" >0</th>\n",
       "                        <td id=\"T_67c7331c_787a_11eb_9d3a_380025ac0edfrow0_col0\" class=\"data row0 col0\" >1.0460</td>\n",
       "                        <td id=\"T_67c7331c_787a_11eb_9d3a_380025ac0edfrow0_col1\" class=\"data row0 col1\" >2.1518</td>\n",
       "                        <td id=\"T_67c7331c_787a_11eb_9d3a_380025ac0edfrow0_col2\" class=\"data row0 col2\" >1.4669</td>\n",
       "                        <td id=\"T_67c7331c_787a_11eb_9d3a_380025ac0edfrow0_col3\" class=\"data row0 col3\" >0.9565</td>\n",
       "                        <td id=\"T_67c7331c_787a_11eb_9d3a_380025ac0edfrow0_col4\" class=\"data row0 col4\" >0.0117</td>\n",
       "                        <td id=\"T_67c7331c_787a_11eb_9d3a_380025ac0edfrow0_col5\" class=\"data row0 col5\" >0.0084</td>\n",
       "            </tr>\n",
       "            <tr>\n",
       "                        <th id=\"T_67c7331c_787a_11eb_9d3a_380025ac0edflevel0_row1\" class=\"row_heading level0 row1\" >1</th>\n",
       "                        <td id=\"T_67c7331c_787a_11eb_9d3a_380025ac0edfrow1_col0\" class=\"data row1 col0\" >1.2180</td>\n",
       "                        <td id=\"T_67c7331c_787a_11eb_9d3a_380025ac0edfrow1_col1\" class=\"data row1 col1\" >3.1568</td>\n",
       "                        <td id=\"T_67c7331c_787a_11eb_9d3a_380025ac0edfrow1_col2\" class=\"data row1 col2\" >1.7767</td>\n",
       "                        <td id=\"T_67c7331c_787a_11eb_9d3a_380025ac0edfrow1_col3\" class=\"data row1 col3\" >0.9306</td>\n",
       "                        <td id=\"T_67c7331c_787a_11eb_9d3a_380025ac0edfrow1_col4\" class=\"data row1 col4\" >0.0146</td>\n",
       "                        <td id=\"T_67c7331c_787a_11eb_9d3a_380025ac0edfrow1_col5\" class=\"data row1 col5\" >0.0100</td>\n",
       "            </tr>\n",
       "            <tr>\n",
       "                        <th id=\"T_67c7331c_787a_11eb_9d3a_380025ac0edflevel0_row2\" class=\"row_heading level0 row2\" >2</th>\n",
       "                        <td id=\"T_67c7331c_787a_11eb_9d3a_380025ac0edfrow2_col0\" class=\"data row2 col0\" >1.3615</td>\n",
       "                        <td id=\"T_67c7331c_787a_11eb_9d3a_380025ac0edfrow2_col1\" class=\"data row2 col1\" >3.3679</td>\n",
       "                        <td id=\"T_67c7331c_787a_11eb_9d3a_380025ac0edfrow2_col2\" class=\"data row2 col2\" >1.8352</td>\n",
       "                        <td id=\"T_67c7331c_787a_11eb_9d3a_380025ac0edfrow2_col3\" class=\"data row2 col3\" >0.9378</td>\n",
       "                        <td id=\"T_67c7331c_787a_11eb_9d3a_380025ac0edfrow2_col4\" class=\"data row2 col4\" >0.0151</td>\n",
       "                        <td id=\"T_67c7331c_787a_11eb_9d3a_380025ac0edfrow2_col5\" class=\"data row2 col5\" >0.0112</td>\n",
       "            </tr>\n",
       "            <tr>\n",
       "                        <th id=\"T_67c7331c_787a_11eb_9d3a_380025ac0edflevel0_row3\" class=\"row_heading level0 row3\" >3</th>\n",
       "                        <td id=\"T_67c7331c_787a_11eb_9d3a_380025ac0edfrow3_col0\" class=\"data row3 col0\" >1.1265</td>\n",
       "                        <td id=\"T_67c7331c_787a_11eb_9d3a_380025ac0edfrow3_col1\" class=\"data row3 col1\" >2.4618</td>\n",
       "                        <td id=\"T_67c7331c_787a_11eb_9d3a_380025ac0edfrow3_col2\" class=\"data row3 col2\" >1.5690</td>\n",
       "                        <td id=\"T_67c7331c_787a_11eb_9d3a_380025ac0edfrow3_col3\" class=\"data row3 col3\" >0.9323</td>\n",
       "                        <td id=\"T_67c7331c_787a_11eb_9d3a_380025ac0edfrow3_col4\" class=\"data row3 col4\" >0.0124</td>\n",
       "                        <td id=\"T_67c7331c_787a_11eb_9d3a_380025ac0edfrow3_col5\" class=\"data row3 col5\" >0.0090</td>\n",
       "            </tr>\n",
       "            <tr>\n",
       "                        <th id=\"T_67c7331c_787a_11eb_9d3a_380025ac0edflevel0_row4\" class=\"row_heading level0 row4\" >4</th>\n",
       "                        <td id=\"T_67c7331c_787a_11eb_9d3a_380025ac0edfrow4_col0\" class=\"data row4 col0\" >1.1552</td>\n",
       "                        <td id=\"T_67c7331c_787a_11eb_9d3a_380025ac0edfrow4_col1\" class=\"data row4 col1\" >2.7412</td>\n",
       "                        <td id=\"T_67c7331c_787a_11eb_9d3a_380025ac0edfrow4_col2\" class=\"data row4 col2\" >1.6557</td>\n",
       "                        <td id=\"T_67c7331c_787a_11eb_9d3a_380025ac0edfrow4_col3\" class=\"data row4 col3\" >0.9393</td>\n",
       "                        <td id=\"T_67c7331c_787a_11eb_9d3a_380025ac0edfrow4_col4\" class=\"data row4 col4\" >0.0131</td>\n",
       "                        <td id=\"T_67c7331c_787a_11eb_9d3a_380025ac0edfrow4_col5\" class=\"data row4 col5\" >0.0093</td>\n",
       "            </tr>\n",
       "            <tr>\n",
       "                        <th id=\"T_67c7331c_787a_11eb_9d3a_380025ac0edflevel0_row5\" class=\"row_heading level0 row5\" >5</th>\n",
       "                        <td id=\"T_67c7331c_787a_11eb_9d3a_380025ac0edfrow5_col0\" class=\"data row5 col0\" >0.9565</td>\n",
       "                        <td id=\"T_67c7331c_787a_11eb_9d3a_380025ac0edfrow5_col1\" class=\"data row5 col1\" >1.5899</td>\n",
       "                        <td id=\"T_67c7331c_787a_11eb_9d3a_380025ac0edfrow5_col2\" class=\"data row5 col2\" >1.2609</td>\n",
       "                        <td id=\"T_67c7331c_787a_11eb_9d3a_380025ac0edfrow5_col3\" class=\"data row5 col3\" >0.9558</td>\n",
       "                        <td id=\"T_67c7331c_787a_11eb_9d3a_380025ac0edfrow5_col4\" class=\"data row5 col4\" >0.0101</td>\n",
       "                        <td id=\"T_67c7331c_787a_11eb_9d3a_380025ac0edfrow5_col5\" class=\"data row5 col5\" >0.0077</td>\n",
       "            </tr>\n",
       "            <tr>\n",
       "                        <th id=\"T_67c7331c_787a_11eb_9d3a_380025ac0edflevel0_row6\" class=\"row_heading level0 row6\" >6</th>\n",
       "                        <td id=\"T_67c7331c_787a_11eb_9d3a_380025ac0edfrow6_col0\" class=\"data row6 col0\" >1.4778</td>\n",
       "                        <td id=\"T_67c7331c_787a_11eb_9d3a_380025ac0edfrow6_col1\" class=\"data row6 col1\" >6.4168</td>\n",
       "                        <td id=\"T_67c7331c_787a_11eb_9d3a_380025ac0edfrow6_col2\" class=\"data row6 col2\" >2.5331</td>\n",
       "                        <td id=\"T_67c7331c_787a_11eb_9d3a_380025ac0edfrow6_col3\" class=\"data row6 col3\" >0.8599</td>\n",
       "                        <td id=\"T_67c7331c_787a_11eb_9d3a_380025ac0edfrow6_col4\" class=\"data row6 col4\" >0.0198</td>\n",
       "                        <td id=\"T_67c7331c_787a_11eb_9d3a_380025ac0edfrow6_col5\" class=\"data row6 col5\" >0.0119</td>\n",
       "            </tr>\n",
       "            <tr>\n",
       "                        <th id=\"T_67c7331c_787a_11eb_9d3a_380025ac0edflevel0_row7\" class=\"row_heading level0 row7\" >7</th>\n",
       "                        <td id=\"T_67c7331c_787a_11eb_9d3a_380025ac0edfrow7_col0\" class=\"data row7 col0\" >1.0698</td>\n",
       "                        <td id=\"T_67c7331c_787a_11eb_9d3a_380025ac0edfrow7_col1\" class=\"data row7 col1\" >2.1242</td>\n",
       "                        <td id=\"T_67c7331c_787a_11eb_9d3a_380025ac0edfrow7_col2\" class=\"data row7 col2\" >1.4575</td>\n",
       "                        <td id=\"T_67c7331c_787a_11eb_9d3a_380025ac0edfrow7_col3\" class=\"data row7 col3\" >0.9372</td>\n",
       "                        <td id=\"T_67c7331c_787a_11eb_9d3a_380025ac0edfrow7_col4\" class=\"data row7 col4\" >0.0117</td>\n",
       "                        <td id=\"T_67c7331c_787a_11eb_9d3a_380025ac0edfrow7_col5\" class=\"data row7 col5\" >0.0086</td>\n",
       "            </tr>\n",
       "            <tr>\n",
       "                        <th id=\"T_67c7331c_787a_11eb_9d3a_380025ac0edflevel0_row8\" class=\"row_heading level0 row8\" >8</th>\n",
       "                        <td id=\"T_67c7331c_787a_11eb_9d3a_380025ac0edfrow8_col0\" class=\"data row8 col0\" >1.3071</td>\n",
       "                        <td id=\"T_67c7331c_787a_11eb_9d3a_380025ac0edfrow8_col1\" class=\"data row8 col1\" >3.5325</td>\n",
       "                        <td id=\"T_67c7331c_787a_11eb_9d3a_380025ac0edfrow8_col2\" class=\"data row8 col2\" >1.8795</td>\n",
       "                        <td id=\"T_67c7331c_787a_11eb_9d3a_380025ac0edfrow8_col3\" class=\"data row8 col3\" >0.9280</td>\n",
       "                        <td id=\"T_67c7331c_787a_11eb_9d3a_380025ac0edfrow8_col4\" class=\"data row8 col4\" >0.0146</td>\n",
       "                        <td id=\"T_67c7331c_787a_11eb_9d3a_380025ac0edfrow8_col5\" class=\"data row8 col5\" >0.0104</td>\n",
       "            </tr>\n",
       "            <tr>\n",
       "                        <th id=\"T_67c7331c_787a_11eb_9d3a_380025ac0edflevel0_row9\" class=\"row_heading level0 row9\" >9</th>\n",
       "                        <td id=\"T_67c7331c_787a_11eb_9d3a_380025ac0edfrow9_col0\" class=\"data row9 col0\" >1.2135</td>\n",
       "                        <td id=\"T_67c7331c_787a_11eb_9d3a_380025ac0edfrow9_col1\" class=\"data row9 col1\" >2.5964</td>\n",
       "                        <td id=\"T_67c7331c_787a_11eb_9d3a_380025ac0edfrow9_col2\" class=\"data row9 col2\" >1.6113</td>\n",
       "                        <td id=\"T_67c7331c_787a_11eb_9d3a_380025ac0edfrow9_col3\" class=\"data row9 col3\" >0.9590</td>\n",
       "                        <td id=\"T_67c7331c_787a_11eb_9d3a_380025ac0edfrow9_col4\" class=\"data row9 col4\" >0.0129</td>\n",
       "                        <td id=\"T_67c7331c_787a_11eb_9d3a_380025ac0edfrow9_col5\" class=\"data row9 col5\" >0.0099</td>\n",
       "            </tr>\n",
       "            <tr>\n",
       "                        <th id=\"T_67c7331c_787a_11eb_9d3a_380025ac0edflevel0_row10\" class=\"row_heading level0 row10\" >Mean</th>\n",
       "                        <td id=\"T_67c7331c_787a_11eb_9d3a_380025ac0edfrow10_col0\" class=\"data row10 col0\" >1.1932</td>\n",
       "                        <td id=\"T_67c7331c_787a_11eb_9d3a_380025ac0edfrow10_col1\" class=\"data row10 col1\" >3.0139</td>\n",
       "                        <td id=\"T_67c7331c_787a_11eb_9d3a_380025ac0edfrow10_col2\" class=\"data row10 col2\" >1.7046</td>\n",
       "                        <td id=\"T_67c7331c_787a_11eb_9d3a_380025ac0edfrow10_col3\" class=\"data row10 col3\" >0.9336</td>\n",
       "                        <td id=\"T_67c7331c_787a_11eb_9d3a_380025ac0edfrow10_col4\" class=\"data row10 col4\" >0.0136</td>\n",
       "                        <td id=\"T_67c7331c_787a_11eb_9d3a_380025ac0edfrow10_col5\" class=\"data row10 col5\" >0.0096</td>\n",
       "            </tr>\n",
       "            <tr>\n",
       "                        <th id=\"T_67c7331c_787a_11eb_9d3a_380025ac0edflevel0_row11\" class=\"row_heading level0 row11\" >SD</th>\n",
       "                        <td id=\"T_67c7331c_787a_11eb_9d3a_380025ac0edfrow11_col0\" class=\"data row11 col0\" >0.1490</td>\n",
       "                        <td id=\"T_67c7331c_787a_11eb_9d3a_380025ac0edfrow11_col1\" class=\"data row11 col1\" >1.2693</td>\n",
       "                        <td id=\"T_67c7331c_787a_11eb_9d3a_380025ac0edfrow11_col2\" class=\"data row11 col2\" >0.3291</td>\n",
       "                        <td id=\"T_67c7331c_787a_11eb_9d3a_380025ac0edfrow11_col3\" class=\"data row11 col3\" >0.0268</td>\n",
       "                        <td id=\"T_67c7331c_787a_11eb_9d3a_380025ac0edfrow11_col4\" class=\"data row11 col4\" >0.0025</td>\n",
       "                        <td id=\"T_67c7331c_787a_11eb_9d3a_380025ac0edfrow11_col5\" class=\"data row11 col5\" >0.0012</td>\n",
       "            </tr>\n",
       "    </tbody></table>"
      ],
      "text/plain": [
       "<pandas.io.formats.style.Styler at 0x15497245c70>"
      ]
     },
     "metadata": {},
     "output_type": "display_data"
    }
   ],
   "source": [
    "dt = create_model('et')"
   ]
  },
  {
   "cell_type": "code",
   "execution_count": 110,
   "metadata": {},
   "outputs": [
    {
     "data": {
      "text/html": [
       "<style  type=\"text/css\" >\n",
       "#T_6d986f83_787a_11eb_8216_380025ac0edfrow10_col0,#T_6d986f83_787a_11eb_8216_380025ac0edfrow10_col1,#T_6d986f83_787a_11eb_8216_380025ac0edfrow10_col2,#T_6d986f83_787a_11eb_8216_380025ac0edfrow10_col3,#T_6d986f83_787a_11eb_8216_380025ac0edfrow10_col4,#T_6d986f83_787a_11eb_8216_380025ac0edfrow10_col5{\n",
       "            background:  yellow;\n",
       "        }</style><table id=\"T_6d986f83_787a_11eb_8216_380025ac0edf\" ><thead>    <tr>        <th class=\"blank level0\" ></th>        <th class=\"col_heading level0 col0\" >MAE</th>        <th class=\"col_heading level0 col1\" >MSE</th>        <th class=\"col_heading level0 col2\" >RMSE</th>        <th class=\"col_heading level0 col3\" >R2</th>        <th class=\"col_heading level0 col4\" >RMSLE</th>        <th class=\"col_heading level0 col5\" >MAPE</th>    </tr></thead><tbody>\n",
       "                <tr>\n",
       "                        <th id=\"T_6d986f83_787a_11eb_8216_380025ac0edflevel0_row0\" class=\"row_heading level0 row0\" >0</th>\n",
       "                        <td id=\"T_6d986f83_787a_11eb_8216_380025ac0edfrow0_col0\" class=\"data row0 col0\" >1.2198</td>\n",
       "                        <td id=\"T_6d986f83_787a_11eb_8216_380025ac0edfrow0_col1\" class=\"data row0 col1\" >2.7774</td>\n",
       "                        <td id=\"T_6d986f83_787a_11eb_8216_380025ac0edfrow0_col2\" class=\"data row0 col2\" >1.6666</td>\n",
       "                        <td id=\"T_6d986f83_787a_11eb_8216_380025ac0edfrow0_col3\" class=\"data row0 col3\" >0.9439</td>\n",
       "                        <td id=\"T_6d986f83_787a_11eb_8216_380025ac0edfrow0_col4\" class=\"data row0 col4\" >0.0133</td>\n",
       "                        <td id=\"T_6d986f83_787a_11eb_8216_380025ac0edfrow0_col5\" class=\"data row0 col5\" >0.0099</td>\n",
       "            </tr>\n",
       "            <tr>\n",
       "                        <th id=\"T_6d986f83_787a_11eb_8216_380025ac0edflevel0_row1\" class=\"row_heading level0 row1\" >1</th>\n",
       "                        <td id=\"T_6d986f83_787a_11eb_8216_380025ac0edfrow1_col0\" class=\"data row1 col0\" >1.4648</td>\n",
       "                        <td id=\"T_6d986f83_787a_11eb_8216_380025ac0edfrow1_col1\" class=\"data row1 col1\" >4.2665</td>\n",
       "                        <td id=\"T_6d986f83_787a_11eb_8216_380025ac0edfrow1_col2\" class=\"data row1 col2\" >2.0655</td>\n",
       "                        <td id=\"T_6d986f83_787a_11eb_8216_380025ac0edfrow1_col3\" class=\"data row1 col3\" >0.9062</td>\n",
       "                        <td id=\"T_6d986f83_787a_11eb_8216_380025ac0edfrow1_col4\" class=\"data row1 col4\" >0.0168</td>\n",
       "                        <td id=\"T_6d986f83_787a_11eb_8216_380025ac0edfrow1_col5\" class=\"data row1 col5\" >0.0120</td>\n",
       "            </tr>\n",
       "            <tr>\n",
       "                        <th id=\"T_6d986f83_787a_11eb_8216_380025ac0edflevel0_row2\" class=\"row_heading level0 row2\" >2</th>\n",
       "                        <td id=\"T_6d986f83_787a_11eb_8216_380025ac0edfrow2_col0\" class=\"data row2 col0\" >1.5373</td>\n",
       "                        <td id=\"T_6d986f83_787a_11eb_8216_380025ac0edfrow2_col1\" class=\"data row2 col1\" >4.3372</td>\n",
       "                        <td id=\"T_6d986f83_787a_11eb_8216_380025ac0edfrow2_col2\" class=\"data row2 col2\" >2.0826</td>\n",
       "                        <td id=\"T_6d986f83_787a_11eb_8216_380025ac0edfrow2_col3\" class=\"data row2 col3\" >0.9198</td>\n",
       "                        <td id=\"T_6d986f83_787a_11eb_8216_380025ac0edfrow2_col4\" class=\"data row2 col4\" >0.0169</td>\n",
       "                        <td id=\"T_6d986f83_787a_11eb_8216_380025ac0edfrow2_col5\" class=\"data row2 col5\" >0.0125</td>\n",
       "            </tr>\n",
       "            <tr>\n",
       "                        <th id=\"T_6d986f83_787a_11eb_8216_380025ac0edflevel0_row3\" class=\"row_heading level0 row3\" >3</th>\n",
       "                        <td id=\"T_6d986f83_787a_11eb_8216_380025ac0edfrow3_col0\" class=\"data row3 col0\" >1.3223</td>\n",
       "                        <td id=\"T_6d986f83_787a_11eb_8216_380025ac0edfrow3_col1\" class=\"data row3 col1\" >3.1280</td>\n",
       "                        <td id=\"T_6d986f83_787a_11eb_8216_380025ac0edfrow3_col2\" class=\"data row3 col2\" >1.7686</td>\n",
       "                        <td id=\"T_6d986f83_787a_11eb_8216_380025ac0edfrow3_col3\" class=\"data row3 col3\" >0.9140</td>\n",
       "                        <td id=\"T_6d986f83_787a_11eb_8216_380025ac0edfrow3_col4\" class=\"data row3 col4\" >0.0140</td>\n",
       "                        <td id=\"T_6d986f83_787a_11eb_8216_380025ac0edfrow3_col5\" class=\"data row3 col5\" >0.0106</td>\n",
       "            </tr>\n",
       "            <tr>\n",
       "                        <th id=\"T_6d986f83_787a_11eb_8216_380025ac0edflevel0_row4\" class=\"row_heading level0 row4\" >4</th>\n",
       "                        <td id=\"T_6d986f83_787a_11eb_8216_380025ac0edfrow4_col0\" class=\"data row4 col0\" >1.2860</td>\n",
       "                        <td id=\"T_6d986f83_787a_11eb_8216_380025ac0edfrow4_col1\" class=\"data row4 col1\" >2.9649</td>\n",
       "                        <td id=\"T_6d986f83_787a_11eb_8216_380025ac0edfrow4_col2\" class=\"data row4 col2\" >1.7219</td>\n",
       "                        <td id=\"T_6d986f83_787a_11eb_8216_380025ac0edfrow4_col3\" class=\"data row4 col3\" >0.9343</td>\n",
       "                        <td id=\"T_6d986f83_787a_11eb_8216_380025ac0edfrow4_col4\" class=\"data row4 col4\" >0.0136</td>\n",
       "                        <td id=\"T_6d986f83_787a_11eb_8216_380025ac0edfrow4_col5\" class=\"data row4 col5\" >0.0103</td>\n",
       "            </tr>\n",
       "            <tr>\n",
       "                        <th id=\"T_6d986f83_787a_11eb_8216_380025ac0edflevel0_row5\" class=\"row_heading level0 row5\" >5</th>\n",
       "                        <td id=\"T_6d986f83_787a_11eb_8216_380025ac0edfrow5_col0\" class=\"data row5 col0\" >1.1885</td>\n",
       "                        <td id=\"T_6d986f83_787a_11eb_8216_380025ac0edfrow5_col1\" class=\"data row5 col1\" >2.5996</td>\n",
       "                        <td id=\"T_6d986f83_787a_11eb_8216_380025ac0edfrow5_col2\" class=\"data row5 col2\" >1.6123</td>\n",
       "                        <td id=\"T_6d986f83_787a_11eb_8216_380025ac0edfrow5_col3\" class=\"data row5 col3\" >0.9278</td>\n",
       "                        <td id=\"T_6d986f83_787a_11eb_8216_380025ac0edfrow5_col4\" class=\"data row5 col4\" >0.0128</td>\n",
       "                        <td id=\"T_6d986f83_787a_11eb_8216_380025ac0edfrow5_col5\" class=\"data row5 col5\" >0.0095</td>\n",
       "            </tr>\n",
       "            <tr>\n",
       "                        <th id=\"T_6d986f83_787a_11eb_8216_380025ac0edflevel0_row6\" class=\"row_heading level0 row6\" >6</th>\n",
       "                        <td id=\"T_6d986f83_787a_11eb_8216_380025ac0edfrow6_col0\" class=\"data row6 col0\" >1.7155</td>\n",
       "                        <td id=\"T_6d986f83_787a_11eb_8216_380025ac0edfrow6_col1\" class=\"data row6 col1\" >7.9857</td>\n",
       "                        <td id=\"T_6d986f83_787a_11eb_8216_380025ac0edfrow6_col2\" class=\"data row6 col2\" >2.8259</td>\n",
       "                        <td id=\"T_6d986f83_787a_11eb_8216_380025ac0edfrow6_col3\" class=\"data row6 col3\" >0.8257</td>\n",
       "                        <td id=\"T_6d986f83_787a_11eb_8216_380025ac0edfrow6_col4\" class=\"data row6 col4\" >0.0222</td>\n",
       "                        <td id=\"T_6d986f83_787a_11eb_8216_380025ac0edfrow6_col5\" class=\"data row6 col5\" >0.0138</td>\n",
       "            </tr>\n",
       "            <tr>\n",
       "                        <th id=\"T_6d986f83_787a_11eb_8216_380025ac0edflevel0_row7\" class=\"row_heading level0 row7\" >7</th>\n",
       "                        <td id=\"T_6d986f83_787a_11eb_8216_380025ac0edfrow7_col0\" class=\"data row7 col0\" >1.2415</td>\n",
       "                        <td id=\"T_6d986f83_787a_11eb_8216_380025ac0edfrow7_col1\" class=\"data row7 col1\" >2.8404</td>\n",
       "                        <td id=\"T_6d986f83_787a_11eb_8216_380025ac0edfrow7_col2\" class=\"data row7 col2\" >1.6854</td>\n",
       "                        <td id=\"T_6d986f83_787a_11eb_8216_380025ac0edfrow7_col3\" class=\"data row7 col3\" >0.9160</td>\n",
       "                        <td id=\"T_6d986f83_787a_11eb_8216_380025ac0edfrow7_col4\" class=\"data row7 col4\" >0.0135</td>\n",
       "                        <td id=\"T_6d986f83_787a_11eb_8216_380025ac0edfrow7_col5\" class=\"data row7 col5\" >0.0100</td>\n",
       "            </tr>\n",
       "            <tr>\n",
       "                        <th id=\"T_6d986f83_787a_11eb_8216_380025ac0edflevel0_row8\" class=\"row_heading level0 row8\" >8</th>\n",
       "                        <td id=\"T_6d986f83_787a_11eb_8216_380025ac0edfrow8_col0\" class=\"data row8 col0\" >1.4351</td>\n",
       "                        <td id=\"T_6d986f83_787a_11eb_8216_380025ac0edfrow8_col1\" class=\"data row8 col1\" >4.4462</td>\n",
       "                        <td id=\"T_6d986f83_787a_11eb_8216_380025ac0edfrow8_col2\" class=\"data row8 col2\" >2.1086</td>\n",
       "                        <td id=\"T_6d986f83_787a_11eb_8216_380025ac0edfrow8_col3\" class=\"data row8 col3\" >0.9094</td>\n",
       "                        <td id=\"T_6d986f83_787a_11eb_8216_380025ac0edfrow8_col4\" class=\"data row8 col4\" >0.0162</td>\n",
       "                        <td id=\"T_6d986f83_787a_11eb_8216_380025ac0edfrow8_col5\" class=\"data row8 col5\" >0.0114</td>\n",
       "            </tr>\n",
       "            <tr>\n",
       "                        <th id=\"T_6d986f83_787a_11eb_8216_380025ac0edflevel0_row9\" class=\"row_heading level0 row9\" >9</th>\n",
       "                        <td id=\"T_6d986f83_787a_11eb_8216_380025ac0edfrow9_col0\" class=\"data row9 col0\" >1.4654</td>\n",
       "                        <td id=\"T_6d986f83_787a_11eb_8216_380025ac0edfrow9_col1\" class=\"data row9 col1\" >3.4951</td>\n",
       "                        <td id=\"T_6d986f83_787a_11eb_8216_380025ac0edfrow9_col2\" class=\"data row9 col2\" >1.8695</td>\n",
       "                        <td id=\"T_6d986f83_787a_11eb_8216_380025ac0edfrow9_col3\" class=\"data row9 col3\" >0.9448</td>\n",
       "                        <td id=\"T_6d986f83_787a_11eb_8216_380025ac0edfrow9_col4\" class=\"data row9 col4\" >0.0151</td>\n",
       "                        <td id=\"T_6d986f83_787a_11eb_8216_380025ac0edfrow9_col5\" class=\"data row9 col5\" >0.0119</td>\n",
       "            </tr>\n",
       "            <tr>\n",
       "                        <th id=\"T_6d986f83_787a_11eb_8216_380025ac0edflevel0_row10\" class=\"row_heading level0 row10\" >Mean</th>\n",
       "                        <td id=\"T_6d986f83_787a_11eb_8216_380025ac0edfrow10_col0\" class=\"data row10 col0\" >1.3876</td>\n",
       "                        <td id=\"T_6d986f83_787a_11eb_8216_380025ac0edfrow10_col1\" class=\"data row10 col1\" >3.8841</td>\n",
       "                        <td id=\"T_6d986f83_787a_11eb_8216_380025ac0edfrow10_col2\" class=\"data row10 col2\" >1.9407</td>\n",
       "                        <td id=\"T_6d986f83_787a_11eb_8216_380025ac0edfrow10_col3\" class=\"data row10 col3\" >0.9142</td>\n",
       "                        <td id=\"T_6d986f83_787a_11eb_8216_380025ac0edfrow10_col4\" class=\"data row10 col4\" >0.0155</td>\n",
       "                        <td id=\"T_6d986f83_787a_11eb_8216_380025ac0edfrow10_col5\" class=\"data row10 col5\" >0.0112</td>\n",
       "            </tr>\n",
       "            <tr>\n",
       "                        <th id=\"T_6d986f83_787a_11eb_8216_380025ac0edflevel0_row11\" class=\"row_heading level0 row11\" >SD</th>\n",
       "                        <td id=\"T_6d986f83_787a_11eb_8216_380025ac0edfrow11_col0\" class=\"data row11 col0\" >0.1575</td>\n",
       "                        <td id=\"T_6d986f83_787a_11eb_8216_380025ac0edfrow11_col1\" class=\"data row11 col1\" >1.5173</td>\n",
       "                        <td id=\"T_6d986f83_787a_11eb_8216_380025ac0edfrow11_col2\" class=\"data row11 col2\" >0.3433</td>\n",
       "                        <td id=\"T_6d986f83_787a_11eb_8216_380025ac0edfrow11_col3\" class=\"data row11 col3\" >0.0322</td>\n",
       "                        <td id=\"T_6d986f83_787a_11eb_8216_380025ac0edfrow11_col4\" class=\"data row11 col4\" >0.0027</td>\n",
       "                        <td id=\"T_6d986f83_787a_11eb_8216_380025ac0edfrow11_col5\" class=\"data row11 col5\" >0.0013</td>\n",
       "            </tr>\n",
       "    </tbody></table>"
      ],
      "text/plain": [
       "<pandas.io.formats.style.Styler at 0x1548d83dc70>"
      ]
     },
     "metadata": {},
     "output_type": "display_data"
    }
   ],
   "source": [
    "bagged_dt = ensemble_model(dt)"
   ]
  },
  {
   "cell_type": "code",
   "execution_count": 111,
   "metadata": {},
   "outputs": [
    {
     "data": {
      "text/html": [
       "<style  type=\"text/css\" >\n",
       "#T_78c2994c_787a_11eb_9904_380025ac0edfrow10_col0,#T_78c2994c_787a_11eb_9904_380025ac0edfrow10_col1,#T_78c2994c_787a_11eb_9904_380025ac0edfrow10_col2,#T_78c2994c_787a_11eb_9904_380025ac0edfrow10_col3,#T_78c2994c_787a_11eb_9904_380025ac0edfrow10_col4,#T_78c2994c_787a_11eb_9904_380025ac0edfrow10_col5{\n",
       "            background:  yellow;\n",
       "        }</style><table id=\"T_78c2994c_787a_11eb_9904_380025ac0edf\" ><thead>    <tr>        <th class=\"blank level0\" ></th>        <th class=\"col_heading level0 col0\" >MAE</th>        <th class=\"col_heading level0 col1\" >MSE</th>        <th class=\"col_heading level0 col2\" >RMSE</th>        <th class=\"col_heading level0 col3\" >R2</th>        <th class=\"col_heading level0 col4\" >RMSLE</th>        <th class=\"col_heading level0 col5\" >MAPE</th>    </tr></thead><tbody>\n",
       "                <tr>\n",
       "                        <th id=\"T_78c2994c_787a_11eb_9904_380025ac0edflevel0_row0\" class=\"row_heading level0 row0\" >0</th>\n",
       "                        <td id=\"T_78c2994c_787a_11eb_9904_380025ac0edfrow0_col0\" class=\"data row0 col0\" >1.0462</td>\n",
       "                        <td id=\"T_78c2994c_787a_11eb_9904_380025ac0edfrow0_col1\" class=\"data row0 col1\" >2.0378</td>\n",
       "                        <td id=\"T_78c2994c_787a_11eb_9904_380025ac0edfrow0_col2\" class=\"data row0 col2\" >1.4275</td>\n",
       "                        <td id=\"T_78c2994c_787a_11eb_9904_380025ac0edfrow0_col3\" class=\"data row0 col3\" >0.9588</td>\n",
       "                        <td id=\"T_78c2994c_787a_11eb_9904_380025ac0edfrow0_col4\" class=\"data row0 col4\" >0.0113</td>\n",
       "                        <td id=\"T_78c2994c_787a_11eb_9904_380025ac0edfrow0_col5\" class=\"data row0 col5\" >0.0084</td>\n",
       "            </tr>\n",
       "            <tr>\n",
       "                        <th id=\"T_78c2994c_787a_11eb_9904_380025ac0edflevel0_row1\" class=\"row_heading level0 row1\" >1</th>\n",
       "                        <td id=\"T_78c2994c_787a_11eb_9904_380025ac0edfrow1_col0\" class=\"data row1 col0\" >1.1527</td>\n",
       "                        <td id=\"T_78c2994c_787a_11eb_9904_380025ac0edfrow1_col1\" class=\"data row1 col1\" >2.9666</td>\n",
       "                        <td id=\"T_78c2994c_787a_11eb_9904_380025ac0edfrow1_col2\" class=\"data row1 col2\" >1.7224</td>\n",
       "                        <td id=\"T_78c2994c_787a_11eb_9904_380025ac0edfrow1_col3\" class=\"data row1 col3\" >0.9348</td>\n",
       "                        <td id=\"T_78c2994c_787a_11eb_9904_380025ac0edfrow1_col4\" class=\"data row1 col4\" >0.0141</td>\n",
       "                        <td id=\"T_78c2994c_787a_11eb_9904_380025ac0edfrow1_col5\" class=\"data row1 col5\" >0.0095</td>\n",
       "            </tr>\n",
       "            <tr>\n",
       "                        <th id=\"T_78c2994c_787a_11eb_9904_380025ac0edflevel0_row2\" class=\"row_heading level0 row2\" >2</th>\n",
       "                        <td id=\"T_78c2994c_787a_11eb_9904_380025ac0edfrow2_col0\" class=\"data row2 col0\" >1.2236</td>\n",
       "                        <td id=\"T_78c2994c_787a_11eb_9904_380025ac0edfrow2_col1\" class=\"data row2 col1\" >2.8512</td>\n",
       "                        <td id=\"T_78c2994c_787a_11eb_9904_380025ac0edfrow2_col2\" class=\"data row2 col2\" >1.6885</td>\n",
       "                        <td id=\"T_78c2994c_787a_11eb_9904_380025ac0edfrow2_col3\" class=\"data row2 col3\" >0.9473</td>\n",
       "                        <td id=\"T_78c2994c_787a_11eb_9904_380025ac0edfrow2_col4\" class=\"data row2 col4\" >0.0138</td>\n",
       "                        <td id=\"T_78c2994c_787a_11eb_9904_380025ac0edfrow2_col5\" class=\"data row2 col5\" >0.0100</td>\n",
       "            </tr>\n",
       "            <tr>\n",
       "                        <th id=\"T_78c2994c_787a_11eb_9904_380025ac0edflevel0_row3\" class=\"row_heading level0 row3\" >3</th>\n",
       "                        <td id=\"T_78c2994c_787a_11eb_9904_380025ac0edfrow3_col0\" class=\"data row3 col0\" >1.1000</td>\n",
       "                        <td id=\"T_78c2994c_787a_11eb_9904_380025ac0edfrow3_col1\" class=\"data row3 col1\" >2.3100</td>\n",
       "                        <td id=\"T_78c2994c_787a_11eb_9904_380025ac0edfrow3_col2\" class=\"data row3 col2\" >1.5199</td>\n",
       "                        <td id=\"T_78c2994c_787a_11eb_9904_380025ac0edfrow3_col3\" class=\"data row3 col3\" >0.9365</td>\n",
       "                        <td id=\"T_78c2994c_787a_11eb_9904_380025ac0edfrow3_col4\" class=\"data row3 col4\" >0.0121</td>\n",
       "                        <td id=\"T_78c2994c_787a_11eb_9904_380025ac0edfrow3_col5\" class=\"data row3 col5\" >0.0088</td>\n",
       "            </tr>\n",
       "            <tr>\n",
       "                        <th id=\"T_78c2994c_787a_11eb_9904_380025ac0edflevel0_row4\" class=\"row_heading level0 row4\" >4</th>\n",
       "                        <td id=\"T_78c2994c_787a_11eb_9904_380025ac0edfrow4_col0\" class=\"data row4 col0\" >1.1541</td>\n",
       "                        <td id=\"T_78c2994c_787a_11eb_9904_380025ac0edfrow4_col1\" class=\"data row4 col1\" >3.0651</td>\n",
       "                        <td id=\"T_78c2994c_787a_11eb_9904_380025ac0edfrow4_col2\" class=\"data row4 col2\" >1.7507</td>\n",
       "                        <td id=\"T_78c2994c_787a_11eb_9904_380025ac0edfrow4_col3\" class=\"data row4 col3\" >0.9321</td>\n",
       "                        <td id=\"T_78c2994c_787a_11eb_9904_380025ac0edfrow4_col4\" class=\"data row4 col4\" >0.0138</td>\n",
       "                        <td id=\"T_78c2994c_787a_11eb_9904_380025ac0edfrow4_col5\" class=\"data row4 col5\" >0.0093</td>\n",
       "            </tr>\n",
       "            <tr>\n",
       "                        <th id=\"T_78c2994c_787a_11eb_9904_380025ac0edflevel0_row5\" class=\"row_heading level0 row5\" >5</th>\n",
       "                        <td id=\"T_78c2994c_787a_11eb_9904_380025ac0edfrow5_col0\" class=\"data row5 col0\" >0.8883</td>\n",
       "                        <td id=\"T_78c2994c_787a_11eb_9904_380025ac0edfrow5_col1\" class=\"data row5 col1\" >1.3004</td>\n",
       "                        <td id=\"T_78c2994c_787a_11eb_9904_380025ac0edfrow5_col2\" class=\"data row5 col2\" >1.1404</td>\n",
       "                        <td id=\"T_78c2994c_787a_11eb_9904_380025ac0edfrow5_col3\" class=\"data row5 col3\" >0.9639</td>\n",
       "                        <td id=\"T_78c2994c_787a_11eb_9904_380025ac0edfrow5_col4\" class=\"data row5 col4\" >0.0091</td>\n",
       "                        <td id=\"T_78c2994c_787a_11eb_9904_380025ac0edfrow5_col5\" class=\"data row5 col5\" >0.0071</td>\n",
       "            </tr>\n",
       "            <tr>\n",
       "                        <th id=\"T_78c2994c_787a_11eb_9904_380025ac0edflevel0_row6\" class=\"row_heading level0 row6\" >6</th>\n",
       "                        <td id=\"T_78c2994c_787a_11eb_9904_380025ac0edfrow6_col0\" class=\"data row6 col0\" >1.4619</td>\n",
       "                        <td id=\"T_78c2994c_787a_11eb_9904_380025ac0edfrow6_col1\" class=\"data row6 col1\" >6.1447</td>\n",
       "                        <td id=\"T_78c2994c_787a_11eb_9904_380025ac0edfrow6_col2\" class=\"data row6 col2\" >2.4788</td>\n",
       "                        <td id=\"T_78c2994c_787a_11eb_9904_380025ac0edfrow6_col3\" class=\"data row6 col3\" >0.8659</td>\n",
       "                        <td id=\"T_78c2994c_787a_11eb_9904_380025ac0edfrow6_col4\" class=\"data row6 col4\" >0.0193</td>\n",
       "                        <td id=\"T_78c2994c_787a_11eb_9904_380025ac0edfrow6_col5\" class=\"data row6 col5\" >0.0117</td>\n",
       "            </tr>\n",
       "            <tr>\n",
       "                        <th id=\"T_78c2994c_787a_11eb_9904_380025ac0edflevel0_row7\" class=\"row_heading level0 row7\" >7</th>\n",
       "                        <td id=\"T_78c2994c_787a_11eb_9904_380025ac0edfrow7_col0\" class=\"data row7 col0\" >0.9587</td>\n",
       "                        <td id=\"T_78c2994c_787a_11eb_9904_380025ac0edfrow7_col1\" class=\"data row7 col1\" >1.9222</td>\n",
       "                        <td id=\"T_78c2994c_787a_11eb_9904_380025ac0edfrow7_col2\" class=\"data row7 col2\" >1.3864</td>\n",
       "                        <td id=\"T_78c2994c_787a_11eb_9904_380025ac0edfrow7_col3\" class=\"data row7 col3\" >0.9432</td>\n",
       "                        <td id=\"T_78c2994c_787a_11eb_9904_380025ac0edfrow7_col4\" class=\"data row7 col4\" >0.0111</td>\n",
       "                        <td id=\"T_78c2994c_787a_11eb_9904_380025ac0edfrow7_col5\" class=\"data row7 col5\" >0.0077</td>\n",
       "            </tr>\n",
       "            <tr>\n",
       "                        <th id=\"T_78c2994c_787a_11eb_9904_380025ac0edflevel0_row8\" class=\"row_heading level0 row8\" >8</th>\n",
       "                        <td id=\"T_78c2994c_787a_11eb_9904_380025ac0edfrow8_col0\" class=\"data row8 col0\" >1.2106</td>\n",
       "                        <td id=\"T_78c2994c_787a_11eb_9904_380025ac0edfrow8_col1\" class=\"data row8 col1\" >3.1266</td>\n",
       "                        <td id=\"T_78c2994c_787a_11eb_9904_380025ac0edfrow8_col2\" class=\"data row8 col2\" >1.7682</td>\n",
       "                        <td id=\"T_78c2994c_787a_11eb_9904_380025ac0edfrow8_col3\" class=\"data row8 col3\" >0.9363</td>\n",
       "                        <td id=\"T_78c2994c_787a_11eb_9904_380025ac0edfrow8_col4\" class=\"data row8 col4\" >0.0138</td>\n",
       "                        <td id=\"T_78c2994c_787a_11eb_9904_380025ac0edfrow8_col5\" class=\"data row8 col5\" >0.0097</td>\n",
       "            </tr>\n",
       "            <tr>\n",
       "                        <th id=\"T_78c2994c_787a_11eb_9904_380025ac0edflevel0_row9\" class=\"row_heading level0 row9\" >9</th>\n",
       "                        <td id=\"T_78c2994c_787a_11eb_9904_380025ac0edfrow9_col0\" class=\"data row9 col0\" >1.0827</td>\n",
       "                        <td id=\"T_78c2994c_787a_11eb_9904_380025ac0edfrow9_col1\" class=\"data row9 col1\" >2.2235</td>\n",
       "                        <td id=\"T_78c2994c_787a_11eb_9904_380025ac0edfrow9_col2\" class=\"data row9 col2\" >1.4911</td>\n",
       "                        <td id=\"T_78c2994c_787a_11eb_9904_380025ac0edfrow9_col3\" class=\"data row9 col3\" >0.9649</td>\n",
       "                        <td id=\"T_78c2994c_787a_11eb_9904_380025ac0edfrow9_col4\" class=\"data row9 col4\" >0.0117</td>\n",
       "                        <td id=\"T_78c2994c_787a_11eb_9904_380025ac0edfrow9_col5\" class=\"data row9 col5\" >0.0087</td>\n",
       "            </tr>\n",
       "            <tr>\n",
       "                        <th id=\"T_78c2994c_787a_11eb_9904_380025ac0edflevel0_row10\" class=\"row_heading level0 row10\" >Mean</th>\n",
       "                        <td id=\"T_78c2994c_787a_11eb_9904_380025ac0edfrow10_col0\" class=\"data row10 col0\" >1.1279</td>\n",
       "                        <td id=\"T_78c2994c_787a_11eb_9904_380025ac0edfrow10_col1\" class=\"data row10 col1\" >2.7948</td>\n",
       "                        <td id=\"T_78c2994c_787a_11eb_9904_380025ac0edfrow10_col2\" class=\"data row10 col2\" >1.6374</td>\n",
       "                        <td id=\"T_78c2994c_787a_11eb_9904_380025ac0edfrow10_col3\" class=\"data row10 col3\" >0.9384</td>\n",
       "                        <td id=\"T_78c2994c_787a_11eb_9904_380025ac0edfrow10_col4\" class=\"data row10 col4\" >0.0130</td>\n",
       "                        <td id=\"T_78c2994c_787a_11eb_9904_380025ac0edfrow10_col5\" class=\"data row10 col5\" >0.0091</td>\n",
       "            </tr>\n",
       "            <tr>\n",
       "                        <th id=\"T_78c2994c_787a_11eb_9904_380025ac0edflevel0_row11\" class=\"row_heading level0 row11\" >SD</th>\n",
       "                        <td id=\"T_78c2994c_787a_11eb_9904_380025ac0edfrow11_col0\" class=\"data row11 col0\" >0.1498</td>\n",
       "                        <td id=\"T_78c2994c_787a_11eb_9904_380025ac0edfrow11_col1\" class=\"data row11 col1\" >1.2477</td>\n",
       "                        <td id=\"T_78c2994c_787a_11eb_9904_380025ac0edfrow11_col2\" class=\"data row11 col2\" >0.3372</td>\n",
       "                        <td id=\"T_78c2994c_787a_11eb_9904_380025ac0edfrow11_col3\" class=\"data row11 col3\" >0.0268</td>\n",
       "                        <td id=\"T_78c2994c_787a_11eb_9904_380025ac0edfrow11_col4\" class=\"data row11 col4\" >0.0026</td>\n",
       "                        <td id=\"T_78c2994c_787a_11eb_9904_380025ac0edfrow11_col5\" class=\"data row11 col5\" >0.0012</td>\n",
       "            </tr>\n",
       "    </tbody></table>"
      ],
      "text/plain": [
       "<pandas.io.formats.style.Styler at 0x154973509a0>"
      ]
     },
     "metadata": {},
     "output_type": "display_data"
    }
   ],
   "source": [
    "stacker = stack_models(top3)"
   ]
  },
  {
   "cell_type": "code",
   "execution_count": 113,
   "metadata": {},
   "outputs": [
    {
     "data": {
      "text/html": [
       "<style  type=\"text/css\" >\n",
       "#T_bb1c6918_787a_11eb_a137_380025ac0edfrow10_col0,#T_bb1c6918_787a_11eb_a137_380025ac0edfrow10_col1,#T_bb1c6918_787a_11eb_a137_380025ac0edfrow10_col2,#T_bb1c6918_787a_11eb_a137_380025ac0edfrow10_col3,#T_bb1c6918_787a_11eb_a137_380025ac0edfrow10_col4,#T_bb1c6918_787a_11eb_a137_380025ac0edfrow10_col5{\n",
       "            background:  yellow;\n",
       "        }</style><table id=\"T_bb1c6918_787a_11eb_a137_380025ac0edf\" ><thead>    <tr>        <th class=\"blank level0\" ></th>        <th class=\"col_heading level0 col0\" >MAE</th>        <th class=\"col_heading level0 col1\" >MSE</th>        <th class=\"col_heading level0 col2\" >RMSE</th>        <th class=\"col_heading level0 col3\" >R2</th>        <th class=\"col_heading level0 col4\" >RMSLE</th>        <th class=\"col_heading level0 col5\" >MAPE</th>    </tr></thead><tbody>\n",
       "                <tr>\n",
       "                        <th id=\"T_bb1c6918_787a_11eb_a137_380025ac0edflevel0_row0\" class=\"row_heading level0 row0\" >0</th>\n",
       "                        <td id=\"T_bb1c6918_787a_11eb_a137_380025ac0edfrow0_col0\" class=\"data row0 col0\" >1.3095</td>\n",
       "                        <td id=\"T_bb1c6918_787a_11eb_a137_380025ac0edfrow0_col1\" class=\"data row0 col1\" >2.9257</td>\n",
       "                        <td id=\"T_bb1c6918_787a_11eb_a137_380025ac0edfrow0_col2\" class=\"data row0 col2\" >1.7105</td>\n",
       "                        <td id=\"T_bb1c6918_787a_11eb_a137_380025ac0edfrow0_col3\" class=\"data row0 col3\" >0.9409</td>\n",
       "                        <td id=\"T_bb1c6918_787a_11eb_a137_380025ac0edfrow0_col4\" class=\"data row0 col4\" >0.0135</td>\n",
       "                        <td id=\"T_bb1c6918_787a_11eb_a137_380025ac0edfrow0_col5\" class=\"data row0 col5\" >0.0105</td>\n",
       "            </tr>\n",
       "            <tr>\n",
       "                        <th id=\"T_bb1c6918_787a_11eb_a137_380025ac0edflevel0_row1\" class=\"row_heading level0 row1\" >1</th>\n",
       "                        <td id=\"T_bb1c6918_787a_11eb_a137_380025ac0edfrow1_col0\" class=\"data row1 col0\" >1.1712</td>\n",
       "                        <td id=\"T_bb1c6918_787a_11eb_a137_380025ac0edfrow1_col1\" class=\"data row1 col1\" >3.4240</td>\n",
       "                        <td id=\"T_bb1c6918_787a_11eb_a137_380025ac0edfrow1_col2\" class=\"data row1 col2\" >1.8504</td>\n",
       "                        <td id=\"T_bb1c6918_787a_11eb_a137_380025ac0edfrow1_col3\" class=\"data row1 col3\" >0.9247</td>\n",
       "                        <td id=\"T_bb1c6918_787a_11eb_a137_380025ac0edfrow1_col4\" class=\"data row1 col4\" >0.0149</td>\n",
       "                        <td id=\"T_bb1c6918_787a_11eb_a137_380025ac0edfrow1_col5\" class=\"data row1 col5\" >0.0095</td>\n",
       "            </tr>\n",
       "            <tr>\n",
       "                        <th id=\"T_bb1c6918_787a_11eb_a137_380025ac0edflevel0_row2\" class=\"row_heading level0 row2\" >2</th>\n",
       "                        <td id=\"T_bb1c6918_787a_11eb_a137_380025ac0edfrow2_col0\" class=\"data row2 col0\" >1.2618</td>\n",
       "                        <td id=\"T_bb1c6918_787a_11eb_a137_380025ac0edfrow2_col1\" class=\"data row2 col1\" >2.6987</td>\n",
       "                        <td id=\"T_bb1c6918_787a_11eb_a137_380025ac0edfrow2_col2\" class=\"data row2 col2\" >1.6428</td>\n",
       "                        <td id=\"T_bb1c6918_787a_11eb_a137_380025ac0edfrow2_col3\" class=\"data row2 col3\" >0.9501</td>\n",
       "                        <td id=\"T_bb1c6918_787a_11eb_a137_380025ac0edfrow2_col4\" class=\"data row2 col4\" >0.0135</td>\n",
       "                        <td id=\"T_bb1c6918_787a_11eb_a137_380025ac0edfrow2_col5\" class=\"data row2 col5\" >0.0104</td>\n",
       "            </tr>\n",
       "            <tr>\n",
       "                        <th id=\"T_bb1c6918_787a_11eb_a137_380025ac0edflevel0_row3\" class=\"row_heading level0 row3\" >3</th>\n",
       "                        <td id=\"T_bb1c6918_787a_11eb_a137_380025ac0edfrow3_col0\" class=\"data row3 col0\" >1.2394</td>\n",
       "                        <td id=\"T_bb1c6918_787a_11eb_a137_380025ac0edfrow3_col1\" class=\"data row3 col1\" >3.0653</td>\n",
       "                        <td id=\"T_bb1c6918_787a_11eb_a137_380025ac0edfrow3_col2\" class=\"data row3 col2\" >1.7508</td>\n",
       "                        <td id=\"T_bb1c6918_787a_11eb_a137_380025ac0edfrow3_col3\" class=\"data row3 col3\" >0.9157</td>\n",
       "                        <td id=\"T_bb1c6918_787a_11eb_a137_380025ac0edfrow3_col4\" class=\"data row3 col4\" >0.0138</td>\n",
       "                        <td id=\"T_bb1c6918_787a_11eb_a137_380025ac0edfrow3_col5\" class=\"data row3 col5\" >0.0099</td>\n",
       "            </tr>\n",
       "            <tr>\n",
       "                        <th id=\"T_bb1c6918_787a_11eb_a137_380025ac0edflevel0_row4\" class=\"row_heading level0 row4\" >4</th>\n",
       "                        <td id=\"T_bb1c6918_787a_11eb_a137_380025ac0edfrow4_col0\" class=\"data row4 col0\" >1.2520</td>\n",
       "                        <td id=\"T_bb1c6918_787a_11eb_a137_380025ac0edfrow4_col1\" class=\"data row4 col1\" >3.1225</td>\n",
       "                        <td id=\"T_bb1c6918_787a_11eb_a137_380025ac0edfrow4_col2\" class=\"data row4 col2\" >1.7670</td>\n",
       "                        <td id=\"T_bb1c6918_787a_11eb_a137_380025ac0edfrow4_col3\" class=\"data row4 col3\" >0.9308</td>\n",
       "                        <td id=\"T_bb1c6918_787a_11eb_a137_380025ac0edfrow4_col4\" class=\"data row4 col4\" >0.0140</td>\n",
       "                        <td id=\"T_bb1c6918_787a_11eb_a137_380025ac0edfrow4_col5\" class=\"data row4 col5\" >0.0101</td>\n",
       "            </tr>\n",
       "            <tr>\n",
       "                        <th id=\"T_bb1c6918_787a_11eb_a137_380025ac0edflevel0_row5\" class=\"row_heading level0 row5\" >5</th>\n",
       "                        <td id=\"T_bb1c6918_787a_11eb_a137_380025ac0edfrow5_col0\" class=\"data row5 col0\" >0.9755</td>\n",
       "                        <td id=\"T_bb1c6918_787a_11eb_a137_380025ac0edfrow5_col1\" class=\"data row5 col1\" >1.7522</td>\n",
       "                        <td id=\"T_bb1c6918_787a_11eb_a137_380025ac0edfrow5_col2\" class=\"data row5 col2\" >1.3237</td>\n",
       "                        <td id=\"T_bb1c6918_787a_11eb_a137_380025ac0edfrow5_col3\" class=\"data row5 col3\" >0.9513</td>\n",
       "                        <td id=\"T_bb1c6918_787a_11eb_a137_380025ac0edfrow5_col4\" class=\"data row5 col4\" >0.0106</td>\n",
       "                        <td id=\"T_bb1c6918_787a_11eb_a137_380025ac0edfrow5_col5\" class=\"data row5 col5\" >0.0078</td>\n",
       "            </tr>\n",
       "            <tr>\n",
       "                        <th id=\"T_bb1c6918_787a_11eb_a137_380025ac0edflevel0_row6\" class=\"row_heading level0 row6\" >6</th>\n",
       "                        <td id=\"T_bb1c6918_787a_11eb_a137_380025ac0edfrow6_col0\" class=\"data row6 col0\" >1.4872</td>\n",
       "                        <td id=\"T_bb1c6918_787a_11eb_a137_380025ac0edfrow6_col1\" class=\"data row6 col1\" >6.3209</td>\n",
       "                        <td id=\"T_bb1c6918_787a_11eb_a137_380025ac0edfrow6_col2\" class=\"data row6 col2\" >2.5141</td>\n",
       "                        <td id=\"T_bb1c6918_787a_11eb_a137_380025ac0edfrow6_col3\" class=\"data row6 col3\" >0.8620</td>\n",
       "                        <td id=\"T_bb1c6918_787a_11eb_a137_380025ac0edfrow6_col4\" class=\"data row6 col4\" >0.0197</td>\n",
       "                        <td id=\"T_bb1c6918_787a_11eb_a137_380025ac0edfrow6_col5\" class=\"data row6 col5\" >0.0119</td>\n",
       "            </tr>\n",
       "            <tr>\n",
       "                        <th id=\"T_bb1c6918_787a_11eb_a137_380025ac0edflevel0_row7\" class=\"row_heading level0 row7\" >7</th>\n",
       "                        <td id=\"T_bb1c6918_787a_11eb_a137_380025ac0edfrow7_col0\" class=\"data row7 col0\" >1.1116</td>\n",
       "                        <td id=\"T_bb1c6918_787a_11eb_a137_380025ac0edfrow7_col1\" class=\"data row7 col1\" >2.1665</td>\n",
       "                        <td id=\"T_bb1c6918_787a_11eb_a137_380025ac0edfrow7_col2\" class=\"data row7 col2\" >1.4719</td>\n",
       "                        <td id=\"T_bb1c6918_787a_11eb_a137_380025ac0edfrow7_col3\" class=\"data row7 col3\" >0.9360</td>\n",
       "                        <td id=\"T_bb1c6918_787a_11eb_a137_380025ac0edfrow7_col4\" class=\"data row7 col4\" >0.0117</td>\n",
       "                        <td id=\"T_bb1c6918_787a_11eb_a137_380025ac0edfrow7_col5\" class=\"data row7 col5\" >0.0089</td>\n",
       "            </tr>\n",
       "            <tr>\n",
       "                        <th id=\"T_bb1c6918_787a_11eb_a137_380025ac0edflevel0_row8\" class=\"row_heading level0 row8\" >8</th>\n",
       "                        <td id=\"T_bb1c6918_787a_11eb_a137_380025ac0edfrow8_col0\" class=\"data row8 col0\" >1.1412</td>\n",
       "                        <td id=\"T_bb1c6918_787a_11eb_a137_380025ac0edfrow8_col1\" class=\"data row8 col1\" >3.0678</td>\n",
       "                        <td id=\"T_bb1c6918_787a_11eb_a137_380025ac0edfrow8_col2\" class=\"data row8 col2\" >1.7515</td>\n",
       "                        <td id=\"T_bb1c6918_787a_11eb_a137_380025ac0edfrow8_col3\" class=\"data row8 col3\" >0.9375</td>\n",
       "                        <td id=\"T_bb1c6918_787a_11eb_a137_380025ac0edfrow8_col4\" class=\"data row8 col4\" >0.0136</td>\n",
       "                        <td id=\"T_bb1c6918_787a_11eb_a137_380025ac0edfrow8_col5\" class=\"data row8 col5\" >0.0091</td>\n",
       "            </tr>\n",
       "            <tr>\n",
       "                        <th id=\"T_bb1c6918_787a_11eb_a137_380025ac0edflevel0_row9\" class=\"row_heading level0 row9\" >9</th>\n",
       "                        <td id=\"T_bb1c6918_787a_11eb_a137_380025ac0edfrow9_col0\" class=\"data row9 col0\" >1.2253</td>\n",
       "                        <td id=\"T_bb1c6918_787a_11eb_a137_380025ac0edfrow9_col1\" class=\"data row9 col1\" >3.0460</td>\n",
       "                        <td id=\"T_bb1c6918_787a_11eb_a137_380025ac0edfrow9_col2\" class=\"data row9 col2\" >1.7453</td>\n",
       "                        <td id=\"T_bb1c6918_787a_11eb_a137_380025ac0edfrow9_col3\" class=\"data row9 col3\" >0.9519</td>\n",
       "                        <td id=\"T_bb1c6918_787a_11eb_a137_380025ac0edfrow9_col4\" class=\"data row9 col4\" >0.0137</td>\n",
       "                        <td id=\"T_bb1c6918_787a_11eb_a137_380025ac0edfrow9_col5\" class=\"data row9 col5\" >0.0099</td>\n",
       "            </tr>\n",
       "            <tr>\n",
       "                        <th id=\"T_bb1c6918_787a_11eb_a137_380025ac0edflevel0_row10\" class=\"row_heading level0 row10\" >Mean</th>\n",
       "                        <td id=\"T_bb1c6918_787a_11eb_a137_380025ac0edfrow10_col0\" class=\"data row10 col0\" >1.2175</td>\n",
       "                        <td id=\"T_bb1c6918_787a_11eb_a137_380025ac0edfrow10_col1\" class=\"data row10 col1\" >3.1589</td>\n",
       "                        <td id=\"T_bb1c6918_787a_11eb_a137_380025ac0edfrow10_col2\" class=\"data row10 col2\" >1.7528</td>\n",
       "                        <td id=\"T_bb1c6918_787a_11eb_a137_380025ac0edfrow10_col3\" class=\"data row10 col3\" >0.9301</td>\n",
       "                        <td id=\"T_bb1c6918_787a_11eb_a137_380025ac0edfrow10_col4\" class=\"data row10 col4\" >0.0139</td>\n",
       "                        <td id=\"T_bb1c6918_787a_11eb_a137_380025ac0edfrow10_col5\" class=\"data row10 col5\" >0.0098</td>\n",
       "            </tr>\n",
       "            <tr>\n",
       "                        <th id=\"T_bb1c6918_787a_11eb_a137_380025ac0edflevel0_row11\" class=\"row_heading level0 row11\" >SD</th>\n",
       "                        <td id=\"T_bb1c6918_787a_11eb_a137_380025ac0edfrow11_col0\" class=\"data row11 col0\" >0.1275</td>\n",
       "                        <td id=\"T_bb1c6918_787a_11eb_a137_380025ac0edfrow11_col1\" class=\"data row11 col1\" >1.1545</td>\n",
       "                        <td id=\"T_bb1c6918_787a_11eb_a137_380025ac0edfrow11_col2\" class=\"data row11 col2\" >0.2943</td>\n",
       "                        <td id=\"T_bb1c6918_787a_11eb_a137_380025ac0edfrow11_col3\" class=\"data row11 col3\" >0.0253</td>\n",
       "                        <td id=\"T_bb1c6918_787a_11eb_a137_380025ac0edfrow11_col4\" class=\"data row11 col4\" >0.0022</td>\n",
       "                        <td id=\"T_bb1c6918_787a_11eb_a137_380025ac0edfrow11_col5\" class=\"data row11 col5\" >0.0010</td>\n",
       "            </tr>\n",
       "    </tbody></table>"
      ],
      "text/plain": [
       "<pandas.io.formats.style.Styler at 0x1549766ff10>"
      ]
     },
     "metadata": {},
     "output_type": "display_data"
    }
   ],
   "source": [
    "xgboost = create_model('lightgbm')\n",
    "stacker2 = stack_models(top3, meta_model = xgboost)"
   ]
  },
  {
   "cell_type": "code",
   "execution_count": 116,
   "metadata": {},
   "outputs": [
    {
     "data": {
      "text/html": [
       "<style  type=\"text/css\" >\n",
       "#T_2925b263_787b_11eb_8d82_380025ac0edfrow10_col0,#T_2925b263_787b_11eb_8d82_380025ac0edfrow10_col1,#T_2925b263_787b_11eb_8d82_380025ac0edfrow10_col2,#T_2925b263_787b_11eb_8d82_380025ac0edfrow10_col3,#T_2925b263_787b_11eb_8d82_380025ac0edfrow10_col4,#T_2925b263_787b_11eb_8d82_380025ac0edfrow10_col5{\n",
       "            background:  yellow;\n",
       "        }</style><table id=\"T_2925b263_787b_11eb_8d82_380025ac0edf\" ><thead>    <tr>        <th class=\"blank level0\" ></th>        <th class=\"col_heading level0 col0\" >MAE</th>        <th class=\"col_heading level0 col1\" >MSE</th>        <th class=\"col_heading level0 col2\" >RMSE</th>        <th class=\"col_heading level0 col3\" >R2</th>        <th class=\"col_heading level0 col4\" >RMSLE</th>        <th class=\"col_heading level0 col5\" >MAPE</th>    </tr></thead><tbody>\n",
       "                <tr>\n",
       "                        <th id=\"T_2925b263_787b_11eb_8d82_380025ac0edflevel0_row0\" class=\"row_heading level0 row0\" >0</th>\n",
       "                        <td id=\"T_2925b263_787b_11eb_8d82_380025ac0edfrow0_col0\" class=\"data row0 col0\" >2.5712</td>\n",
       "                        <td id=\"T_2925b263_787b_11eb_8d82_380025ac0edfrow0_col1\" class=\"data row0 col1\" >10.2291</td>\n",
       "                        <td id=\"T_2925b263_787b_11eb_8d82_380025ac0edfrow0_col2\" class=\"data row0 col2\" >3.1983</td>\n",
       "                        <td id=\"T_2925b263_787b_11eb_8d82_380025ac0edfrow0_col3\" class=\"data row0 col3\" >0.7934</td>\n",
       "                        <td id=\"T_2925b263_787b_11eb_8d82_380025ac0edfrow0_col4\" class=\"data row0 col4\" >0.0258</td>\n",
       "                        <td id=\"T_2925b263_787b_11eb_8d82_380025ac0edfrow0_col5\" class=\"data row0 col5\" >0.0208</td>\n",
       "            </tr>\n",
       "            <tr>\n",
       "                        <th id=\"T_2925b263_787b_11eb_8d82_380025ac0edflevel0_row1\" class=\"row_heading level0 row1\" >1</th>\n",
       "                        <td id=\"T_2925b263_787b_11eb_8d82_380025ac0edfrow1_col0\" class=\"data row1 col0\" >2.6126</td>\n",
       "                        <td id=\"T_2925b263_787b_11eb_8d82_380025ac0edfrow1_col1\" class=\"data row1 col1\" >11.4155</td>\n",
       "                        <td id=\"T_2925b263_787b_11eb_8d82_380025ac0edfrow1_col2\" class=\"data row1 col2\" >3.3787</td>\n",
       "                        <td id=\"T_2925b263_787b_11eb_8d82_380025ac0edfrow1_col3\" class=\"data row1 col3\" >0.7490</td>\n",
       "                        <td id=\"T_2925b263_787b_11eb_8d82_380025ac0edfrow1_col4\" class=\"data row1 col4\" >0.0273</td>\n",
       "                        <td id=\"T_2925b263_787b_11eb_8d82_380025ac0edfrow1_col5\" class=\"data row1 col5\" >0.0214</td>\n",
       "            </tr>\n",
       "            <tr>\n",
       "                        <th id=\"T_2925b263_787b_11eb_8d82_380025ac0edflevel0_row2\" class=\"row_heading level0 row2\" >2</th>\n",
       "                        <td id=\"T_2925b263_787b_11eb_8d82_380025ac0edfrow2_col0\" class=\"data row2 col0\" >3.0561</td>\n",
       "                        <td id=\"T_2925b263_787b_11eb_8d82_380025ac0edfrow2_col1\" class=\"data row2 col1\" >13.5967</td>\n",
       "                        <td id=\"T_2925b263_787b_11eb_8d82_380025ac0edfrow2_col2\" class=\"data row2 col2\" >3.6874</td>\n",
       "                        <td id=\"T_2925b263_787b_11eb_8d82_380025ac0edfrow2_col3\" class=\"data row2 col3\" >0.7487</td>\n",
       "                        <td id=\"T_2925b263_787b_11eb_8d82_380025ac0edfrow2_col4\" class=\"data row2 col4\" >0.0299</td>\n",
       "                        <td id=\"T_2925b263_787b_11eb_8d82_380025ac0edfrow2_col5\" class=\"data row2 col5\" >0.0250</td>\n",
       "            </tr>\n",
       "            <tr>\n",
       "                        <th id=\"T_2925b263_787b_11eb_8d82_380025ac0edflevel0_row3\" class=\"row_heading level0 row3\" >3</th>\n",
       "                        <td id=\"T_2925b263_787b_11eb_8d82_380025ac0edfrow3_col0\" class=\"data row3 col0\" >2.4824</td>\n",
       "                        <td id=\"T_2925b263_787b_11eb_8d82_380025ac0edfrow3_col1\" class=\"data row3 col1\" >9.1902</td>\n",
       "                        <td id=\"T_2925b263_787b_11eb_8d82_380025ac0edfrow3_col2\" class=\"data row3 col2\" >3.0315</td>\n",
       "                        <td id=\"T_2925b263_787b_11eb_8d82_380025ac0edfrow3_col3\" class=\"data row3 col3\" >0.7472</td>\n",
       "                        <td id=\"T_2925b263_787b_11eb_8d82_380025ac0edfrow3_col4\" class=\"data row3 col4\" >0.0239</td>\n",
       "                        <td id=\"T_2925b263_787b_11eb_8d82_380025ac0edfrow3_col5\" class=\"data row3 col5\" >0.0198</td>\n",
       "            </tr>\n",
       "            <tr>\n",
       "                        <th id=\"T_2925b263_787b_11eb_8d82_380025ac0edflevel0_row4\" class=\"row_heading level0 row4\" >4</th>\n",
       "                        <td id=\"T_2925b263_787b_11eb_8d82_380025ac0edfrow4_col0\" class=\"data row4 col0\" >2.7587</td>\n",
       "                        <td id=\"T_2925b263_787b_11eb_8d82_380025ac0edfrow4_col1\" class=\"data row4 col1\" >11.2140</td>\n",
       "                        <td id=\"T_2925b263_787b_11eb_8d82_380025ac0edfrow4_col2\" class=\"data row4 col2\" >3.3487</td>\n",
       "                        <td id=\"T_2925b263_787b_11eb_8d82_380025ac0edfrow4_col3\" class=\"data row4 col3\" >0.7516</td>\n",
       "                        <td id=\"T_2925b263_787b_11eb_8d82_380025ac0edfrow4_col4\" class=\"data row4 col4\" >0.0270</td>\n",
       "                        <td id=\"T_2925b263_787b_11eb_8d82_380025ac0edfrow4_col5\" class=\"data row4 col5\" >0.0224</td>\n",
       "            </tr>\n",
       "            <tr>\n",
       "                        <th id=\"T_2925b263_787b_11eb_8d82_380025ac0edflevel0_row5\" class=\"row_heading level0 row5\" >5</th>\n",
       "                        <td id=\"T_2925b263_787b_11eb_8d82_380025ac0edfrow5_col0\" class=\"data row5 col0\" >2.4569</td>\n",
       "                        <td id=\"T_2925b263_787b_11eb_8d82_380025ac0edfrow5_col1\" class=\"data row5 col1\" >8.8236</td>\n",
       "                        <td id=\"T_2925b263_787b_11eb_8d82_380025ac0edfrow5_col2\" class=\"data row5 col2\" >2.9705</td>\n",
       "                        <td id=\"T_2925b263_787b_11eb_8d82_380025ac0edfrow5_col3\" class=\"data row5 col3\" >0.7549</td>\n",
       "                        <td id=\"T_2925b263_787b_11eb_8d82_380025ac0edfrow5_col4\" class=\"data row5 col4\" >0.0236</td>\n",
       "                        <td id=\"T_2925b263_787b_11eb_8d82_380025ac0edfrow5_col5\" class=\"data row5 col5\" >0.0196</td>\n",
       "            </tr>\n",
       "            <tr>\n",
       "                        <th id=\"T_2925b263_787b_11eb_8d82_380025ac0edflevel0_row6\" class=\"row_heading level0 row6\" >6</th>\n",
       "                        <td id=\"T_2925b263_787b_11eb_8d82_380025ac0edfrow6_col0\" class=\"data row6 col0\" >3.0628</td>\n",
       "                        <td id=\"T_2925b263_787b_11eb_8d82_380025ac0edfrow6_col1\" class=\"data row6 col1\" >17.6025</td>\n",
       "                        <td id=\"T_2925b263_787b_11eb_8d82_380025ac0edfrow6_col2\" class=\"data row6 col2\" >4.1955</td>\n",
       "                        <td id=\"T_2925b263_787b_11eb_8d82_380025ac0edfrow6_col3\" class=\"data row6 col3\" >0.6158</td>\n",
       "                        <td id=\"T_2925b263_787b_11eb_8d82_380025ac0edfrow6_col4\" class=\"data row6 col4\" >0.0335</td>\n",
       "                        <td id=\"T_2925b263_787b_11eb_8d82_380025ac0edfrow6_col5\" class=\"data row6 col5\" >0.0248</td>\n",
       "            </tr>\n",
       "            <tr>\n",
       "                        <th id=\"T_2925b263_787b_11eb_8d82_380025ac0edflevel0_row7\" class=\"row_heading level0 row7\" >7</th>\n",
       "                        <td id=\"T_2925b263_787b_11eb_8d82_380025ac0edfrow7_col0\" class=\"data row7 col0\" >2.6544</td>\n",
       "                        <td id=\"T_2925b263_787b_11eb_8d82_380025ac0edfrow7_col1\" class=\"data row7 col1\" >10.1883</td>\n",
       "                        <td id=\"T_2925b263_787b_11eb_8d82_380025ac0edfrow7_col2\" class=\"data row7 col2\" >3.1919</td>\n",
       "                        <td id=\"T_2925b263_787b_11eb_8d82_380025ac0edfrow7_col3\" class=\"data row7 col3\" >0.6988</td>\n",
       "                        <td id=\"T_2925b263_787b_11eb_8d82_380025ac0edfrow7_col4\" class=\"data row7 col4\" >0.0255</td>\n",
       "                        <td id=\"T_2925b263_787b_11eb_8d82_380025ac0edfrow7_col5\" class=\"data row7 col5\" >0.0214</td>\n",
       "            </tr>\n",
       "            <tr>\n",
       "                        <th id=\"T_2925b263_787b_11eb_8d82_380025ac0edflevel0_row8\" class=\"row_heading level0 row8\" >8</th>\n",
       "                        <td id=\"T_2925b263_787b_11eb_8d82_380025ac0edfrow8_col0\" class=\"data row8 col0\" >2.6569</td>\n",
       "                        <td id=\"T_2925b263_787b_11eb_8d82_380025ac0edfrow8_col1\" class=\"data row8 col1\" >12.4674</td>\n",
       "                        <td id=\"T_2925b263_787b_11eb_8d82_380025ac0edfrow8_col2\" class=\"data row8 col2\" >3.5309</td>\n",
       "                        <td id=\"T_2925b263_787b_11eb_8d82_380025ac0edfrow8_col3\" class=\"data row8 col3\" >0.7459</td>\n",
       "                        <td id=\"T_2925b263_787b_11eb_8d82_380025ac0edfrow8_col4\" class=\"data row8 col4\" >0.0279</td>\n",
       "                        <td id=\"T_2925b263_787b_11eb_8d82_380025ac0edfrow8_col5\" class=\"data row8 col5\" >0.0213</td>\n",
       "            </tr>\n",
       "            <tr>\n",
       "                        <th id=\"T_2925b263_787b_11eb_8d82_380025ac0edflevel0_row9\" class=\"row_heading level0 row9\" >9</th>\n",
       "                        <td id=\"T_2925b263_787b_11eb_8d82_380025ac0edfrow9_col0\" class=\"data row9 col0\" >3.0424</td>\n",
       "                        <td id=\"T_2925b263_787b_11eb_8d82_380025ac0edfrow9_col1\" class=\"data row9 col1\" >14.2075</td>\n",
       "                        <td id=\"T_2925b263_787b_11eb_8d82_380025ac0edfrow9_col2\" class=\"data row9 col2\" >3.7693</td>\n",
       "                        <td id=\"T_2925b263_787b_11eb_8d82_380025ac0edfrow9_col3\" class=\"data row9 col3\" >0.7757</td>\n",
       "                        <td id=\"T_2925b263_787b_11eb_8d82_380025ac0edfrow9_col4\" class=\"data row9 col4\" >0.0307</td>\n",
       "                        <td id=\"T_2925b263_787b_11eb_8d82_380025ac0edfrow9_col5\" class=\"data row9 col5\" >0.0249</td>\n",
       "            </tr>\n",
       "            <tr>\n",
       "                        <th id=\"T_2925b263_787b_11eb_8d82_380025ac0edflevel0_row10\" class=\"row_heading level0 row10\" >Mean</th>\n",
       "                        <td id=\"T_2925b263_787b_11eb_8d82_380025ac0edfrow10_col0\" class=\"data row10 col0\" >2.7354</td>\n",
       "                        <td id=\"T_2925b263_787b_11eb_8d82_380025ac0edfrow10_col1\" class=\"data row10 col1\" >11.8935</td>\n",
       "                        <td id=\"T_2925b263_787b_11eb_8d82_380025ac0edfrow10_col2\" class=\"data row10 col2\" >3.4303</td>\n",
       "                        <td id=\"T_2925b263_787b_11eb_8d82_380025ac0edfrow10_col3\" class=\"data row10 col3\" >0.7381</td>\n",
       "                        <td id=\"T_2925b263_787b_11eb_8d82_380025ac0edfrow10_col4\" class=\"data row10 col4\" >0.0275</td>\n",
       "                        <td id=\"T_2925b263_787b_11eb_8d82_380025ac0edfrow10_col5\" class=\"data row10 col5\" >0.0221</td>\n",
       "            </tr>\n",
       "            <tr>\n",
       "                        <th id=\"T_2925b263_787b_11eb_8d82_380025ac0edflevel0_row11\" class=\"row_heading level0 row11\" >SD</th>\n",
       "                        <td id=\"T_2925b263_787b_11eb_8d82_380025ac0edfrow11_col0\" class=\"data row11 col0\" >0.2239</td>\n",
       "                        <td id=\"T_2925b263_787b_11eb_8d82_380025ac0edfrow11_col1\" class=\"data row11 col1\" >2.5353</td>\n",
       "                        <td id=\"T_2925b263_787b_11eb_8d82_380025ac0edfrow11_col2\" class=\"data row11 col2\" >0.3560</td>\n",
       "                        <td id=\"T_2925b263_787b_11eb_8d82_380025ac0edfrow11_col3\" class=\"data row11 col3\" >0.0467</td>\n",
       "                        <td id=\"T_2925b263_787b_11eb_8d82_380025ac0edfrow11_col4\" class=\"data row11 col4\" >0.0030</td>\n",
       "                        <td id=\"T_2925b263_787b_11eb_8d82_380025ac0edfrow11_col5\" class=\"data row11 col5\" >0.0020</td>\n",
       "            </tr>\n",
       "    </tbody></table>"
      ],
      "text/plain": [
       "<pandas.io.formats.style.Styler at 0x154a2224040>"
      ]
     },
     "metadata": {},
     "output_type": "display_data"
    }
   ],
   "source": [
    "tuned_et = tune_model(dt)"
   ]
  },
  {
   "cell_type": "code",
   "execution_count": 2,
   "metadata": {},
   "outputs": [
    {
     "name": "stdout",
     "output_type": "stream",
     "text": [
      "(1503, 6)\n"
     ]
    },
    {
     "data": {
      "text/html": [
       "<div>\n",
       "<style scoped>\n",
       "    .dataframe tbody tr th:only-of-type {\n",
       "        vertical-align: middle;\n",
       "    }\n",
       "\n",
       "    .dataframe tbody tr th {\n",
       "        vertical-align: top;\n",
       "    }\n",
       "\n",
       "    .dataframe thead th {\n",
       "        text-align: right;\n",
       "    }\n",
       "</style>\n",
       "<table border=\"1\" class=\"dataframe\">\n",
       "  <thead>\n",
       "    <tr style=\"text-align: right;\">\n",
       "      <th></th>\n",
       "      <th>freq</th>\n",
       "      <th>angle</th>\n",
       "      <th>length</th>\n",
       "      <th>velocity</th>\n",
       "      <th>thickness</th>\n",
       "      <th>pressure</th>\n",
       "    </tr>\n",
       "  </thead>\n",
       "  <tbody>\n",
       "    <tr>\n",
       "      <th>0</th>\n",
       "      <td>800</td>\n",
       "      <td>0.0</td>\n",
       "      <td>0.3048</td>\n",
       "      <td>71.3</td>\n",
       "      <td>0.002663</td>\n",
       "      <td>126.201</td>\n",
       "    </tr>\n",
       "    <tr>\n",
       "      <th>1</th>\n",
       "      <td>1000</td>\n",
       "      <td>0.0</td>\n",
       "      <td>0.3048</td>\n",
       "      <td>71.3</td>\n",
       "      <td>0.002663</td>\n",
       "      <td>125.201</td>\n",
       "    </tr>\n",
       "    <tr>\n",
       "      <th>2</th>\n",
       "      <td>1250</td>\n",
       "      <td>0.0</td>\n",
       "      <td>0.3048</td>\n",
       "      <td>71.3</td>\n",
       "      <td>0.002663</td>\n",
       "      <td>125.951</td>\n",
       "    </tr>\n",
       "    <tr>\n",
       "      <th>3</th>\n",
       "      <td>1600</td>\n",
       "      <td>0.0</td>\n",
       "      <td>0.3048</td>\n",
       "      <td>71.3</td>\n",
       "      <td>0.002663</td>\n",
       "      <td>127.591</td>\n",
       "    </tr>\n",
       "    <tr>\n",
       "      <th>4</th>\n",
       "      <td>2000</td>\n",
       "      <td>0.0</td>\n",
       "      <td>0.3048</td>\n",
       "      <td>71.3</td>\n",
       "      <td>0.002663</td>\n",
       "      <td>127.461</td>\n",
       "    </tr>\n",
       "  </tbody>\n",
       "</table>\n",
       "</div>"
      ],
      "text/plain": [
       "   freq  angle  length  velocity  thickness  pressure\n",
       "0   800    0.0  0.3048      71.3   0.002663   126.201\n",
       "1  1000    0.0  0.3048      71.3   0.002663   125.201\n",
       "2  1250    0.0  0.3048      71.3   0.002663   125.951\n",
       "3  1600    0.0  0.3048      71.3   0.002663   127.591\n",
       "4  2000    0.0  0.3048      71.3   0.002663   127.461"
      ]
     },
     "execution_count": 2,
     "metadata": {},
     "output_type": "execute_result"
    }
   ],
   "source": [
    "features = ['freq','angle','length','velocity','thickness','pressure']\n",
    "df = pd.read_table('./datasets/airfoil_self_noise.dat',names = features )\n",
    "print(df.shape)\n",
    "df.head()"
   ]
  },
  {
   "cell_type": "code",
   "execution_count": 15,
   "metadata": {},
   "outputs": [],
   "source": [
    "X = df.copy()\n",
    "X = X.drop(['pressure'],axis=1)\n",
    "y = df[['pressure']]"
   ]
  },
  {
   "cell_type": "code",
   "execution_count": 16,
   "metadata": {},
   "outputs": [],
   "source": [
    "from sklearn import preprocessing\n",
    "scaler_x = preprocessing.MinMaxScaler()\n",
    "X_scaled = scaler_x.fit_transform(X)\n",
    "scaler_y = preprocessing.MinMaxScaler()\n",
    "y_scaled = scaler_y.fit_transform(np.array(y).reshape(-1,1))\n",
    "y_scaled = y_scaled.reshape(-1)\n",
    "train_X, test_X, train_y, test_y = train_test_split(X_scaled, y_scaled, random_state=1)\n",
    "# val_y = scaler_y.inverse_transform(np.array(val_y).reshape(-1,1))"
   ]
  },
  {
   "cell_type": "code",
   "execution_count": 107,
   "metadata": {},
   "outputs": [],
   "source": [
    "models = []\n",
    "models.append(('LR', LinearRegression()))\n",
    "models.append(('RD', Ridge()))\n",
    "models.append(('LAS', Lasso()))\n",
    "models.append(('DT', DecisionTreeRegressor()))\n",
    "models.append(('MLP', MLPRegressor()))\n",
    "models.append(('SVR',SVR()))\n",
    "models.append(('ET',ExtraTreesRegressor()))\n",
    "models.append(('XGB', XGBRegressor()))"
   ]
  },
  {
   "cell_type": "code",
   "execution_count": 191,
   "metadata": {},
   "outputs": [],
   "source": [
    "def compare_models(a,b,c,d,models):\n",
    "    print('\\nCompare Multiple Classifiers:')\n",
    "    print('\\nK-Fold Cross-Validation Accuracy:\\n')\n",
    "    \n",
    "    resultsAccuracy = []\n",
    "    names = []\n",
    "    for name, model in models:\n",
    "        model.fit(a,b)\n",
    "        kfold = KFold(n_splits=10,shuffle=True,random_state = 75)\n",
    "        accuracy_results = cross_val_score(model, a,b, cv=kfold)\n",
    "        resultsAccuracy.append(accuracy_results)\n",
    "        names.append(name)\n",
    "        accuracyMessage = \"%s: %f (%f)\" % (name, accuracy_results.mean(), accuracy_results.std())\n",
    "        print(accuracyMessage)\n",
    "        \n",
    "    # boxplot algorithm comparison\n",
    "    fig = plt.figure()\n",
    "    fig.suptitle('Algorithm Comparison: R^2')\n",
    "    ax = fig.add_subplot(111)\n",
    "    plt.boxplot(height=resultsAccuracy)\n",
    "    ax.set_xticklabels(names)\n",
    "    ax.set_ylabel('Cross-Validation: R^2')\n",
    "    plt.show()\n",
    "    return"
   ]
  },
  {
   "cell_type": "code",
   "execution_count": 192,
   "metadata": {},
   "outputs": [
    {
     "name": "stdout",
     "output_type": "stream",
     "text": [
      "\n",
      "Compare Multiple Classifiers:\n",
      "\n",
      "K-Fold Cross-Validation Accuracy:\n",
      "\n",
      "LR: 0.521027 (0.112379)\n",
      "RD: 0.520691 (0.109472)\n",
      "LAS: -0.010131 (0.011227)\n",
      "DT: 0.825091 (0.041040)\n",
      "MLP: 0.617404 (0.101643)\n",
      "SVR: 0.743603 (0.071889)\n",
      "ET: 0.941518 (0.012895)\n",
      "XGB: 0.939339 (0.012916)\n"
     ]
    },
    {
     "ename": "TypeError",
     "evalue": "bar() missing 1 required positional argument: 'x'",
     "output_type": "error",
     "traceback": [
      "\u001b[1;31m---------------------------------------------------------------------------\u001b[0m",
      "\u001b[1;31mTypeError\u001b[0m                                 Traceback (most recent call last)",
      "\u001b[1;32m<ipython-input-192-805b0c6958ad>\u001b[0m in \u001b[0;36m<module>\u001b[1;34m\u001b[0m\n\u001b[1;32m----> 1\u001b[1;33m \u001b[0mcompare_models\u001b[0m\u001b[1;33m(\u001b[0m\u001b[0mtrain_X\u001b[0m\u001b[1;33m,\u001b[0m \u001b[0mtrain_y\u001b[0m\u001b[1;33m,\u001b[0m \u001b[0mtest_X\u001b[0m\u001b[1;33m,\u001b[0m \u001b[0mtest_y\u001b[0m\u001b[1;33m,\u001b[0m \u001b[0mmodels\u001b[0m\u001b[1;33m)\u001b[0m\u001b[1;33m\u001b[0m\u001b[1;33m\u001b[0m\u001b[0m\n\u001b[0m",
      "\u001b[1;32m<ipython-input-191-872e94650e28>\u001b[0m in \u001b[0;36mcompare_models\u001b[1;34m(a, b, c, d, models)\u001b[0m\n\u001b[0;32m     18\u001b[0m     \u001b[0mfig\u001b[0m\u001b[1;33m.\u001b[0m\u001b[0msuptitle\u001b[0m\u001b[1;33m(\u001b[0m\u001b[1;34m'Algorithm Comparison: R^2'\u001b[0m\u001b[1;33m)\u001b[0m\u001b[1;33m\u001b[0m\u001b[1;33m\u001b[0m\u001b[0m\n\u001b[0;32m     19\u001b[0m     \u001b[0max\u001b[0m \u001b[1;33m=\u001b[0m \u001b[0mfig\u001b[0m\u001b[1;33m.\u001b[0m\u001b[0madd_subplot\u001b[0m\u001b[1;33m(\u001b[0m\u001b[1;36m111\u001b[0m\u001b[1;33m)\u001b[0m\u001b[1;33m\u001b[0m\u001b[1;33m\u001b[0m\u001b[0m\n\u001b[1;32m---> 20\u001b[1;33m     \u001b[0mplt\u001b[0m\u001b[1;33m.\u001b[0m\u001b[0mbar\u001b[0m\u001b[1;33m(\u001b[0m\u001b[0mheight\u001b[0m\u001b[1;33m=\u001b[0m\u001b[0mresultsAccuracy\u001b[0m\u001b[1;33m)\u001b[0m\u001b[1;33m\u001b[0m\u001b[1;33m\u001b[0m\u001b[0m\n\u001b[0m\u001b[0;32m     21\u001b[0m     \u001b[0max\u001b[0m\u001b[1;33m.\u001b[0m\u001b[0mset_xticklabels\u001b[0m\u001b[1;33m(\u001b[0m\u001b[0mnames\u001b[0m\u001b[1;33m)\u001b[0m\u001b[1;33m\u001b[0m\u001b[1;33m\u001b[0m\u001b[0m\n\u001b[0;32m     22\u001b[0m     \u001b[0max\u001b[0m\u001b[1;33m.\u001b[0m\u001b[0mset_ylabel\u001b[0m\u001b[1;33m(\u001b[0m\u001b[1;34m'Cross-Validation: R^2'\u001b[0m\u001b[1;33m)\u001b[0m\u001b[1;33m\u001b[0m\u001b[1;33m\u001b[0m\u001b[0m\n",
      "\u001b[1;31mTypeError\u001b[0m: bar() missing 1 required positional argument: 'x'"
     ]
    },
    {
     "data": {
      "image/png": "[encoded data removed]",
      "text/plain": [
       "<Figure size 432x288 with 1 Axes>"
      ]
     },
     "metadata": {
      "needs_background": "light"
     },
     "output_type": "display_data"
    }
   ],
   "source": [
    "compare_models(train_X, train_y, test_X, test_y, models)"
   ]
  },
  {
   "cell_type": "markdown",
   "metadata": {},
   "source": [
    "About LASSO:\n",
    "It's not impossible to get an R^2 value less than 0.\n",
    "R^2 is a metric used to measure the performance of a regressor. The optimal score of R^2 metric is 1. If any regressor predicts a constant value, you should expect an R^2 score of 0 for that regressor. **But unexpectedly, you can get worse performance than that.**"
   ]
  },
  {
   "cell_type": "markdown",
   "metadata": {},
   "source": [
    "## Optimization "
   ]
  },
  {
   "cell_type": "code",
   "execution_count": 184,
   "metadata": {},
   "outputs": [],
   "source": [
    "models_opt = []"
   ]
  },
  {
   "cell_type": "markdown",
   "metadata": {},
   "source": [
    "#### Linear Regression: Has to hyperparameters to optimize."
   ]
  },
  {
   "cell_type": "code",
   "execution_count": 185,
   "metadata": {},
   "outputs": [],
   "source": [
    "LR = LinearRegression()\n",
    "models_opt.append(('LD*',LR))"
   ]
  },
  {
   "cell_type": "markdown",
   "metadata": {},
   "source": [
    "#### Ridge Regression"
   ]
  },
  {
   "cell_type": "code",
   "execution_count": 135,
   "metadata": {},
   "outputs": [
    {
     "name": "stdout",
     "output_type": "stream",
     "text": [
      "Wall time: 4.79 s\n"
     ]
    },
    {
     "data": {
      "text/plain": [
       "GridSearchCV(cv=10, estimator=Ridge(),\n",
       "             param_grid={'alpha': [0.0, 0.01, 0.02, 0.03, 0.04, 0.05, 0.06,\n",
       "                                   0.07, 0.08, 0.09, 0.1, 0.11, 0.12, 0.13,\n",
       "                                   0.14, 0.15, 0.16, 0.17, 0.18, 0.19, 0.2,\n",
       "                                   0.21, 0.22, 0.23, 0.24, 0.25, 0.26, 0.27,\n",
       "                                   0.28, 0.29, ...],\n",
       "                         'solver': ('svd', 'cholesky', 'lsqr')})"
      ]
     },
     "execution_count": 135,
     "metadata": {},
     "output_type": "execute_result"
    }
   ],
   "source": [
    "%%time\n",
    "Ridge_ = GridSearchCV(Ridge(), param_grid = {'alpha':[i for i in np.arange(0,1,0.01)],\\\n",
    "                                                'solver':('svd', 'cholesky', 'lsqr')},cv=10)\n",
    "Ridge_.fit(train_X,train_y)"
   ]
  },
  {
   "cell_type": "code",
   "execution_count": 186,
   "metadata": {},
   "outputs": [],
   "source": [
    "Ridge_opt = Ridge_.best_estimator_\n",
    "models_opt.append(('RD*',Ridge_opt))"
   ]
  },
  {
   "cell_type": "code",
   "execution_count": 137,
   "metadata": {},
   "outputs": [
    {
     "data": {
      "text/plain": [
       "[('LD*', LinearRegression()),\n",
       " ('RD*', Ridge(alpha=0.35000000000000003, solver='svd'))]"
      ]
     },
     "execution_count": 137,
     "metadata": {},
     "output_type": "execute_result"
    }
   ],
   "source": [
    "models_opt"
   ]
  },
  {
   "cell_type": "markdown",
   "metadata": {},
   "source": [
    "#### Lasso Regression"
   ]
  },
  {
   "cell_type": "code",
   "execution_count": 177,
   "metadata": {},
   "outputs": [
    {
     "name": "stdout",
     "output_type": "stream",
     "text": [
      "Wall time: 13.2 s\n"
     ]
    },
    {
     "data": {
      "text/plain": [
       "GridSearchCV(cv=10, estimator=Lasso(),\n",
       "             param_grid={'alpha': [0.0002, 0.0001, 0.001, 0.01, 0.1, 0.2, 0.5,\n",
       "                                   0.8, 1],\n",
       "                         'max_iter': [1000, 1500, 2000, 2500, 3000, 3500, 4000,\n",
       "                                      4500, 5000, 5500, 6000, 6500, 7000, 7500,\n",
       "                                      8000, 8500, 9000, 9500],\n",
       "                         'tol': [0.01, 0.001, 0.0001, 1e-05, 1e-06, 1e-07,\n",
       "                                 1e-08]})"
      ]
     },
     "execution_count": 177,
     "metadata": {},
     "output_type": "execute_result"
    }
   ],
   "source": [
    "%%time\n",
    "Lasso_ = GridSearchCV(Lasso(), param_grid = {'alpha':[0.0001, 0.0002,0.001,0.01,0.1,0.2,0.5,0.8,1],\\\n",
    "                                            'max_iter':[k for k in np.arange(1000,10000,500)],\n",
    "                                            'tol':[1e-2,1e-3,1e-4,1e-5,1e-6,1e-7,1e-8]},cv=10)\n",
    "Lasso_.fit(train_X,train_y)"
   ]
  },
  {
   "cell_type": "code",
   "execution_count": 187,
   "metadata": {},
   "outputs": [],
   "source": [
    "Lasso_opt = Lasso_.best_estimator_\n",
    "models_opt.append(('LAS*',Lasso_opt))"
   ]
  },
  {
   "cell_type": "code",
   "execution_count": 188,
   "metadata": {},
   "outputs": [
    {
     "name": "stdout",
     "output_type": "stream",
     "text": [
      "\n",
      "Compare Multiple Classifiers:\n",
      "\n",
      "K-Fold Cross-Validation Accuracy:\n",
      "\n",
      "LD*: 0.521027 (0.112379)\n",
      "RD*: 0.521074 (0.111340)\n",
      "LAS*: 0.521033 (0.111738)\n"
     ]
    },
    {
     "data": {
      "image/png": "[encoded data removed]",
      "text/plain": [
       "<Figure size 432x288 with 1 Axes>"
      ]
     },
     "metadata": {
      "needs_background": "light"
     },
     "output_type": "display_data"
    }
   ],
   "source": [
    "compare_models(train_X, train_y, test_X, test_y, models_opt)"
   ]
  },
  {
   "cell_type": "markdown",
   "metadata": {},
   "source": [
    "Παρατηρούμε ότι στις περιπτώσεις Ridge&Lasso Regression το γεγονός ότι $\\alpha\\rightarrow 0$, σημαίνει ότι το πρόβλημά μας τείνει σε αυτό της απλής γραμμικής παλινδρόμησης επομένως παίρνουμε τους ίδιους συντελεστές με αυτό, γιαυτό και οι 2 τιμές του $R^2$ συγκλίνουν προς αυτό της γραμμικής παλινδρόμησης."
   ]
  },
  {
   "cell_type": "markdown",
   "metadata": {},
   "source": [
    "#### Decision Trees Regressor"
   ]
  },
  {
   "cell_type": "code",
   "execution_count": null,
   "metadata": {},
   "outputs": [],
   "source": []
  }
 ],
 "metadata": {
  "kernelspec": {
   "display_name": "Python 3",
   "language": "python",
   "name": "python3"
  },
  "language_info": {
   "codemirror_mode": {
    "name": "ipython",
    "version": 3
   },
   "file_extension": ".py",
   "mimetype": "text/x-python",
   "name": "python",
   "nbconvert_exporter": "python",
   "pygments_lexer": "ipython3",
   "version": "3.8.5"
  }
 },
 "nbformat": 4,
 "nbformat_minor": 4
}
