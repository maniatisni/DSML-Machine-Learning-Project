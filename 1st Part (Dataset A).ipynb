{
 "cells": [
  {
   "cell_type": "markdown",
   "metadata": {},
   "source": [
    "## Ομάδα #75 \n",
    "### Νικόλαος Μανιάτης - Φίλιππος Μαυρεπής\n",
    "\n",
    "##### Datasets: S12,\tB04,\t119"
   ]
  },
  {
   "cell_type": "code",
   "execution_count": 11,
   "metadata": {
    "execution": {
     "iopub.execute_input": "2021-03-13T12:25:07.335255Z",
     "iopub.status.busy": "2021-03-13T12:25:07.334258Z",
     "iopub.status.idle": "2021-03-13T12:25:07.529396Z",
     "shell.execute_reply": "2021-03-13T12:25:07.528400Z",
     "shell.execute_reply.started": "2021-03-13T12:25:07.335255Z"
    }
   },
   "outputs": [],
   "source": [
    "import pandas as pd\n",
    "import numpy as np\n",
    "import matplotlib.pyplot as plt\n",
    "from statsmodels.stats.outliers_influence import variance_inflation_factor\n",
    "from sklearn.model_selection import train_test_split\n",
    "from sklearn.linear_model import LinearRegression,Ridge,Lasso\n",
    "from sklearn.svm import SVR\n",
    "from sklearn.tree import DecisionTreeRegressor\n",
    "from sklearn.neural_network import MLPRegressor\n",
    "from sklearn.ensemble import ExtraTreesRegressor\n",
    "import xgboost as xgb\n",
    "from xgboost import XGBRegressor\n",
    "from sklearn.model_selection import cross_val_score,KFold\n",
    "from sklearn.model_selection import GridSearchCV\n",
    "import seaborn as sns"
   ]
  },
  {
   "cell_type": "markdown",
   "metadata": {},
   "source": [
    "**Dataset Abstract**\n",
    "NASA data set, obtained from a series of aerodynamic and acoustic tests of two and three-dimensional airfoil blade sections conducted in an anechoic wind tunnel."
   ]
  },
  {
   "cell_type": "markdown",
   "metadata": {},
   "source": [
    "**Attribute Information:**\n",
    "\n",
    "This problem has the following inputs:\n",
    "1. Frequency, in Hertzs.\n",
    "2. Angle of attack, in degrees.\n",
    "3. Chord length, in meters.\n",
    "4. Free-stream velocity, in meters per second.\n",
    "5. Suction side displacement thickness, in meters.\n",
    "\n",
    "The only output is:\n",
    "6. Scaled sound pressure level, in decibels."
   ]
  },
  {
   "cell_type": "code",
   "execution_count": 2,
   "metadata": {},
   "outputs": [
    {
     "name": "stdout",
     "output_type": "stream",
     "text": [
      "(1503, 6)\n"
     ]
    },
    {
     "data": {
      "text/html": [
       "<div>\n",
       "<style scoped>\n",
       "    .dataframe tbody tr th:only-of-type {\n",
       "        vertical-align: middle;\n",
       "    }\n",
       "\n",
       "    .dataframe tbody tr th {\n",
       "        vertical-align: top;\n",
       "    }\n",
       "\n",
       "    .dataframe thead th {\n",
       "        text-align: right;\n",
       "    }\n",
       "</style>\n",
       "<table border=\"1\" class=\"dataframe\">\n",
       "  <thead>\n",
       "    <tr style=\"text-align: right;\">\n",
       "      <th></th>\n",
       "      <th>freq</th>\n",
       "      <th>angle</th>\n",
       "      <th>length</th>\n",
       "      <th>velocity</th>\n",
       "      <th>thickness</th>\n",
       "      <th>pressure</th>\n",
       "    </tr>\n",
       "  </thead>\n",
       "  <tbody>\n",
       "    <tr>\n",
       "      <th>0</th>\n",
       "      <td>800</td>\n",
       "      <td>0.0</td>\n",
       "      <td>0.3048</td>\n",
       "      <td>71.3</td>\n",
       "      <td>0.002663</td>\n",
       "      <td>126.201</td>\n",
       "    </tr>\n",
       "    <tr>\n",
       "      <th>1</th>\n",
       "      <td>1000</td>\n",
       "      <td>0.0</td>\n",
       "      <td>0.3048</td>\n",
       "      <td>71.3</td>\n",
       "      <td>0.002663</td>\n",
       "      <td>125.201</td>\n",
       "    </tr>\n",
       "    <tr>\n",
       "      <th>2</th>\n",
       "      <td>1250</td>\n",
       "      <td>0.0</td>\n",
       "      <td>0.3048</td>\n",
       "      <td>71.3</td>\n",
       "      <td>0.002663</td>\n",
       "      <td>125.951</td>\n",
       "    </tr>\n",
       "    <tr>\n",
       "      <th>3</th>\n",
       "      <td>1600</td>\n",
       "      <td>0.0</td>\n",
       "      <td>0.3048</td>\n",
       "      <td>71.3</td>\n",
       "      <td>0.002663</td>\n",
       "      <td>127.591</td>\n",
       "    </tr>\n",
       "    <tr>\n",
       "      <th>4</th>\n",
       "      <td>2000</td>\n",
       "      <td>0.0</td>\n",
       "      <td>0.3048</td>\n",
       "      <td>71.3</td>\n",
       "      <td>0.002663</td>\n",
       "      <td>127.461</td>\n",
       "    </tr>\n",
       "  </tbody>\n",
       "</table>\n",
       "</div>"
      ],
      "text/plain": [
       "   freq  angle  length  velocity  thickness  pressure\n",
       "0   800    0.0  0.3048      71.3   0.002663   126.201\n",
       "1  1000    0.0  0.3048      71.3   0.002663   125.201\n",
       "2  1250    0.0  0.3048      71.3   0.002663   125.951\n",
       "3  1600    0.0  0.3048      71.3   0.002663   127.591\n",
       "4  2000    0.0  0.3048      71.3   0.002663   127.461"
      ]
     },
     "execution_count": 2,
     "metadata": {},
     "output_type": "execute_result"
    }
   ],
   "source": [
    "features = ['freq','angle','length','velocity','thickness','pressure']\n",
    "df = pd.read_table('./datasets/airfoil_self_noise.dat',names = features )\n",
    "print(df.shape)\n",
    "df.head()"
   ]
  },
  {
   "cell_type": "code",
   "execution_count": 3,
   "metadata": {},
   "outputs": [
    {
     "data": {
      "text/plain": [
       "freq         0\n",
       "angle        0\n",
       "length       0\n",
       "velocity     0\n",
       "thickness    0\n",
       "pressure     0\n",
       "dtype: int64"
      ]
     },
     "execution_count": 3,
     "metadata": {},
     "output_type": "execute_result"
    }
   ],
   "source": [
    "df.isna().sum()"
   ]
  },
  {
   "cell_type": "code",
   "execution_count": 4,
   "metadata": {},
   "outputs": [
    {
     "data": {
      "text/html": [
       "<div>\n",
       "<style scoped>\n",
       "    .dataframe tbody tr th:only-of-type {\n",
       "        vertical-align: middle;\n",
       "    }\n",
       "\n",
       "    .dataframe tbody tr th {\n",
       "        vertical-align: top;\n",
       "    }\n",
       "\n",
       "    .dataframe thead th {\n",
       "        text-align: right;\n",
       "    }\n",
       "</style>\n",
       "<table border=\"1\" class=\"dataframe\">\n",
       "  <thead>\n",
       "    <tr style=\"text-align: right;\">\n",
       "      <th></th>\n",
       "      <th>freq</th>\n",
       "      <th>angle</th>\n",
       "      <th>length</th>\n",
       "      <th>velocity</th>\n",
       "      <th>thickness</th>\n",
       "      <th>pressure</th>\n",
       "    </tr>\n",
       "  </thead>\n",
       "  <tbody>\n",
       "    <tr>\n",
       "      <th>freq</th>\n",
       "      <td>1.000000</td>\n",
       "      <td>-0.272765</td>\n",
       "      <td>-0.003661</td>\n",
       "      <td>0.133664</td>\n",
       "      <td>-0.230107</td>\n",
       "      <td>-0.390711</td>\n",
       "    </tr>\n",
       "    <tr>\n",
       "      <th>angle</th>\n",
       "      <td>-0.272765</td>\n",
       "      <td>1.000000</td>\n",
       "      <td>-0.504868</td>\n",
       "      <td>0.058760</td>\n",
       "      <td>0.753394</td>\n",
       "      <td>-0.156108</td>\n",
       "    </tr>\n",
       "    <tr>\n",
       "      <th>length</th>\n",
       "      <td>-0.003661</td>\n",
       "      <td>-0.504868</td>\n",
       "      <td>1.000000</td>\n",
       "      <td>0.003787</td>\n",
       "      <td>-0.220842</td>\n",
       "      <td>-0.236162</td>\n",
       "    </tr>\n",
       "    <tr>\n",
       "      <th>velocity</th>\n",
       "      <td>0.133664</td>\n",
       "      <td>0.058760</td>\n",
       "      <td>0.003787</td>\n",
       "      <td>1.000000</td>\n",
       "      <td>-0.003974</td>\n",
       "      <td>0.125103</td>\n",
       "    </tr>\n",
       "    <tr>\n",
       "      <th>thickness</th>\n",
       "      <td>-0.230107</td>\n",
       "      <td>0.753394</td>\n",
       "      <td>-0.220842</td>\n",
       "      <td>-0.003974</td>\n",
       "      <td>1.000000</td>\n",
       "      <td>-0.312670</td>\n",
       "    </tr>\n",
       "    <tr>\n",
       "      <th>pressure</th>\n",
       "      <td>-0.390711</td>\n",
       "      <td>-0.156108</td>\n",
       "      <td>-0.236162</td>\n",
       "      <td>0.125103</td>\n",
       "      <td>-0.312670</td>\n",
       "      <td>1.000000</td>\n",
       "    </tr>\n",
       "  </tbody>\n",
       "</table>\n",
       "</div>"
      ],
      "text/plain": [
       "               freq     angle    length  velocity  thickness  pressure\n",
       "freq       1.000000 -0.272765 -0.003661  0.133664  -0.230107 -0.390711\n",
       "angle     -0.272765  1.000000 -0.504868  0.058760   0.753394 -0.156108\n",
       "length    -0.003661 -0.504868  1.000000  0.003787  -0.220842 -0.236162\n",
       "velocity   0.133664  0.058760  0.003787  1.000000  -0.003974  0.125103\n",
       "thickness -0.230107  0.753394 -0.220842 -0.003974   1.000000 -0.312670\n",
       "pressure  -0.390711 -0.156108 -0.236162  0.125103  -0.312670  1.000000"
      ]
     },
     "execution_count": 4,
     "metadata": {},
     "output_type": "execute_result"
    }
   ],
   "source": [
    "df.corr()"
   ]
  },
  {
   "cell_type": "code",
   "execution_count": 5,
   "metadata": {},
   "outputs": [
    {
     "data": {
      "text/plain": [
       "Index(['freq', 'angle', 'length', 'velocity', 'thickness', 'pressure'], dtype='object')"
      ]
     },
     "execution_count": 5,
     "metadata": {},
     "output_type": "execute_result"
    }
   ],
   "source": [
    "df.columns"
   ]
  },
  {
   "cell_type": "markdown",
   "metadata": {},
   "source": [
    "### Variance Inflation Factor"
   ]
  },
  {
   "cell_type": "code",
   "execution_count": 6,
   "metadata": {},
   "outputs": [
    {
     "data": {
      "text/plain": [
       "[1.942626754570521,\n",
       " 6.557489390964023,\n",
       " 3.2544472087129463,\n",
       " 7.148723394340731,\n",
       " 4.299617241817294]"
      ]
     },
     "execution_count": 6,
     "metadata": {},
     "output_type": "execute_result"
    }
   ],
   "source": [
    "# VIF dataframe \n",
    "vif_data = df.copy()\n",
    "vif_data = vif_data.drop(['pressure'],axis=1)\n",
    "# calculating VIF for each feature \n",
    "x = [variance_inflation_factor(vif_data.values, i) \n",
    "                          for i in range(len(vif_data.columns))] \n",
    "  \n",
    "x"
   ]
  },
  {
   "cell_type": "markdown",
   "metadata": {},
   "source": [
    "### Train-Test-Split our Dataset"
   ]
  },
  {
   "cell_type": "code",
   "execution_count": 4,
   "metadata": {
    "execution": {
     "iopub.execute_input": "2021-03-13T12:21:59.849091Z",
     "iopub.status.busy": "2021-03-13T12:21:59.849091Z",
     "iopub.status.idle": "2021-03-13T12:21:59.864516Z",
     "shell.execute_reply": "2021-03-13T12:21:59.863621Z",
     "shell.execute_reply.started": "2021-03-13T12:21:59.849091Z"
    }
   },
   "outputs": [],
   "source": [
    "from sklearn.model_selection import train_test_split"
   ]
  },
  {
   "cell_type": "code",
   "execution_count": 8,
   "metadata": {},
   "outputs": [],
   "source": [
    "X = df.copy()\n",
    "X = X.drop(['pressure'],axis=1)\n",
    "y = df[['pressure']]"
   ]
  },
  {
   "cell_type": "code",
   "execution_count": 9,
   "metadata": {},
   "outputs": [
    {
     "name": "stdout",
     "output_type": "stream",
     "text": [
      "X train shape: (1052, 5)\n",
      "X test shape: (451, 5)\n",
      "y train shape: (1052, 1)\n",
      "y test shape: (451, 1)\n"
     ]
    }
   ],
   "source": [
    "X_train, X_test, y_train, y_test = train_test_split(X, y, test_size=0.3, random_state=75)\n",
    "print('X train shape:',X_train.shape)\n",
    "print('X test shape:',X_test.shape)\n",
    "print('y train shape:',y_train.shape)\n",
    "print('y test shape:',y_test.shape)"
   ]
  },
  {
   "cell_type": "markdown",
   "metadata": {},
   "source": [
    "## Ordinary Least Squares ΣΟΥΛΟΥΠΩΜΑ ΕΔΩ, ΝΑ ΣΥΖΗΤΗΣΟΥΜΕ ΤΙ ΦΕΥΓΕΙ ΚΑΙ ΤΙ ΟΧΙ"
   ]
  },
  {
   "cell_type": "code",
   "execution_count": 10,
   "metadata": {},
   "outputs": [],
   "source": [
    "from sklearn.linear_model import LinearRegression"
   ]
  },
  {
   "cell_type": "code",
   "execution_count": 11,
   "metadata": {},
   "outputs": [],
   "source": [
    "reg = LinearRegression().fit(X_train, y_train)"
   ]
  },
  {
   "cell_type": "code",
   "execution_count": 12,
   "metadata": {},
   "outputs": [
    {
     "data": {
      "text/plain": [
       "0.48701529018157896"
      ]
     },
     "execution_count": 12,
     "metadata": {},
     "output_type": "execute_result"
    }
   ],
   "source": [
    "reg.score(X_test, y_test)"
   ]
  },
  {
   "cell_type": "markdown",
   "metadata": {},
   "source": [
    "#### Recursive Feature Elimination"
   ]
  },
  {
   "cell_type": "code",
   "execution_count": 13,
   "metadata": {},
   "outputs": [],
   "source": [
    "from sklearn.feature_selection import RFE"
   ]
  },
  {
   "cell_type": "code",
   "execution_count": 14,
   "metadata": {},
   "outputs": [
    {
     "name": "stdout",
     "output_type": "stream",
     "text": [
      "Fitting estimator with 5 features.\n",
      "[False  True  True  True  True]\n",
      "[2 1 1 1 1]\n"
     ]
    }
   ],
   "source": [
    "selector = RFE(reg, n_features_to_select=4, step=1,verbose=2)\n",
    "selector = selector.fit(X_train, y_train)\n",
    "print(selector.support_)\n",
    "print(selector.ranking_)"
   ]
  },
  {
   "cell_type": "markdown",
   "metadata": {},
   "source": [
    "## Polynomial Regression ΑΥΤΌ ΤΟ ΑΦΗΣΑΜΕ ΠΙΟ ΚΑΤΩ (?)"
   ]
  },
  {
   "cell_type": "code",
   "execution_count": 15,
   "metadata": {},
   "outputs": [],
   "source": [
    "from sklearn.pipeline import Pipeline\n",
    "from sklearn.preprocessing import PolynomialFeatures"
   ]
  },
  {
   "cell_type": "code",
   "execution_count": 16,
   "metadata": {},
   "outputs": [
    {
     "data": {
      "text/plain": [
       "array([[1.00000000e+00, 8.00000000e+02, 0.00000000e+00, ...,\n",
       "        5.08369000e+03, 1.89898281e-01, 7.09353976e-06],\n",
       "       [1.00000000e+00, 1.00000000e+03, 0.00000000e+00, ...,\n",
       "        5.08369000e+03, 1.89898281e-01, 7.09353976e-06],\n",
       "       [1.00000000e+00, 1.25000000e+03, 0.00000000e+00, ...,\n",
       "        5.08369000e+03, 1.89898281e-01, 7.09353976e-06],\n",
       "       ...,\n",
       "       [1.00000000e+00, 4.00000000e+03, 1.56000000e+01, ...,\n",
       "        1.56816000e+03, 2.09280852e+00, 2.79298509e-03],\n",
       "       [1.00000000e+00, 5.00000000e+03, 1.56000000e+01, ...,\n",
       "        1.56816000e+03, 2.09280852e+00, 2.79298509e-03],\n",
       "       [1.00000000e+00, 6.30000000e+03, 1.56000000e+01, ...,\n",
       "        1.56816000e+03, 2.09280852e+00, 2.79298509e-03]])"
      ]
     },
     "execution_count": 16,
     "metadata": {},
     "output_type": "execute_result"
    }
   ],
   "source": [
    "poly = PolynomialFeatures(degree=2)\n",
    "poly.fit_transform(X)"
   ]
  },
  {
   "cell_type": "code",
   "execution_count": 17,
   "metadata": {},
   "outputs": [
    {
     "data": {
      "text/plain": [
       "0.6223336446282257"
      ]
     },
     "execution_count": 17,
     "metadata": {},
     "output_type": "execute_result"
    }
   ],
   "source": [
    "model = Pipeline([('poly', PolynomialFeatures(degree=2)),\n",
    "...                   ('linear', LinearRegression(fit_intercept=False))])\n",
    "# fit to an order-3 polynomial data\n",
    "model = model.fit(X_train,y_train)\n",
    "model.named_steps['linear'].coef_\n",
    "model.score(X_test, y_test)"
   ]
  },
  {
   "cell_type": "code",
   "execution_count": 18,
   "metadata": {},
   "outputs": [
    {
     "name": "stdout",
     "output_type": "stream",
     "text": [
      "degree of polynomial = 1 and score is 0.48701529018065426\n",
      "degree of polynomial = 2 and score is 0.6223336446282257\n",
      "degree of polynomial = 3 and score is 0.7209720262016102\n"
     ]
    }
   ],
   "source": [
    "for i in range(1,4):\n",
    "    model = Pipeline([('poly', PolynomialFeatures(degree=i)),\n",
    "    ('linear', LinearRegression(fit_intercept=False))])\n",
    "    # fit to an order-3 polynomial data\n",
    "    model = model.fit(X_train,y_train)\n",
    "    model.named_steps['linear'].coef_\n",
    "    print('degree of polynomial = {} and score is {}'.format(i,model.score(X_test, y_test)))"
   ]
  },
  {
   "cell_type": "code",
   "execution_count": 5,
   "metadata": {
    "execution": {
     "iopub.execute_input": "2021-03-13T12:22:10.341391Z",
     "iopub.status.busy": "2021-03-13T12:22:10.341391Z",
     "iopub.status.idle": "2021-03-13T12:22:10.398622Z",
     "shell.execute_reply": "2021-03-13T12:22:10.397663Z",
     "shell.execute_reply.started": "2021-03-13T12:22:10.341391Z"
    }
   },
   "outputs": [
    {
     "name": "stdout",
     "output_type": "stream",
     "text": [
      "(1503, 6)\n"
     ]
    },
    {
     "data": {
      "text/html": [
       "<div>\n",
       "<style scoped>\n",
       "    .dataframe tbody tr th:only-of-type {\n",
       "        vertical-align: middle;\n",
       "    }\n",
       "\n",
       "    .dataframe tbody tr th {\n",
       "        vertical-align: top;\n",
       "    }\n",
       "\n",
       "    .dataframe thead th {\n",
       "        text-align: right;\n",
       "    }\n",
       "</style>\n",
       "<table border=\"1\" class=\"dataframe\">\n",
       "  <thead>\n",
       "    <tr style=\"text-align: right;\">\n",
       "      <th></th>\n",
       "      <th>freq</th>\n",
       "      <th>angle</th>\n",
       "      <th>length</th>\n",
       "      <th>velocity</th>\n",
       "      <th>thickness</th>\n",
       "      <th>pressure</th>\n",
       "    </tr>\n",
       "  </thead>\n",
       "  <tbody>\n",
       "    <tr>\n",
       "      <th>0</th>\n",
       "      <td>800</td>\n",
       "      <td>0.0</td>\n",
       "      <td>0.3048</td>\n",
       "      <td>71.3</td>\n",
       "      <td>0.002663</td>\n",
       "      <td>126.201</td>\n",
       "    </tr>\n",
       "    <tr>\n",
       "      <th>1</th>\n",
       "      <td>1000</td>\n",
       "      <td>0.0</td>\n",
       "      <td>0.3048</td>\n",
       "      <td>71.3</td>\n",
       "      <td>0.002663</td>\n",
       "      <td>125.201</td>\n",
       "    </tr>\n",
       "    <tr>\n",
       "      <th>2</th>\n",
       "      <td>1250</td>\n",
       "      <td>0.0</td>\n",
       "      <td>0.3048</td>\n",
       "      <td>71.3</td>\n",
       "      <td>0.002663</td>\n",
       "      <td>125.951</td>\n",
       "    </tr>\n",
       "    <tr>\n",
       "      <th>3</th>\n",
       "      <td>1600</td>\n",
       "      <td>0.0</td>\n",
       "      <td>0.3048</td>\n",
       "      <td>71.3</td>\n",
       "      <td>0.002663</td>\n",
       "      <td>127.591</td>\n",
       "    </tr>\n",
       "    <tr>\n",
       "      <th>4</th>\n",
       "      <td>2000</td>\n",
       "      <td>0.0</td>\n",
       "      <td>0.3048</td>\n",
       "      <td>71.3</td>\n",
       "      <td>0.002663</td>\n",
       "      <td>127.461</td>\n",
       "    </tr>\n",
       "  </tbody>\n",
       "</table>\n",
       "</div>"
      ],
      "text/plain": [
       "   freq  angle  length  velocity  thickness  pressure\n",
       "0   800    0.0  0.3048      71.3   0.002663   126.201\n",
       "1  1000    0.0  0.3048      71.3   0.002663   125.201\n",
       "2  1250    0.0  0.3048      71.3   0.002663   125.951\n",
       "3  1600    0.0  0.3048      71.3   0.002663   127.591\n",
       "4  2000    0.0  0.3048      71.3   0.002663   127.461"
      ]
     },
     "execution_count": 5,
     "metadata": {},
     "output_type": "execute_result"
    }
   ],
   "source": [
    "features = ['freq','angle','length','velocity','thickness','pressure']\n",
    "df = pd.read_table('./datasets/airfoil_self_noise.dat',names = features )\n",
    "print(df.shape)\n",
    "df.head()"
   ]
  },
  {
   "cell_type": "code",
   "execution_count": 6,
   "metadata": {
    "execution": {
     "iopub.execute_input": "2021-03-13T12:22:12.396694Z",
     "iopub.status.busy": "2021-03-13T12:22:12.396694Z",
     "iopub.status.idle": "2021-03-13T12:22:12.425716Z",
     "shell.execute_reply": "2021-03-13T12:22:12.424719Z",
     "shell.execute_reply.started": "2021-03-13T12:22:12.396694Z"
    }
   },
   "outputs": [],
   "source": [
    "X = df.copy()\n",
    "X = X.drop(['pressure'],axis=1)\n",
    "y = df[['pressure']]"
   ]
  },
  {
   "cell_type": "code",
   "execution_count": 7,
   "metadata": {
    "execution": {
     "iopub.execute_input": "2021-03-13T12:22:17.933422Z",
     "iopub.status.busy": "2021-03-13T12:22:17.933422Z",
     "iopub.status.idle": "2021-03-13T12:22:17.960424Z",
     "shell.execute_reply": "2021-03-13T12:22:17.959550Z",
     "shell.execute_reply.started": "2021-03-13T12:22:17.933422Z"
    }
   },
   "outputs": [],
   "source": [
    "from sklearn import preprocessing\n",
    "scaler_x = preprocessing.MinMaxScaler()\n",
    "X_scaled = scaler_x.fit_transform(X)\n",
    "scaler_y = preprocessing.MinMaxScaler()\n",
    "y_scaled = scaler_y.fit_transform(np.array(y).reshape(-1,1))\n",
    "y_scaled = y_scaled.reshape(-1)\n",
    "train_X, test_X, train_y, test_y = train_test_split(X_scaled, y_scaled, random_state=1)\n",
    "# val_y = scaler_y.inverse_transform(np.array(val_y).reshape(-1,1))"
   ]
  },
  {
   "cell_type": "code",
   "execution_count": 8,
   "metadata": {
    "execution": {
     "iopub.execute_input": "2021-03-13T12:24:44.067395Z",
     "iopub.status.busy": "2021-03-13T12:24:44.067395Z",
     "iopub.status.idle": "2021-03-13T12:24:44.078686Z",
     "shell.execute_reply": "2021-03-13T12:24:44.077459Z",
     "shell.execute_reply.started": "2021-03-13T12:24:44.067395Z"
    }
   },
   "outputs": [],
   "source": [
    "models = []\n",
    "models.append(('LR', LinearRegression()))\n",
    "models.append(('RD', Ridge()))\n",
    "models.append(('LAS', Lasso()))\n",
    "models.append(('DT', DecisionTreeRegressor(random_state=75)))\n",
    "models.append(('MLP', MLPRegressor(random_state=75)))#Default Hidden Layers\n",
    "models.append(('DMLP'), MLPRegressor(random_state=75, hidden_layer_sizes=(100,100)))#With 1 extra hidden layer, default is (100,). (Deep Multi Layer Perceptron).\n",
    "models.append(('SVR',SVR()))\n",
    "models.append(('ET',ExtraTreesRegressor(random_state=75)))\n",
    "models.append(('XGB', XGBRegressor(random_state=75)))"
   ]
  },
  {
   "cell_type": "code",
   "execution_count": 12,
   "metadata": {
    "execution": {
     "iopub.execute_input": "2021-03-13T12:26:17.951722Z",
     "iopub.status.busy": "2021-03-13T12:26:17.950743Z",
     "iopub.status.idle": "2021-03-13T12:26:17.961892Z",
     "shell.execute_reply": "2021-03-13T12:26:17.960974Z",
     "shell.execute_reply.started": "2021-03-13T12:26:17.951722Z"
    }
   },
   "outputs": [],
   "source": [
    "def compare_models(trainX,trainY,testX,testY,models):\n",
    "    print('\\nCompare Multiple Classifiers:')\n",
    "    print('\\nK-Fold Cross-Validation Accuracy:\\n')\n",
    "    \n",
    "    names = []\n",
    "    tempdf = pd.DataFrame(columns=['Name','Dataset','Score','St.Dev'])\n",
    "    for name, model in models:\n",
    "        model.fit(trainX,trainY)\n",
    "        kfold = KFold(n_splits=2,shuffle=True,random_state = 75)\n",
    "        train_accuracy_results = cross_val_score(model, trainX,trainY, cv=kfold)\n",
    "        test_accuracy_results = cross_val_score(model,testX,testY,cv=kfold)\n",
    "        tempdf = tempdf.append({'Name':name,'Dataset':'Train','Score':train_accuracy_results.mean(),\n",
    "                               'St.Dev':train_accuracy_results.std()},ignore_index=True)\n",
    "        tempdf = tempdf.append({'Name':name,'Dataset':'Test','Score':test_accuracy_results.mean(),\n",
    "                               'St.Dev':test_accuracy_results.std()},ignore_index=True)\n",
    "    print(tempdf) \n",
    "    g = sns.catplot(x = 'Name', y='Score',hue = 'Dataset',data=tempdf, kind='bar')\n",
    "    g.set_xticklabels(rotation=30)\n",
    "    plt.show()    \n",
    "    return tempdf"
   ]
  },
  {
   "cell_type": "code",
   "execution_count": 13,
   "metadata": {
    "execution": {
     "iopub.execute_input": "2021-03-13T12:26:18.134289Z",
     "iopub.status.busy": "2021-03-13T12:26:18.133288Z",
     "iopub.status.idle": "2021-03-13T12:26:21.957221Z",
     "shell.execute_reply": "2021-03-13T12:26:21.956331Z",
     "shell.execute_reply.started": "2021-03-13T12:26:18.134289Z"
    }
   },
   "outputs": [
    {
     "name": "stdout",
     "output_type": "stream",
     "text": [
      "\n",
      "Compare Multiple Classifiers:\n",
      "\n",
      "K-Fold Cross-Validation Accuracy:\n",
      "\n",
      "   Name Dataset         Score        St.Dev\n",
      "0    LR   Train  5.220069e-01  1.386776e-02\n",
      "1    LR    Test  4.134636e-01  5.838136e-03\n",
      "2    RD   Train  5.223920e-01  9.644159e-03\n",
      "3    RD    Test  4.058728e-01  2.520266e-02\n",
      "4   LAS   Train -4.150551e-09  7.837497e-11\n",
      "5   LAS    Test -2.704928e-02  4.787929e-03\n",
      "6    DT   Train  7.602865e-01  4.976846e-03\n",
      "7    DT    Test  4.679349e-01  8.720270e-02\n",
      "8   MLP   Train  6.025453e-01  7.498945e-03\n",
      "9   MLP    Test  1.481680e-01  1.235114e-01\n",
      "10  SVR   Train  7.145073e-01  1.904287e-02\n",
      "11  SVR    Test  5.754953e-01  3.654529e-04\n",
      "12   ET   Train  8.949353e-01  1.938535e-02\n",
      "13   ET    Test  7.270670e-01  2.649790e-02\n",
      "14  XGB   Train  8.924899e-01  5.571336e-03\n",
      "15  XGB    Test  7.490595e-01  2.314538e-02\n"
     ]
    },
    {
     "data": {
      "image/png": "[encoded data removed]",
      "text/plain": [
       "<Figure size 420x360 with 1 Axes>"
      ]
     },
     "metadata": {
      "needs_background": "light"
     },
     "output_type": "display_data"
    }
   ],
   "source": [
    "models_df = compare_models(train_X, train_y, test_X, test_y, models)"
   ]
  },
  {
   "cell_type": "markdown",
   "metadata": {},
   "source": [
    "About LASSO:\n",
    "It's not impossible to get an R^2 value less than 0.\n",
    "R^2 is a metric used to measure the performance of a regressor. The optimal score of R^2 metric is 1. If any regressor predicts a constant value, you should expect an R^2 score of 0 for that regressor. **But unexpectedly, you can get worse performance than that.**"
   ]
  },
  {
   "cell_type": "markdown",
   "metadata": {},
   "source": [
    "## Optimization for each regressor individually"
   ]
  },
  {
   "cell_type": "code",
   "execution_count": 84,
   "metadata": {
    "execution": {
     "iopub.execute_input": "2021-03-13T13:23:22.139451Z",
     "iopub.status.busy": "2021-03-13T13:23:22.139451Z",
     "iopub.status.idle": "2021-03-13T13:23:22.150423Z",
     "shell.execute_reply": "2021-03-13T13:23:22.149545Z",
     "shell.execute_reply.started": "2021-03-13T13:23:22.139451Z"
    }
   },
   "outputs": [],
   "source": [
    "models_opt = []"
   ]
  },
  {
   "cell_type": "markdown",
   "metadata": {},
   "source": [
    "#### 1. Linear Regression: Has to hyperparameters to optimize."
   ]
  },
  {
   "cell_type": "code",
   "execution_count": 85,
   "metadata": {
    "execution": {
     "iopub.execute_input": "2021-03-13T13:23:23.444268Z",
     "iopub.status.busy": "2021-03-13T13:23:23.444268Z",
     "iopub.status.idle": "2021-03-13T13:23:23.449276Z",
     "shell.execute_reply": "2021-03-13T13:23:23.448318Z",
     "shell.execute_reply.started": "2021-03-13T13:23:23.444268Z"
    }
   },
   "outputs": [],
   "source": [
    "LR = LinearRegression()\n",
    "models_opt.append(('LD*',LR))"
   ]
  },
  {
   "cell_type": "markdown",
   "metadata": {},
   "source": [
    "#### 2. Ridge Regression"
   ]
  },
  {
   "cell_type": "code",
   "execution_count": 86,
   "metadata": {
    "execution": {
     "iopub.execute_input": "2021-03-13T13:23:23.868642Z",
     "iopub.status.busy": "2021-03-13T13:23:23.868642Z",
     "iopub.status.idle": "2021-03-13T13:23:24.134061Z",
     "shell.execute_reply": "2021-03-13T13:23:24.133150Z",
     "shell.execute_reply.started": "2021-03-13T13:23:23.868642Z"
    }
   },
   "outputs": [
    {
     "name": "stdout",
     "output_type": "stream",
     "text": [
      "Wall time: 246 ms\n"
     ]
    },
    {
     "data": {
      "text/plain": [
       "GridSearchCV(cv=KFold(n_splits=2, random_state=75, shuffle=True),\n",
       "             estimator=Ridge(),\n",
       "             param_grid={'alpha': [0.0, 0.05, 0.1, 0.15000000000000002, 0.2,\n",
       "                                   0.25, 0.30000000000000004,\n",
       "                                   0.35000000000000003, 0.4, 0.45, 0.5, 0.55,\n",
       "                                   0.6000000000000001, 0.65, 0.7000000000000001,\n",
       "                                   0.75, 0.8, 0.8500000000000001, 0.9,\n",
       "                                   0.9500000000000001],\n",
       "                         'solver': ('svd', 'cholesky', 'lsqr')})"
      ]
     },
     "execution_count": 86,
     "metadata": {},
     "output_type": "execute_result"
    }
   ],
   "source": [
    "%%time\n",
    "Ridge_ = GridSearchCV(Ridge(), param_grid = {'alpha':[i for i in np.arange(0,1,0.05)],\\\n",
    "                                                'solver':('svd', 'cholesky', 'lsqr')},cv=KFold(n_splits=2,shuffle=True,random_state = 75))\n",
    "Ridge_.fit(train_X,train_y)"
   ]
  },
  {
   "cell_type": "code",
   "execution_count": 87,
   "metadata": {
    "execution": {
     "iopub.execute_input": "2021-03-13T13:23:24.184074Z",
     "iopub.status.busy": "2021-03-13T13:23:24.184074Z",
     "iopub.status.idle": "2021-03-13T13:23:24.195276Z",
     "shell.execute_reply": "2021-03-13T13:23:24.194275Z",
     "shell.execute_reply.started": "2021-03-13T13:23:24.184074Z"
    }
   },
   "outputs": [
    {
     "data": {
      "text/plain": [
       "Ridge(alpha=0.55, solver='lsqr')"
      ]
     },
     "execution_count": 87,
     "metadata": {},
     "output_type": "execute_result"
    }
   ],
   "source": [
    "Ridge_.best_estimator_"
   ]
  },
  {
   "cell_type": "code",
   "execution_count": 88,
   "metadata": {
    "execution": {
     "iopub.execute_input": "2021-03-13T13:23:25.470575Z",
     "iopub.status.busy": "2021-03-13T13:23:25.470575Z",
     "iopub.status.idle": "2021-03-13T13:23:25.486955Z",
     "shell.execute_reply": "2021-03-13T13:23:25.486024Z",
     "shell.execute_reply.started": "2021-03-13T13:23:25.470575Z"
    }
   },
   "outputs": [
    {
     "data": {
      "text/plain": [
       "Ridge(alpha=0.55, solver='lsqr')"
      ]
     },
     "execution_count": 88,
     "metadata": {},
     "output_type": "execute_result"
    }
   ],
   "source": [
    "Ridge_opt = Ridge(alpha=0.55, solver = 'lsqr')\n",
    "Ridge_opt.fit(train_X,train_y)"
   ]
  },
  {
   "cell_type": "code",
   "execution_count": 89,
   "metadata": {
    "execution": {
     "iopub.execute_input": "2021-03-13T13:23:27.282302Z",
     "iopub.status.busy": "2021-03-13T13:23:27.282302Z",
     "iopub.status.idle": "2021-03-13T13:23:27.300183Z",
     "shell.execute_reply": "2021-03-13T13:23:27.299231Z",
     "shell.execute_reply.started": "2021-03-13T13:23:27.282302Z"
    }
   },
   "outputs": [],
   "source": [
    "models_opt.append(('RD*',Ridge_opt))"
   ]
  },
  {
   "cell_type": "markdown",
   "metadata": {},
   "source": [
    "#### 3. Lasso Regression"
   ]
  },
  {
   "cell_type": "code",
   "execution_count": 90,
   "metadata": {
    "execution": {
     "iopub.execute_input": "2021-03-13T13:23:31.828304Z",
     "iopub.status.busy": "2021-03-13T13:23:31.828304Z",
     "iopub.status.idle": "2021-03-13T13:23:34.541873Z",
     "shell.execute_reply": "2021-03-13T13:23:34.540972Z",
     "shell.execute_reply.started": "2021-03-13T13:23:31.828304Z"
    }
   },
   "outputs": [
    {
     "name": "stdout",
     "output_type": "stream",
     "text": [
      "Wall time: 2.7 s\n"
     ]
    },
    {
     "data": {
      "text/plain": [
       "GridSearchCV(cv=KFold(n_splits=2, random_state=75, shuffle=True),\n",
       "             estimator=Lasso(),\n",
       "             param_grid={'alpha': [0.0001, 0.0002, 0.001, 0.01, 0.1, 0.2, 0.5,\n",
       "                                   0.8, 1],\n",
       "                         'max_iter': [1000, 1500, 2000, 2500, 3000, 3500, 4000,\n",
       "                                      4500, 5000, 5500, 6000, 6500, 7000, 7500,\n",
       "                                      8000, 8500, 9000, 9500],\n",
       "                         'tol': [0.01, 0.001, 0.0001, 1e-05, 1e-06, 1e-07,\n",
       "                                 1e-08]})"
      ]
     },
     "execution_count": 90,
     "metadata": {},
     "output_type": "execute_result"
    }
   ],
   "source": [
    "%%time\n",
    "Lasso_ = GridSearchCV(Lasso(), param_grid = {'alpha':[0.0001, 0.0002,0.001,0.01,0.1,0.2,0.5,0.8,1],\\\n",
    "                                            'max_iter':[k for k in np.arange(1000,10000,500)],\n",
    "                                            'tol':[1e-2,1e-3,1e-4,1e-5,1e-6,1e-7,1e-8]},cv=KFold(n_splits=2,shuffle=True,random_state = 75))\n",
    "Lasso_.fit(train_X,train_y)"
   ]
  },
  {
   "cell_type": "code",
   "execution_count": 91,
   "metadata": {
    "execution": {
     "iopub.execute_input": "2021-03-13T13:23:36.338089Z",
     "iopub.status.busy": "2021-03-13T13:23:36.338089Z",
     "iopub.status.idle": "2021-03-13T13:23:36.354084Z",
     "shell.execute_reply": "2021-03-13T13:23:36.354084Z",
     "shell.execute_reply.started": "2021-03-13T13:23:36.338089Z"
    }
   },
   "outputs": [
    {
     "data": {
      "text/plain": [
       "Lasso(alpha=0.0002, tol=0.01)"
      ]
     },
     "execution_count": 91,
     "metadata": {},
     "output_type": "execute_result"
    }
   ],
   "source": [
    "Lasso_.best_estimator_"
   ]
  },
  {
   "cell_type": "code",
   "execution_count": 93,
   "metadata": {
    "execution": {
     "iopub.execute_input": "2021-03-13T13:23:52.688385Z",
     "iopub.status.busy": "2021-03-13T13:23:52.688385Z",
     "iopub.status.idle": "2021-03-13T13:23:52.707990Z",
     "shell.execute_reply": "2021-03-13T13:23:52.707465Z",
     "shell.execute_reply.started": "2021-03-13T13:23:52.688385Z"
    }
   },
   "outputs": [
    {
     "data": {
      "text/plain": [
       "Lasso(alpha=0.0002, tol=0.01)"
      ]
     },
     "execution_count": 93,
     "metadata": {},
     "output_type": "execute_result"
    }
   ],
   "source": [
    "Lasso_opt = Lasso(alpha=0.0002,tol=0.01)\n",
    "Lasso_opt.fit(train_X,train_y)"
   ]
  },
  {
   "cell_type": "code",
   "execution_count": 94,
   "metadata": {
    "execution": {
     "iopub.execute_input": "2021-03-13T13:23:55.756471Z",
     "iopub.status.busy": "2021-03-13T13:23:55.755470Z",
     "iopub.status.idle": "2021-03-13T13:23:55.770473Z",
     "shell.execute_reply": "2021-03-13T13:23:55.769504Z",
     "shell.execute_reply.started": "2021-03-13T13:23:55.756471Z"
    }
   },
   "outputs": [],
   "source": [
    "models_opt.append(('LAS*',Lasso_opt))"
   ]
  },
  {
   "cell_type": "markdown",
   "metadata": {},
   "source": [
    "Παρατηρούμε ότι στις περιπτώσεις Ridge&Lasso Regression το γεγονός ότι $\\alpha\\rightarrow 0$, σημαίνει ότι το πρόβλημά μας τείνει σε αυτό της απλής γραμμικής παλινδρόμησης επομένως παίρνουμε τους ίδιους συντελεστές με αυτό, γιαυτό και οι 2 τιμές του $R^2$ συγκλίνουν προς αυτό της γραμμικής παλινδρόμησης."
   ]
  },
  {
   "cell_type": "markdown",
   "metadata": {},
   "source": [
    "#### 4. Decision Trees Regressor"
   ]
  },
  {
   "cell_type": "code",
   "execution_count": 95,
   "metadata": {
    "execution": {
     "iopub.execute_input": "2021-03-13T13:24:06.236799Z",
     "iopub.status.busy": "2021-03-13T13:24:06.235798Z",
     "iopub.status.idle": "2021-03-13T13:24:07.591826Z",
     "shell.execute_reply": "2021-03-13T13:24:07.591826Z",
     "shell.execute_reply.started": "2021-03-13T13:24:06.235798Z"
    }
   },
   "outputs": [
    {
     "name": "stdout",
     "output_type": "stream",
     "text": [
      "Wall time: 1.34 s\n"
     ]
    },
    {
     "data": {
      "text/plain": [
       "GridSearchCV(cv=KFold(n_splits=2, random_state=75, shuffle=True),\n",
       "             estimator=DecisionTreeRegressor(), n_jobs=-1,\n",
       "             param_grid={'criterion': ['mse', 'mae'],\n",
       "                         'max_depth': [None, 1, 2, 3, 4, 5, 6, 7, 8, 9, 10],\n",
       "                         'min_samples_leaf': range(1, 5),\n",
       "                         'min_samples_split': range(2, 10)})"
      ]
     },
     "execution_count": 95,
     "metadata": {},
     "output_type": "execute_result"
    }
   ],
   "source": [
    "%%time\n",
    "DT_ = GridSearchCV(DecisionTreeRegressor(), param_grid = {'criterion': ['mse', 'mae'],\n",
    "                                                          'max_depth': [None,1,2,3,4,5,6,7,8,9,10],\n",
    "                                                         \"min_samples_split\":range(2,10),\n",
    "                                                         \"min_samples_leaf\":range(1,5)}\n",
    "                                                          ,n_jobs = -1,cv=KFold(n_splits=2,shuffle=True,random_state = 75))\n",
    "DT_.fit(train_X, train_y)"
   ]
  },
  {
   "cell_type": "code",
   "execution_count": 96,
   "metadata": {
    "execution": {
     "iopub.execute_input": "2021-03-13T13:24:07.593797Z",
     "iopub.status.busy": "2021-03-13T13:24:07.593797Z",
     "iopub.status.idle": "2021-03-13T13:24:07.606904Z",
     "shell.execute_reply": "2021-03-13T13:24:07.606904Z",
     "shell.execute_reply.started": "2021-03-13T13:24:07.593797Z"
    }
   },
   "outputs": [
    {
     "data": {
      "text/plain": [
       "DecisionTreeRegressor(criterion='mae')"
      ]
     },
     "execution_count": 96,
     "metadata": {},
     "output_type": "execute_result"
    }
   ],
   "source": [
    "DT_.best_estimator_"
   ]
  },
  {
   "cell_type": "code",
   "execution_count": 97,
   "metadata": {
    "execution": {
     "iopub.execute_input": "2021-03-13T13:24:20.780032Z",
     "iopub.status.busy": "2021-03-13T13:24:20.780032Z",
     "iopub.status.idle": "2021-03-13T13:24:20.822976Z",
     "shell.execute_reply": "2021-03-13T13:24:20.822081Z",
     "shell.execute_reply.started": "2021-03-13T13:24:20.780032Z"
    }
   },
   "outputs": [
    {
     "data": {
      "text/plain": [
       "DecisionTreeRegressor(criterion='mae')"
      ]
     },
     "execution_count": 97,
     "metadata": {},
     "output_type": "execute_result"
    }
   ],
   "source": [
    "DT_opt = DecisionTreeRegressor(criterion='mae')\n",
    "DT_opt.fit(train_X,train_y)"
   ]
  },
  {
   "cell_type": "code",
   "execution_count": 98,
   "metadata": {
    "execution": {
     "iopub.execute_input": "2021-03-13T13:24:21.636658Z",
     "iopub.status.busy": "2021-03-13T13:24:21.636142Z",
     "iopub.status.idle": "2021-03-13T13:24:21.646790Z",
     "shell.execute_reply": "2021-03-13T13:24:21.646683Z",
     "shell.execute_reply.started": "2021-03-13T13:24:21.636658Z"
    }
   },
   "outputs": [],
   "source": [
    "models_opt.append(('DT*',DT_opt))"
   ]
  },
  {
   "cell_type": "markdown",
   "metadata": {},
   "source": [
    "**Σημείωση: καθαρίζουμε τις φακές και τις ξεπλε.........οκ εδώ απλά κάνει overfitting.**"
   ]
  },
  {
   "cell_type": "markdown",
   "metadata": {},
   "source": [
    "**5(a). Multi Layer Perceptron Regressor (no-hidden layers)**"
   ]
  },
  {
   "cell_type": "code",
   "execution_count": 75,
   "metadata": {
    "execution": {
     "iopub.execute_input": "2021-03-13T13:21:03.908509Z",
     "iopub.status.busy": "2021-03-13T13:21:03.908509Z",
     "iopub.status.idle": "2021-03-13T13:21:37.791053Z",
     "shell.execute_reply": "2021-03-13T13:21:37.790316Z",
     "shell.execute_reply.started": "2021-03-13T13:21:03.908509Z"
    }
   },
   "outputs": [
    {
     "name": "stdout",
     "output_type": "stream",
     "text": [
      "Wall time: 33.9 s\n"
     ]
    },
    {
     "data": {
      "text/plain": [
       "GridSearchCV(cv=KFold(n_splits=2, random_state=75, shuffle=True),\n",
       "             estimator=MLPRegressor(random_state=75), n_jobs=-1,\n",
       "             param_grid={'activation': ['tanh', 'relu'],\n",
       "                         'alpha': [1e-05, 0.0001, 0.001],\n",
       "                         'learning_rate': ['constant', 'adaptive'],\n",
       "                         'learning_rate_init': [0.0001, 0.001, 0.003, 0.005,\n",
       "                                                0.01],\n",
       "                         'max_iter': [100, 200, 1000],\n",
       "                         'solver': ['sgd', 'adam']})"
      ]
     },
     "execution_count": 75,
     "metadata": {},
     "output_type": "execute_result"
    }
   ],
   "source": [
    "%%time\n",
    "MLP_ = GridSearchCV(MLPRegressor(random_state=75), param_grid={'activation' : ['tanh','relu'],\n",
    "                                                'solver':['sgd','adam'],\n",
    "                                                'alpha':[1e-5,1e-4,1e-3],\n",
    "                                                'learning_rate':['constant','adaptive'],\n",
    "                                                'max_iter':[100,200,1000],\n",
    "                                                'learning_rate_init':[0.0001,0.001,0.003,0.005,0.01]},\n",
    "                                                 n_jobs = -1,cv=KFold(n_splits=2,shuffle=True,random_state = 75))\n",
    "MLP_.fit(train_X,train_y)"
   ]
  },
  {
   "cell_type": "code",
   "execution_count": 99,
   "metadata": {
    "execution": {
     "iopub.execute_input": "2021-03-13T13:24:33.275391Z",
     "iopub.status.busy": "2021-03-13T13:24:33.275391Z",
     "iopub.status.idle": "2021-03-13T13:24:33.293883Z",
     "shell.execute_reply": "2021-03-13T13:24:33.293883Z",
     "shell.execute_reply.started": "2021-03-13T13:24:33.275391Z"
    }
   },
   "outputs": [
    {
     "data": {
      "text/plain": [
       "MLPRegressor(learning_rate_init=0.01, max_iter=100, random_state=75)"
      ]
     },
     "execution_count": 99,
     "metadata": {},
     "output_type": "execute_result"
    }
   ],
   "source": [
    "MLP_.best_estimator_"
   ]
  },
  {
   "cell_type": "code",
   "execution_count": 77,
   "metadata": {
    "execution": {
     "iopub.execute_input": "2021-03-13T13:22:03.686755Z",
     "iopub.status.busy": "2021-03-13T13:22:03.685783Z",
     "iopub.status.idle": "2021-03-13T13:22:03.991446Z",
     "shell.execute_reply": "2021-03-13T13:22:03.990532Z",
     "shell.execute_reply.started": "2021-03-13T13:22:03.686755Z"
    }
   },
   "outputs": [
    {
     "data": {
      "text/plain": [
       "MLPRegressor(learning_rate_init=0.01, max_iter=100, random_state=75)"
      ]
     },
     "execution_count": 77,
     "metadata": {},
     "output_type": "execute_result"
    }
   ],
   "source": [
    "MLP_opt = MLPRegressor(random_state=75, max_iter=100,learning_rate_init=0.01)\n",
    "MLP_opt.fit(train_X,train_y)#, alpha=1e-02, learning_rate_init=0.003, max_iter=100"
   ]
  },
  {
   "cell_type": "code",
   "execution_count": 100,
   "metadata": {
    "execution": {
     "iopub.execute_input": "2021-03-13T13:24:42.890828Z",
     "iopub.status.busy": "2021-03-13T13:24:42.890828Z",
     "iopub.status.idle": "2021-03-13T13:24:42.907095Z",
     "shell.execute_reply": "2021-03-13T13:24:42.907095Z",
     "shell.execute_reply.started": "2021-03-13T13:24:42.890828Z"
    }
   },
   "outputs": [],
   "source": [
    "models_opt.append(('MLP*',MLP_opt))"
   ]
  },
  {
   "cell_type": "code",
   "execution_count": 101,
   "metadata": {
    "execution": {
     "iopub.execute_input": "2021-03-13T13:24:43.514037Z",
     "iopub.status.busy": "2021-03-13T13:24:43.514037Z",
     "iopub.status.idle": "2021-03-13T13:24:44.756284Z",
     "shell.execute_reply": "2021-03-13T13:24:44.755275Z",
     "shell.execute_reply.started": "2021-03-13T13:24:43.514037Z"
    }
   },
   "outputs": [
    {
     "name": "stdout",
     "output_type": "stream",
     "text": [
      "\n",
      "Compare Multiple Classifiers:\n",
      "\n",
      "K-Fold Cross-Validation Accuracy:\n",
      "\n",
      "   Name Dataset     Score    St.Dev\n",
      "0   LD*   Train  0.522007  0.013868\n",
      "1   LD*    Test  0.413464  0.005838\n",
      "2   RD*   Train  0.522796  0.011365\n",
      "3   RD*    Test  0.414904  0.017363\n",
      "4  LAS*   Train  0.522140  0.013903\n",
      "5  LAS*    Test  0.414883  0.009615\n",
      "6   DT*   Train  0.798497  0.008425\n",
      "7   DT*    Test  0.466647  0.104153\n",
      "8  MLP*   Train  0.617452  0.004457\n",
      "9  MLP*    Test  0.417174  0.014035\n"
     ]
    },
    {
     "data": {
      "image/png": "[encoded data removed]",
      "text/plain": [
       "<Figure size 420x360 with 1 Axes>"
      ]
     },
     "metadata": {
      "needs_background": "light"
     },
     "output_type": "display_data"
    }
   ],
   "source": [
    "compare_models(train_X,train_y,test_X,test_y,models_opt)"
   ]
  },
  {
   "cell_type": "markdown",
   "metadata": {},
   "source": [
    "**5(b). Multi Layer Perceptron (with hidden layers)**"
   ]
  },
  {
   "cell_type": "markdown",
   "metadata": {},
   "source": [
    "Εδώ κρατάμε τις βέλτιστες υπερπαραμέτρους που βρέθηκαν από το παραπάνω Grid Search και τις χρησιμοποιούμε για να κάνουμε κι'άλλο Grid Search, αυτή τη φορά μαζί με hidden layers."
   ]
  },
  {
   "cell_type": "code",
   "execution_count": 102,
   "metadata": {
    "execution": {
     "iopub.execute_input": "2021-03-13T13:27:08.400227Z",
     "iopub.status.busy": "2021-03-13T13:27:08.400227Z",
     "iopub.status.idle": "2021-03-13T13:27:42.807150Z",
     "shell.execute_reply": "2021-03-13T13:27:42.806197Z",
     "shell.execute_reply.started": "2021-03-13T13:27:08.400227Z"
    }
   },
   "outputs": [
    {
     "name": "stdout",
     "output_type": "stream",
     "text": [
      "Wall time: 34.4 s\n"
     ]
    },
    {
     "data": {
      "text/plain": [
       "GridSearchCV(cv=KFold(n_splits=2, random_state=75, shuffle=True),\n",
       "             estimator=MLPRegressor(random_state=75), n_jobs=-1,\n",
       "             param_grid={'hidden_layer_sizes': [(256, 256, 256),\n",
       "                                                (512, 256, 128), (64, 32, 8)],\n",
       "                         'learning_rate_init': [0.0001, 0.001, 0.005],\n",
       "                         'max_iter': [100, 200, 1000]})"
      ]
     },
     "execution_count": 102,
     "metadata": {},
     "output_type": "execute_result"
    }
   ],
   "source": [
    "%%time\n",
    "MLP_2 = GridSearchCV(MLPRegressor(random_state=75), \n",
    "                                 param_grid={'max_iter':[100,200,1000],'learning_rate_init':[0.0001,0.001,0.005],\n",
    "                                'hidden_layer_sizes':[(256, 256, 256),(512,256,128),(64,32,8)]},n_jobs = -1,\n",
    "                                    cv=KFold(n_splits=2,shuffle=True,random_state = 75))\n",
    "MLP_2.fit(train_X,train_y)"
   ]
  },
  {
   "cell_type": "markdown",
   "metadata": {},
   "source": [
    "Υπενθύμιση μην το ξεχάσουμε: Το hidden_layer_size = (256, 256, 256) έβγαλε το καλύτερο score, ~86.7 \\%."
   ]
  },
  {
   "cell_type": "code",
   "execution_count": 103,
   "metadata": {
    "execution": {
     "iopub.execute_input": "2021-03-13T13:27:52.234233Z",
     "iopub.status.busy": "2021-03-13T13:27:52.234233Z",
     "iopub.status.idle": "2021-03-13T13:27:52.252693Z",
     "shell.execute_reply": "2021-03-13T13:27:52.251854Z",
     "shell.execute_reply.started": "2021-03-13T13:27:52.234233Z"
    }
   },
   "outputs": [
    {
     "data": {
      "text/plain": [
       "MLPRegressor(hidden_layer_sizes=(512, 256, 128), learning_rate_init=0.005,\n",
       "             max_iter=100, random_state=75)"
      ]
     },
     "execution_count": 103,
     "metadata": {},
     "output_type": "execute_result"
    }
   ],
   "source": [
    "MLP_2.best_estimator_"
   ]
  },
  {
   "cell_type": "code",
   "execution_count": 104,
   "metadata": {
    "execution": {
     "iopub.execute_input": "2021-03-13T13:28:07.762755Z",
     "iopub.status.busy": "2021-03-13T13:28:07.762755Z",
     "iopub.status.idle": "2021-03-13T13:28:12.107027Z",
     "shell.execute_reply": "2021-03-13T13:28:12.106514Z",
     "shell.execute_reply.started": "2021-03-13T13:28:07.762755Z"
    }
   },
   "outputs": [
    {
     "data": {
      "text/plain": [
       "MLPRegressor(hidden_layer_sizes=(512, 256, 128), learning_rate_init=0.005,\n",
       "             max_iter=100, random_state=75)"
      ]
     },
     "execution_count": 104,
     "metadata": {},
     "output_type": "execute_result"
    }
   ],
   "source": [
    "MLP_2_opt = MLPRegressor(hidden_layer_sizes=(512, 256, 128), learning_rate_init=0.005,\n",
    "             max_iter=100, random_state=75)\n",
    "MLP_2_opt.fit(train_X,train_y)"
   ]
  },
  {
   "cell_type": "code",
   "execution_count": 106,
   "metadata": {
    "execution": {
     "iopub.execute_input": "2021-03-13T13:28:28.715260Z",
     "iopub.status.busy": "2021-03-13T13:28:28.715260Z",
     "iopub.status.idle": "2021-03-13T13:28:28.726147Z",
     "shell.execute_reply": "2021-03-13T13:28:28.725285Z",
     "shell.execute_reply.started": "2021-03-13T13:28:28.715260Z"
    }
   },
   "outputs": [],
   "source": [
    "models_opt.append(('MLP2*',MLP_2_opt))"
   ]
  },
  {
   "cell_type": "code",
   "execution_count": 107,
   "metadata": {
    "execution": {
     "iopub.execute_input": "2021-03-13T13:28:40.524428Z",
     "iopub.status.busy": "2021-03-13T13:28:40.523459Z",
     "iopub.status.idle": "2021-03-13T13:28:55.899013Z",
     "shell.execute_reply": "2021-03-13T13:28:55.898153Z",
     "shell.execute_reply.started": "2021-03-13T13:28:40.523459Z"
    }
   },
   "outputs": [
    {
     "name": "stdout",
     "output_type": "stream",
     "text": [
      "\n",
      "Compare Multiple Classifiers:\n",
      "\n",
      "K-Fold Cross-Validation Accuracy:\n",
      "\n",
      "     Name Dataset     Score    St.Dev\n",
      "0     LD*   Train  0.522007  0.013868\n",
      "1     LD*    Test  0.413464  0.005838\n",
      "2     RD*   Train  0.522796  0.011365\n",
      "3     RD*    Test  0.414904  0.017363\n",
      "4    LAS*   Train  0.522140  0.013903\n",
      "5    LAS*    Test  0.414883  0.009615\n",
      "6     DT*   Train  0.795010  0.006588\n",
      "7     DT*    Test  0.517652  0.077633\n",
      "8    MLP*   Train  0.617452  0.004457\n",
      "9    MLP*    Test  0.417174  0.014035\n",
      "10  MLP2*   Train  0.835268  0.023792\n",
      "11  MLP2*    Test  0.578987  0.004919\n"
     ]
    },
    {
     "data": {
      "image/png": "[encoded data removed]",
      "text/plain": [
       "<Figure size 420x360 with 1 Axes>"
      ]
     },
     "metadata": {
      "needs_background": "light"
     },
     "output_type": "display_data"
    }
   ],
   "source": [
    "compare_models(train_X,train_y,test_X,test_y,models_opt)"
   ]
  },
  {
   "cell_type": "markdown",
   "metadata": {},
   "source": [
    "**6. Support Vector Regression  (να το δούμε αυτό μπας και γίνει τίποτα)** "
   ]
  },
  {
   "cell_type": "code",
   "execution_count": null,
   "metadata": {
    "execution": {
     "iopub.execute_input": "2021-03-13T13:35:17.544690Z",
     "iopub.status.busy": "2021-03-13T13:35:17.543692Z"
    }
   },
   "outputs": [],
   "source": [
    "%%time\n",
    "param = {'kernel' : ('linear', 'poly', 'rbf'),'C' : [1,5,10],'degree' : [3,8],'coef0' : [0.01,10,0.5],'gamma' : ('auto','scale')}\n",
    "SVR_ = GridSearchCV(SVR(),param_grid = param,cv = KFold(n_splits=2,shuffle=True,random_state = 75),n_jobs=-1)\n",
    "SVR_.fit(train_X,train_y)"
   ]
  },
  {
   "cell_type": "code",
   "execution_count": null,
   "metadata": {},
   "outputs": [],
   "source": [
    "SVR_.best_estimator_"
   ]
  },
  {
   "cell_type": "code",
   "execution_count": null,
   "metadata": {},
   "outputs": [],
   "source": [
    "SVR_opt = SVR()\n",
    "SVR_opt.fit(train_X,train_y)"
   ]
  },
  {
   "cell_type": "code",
   "execution_count": null,
   "metadata": {},
   "outputs": [],
   "source": [
    "models_opt.append(('SVR*',SVR_opt))"
   ]
  },
  {
   "cell_type": "markdown",
   "metadata": {},
   "source": [
    "**7. Extra Trees Regressor**"
   ]
  },
  {
   "cell_type": "code",
   "execution_count": 61,
   "metadata": {},
   "outputs": [
    {
     "name": "stdout",
     "output_type": "stream",
     "text": [
      "Wall time: 13min 9s\n"
     ]
    },
    {
     "data": {
      "text/plain": [
       "GridSearchCV(cv=10, estimator=ExtraTreesRegressor(), n_jobs=-1,\n",
       "             param_grid={'criterion': ['mse', 'mae'], 'max_depth': range(1, 15),\n",
       "                         'min_samples_leaf': range(1, 5),\n",
       "                         'min_samples_split': range(2, 10)})"
      ]
     },
     "execution_count": 61,
     "metadata": {},
     "output_type": "execute_result"
    }
   ],
   "source": [
    "%%time\n",
    "ET_ = GridSearchCV(ExtraTreesRegressor(random_state=75), param_grid = {'criterion': ['mse', 'mae'],\n",
    "                                                          'max_depth': range(1,15),\n",
    "                                                         \"min_samples_split\":range(2,10),\n",
    "                                                         \"min_samples_leaf\":range(1,5)},\n",
    "                                                           n_jobs = -1,cv=5)\n",
    "ET_.fit(train_X, train_y)"
   ]
  },
  {
   "cell_type": "code",
   "execution_count": 87,
   "metadata": {},
   "outputs": [],
   "source": [
    "ET_.best_estimator_"
   ]
  },
  {
   "cell_type": "code",
   "execution_count": null,
   "metadata": {},
   "outputs": [],
   "source": [
    "ET_opt = ExtraTreesRegressor('best params here ')\n",
    "ET_opt.fit(train_X,train_y)"
   ]
  },
  {
   "cell_type": "code",
   "execution_count": null,
   "metadata": {},
   "outputs": [],
   "source": [
    "models_opt.append(('ET*',ET_opt))"
   ]
  },
  {
   "cell_type": "markdown",
   "metadata": {},
   "source": [
    "**8. XG Boost Regressor**"
   ]
  },
  {
   "cell_type": "code",
   "execution_count": 106,
   "metadata": {},
   "outputs": [
    {
     "name": "stdout",
     "output_type": "stream",
     "text": [
      "Wall time: 33min 15s\n"
     ]
    },
    {
     "data": {
      "text/plain": [
       "GridSearchCV(cv=10,\n",
       "             estimator=XGBRegressor(base_score=None, booster=None,\n",
       "                                    colsample_bylevel=None,\n",
       "                                    colsample_bynode=None,\n",
       "                                    colsample_bytree=None, gamma=None,\n",
       "                                    gpu_id=None, importance_type='gain',\n",
       "                                    interaction_constraints=None,\n",
       "                                    learning_rate=None, max_delta_step=None,\n",
       "                                    max_depth=None, min_child_weight=None,\n",
       "                                    missing=nan, monotone_constraints=None,\n",
       "                                    n_estimators=100, n_jobs...\n",
       "                                    num_parallel_tree=None, random_state=75,\n",
       "                                    reg_alpha=None, reg_lambda=None,\n",
       "                                    scale_pos_weight=None, subsample=None,\n",
       "                                    tree_method=None, validate_parameters=None,\n",
       "                                    verbosity=None),\n",
       "             n_jobs=-1,\n",
       "             param_grid={'colsample_bytree': [0.0, 0.1, 0.2, 0.3, 0.4],\n",
       "                         'gamma': [0.3, 0.4, 0.5], 'max_depth': [5, 6, 7],\n",
       "                         'min_child_weight': [1, 5],\n",
       "                         'n_estimators': [100, 500, 1000],\n",
       "                         'subsample': [0.6, 0.7, 0.8, 0.9, 1.0]})"
      ]
     },
     "execution_count": 106,
     "metadata": {},
     "output_type": "execute_result"
    }
   ],
   "source": [
    "%%time\n",
    "XGB_ = GridSearchCV(XGBRegressor(random_state=75,n_jobs=-1),\n",
    "                                                            param_grid  = {'min_child_weight':[1,5], \n",
    "                                                            'gamma':[i/10.0 for i in range(3,6)],  \n",
    "                                                            'subsample':[i/10.0 for i in range(6,11)],\n",
    "                                                            'colsample_bytree':[i/10.0 for i in range(0,5)], \n",
    "                                                            'max_depth': [5,6,7],\n",
    "                                                             'n_estimators':[100,500,1000]},\n",
    "                                                            n_jobs=-1,cv=10)\n",
    "XGB_.fit(train_X, train_y)"
   ]
  },
  {
   "cell_type": "code",
   "execution_count": 105,
   "metadata": {},
   "outputs": [
    {
     "data": {
      "text/plain": [
       "XGBRegressor(base_score=0.5, booster='gbtree', colsample_bylevel=1,\n",
       "             colsample_bynode=1, colsample_bytree=0.4, gamma=0.3, gpu_id=-1,\n",
       "             importance_type='gain', interaction_constraints='',\n",
       "             learning_rate=0.300000012, max_delta_step=0, max_depth=6,\n",
       "             min_child_weight=1, missing=nan, monotone_constraints='()',\n",
       "             n_estimators=100, n_jobs=-1, num_parallel_tree=1, random_state=75,\n",
       "             reg_alpha=0, reg_lambda=1, scale_pos_weight=1, subsample=0.9,\n",
       "             tree_method='exact', validate_parameters=1, verbosity=None)"
      ]
     },
     "execution_count": 105,
     "metadata": {},
     "output_type": "execute_result"
    }
   ],
   "source": [
    "XGB_.best_estimator_"
   ]
  },
  {
   "cell_type": "code",
   "execution_count": null,
   "metadata": {},
   "outputs": [],
   "source": [
    "XGB_opt = XGBRegressor('best params here ^^ ')"
   ]
  },
  {
   "cell_type": "code",
   "execution_count": null,
   "metadata": {},
   "outputs": [],
   "source": [
    "models_opt.append(('XGB*',XGB_opt))"
   ]
  },
  {
   "cell_type": "code",
   "execution_count": 108,
   "metadata": {},
   "outputs": [
    {
     "name": "stdout",
     "output_type": "stream",
     "text": [
      "\n",
      "Compare Multiple Classifiers:\n",
      "\n",
      "K-Fold Cross-Validation Accuracy:\n",
      "\n",
      "LD*: 0.521027 (0.112379)\n",
      "RD*: 0.521074 (0.111340)\n",
      "LAS*: 0.521033 (0.111738)\n",
      "DT*: 0.822833 (0.039514)\n",
      "MLP*: 0.645071 (0.113880)\n",
      "MLP2*: 0.851448 (0.048052)\n",
      "ET*: 0.938214 (0.014201)\n",
      "XGB*: 0.764351 (0.057012)\n"
     ]
    },
    {
     "data": {
      "image/png": "[encoded data removed]",
      "text/plain": [
       "<Figure size 432x288 with 1 Axes>"
      ]
     },
     "metadata": {
      "needs_background": "light"
     },
     "output_type": "display_data"
    }
   ],
   "source": [
    "compare_models(train_X, train_y, test_X, test_y, models_opt)"
   ]
  },
  {
   "cell_type": "code",
   "execution_count": null,
   "metadata": {},
   "outputs": [],
   "source": [
    "def compare_models_final(trainX,trainY,testX,testY,models,modelsopt,tempdf):\n",
    "    print('\\nCompare Multiple Classifiers:')\n",
    "    print('\\nK-Fold Cross-Validation Accuracy:\\n')\n",
    "    \n",
    "#     tempdf = pd.DataFrame(columns=['Name','Dataset','Score','St.Dev'])\n",
    "    for name, model, _,model1 in zip(models,modelsopt):\n",
    "        model1.fit(trainX,trainY)\n",
    "        kfold = KFold(n_splits=2,shuffle=True,random_state = 75)\n",
    "        train_accuracy_results = cross_val_score(model1, trainX,trainY, cv=kfold)\n",
    "        test_accuracy_results = cross_val_score(model1,testX,testY,cv=kfold)\n",
    "        tempdf = tempdf.append({'Name':name,'Dataset':'Train*','Score':train_accuracy_results.mean(),\n",
    "                               'St.Dev':train_accuracy_results.std()},ignore_index=True)\n",
    "        tempdf = tempdf.append({'Name':name,'Dataset':'Test*','Score':test_accuracy_results.mean(),\n",
    "                               'St.Dev':test_accuracy_results.std()},ignore_index=True)\n",
    "    print(tempdf) \n",
    "    g = sns.catplot(x = 'Name', y='Score',hue = 'Dataset',data=tempdf, kind='bar')\n",
    "    g.set_xticklabels(rotation=30)\n",
    "    plt.show()    \n",
    "    return"
   ]
  },
  {
   "cell_type": "code",
   "execution_count": 15,
   "metadata": {
    "execution": {
     "iopub.execute_input": "2021-03-13T12:39:16.975275Z",
     "iopub.status.busy": "2021-03-13T12:39:16.975275Z",
     "iopub.status.idle": "2021-03-13T12:39:16.997337Z",
     "shell.execute_reply": "2021-03-13T12:39:16.997337Z",
     "shell.execute_reply.started": "2021-03-13T12:39:16.975275Z"
    }
   },
   "outputs": [
    {
     "data": {
      "text/plain": [
       "[('LR', LinearRegression()),\n",
       " ('RD', Ridge()),\n",
       " ('LAS', Lasso()),\n",
       " ('DT', DecisionTreeRegressor(random_state=75)),\n",
       " ('MLP', MLPRegressor(random_state=75)),\n",
       " ('SVR', SVR()),\n",
       " ('ET', ExtraTreesRegressor(random_state=75)),\n",
       " ('XGB',\n",
       "  XGBRegressor(base_score=0.5, booster='gbtree', colsample_bylevel=1,\n",
       "               colsample_bynode=1, colsample_bytree=1, gamma=0, gpu_id=-1,\n",
       "               importance_type='gain', interaction_constraints='',\n",
       "               learning_rate=0.300000012, max_delta_step=0, max_depth=6,\n",
       "               min_child_weight=1, missing=nan, monotone_constraints='()',\n",
       "               n_estimators=100, n_jobs=12, num_parallel_tree=1, random_state=75,\n",
       "               reg_alpha=0, reg_lambda=1, scale_pos_weight=1, subsample=1,\n",
       "               tree_method='exact', validate_parameters=1, verbosity=None))]"
      ]
     },
     "execution_count": 15,
     "metadata": {},
     "output_type": "execute_result"
    }
   ],
   "source": [
    "models"
   ]
  }
 ],
 "metadata": {
  "kernelspec": {
   "display_name": "Python 3",
   "language": "python",
   "name": "python3"
  },
  "language_info": {
   "codemirror_mode": {
    "name": "ipython",
    "version": 3
   },
   "file_extension": ".py",
   "mimetype": "text/x-python",
   "name": "python",
   "nbconvert_exporter": "python",
   "pygments_lexer": "ipython3",
   "version": "3.8.5"
  }
 },
 "nbformat": 4,
 "nbformat_minor": 4
}
